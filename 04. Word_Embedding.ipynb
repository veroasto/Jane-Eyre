{
  "nbformat": 4,
  "nbformat_minor": 0,
  "metadata": {
    "colab": {
      "name": "04. Word Embedding.ipynb",
      "provenance": [],
      "collapsed_sections": []
    },
    "kernelspec": {
      "display_name": "Python 3",
      "name": "python3"
    },
    "language_info": {
      "name": "python"
    }
  },
  "cells": [
    {
      "cell_type": "code",
      "metadata": {
        "colab": {
          "base_uri": "https://localhost:8080/"
        },
        "id": "pMhOt4n0jXL6",
        "outputId": "09d9c20a-310a-4662-d432-560810d597ec"
      },
      "source": [
        "import pandas as pd\n",
        "import numpy as np\n",
        "from nltk.corpus import stopwords\n",
        "import nltk\n",
        "import re\n",
        "from sklearn.feature_extraction.text import TfidfVectorizer \n",
        "from sklearn.metrics.pairwise import cosine_similarity\n",
        "from sklearn.metrics.pairwise import euclidean_distances\n",
        "from gensim.models.doc2vec import Doc2Vec, TaggedDocument\n",
        "from nltk.tokenize import word_tokenize\n",
        "import nltk\n",
        "nltk.download('punkt')\n",
        "from nltk.tokenize import sent_tokenize, word_tokenize\n",
        "import gensim\n",
        "from scipy import spatial\n",
        "from gensim.models import Word2Vec"
      ],
      "execution_count": 1,
      "outputs": [
        {
          "output_type": "stream",
          "name": "stdout",
          "text": [
            "[nltk_data] Downloading package punkt to /root/nltk_data...\n",
            "[nltk_data]   Package punkt is already up-to-date!\n"
          ]
        }
      ]
    },
    {
      "cell_type": "code",
      "metadata": {
        "colab": {
          "base_uri": "https://localhost:8080/",
          "height": 109
        },
        "id": "7A_A4Be1jbzt",
        "outputId": "9cb155f0-ba24-4591-aacc-8382418f2a74"
      },
      "source": [
        "data= pd.read_csv('Books.csv', encoding=\"utf-8\")\n",
        "data"
      ],
      "execution_count": 2,
      "outputs": [
        {
          "output_type": "execute_result",
          "data": {
            "text/html": [
              "<div>\n",
              "<style scoped>\n",
              "    .dataframe tbody tr th:only-of-type {\n",
              "        vertical-align: middle;\n",
              "    }\n",
              "\n",
              "    .dataframe tbody tr th {\n",
              "        vertical-align: top;\n",
              "    }\n",
              "\n",
              "    .dataframe thead th {\n",
              "        text-align: right;\n",
              "    }\n",
              "</style>\n",
              "<table border=\"1\" class=\"dataframe\">\n",
              "  <thead>\n",
              "    <tr style=\"text-align: right;\">\n",
              "      <th></th>\n",
              "      <th>Unnamed: 0</th>\n",
              "      <th>_id</th>\n",
              "      <th>author</th>\n",
              "      <th>contents</th>\n",
              "      <th>publishing house</th>\n",
              "      <th>year</th>\n",
              "    </tr>\n",
              "  </thead>\n",
              "  <tbody>\n",
              "    <tr>\n",
              "      <th>0</th>\n",
              "      <td>0</td>\n",
              "      <td>Jane Eyre_Feltrinelli_pulito.txt</td>\n",
              "      <td>Charlotte Brontë</td>\n",
              "      <td>Quel giorno era impossibile uscire a passeggio...</td>\n",
              "      <td>Feltrinelli Editore</td>\n",
              "      <td>2014</td>\n",
              "    </tr>\n",
              "    <tr>\n",
              "      <th>1</th>\n",
              "      <td>1</td>\n",
              "      <td>Jane Eyre_Treves_pulito.txt</td>\n",
              "      <td>Charlotte Brontë</td>\n",
              "      <td>In quel giorno era impossibile passeggiare. La...</td>\n",
              "      <td>Fratelli Treves Editori</td>\n",
              "      <td>1904</td>\n",
              "    </tr>\n",
              "  </tbody>\n",
              "</table>\n",
              "</div>"
            ],
            "text/plain": [
              "   Unnamed: 0                               _id  ...         publishing house  year\n",
              "0           0  Jane Eyre_Feltrinelli_pulito.txt  ...      Feltrinelli Editore  2014\n",
              "1           1       Jane Eyre_Treves_pulito.txt  ...  Fratelli Treves Editori  1904\n",
              "\n",
              "[2 rows x 6 columns]"
            ]
          },
          "metadata": {},
          "execution_count": 2
        }
      ]
    },
    {
      "cell_type": "code",
      "metadata": {
        "colab": {
          "base_uri": "https://localhost:8080/",
          "height": 109
        },
        "id": "Z0-Cy0zzjjJ1",
        "outputId": "7a6e4636-b0df-43f8-f048-7a99761344d0"
      },
      "source": [
        "data['documents_cleaned']= data.apply(lambda row: nltk.sent_tokenize(row['contents']), axis=1)\n",
        "data"
      ],
      "execution_count": 3,
      "outputs": [
        {
          "output_type": "execute_result",
          "data": {
            "text/html": [
              "<div>\n",
              "<style scoped>\n",
              "    .dataframe tbody tr th:only-of-type {\n",
              "        vertical-align: middle;\n",
              "    }\n",
              "\n",
              "    .dataframe tbody tr th {\n",
              "        vertical-align: top;\n",
              "    }\n",
              "\n",
              "    .dataframe thead th {\n",
              "        text-align: right;\n",
              "    }\n",
              "</style>\n",
              "<table border=\"1\" class=\"dataframe\">\n",
              "  <thead>\n",
              "    <tr style=\"text-align: right;\">\n",
              "      <th></th>\n",
              "      <th>Unnamed: 0</th>\n",
              "      <th>_id</th>\n",
              "      <th>author</th>\n",
              "      <th>contents</th>\n",
              "      <th>publishing house</th>\n",
              "      <th>year</th>\n",
              "      <th>documents_cleaned</th>\n",
              "    </tr>\n",
              "  </thead>\n",
              "  <tbody>\n",
              "    <tr>\n",
              "      <th>0</th>\n",
              "      <td>0</td>\n",
              "      <td>Jane Eyre_Feltrinelli_pulito.txt</td>\n",
              "      <td>Charlotte Brontë</td>\n",
              "      <td>Quel giorno era impossibile uscire a passeggio...</td>\n",
              "      <td>Feltrinelli Editore</td>\n",
              "      <td>2014</td>\n",
              "      <td>[Quel giorno era impossibile uscire a passeggi...</td>\n",
              "    </tr>\n",
              "    <tr>\n",
              "      <th>1</th>\n",
              "      <td>1</td>\n",
              "      <td>Jane Eyre_Treves_pulito.txt</td>\n",
              "      <td>Charlotte Brontë</td>\n",
              "      <td>In quel giorno era impossibile passeggiare. La...</td>\n",
              "      <td>Fratelli Treves Editori</td>\n",
              "      <td>1904</td>\n",
              "      <td>[In quel giorno era impossibile passeggiare., ...</td>\n",
              "    </tr>\n",
              "  </tbody>\n",
              "</table>\n",
              "</div>"
            ],
            "text/plain": [
              "   Unnamed: 0  ...                                  documents_cleaned\n",
              "0           0  ...  [Quel giorno era impossibile uscire a passeggi...\n",
              "1           1  ...  [In quel giorno era impossibile passeggiare., ...\n",
              "\n",
              "[2 rows x 7 columns]"
            ]
          },
          "metadata": {},
          "execution_count": 3
        }
      ]
    },
    {
      "cell_type": "code",
      "metadata": {
        "id": "A8aSNOXzjXI0"
      },
      "source": [
        "import numpy as np\n",
        "documents = list(np.array(data['documents_cleaned'][0]))\n",
        "documents2 = list(np.array(data['documents_cleaned'][1]))\n",
        "\n",
        "df = pd.DataFrame(documents,columns={'text'})\n",
        "df2 = pd.DataFrame(documents2, columns={'text'})\n",
        "df3 = df.append(df2)"
      ],
      "execution_count": 4,
      "outputs": []
    },
    {
      "cell_type": "markdown",
      "metadata": {
        "id": "KPbarw_0WoES"
      },
      "source": [
        "#WORD2VEC"
      ]
    },
    {
      "cell_type": "code",
      "metadata": {
        "id": "ckoKW6_sjXFv"
      },
      "source": [
        "corpus_text = 'n'.join(data['contents'])\n",
        "data = []\n",
        "# iterate through each sentence in the file\n",
        "for i in sent_tokenize(corpus_text):\n",
        "    temp = []\n",
        "    # tokenize the sentence into words\n",
        "    for j in word_tokenize(i):\n",
        "        temp.append(j.lower())\n",
        "    data.append(temp)"
      ],
      "execution_count": 5,
      "outputs": []
    },
    {
      "cell_type": "code",
      "metadata": {
        "id": "-D366FpBjt_j"
      },
      "source": [
        "# Create CBOW model\n",
        "model1 = gensim.models.Word2Vec(data, min_count=5,\n",
        "                                 window=10,\n",
        "                                 size=50,\n",
        "                                 sample=0,\n",
        "                                 batch_words=100) \n",
        "# Create Skip Gram model\n",
        "model2 = gensim.models.Word2Vec(data, min_count = 1, size = 50, window = 5, sg = 1)"
      ],
      "execution_count": 6,
      "outputs": []
    },
    {
      "cell_type": "code",
      "metadata": {
        "id": "nm_Gc7WzqPMn"
      },
      "source": [
        "#model2.train(data, total_examples=model2.corpus_count, epochs=60, report_delay=1)"
      ],
      "execution_count": 7,
      "outputs": []
    },
    {
      "cell_type": "code",
      "metadata": {
        "colab": {
          "base_uri": "https://localhost:8080/"
        },
        "id": "JdvooJ2BKZBs",
        "outputId": "0a78b498-9194-4650-d992-29ad267c0fa3"
      },
      "source": [
        "model1.init_sims(replace=True)\n",
        "model1.wv.most_similar(positive=[\"giorno\"])"
      ],
      "execution_count": 8,
      "outputs": [
        {
          "output_type": "execute_result",
          "data": {
            "text/plain": [
              "[('momento', 0.876094400882721),\n",
              " ('grido', 0.8738731145858765),\n",
              " ('periodo', 0.8493399024009705),\n",
              " ('sapore', 0.8353150486946106),\n",
              " ('terreno', 0.8338131904602051),\n",
              " ('rumore', 0.8256413340568542),\n",
              " ('matrimonio', 0.8248665928840637),\n",
              " ('postiglione', 0.8212254643440247),\n",
              " ('mortale', 0.8203728795051575),\n",
              " ('posto', 0.8196715116500854)]"
            ]
          },
          "metadata": {},
          "execution_count": 8
        }
      ]
    },
    {
      "cell_type": "code",
      "metadata": {
        "id": "E17Q8o5wq1gh"
      },
      "source": [
        "model2.init_sims(replace=True)"
      ],
      "execution_count": 9,
      "outputs": []
    },
    {
      "cell_type": "code",
      "metadata": {
        "colab": {
          "base_uri": "https://localhost:8080/"
        },
        "id": "GTpuZBLZq5wU",
        "outputId": "8010cc53-1085-451f-d0df-ee5c6b22665e"
      },
      "source": [
        "model2.wv.most_similar(positive=[\"giorno\"])"
      ],
      "execution_count": 10,
      "outputs": [
        {
          "output_type": "execute_result",
          "data": {
            "text/plain": [
              "[('mattino', 0.8813042640686035),\n",
              " (\"un'ora\", 0.8781667351722717),\n",
              " ('pomeriggio', 0.8759865164756775),\n",
              " ('mattina', 0.8722423911094666),\n",
              " ('periodo', 0.8673176765441895),\n",
              " ('durante', 0.8646053671836853),\n",
              " ('viaggio', 0.8634263277053833),\n",
              " ('seguente', 0.863265872001648),\n",
              " ('anno', 0.8567696213722229),\n",
              " ('ascoltare', 0.8549370169639587)]"
            ]
          },
          "metadata": {},
          "execution_count": 10
        }
      ]
    },
    {
      "cell_type": "code",
      "metadata": {
        "colab": {
          "base_uri": "https://localhost:8080/"
        },
        "id": "MvTY4WRGrAqw",
        "outputId": "c77b1409-804e-4ecf-d036-64be387aa340"
      },
      "source": [
        "model2.wv.similarity('giorno','mattino')"
      ],
      "execution_count": 11,
      "outputs": [
        {
          "output_type": "execute_result",
          "data": {
            "text/plain": [
              "0.8813043"
            ]
          },
          "metadata": {},
          "execution_count": 11
        }
      ]
    },
    {
      "cell_type": "code",
      "metadata": {
        "colab": {
          "base_uri": "https://localhost:8080/"
        },
        "id": "Dcf7fpQ_jXC6",
        "outputId": "a253ef77-f85a-4d56-a7a0-afbfd23ecab3"
      },
      "source": [
        "similar = model2.wv.most_similar('mattino')\n",
        "similar"
      ],
      "execution_count": 12,
      "outputs": [
        {
          "output_type": "execute_result",
          "data": {
            "text/plain": [
              "[('pomeriggio', 0.9795013666152954),\n",
              " ('villaggio', 0.9643508791923523),\n",
              " ('buio', 0.9559431672096252),\n",
              " ('cominciò', 0.9519914388656616),\n",
              " ('viaggio', 0.9508246779441833),\n",
              " ('campanello', 0.9483917951583862),\n",
              " ('sonno', 0.9483866691589355),\n",
              " ('capo', 0.9454476833343506),\n",
              " ('paesaggio', 0.9451088905334473),\n",
              " ('suono', 0.9444425106048584)]"
            ]
          },
          "metadata": {},
          "execution_count": 12
        }
      ]
    },
    {
      "cell_type": "code",
      "metadata": {
        "colab": {
          "base_uri": "https://localhost:8080/"
        },
        "id": "Q_mXEUOxjW_q",
        "outputId": "ad21cbca-c424-468a-c1f7-36995886a5f1"
      },
      "source": [
        "model2.init_sims(replace = True)\n",
        "model2.save('word2vec_model')\n",
        "model = Word2Vec.load('word2vec_model')\n",
        "model.wv.most_similar('pomeriggio')"
      ],
      "execution_count": 13,
      "outputs": [
        {
          "output_type": "execute_result",
          "data": {
            "text/plain": [
              "[('mattino', 0.9795013666152954),\n",
              " ('campanello', 0.962501049041748),\n",
              " ('buio', 0.9547379612922668),\n",
              " ('tornò', 0.954379677772522),\n",
              " ('salotto', 0.9542637467384338),\n",
              " ('seguì', 0.9518462419509888),\n",
              " ('villaggio', 0.9514014720916748),\n",
              " ('capo', 0.9507164359092712),\n",
              " ('cominciò', 0.9506141543388367),\n",
              " ('viaggio', 0.9497316479682922)]"
            ]
          },
          "metadata": {},
          "execution_count": 13
        }
      ]
    },
    {
      "cell_type": "code",
      "metadata": {
        "colab": {
          "base_uri": "https://localhost:8080/"
        },
        "id": "1mM-gLEdj0_z",
        "outputId": "2a4c05d1-d43a-40b2-ad03-d6c757c928d2"
      },
      "source": [
        "model.wv.most_similar('mattino')"
      ],
      "execution_count": 14,
      "outputs": [
        {
          "output_type": "execute_result",
          "data": {
            "text/plain": [
              "[('pomeriggio', 0.9795013666152954),\n",
              " ('villaggio', 0.9643508791923523),\n",
              " ('buio', 0.9559431672096252),\n",
              " ('cominciò', 0.9519914984703064),\n",
              " ('viaggio', 0.9508246779441833),\n",
              " ('campanello', 0.9483917951583862),\n",
              " ('sonno', 0.9483866691589355),\n",
              " ('capo', 0.9454476833343506),\n",
              " ('paesaggio', 0.9451088905334473),\n",
              " ('suono', 0.9444427490234375)]"
            ]
          },
          "metadata": {},
          "execution_count": 14
        }
      ]
    },
    {
      "cell_type": "code",
      "metadata": {
        "colab": {
          "base_uri": "https://localhost:8080/"
        },
        "id": "YphjIUTZjW82",
        "outputId": "9bedd31c-25bc-4a42-f3fc-ddb2fb5c98ed"
      },
      "source": [
        "distance = model.wv.wmdistance(data[0],data[12])\n",
        "distance"
      ],
      "execution_count": 15,
      "outputs": [
        {
          "output_type": "execute_result",
          "data": {
            "text/plain": [
              "0.7093478444329921"
            ]
          },
          "metadata": {},
          "execution_count": 15
        }
      ]
    },
    {
      "cell_type": "code",
      "metadata": {
        "colab": {
          "base_uri": "https://localhost:8080/"
        },
        "id": "CD6Y_blls__V",
        "outputId": "c4c5c6fb-c5c9-4f56-8003-5d7644e31e2c"
      },
      "source": [
        "sentence_a = 'Quel giorno era impossibile uscire a passeggio.'\n",
        "sentence_b = 'In quel giorno era impossibile passeggiare.'\n",
        "distance = model.wv.wmdistance(sentence_a,sentence_b)\n",
        "distance"
      ],
      "execution_count": 16,
      "outputs": [
        {
          "output_type": "execute_result",
          "data": {
            "text/plain": [
              "0.04292970875905756"
            ]
          },
          "metadata": {},
          "execution_count": 16
        }
      ]
    },
    {
      "cell_type": "code",
      "metadata": {
        "colab": {
          "base_uri": "https://localhost:8080/"
        },
        "id": "VOi_4HtCsyva",
        "outputId": "f2c15d4d-fc69-4559-d11f-173abbaf5005"
      },
      "source": [
        "sentence_a = 'Ne ero contenta.'\n",
        "sentence_b = 'Ne fui felice.'\n",
        "distance = model.wv.wmdistance(sentence_a,sentence_b)\n",
        "distance"
      ],
      "execution_count": 17,
      "outputs": [
        {
          "output_type": "execute_result",
          "data": {
            "text/plain": [
              "0.4715757810708749"
            ]
          },
          "metadata": {},
          "execution_count": 17
        }
      ]
    },
    {
      "cell_type": "code",
      "metadata": {
        "colab": {
          "base_uri": "https://localhost:8080/"
        },
        "id": "aB0af3_GV0F9",
        "outputId": "437cfaa3-cef7-4319-8e47-dc2ac4e143fc"
      },
      "source": [
        "sentence_a = 'Quanto a me, mi aveva dispensata dall onere di unirmi al gruppo, dicendo che le rincresceva di dovermi tenere a distanza, ma finchÈ non avesse saputo da Bessie e visto con i suoi occhi che facevo seri sforzi per assumere un atteggiamento più socievole e adatto a una bambina scarlatta e a sinistra c erano le vetrate trasparenti che mi proteggevano, senza separarmene, da quella triste giornata di novembre.'\n",
        "sentence_b ='Ella mi aveva proibito di unirmi al loro gruppo, dicendo che deplorava la necessità in cui trovavasi di tenermi così lontana, ma che fino al momento in cui Bessie non guarentirebbe che mi studiavo di acquistare un carattere pi˘ socievole e pi˘ infantile, maniere pi˘ cortesi e qualcosa di pi˘ radioso, di più aperto, di più sincero, non poteva concedermi gli stessi privilegi che ai bambini allegri e soddisfatti.'\n",
        "\n",
        "distance = model.wv.wmdistance(sentence_a,sentence_b)\n",
        "distance"
      ],
      "execution_count": 18,
      "outputs": [
        {
          "output_type": "execute_result",
          "data": {
            "text/plain": [
              "0.15958282491764356"
            ]
          },
          "metadata": {},
          "execution_count": 18
        }
      ]
    },
    {
      "cell_type": "code",
      "metadata": {
        "colab": {
          "base_uri": "https://localhost:8080/"
        },
        "id": "QDmOde5KWIrm",
        "outputId": "c5cd869f-4123-4926-e570-94df70cce72d"
      },
      "source": [
        "sentence_a = 'Non mi sono mai piaciute le lunghe passeggiate, sopra tutto col freddo, ed era cosa penosa per me di tornar di notte con le mani e i piedi gelati, col cuore amareggiato dalle sgridate di Bessie, la bambinaia, e con lo spirito abbattuto dalla coscienza della mia inferiorità fisica di fronte a Eliza, a John e a Georgiana Reed.'\n",
        "\n",
        "sentence_b = 'Era terribile tornare a casa nel pungente freddo del crepuscolo, con mani e piedi gelati e il cuore intristito dai rimproveri di Bessie, la balia, e avvilita dalla consapevolezza della mia inferiorità fisica rispetto a Eliza, John e Georgiana Reed. '\n",
        "\n",
        "distance = model.wv.wmdistance(sentence_a,sentence_b)\n",
        "distance"
      ],
      "execution_count": 19,
      "outputs": [
        {
          "output_type": "execute_result",
          "data": {
            "text/plain": [
              "0.07314634555238063"
            ]
          },
          "metadata": {},
          "execution_count": 19
        }
      ]
    },
    {
      "cell_type": "markdown",
      "metadata": {
        "id": "7BJy0YiEWc45"
      },
      "source": [
        "#DOC2VEC"
      ]
    },
    {
      "cell_type": "code",
      "metadata": {
        "id": "kTKBxfBuWgXr"
      },
      "source": [
        "from gensim.models.doc2vec import Doc2Vec, TaggedDocument\n",
        "tagged_data = [TaggedDocument(words=word_tokenize(doc), tags=[i]) for i, doc in enumerate(df3.text)]\n",
        "model_d2v = Doc2Vec(vector_size=5, dbow_words=1, dm=0, epochs=30,  window=2, seed=1337, min_count=1, alpha=0.001, min_alpha=0.025)\n",
        "model_d2v.build_vocab(tagged_data)\n",
        "model_d2v.save('doc2vec_model')"
      ],
      "execution_count": 20,
      "outputs": []
    },
    {
      "cell_type": "code",
      "metadata": {
        "id": "4Bz1QE7psUUF"
      },
      "source": [
        "model_d2v = Doc2Vec(vector_size=5, window=2, min_count=1, workers=4)\n",
        "model_d2v.build_vocab(tagged_data)"
      ],
      "execution_count": 21,
      "outputs": []
    },
    {
      "cell_type": "code",
      "metadata": {
        "colab": {
          "base_uri": "https://localhost:8080/"
        },
        "id": "IR4N7wT7gHkv",
        "outputId": "1359167e-3d51-4325-ab51-93b5e6987a5f"
      },
      "source": [
        "tokens = 'In quel giorno era impossibile passeggiare.'\n",
        "new_vector = model_d2v.infer_vector(tokens)\n",
        "sims = model_d2v.docvecs.most_similar([new_vector]) \n",
        "sims"
      ],
      "execution_count": 22,
      "outputs": [
        {
          "output_type": "execute_result",
          "data": {
            "text/plain": [
              "[(8070, 0.9971870183944702),\n",
              " (13446, 0.9925793409347534),\n",
              " (9267, 0.9874575138092041),\n",
              " (245, 0.987050473690033),\n",
              " (19638, 0.986670196056366),\n",
              " (17626, 0.9866509437561035),\n",
              " (2214, 0.9840645790100098),\n",
              " (8470, 0.9832953810691833),\n",
              " (7285, 0.9827989339828491),\n",
              " (5705, 0.97891765832901)]"
            ]
          },
          "metadata": {},
          "execution_count": 22
        }
      ]
    },
    {
      "cell_type": "code",
      "metadata": {
        "colab": {
          "base_uri": "https://localhost:8080/"
        },
        "id": "WVvFeAB8gICy",
        "outputId": "e7d1609e-ba5b-4eaa-ad1f-e2fce146df69"
      },
      "source": [
        "tagged_data[8070]"
      ],
      "execution_count": 78,
      "outputs": [
        {
          "output_type": "execute_result",
          "data": {
            "text/plain": [
              "TaggedDocument(words=['Si', 'asciugò', 'gli', 'occhi', 'con', 'il', 'grembiule', '.'], tags=[8070])"
            ]
          },
          "metadata": {},
          "execution_count": 78
        }
      ]
    },
    {
      "cell_type": "code",
      "metadata": {
        "colab": {
          "base_uri": "https://localhost:8080/"
        },
        "id": "qg-tp1m8P3mL",
        "outputId": "8619b046-c8ef-4fce-b3fb-956f4c662969"
      },
      "source": [
        "tagged_data[13446]"
      ],
      "execution_count": 79,
      "outputs": [
        {
          "output_type": "execute_result",
          "data": {
            "text/plain": [
              "TaggedDocument(words=['Leah', 'tornò', 'subito', ',', 'seguita', 'dalla', 'signora', 'Fairfax', ',', 'che', 'mi', 'ripetè', 'la', 'storia', '.'], tags=[13446])"
            ]
          },
          "metadata": {},
          "execution_count": 79
        }
      ]
    },
    {
      "cell_type": "code",
      "metadata": {
        "colab": {
          "base_uri": "https://localhost:8080/"
        },
        "id": "c379yAcEWsTr",
        "outputId": "b98a1a51-b2ac-43b0-e406-2bfa597da3fe"
      },
      "source": [
        "tokens = 'Quel giorno era impossibile uscire a passeggio.'\n",
        "new_vector = model_d2v.infer_vector(tokens)\n",
        "sims = model_d2v.docvecs.most_similar([new_vector]) \n",
        "sims"
      ],
      "execution_count": 25,
      "outputs": [
        {
          "output_type": "execute_result",
          "data": {
            "text/plain": [
              "[(8244, 0.9931377172470093),\n",
              " (8555, 0.9898731708526611),\n",
              " (5638, 0.9792236685752869),\n",
              " (4094, 0.9789928197860718),\n",
              " (15286, 0.9755794405937195),\n",
              " (15477, 0.9746443629264832),\n",
              " (1956, 0.9731001853942871),\n",
              " (17774, 0.9714725017547607),\n",
              " (15471, 0.9699475169181824),\n",
              " (5691, 0.9676898121833801)]"
            ]
          },
          "metadata": {},
          "execution_count": 25
        }
      ]
    },
    {
      "cell_type": "code",
      "metadata": {
        "colab": {
          "base_uri": "https://localhost:8080/"
        },
        "id": "pSYWlEhwWu9-",
        "outputId": "34b45158-eced-4041-92dc-47d1c3cc6f83"
      },
      "source": [
        "tagged_data[8244]"
      ],
      "execution_count": 80,
      "outputs": [
        {
          "output_type": "execute_result",
          "data": {
            "text/plain": [
              "TaggedDocument(words=['``', 'Avrà', 'avuto', 'strane', 'disavventure', ',', 'immagino', '...', 'povera', 'vagabonda', 'pallida', 'ed', 'emaciata', '!', \"''\"], tags=[8244])"
            ]
          },
          "metadata": {},
          "execution_count": 80
        }
      ]
    },
    {
      "cell_type": "code",
      "metadata": {
        "colab": {
          "base_uri": "https://localhost:8080/"
        },
        "id": "AVnJyjVdWwaq",
        "outputId": "5372dd7e-311a-4e3f-d667-343b45d7ad23"
      },
      "source": [
        "tagged_data[8555]"
      ],
      "execution_count": 81,
      "outputs": [
        {
          "output_type": "execute_result",
          "data": {
            "text/plain": [
              "TaggedDocument(words=['Diana', 'si', 'offrì', \"d'insegnarmi\", 'il', 'tedesco', '.'], tags=[8555])"
            ]
          },
          "metadata": {},
          "execution_count": 81
        }
      ]
    },
    {
      "cell_type": "code",
      "metadata": {
        "colab": {
          "base_uri": "https://localhost:8080/"
        },
        "id": "KX7cDsfOWxxV",
        "outputId": "cc20e844-2b1c-47ef-be1e-407396be0d33"
      },
      "source": [
        "tokens = 'In quel giorno era impossibile passeggiare.'\n",
        "new_vector = model_d2v.infer_vector(tokens)\n",
        "sims = model_d2v.docvecs.most_similar([new_vector]) \n",
        "sims"
      ],
      "execution_count": 28,
      "outputs": [
        {
          "output_type": "execute_result",
          "data": {
            "text/plain": [
              "[(8070, 0.9971870183944702),\n",
              " (13446, 0.9925793409347534),\n",
              " (9267, 0.9874575138092041),\n",
              " (245, 0.987050473690033),\n",
              " (19638, 0.986670196056366),\n",
              " (17626, 0.9866509437561035),\n",
              " (2214, 0.9840645790100098),\n",
              " (8470, 0.9832953810691833),\n",
              " (7285, 0.9827989339828491),\n",
              " (5705, 0.97891765832901)]"
            ]
          },
          "metadata": {},
          "execution_count": 28
        }
      ]
    },
    {
      "cell_type": "code",
      "metadata": {
        "colab": {
          "base_uri": "https://localhost:8080/"
        },
        "id": "pkEiDflOWzbr",
        "outputId": "d1e6d2ce-69b6-4f6c-b0be-664420a23956"
      },
      "source": [
        "tagged_data[8070]"
      ],
      "execution_count": 82,
      "outputs": [
        {
          "output_type": "execute_result",
          "data": {
            "text/plain": [
              "TaggedDocument(words=['Si', 'asciugò', 'gli', 'occhi', 'con', 'il', 'grembiule', '.'], tags=[8070])"
            ]
          },
          "metadata": {},
          "execution_count": 82
        }
      ]
    },
    {
      "cell_type": "code",
      "metadata": {
        "colab": {
          "base_uri": "https://localhost:8080/"
        },
        "id": "MlOYDCCdWz2P",
        "outputId": "12968467-fed2-40b4-ad8a-885453fea9ce"
      },
      "source": [
        "sentence_a = 'Quel giorno era impossibile uscire a passeggio.'\n",
        "sentence_b = 'In quel giorno era impossibile passeggiare.'\n",
        "\n",
        "distance = model_d2v.wv.wmdistance(sentence_a,sentence_b)\n",
        "distance"
      ],
      "execution_count": 30,
      "outputs": [
        {
          "output_type": "execute_result",
          "data": {
            "text/plain": [
              "0.01030303690006517"
            ]
          },
          "metadata": {},
          "execution_count": 30
        }
      ]
    },
    {
      "cell_type": "code",
      "metadata": {
        "colab": {
          "base_uri": "https://localhost:8080/"
        },
        "id": "L0hapw9Mp15F",
        "outputId": "98cf604f-9058-4b3c-e612-9a919eaf6ea5"
      },
      "source": [
        "sentence_a = 'Ne ero contenta.'\n",
        "sentence_b = 'Ne fui felice.'\n",
        "\n",
        "distance = model_d2v.wv.wmdistance(sentence_a,sentence_b)\n",
        "distance"
      ],
      "execution_count": 86,
      "outputs": [
        {
          "output_type": "execute_result",
          "data": {
            "text/plain": [
              "0.058982812350404215"
            ]
          },
          "metadata": {},
          "execution_count": 86
        }
      ]
    },
    {
      "cell_type": "code",
      "metadata": {
        "colab": {
          "base_uri": "https://localhost:8080/"
        },
        "id": "lv3BMTpRp3aw",
        "outputId": "62c27f35-a001-47d3-e42c-db109a1b11e7"
      },
      "source": [
        "sentence_a = 'Quanto a me, mi aveva dispensata dall onere di unirmi al gruppo, dicendo che le rincresceva di dovermi tenere a distanza, ma finchÈ non avesse saputo da Bessie e visto con i suoi occhi che facevo seri sforzi per assumere un atteggiamento più socievole e adatto a una bambina scarlatta e a sinistra c erano le vetrate trasparenti che mi proteggevano, senza separarmene, da quella triste giornata di novembre.'\n",
        "sentence_b ='Ella mi aveva proibito di unirmi al loro gruppo, dicendo che deplorava la necessità in cui trovavasi di tenermi così lontana, ma che fino al momento in cui Bessie non guarentirebbe che mi studiavo di acquistare un carattere pi˘ socievole e pi˘ infantile, maniere pi˘ cortesi e qualcosa di pi˘ radioso, di più aperto, di più sincero, non poteva concedermi gli stessi privilegi che ai bambini allegri e soddisfatti.'\n",
        "\n",
        "distance = model_d2v.wv.wmdistance(sentence_a,sentence_b)\n",
        "distance"
      ],
      "execution_count": 87,
      "outputs": [
        {
          "output_type": "execute_result",
          "data": {
            "text/plain": [
              "0.03019871237199146"
            ]
          },
          "metadata": {},
          "execution_count": 87
        }
      ]
    },
    {
      "cell_type": "code",
      "metadata": {
        "colab": {
          "base_uri": "https://localhost:8080/"
        },
        "id": "NjGMWSyUp7ho",
        "outputId": "40f065cf-419f-4249-fef1-1f7820b01fe3"
      },
      "source": [
        "sentence_a = 'Non mi sono mai piaciute le lunghe passeggiate, sopra tutto col freddo, ed era cosa penosa per me di tornar di notte con le mani e i piedi gelati, col cuore amareggiato dalle sgridate di Bessie, la bambinaia, e con lo spirito abbattuto dalla coscienza della mia inferiorità fisica di fronte a Eliza, a John e a Georgiana Reed.'\n",
        "\n",
        "sentence_b = 'Era terribile tornare a casa nel pungente freddo del crepuscolo, con mani e piedi gelati e il cuore intristito dai rimproveri di Bessie, la balia, e avvilita dalla consapevolezza della mia inferiorità fisica rispetto a Eliza, John e Georgiana Reed. '\n",
        "\n",
        "distance = model_d2v.wv.wmdistance(sentence_a,sentence_b)\n",
        "distance"
      ],
      "execution_count": 88,
      "outputs": [
        {
          "output_type": "execute_result",
          "data": {
            "text/plain": [
              "0.009897180821247182"
            ]
          },
          "metadata": {},
          "execution_count": 88
        }
      ]
    },
    {
      "cell_type": "code",
      "metadata": {
        "colab": {
          "base_uri": "https://localhost:8080/"
        },
        "id": "V2iONyIwW4Fu",
        "outputId": "0d656eef-fa4c-4a42-ea04-2f53c5b3ef41"
      },
      "source": [
        "sentence_a = 'Quel giorno era impossibile uscire a passeggio.'\n",
        "sentence_b = 'In quel giorno era impossibile passeggiare.'\n",
        "new_vector_a = model_d2v.infer_vector(sentence_a)\n",
        "new_vector_b = model_d2v.infer_vector(sentence_b)\n",
        "\n",
        "cosine_similarity = np.dot(new_vector_a, new_vector_b)/(np.linalg.norm(new_vector_a)* np.linalg.norm(new_vector_b))\n",
        "cosine_similarity"
      ],
      "execution_count": 31,
      "outputs": [
        {
          "output_type": "execute_result",
          "data": {
            "text/plain": [
              "-0.12602656"
            ]
          },
          "metadata": {},
          "execution_count": 31
        }
      ]
    },
    {
      "cell_type": "code",
      "metadata": {
        "colab": {
          "base_uri": "https://localhost:8080/"
        },
        "id": "Qx66UvwZSIlM",
        "outputId": "2204fe70-74c5-41c0-9d10-59349c144aa1"
      },
      "source": [
        "score = model_d2v.docvecs.most_similar([model_d2v.infer_vector(data[0])],topn=20)\n",
        "score"
      ],
      "execution_count": 32,
      "outputs": [
        {
          "output_type": "execute_result",
          "data": {
            "text/plain": [
              "[(5521, 0.9973555207252502),\n",
              " (18697, 0.9838452339172363),\n",
              " (3298, 0.9830261468887329),\n",
              " (9402, 0.976330578327179),\n",
              " (4918, 0.9757598638534546),\n",
              " (14006, 0.9753888845443726),\n",
              " (15897, 0.9729633927345276),\n",
              " (16999, 0.9718747138977051),\n",
              " (3386, 0.9700525403022766),\n",
              " (12091, 0.9691222906112671),\n",
              " (7548, 0.9671382904052734),\n",
              " (5158, 0.9650741219520569),\n",
              " (10745, 0.9649518132209778),\n",
              " (18784, 0.9649115800857544),\n",
              " (8516, 0.9643202424049377),\n",
              " (105, 0.961357593536377),\n",
              " (9988, 0.96097332239151),\n",
              " (6575, 0.9593194127082825),\n",
              " (1737, 0.9580193161964417),\n",
              " (13467, 0.9576738476753235)]"
            ]
          },
          "metadata": {},
          "execution_count": 32
        }
      ]
    },
    {
      "cell_type": "code",
      "metadata": {
        "colab": {
          "base_uri": "https://localhost:8080/"
        },
        "id": "7F4YsnhKTBhj",
        "outputId": "4e4d7ce3-db33-45f2-e275-69b6faa13ef5"
      },
      "source": [
        "tagged_data[12100]"
      ],
      "execution_count": 33,
      "outputs": [
        {
          "output_type": "execute_result",
          "data": {
            "text/plain": [
              "TaggedDocument(words=['Il', 'dopopranzo', 'trascorse', 'nella', 'pace', 'e', \"nell'armonia\", '.'], tags=[12100])"
            ]
          },
          "metadata": {},
          "execution_count": 33
        }
      ]
    },
    {
      "cell_type": "code",
      "metadata": {
        "colab": {
          "base_uri": "https://localhost:8080/"
        },
        "id": "cQtaMfCQwnA2",
        "outputId": "90e6709d-3f1e-4b1d-a997-039d3ea517a6"
      },
      "source": [
        "import numpy as np\n",
        "def cos_sim(a, b):\n",
        "  dot_product = np.dot(a, b)\n",
        "  norm_a = np.linalg.norm(a)\n",
        "  norm_b = np.linalg.norm(b)\n",
        "  return dot_product / (norm_a * norm_b)\n",
        "\n",
        "\n",
        "print(cos_sim(new_vector_a,new_vector_b))"
      ],
      "execution_count": 34,
      "outputs": [
        {
          "output_type": "stream",
          "name": "stdout",
          "text": [
            "-0.12602656\n"
          ]
        }
      ]
    },
    {
      "cell_type": "code",
      "metadata": {
        "colab": {
          "base_uri": "https://localhost:8080/"
        },
        "id": "RZXAI4nCXCkN",
        "outputId": "39ef5a1e-e12c-4aab-c8f2-b2cf08c9e6bf"
      },
      "source": [
        "cos_distance = spatial.distance.cosine(new_vector_a, new_vector_b)\n",
        "cos_distance"
      ],
      "execution_count": 35,
      "outputs": [
        {
          "output_type": "execute_result",
          "data": {
            "text/plain": [
              "1.1260265707969666"
            ]
          },
          "metadata": {},
          "execution_count": 35
        }
      ]
    },
    {
      "cell_type": "code",
      "metadata": {
        "colab": {
          "base_uri": "https://localhost:8080/"
        },
        "id": "aHdiAy-SXD8i",
        "outputId": "52e26dc5-6c1d-436a-91e3-cb86ba06e6b9"
      },
      "source": [
        "#Euclidean similarity\n",
        "euclidean_similarity = 1 / (1 + (np.linalg.norm(new_vector_a-new_vector_b)))\n",
        "euclidean_similarity"
      ],
      "execution_count": 36,
      "outputs": [
        {
          "output_type": "execute_result",
          "data": {
            "text/plain": [
              "0.8262653249972245"
            ]
          },
          "metadata": {},
          "execution_count": 36
        }
      ]
    },
    {
      "cell_type": "markdown",
      "metadata": {
        "id": "b6zulvInXRvw"
      },
      "source": [
        "#SENT2VEC"
      ]
    },
    {
      "cell_type": "code",
      "metadata": {
        "colab": {
          "base_uri": "https://localhost:8080/"
        },
        "id": "JFMt7-FHWsNW",
        "outputId": "82562e83-5b6a-40fe-bf5b-3302c1bee4f4"
      },
      "source": [
        "!pip install bert\n",
        "!pip install pytorch_pretrained_bert\n",
        "!pip install sent2vec\n",
        "!pip install sentence_transformers"
      ],
      "execution_count": 37,
      "outputs": [
        {
          "output_type": "stream",
          "name": "stdout",
          "text": [
            "Requirement already satisfied: bert in /usr/local/lib/python3.7/dist-packages (2.2.0)\n",
            "Requirement already satisfied: erlastic in /usr/local/lib/python3.7/dist-packages (from bert) (2.0.0)\n",
            "Requirement already satisfied: pytorch_pretrained_bert in /usr/local/lib/python3.7/dist-packages (0.6.2)\n",
            "Requirement already satisfied: torch>=0.4.1 in /usr/local/lib/python3.7/dist-packages (from pytorch_pretrained_bert) (1.9.0+cu111)\n",
            "Requirement already satisfied: requests in /usr/local/lib/python3.7/dist-packages (from pytorch_pretrained_bert) (2.23.0)\n",
            "Requirement already satisfied: numpy in /usr/local/lib/python3.7/dist-packages (from pytorch_pretrained_bert) (1.19.5)\n",
            "Requirement already satisfied: tqdm in /usr/local/lib/python3.7/dist-packages (from pytorch_pretrained_bert) (4.62.3)\n",
            "Requirement already satisfied: regex in /usr/local/lib/python3.7/dist-packages (from pytorch_pretrained_bert) (2019.12.20)\n",
            "Requirement already satisfied: boto3 in /usr/local/lib/python3.7/dist-packages (from pytorch_pretrained_bert) (1.19.4)\n",
            "Requirement already satisfied: typing-extensions in /usr/local/lib/python3.7/dist-packages (from torch>=0.4.1->pytorch_pretrained_bert) (3.7.4.3)\n",
            "Requirement already satisfied: jmespath<1.0.0,>=0.7.1 in /usr/local/lib/python3.7/dist-packages (from boto3->pytorch_pretrained_bert) (0.10.0)\n",
            "Requirement already satisfied: botocore<1.23.0,>=1.22.4 in /usr/local/lib/python3.7/dist-packages (from boto3->pytorch_pretrained_bert) (1.22.4)\n",
            "Requirement already satisfied: s3transfer<0.6.0,>=0.5.0 in /usr/local/lib/python3.7/dist-packages (from boto3->pytorch_pretrained_bert) (0.5.0)\n",
            "Requirement already satisfied: urllib3<1.27,>=1.25.4 in /usr/local/lib/python3.7/dist-packages (from botocore<1.23.0,>=1.22.4->boto3->pytorch_pretrained_bert) (1.25.11)\n",
            "Requirement already satisfied: python-dateutil<3.0.0,>=2.1 in /usr/local/lib/python3.7/dist-packages (from botocore<1.23.0,>=1.22.4->boto3->pytorch_pretrained_bert) (2.8.2)\n",
            "Requirement already satisfied: six>=1.5 in /usr/local/lib/python3.7/dist-packages (from python-dateutil<3.0.0,>=2.1->botocore<1.23.0,>=1.22.4->boto3->pytorch_pretrained_bert) (1.15.0)\n",
            "Requirement already satisfied: certifi>=2017.4.17 in /usr/local/lib/python3.7/dist-packages (from requests->pytorch_pretrained_bert) (2021.5.30)\n",
            "Requirement already satisfied: chardet<4,>=3.0.2 in /usr/local/lib/python3.7/dist-packages (from requests->pytorch_pretrained_bert) (3.0.4)\n",
            "Requirement already satisfied: idna<3,>=2.5 in /usr/local/lib/python3.7/dist-packages (from requests->pytorch_pretrained_bert) (2.10)\n",
            "Requirement already satisfied: sent2vec in /usr/local/lib/python3.7/dist-packages (0.2.2)\n",
            "Requirement already satisfied: spacy in /usr/local/lib/python3.7/dist-packages (from sent2vec) (2.2.4)\n",
            "Requirement already satisfied: transformers in /usr/local/lib/python3.7/dist-packages (from sent2vec) (4.11.3)\n",
            "Requirement already satisfied: torch in /usr/local/lib/python3.7/dist-packages (from sent2vec) (1.9.0+cu111)\n",
            "Requirement already satisfied: gensim in /usr/local/lib/python3.7/dist-packages (from sent2vec) (3.6.0)\n",
            "Requirement already satisfied: numpy in /usr/local/lib/python3.7/dist-packages (from sent2vec) (1.19.5)\n",
            "Requirement already satisfied: smart-open>=1.2.1 in /usr/local/lib/python3.7/dist-packages (from gensim->sent2vec) (5.2.1)\n",
            "Requirement already satisfied: six>=1.5.0 in /usr/local/lib/python3.7/dist-packages (from gensim->sent2vec) (1.15.0)\n",
            "Requirement already satisfied: scipy>=0.18.1 in /usr/local/lib/python3.7/dist-packages (from gensim->sent2vec) (1.4.1)\n",
            "Requirement already satisfied: plac<1.2.0,>=0.9.6 in /usr/local/lib/python3.7/dist-packages (from spacy->sent2vec) (1.1.3)\n",
            "Requirement already satisfied: preshed<3.1.0,>=3.0.2 in /usr/local/lib/python3.7/dist-packages (from spacy->sent2vec) (3.0.5)\n",
            "Requirement already satisfied: murmurhash<1.1.0,>=0.28.0 in /usr/local/lib/python3.7/dist-packages (from spacy->sent2vec) (1.0.5)\n",
            "Requirement already satisfied: srsly<1.1.0,>=1.0.2 in /usr/local/lib/python3.7/dist-packages (from spacy->sent2vec) (1.0.5)\n",
            "Requirement already satisfied: blis<0.5.0,>=0.4.0 in /usr/local/lib/python3.7/dist-packages (from spacy->sent2vec) (0.4.1)\n",
            "Requirement already satisfied: cymem<2.1.0,>=2.0.2 in /usr/local/lib/python3.7/dist-packages (from spacy->sent2vec) (2.0.5)\n",
            "Requirement already satisfied: wasabi<1.1.0,>=0.4.0 in /usr/local/lib/python3.7/dist-packages (from spacy->sent2vec) (0.8.2)\n",
            "Requirement already satisfied: setuptools in /usr/local/lib/python3.7/dist-packages (from spacy->sent2vec) (57.4.0)\n",
            "Requirement already satisfied: thinc==7.4.0 in /usr/local/lib/python3.7/dist-packages (from spacy->sent2vec) (7.4.0)\n",
            "Requirement already satisfied: requests<3.0.0,>=2.13.0 in /usr/local/lib/python3.7/dist-packages (from spacy->sent2vec) (2.23.0)\n",
            "Requirement already satisfied: catalogue<1.1.0,>=0.0.7 in /usr/local/lib/python3.7/dist-packages (from spacy->sent2vec) (1.0.0)\n",
            "Requirement already satisfied: tqdm<5.0.0,>=4.38.0 in /usr/local/lib/python3.7/dist-packages (from spacy->sent2vec) (4.62.3)\n",
            "Requirement already satisfied: importlib-metadata>=0.20 in /usr/local/lib/python3.7/dist-packages (from catalogue<1.1.0,>=0.0.7->spacy->sent2vec) (4.8.1)\n",
            "Requirement already satisfied: typing-extensions>=3.6.4 in /usr/local/lib/python3.7/dist-packages (from importlib-metadata>=0.20->catalogue<1.1.0,>=0.0.7->spacy->sent2vec) (3.7.4.3)\n",
            "Requirement already satisfied: zipp>=0.5 in /usr/local/lib/python3.7/dist-packages (from importlib-metadata>=0.20->catalogue<1.1.0,>=0.0.7->spacy->sent2vec) (3.6.0)\n",
            "Requirement already satisfied: idna<3,>=2.5 in /usr/local/lib/python3.7/dist-packages (from requests<3.0.0,>=2.13.0->spacy->sent2vec) (2.10)\n",
            "Requirement already satisfied: certifi>=2017.4.17 in /usr/local/lib/python3.7/dist-packages (from requests<3.0.0,>=2.13.0->spacy->sent2vec) (2021.5.30)\n",
            "Requirement already satisfied: urllib3!=1.25.0,!=1.25.1,<1.26,>=1.21.1 in /usr/local/lib/python3.7/dist-packages (from requests<3.0.0,>=2.13.0->spacy->sent2vec) (1.25.11)\n",
            "Requirement already satisfied: chardet<4,>=3.0.2 in /usr/local/lib/python3.7/dist-packages (from requests<3.0.0,>=2.13.0->spacy->sent2vec) (3.0.4)\n",
            "Requirement already satisfied: regex!=2019.12.17 in /usr/local/lib/python3.7/dist-packages (from transformers->sent2vec) (2019.12.20)\n",
            "Requirement already satisfied: huggingface-hub>=0.0.17 in /usr/local/lib/python3.7/dist-packages (from transformers->sent2vec) (0.0.19)\n",
            "Requirement already satisfied: filelock in /usr/local/lib/python3.7/dist-packages (from transformers->sent2vec) (3.3.0)\n",
            "Requirement already satisfied: tokenizers<0.11,>=0.10.1 in /usr/local/lib/python3.7/dist-packages (from transformers->sent2vec) (0.10.3)\n",
            "Requirement already satisfied: packaging>=20.0 in /usr/local/lib/python3.7/dist-packages (from transformers->sent2vec) (21.0)\n",
            "Requirement already satisfied: pyyaml>=5.1 in /usr/local/lib/python3.7/dist-packages (from transformers->sent2vec) (6.0)\n",
            "Requirement already satisfied: sacremoses in /usr/local/lib/python3.7/dist-packages (from transformers->sent2vec) (0.0.46)\n",
            "Requirement already satisfied: pyparsing>=2.0.2 in /usr/local/lib/python3.7/dist-packages (from packaging>=20.0->transformers->sent2vec) (2.4.7)\n",
            "Requirement already satisfied: click in /usr/local/lib/python3.7/dist-packages (from sacremoses->transformers->sent2vec) (7.1.2)\n",
            "Requirement already satisfied: joblib in /usr/local/lib/python3.7/dist-packages (from sacremoses->transformers->sent2vec) (1.0.1)\n",
            "Requirement already satisfied: sentence_transformers in /usr/local/lib/python3.7/dist-packages (2.1.0)\n",
            "Requirement already satisfied: scipy in /usr/local/lib/python3.7/dist-packages (from sentence_transformers) (1.4.1)\n",
            "Requirement already satisfied: torchvision in /usr/local/lib/python3.7/dist-packages (from sentence_transformers) (0.10.0+cu111)\n",
            "Requirement already satisfied: tqdm in /usr/local/lib/python3.7/dist-packages (from sentence_transformers) (4.62.3)\n",
            "Requirement already satisfied: tokenizers>=0.10.3 in /usr/local/lib/python3.7/dist-packages (from sentence_transformers) (0.10.3)\n",
            "Requirement already satisfied: nltk in /usr/local/lib/python3.7/dist-packages (from sentence_transformers) (3.2.5)\n",
            "Requirement already satisfied: torch>=1.6.0 in /usr/local/lib/python3.7/dist-packages (from sentence_transformers) (1.9.0+cu111)\n",
            "Requirement already satisfied: scikit-learn in /usr/local/lib/python3.7/dist-packages (from sentence_transformers) (0.22.2.post1)\n",
            "Requirement already satisfied: huggingface-hub in /usr/local/lib/python3.7/dist-packages (from sentence_transformers) (0.0.19)\n",
            "Requirement already satisfied: transformers<5.0.0,>=4.6.0 in /usr/local/lib/python3.7/dist-packages (from sentence_transformers) (4.11.3)\n",
            "Requirement already satisfied: sentencepiece in /usr/local/lib/python3.7/dist-packages (from sentence_transformers) (0.1.96)\n",
            "Requirement already satisfied: numpy in /usr/local/lib/python3.7/dist-packages (from sentence_transformers) (1.19.5)\n",
            "Requirement already satisfied: typing-extensions in /usr/local/lib/python3.7/dist-packages (from torch>=1.6.0->sentence_transformers) (3.7.4.3)\n",
            "Requirement already satisfied: importlib-metadata in /usr/local/lib/python3.7/dist-packages (from transformers<5.0.0,>=4.6.0->sentence_transformers) (4.8.1)\n",
            "Requirement already satisfied: packaging>=20.0 in /usr/local/lib/python3.7/dist-packages (from transformers<5.0.0,>=4.6.0->sentence_transformers) (21.0)\n",
            "Requirement already satisfied: requests in /usr/local/lib/python3.7/dist-packages (from transformers<5.0.0,>=4.6.0->sentence_transformers) (2.23.0)\n",
            "Requirement already satisfied: regex!=2019.12.17 in /usr/local/lib/python3.7/dist-packages (from transformers<5.0.0,>=4.6.0->sentence_transformers) (2019.12.20)\n",
            "Requirement already satisfied: sacremoses in /usr/local/lib/python3.7/dist-packages (from transformers<5.0.0,>=4.6.0->sentence_transformers) (0.0.46)\n",
            "Requirement already satisfied: filelock in /usr/local/lib/python3.7/dist-packages (from transformers<5.0.0,>=4.6.0->sentence_transformers) (3.3.0)\n",
            "Requirement already satisfied: pyyaml>=5.1 in /usr/local/lib/python3.7/dist-packages (from transformers<5.0.0,>=4.6.0->sentence_transformers) (6.0)\n",
            "Requirement already satisfied: pyparsing>=2.0.2 in /usr/local/lib/python3.7/dist-packages (from packaging>=20.0->transformers<5.0.0,>=4.6.0->sentence_transformers) (2.4.7)\n",
            "Requirement already satisfied: zipp>=0.5 in /usr/local/lib/python3.7/dist-packages (from importlib-metadata->transformers<5.0.0,>=4.6.0->sentence_transformers) (3.6.0)\n",
            "Requirement already satisfied: six in /usr/local/lib/python3.7/dist-packages (from nltk->sentence_transformers) (1.15.0)\n",
            "Requirement already satisfied: certifi>=2017.4.17 in /usr/local/lib/python3.7/dist-packages (from requests->transformers<5.0.0,>=4.6.0->sentence_transformers) (2021.5.30)\n",
            "Requirement already satisfied: urllib3!=1.25.0,!=1.25.1,<1.26,>=1.21.1 in /usr/local/lib/python3.7/dist-packages (from requests->transformers<5.0.0,>=4.6.0->sentence_transformers) (1.25.11)\n",
            "Requirement already satisfied: chardet<4,>=3.0.2 in /usr/local/lib/python3.7/dist-packages (from requests->transformers<5.0.0,>=4.6.0->sentence_transformers) (3.0.4)\n",
            "Requirement already satisfied: idna<3,>=2.5 in /usr/local/lib/python3.7/dist-packages (from requests->transformers<5.0.0,>=4.6.0->sentence_transformers) (2.10)\n",
            "Requirement already satisfied: click in /usr/local/lib/python3.7/dist-packages (from sacremoses->transformers<5.0.0,>=4.6.0->sentence_transformers) (7.1.2)\n",
            "Requirement already satisfied: joblib in /usr/local/lib/python3.7/dist-packages (from sacremoses->transformers<5.0.0,>=4.6.0->sentence_transformers) (1.0.1)\n",
            "Requirement already satisfied: pillow>=5.3.0 in /usr/local/lib/python3.7/dist-packages (from torchvision->sentence_transformers) (7.1.2)\n"
          ]
        }
      ]
    },
    {
      "cell_type": "code",
      "metadata": {
        "id": "uy_jexTF2Fj1"
      },
      "source": [
        ""
      ],
      "execution_count": 37,
      "outputs": []
    },
    {
      "cell_type": "code",
      "metadata": {
        "id": "NwPpy1qN14ak"
      },
      "source": [
        "import tensorflow as tf\n",
        "import tensorflow as tf\n",
        "import tensorflow_hub as hub\n",
        "from tensorflow.keras import layers\n",
        "import bert\n",
        "import torch\n",
        "from torch.utils.data import TensorDataset, DataLoader, RandomSampler, SequentialSampler\n",
        "from keras.preprocessing.sequence import pad_sequences\n",
        "from sklearn.model_selection import train_test_split\n",
        "from pytorch_pretrained_bert import BertTokenizer, BertConfig\n",
        "from pytorch_pretrained_bert import BertAdam, BertForSequenceClassification\n",
        "from tqdm import tqdm, trange\n",
        "import pandas as pd\n",
        "import io\n",
        "import random\n",
        "import numpy as np\n",
        "import matplotlib.pyplot as plt\n",
        "import math\n"
      ],
      "execution_count": 38,
      "outputs": []
    },
    {
      "cell_type": "code",
      "metadata": {
        "id": "zZPcWUxXX0Sq"
      },
      "source": [
        "from sentence_transformers import SentenceTransformer, util\n",
        "#model = SentenceTransformer('multi-qa-MiniLM-L6-cos-v1')\n",
        "model = SentenceTransformer('distiluse-base-multilingual-cased')"
      ],
      "execution_count": 39,
      "outputs": []
    },
    {
      "cell_type": "code",
      "metadata": {
        "id": "t-g9I5xWzYPv"
      },
      "source": [
        "# Two lists of sentences\n",
        "sentences1 = documents\n",
        "\n",
        "sentences2 = documents2\n",
        "\n",
        "#Compute embedding for both lists\n",
        "embeddings1 = model.encode(sentences1, convert_to_tensor=True)\n",
        "embeddings2 = model.encode(sentences2, convert_to_tensor=True)\n",
        "\n",
        "#Compute cosine-similarits\n",
        "cosine_scores = util.pytorch_cos_sim(embeddings1, embeddings2)"
      ],
      "execution_count": 40,
      "outputs": []
    },
    {
      "cell_type": "code",
      "metadata": {
        "colab": {
          "base_uri": "https://localhost:8080/"
        },
        "id": "x9ewATX-zbm5",
        "outputId": "09d5529c-bd93-4583-91ed-fa3b839c1ce4"
      },
      "source": [
        "#Output the pairs with their score\n",
        "for i in range(len(sentences1[:30])):\n",
        "      print(\"{} \\t\\t {} \\t\\t Score: {:.4f}\".format(sentences1[0], sentences2[i], cosine_scores[i][i]))"
      ],
      "execution_count": 41,
      "outputs": [
        {
          "output_type": "stream",
          "name": "stdout",
          "text": [
            "Quel giorno era impossibile uscire a passeggio. \t\t In quel giorno era impossibile passeggiare. \t\t Score: 0.9490\n",
            "Quel giorno era impossibile uscire a passeggio. \t\t La mattina avevamo errato per un'ora nel boschetto spogliato di foglie, ma dopo pranzo (quando non vi erano invitati, la signora Reed desinava presto), il vento gelato d'inverno aveva portato seco nubi così scure e una pioggia così penetrante, che non si poteva pensare a nessuna escursione. \t\t Score: 0.8784\n",
            "Quel giorno era impossibile uscire a passeggio. \t\t Ne ero contenta. \t\t Score: 0.9129\n",
            "Quel giorno era impossibile uscire a passeggio. \t\t Non mi sono mai piaciute le lunghe passeggiate, sopra tutto col freddo, ed era cosa penosa per me di tornar di notte con le mani e i piedi gelati, col cuore amareggiato dalle sgridate di Bessie, la bambinaia, e con lo spirito abbattuto dalla coscienza della mia inferiorità fisica di fronte a Eliza, a John e a Georgiana Reed. \t\t Score: 0.3790\n",
            "Quel giorno era impossibile uscire a passeggio. \t\t Eliza, John e Georgiana erano aggruppati in salotto attorno alla loro mamma; questa, sdraiata sul sofà accanto al fuoco e circondata dai suoi bambini, che in quel momento non questionavano fra loro né piangevano, pareva perfettamente felice. \t\t Score: 0.3728\n",
            "Quel giorno era impossibile uscire a passeggio. \t\t Ella mi aveva proibito di unirmi al loro gruppo, dicendo che deplorava la necessità in cui trovavasi di tenermi così lontana, ma che fino al momento in cui Bessie non guarentirebbe che mi studiavo di acquistare un carattere più socievole e più infantile, maniere più cortesi e qualcosa di più radioso, di più aperto, di più sincero, non poteva concedermi gli stessi privilegi che ai bambini allegri e soddisfatti. \t\t Score: 0.3097\n",
            "Quel giorno era impossibile uscire a passeggio. \t\t  Che cosa vi ha detto Bessie di nuovo sul conto mio? \t\t Score: 0.2287\n",
            "Quel giorno era impossibile uscire a passeggio. \t\t  domandai. \t\t Score: 0.0007\n",
            "Quel giorno era impossibile uscire a passeggio. \t\t  Jane, non mi piace di essere interrogata. \t\t Score: 0.0539\n",
            "Quel giorno era impossibile uscire a passeggio. \t\t Sta male, del resto, che una bimba tratti così i suoi superiori. \t\t Score: 0.0646\n",
            "Quel giorno era impossibile uscire a passeggio. \t\t Sedetevi in qualche posto e state buona fino a quando non saprete parlare ragionevolmente. \t\t Score: 0.0276\n",
            "Quel giorno era impossibile uscire a passeggio. \t\t Una piccola sala da pranzo metteva nel salotto, andai in quella pian piano. \t\t Score: -0.0204\n",
            "Quel giorno era impossibile uscire a passeggio. \t\t Vi era una biblioteca e io m'impossessai di un libro, cercando che fosse ornato d'incisioni. \t\t Score: -0.0148\n",
            "Quel giorno era impossibile uscire a passeggio. \t\t Mi collocai allora nel vano di una finestra, sedendomi sui piedi come i turchi, e tirando la tenda di damasco rosso, mi trovai rinchiusa in un doppio ritiro. \t\t Score: 0.1265\n",
            "Quel giorno era impossibile uscire a passeggio. \t\t Le larghe pieghe della cortina scarlatta mi nascondevano tutto ciò che era alla mia destra: alla mia sinistra una invetriata mi proteggeva, ma non mi separava da una triste giornata di novembre. \t\t Score: 0.0896\n",
            "Quel giorno era impossibile uscire a passeggio. \t\t Di tanto in tanto, sfogliando il libro, gettavo un'occhiata al difuori e studiavo l'aspetto di quella serata d'inverno; in lontananza si scorgeva una pallida striscia di nebbia con nuvole, più vicino alberi bagnati, piante sradicate dal temporale e, infine, una pioggia incessante, che lunghe e lamentevoli ventate respingevano sibilando. \t\t Score: 0.3319\n",
            "Quel giorno era impossibile uscire a passeggio. \t\t Tornavo allora al mio libro; era La storia degli uccelli dell'Inghilterra, scritta da Berwich. \t\t Score: 0.1319\n",
            "Quel giorno era impossibile uscire a passeggio. \t\t In generale non mi occupavo del testo, nondimeno c'erano delle pagine d'introduzione che non potevo lasciar passare inosservate, malgrado la mia gioventù. \t\t Score: 0.0719\n",
            "Quel giorno era impossibile uscire a passeggio. \t\t Esse parlavano di quei rifugi degli uccelli marini, di quei promontori, di quelle rocce deserte abitate da essi soli, di quelle coste della Norvegia sparse d'isole dalla più meridionale punta al capo più nordico, là dove \"l'Oceano Polare mugge in vasti turbini attorno all'isola arida e malinconica di Tule, là ove il mare Atlantico si precipita in mezzo alle Ebridi tempestose.\" \t\t Score: 0.1833\n",
            "Quel giorno era impossibile uscire a passeggio. \t\t Non potevo neppure saltare la descrizione di quei pallidi paesaggi della Siberia, dello Spitzberg, della Nuova-Zembla, dell'Islanda, della verde Finlandia! \t\t Score: 0.0855\n",
            "Quel giorno era impossibile uscire a passeggio. \t\t Ero assorta nel pensiero di quella solitudine della zona artica, di quelle immense regioni abbandonate, di quei serbatoi di ghiaccio, ove i campi di neve accumulati durante gli inverni di molti secoli, ammucchiano montagne su montagne per circondare il polo e vi concentrano tutti i rigori del freddo più intenso. \t\t Score: 0.2658\n",
            "Quel giorno era impossibile uscire a passeggio. \t\t Mi ero formata un'idea tutta mia di quei regni pallidi come la morte, idea vaga, come sono tutte le cose capite per metà, che fluttuano nella testa dei bimbi; ma quella che mi figuravo produceva in me uno strano effetto. \t\t Score: 0.0766\n",
            "Quel giorno era impossibile uscire a passeggio. \t\t In quella introduzione il testo, accordandosi con le figure, dava un significato allo scoglio isolato in mezzo a un mare di onde e di spuma, alla nave gettata su una costa desolata, alla fredda e fantastica luna, che, spingendo i suoi raggi luminosi attraverso un cumulo di nubi, illuminava appunto un'altra scena di naufragio. \t\t Score: -0.0319\n",
            "Quel giorno era impossibile uscire a passeggio. \t\t Io non potrei dire quale sentimento animasse il tranquillo e solitario cimitero, con le sue lapidi, le sue cancellate, i due alberi e l'orizzonte limitato dal muro rotto e la luna crescente che indicava l'ora della sera. \t\t Score: -0.0060\n",
            "Quel giorno era impossibile uscire a passeggio. \t\t Le due navi, in quel mare immobili, mi parevano due fantasmi marini. \t\t Score: 0.0748\n",
            "Quel giorno era impossibile uscire a passeggio. \t\t Sfogliai sollecitamente la figura che rappresenta il mortale nemico, inchiodando il fardello sulla schiena del ladro; era per me un soggetto di terrore, come quella creatura con le corna, seduta sullo scoglio, che spiava la lontana turba che circondava la forca. \t\t Score: -0.0139\n",
            "Quel giorno era impossibile uscire a passeggio. \t\t Ogni incisione mi narrava una storia, spesso misteriosa per la mia intelligenza poco sviluppata e per il mio incompleto sentimento, ma sempre interessantissima; così interessante come i racconti che ci faceva Bessie nelle serate invernali quando era di buon umore e quando, dopo aver portato la tavola da stirare nella stanza dei bambini, ci permetteva di sedersi vicino a lei. \t\t Score: -0.0478\n",
            "Quel giorno era impossibile uscire a passeggio. \t\t Allora, pieghettando le sciarpe di trina della signora Reed e le cuffie da notte, ci riscaldava la fantasia con narrazioni di amore e di avventure, tolte dai vecchi racconti di fate e dalle antiche ballate, o, come mi accorsi più tardi, da Pamela e da Enrico, conte di Mareland. \t\t Score: 0.0152\n",
            "Quel giorno era impossibile uscire a passeggio. \t\t Così, avendo Borwick sulle ginocchia, ero felice, felice a modo mio. \t\t Score: -0.0270\n",
            "Quel giorno era impossibile uscire a passeggio. \t\t Temevo soltanto una interruzione, che non tardò. \t\t Score: -0.0784\n"
          ]
        }
      ]
    },
    {
      "cell_type": "code",
      "metadata": {
        "id": "6Fr_6rMbyvGz"
      },
      "source": [
        "document_embedding = model.encode(data)"
      ],
      "execution_count": 42,
      "outputs": []
    },
    {
      "cell_type": "code",
      "metadata": {
        "colab": {
          "base_uri": "https://localhost:8080/"
        },
        "id": "JAvkcYm9X0z1",
        "outputId": "667d5abd-de29-492c-dc42-e65fa09d19c3"
      },
      "source": [
        "query_embedding = model.encode(['Quel giorno era impossibile uscire a passeggio.'])\n",
        "passage_embedding = model.encode(['In quel giorno era impossibile passeggiare.'])\n",
        "\n",
        "#Compute cosine-similarits\n",
        "cosine_scores = util.pytorch_cos_sim(query_embedding, passage_embedding)\n",
        "cosine_scores"
      ],
      "execution_count": 43,
      "outputs": [
        {
          "output_type": "execute_result",
          "data": {
            "text/plain": [
              "tensor([[0.9490]])"
            ]
          },
          "metadata": {},
          "execution_count": 43
        }
      ]
    },
    {
      "cell_type": "code",
      "metadata": {
        "colab": {
          "base_uri": "https://localhost:8080/"
        },
        "id": "vHnV7M8yX4cC",
        "outputId": "d55ba3bb-16e5-4c31-ef45-2139952bb772"
      },
      "source": [
        "query_embedding = model.encode(['Ne fui felice.'])\n",
        "\n",
        "passage_embedding = model.encode(['Ne ero contenta.'])\n",
        "#Compute cosine-similarits\n",
        "cosine_scores = util.pytorch_cos_sim(query_embedding, passage_embedding)\n",
        "cosine_scores"
      ],
      "execution_count": 44,
      "outputs": [
        {
          "output_type": "execute_result",
          "data": {
            "text/plain": [
              "tensor([[0.9129]])"
            ]
          },
          "metadata": {},
          "execution_count": 44
        }
      ]
    },
    {
      "cell_type": "code",
      "metadata": {
        "colab": {
          "base_uri": "https://localhost:8080/"
        },
        "id": "zPQIdccE5mdz",
        "outputId": "2e38450e-ae3e-4a2f-901f-81b8c4cc9803"
      },
      "source": [
        "query_embedding = model.encode(['Non mi sono mai piaciute le lunghe passeggiate, sopra tutto col freddo, ed era cosa penosa per me di tornar di notte con le mani e i piedi gelati, col cuore amareggiato dalle sgridate di Bessie, la bambinaia, e con lo spirito abbattuto dalla coscienza della mia inferiorità fisica di fronte a Eliza, a John e a Georgiana Reed.'])\n",
        "\n",
        "passage_embedding = model.encode(['Era terribile tornare a casa nel pungente freddo del crepuscolo, con mani e piedi gelati e il cuore intristito dai rimproveri di Bessie, la balia, e avvilita dalla consapevolezza della mia inferiorità fisica rispetto a Eliza, John e Georgiana Reed. '])\n",
        "#Compute cosine-similarits\n",
        "cosine_scores = util.pytorch_cos_sim(query_embedding, passage_embedding)\n",
        "cosine_scores"
      ],
      "execution_count": 45,
      "outputs": [
        {
          "output_type": "execute_result",
          "data": {
            "text/plain": [
              "tensor([[0.8191]])"
            ]
          },
          "metadata": {},
          "execution_count": 45
        }
      ]
    },
    {
      "cell_type": "code",
      "metadata": {
        "colab": {
          "base_uri": "https://localhost:8080/"
        },
        "id": "0-5E5a8BzL1V",
        "outputId": "01c3bfa2-8248-4d3e-838a-f8b556ade619"
      },
      "source": [
        "query_embedding = model.encode(['Quanto a me, mi aveva dispensata dall onere di unirmi al gruppo, dicendo che le rincresceva di dovermi tenere a distanza, ma finchÈ non avesse saputo da Bessie e visto con i suoi occhi che facevo seri sforzi per assumere un atteggiamento più socievole e adatto a una bambina scarlatta e a sinistra c erano le vetrate trasparenti che mi proteggevano, senza separarmene, da quella triste giornata di novembre.'])\n",
        "passage_embedding = model.encode(['Ella mi aveva proibito di unirmi al loro gruppo, dicendo che deplorava la necessità in cui trovavasi di tenermi così lontana, ma che fino al momento in cui Bessie non guarentirebbe che mi studiavo di acquistare un carattere pi˘ socievole e pi˘ infantile, maniere pi˘ cortesi e qualcosa di pi˘ radioso, di più aperto, di più sincero, non poteva concedermi gli stessi privilegi che ai bambini allegri e soddisfatti.'])\n",
        "#Compute cosine-similarits\n",
        "cosine_scores = util.pytorch_cos_sim(query_embedding, passage_embedding)\n",
        "cosine_scores"
      ],
      "execution_count": 46,
      "outputs": [
        {
          "output_type": "execute_result",
          "data": {
            "text/plain": [
              "tensor([[0.7208]])"
            ]
          },
          "metadata": {},
          "execution_count": 46
        }
      ]
    },
    {
      "cell_type": "code",
      "metadata": {
        "id": "FBrskjQoykAN"
      },
      "source": [
        "from sentence_transformers import SentenceTransformer, util\n",
        "model = SentenceTransformer('all-MiniLM-L6-v2')\n",
        "\n",
        "# Two lists of sentences\n",
        "sentences1 = documents\n",
        "\n",
        "sentences2 = documents2\n",
        "\n",
        "#Compute embedding for both lists\n",
        "embeddings1 = model.encode(sentences1, convert_to_tensor=True)\n",
        "embeddings2 = model.encode(sentences2, convert_to_tensor=True)\n",
        "\n",
        "#Compute cosine-similarits\n",
        "cosine_scores = util.pytorch_cos_sim(embeddings1, embeddings2)"
      ],
      "execution_count": 47,
      "outputs": []
    },
    {
      "cell_type": "code",
      "metadata": {
        "colab": {
          "base_uri": "https://localhost:8080/"
        },
        "id": "Nc54BiYlyjz7",
        "outputId": "49b41816-cd30-481c-830b-d83c1227b534"
      },
      "source": [
        "#Output the pairs with their score\n",
        "for i in range(len(sentences1[:30])):\n",
        "      print(\"{} \\t\\t {} \\t\\t Score: {:.4f}\".format(sentences1[0], sentences2[i], cosine_scores[i][i]))"
      ],
      "execution_count": 48,
      "outputs": [
        {
          "output_type": "stream",
          "name": "stdout",
          "text": [
            "Quel giorno era impossibile uscire a passeggio. \t\t In quel giorno era impossibile passeggiare. \t\t Score: 0.9375\n",
            "Quel giorno era impossibile uscire a passeggio. \t\t La mattina avevamo errato per un'ora nel boschetto spogliato di foglie, ma dopo pranzo (quando non vi erano invitati, la signora Reed desinava presto), il vento gelato d'inverno aveva portato seco nubi così scure e una pioggia così penetrante, che non si poteva pensare a nessuna escursione. \t\t Score: 0.7308\n",
            "Quel giorno era impossibile uscire a passeggio. \t\t Ne ero contenta. \t\t Score: 0.5094\n",
            "Quel giorno era impossibile uscire a passeggio. \t\t Non mi sono mai piaciute le lunghe passeggiate, sopra tutto col freddo, ed era cosa penosa per me di tornar di notte con le mani e i piedi gelati, col cuore amareggiato dalle sgridate di Bessie, la bambinaia, e con lo spirito abbattuto dalla coscienza della mia inferiorità fisica di fronte a Eliza, a John e a Georgiana Reed. \t\t Score: 0.6617\n",
            "Quel giorno era impossibile uscire a passeggio. \t\t Eliza, John e Georgiana erano aggruppati in salotto attorno alla loro mamma; questa, sdraiata sul sofà accanto al fuoco e circondata dai suoi bambini, che in quel momento non questionavano fra loro né piangevano, pareva perfettamente felice. \t\t Score: 0.6568\n",
            "Quel giorno era impossibile uscire a passeggio. \t\t Ella mi aveva proibito di unirmi al loro gruppo, dicendo che deplorava la necessità in cui trovavasi di tenermi così lontana, ma che fino al momento in cui Bessie non guarentirebbe che mi studiavo di acquistare un carattere più socievole e più infantile, maniere più cortesi e qualcosa di più radioso, di più aperto, di più sincero, non poteva concedermi gli stessi privilegi che ai bambini allegri e soddisfatti. \t\t Score: 0.5459\n",
            "Quel giorno era impossibile uscire a passeggio. \t\t  Che cosa vi ha detto Bessie di nuovo sul conto mio? \t\t Score: 0.5324\n",
            "Quel giorno era impossibile uscire a passeggio. \t\t  domandai. \t\t Score: 0.1977\n",
            "Quel giorno era impossibile uscire a passeggio. \t\t  Jane, non mi piace di essere interrogata. \t\t Score: 0.4599\n",
            "Quel giorno era impossibile uscire a passeggio. \t\t Sta male, del resto, che una bimba tratti così i suoi superiori. \t\t Score: 0.4345\n",
            "Quel giorno era impossibile uscire a passeggio. \t\t Sedetevi in qualche posto e state buona fino a quando non saprete parlare ragionevolmente. \t\t Score: 0.4947\n",
            "Quel giorno era impossibile uscire a passeggio. \t\t Una piccola sala da pranzo metteva nel salotto, andai in quella pian piano. \t\t Score: 0.3572\n",
            "Quel giorno era impossibile uscire a passeggio. \t\t Vi era una biblioteca e io m'impossessai di un libro, cercando che fosse ornato d'incisioni. \t\t Score: 0.3372\n",
            "Quel giorno era impossibile uscire a passeggio. \t\t Mi collocai allora nel vano di una finestra, sedendomi sui piedi come i turchi, e tirando la tenda di damasco rosso, mi trovai rinchiusa in un doppio ritiro. \t\t Score: 0.4044\n",
            "Quel giorno era impossibile uscire a passeggio. \t\t Le larghe pieghe della cortina scarlatta mi nascondevano tutto ciò che era alla mia destra: alla mia sinistra una invetriata mi proteggeva, ma non mi separava da una triste giornata di novembre. \t\t Score: 0.4834\n",
            "Quel giorno era impossibile uscire a passeggio. \t\t Di tanto in tanto, sfogliando il libro, gettavo un'occhiata al difuori e studiavo l'aspetto di quella serata d'inverno; in lontananza si scorgeva una pallida striscia di nebbia con nuvole, più vicino alberi bagnati, piante sradicate dal temporale e, infine, una pioggia incessante, che lunghe e lamentevoli ventate respingevano sibilando. \t\t Score: 0.5236\n",
            "Quel giorno era impossibile uscire a passeggio. \t\t Tornavo allora al mio libro; era La storia degli uccelli dell'Inghilterra, scritta da Berwich. \t\t Score: 0.4477\n",
            "Quel giorno era impossibile uscire a passeggio. \t\t In generale non mi occupavo del testo, nondimeno c'erano delle pagine d'introduzione che non potevo lasciar passare inosservate, malgrado la mia gioventù. \t\t Score: 0.3862\n",
            "Quel giorno era impossibile uscire a passeggio. \t\t Esse parlavano di quei rifugi degli uccelli marini, di quei promontori, di quelle rocce deserte abitate da essi soli, di quelle coste della Norvegia sparse d'isole dalla più meridionale punta al capo più nordico, là dove \"l'Oceano Polare mugge in vasti turbini attorno all'isola arida e malinconica di Tule, là ove il mare Atlantico si precipita in mezzo alle Ebridi tempestose.\" \t\t Score: 0.4234\n",
            "Quel giorno era impossibile uscire a passeggio. \t\t Non potevo neppure saltare la descrizione di quei pallidi paesaggi della Siberia, dello Spitzberg, della Nuova-Zembla, dell'Islanda, della verde Finlandia! \t\t Score: 0.2468\n",
            "Quel giorno era impossibile uscire a passeggio. \t\t Ero assorta nel pensiero di quella solitudine della zona artica, di quelle immense regioni abbandonate, di quei serbatoi di ghiaccio, ove i campi di neve accumulati durante gli inverni di molti secoli, ammucchiano montagne su montagne per circondare il polo e vi concentrano tutti i rigori del freddo più intenso. \t\t Score: 0.5484\n",
            "Quel giorno era impossibile uscire a passeggio. \t\t Mi ero formata un'idea tutta mia di quei regni pallidi come la morte, idea vaga, come sono tutte le cose capite per metà, che fluttuano nella testa dei bimbi; ma quella che mi figuravo produceva in me uno strano effetto. \t\t Score: 0.4591\n",
            "Quel giorno era impossibile uscire a passeggio. \t\t In quella introduzione il testo, accordandosi con le figure, dava un significato allo scoglio isolato in mezzo a un mare di onde e di spuma, alla nave gettata su una costa desolata, alla fredda e fantastica luna, che, spingendo i suoi raggi luminosi attraverso un cumulo di nubi, illuminava appunto un'altra scena di naufragio. \t\t Score: 0.4457\n",
            "Quel giorno era impossibile uscire a passeggio. \t\t Io non potrei dire quale sentimento animasse il tranquillo e solitario cimitero, con le sue lapidi, le sue cancellate, i due alberi e l'orizzonte limitato dal muro rotto e la luna crescente che indicava l'ora della sera. \t\t Score: 0.5250\n",
            "Quel giorno era impossibile uscire a passeggio. \t\t Le due navi, in quel mare immobili, mi parevano due fantasmi marini. \t\t Score: 0.3104\n",
            "Quel giorno era impossibile uscire a passeggio. \t\t Sfogliai sollecitamente la figura che rappresenta il mortale nemico, inchiodando il fardello sulla schiena del ladro; era per me un soggetto di terrore, come quella creatura con le corna, seduta sullo scoglio, che spiava la lontana turba che circondava la forca. \t\t Score: 0.4760\n",
            "Quel giorno era impossibile uscire a passeggio. \t\t Ogni incisione mi narrava una storia, spesso misteriosa per la mia intelligenza poco sviluppata e per il mio incompleto sentimento, ma sempre interessantissima; così interessante come i racconti che ci faceva Bessie nelle serate invernali quando era di buon umore e quando, dopo aver portato la tavola da stirare nella stanza dei bambini, ci permetteva di sedersi vicino a lei. \t\t Score: 0.3724\n",
            "Quel giorno era impossibile uscire a passeggio. \t\t Allora, pieghettando le sciarpe di trina della signora Reed e le cuffie da notte, ci riscaldava la fantasia con narrazioni di amore e di avventure, tolte dai vecchi racconti di fate e dalle antiche ballate, o, come mi accorsi più tardi, da Pamela e da Enrico, conte di Mareland. \t\t Score: 0.1849\n",
            "Quel giorno era impossibile uscire a passeggio. \t\t Così, avendo Borwick sulle ginocchia, ero felice, felice a modo mio. \t\t Score: 0.1658\n",
            "Quel giorno era impossibile uscire a passeggio. \t\t Temevo soltanto una interruzione, che non tardò. \t\t Score: 0.0372\n"
          ]
        }
      ]
    },
    {
      "cell_type": "code",
      "metadata": {
        "colab": {
          "base_uri": "https://localhost:8080/"
        },
        "id": "DjgmJ0vQhrIw",
        "outputId": "9c8bbbbd-8300-49da-d635-bae2eab57ccf"
      },
      "source": [
        "import torch#pytorch\n",
        "from transformers import AutoTokenizer, AutoModel#for embeddings\n",
        "from sklearn.metrics.pairwise import cosine_similarity#for similarity\n",
        "\n",
        "#download pretrained model\n",
        "tokenizer = AutoTokenizer.from_pretrained(\"dbmdz/bert-base-italian-cased\")\n",
        "model = AutoModel.from_pretrained(\"dbmdz/bert-base-italian-cased\",output_hidden_states=True)"
      ],
      "execution_count": 49,
      "outputs": [
        {
          "output_type": "stream",
          "name": "stderr",
          "text": [
            "Some weights of the model checkpoint at dbmdz/bert-base-italian-cased were not used when initializing BertModel: ['cls.predictions.transform.LayerNorm.weight', 'cls.predictions.transform.dense.bias', 'cls.seq_relationship.weight', 'cls.predictions.transform.dense.weight', 'cls.predictions.bias', 'cls.predictions.decoder.weight', 'cls.predictions.transform.LayerNorm.bias', 'cls.seq_relationship.bias']\n",
            "- This IS expected if you are initializing BertModel from the checkpoint of a model trained on another task or with another architecture (e.g. initializing a BertForSequenceClassification model from a BertForPreTraining model).\n",
            "- This IS NOT expected if you are initializing BertModel from the checkpoint of a model that you expect to be exactly identical (initializing a BertForSequenceClassification model from a BertForSequenceClassification model).\n"
          ]
        }
      ]
    },
    {
      "cell_type": "code",
      "metadata": {
        "id": "pNrGlSc4QK_P"
      },
      "source": [
        "#create embeddings\n",
        "def get_embeddings(text,token_length):\n",
        "  tokens=tokenizer(text,max_length=token_length,padding='max_length',truncation=True)\n",
        "  output=model(torch.tensor(tokens.input_ids).unsqueeze(0),\n",
        "               attention_mask=torch.tensor(tokens.attention_mask).unsqueeze(0)).hidden_states[-1]\n",
        "  return torch.mean(output,axis=1).detach().numpy()"
      ],
      "execution_count": 50,
      "outputs": []
    },
    {
      "cell_type": "code",
      "metadata": {
        "id": "oCps0JPShmge"
      },
      "source": [
        "#calculate similarity\n",
        "def calculate_similarity(text1,text2,token_length=20):\n",
        "    out1=get_embeddings(text1,token_length=token_length)#create embeddings of text\n",
        "    out2=get_embeddings(text2,token_length=token_length)#create embeddings of text\n",
        "    sim= cosine_similarity(out1,out2)[0][0]\n",
        "    print(sim)"
      ],
      "execution_count": 51,
      "outputs": []
    },
    {
      "cell_type": "code",
      "metadata": {
        "colab": {
          "base_uri": "https://localhost:8080/"
        },
        "id": "yjEvg37e0Uqx",
        "outputId": "97f93f23-ea73-41bd-ea9a-058fc225b9d5"
      },
      "source": [
        "calculate_similarity(documents[0],documents2[0])"
      ],
      "execution_count": 52,
      "outputs": [
        {
          "output_type": "stream",
          "name": "stdout",
          "text": [
            "0.95590216\n"
          ]
        }
      ]
    },
    {
      "cell_type": "code",
      "metadata": {
        "colab": {
          "base_uri": "https://localhost:8080/"
        },
        "id": "Yr9NSvujKeQ8",
        "outputId": "6a119a48-8e3f-4012-f645-204d6ea4d6aa"
      },
      "source": [
        "sentence_a = 'Non mi sono mai piaciute le lunghe passeggiate, sopra tutto col freddo, ed era cosa penosa per me di tornar di notte con le mani e i piedi gelati, col cuore amareggiato dalle sgridate di Bessie, la bambinaia, e con lo spirito abbattuto dalla coscienza della mia inferiorità fisica di fronte a Eliza, a John e a Georgiana Reed.'\n",
        "\n",
        "sentence_b = 'Era terribile tornare a casa nel pungente freddo del crepuscolo, con mani e piedi gelati e il cuore intristito dai rimproveri di Bessie, la balia, e avvilita dalla consapevolezza della mia inferiorità fisica rispetto a Eliza, John e Georgiana Reed. '\n",
        "\n",
        "calculate_similarity(sentence_a,sentence_b)"
      ],
      "execution_count": 53,
      "outputs": [
        {
          "output_type": "stream",
          "name": "stdout",
          "text": [
            "0.80446357\n"
          ]
        }
      ]
    },
    {
      "cell_type": "code",
      "metadata": {
        "colab": {
          "base_uri": "https://localhost:8080/"
        },
        "id": "8QelslfQoeE4",
        "outputId": "5be05fb4-9344-4a02-be18-de5738f987e9"
      },
      "source": [
        "sentence_a = 'Quanto a me, mi aveva dispensata dall onere di unirmi al gruppo, dicendo che le rincresceva di dovermi tenere a distanza, ma finchÈ non avesse saputo da Bessie e visto con i suoi occhi che facevo seri sforzi per assumere un atteggiamento più socievole e adatto a una bambina scarlatta e a sinistra c erano le vetrate trasparenti che mi proteggevano, senza separarmene, da quella triste giornata di novembre.'\n",
        "sentence_b ='Ella mi aveva proibito di unirmi al loro gruppo, dicendo che deplorava la necessità in cui trovavasi di tenermi così lontana, ma che fino al momento in cui Bessie non guarentirebbe che mi studiavo di acquistare un carattere pi˘ socievole e pi˘ infantile, maniere pi˘ cortesi e qualcosa di pi˘ radioso, di più aperto, di più sincero, non poteva concedermi gli stessi privilegi che ai bambini allegri e soddisfatti.'\n",
        "\n",
        "calculate_similarity(sentence_a,sentence_b)"
      ],
      "execution_count": 83,
      "outputs": [
        {
          "output_type": "stream",
          "name": "stdout",
          "text": [
            "0.94164723\n"
          ]
        }
      ]
    },
    {
      "cell_type": "code",
      "metadata": {
        "colab": {
          "base_uri": "https://localhost:8080/"
        },
        "id": "RHIvnlxhogUP",
        "outputId": "ade62417-997d-4433-f4be-624a622aa430"
      },
      "source": [
        "sentence_a = 'Non mi sono mai piaciute le lunghe passeggiate, sopra tutto col freddo, ed era cosa penosa per me di tornar di notte con le mani e i piedi gelati, col cuore amareggiato dalle sgridate di Bessie, la bambinaia, e con lo spirito abbattuto dalla coscienza della mia inferiorità fisica di fronte a Eliza, a John e a Georgiana Reed.'\n",
        "\n",
        "sentence_b = 'Era terribile tornare a casa nel pungente freddo del crepuscolo, con mani e piedi gelati e il cuore intristito dai rimproveri di Bessie, la balia, e avvilita dalla consapevolezza della mia inferiorità fisica rispetto a Eliza, John e Georgiana Reed. '\n",
        "\n",
        "calculate_similarity(sentence_a,sentence_b)"
      ],
      "execution_count": 84,
      "outputs": [
        {
          "output_type": "stream",
          "name": "stdout",
          "text": [
            "0.80446357\n"
          ]
        }
      ]
    },
    {
      "cell_type": "code",
      "metadata": {
        "colab": {
          "base_uri": "https://localhost:8080/"
        },
        "id": "SBsEvWQWonBW",
        "outputId": "4267de21-7bc8-4fbd-987e-bf70087885ed"
      },
      "source": [
        "sentence_a = 'Ne ero contenta.'\n",
        "sentence_b = 'Ne fui felice.'\n",
        "\n",
        "calculate_similarity(sentence_a,sentence_b)"
      ],
      "execution_count": 85,
      "outputs": [
        {
          "output_type": "stream",
          "name": "stdout",
          "text": [
            "0.9024403\n"
          ]
        }
      ]
    },
    {
      "cell_type": "code",
      "metadata": {
        "id": "TOcKp9yRK52g"
      },
      "source": [
        "sent = list(i for i in documents)"
      ],
      "execution_count": 54,
      "outputs": []
    },
    {
      "cell_type": "code",
      "metadata": {
        "id": "y6t5lEZeRFLp"
      },
      "source": [
        "sent = list(i for i in df3.text)"
      ],
      "execution_count": 55,
      "outputs": []
    },
    {
      "cell_type": "code",
      "metadata": {
        "id": "fy2HPcUiULuN"
      },
      "source": [
        "embedding_bert = []\n",
        "for i in sent:\n",
        "  output_bert=get_embeddings(i,token_length=20)#create embeddings of text\n",
        "  embedding_bert.append(output_bert)"
      ],
      "execution_count": 56,
      "outputs": []
    },
    {
      "cell_type": "code",
      "metadata": {
        "id": "LWsyIdsqKvbc"
      },
      "source": [
        "embed = []\n",
        "for i in documents:\n",
        "  out1=get_embeddings(i,token_length=20)#create embeddings of text\n",
        "  embed.append(out1)"
      ],
      "execution_count": 57,
      "outputs": []
    },
    {
      "cell_type": "code",
      "metadata": {
        "id": "NOD9iXSXIpmr"
      },
      "source": [
        "embed2 = []\n",
        "for i in documents2:\n",
        "  out2=get_embeddings(i,token_length=20)#create embeddings of text\n",
        "  embed2.append(out2)"
      ],
      "execution_count": 58,
      "outputs": []
    },
    {
      "cell_type": "code",
      "metadata": {
        "id": "AEkcz1HiXFfs",
        "colab": {
          "base_uri": "https://localhost:8080/"
        },
        "outputId": "1de8a41e-0685-49bc-b1c0-0b962418640b"
      },
      "source": [
        "cosine_similarity(embed[0],embed2[0])"
      ],
      "execution_count": 59,
      "outputs": [
        {
          "output_type": "execute_result",
          "data": {
            "text/plain": [
              "array([[0.95590216]], dtype=float32)"
            ]
          },
          "metadata": {},
          "execution_count": 59
        }
      ]
    },
    {
      "cell_type": "code",
      "metadata": {
        "colab": {
          "base_uri": "https://localhost:8080/"
        },
        "id": "mwfeXZSwjT0j",
        "outputId": "61ec6554-4502-4969-e762-c10a00ed1ad7"
      },
      "source": [
        "cosine_similarity(embed[2],embed2[2])"
      ],
      "execution_count": 74,
      "outputs": [
        {
          "output_type": "execute_result",
          "data": {
            "text/plain": [
              "array([[0.9024403]], dtype=float32)"
            ]
          },
          "metadata": {},
          "execution_count": 74
        }
      ]
    },
    {
      "cell_type": "code",
      "metadata": {
        "colab": {
          "base_uri": "https://localhost:8080/"
        },
        "id": "yzH00Bx2jWmB",
        "outputId": "8d8523ff-91b9-467f-e93a-8121abf52775"
      },
      "source": [
        "cosine_similarity(embed[3],embed2[3])"
      ],
      "execution_count": 75,
      "outputs": [
        {
          "output_type": "execute_result",
          "data": {
            "text/plain": [
              "array([[0.7896439]], dtype=float32)"
            ]
          },
          "metadata": {},
          "execution_count": 75
        }
      ]
    },
    {
      "cell_type": "code",
      "metadata": {
        "colab": {
          "base_uri": "https://localhost:8080/",
          "height": 34
        },
        "id": "lLx6c5hejaDy",
        "outputId": "8c49f3a2-6afb-44e8-b3c5-161a776d388e"
      },
      "source": [
        "documents[3]"
      ],
      "execution_count": 76,
      "outputs": [
        {
          "output_type": "execute_result",
          "data": {
            "application/vnd.google.colaboratory.intrinsic+json": {
              "type": "string"
            },
            "text/plain": [
              "'Le lunghe passeggiate non mi erano mai piaciute, specie nei pomeriggi gelidi.'"
            ]
          },
          "metadata": {},
          "execution_count": 76
        }
      ]
    },
    {
      "cell_type": "code",
      "metadata": {
        "colab": {
          "base_uri": "https://localhost:8080/",
          "height": 67
        },
        "id": "ekDsqP8cje3r",
        "outputId": "2f54f19c-298d-4371-f6d5-e5f0b4a595ea"
      },
      "source": [
        "documents2[3]"
      ],
      "execution_count": 77,
      "outputs": [
        {
          "output_type": "execute_result",
          "data": {
            "application/vnd.google.colaboratory.intrinsic+json": {
              "type": "string"
            },
            "text/plain": [
              "'Non mi sono mai piaciute le lunghe passeggiate, sopra tutto col freddo, ed era cosa penosa per me di tornar di notte con le mani e i piedi gelati, col cuore amareggiato dalle sgridate di Bessie, la bambinaia, e con lo spirito abbattuto dalla coscienza della mia inferiorità fisica di fronte a Eliza, a John e a Georgiana Reed.'"
            ]
          },
          "metadata": {},
          "execution_count": 77
        }
      ]
    },
    {
      "cell_type": "code",
      "metadata": {
        "id": "j3u2l1y-qoZ2"
      },
      "source": [
        "import torch\n",
        "torch.save(model, 'embedding_bert')\n",
        "embedding_bert = torch.load('embedding_bert')"
      ],
      "execution_count": 61,
      "outputs": []
    }
  ]
}