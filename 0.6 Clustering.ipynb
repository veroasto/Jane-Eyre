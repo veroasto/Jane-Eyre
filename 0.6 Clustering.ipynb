{
  "nbformat": 4,
  "nbformat_minor": 0,
  "metadata": {
    "colab": {
      "name": "cluster_sabato.ipynb",
      "provenance": [],
      "collapsed_sections": []
    },
    "kernelspec": {
      "display_name": "Python 3",
      "name": "python3"
    },
    "language_info": {
      "name": "python"
    },
    "widgets": {
      "application/vnd.jupyter.widget-state+json": {
        "b71748caffd7472db43d51b7269d14a8": {
          "model_module": "@jupyter-widgets/controls",
          "model_name": "HBoxModel",
          "model_module_version": "1.5.0",
          "state": {
            "_view_name": "HBoxView",
            "_dom_classes": [],
            "_model_name": "HBoxModel",
            "_view_module": "@jupyter-widgets/controls",
            "_model_module_version": "1.5.0",
            "_view_count": null,
            "_view_module_version": "1.5.0",
            "box_style": "",
            "layout": "IPY_MODEL_86658432cf484584b067f2d92e083457",
            "_model_module": "@jupyter-widgets/controls",
            "children": [
              "IPY_MODEL_2677f1cf214245e2ba7d8f2d52f9ad3c",
              "IPY_MODEL_cb0d97f03ffb4161bdf62e5b4a279ff6",
              "IPY_MODEL_716c107ef987402eb81c33dd9924cfe2"
            ]
          }
        },
        "86658432cf484584b067f2d92e083457": {
          "model_module": "@jupyter-widgets/base",
          "model_name": "LayoutModel",
          "model_module_version": "1.2.0",
          "state": {
            "_view_name": "LayoutView",
            "grid_template_rows": null,
            "right": null,
            "justify_content": null,
            "_view_module": "@jupyter-widgets/base",
            "overflow": null,
            "_model_module_version": "1.2.0",
            "_view_count": null,
            "flex_flow": null,
            "width": null,
            "min_width": null,
            "border": null,
            "align_items": null,
            "bottom": null,
            "_model_module": "@jupyter-widgets/base",
            "top": null,
            "grid_column": null,
            "overflow_y": null,
            "overflow_x": null,
            "grid_auto_flow": null,
            "grid_area": null,
            "grid_template_columns": null,
            "flex": null,
            "_model_name": "LayoutModel",
            "justify_items": null,
            "grid_row": null,
            "max_height": null,
            "align_content": null,
            "visibility": null,
            "align_self": null,
            "height": null,
            "min_height": null,
            "padding": null,
            "grid_auto_rows": null,
            "grid_gap": null,
            "max_width": null,
            "order": null,
            "_view_module_version": "1.2.0",
            "grid_template_areas": null,
            "object_position": null,
            "object_fit": null,
            "grid_auto_columns": null,
            "margin": null,
            "display": null,
            "left": null
          }
        },
        "2677f1cf214245e2ba7d8f2d52f9ad3c": {
          "model_module": "@jupyter-widgets/controls",
          "model_name": "HTMLModel",
          "model_module_version": "1.5.0",
          "state": {
            "_view_name": "HTMLView",
            "style": "IPY_MODEL_e3d7ac8c30704d6c851467bb071edcdd",
            "_dom_classes": [],
            "description": "",
            "_model_name": "HTMLModel",
            "placeholder": "​",
            "_view_module": "@jupyter-widgets/controls",
            "_model_module_version": "1.5.0",
            "value": "",
            "_view_count": null,
            "_view_module_version": "1.5.0",
            "description_tooltip": null,
            "_model_module": "@jupyter-widgets/controls",
            "layout": "IPY_MODEL_7fcd14d6002c490f96a4fab470fb4042"
          }
        },
        "cb0d97f03ffb4161bdf62e5b4a279ff6": {
          "model_module": "@jupyter-widgets/controls",
          "model_name": "FloatProgressModel",
          "model_module_version": "1.5.0",
          "state": {
            "_view_name": "ProgressView",
            "style": "IPY_MODEL_f5d48ec2618945eab2f7c0bce8e14b69",
            "_dom_classes": [],
            "description": "",
            "_model_name": "FloatProgressModel",
            "bar_style": "success",
            "max": 1,
            "_view_module": "@jupyter-widgets/controls",
            "_model_module_version": "1.5.0",
            "value": 1,
            "_view_count": null,
            "_view_module_version": "1.5.0",
            "orientation": "horizontal",
            "min": 0,
            "description_tooltip": null,
            "_model_module": "@jupyter-widgets/controls",
            "layout": "IPY_MODEL_1aef4373feda4bdc819d37f7629cb194"
          }
        },
        "716c107ef987402eb81c33dd9924cfe2": {
          "model_module": "@jupyter-widgets/controls",
          "model_name": "HTMLModel",
          "model_module_version": "1.5.0",
          "state": {
            "_view_name": "HTMLView",
            "style": "IPY_MODEL_c0f5473485ec40bc96617f69a19cd4fc",
            "_dom_classes": [],
            "description": "",
            "_model_name": "HTMLModel",
            "placeholder": "​",
            "_view_module": "@jupyter-widgets/controls",
            "_model_module_version": "1.5.0",
            "value": " 2/? [04:25&lt;00:00, 109.72s/it]",
            "_view_count": null,
            "_view_module_version": "1.5.0",
            "description_tooltip": null,
            "_model_module": "@jupyter-widgets/controls",
            "layout": "IPY_MODEL_52c7686e668d426da8f9ebda7af91003"
          }
        },
        "e3d7ac8c30704d6c851467bb071edcdd": {
          "model_module": "@jupyter-widgets/controls",
          "model_name": "DescriptionStyleModel",
          "model_module_version": "1.5.0",
          "state": {
            "_view_name": "StyleView",
            "_model_name": "DescriptionStyleModel",
            "description_width": "",
            "_view_module": "@jupyter-widgets/base",
            "_model_module_version": "1.5.0",
            "_view_count": null,
            "_view_module_version": "1.2.0",
            "_model_module": "@jupyter-widgets/controls"
          }
        },
        "7fcd14d6002c490f96a4fab470fb4042": {
          "model_module": "@jupyter-widgets/base",
          "model_name": "LayoutModel",
          "model_module_version": "1.2.0",
          "state": {
            "_view_name": "LayoutView",
            "grid_template_rows": null,
            "right": null,
            "justify_content": null,
            "_view_module": "@jupyter-widgets/base",
            "overflow": null,
            "_model_module_version": "1.2.0",
            "_view_count": null,
            "flex_flow": null,
            "width": null,
            "min_width": null,
            "border": null,
            "align_items": null,
            "bottom": null,
            "_model_module": "@jupyter-widgets/base",
            "top": null,
            "grid_column": null,
            "overflow_y": null,
            "overflow_x": null,
            "grid_auto_flow": null,
            "grid_area": null,
            "grid_template_columns": null,
            "flex": null,
            "_model_name": "LayoutModel",
            "justify_items": null,
            "grid_row": null,
            "max_height": null,
            "align_content": null,
            "visibility": null,
            "align_self": null,
            "height": null,
            "min_height": null,
            "padding": null,
            "grid_auto_rows": null,
            "grid_gap": null,
            "max_width": null,
            "order": null,
            "_view_module_version": "1.2.0",
            "grid_template_areas": null,
            "object_position": null,
            "object_fit": null,
            "grid_auto_columns": null,
            "margin": null,
            "display": null,
            "left": null
          }
        },
        "f5d48ec2618945eab2f7c0bce8e14b69": {
          "model_module": "@jupyter-widgets/controls",
          "model_name": "ProgressStyleModel",
          "model_module_version": "1.5.0",
          "state": {
            "_view_name": "StyleView",
            "_model_name": "ProgressStyleModel",
            "description_width": "",
            "_view_module": "@jupyter-widgets/base",
            "_model_module_version": "1.5.0",
            "_view_count": null,
            "_view_module_version": "1.2.0",
            "bar_color": null,
            "_model_module": "@jupyter-widgets/controls"
          }
        },
        "1aef4373feda4bdc819d37f7629cb194": {
          "model_module": "@jupyter-widgets/base",
          "model_name": "LayoutModel",
          "model_module_version": "1.2.0",
          "state": {
            "_view_name": "LayoutView",
            "grid_template_rows": null,
            "right": null,
            "justify_content": null,
            "_view_module": "@jupyter-widgets/base",
            "overflow": null,
            "_model_module_version": "1.2.0",
            "_view_count": null,
            "flex_flow": null,
            "width": "20px",
            "min_width": null,
            "border": null,
            "align_items": null,
            "bottom": null,
            "_model_module": "@jupyter-widgets/base",
            "top": null,
            "grid_column": null,
            "overflow_y": null,
            "overflow_x": null,
            "grid_auto_flow": null,
            "grid_area": null,
            "grid_template_columns": null,
            "flex": null,
            "_model_name": "LayoutModel",
            "justify_items": null,
            "grid_row": null,
            "max_height": null,
            "align_content": null,
            "visibility": null,
            "align_self": null,
            "height": null,
            "min_height": null,
            "padding": null,
            "grid_auto_rows": null,
            "grid_gap": null,
            "max_width": null,
            "order": null,
            "_view_module_version": "1.2.0",
            "grid_template_areas": null,
            "object_position": null,
            "object_fit": null,
            "grid_auto_columns": null,
            "margin": null,
            "display": null,
            "left": null
          }
        },
        "c0f5473485ec40bc96617f69a19cd4fc": {
          "model_module": "@jupyter-widgets/controls",
          "model_name": "DescriptionStyleModel",
          "model_module_version": "1.5.0",
          "state": {
            "_view_name": "StyleView",
            "_model_name": "DescriptionStyleModel",
            "description_width": "",
            "_view_module": "@jupyter-widgets/base",
            "_model_module_version": "1.5.0",
            "_view_count": null,
            "_view_module_version": "1.2.0",
            "_model_module": "@jupyter-widgets/controls"
          }
        },
        "52c7686e668d426da8f9ebda7af91003": {
          "model_module": "@jupyter-widgets/base",
          "model_name": "LayoutModel",
          "model_module_version": "1.2.0",
          "state": {
            "_view_name": "LayoutView",
            "grid_template_rows": null,
            "right": null,
            "justify_content": null,
            "_view_module": "@jupyter-widgets/base",
            "overflow": null,
            "_model_module_version": "1.2.0",
            "_view_count": null,
            "flex_flow": null,
            "width": null,
            "min_width": null,
            "border": null,
            "align_items": null,
            "bottom": null,
            "_model_module": "@jupyter-widgets/base",
            "top": null,
            "grid_column": null,
            "overflow_y": null,
            "overflow_x": null,
            "grid_auto_flow": null,
            "grid_area": null,
            "grid_template_columns": null,
            "flex": null,
            "_model_name": "LayoutModel",
            "justify_items": null,
            "grid_row": null,
            "max_height": null,
            "align_content": null,
            "visibility": null,
            "align_self": null,
            "height": null,
            "min_height": null,
            "padding": null,
            "grid_auto_rows": null,
            "grid_gap": null,
            "max_width": null,
            "order": null,
            "_view_module_version": "1.2.0",
            "grid_template_areas": null,
            "object_position": null,
            "object_fit": null,
            "grid_auto_columns": null,
            "margin": null,
            "display": null,
            "left": null
          }
        },
        "d18c437555e14267b35e57abbdbf9ad3": {
          "model_module": "@jupyter-widgets/controls",
          "model_name": "HBoxModel",
          "model_module_version": "1.5.0",
          "state": {
            "_view_name": "HBoxView",
            "_dom_classes": [],
            "_model_name": "HBoxModel",
            "_view_module": "@jupyter-widgets/controls",
            "_model_module_version": "1.5.0",
            "_view_count": null,
            "_view_module_version": "1.5.0",
            "box_style": "",
            "layout": "IPY_MODEL_b9a88c7dcecc41238cb26b662587a240",
            "_model_module": "@jupyter-widgets/controls",
            "children": [
              "IPY_MODEL_dd47600b21984d228909a66cc9448f12",
              "IPY_MODEL_5bef6c6532714fdcbd327d83b0500b46",
              "IPY_MODEL_32caaf6f6291423f90f2996a4555d68f"
            ]
          }
        },
        "b9a88c7dcecc41238cb26b662587a240": {
          "model_module": "@jupyter-widgets/base",
          "model_name": "LayoutModel",
          "model_module_version": "1.2.0",
          "state": {
            "_view_name": "LayoutView",
            "grid_template_rows": null,
            "right": null,
            "justify_content": null,
            "_view_module": "@jupyter-widgets/base",
            "overflow": null,
            "_model_module_version": "1.2.0",
            "_view_count": null,
            "flex_flow": null,
            "width": null,
            "min_width": null,
            "border": null,
            "align_items": null,
            "bottom": null,
            "_model_module": "@jupyter-widgets/base",
            "top": null,
            "grid_column": null,
            "overflow_y": null,
            "overflow_x": null,
            "grid_auto_flow": null,
            "grid_area": null,
            "grid_template_columns": null,
            "flex": null,
            "_model_name": "LayoutModel",
            "justify_items": null,
            "grid_row": null,
            "max_height": null,
            "align_content": null,
            "visibility": null,
            "align_self": null,
            "height": null,
            "min_height": null,
            "padding": null,
            "grid_auto_rows": null,
            "grid_gap": null,
            "max_width": null,
            "order": null,
            "_view_module_version": "1.2.0",
            "grid_template_areas": null,
            "object_position": null,
            "object_fit": null,
            "grid_auto_columns": null,
            "margin": null,
            "display": null,
            "left": null
          }
        },
        "dd47600b21984d228909a66cc9448f12": {
          "model_module": "@jupyter-widgets/controls",
          "model_name": "HTMLModel",
          "model_module_version": "1.5.0",
          "state": {
            "_view_name": "HTMLView",
            "style": "IPY_MODEL_cfe3a904e4c744eb9f25eaf3457ef36c",
            "_dom_classes": [],
            "description": "",
            "_model_name": "HTMLModel",
            "placeholder": "​",
            "_view_module": "@jupyter-widgets/controls",
            "_model_module_version": "1.5.0",
            "value": "100%",
            "_view_count": null,
            "_view_module_version": "1.5.0",
            "description_tooltip": null,
            "_model_module": "@jupyter-widgets/controls",
            "layout": "IPY_MODEL_cadc07c39acb434d858581c9392f4681"
          }
        },
        "5bef6c6532714fdcbd327d83b0500b46": {
          "model_module": "@jupyter-widgets/controls",
          "model_name": "FloatProgressModel",
          "model_module_version": "1.5.0",
          "state": {
            "_view_name": "ProgressView",
            "style": "IPY_MODEL_4874ca86627749d787bc69ae75fe4aa2",
            "_dom_classes": [],
            "description": "",
            "_model_name": "FloatProgressModel",
            "bar_style": "success",
            "max": 2,
            "_view_module": "@jupyter-widgets/controls",
            "_model_module_version": "1.5.0",
            "value": 2,
            "_view_count": null,
            "_view_module_version": "1.5.0",
            "orientation": "horizontal",
            "min": 0,
            "description_tooltip": null,
            "_model_module": "@jupyter-widgets/controls",
            "layout": "IPY_MODEL_ca04d8ed0fb8419cb14b8eb94fb61b7a"
          }
        },
        "32caaf6f6291423f90f2996a4555d68f": {
          "model_module": "@jupyter-widgets/controls",
          "model_name": "HTMLModel",
          "model_module_version": "1.5.0",
          "state": {
            "_view_name": "HTMLView",
            "style": "IPY_MODEL_64cffd839cc347d6b0a47c6e4fc8384a",
            "_dom_classes": [],
            "description": "",
            "_model_name": "HTMLModel",
            "placeholder": "​",
            "_view_module": "@jupyter-widgets/controls",
            "_model_module_version": "1.5.0",
            "value": " 2/2 [00:00&lt;00:00,  8.55it/s]",
            "_view_count": null,
            "_view_module_version": "1.5.0",
            "description_tooltip": null,
            "_model_module": "@jupyter-widgets/controls",
            "layout": "IPY_MODEL_d36fd767542a4bfb95bcec70812e3253"
          }
        },
        "cfe3a904e4c744eb9f25eaf3457ef36c": {
          "model_module": "@jupyter-widgets/controls",
          "model_name": "DescriptionStyleModel",
          "model_module_version": "1.5.0",
          "state": {
            "_view_name": "StyleView",
            "_model_name": "DescriptionStyleModel",
            "description_width": "",
            "_view_module": "@jupyter-widgets/base",
            "_model_module_version": "1.5.0",
            "_view_count": null,
            "_view_module_version": "1.2.0",
            "_model_module": "@jupyter-widgets/controls"
          }
        },
        "cadc07c39acb434d858581c9392f4681": {
          "model_module": "@jupyter-widgets/base",
          "model_name": "LayoutModel",
          "model_module_version": "1.2.0",
          "state": {
            "_view_name": "LayoutView",
            "grid_template_rows": null,
            "right": null,
            "justify_content": null,
            "_view_module": "@jupyter-widgets/base",
            "overflow": null,
            "_model_module_version": "1.2.0",
            "_view_count": null,
            "flex_flow": null,
            "width": null,
            "min_width": null,
            "border": null,
            "align_items": null,
            "bottom": null,
            "_model_module": "@jupyter-widgets/base",
            "top": null,
            "grid_column": null,
            "overflow_y": null,
            "overflow_x": null,
            "grid_auto_flow": null,
            "grid_area": null,
            "grid_template_columns": null,
            "flex": null,
            "_model_name": "LayoutModel",
            "justify_items": null,
            "grid_row": null,
            "max_height": null,
            "align_content": null,
            "visibility": null,
            "align_self": null,
            "height": null,
            "min_height": null,
            "padding": null,
            "grid_auto_rows": null,
            "grid_gap": null,
            "max_width": null,
            "order": null,
            "_view_module_version": "1.2.0",
            "grid_template_areas": null,
            "object_position": null,
            "object_fit": null,
            "grid_auto_columns": null,
            "margin": null,
            "display": null,
            "left": null
          }
        },
        "4874ca86627749d787bc69ae75fe4aa2": {
          "model_module": "@jupyter-widgets/controls",
          "model_name": "ProgressStyleModel",
          "model_module_version": "1.5.0",
          "state": {
            "_view_name": "StyleView",
            "_model_name": "ProgressStyleModel",
            "description_width": "",
            "_view_module": "@jupyter-widgets/base",
            "_model_module_version": "1.5.0",
            "_view_count": null,
            "_view_module_version": "1.2.0",
            "bar_color": null,
            "_model_module": "@jupyter-widgets/controls"
          }
        },
        "ca04d8ed0fb8419cb14b8eb94fb61b7a": {
          "model_module": "@jupyter-widgets/base",
          "model_name": "LayoutModel",
          "model_module_version": "1.2.0",
          "state": {
            "_view_name": "LayoutView",
            "grid_template_rows": null,
            "right": null,
            "justify_content": null,
            "_view_module": "@jupyter-widgets/base",
            "overflow": null,
            "_model_module_version": "1.2.0",
            "_view_count": null,
            "flex_flow": null,
            "width": null,
            "min_width": null,
            "border": null,
            "align_items": null,
            "bottom": null,
            "_model_module": "@jupyter-widgets/base",
            "top": null,
            "grid_column": null,
            "overflow_y": null,
            "overflow_x": null,
            "grid_auto_flow": null,
            "grid_area": null,
            "grid_template_columns": null,
            "flex": null,
            "_model_name": "LayoutModel",
            "justify_items": null,
            "grid_row": null,
            "max_height": null,
            "align_content": null,
            "visibility": null,
            "align_self": null,
            "height": null,
            "min_height": null,
            "padding": null,
            "grid_auto_rows": null,
            "grid_gap": null,
            "max_width": null,
            "order": null,
            "_view_module_version": "1.2.0",
            "grid_template_areas": null,
            "object_position": null,
            "object_fit": null,
            "grid_auto_columns": null,
            "margin": null,
            "display": null,
            "left": null
          }
        },
        "64cffd839cc347d6b0a47c6e4fc8384a": {
          "model_module": "@jupyter-widgets/controls",
          "model_name": "DescriptionStyleModel",
          "model_module_version": "1.5.0",
          "state": {
            "_view_name": "StyleView",
            "_model_name": "DescriptionStyleModel",
            "description_width": "",
            "_view_module": "@jupyter-widgets/base",
            "_model_module_version": "1.5.0",
            "_view_count": null,
            "_view_module_version": "1.2.0",
            "_model_module": "@jupyter-widgets/controls"
          }
        },
        "d36fd767542a4bfb95bcec70812e3253": {
          "model_module": "@jupyter-widgets/base",
          "model_name": "LayoutModel",
          "model_module_version": "1.2.0",
          "state": {
            "_view_name": "LayoutView",
            "grid_template_rows": null,
            "right": null,
            "justify_content": null,
            "_view_module": "@jupyter-widgets/base",
            "overflow": null,
            "_model_module_version": "1.2.0",
            "_view_count": null,
            "flex_flow": null,
            "width": null,
            "min_width": null,
            "border": null,
            "align_items": null,
            "bottom": null,
            "_model_module": "@jupyter-widgets/base",
            "top": null,
            "grid_column": null,
            "overflow_y": null,
            "overflow_x": null,
            "grid_auto_flow": null,
            "grid_area": null,
            "grid_template_columns": null,
            "flex": null,
            "_model_name": "LayoutModel",
            "justify_items": null,
            "grid_row": null,
            "max_height": null,
            "align_content": null,
            "visibility": null,
            "align_self": null,
            "height": null,
            "min_height": null,
            "padding": null,
            "grid_auto_rows": null,
            "grid_gap": null,
            "max_width": null,
            "order": null,
            "_view_module_version": "1.2.0",
            "grid_template_areas": null,
            "object_position": null,
            "object_fit": null,
            "grid_auto_columns": null,
            "margin": null,
            "display": null,
            "left": null
          }
        },
        "c943c52a82ef4b518b6d3654c88e0c9e": {
          "model_module": "@jupyter-widgets/controls",
          "model_name": "HBoxModel",
          "model_module_version": "1.5.0",
          "state": {
            "_view_name": "HBoxView",
            "_dom_classes": [],
            "_model_name": "HBoxModel",
            "_view_module": "@jupyter-widgets/controls",
            "_model_module_version": "1.5.0",
            "_view_count": null,
            "_view_module_version": "1.5.0",
            "box_style": "",
            "layout": "IPY_MODEL_658b557f771449a7b4897f602377ae47",
            "_model_module": "@jupyter-widgets/controls",
            "children": [
              "IPY_MODEL_3412aacdf83f4eb79686d03c631cb7f1",
              "IPY_MODEL_11db9ec22d5c4241b70ddce769d0e3cc",
              "IPY_MODEL_7db47f841d1d4717af7e7d67cd55f418"
            ]
          }
        },
        "658b557f771449a7b4897f602377ae47": {
          "model_module": "@jupyter-widgets/base",
          "model_name": "LayoutModel",
          "model_module_version": "1.2.0",
          "state": {
            "_view_name": "LayoutView",
            "grid_template_rows": null,
            "right": null,
            "justify_content": null,
            "_view_module": "@jupyter-widgets/base",
            "overflow": null,
            "_model_module_version": "1.2.0",
            "_view_count": null,
            "flex_flow": null,
            "width": null,
            "min_width": null,
            "border": null,
            "align_items": null,
            "bottom": null,
            "_model_module": "@jupyter-widgets/base",
            "top": null,
            "grid_column": null,
            "overflow_y": null,
            "overflow_x": null,
            "grid_auto_flow": null,
            "grid_area": null,
            "grid_template_columns": null,
            "flex": null,
            "_model_name": "LayoutModel",
            "justify_items": null,
            "grid_row": null,
            "max_height": null,
            "align_content": null,
            "visibility": null,
            "align_self": null,
            "height": null,
            "min_height": null,
            "padding": null,
            "grid_auto_rows": null,
            "grid_gap": null,
            "max_width": null,
            "order": null,
            "_view_module_version": "1.2.0",
            "grid_template_areas": null,
            "object_position": null,
            "object_fit": null,
            "grid_auto_columns": null,
            "margin": null,
            "display": null,
            "left": null
          }
        },
        "3412aacdf83f4eb79686d03c631cb7f1": {
          "model_module": "@jupyter-widgets/controls",
          "model_name": "HTMLModel",
          "model_module_version": "1.5.0",
          "state": {
            "_view_name": "HTMLView",
            "style": "IPY_MODEL_48d9a6188c414bedb7466e897cc0bf72",
            "_dom_classes": [],
            "description": "",
            "_model_name": "HTMLModel",
            "placeholder": "​",
            "_view_module": "@jupyter-widgets/controls",
            "_model_module_version": "1.5.0",
            "value": "100%",
            "_view_count": null,
            "_view_module_version": "1.5.0",
            "description_tooltip": null,
            "_model_module": "@jupyter-widgets/controls",
            "layout": "IPY_MODEL_f7ff8aef0dc64666a2e13d448559a489"
          }
        },
        "11db9ec22d5c4241b70ddce769d0e3cc": {
          "model_module": "@jupyter-widgets/controls",
          "model_name": "FloatProgressModel",
          "model_module_version": "1.5.0",
          "state": {
            "_view_name": "ProgressView",
            "style": "IPY_MODEL_430118aa9f794ea1a16101fc9e340d6c",
            "_dom_classes": [],
            "description": "",
            "_model_name": "FloatProgressModel",
            "bar_style": "success",
            "max": 2,
            "_view_module": "@jupyter-widgets/controls",
            "_model_module_version": "1.5.0",
            "value": 2,
            "_view_count": null,
            "_view_module_version": "1.5.0",
            "orientation": "horizontal",
            "min": 0,
            "description_tooltip": null,
            "_model_module": "@jupyter-widgets/controls",
            "layout": "IPY_MODEL_a87426cd92134515b5505517e153b07f"
          }
        },
        "7db47f841d1d4717af7e7d67cd55f418": {
          "model_module": "@jupyter-widgets/controls",
          "model_name": "HTMLModel",
          "model_module_version": "1.5.0",
          "state": {
            "_view_name": "HTMLView",
            "style": "IPY_MODEL_db611e14f84a485e9ae1793732947053",
            "_dom_classes": [],
            "description": "",
            "_model_name": "HTMLModel",
            "placeholder": "​",
            "_view_module": "@jupyter-widgets/controls",
            "_model_module_version": "1.5.0",
            "value": " 2/2 [00:00&lt;00:00,  9.83it/s]",
            "_view_count": null,
            "_view_module_version": "1.5.0",
            "description_tooltip": null,
            "_model_module": "@jupyter-widgets/controls",
            "layout": "IPY_MODEL_24efcb95c2194b6f8b2810c06f1d2f35"
          }
        },
        "48d9a6188c414bedb7466e897cc0bf72": {
          "model_module": "@jupyter-widgets/controls",
          "model_name": "DescriptionStyleModel",
          "model_module_version": "1.5.0",
          "state": {
            "_view_name": "StyleView",
            "_model_name": "DescriptionStyleModel",
            "description_width": "",
            "_view_module": "@jupyter-widgets/base",
            "_model_module_version": "1.5.0",
            "_view_count": null,
            "_view_module_version": "1.2.0",
            "_model_module": "@jupyter-widgets/controls"
          }
        },
        "f7ff8aef0dc64666a2e13d448559a489": {
          "model_module": "@jupyter-widgets/base",
          "model_name": "LayoutModel",
          "model_module_version": "1.2.0",
          "state": {
            "_view_name": "LayoutView",
            "grid_template_rows": null,
            "right": null,
            "justify_content": null,
            "_view_module": "@jupyter-widgets/base",
            "overflow": null,
            "_model_module_version": "1.2.0",
            "_view_count": null,
            "flex_flow": null,
            "width": null,
            "min_width": null,
            "border": null,
            "align_items": null,
            "bottom": null,
            "_model_module": "@jupyter-widgets/base",
            "top": null,
            "grid_column": null,
            "overflow_y": null,
            "overflow_x": null,
            "grid_auto_flow": null,
            "grid_area": null,
            "grid_template_columns": null,
            "flex": null,
            "_model_name": "LayoutModel",
            "justify_items": null,
            "grid_row": null,
            "max_height": null,
            "align_content": null,
            "visibility": null,
            "align_self": null,
            "height": null,
            "min_height": null,
            "padding": null,
            "grid_auto_rows": null,
            "grid_gap": null,
            "max_width": null,
            "order": null,
            "_view_module_version": "1.2.0",
            "grid_template_areas": null,
            "object_position": null,
            "object_fit": null,
            "grid_auto_columns": null,
            "margin": null,
            "display": null,
            "left": null
          }
        },
        "430118aa9f794ea1a16101fc9e340d6c": {
          "model_module": "@jupyter-widgets/controls",
          "model_name": "ProgressStyleModel",
          "model_module_version": "1.5.0",
          "state": {
            "_view_name": "StyleView",
            "_model_name": "ProgressStyleModel",
            "description_width": "",
            "_view_module": "@jupyter-widgets/base",
            "_model_module_version": "1.5.0",
            "_view_count": null,
            "_view_module_version": "1.2.0",
            "bar_color": null,
            "_model_module": "@jupyter-widgets/controls"
          }
        },
        "a87426cd92134515b5505517e153b07f": {
          "model_module": "@jupyter-widgets/base",
          "model_name": "LayoutModel",
          "model_module_version": "1.2.0",
          "state": {
            "_view_name": "LayoutView",
            "grid_template_rows": null,
            "right": null,
            "justify_content": null,
            "_view_module": "@jupyter-widgets/base",
            "overflow": null,
            "_model_module_version": "1.2.0",
            "_view_count": null,
            "flex_flow": null,
            "width": null,
            "min_width": null,
            "border": null,
            "align_items": null,
            "bottom": null,
            "_model_module": "@jupyter-widgets/base",
            "top": null,
            "grid_column": null,
            "overflow_y": null,
            "overflow_x": null,
            "grid_auto_flow": null,
            "grid_area": null,
            "grid_template_columns": null,
            "flex": null,
            "_model_name": "LayoutModel",
            "justify_items": null,
            "grid_row": null,
            "max_height": null,
            "align_content": null,
            "visibility": null,
            "align_self": null,
            "height": null,
            "min_height": null,
            "padding": null,
            "grid_auto_rows": null,
            "grid_gap": null,
            "max_width": null,
            "order": null,
            "_view_module_version": "1.2.0",
            "grid_template_areas": null,
            "object_position": null,
            "object_fit": null,
            "grid_auto_columns": null,
            "margin": null,
            "display": null,
            "left": null
          }
        },
        "db611e14f84a485e9ae1793732947053": {
          "model_module": "@jupyter-widgets/controls",
          "model_name": "DescriptionStyleModel",
          "model_module_version": "1.5.0",
          "state": {
            "_view_name": "StyleView",
            "_model_name": "DescriptionStyleModel",
            "description_width": "",
            "_view_module": "@jupyter-widgets/base",
            "_model_module_version": "1.5.0",
            "_view_count": null,
            "_view_module_version": "1.2.0",
            "_model_module": "@jupyter-widgets/controls"
          }
        },
        "24efcb95c2194b6f8b2810c06f1d2f35": {
          "model_module": "@jupyter-widgets/base",
          "model_name": "LayoutModel",
          "model_module_version": "1.2.0",
          "state": {
            "_view_name": "LayoutView",
            "grid_template_rows": null,
            "right": null,
            "justify_content": null,
            "_view_module": "@jupyter-widgets/base",
            "overflow": null,
            "_model_module_version": "1.2.0",
            "_view_count": null,
            "flex_flow": null,
            "width": null,
            "min_width": null,
            "border": null,
            "align_items": null,
            "bottom": null,
            "_model_module": "@jupyter-widgets/base",
            "top": null,
            "grid_column": null,
            "overflow_y": null,
            "overflow_x": null,
            "grid_auto_flow": null,
            "grid_area": null,
            "grid_template_columns": null,
            "flex": null,
            "_model_name": "LayoutModel",
            "justify_items": null,
            "grid_row": null,
            "max_height": null,
            "align_content": null,
            "visibility": null,
            "align_self": null,
            "height": null,
            "min_height": null,
            "padding": null,
            "grid_auto_rows": null,
            "grid_gap": null,
            "max_width": null,
            "order": null,
            "_view_module_version": "1.2.0",
            "grid_template_areas": null,
            "object_position": null,
            "object_fit": null,
            "grid_auto_columns": null,
            "margin": null,
            "display": null,
            "left": null
          }
        }
      }
    }
  },
  "cells": [
    {
      "cell_type": "code",
      "metadata": {
        "colab": {
          "base_uri": "https://localhost:8080/"
        },
        "id": "pU4vVkijSx98",
        "outputId": "46d96675-a69c-4939-d4d1-de70913fe4de"
      },
      "source": [
        "!pip install spacy --user\n",
        "!python3 -m spacy download it_core_news_sm\n",
        "!pip3 install -U spacy\n",
        "!pip3 install spacy\n",
        "!python -m spacy download it_core_news_sm"
      ],
      "execution_count": 1,
      "outputs": [
        {
          "output_type": "stream",
          "name": "stdout",
          "text": [
            "Requirement already satisfied: spacy in /usr/local/lib/python3.7/dist-packages (2.2.4)\n",
            "Requirement already satisfied: thinc==7.4.0 in /usr/local/lib/python3.7/dist-packages (from spacy) (7.4.0)\n",
            "Requirement already satisfied: catalogue<1.1.0,>=0.0.7 in /usr/local/lib/python3.7/dist-packages (from spacy) (1.0.0)\n",
            "Requirement already satisfied: murmurhash<1.1.0,>=0.28.0 in /usr/local/lib/python3.7/dist-packages (from spacy) (1.0.5)\n",
            "Requirement already satisfied: requests<3.0.0,>=2.13.0 in /usr/local/lib/python3.7/dist-packages (from spacy) (2.23.0)\n",
            "Requirement already satisfied: preshed<3.1.0,>=3.0.2 in /usr/local/lib/python3.7/dist-packages (from spacy) (3.0.5)\n",
            "Requirement already satisfied: srsly<1.1.0,>=1.0.2 in /usr/local/lib/python3.7/dist-packages (from spacy) (1.0.5)\n",
            "Requirement already satisfied: numpy>=1.15.0 in /usr/local/lib/python3.7/dist-packages (from spacy) (1.19.5)\n",
            "Requirement already satisfied: blis<0.5.0,>=0.4.0 in /usr/local/lib/python3.7/dist-packages (from spacy) (0.4.1)\n",
            "Requirement already satisfied: tqdm<5.0.0,>=4.38.0 in /usr/local/lib/python3.7/dist-packages (from spacy) (4.62.3)\n",
            "Requirement already satisfied: plac<1.2.0,>=0.9.6 in /usr/local/lib/python3.7/dist-packages (from spacy) (1.1.3)\n",
            "Requirement already satisfied: cymem<2.1.0,>=2.0.2 in /usr/local/lib/python3.7/dist-packages (from spacy) (2.0.5)\n",
            "Requirement already satisfied: wasabi<1.1.0,>=0.4.0 in /usr/local/lib/python3.7/dist-packages (from spacy) (0.8.2)\n",
            "Requirement already satisfied: setuptools in /usr/local/lib/python3.7/dist-packages (from spacy) (57.4.0)\n",
            "Requirement already satisfied: importlib-metadata>=0.20 in /usr/local/lib/python3.7/dist-packages (from catalogue<1.1.0,>=0.0.7->spacy) (4.8.1)\n",
            "Requirement already satisfied: typing-extensions>=3.6.4 in /usr/local/lib/python3.7/dist-packages (from importlib-metadata>=0.20->catalogue<1.1.0,>=0.0.7->spacy) (3.7.4.3)\n",
            "Requirement already satisfied: zipp>=0.5 in /usr/local/lib/python3.7/dist-packages (from importlib-metadata>=0.20->catalogue<1.1.0,>=0.0.7->spacy) (3.6.0)\n",
            "Requirement already satisfied: idna<3,>=2.5 in /usr/local/lib/python3.7/dist-packages (from requests<3.0.0,>=2.13.0->spacy) (2.10)\n",
            "Requirement already satisfied: chardet<4,>=3.0.2 in /usr/local/lib/python3.7/dist-packages (from requests<3.0.0,>=2.13.0->spacy) (3.0.4)\n",
            "Requirement already satisfied: certifi>=2017.4.17 in /usr/local/lib/python3.7/dist-packages (from requests<3.0.0,>=2.13.0->spacy) (2021.5.30)\n",
            "Requirement already satisfied: urllib3!=1.25.0,!=1.25.1,<1.26,>=1.21.1 in /usr/local/lib/python3.7/dist-packages (from requests<3.0.0,>=2.13.0->spacy) (1.24.3)\n",
            "Collecting it_core_news_sm==2.2.5\n",
            "  Downloading https://github.com/explosion/spacy-models/releases/download/it_core_news_sm-2.2.5/it_core_news_sm-2.2.5.tar.gz (14.5 MB)\n",
            "\u001b[K     |████████████████████████████████| 14.5 MB 3.1 MB/s \n",
            "\u001b[?25hRequirement already satisfied: spacy>=2.2.2 in /usr/local/lib/python3.7/dist-packages (from it_core_news_sm==2.2.5) (2.2.4)\n",
            "Requirement already satisfied: wasabi<1.1.0,>=0.4.0 in /usr/local/lib/python3.7/dist-packages (from spacy>=2.2.2->it_core_news_sm==2.2.5) (0.8.2)\n",
            "Requirement already satisfied: blis<0.5.0,>=0.4.0 in /usr/local/lib/python3.7/dist-packages (from spacy>=2.2.2->it_core_news_sm==2.2.5) (0.4.1)\n",
            "Requirement already satisfied: cymem<2.1.0,>=2.0.2 in /usr/local/lib/python3.7/dist-packages (from spacy>=2.2.2->it_core_news_sm==2.2.5) (2.0.5)\n",
            "Requirement already satisfied: preshed<3.1.0,>=3.0.2 in /usr/local/lib/python3.7/dist-packages (from spacy>=2.2.2->it_core_news_sm==2.2.5) (3.0.5)\n",
            "Requirement already satisfied: requests<3.0.0,>=2.13.0 in /usr/local/lib/python3.7/dist-packages (from spacy>=2.2.2->it_core_news_sm==2.2.5) (2.23.0)\n",
            "Requirement already satisfied: numpy>=1.15.0 in /usr/local/lib/python3.7/dist-packages (from spacy>=2.2.2->it_core_news_sm==2.2.5) (1.19.5)\n",
            "Requirement already satisfied: thinc==7.4.0 in /usr/local/lib/python3.7/dist-packages (from spacy>=2.2.2->it_core_news_sm==2.2.5) (7.4.0)\n",
            "Requirement already satisfied: plac<1.2.0,>=0.9.6 in /usr/local/lib/python3.7/dist-packages (from spacy>=2.2.2->it_core_news_sm==2.2.5) (1.1.3)\n",
            "Requirement already satisfied: srsly<1.1.0,>=1.0.2 in /usr/local/lib/python3.7/dist-packages (from spacy>=2.2.2->it_core_news_sm==2.2.5) (1.0.5)\n",
            "Requirement already satisfied: murmurhash<1.1.0,>=0.28.0 in /usr/local/lib/python3.7/dist-packages (from spacy>=2.2.2->it_core_news_sm==2.2.5) (1.0.5)\n",
            "Requirement already satisfied: setuptools in /usr/local/lib/python3.7/dist-packages (from spacy>=2.2.2->it_core_news_sm==2.2.5) (57.4.0)\n",
            "Requirement already satisfied: tqdm<5.0.0,>=4.38.0 in /usr/local/lib/python3.7/dist-packages (from spacy>=2.2.2->it_core_news_sm==2.2.5) (4.62.3)\n",
            "Requirement already satisfied: catalogue<1.1.0,>=0.0.7 in /usr/local/lib/python3.7/dist-packages (from spacy>=2.2.2->it_core_news_sm==2.2.5) (1.0.0)\n",
            "Requirement already satisfied: importlib-metadata>=0.20 in /usr/local/lib/python3.7/dist-packages (from catalogue<1.1.0,>=0.0.7->spacy>=2.2.2->it_core_news_sm==2.2.5) (4.8.1)\n",
            "Requirement already satisfied: typing-extensions>=3.6.4 in /usr/local/lib/python3.7/dist-packages (from importlib-metadata>=0.20->catalogue<1.1.0,>=0.0.7->spacy>=2.2.2->it_core_news_sm==2.2.5) (3.7.4.3)\n",
            "Requirement already satisfied: zipp>=0.5 in /usr/local/lib/python3.7/dist-packages (from importlib-metadata>=0.20->catalogue<1.1.0,>=0.0.7->spacy>=2.2.2->it_core_news_sm==2.2.5) (3.6.0)\n",
            "Requirement already satisfied: urllib3!=1.25.0,!=1.25.1,<1.26,>=1.21.1 in /usr/local/lib/python3.7/dist-packages (from requests<3.0.0,>=2.13.0->spacy>=2.2.2->it_core_news_sm==2.2.5) (1.24.3)\n",
            "Requirement already satisfied: chardet<4,>=3.0.2 in /usr/local/lib/python3.7/dist-packages (from requests<3.0.0,>=2.13.0->spacy>=2.2.2->it_core_news_sm==2.2.5) (3.0.4)\n",
            "Requirement already satisfied: certifi>=2017.4.17 in /usr/local/lib/python3.7/dist-packages (from requests<3.0.0,>=2.13.0->spacy>=2.2.2->it_core_news_sm==2.2.5) (2021.5.30)\n",
            "Requirement already satisfied: idna<3,>=2.5 in /usr/local/lib/python3.7/dist-packages (from requests<3.0.0,>=2.13.0->spacy>=2.2.2->it_core_news_sm==2.2.5) (2.10)\n",
            "Building wheels for collected packages: it-core-news-sm\n",
            "  Building wheel for it-core-news-sm (setup.py) ... \u001b[?25l\u001b[?25hdone\n",
            "  Created wheel for it-core-news-sm: filename=it_core_news_sm-2.2.5-py3-none-any.whl size=14471129 sha256=79978ddd4555b4fe73ab2a2dee214f28f4a14686cf11d5cc0de5f93878efed63\n",
            "  Stored in directory: /tmp/pip-ephem-wheel-cache-flnsjcho/wheels/87/88/46/36fd0cabbebd89b2ee247bf113c1ca4f2cb184f8b7a6758ba2\n",
            "Successfully built it-core-news-sm\n",
            "Installing collected packages: it-core-news-sm\n",
            "Successfully installed it-core-news-sm-2.2.5\n",
            "\u001b[38;5;2m✔ Download and installation successful\u001b[0m\n",
            "You can now load the model via spacy.load('it_core_news_sm')\n",
            "Requirement already satisfied: spacy in /usr/local/lib/python3.7/dist-packages (2.2.4)\n",
            "Collecting spacy\n",
            "  Downloading spacy-3.1.4-cp37-cp37m-manylinux_2_17_x86_64.manylinux2014_x86_64.whl (5.9 MB)\n",
            "\u001b[K     |████████████████████████████████| 5.9 MB 4.0 MB/s \n",
            "\u001b[?25hRequirement already satisfied: setuptools in /usr/local/lib/python3.7/dist-packages (from spacy) (57.4.0)\n",
            "Requirement already satisfied: cymem<2.1.0,>=2.0.2 in /usr/local/lib/python3.7/dist-packages (from spacy) (2.0.5)\n",
            "Requirement already satisfied: wasabi<1.1.0,>=0.8.1 in /usr/local/lib/python3.7/dist-packages (from spacy) (0.8.2)\n",
            "Requirement already satisfied: murmurhash<1.1.0,>=0.28.0 in /usr/local/lib/python3.7/dist-packages (from spacy) (1.0.5)\n",
            "Requirement already satisfied: jinja2 in /usr/local/lib/python3.7/dist-packages (from spacy) (2.11.3)\n",
            "Collecting srsly<3.0.0,>=2.4.1\n",
            "  Downloading srsly-2.4.2-cp37-cp37m-manylinux_2_17_x86_64.manylinux2014_x86_64.whl (451 kB)\n",
            "\u001b[K     |████████████████████████████████| 451 kB 60.8 MB/s \n",
            "\u001b[?25hCollecting typer<0.5.0,>=0.3.0\n",
            "  Downloading typer-0.4.0-py3-none-any.whl (27 kB)\n",
            "Collecting catalogue<2.1.0,>=2.0.6\n",
            "  Downloading catalogue-2.0.6-py3-none-any.whl (17 kB)\n",
            "Collecting spacy-legacy<3.1.0,>=3.0.8\n",
            "  Downloading spacy_legacy-3.0.8-py2.py3-none-any.whl (14 kB)\n",
            "Requirement already satisfied: preshed<3.1.0,>=3.0.2 in /usr/local/lib/python3.7/dist-packages (from spacy) (3.0.5)\n",
            "Requirement already satisfied: numpy>=1.15.0 in /usr/local/lib/python3.7/dist-packages (from spacy) (1.19.5)\n",
            "Collecting thinc<8.1.0,>=8.0.12\n",
            "  Downloading thinc-8.0.12-cp37-cp37m-manylinux_2_17_x86_64.manylinux2014_x86_64.whl (628 kB)\n",
            "\u001b[K     |████████████████████████████████| 628 kB 47.4 MB/s \n",
            "\u001b[?25hRequirement already satisfied: packaging>=20.0 in /usr/local/lib/python3.7/dist-packages (from spacy) (21.0)\n",
            "Collecting pathy>=0.3.5\n",
            "  Downloading pathy-0.6.1-py3-none-any.whl (42 kB)\n",
            "\u001b[K     |████████████████████████████████| 42 kB 1.5 MB/s \n",
            "\u001b[?25hRequirement already satisfied: blis<0.8.0,>=0.4.0 in /usr/local/lib/python3.7/dist-packages (from spacy) (0.4.1)\n",
            "Requirement already satisfied: requests<3.0.0,>=2.13.0 in /usr/local/lib/python3.7/dist-packages (from spacy) (2.23.0)\n",
            "Requirement already satisfied: typing-extensions<4.0.0.0,>=3.7.4 in /usr/local/lib/python3.7/dist-packages (from spacy) (3.7.4.3)\n",
            "Collecting pydantic!=1.8,!=1.8.1,<1.9.0,>=1.7.4\n",
            "  Downloading pydantic-1.8.2-cp37-cp37m-manylinux2014_x86_64.whl (10.1 MB)\n",
            "\u001b[K     |████████████████████████████████| 10.1 MB 25.5 MB/s \n",
            "\u001b[?25hRequirement already satisfied: tqdm<5.0.0,>=4.38.0 in /usr/local/lib/python3.7/dist-packages (from spacy) (4.62.3)\n",
            "Requirement already satisfied: zipp>=0.5 in /usr/local/lib/python3.7/dist-packages (from catalogue<2.1.0,>=2.0.6->spacy) (3.6.0)\n",
            "Requirement already satisfied: pyparsing>=2.0.2 in /usr/local/lib/python3.7/dist-packages (from packaging>=20.0->spacy) (2.4.7)\n",
            "Requirement already satisfied: smart-open<6.0.0,>=5.0.0 in /usr/local/lib/python3.7/dist-packages (from pathy>=0.3.5->spacy) (5.2.1)\n",
            "Requirement already satisfied: idna<3,>=2.5 in /usr/local/lib/python3.7/dist-packages (from requests<3.0.0,>=2.13.0->spacy) (2.10)\n",
            "Requirement already satisfied: chardet<4,>=3.0.2 in /usr/local/lib/python3.7/dist-packages (from requests<3.0.0,>=2.13.0->spacy) (3.0.4)\n",
            "Requirement already satisfied: urllib3!=1.25.0,!=1.25.1,<1.26,>=1.21.1 in /usr/local/lib/python3.7/dist-packages (from requests<3.0.0,>=2.13.0->spacy) (1.24.3)\n",
            "Requirement already satisfied: certifi>=2017.4.17 in /usr/local/lib/python3.7/dist-packages (from requests<3.0.0,>=2.13.0->spacy) (2021.5.30)\n",
            "Requirement already satisfied: click<9.0.0,>=7.1.1 in /usr/local/lib/python3.7/dist-packages (from typer<0.5.0,>=0.3.0->spacy) (7.1.2)\n",
            "Requirement already satisfied: MarkupSafe>=0.23 in /usr/local/lib/python3.7/dist-packages (from jinja2->spacy) (2.0.1)\n",
            "Installing collected packages: catalogue, typer, srsly, pydantic, thinc, spacy-legacy, pathy, spacy\n",
            "  Attempting uninstall: catalogue\n",
            "    Found existing installation: catalogue 1.0.0\n",
            "    Uninstalling catalogue-1.0.0:\n",
            "      Successfully uninstalled catalogue-1.0.0\n",
            "  Attempting uninstall: srsly\n",
            "    Found existing installation: srsly 1.0.5\n",
            "    Uninstalling srsly-1.0.5:\n",
            "      Successfully uninstalled srsly-1.0.5\n",
            "  Attempting uninstall: thinc\n",
            "    Found existing installation: thinc 7.4.0\n",
            "    Uninstalling thinc-7.4.0:\n",
            "      Successfully uninstalled thinc-7.4.0\n",
            "  Attempting uninstall: spacy\n",
            "    Found existing installation: spacy 2.2.4\n",
            "    Uninstalling spacy-2.2.4:\n",
            "      Successfully uninstalled spacy-2.2.4\n",
            "Successfully installed catalogue-2.0.6 pathy-0.6.1 pydantic-1.8.2 spacy-3.1.4 spacy-legacy-3.0.8 srsly-2.4.2 thinc-8.0.12 typer-0.4.0\n",
            "Requirement already satisfied: spacy in /usr/local/lib/python3.7/dist-packages (3.1.4)\n",
            "Requirement already satisfied: packaging>=20.0 in /usr/local/lib/python3.7/dist-packages (from spacy) (21.0)\n",
            "Requirement already satisfied: typing-extensions<4.0.0.0,>=3.7.4 in /usr/local/lib/python3.7/dist-packages (from spacy) (3.7.4.3)\n",
            "Requirement already satisfied: jinja2 in /usr/local/lib/python3.7/dist-packages (from spacy) (2.11.3)\n",
            "Requirement already satisfied: srsly<3.0.0,>=2.4.1 in /usr/local/lib/python3.7/dist-packages (from spacy) (2.4.2)\n",
            "Requirement already satisfied: catalogue<2.1.0,>=2.0.6 in /usr/local/lib/python3.7/dist-packages (from spacy) (2.0.6)\n",
            "Requirement already satisfied: pathy>=0.3.5 in /usr/local/lib/python3.7/dist-packages (from spacy) (0.6.1)\n",
            "Requirement already satisfied: spacy-legacy<3.1.0,>=3.0.8 in /usr/local/lib/python3.7/dist-packages (from spacy) (3.0.8)\n",
            "Requirement already satisfied: requests<3.0.0,>=2.13.0 in /usr/local/lib/python3.7/dist-packages (from spacy) (2.23.0)\n",
            "Requirement already satisfied: pydantic!=1.8,!=1.8.1,<1.9.0,>=1.7.4 in /usr/local/lib/python3.7/dist-packages (from spacy) (1.8.2)\n",
            "Requirement already satisfied: typer<0.5.0,>=0.3.0 in /usr/local/lib/python3.7/dist-packages (from spacy) (0.4.0)\n",
            "Requirement already satisfied: setuptools in /usr/local/lib/python3.7/dist-packages (from spacy) (57.4.0)\n",
            "Requirement already satisfied: thinc<8.1.0,>=8.0.12 in /usr/local/lib/python3.7/dist-packages (from spacy) (8.0.12)\n",
            "Requirement already satisfied: wasabi<1.1.0,>=0.8.1 in /usr/local/lib/python3.7/dist-packages (from spacy) (0.8.2)\n",
            "Requirement already satisfied: blis<0.8.0,>=0.4.0 in /usr/local/lib/python3.7/dist-packages (from spacy) (0.4.1)\n",
            "Requirement already satisfied: tqdm<5.0.0,>=4.38.0 in /usr/local/lib/python3.7/dist-packages (from spacy) (4.62.3)\n",
            "Requirement already satisfied: preshed<3.1.0,>=3.0.2 in /usr/local/lib/python3.7/dist-packages (from spacy) (3.0.5)\n",
            "Requirement already satisfied: numpy>=1.15.0 in /usr/local/lib/python3.7/dist-packages (from spacy) (1.19.5)\n",
            "Requirement already satisfied: murmurhash<1.1.0,>=0.28.0 in /usr/local/lib/python3.7/dist-packages (from spacy) (1.0.5)\n",
            "Requirement already satisfied: cymem<2.1.0,>=2.0.2 in /usr/local/lib/python3.7/dist-packages (from spacy) (2.0.5)\n",
            "Requirement already satisfied: zipp>=0.5 in /usr/local/lib/python3.7/dist-packages (from catalogue<2.1.0,>=2.0.6->spacy) (3.6.0)\n",
            "Requirement already satisfied: pyparsing>=2.0.2 in /usr/local/lib/python3.7/dist-packages (from packaging>=20.0->spacy) (2.4.7)\n",
            "Requirement already satisfied: smart-open<6.0.0,>=5.0.0 in /usr/local/lib/python3.7/dist-packages (from pathy>=0.3.5->spacy) (5.2.1)\n",
            "Requirement already satisfied: idna<3,>=2.5 in /usr/local/lib/python3.7/dist-packages (from requests<3.0.0,>=2.13.0->spacy) (2.10)\n",
            "Requirement already satisfied: certifi>=2017.4.17 in /usr/local/lib/python3.7/dist-packages (from requests<3.0.0,>=2.13.0->spacy) (2021.5.30)\n",
            "Requirement already satisfied: urllib3!=1.25.0,!=1.25.1,<1.26,>=1.21.1 in /usr/local/lib/python3.7/dist-packages (from requests<3.0.0,>=2.13.0->spacy) (1.24.3)\n",
            "Requirement already satisfied: chardet<4,>=3.0.2 in /usr/local/lib/python3.7/dist-packages (from requests<3.0.0,>=2.13.0->spacy) (3.0.4)\n",
            "Requirement already satisfied: click<9.0.0,>=7.1.1 in /usr/local/lib/python3.7/dist-packages (from typer<0.5.0,>=0.3.0->spacy) (7.1.2)\n",
            "Requirement already satisfied: MarkupSafe>=0.23 in /usr/local/lib/python3.7/dist-packages (from jinja2->spacy) (2.0.1)\n",
            "Collecting it-core-news-sm==3.1.0\n",
            "  Downloading https://github.com/explosion/spacy-models/releases/download/it_core_news_sm-3.1.0/it_core_news_sm-3.1.0-py3-none-any.whl (21.1 MB)\n",
            "\u001b[K     |████████████████████████████████| 21.1 MB 1.7 MB/s \n",
            "\u001b[?25hRequirement already satisfied: spacy<3.2.0,>=3.1.0 in /usr/local/lib/python3.7/dist-packages (from it-core-news-sm==3.1.0) (3.1.4)\n",
            "Requirement already satisfied: typing-extensions<4.0.0.0,>=3.7.4 in /usr/local/lib/python3.7/dist-packages (from spacy<3.2.0,>=3.1.0->it-core-news-sm==3.1.0) (3.7.4.3)\n",
            "Requirement already satisfied: blis<0.8.0,>=0.4.0 in /usr/local/lib/python3.7/dist-packages (from spacy<3.2.0,>=3.1.0->it-core-news-sm==3.1.0) (0.4.1)\n",
            "Requirement already satisfied: pathy>=0.3.5 in /usr/local/lib/python3.7/dist-packages (from spacy<3.2.0,>=3.1.0->it-core-news-sm==3.1.0) (0.6.1)\n",
            "Requirement already satisfied: numpy>=1.15.0 in /usr/local/lib/python3.7/dist-packages (from spacy<3.2.0,>=3.1.0->it-core-news-sm==3.1.0) (1.19.5)\n",
            "Requirement already satisfied: requests<3.0.0,>=2.13.0 in /usr/local/lib/python3.7/dist-packages (from spacy<3.2.0,>=3.1.0->it-core-news-sm==3.1.0) (2.23.0)\n",
            "Requirement already satisfied: spacy-legacy<3.1.0,>=3.0.8 in /usr/local/lib/python3.7/dist-packages (from spacy<3.2.0,>=3.1.0->it-core-news-sm==3.1.0) (3.0.8)\n",
            "Requirement already satisfied: wasabi<1.1.0,>=0.8.1 in /usr/local/lib/python3.7/dist-packages (from spacy<3.2.0,>=3.1.0->it-core-news-sm==3.1.0) (0.8.2)\n",
            "Requirement already satisfied: setuptools in /usr/local/lib/python3.7/dist-packages (from spacy<3.2.0,>=3.1.0->it-core-news-sm==3.1.0) (57.4.0)\n",
            "Requirement already satisfied: catalogue<2.1.0,>=2.0.6 in /usr/local/lib/python3.7/dist-packages (from spacy<3.2.0,>=3.1.0->it-core-news-sm==3.1.0) (2.0.6)\n",
            "Requirement already satisfied: pydantic!=1.8,!=1.8.1,<1.9.0,>=1.7.4 in /usr/local/lib/python3.7/dist-packages (from spacy<3.2.0,>=3.1.0->it-core-news-sm==3.1.0) (1.8.2)\n",
            "Requirement already satisfied: murmurhash<1.1.0,>=0.28.0 in /usr/local/lib/python3.7/dist-packages (from spacy<3.2.0,>=3.1.0->it-core-news-sm==3.1.0) (1.0.5)\n",
            "Requirement already satisfied: thinc<8.1.0,>=8.0.12 in /usr/local/lib/python3.7/dist-packages (from spacy<3.2.0,>=3.1.0->it-core-news-sm==3.1.0) (8.0.12)\n",
            "Requirement already satisfied: typer<0.5.0,>=0.3.0 in /usr/local/lib/python3.7/dist-packages (from spacy<3.2.0,>=3.1.0->it-core-news-sm==3.1.0) (0.4.0)\n",
            "Requirement already satisfied: packaging>=20.0 in /usr/local/lib/python3.7/dist-packages (from spacy<3.2.0,>=3.1.0->it-core-news-sm==3.1.0) (21.0)\n",
            "Requirement already satisfied: tqdm<5.0.0,>=4.38.0 in /usr/local/lib/python3.7/dist-packages (from spacy<3.2.0,>=3.1.0->it-core-news-sm==3.1.0) (4.62.3)\n",
            "Requirement already satisfied: srsly<3.0.0,>=2.4.1 in /usr/local/lib/python3.7/dist-packages (from spacy<3.2.0,>=3.1.0->it-core-news-sm==3.1.0) (2.4.2)\n",
            "Requirement already satisfied: jinja2 in /usr/local/lib/python3.7/dist-packages (from spacy<3.2.0,>=3.1.0->it-core-news-sm==3.1.0) (2.11.3)\n",
            "Requirement already satisfied: preshed<3.1.0,>=3.0.2 in /usr/local/lib/python3.7/dist-packages (from spacy<3.2.0,>=3.1.0->it-core-news-sm==3.1.0) (3.0.5)\n",
            "Requirement already satisfied: cymem<2.1.0,>=2.0.2 in /usr/local/lib/python3.7/dist-packages (from spacy<3.2.0,>=3.1.0->it-core-news-sm==3.1.0) (2.0.5)\n",
            "Requirement already satisfied: zipp>=0.5 in /usr/local/lib/python3.7/dist-packages (from catalogue<2.1.0,>=2.0.6->spacy<3.2.0,>=3.1.0->it-core-news-sm==3.1.0) (3.6.0)\n",
            "Requirement already satisfied: pyparsing>=2.0.2 in /usr/local/lib/python3.7/dist-packages (from packaging>=20.0->spacy<3.2.0,>=3.1.0->it-core-news-sm==3.1.0) (2.4.7)\n",
            "Requirement already satisfied: smart-open<6.0.0,>=5.0.0 in /usr/local/lib/python3.7/dist-packages (from pathy>=0.3.5->spacy<3.2.0,>=3.1.0->it-core-news-sm==3.1.0) (5.2.1)\n",
            "Requirement already satisfied: idna<3,>=2.5 in /usr/local/lib/python3.7/dist-packages (from requests<3.0.0,>=2.13.0->spacy<3.2.0,>=3.1.0->it-core-news-sm==3.1.0) (2.10)\n",
            "Requirement already satisfied: certifi>=2017.4.17 in /usr/local/lib/python3.7/dist-packages (from requests<3.0.0,>=2.13.0->spacy<3.2.0,>=3.1.0->it-core-news-sm==3.1.0) (2021.5.30)\n",
            "Requirement already satisfied: urllib3!=1.25.0,!=1.25.1,<1.26,>=1.21.1 in /usr/local/lib/python3.7/dist-packages (from requests<3.0.0,>=2.13.0->spacy<3.2.0,>=3.1.0->it-core-news-sm==3.1.0) (1.24.3)\n",
            "Requirement already satisfied: chardet<4,>=3.0.2 in /usr/local/lib/python3.7/dist-packages (from requests<3.0.0,>=2.13.0->spacy<3.2.0,>=3.1.0->it-core-news-sm==3.1.0) (3.0.4)\n",
            "Requirement already satisfied: click<9.0.0,>=7.1.1 in /usr/local/lib/python3.7/dist-packages (from typer<0.5.0,>=0.3.0->spacy<3.2.0,>=3.1.0->it-core-news-sm==3.1.0) (7.1.2)\n",
            "Requirement already satisfied: MarkupSafe>=0.23 in /usr/local/lib/python3.7/dist-packages (from jinja2->spacy<3.2.0,>=3.1.0->it-core-news-sm==3.1.0) (2.0.1)\n",
            "Installing collected packages: it-core-news-sm\n",
            "  Attempting uninstall: it-core-news-sm\n",
            "    Found existing installation: it-core-news-sm 2.2.5\n",
            "    Uninstalling it-core-news-sm-2.2.5:\n",
            "      Successfully uninstalled it-core-news-sm-2.2.5\n",
            "Successfully installed it-core-news-sm-3.1.0\n",
            "\u001b[38;5;2m✔ Download and installation successful\u001b[0m\n",
            "You can now load the package via spacy.load('it_core_news_sm')\n"
          ]
        }
      ]
    },
    {
      "cell_type": "code",
      "metadata": {
        "id": "Qng1Bb1OSkBV"
      },
      "source": [
        "import nltk\n",
        "from nltk.tokenize import sent_tokenize, word_tokenize\n",
        "import gensim\n",
        "from gensim.models import Word2Vec\n",
        "import pandas as pd"
      ],
      "execution_count": 2,
      "outputs": []
    },
    {
      "cell_type": "code",
      "metadata": {
        "colab": {
          "base_uri": "https://localhost:8080/",
          "height": 109
        },
        "id": "7w2YyS9uSkxx",
        "outputId": "f3b1d3fc-e87b-4362-ae82-f12eabd7dd18"
      },
      "source": [
        "df= pd.read_csv('Books.csv')\n",
        "df"
      ],
      "execution_count": 3,
      "outputs": [
        {
          "output_type": "execute_result",
          "data": {
            "text/html": [
              "<div>\n",
              "<style scoped>\n",
              "    .dataframe tbody tr th:only-of-type {\n",
              "        vertical-align: middle;\n",
              "    }\n",
              "\n",
              "    .dataframe tbody tr th {\n",
              "        vertical-align: top;\n",
              "    }\n",
              "\n",
              "    .dataframe thead th {\n",
              "        text-align: right;\n",
              "    }\n",
              "</style>\n",
              "<table border=\"1\" class=\"dataframe\">\n",
              "  <thead>\n",
              "    <tr style=\"text-align: right;\">\n",
              "      <th></th>\n",
              "      <th>Unnamed: 0</th>\n",
              "      <th>_id</th>\n",
              "      <th>author</th>\n",
              "      <th>contents</th>\n",
              "      <th>publishing house</th>\n",
              "      <th>year</th>\n",
              "    </tr>\n",
              "  </thead>\n",
              "  <tbody>\n",
              "    <tr>\n",
              "      <th>0</th>\n",
              "      <td>0</td>\n",
              "      <td>Jane Eyre_Feltrinelli_pulito.txt</td>\n",
              "      <td>Charlotte Brontë</td>\n",
              "      <td>Quel giorno era impossibile uscire a passeggio...</td>\n",
              "      <td>Feltrinelli Editore</td>\n",
              "      <td>2014</td>\n",
              "    </tr>\n",
              "    <tr>\n",
              "      <th>1</th>\n",
              "      <td>1</td>\n",
              "      <td>Jane Eyre_Treves_pulito.txt</td>\n",
              "      <td>Charlotte Brontë</td>\n",
              "      <td>In quel giorno era impossibile passeggiare. La...</td>\n",
              "      <td>Fratelli Treves Editori</td>\n",
              "      <td>1904</td>\n",
              "    </tr>\n",
              "  </tbody>\n",
              "</table>\n",
              "</div>"
            ],
            "text/plain": [
              "   Unnamed: 0                               _id  ...         publishing house  year\n",
              "0           0  Jane Eyre_Feltrinelli_pulito.txt  ...      Feltrinelli Editore  2014\n",
              "1           1       Jane Eyre_Treves_pulito.txt  ...  Fratelli Treves Editori  1904\n",
              "\n",
              "[2 rows x 6 columns]"
            ]
          },
          "metadata": {},
          "execution_count": 3
        }
      ]
    },
    {
      "cell_type": "code",
      "metadata": {
        "colab": {
          "base_uri": "https://localhost:8080/"
        },
        "id": "dyuGP7CazTTu",
        "outputId": "6bee9e77-0865-48b0-9909-06af1110fec5"
      },
      "source": [
        "import nltk\n",
        "nltk.download('punkt')"
      ],
      "execution_count": 4,
      "outputs": [
        {
          "output_type": "stream",
          "name": "stdout",
          "text": [
            "[nltk_data] Downloading package punkt to /root/nltk_data...\n",
            "[nltk_data]   Unzipping tokenizers/punkt.zip.\n"
          ]
        },
        {
          "output_type": "execute_result",
          "data": {
            "text/plain": [
              "True"
            ]
          },
          "metadata": {},
          "execution_count": 4
        }
      ]
    },
    {
      "cell_type": "code",
      "metadata": {
        "colab": {
          "base_uri": "https://localhost:8080/",
          "height": 109
        },
        "id": "7Mgdhb5pQmMH",
        "outputId": "c00ca2af-0590-4473-cc96-7907f4faa5dd"
      },
      "source": [
        "df['Frasi']= df.apply(lambda row: nltk.sent_tokenize(row['contents']), axis=1)\n",
        "df"
      ],
      "execution_count": 5,
      "outputs": [
        {
          "output_type": "execute_result",
          "data": {
            "text/html": [
              "<div>\n",
              "<style scoped>\n",
              "    .dataframe tbody tr th:only-of-type {\n",
              "        vertical-align: middle;\n",
              "    }\n",
              "\n",
              "    .dataframe tbody tr th {\n",
              "        vertical-align: top;\n",
              "    }\n",
              "\n",
              "    .dataframe thead th {\n",
              "        text-align: right;\n",
              "    }\n",
              "</style>\n",
              "<table border=\"1\" class=\"dataframe\">\n",
              "  <thead>\n",
              "    <tr style=\"text-align: right;\">\n",
              "      <th></th>\n",
              "      <th>Unnamed: 0</th>\n",
              "      <th>_id</th>\n",
              "      <th>author</th>\n",
              "      <th>contents</th>\n",
              "      <th>publishing house</th>\n",
              "      <th>year</th>\n",
              "      <th>Frasi</th>\n",
              "    </tr>\n",
              "  </thead>\n",
              "  <tbody>\n",
              "    <tr>\n",
              "      <th>0</th>\n",
              "      <td>0</td>\n",
              "      <td>Jane Eyre_Feltrinelli_pulito.txt</td>\n",
              "      <td>Charlotte Brontë</td>\n",
              "      <td>Quel giorno era impossibile uscire a passeggio...</td>\n",
              "      <td>Feltrinelli Editore</td>\n",
              "      <td>2014</td>\n",
              "      <td>[Quel giorno era impossibile uscire a passeggi...</td>\n",
              "    </tr>\n",
              "    <tr>\n",
              "      <th>1</th>\n",
              "      <td>1</td>\n",
              "      <td>Jane Eyre_Treves_pulito.txt</td>\n",
              "      <td>Charlotte Brontë</td>\n",
              "      <td>In quel giorno era impossibile passeggiare. La...</td>\n",
              "      <td>Fratelli Treves Editori</td>\n",
              "      <td>1904</td>\n",
              "      <td>[In quel giorno era impossibile passeggiare., ...</td>\n",
              "    </tr>\n",
              "  </tbody>\n",
              "</table>\n",
              "</div>"
            ],
            "text/plain": [
              "   Unnamed: 0  ...                                              Frasi\n",
              "0           0  ...  [Quel giorno era impossibile uscire a passeggi...\n",
              "1           1  ...  [In quel giorno era impossibile passeggiare., ...\n",
              "\n",
              "[2 rows x 7 columns]"
            ]
          },
          "metadata": {},
          "execution_count": 5
        }
      ]
    },
    {
      "cell_type": "code",
      "metadata": {
        "id": "lB_odwAvSvOu"
      },
      "source": [
        "import spacy\n",
        "from spacy.lang.it.examples import sentences \n",
        "from tqdm.notebook import tqdm\n",
        "tqdm.pandas()\n",
        "nlp = spacy.load('it_core_news_sm')\n",
        "nlp.max_length = 1064150 \n",
        "pipe = nlp.pipe(df['contents'], n_process=2, batch_size=2000)"
      ],
      "execution_count": 6,
      "outputs": []
    },
    {
      "cell_type": "code",
      "metadata": {
        "colab": {
          "base_uri": "https://localhost:8080/",
          "height": 49,
          "referenced_widgets": [
            "b71748caffd7472db43d51b7269d14a8",
            "86658432cf484584b067f2d92e083457",
            "2677f1cf214245e2ba7d8f2d52f9ad3c",
            "cb0d97f03ffb4161bdf62e5b4a279ff6",
            "716c107ef987402eb81c33dd9924cfe2",
            "e3d7ac8c30704d6c851467bb071edcdd",
            "7fcd14d6002c490f96a4fab470fb4042",
            "f5d48ec2618945eab2f7c0bce8e14b69",
            "1aef4373feda4bdc819d37f7629cb194",
            "c0f5473485ec40bc96617f69a19cd4fc",
            "52c7686e668d426da8f9ebda7af91003"
          ]
        },
        "id": "ahuPnSJWUGuB",
        "outputId": "a2a4a018-30cc-449e-b3ae-ed905eac0b46"
      },
      "source": [
        "docs = [x for x in tqdm(pipe)]"
      ],
      "execution_count": 7,
      "outputs": [
        {
          "output_type": "display_data",
          "data": {
            "application/vnd.jupyter.widget-view+json": {
              "model_id": "b71748caffd7472db43d51b7269d14a8",
              "version_minor": 0,
              "version_major": 2
            },
            "text/plain": [
              "0it [00:00, ?it/s]"
            ]
          },
          "metadata": {}
        }
      ]
    },
    {
      "cell_type": "code",
      "metadata": {
        "id": "gtOkvuqXSnl4"
      },
      "source": [
        "df['spacy_doc'] = docs"
      ],
      "execution_count": 8,
      "outputs": []
    },
    {
      "cell_type": "code",
      "metadata": {
        "colab": {
          "base_uri": "https://localhost:8080/",
          "height": 49,
          "referenced_widgets": [
            "d18c437555e14267b35e57abbdbf9ad3",
            "b9a88c7dcecc41238cb26b662587a240",
            "dd47600b21984d228909a66cc9448f12",
            "5bef6c6532714fdcbd327d83b0500b46",
            "32caaf6f6291423f90f2996a4555d68f",
            "cfe3a904e4c744eb9f25eaf3457ef36c",
            "cadc07c39acb434d858581c9392f4681",
            "4874ca86627749d787bc69ae75fe4aa2",
            "ca04d8ed0fb8419cb14b8eb94fb61b7a",
            "64cffd839cc347d6b0a47c6e4fc8384a",
            "d36fd767542a4bfb95bcec70812e3253"
          ]
        },
        "id": "Vh-xBTMEYRRr",
        "outputId": "1b2a5646-03ee-432e-e1d9-1ea3891ec210"
      },
      "source": [
        "df['POS_spacy'] = df['spacy_doc'].progress_apply(lambda x: [(y.text, y.pos_) for y in x])"
      ],
      "execution_count": 9,
      "outputs": [
        {
          "output_type": "display_data",
          "data": {
            "application/vnd.jupyter.widget-view+json": {
              "model_id": "d18c437555e14267b35e57abbdbf9ad3",
              "version_minor": 0,
              "version_major": 2
            },
            "text/plain": [
              "  0%|          | 0/2 [00:00<?, ?it/s]"
            ]
          },
          "metadata": {}
        }
      ]
    },
    {
      "cell_type": "code",
      "metadata": {
        "colab": {
          "base_uri": "https://localhost:8080/",
          "height": 49,
          "referenced_widgets": [
            "c943c52a82ef4b518b6d3654c88e0c9e",
            "658b557f771449a7b4897f602377ae47",
            "3412aacdf83f4eb79686d03c631cb7f1",
            "11db9ec22d5c4241b70ddce769d0e3cc",
            "7db47f841d1d4717af7e7d67cd55f418",
            "48d9a6188c414bedb7466e897cc0bf72",
            "f7ff8aef0dc64666a2e13d448559a489",
            "430118aa9f794ea1a16101fc9e340d6c",
            "a87426cd92134515b5505517e153b07f",
            "db611e14f84a485e9ae1793732947053",
            "24efcb95c2194b6f8b2810c06f1d2f35"
          ]
        },
        "id": "kiNrta23YSwK",
        "outputId": "fd27a314-be2b-4bf9-e69a-bf51c0138560"
      },
      "source": [
        "df['lemmatized'] = df['spacy_doc'].progress_apply(lambda x: \" \".join([y.lemma_ for y in x if len(x)>1]))"
      ],
      "execution_count": 10,
      "outputs": [
        {
          "output_type": "display_data",
          "data": {
            "application/vnd.jupyter.widget-view+json": {
              "model_id": "c943c52a82ef4b518b6d3654c88e0c9e",
              "version_minor": 0,
              "version_major": 2
            },
            "text/plain": [
              "  0%|          | 0/2 [00:00<?, ?it/s]"
            ]
          },
          "metadata": {}
        }
      ]
    },
    {
      "cell_type": "code",
      "metadata": {
        "colab": {
          "base_uri": "https://localhost:8080/"
        },
        "id": "2CK0JwpJEzrI",
        "outputId": "95ea725e-069c-4a46-ebf6-b036dce280ae"
      },
      "source": [
        "import nltk\n",
        "from nltk.corpus import stopwords\n",
        "import string\n",
        "nltk.download('stopwords')\n",
        "def clean(x):\n",
        "  stop = stopwords.words(\"italian\")\n",
        "  stop = stop + list(string.punctuation)\n",
        "  words  = [w for w in word_tokenize(x.lower()) if w.isalpha() and w not in stop]\n",
        "  return \" \".join(words)"
      ],
      "execution_count": 11,
      "outputs": [
        {
          "output_type": "stream",
          "name": "stdout",
          "text": [
            "[nltk_data] Downloading package stopwords to /root/nltk_data...\n",
            "[nltk_data]   Unzipping corpora/stopwords.zip.\n"
          ]
        }
      ]
    },
    {
      "cell_type": "code",
      "metadata": {
        "colab": {
          "base_uri": "https://localhost:8080/",
          "height": 224
        },
        "id": "GVB1a3WoEBjv",
        "outputId": "e475160e-95f4-46af-afa9-8efea49782e9"
      },
      "source": [
        "df['Frasi2']= df.apply(lambda row: nltk.sent_tokenize(row['lemmatized']), axis=1)\n",
        "df"
      ],
      "execution_count": 12,
      "outputs": [
        {
          "output_type": "execute_result",
          "data": {
            "text/html": [
              "<div>\n",
              "<style scoped>\n",
              "    .dataframe tbody tr th:only-of-type {\n",
              "        vertical-align: middle;\n",
              "    }\n",
              "\n",
              "    .dataframe tbody tr th {\n",
              "        vertical-align: top;\n",
              "    }\n",
              "\n",
              "    .dataframe thead th {\n",
              "        text-align: right;\n",
              "    }\n",
              "</style>\n",
              "<table border=\"1\" class=\"dataframe\">\n",
              "  <thead>\n",
              "    <tr style=\"text-align: right;\">\n",
              "      <th></th>\n",
              "      <th>Unnamed: 0</th>\n",
              "      <th>_id</th>\n",
              "      <th>author</th>\n",
              "      <th>contents</th>\n",
              "      <th>publishing house</th>\n",
              "      <th>year</th>\n",
              "      <th>Frasi</th>\n",
              "      <th>spacy_doc</th>\n",
              "      <th>POS_spacy</th>\n",
              "      <th>lemmatized</th>\n",
              "      <th>Frasi2</th>\n",
              "    </tr>\n",
              "  </thead>\n",
              "  <tbody>\n",
              "    <tr>\n",
              "      <th>0</th>\n",
              "      <td>0</td>\n",
              "      <td>Jane Eyre_Feltrinelli_pulito.txt</td>\n",
              "      <td>Charlotte Brontë</td>\n",
              "      <td>Quel giorno era impossibile uscire a passeggio...</td>\n",
              "      <td>Feltrinelli Editore</td>\n",
              "      <td>2014</td>\n",
              "      <td>[Quel giorno era impossibile uscire a passeggi...</td>\n",
              "      <td>(Quel, giorno, era, impossibile, uscire, a, pa...</td>\n",
              "      <td>[(Quel, DET), (giorno, NOUN), (era, AUX), (imp...</td>\n",
              "      <td>quello giorno essere impossibile uscire a pass...</td>\n",
              "      <td>[quello giorno essere impossibile uscire a pas...</td>\n",
              "    </tr>\n",
              "    <tr>\n",
              "      <th>1</th>\n",
              "      <td>1</td>\n",
              "      <td>Jane Eyre_Treves_pulito.txt</td>\n",
              "      <td>Charlotte Brontë</td>\n",
              "      <td>In quel giorno era impossibile passeggiare. La...</td>\n",
              "      <td>Fratelli Treves Editori</td>\n",
              "      <td>1904</td>\n",
              "      <td>[In quel giorno era impossibile passeggiare., ...</td>\n",
              "      <td>(In, quel, giorno, era, impossibile, passeggia...</td>\n",
              "      <td>[(In, ADP), (quel, DET), (giorno, NOUN), (era,...</td>\n",
              "      <td>in quello giorno essere impossibile passeggiar...</td>\n",
              "      <td>[in quello giorno essere impossibile passeggia...</td>\n",
              "    </tr>\n",
              "  </tbody>\n",
              "</table>\n",
              "</div>"
            ],
            "text/plain": [
              "   Unnamed: 0  ...                                             Frasi2\n",
              "0           0  ...  [quello giorno essere impossibile uscire a pas...\n",
              "1           1  ...  [in quello giorno essere impossibile passeggia...\n",
              "\n",
              "[2 rows x 11 columns]"
            ]
          },
          "metadata": {},
          "execution_count": 12
        }
      ]
    },
    {
      "cell_type": "code",
      "metadata": {
        "id": "rk3Pvg1205EM"
      },
      "source": [
        "import numpy as np\n",
        "documents = (np.array(df['Frasi2'][0]))\n",
        "documents2 = (np.array(df['Frasi2'][1]))\n",
        "\n",
        "data1 = pd.DataFrame(df['Frasi2'][0],columns={'text'})\n",
        "data2 = pd.DataFrame(df['Frasi2'][1], columns={'text'})\n",
        "data = data2.append(data1, ignore_index=True)"
      ],
      "execution_count": 13,
      "outputs": []
    },
    {
      "cell_type": "code",
      "metadata": {
        "id": "QqFRyD9Igqpt"
      },
      "source": [
        "data[\"Lemmi\"] = data[\"text\"].apply(clean)"
      ],
      "execution_count": 14,
      "outputs": []
    },
    {
      "cell_type": "code",
      "metadata": {
        "id": "Rh5I05RKfG0R"
      },
      "source": [
        "text = data[\"Lemmi\"]"
      ],
      "execution_count": 15,
      "outputs": []
    },
    {
      "cell_type": "code",
      "metadata": {
        "colab": {
          "base_uri": "https://localhost:8080/"
        },
        "id": "1M-Bgs-_4Yis",
        "outputId": "b61a8fd4-fa98-4117-e7b9-849f90b9541d"
      },
      "source": [
        "text"
      ],
      "execution_count": 16,
      "outputs": [
        {
          "output_type": "execute_result",
          "data": {
            "text/plain": [
              "0                    giorno essere impossibile passeggiare\n",
              "1        mattina avere errare ora boschetto spogliare f...\n",
              "2                                          essere contento\n",
              "3        essere mai piacere lunghe passeggiate sopra fr...\n",
              "4        eliza john georgiana essere aggruppare salotto...\n",
              "                               ...                        \n",
              "19797    paura morte offuscare ultimo ora st john mente...\n",
              "19798    stesso parola essere pegno signore dire avere ...\n",
              "19799    ogni giorno annunciare sempre grande chiarezza...\n",
              "19800    ora ora rispondere fervore crescente amen veni...\n",
              "19801                                                     \n",
              "Name: Lemmi, Length: 19802, dtype: object"
            ]
          },
          "metadata": {},
          "execution_count": 16
        }
      ]
    },
    {
      "cell_type": "code",
      "metadata": {
        "colab": {
          "base_uri": "https://localhost:8080/"
        },
        "id": "sBpSVZffbbgN",
        "outputId": "60a30245-a77e-47b1-b929-e86aac531dcd"
      },
      "source": [
        "data.isna().sum() "
      ],
      "execution_count": 17,
      "outputs": [
        {
          "output_type": "execute_result",
          "data": {
            "text/plain": [
              "text     0\n",
              "Lemmi    0\n",
              "dtype: int64"
            ]
          },
          "metadata": {},
          "execution_count": 17
        }
      ]
    },
    {
      "cell_type": "code",
      "metadata": {
        "colab": {
          "base_uri": "https://localhost:8080/"
        },
        "id": "WNOJJC_-oqSS",
        "outputId": "c1f8c345-9fb1-4c17-d8b3-ae9d7c125dd0"
      },
      "source": [
        "# Generating bag of words features.\n",
        "from sklearn.feature_extraction.text import CountVectorizer\n",
        "count_vect = CountVectorizer()\n",
        "bow = count_vect.fit_transform(text.values)\n",
        "bow.shape"
      ],
      "execution_count": 18,
      "outputs": [
        {
          "output_type": "execute_result",
          "data": {
            "text/plain": [
              "(19802, 14291)"
            ]
          },
          "metadata": {},
          "execution_count": 18
        }
      ]
    },
    {
      "cell_type": "code",
      "metadata": {
        "colab": {
          "base_uri": "https://localhost:8080/"
        },
        "id": "JIPmP7IWoqkK",
        "outputId": "0ebf4e6e-1c26-4959-fcf7-1c9599b51a9c"
      },
      "source": [
        "bow"
      ],
      "execution_count": 19,
      "outputs": [
        {
          "output_type": "execute_result",
          "data": {
            "text/plain": [
              "<19802x14291 sparse matrix of type '<class 'numpy.int64'>'\n",
              "\twith 183867 stored elements in Compressed Sparse Row format>"
            ]
          },
          "metadata": {},
          "execution_count": 19
        }
      ]
    },
    {
      "cell_type": "code",
      "metadata": {
        "id": "hwR9zl1Fovmk"
      },
      "source": [
        "# to understand what kind of words generated as columns by BOW\n",
        "terms = count_vect.get_feature_names()"
      ],
      "execution_count": 20,
      "outputs": []
    },
    {
      "cell_type": "code",
      "metadata": {
        "colab": {
          "base_uri": "https://localhost:8080/"
        },
        "id": "GzVhrB-7oyhF",
        "outputId": "190d583b-9667-4c28-ca6b-5ef6f406c7bd"
      },
      "source": [
        "#first 10 columns generated by BOW\n",
        "terms[1:10]"
      ],
      "execution_count": 21,
      "outputs": [
        {
          "output_type": "execute_result",
          "data": {
            "text/plain": [
              "['abbagliante',\n",
              " 'abbagliare',\n",
              " 'abbagliate',\n",
              " 'abbaglio',\n",
              " 'abbaiare',\n",
              " 'abbaino',\n",
              " 'abballinate',\n",
              " 'abbandonala',\n",
              " 'abbandonandomi']"
            ]
          },
          "metadata": {},
          "execution_count": 21
        }
      ]
    },
    {
      "cell_type": "code",
      "metadata": {
        "colab": {
          "base_uri": "https://localhost:8080/"
        },
        "id": "MWVZFxtSo0e6",
        "outputId": "924a331b-7a9f-4c10-d779-a23863685f7b"
      },
      "source": [
        "#using all processes jobs=-1 and k means++ for starting initilization advantage\n",
        "from sklearn.cluster import KMeans\n",
        "model = KMeans(n_clusters = 10,init='k-means++', n_jobs = -1,random_state=99)\n",
        "model.fit(bow)"
      ],
      "execution_count": 22,
      "outputs": [
        {
          "output_type": "execute_result",
          "data": {
            "text/plain": [
              "KMeans(algorithm='auto', copy_x=True, init='k-means++', max_iter=300,\n",
              "       n_clusters=10, n_init=10, n_jobs=-1, precompute_distances='auto',\n",
              "       random_state=99, tol=0.0001, verbose=0)"
            ]
          },
          "metadata": {},
          "execution_count": 22
        }
      ]
    },
    {
      "cell_type": "code",
      "metadata": {
        "id": "6V3UeWJco3IF"
      },
      "source": [
        "labels = model.labels_\n",
        "cluster_center=model.cluster_centers_"
      ],
      "execution_count": 23,
      "outputs": []
    },
    {
      "cell_type": "code",
      "metadata": {
        "colab": {
          "base_uri": "https://localhost:8080/"
        },
        "id": "cy5o0oTjo4Lx",
        "outputId": "ec377d01-7e95-476e-c582-24cfc5e1433f"
      },
      "source": [
        "cluster_center"
      ],
      "execution_count": 24,
      "outputs": [
        {
          "output_type": "execute_result",
          "data": {
            "text/plain": [
              "array([[0.      , 0.      , 0.      , ..., 0.      , 0.      , 0.      ],\n",
              "       [0.      , 0.000129, 0.      , ..., 0.      , 0.000129, 0.000129],\n",
              "       [0.      , 0.      , 0.      , ..., 0.      , 0.      , 0.      ],\n",
              "       ...,\n",
              "       [0.      , 0.      , 0.      , ..., 0.      , 0.      , 0.      ],\n",
              "       [0.      , 0.      , 0.      , ..., 0.      , 0.      , 0.      ],\n",
              "       [0.      , 0.      , 0.      , ..., 0.      , 0.      , 0.      ]])"
            ]
          },
          "metadata": {},
          "execution_count": 24
        }
      ]
    },
    {
      "cell_type": "code",
      "metadata": {
        "id": "L_80wpDoo5_F"
      },
      "source": [
        "from sklearn import metrics\n",
        "silhouette_score = metrics.silhouette_score(bow, labels, metric='euclidean')"
      ],
      "execution_count": 25,
      "outputs": []
    },
    {
      "cell_type": "code",
      "metadata": {
        "colab": {
          "base_uri": "https://localhost:8080/"
        },
        "id": "Mw25RDQOo7-T",
        "outputId": "983892b7-cdfd-485d-87e2-50ca611bd333"
      },
      "source": [
        "# which tells us that clusters are far away from each other \n",
        "silhouette_score"
      ],
      "execution_count": 26,
      "outputs": [
        {
          "output_type": "execute_result",
          "data": {
            "text/plain": [
              "0.011904054279262818"
            ]
          },
          "metadata": {},
          "execution_count": 26
        }
      ]
    },
    {
      "cell_type": "code",
      "metadata": {
        "colab": {
          "base_uri": "https://localhost:8080/",
          "height": 109
        },
        "id": "EbtIqP1Ko7zx",
        "outputId": "058c29a6-2482-4d52-eb81-a07a1ab535ae"
      },
      "source": [
        "# Giving Labels/assigning a cluster to each sentence \n",
        "\n",
        "data['Bow Clus Label'] = model.labels_ \n",
        "data.head(2)"
      ],
      "execution_count": 27,
      "outputs": [
        {
          "output_type": "execute_result",
          "data": {
            "text/html": [
              "<div>\n",
              "<style scoped>\n",
              "    .dataframe tbody tr th:only-of-type {\n",
              "        vertical-align: middle;\n",
              "    }\n",
              "\n",
              "    .dataframe tbody tr th {\n",
              "        vertical-align: top;\n",
              "    }\n",
              "\n",
              "    .dataframe thead th {\n",
              "        text-align: right;\n",
              "    }\n",
              "</style>\n",
              "<table border=\"1\" class=\"dataframe\">\n",
              "  <thead>\n",
              "    <tr style=\"text-align: right;\">\n",
              "      <th></th>\n",
              "      <th>text</th>\n",
              "      <th>Lemmi</th>\n",
              "      <th>Bow Clus Label</th>\n",
              "    </tr>\n",
              "  </thead>\n",
              "  <tbody>\n",
              "    <tr>\n",
              "      <th>0</th>\n",
              "      <td>in quello giorno essere impossibile passeggiare .</td>\n",
              "      <td>giorno essere impossibile passeggiare</td>\n",
              "      <td>5</td>\n",
              "    </tr>\n",
              "    <tr>\n",
              "      <th>1</th>\n",
              "      <td>il mattina avere errare per uno ora nel bosche...</td>\n",
              "      <td>mattina avere errare ora boschetto spogliare f...</td>\n",
              "      <td>0</td>\n",
              "    </tr>\n",
              "  </tbody>\n",
              "</table>\n",
              "</div>"
            ],
            "text/plain": [
              "                                                text  ... Bow Clus Label\n",
              "0  in quello giorno essere impossibile passeggiare .  ...              5\n",
              "1  il mattina avere errare per uno ora nel bosche...  ...              0\n",
              "\n",
              "[2 rows x 3 columns]"
            ]
          },
          "metadata": {},
          "execution_count": 27
        }
      ]
    },
    {
      "cell_type": "code",
      "metadata": {
        "colab": {
          "base_uri": "https://localhost:8080/"
        },
        "id": "0VvPNOE7ovfB",
        "outputId": "99d00db6-f1ff-4a21-91b0-740a3bc74058"
      },
      "source": [
        "# How many sentences belong to each cluster\n",
        "data.groupby(['Bow Clus Label'])['Lemmi'].count()"
      ],
      "execution_count": 28,
      "outputs": [
        {
          "output_type": "execute_result",
          "data": {
            "text/plain": [
              "Bow Clus Label\n",
              "0    1503\n",
              "1    7752\n",
              "2    2238\n",
              "3     494\n",
              "4     602\n",
              "5    4890\n",
              "6     785\n",
              "7     252\n",
              "8     618\n",
              "9     668\n",
              "Name: Lemmi, dtype: int64"
            ]
          },
          "metadata": {},
          "execution_count": 28
        }
      ]
    },
    {
      "cell_type": "code",
      "metadata": {
        "colab": {
          "base_uri": "https://localhost:8080/"
        },
        "id": "_SIE3YEn4eQu",
        "outputId": "9d94ac70-d338-4904-e2fc-84415a40c6e3"
      },
      "source": [
        "#Find the top 10 features of cluster centriod\n",
        "print(\"Top terms per cluster:\")\n",
        "order_centroids = model.cluster_centers_.argsort()[:, ::-1]\n",
        "terms = count_vect.get_feature_names()\n",
        "for i in range(10):\n",
        "    print(\"Cluster %d:\" % i, end='')\n",
        "    for ind in order_centroids[i, :10]:\n",
        "        print(' %s' % terms[ind], end='')\n",
        "        print()"
      ],
      "execution_count": 29,
      "outputs": [
        {
          "output_type": "stream",
          "name": "stdout",
          "text": [
            "Top terms per cluster:\n",
            "Cluster 0: avere\n",
            " essere\n",
            " molto\n",
            " fare\n",
            " stare\n",
            " me\n",
            " quando\n",
            " così\n",
            " signore\n",
            " mai\n",
            "Cluster 1: fare\n",
            " dire\n",
            " molto\n",
            " signore\n",
            " me\n",
            " potere\n",
            " stare\n",
            " jane\n",
            " sì\n",
            " dovere\n",
            "Cluster 2: avere\n",
            " fare\n",
            " dire\n",
            " molto\n",
            " potere\n",
            " me\n",
            " signore\n",
            " mai\n",
            " rochester\n",
            " parlare\n",
            "Cluster 3: essere\n",
            " avere\n",
            " molto\n",
            " stare\n",
            " potere\n",
            " me\n",
            " dire\n",
            " fare\n",
            " così\n",
            " signore\n",
            "Cluster 4: essere\n",
            " dire\n",
            " avere\n",
            " molto\n",
            " signore\n",
            " stare\n",
            " fare\n",
            " volere\n",
            " me\n",
            " quando\n",
            "Cluster 5: essere\n",
            " molto\n",
            " stare\n",
            " fare\n",
            " me\n",
            " signore\n",
            " così\n",
            " quando\n",
            " dovere\n",
            " rochester\n",
            "Cluster 6: andare\n",
            " vedere\n",
            " sapere\n",
            " fare\n",
            " molto\n",
            " potere\n",
            " dire\n",
            " dovere\n",
            " signore\n",
            " quando\n",
            "Cluster 7: avere\n",
            " essere\n",
            " fare\n",
            " potere\n",
            " dire\n",
            " molto\n",
            " mai\n",
            " quando\n",
            " me\n",
            " vedere\n",
            "Cluster 8: essere\n",
            " potere\n",
            " avere\n",
            " fare\n",
            " molto\n",
            " così\n",
            " me\n",
            " dire\n",
            " vedere\n",
            " stare\n",
            "Cluster 9: volere\n",
            " essere\n",
            " avere\n",
            " fare\n",
            " dire\n",
            " cosa\n",
            " molto\n",
            " me\n",
            " bene\n",
            " solo\n"
          ]
        }
      ]
    },
    {
      "cell_type": "code",
      "metadata": {
        "colab": {
          "base_uri": "https://localhost:8080/",
          "height": 295
        },
        "id": "pseZemrX4gHD",
        "outputId": "c9e7730b-63cf-481b-f7cd-98a8c787f622"
      },
      "source": [
        "# visually how sentences are distributed across 10 clusters \n",
        "import matplotlib.pyplot as plt\n",
        "plt.bar([x for x in range(10)], data.groupby(['Bow Clus Label'])['Lemmi'].count(), alpha = 0.4)\n",
        "plt.title('KMeans cluster points')\n",
        "plt.xlabel(\"Cluster number\")\n",
        "plt.ylabel(\"Number of points\")\n",
        "plt.show()"
      ],
      "execution_count": 30,
      "outputs": [
        {
          "output_type": "display_data",
          "data": {
            "image/png": "[encoded data removed]",
            "text/plain": [
              "<Figure size 432x288 with 1 Axes>"
            ]
          },
          "metadata": {
            "needs_background": "light"
          }
        }
      ]
    },
    {
      "cell_type": "code",
      "metadata": {
        "colab": {
          "base_uri": "https://localhost:8080/"
        },
        "id": "h7fsIoHD4l17",
        "outputId": "fa9ee56d-8e3b-4a46-e19b-be0dbd97d8a4"
      },
      "source": [
        "# Reading a sentence which belong to each group.\n",
        "for i in range(10):\n",
        "    print(\"A review of assigned to cluster \", i)\n",
        "    print(\"-\" * 70)\n",
        "    print(data.iloc[data.groupby(['Bow Clus Label']).groups[i][0]]['Lemmi'])\n",
        "    print('\\n')\n",
        "    print(\"_\" * 70)"
      ],
      "execution_count": 31,
      "outputs": [
        {
          "output_type": "stream",
          "name": "stdout",
          "text": [
            "A review of assigned to cluster  0\n",
            "----------------------------------------------------------------------\n",
            "mattina avere errare ora boschetto spogliare foglia dopo pranzo quando essere invitare signora reed desinare presto vento gelato inverno avere portare seco nubi così scure pioggia così penetrare potere pensare nessun escursione\n",
            "\n",
            "\n",
            "______________________________________________________________________\n",
            "A review of assigned to cluster  1\n",
            "----------------------------------------------------------------------\n",
            "domandai\n",
            "\n",
            "\n",
            "______________________________________________________________________\n",
            "A review of assigned to cluster  2\n",
            "----------------------------------------------------------------------\n",
            "ella avere proibire unirmi gruppo dire deplorare necessità trovavasi tenere così lontano fino momento bessie guarentirebbe studiare acquistare carattere molto socievole molto infantile maniera molto cortese qualcosa molto radioso molto aperto molto sincero potere concedere stesso privilegio bambino allegro soddisfatto\n",
            "\n",
            "\n",
            "______________________________________________________________________\n",
            "A review of assigned to cluster  3\n",
            "----------------------------------------------------------------------\n",
            "signore miles direttore collegio assicurare essere stare benissimo casa avere mandare meno dolce meno ghiottonerie cuore madre essere ribellare severità avere preferire accoglier idea molto gentile malessere john dipendere soverchio studio dolore essere separare\n",
            "\n",
            "\n",
            "______________________________________________________________________\n",
            "A review of assigned to cluster  4\n",
            "----------------------------------------------------------------------\n",
            "liszy giorgy continuare egli volgendosi sorella dire mamma cattivo bestia essere andare correre giardino pioggia\n",
            "\n",
            "\n",
            "______________________________________________________________________\n",
            "A review of assigned to cluster  5\n",
            "----------------------------------------------------------------------\n",
            "giorno essere impossibile passeggiare\n",
            "\n",
            "\n",
            "______________________________________________________________________\n",
            "A review of assigned to cluster  6\n",
            "----------------------------------------------------------------------\n",
            "sedetevi qualche posto stare buono fino quando sapere parlare ragionevolmente\n",
            "\n",
            "\n",
            "______________________________________________________________________\n",
            "A review of assigned to cluster  7\n",
            "----------------------------------------------------------------------\n",
            "john avere mai trovare sè stesso avere sguardo pronto eliza avere sporgere testa uscio esclamare ella essere certamente vano finestra\n",
            "\n",
            "\n",
            "______________________________________________________________________\n",
            "A review of assigned to cluster  8\n",
            "----------------------------------------------------------------------\n",
            "generale occupare testo nondimeno essere pagina introduzione potere lasciare passare inosservato malgrado gioventù\n",
            "\n",
            "\n",
            "______________________________________________________________________\n",
            "A review of assigned to cluster  9\n",
            "----------------------------------------------------------------------\n",
            "cosa volere\n",
            "\n",
            "\n",
            "______________________________________________________________________\n"
          ]
        }
      ]
    },
    {
      "cell_type": "code",
      "metadata": {
        "colab": {
          "base_uri": "https://localhost:8080/"
        },
        "id": "q0X46_Q74X7c",
        "outputId": "f9b1dbb4-16ca-470a-8073-fb0d3900858b"
      },
      "source": [
        "#considers sample of 3 random sentences for cluster 0\n",
        "\n",
        "print(data.iloc[data.groupby(['Bow Clus Label']).groups[0][3]]['Lemmi'])\n",
        "print(\"_\" * 70)\n",
        "print(data.iloc[data.groupby(['Bow Clus Label']).groups[0][15]]['Lemmi'])\n",
        "print(\"_\" * 70)\n",
        "print(data.iloc[data.groupby(['Bow Clus Label']).groups[0][25]]['Lemmi'])"
      ],
      "execution_count": 32,
      "outputs": [
        {
          "output_type": "stream",
          "name": "stdout",
          "text": [
            "john essere ragazzo quattordici anno avere allora dieci solamente\n",
            "______________________________________________________________________\n",
            "sedile bessie aspro signorina abbot avere lasciare essere ottomana basso collocare vicino caminetto marmo\n",
            "______________________________________________________________________\n",
            "piatto avere sempre suscitare me vivo ammirazione avere spesso chiedere permesso prendere mano guardare agio fino allora essere stare riputare indegno favore ora prezioso porcellana essere posare ginocchio invitare amichevolmente mangiare dolce contenere\n"
          ]
        }
      ]
    },
    {
      "cell_type": "code",
      "metadata": {
        "colab": {
          "base_uri": "https://localhost:8080/"
        },
        "id": "2wrlXOVPovXO",
        "outputId": "5887e43b-dfa3-48f9-e105-fd0ea5a2b893"
      },
      "source": [
        "#consider sample of 3 random sentences for cluster 1\n",
        "\n",
        "print(data.iloc[data.groupby(['Bow Clus Label']).groups[1][3]]['Lemmi'])\n",
        "print(\"_\" * 70)\n",
        "print(data.iloc[data.groupby(['Bow Clus Label']).groups[1][15]]['Lemmi'])\n",
        "print(\"_\" * 70)\n",
        "print(data.iloc[data.groupby(['Bow Clus Label']).groups[1][25]]['Lemmi'])"
      ],
      "execution_count": 33,
      "outputs": [
        {
          "output_type": "stream",
          "name": "stdout",
          "text": [
            "tanto tanto sfogliare libro gettare occhiata difuori studiare aspetto serata inverno lontananza scorgere pallido striscia nebbia nuvola molto vicino albero bagnato pianta sradicare temporale infine pioggia incessante lungo lamentevoli ventata respingere sibilare\n",
            "______________________________________________________________________\n",
            "collocare poltrona fare cenno accostarmi stare ritto dinanzi\n",
            "______________________________________________________________________\n",
            "\n"
          ]
        }
      ]
    },
    {
      "cell_type": "code",
      "metadata": {
        "colab": {
          "base_uri": "https://localhost:8080/"
        },
        "id": "fxMq19ZloqLp",
        "outputId": "118c9ecb-b506-4c52-a896-21398e82370f"
      },
      "source": [
        "#consider sample of 3 random sentences for cluster 2\n",
        "\n",
        "print(data.iloc[data.groupby(['Bow Clus Label']).groups[2][3]]['Lemmi'])\n",
        "print(\"_\" * 70)\n",
        "print(data.iloc[data.groupby(['Bow Clus Label']).groups[2][15]]['Lemmi'])\n",
        "print(\"_\" * 70)\n",
        "print(data.iloc[data.groupby(['Bow Clus Label']).groups[2][25]]['Lemmi'])"
      ],
      "execution_count": 34,
      "outputs": [
        {
          "output_type": "stream",
          "name": "stdout",
          "text": [
            "tempo avere dovere trovare collegio madre avevalo togliere mese due pretesto delicato salute\n",
            "______________________________________________________________________\n",
            "dopo poco accorrere qualcuno avvicinare me sollevare collocandomi posizione molto comodo nessuno avere mai trattare fino momento tanto sollecitudine affettuoso\n",
            "______________________________________________________________________\n",
            "avere desiderare rispondere sinceramente domanda\n"
          ]
        }
      ]
    },
    {
      "cell_type": "code",
      "metadata": {
        "id": "uq6IByWqP8Ge"
      },
      "source": [
        "#consider sample of 3 random sentences for cluster 3\n",
        "\n",
        "print(data.iloc[data.groupby(['Bow Clus Label']).groups[3][3]]['Lemmi'])\n",
        "print(\"_\" * 70)\n",
        "print(data.iloc[data.groupby(['Bow Clus Label']).groups[3][15]]['Lemmi'])\n",
        "print(\"_\" * 70)\n",
        "print(data.iloc[data.groupby(['Bow Clus Label']).groups[3][25]]['Lemmi'])"
      ],
      "execution_count": null,
      "outputs": []
    },
    {
      "cell_type": "code",
      "metadata": {
        "id": "t61d-Yw1QhnT"
      },
      "source": [
        "#consider sample of 3 random sentences for cluster 4\n",
        "\n",
        "print(data.iloc[data.groupby(['Bow Clus Label']).groups[4][3]]['Lemmi'])\n",
        "print(\"_\" * 70)\n",
        "print(data.iloc[data.groupby(['Bow Clus Label']).groups[4][15]]['Lemmi'])\n",
        "print(\"_\" * 70)\n",
        "print(data.iloc[data.groupby(['Bow Clus Label']).groups[4][25]]['Lemmi'])"
      ],
      "execution_count": null,
      "outputs": []
    },
    {
      "cell_type": "code",
      "metadata": {
        "id": "Z4DWfmJAQvGI",
        "outputId": "20499477-08e6-480a-a018-fc023a9fdf90",
        "colab": {
          "base_uri": "https://localhost:8080/"
        }
      },
      "source": [
        "# Reading a sentence which belong to each group.\n",
        "for i in range(10):\n",
        "    print(\"2 sentences of assigned to cluster \", i)\n",
        "    print(\"-\" * 70) \n",
        "    print(data.iloc[data.groupby(['Bow Clus Label']).groups[i][0]]['Lemmi'])\n",
        "    print('\\n')\n",
        "    print(data.iloc[data.groupby(['Bow Clus Label']).groups[i][1]]['Lemmi'])\n",
        "    print('\\n')\n",
        "    print(\"_\" * 70)"
      ],
      "execution_count": 82,
      "outputs": [
        {
          "output_type": "stream",
          "name": "stdout",
          "text": [
            "2 sentences of assigned to cluster  0\n",
            "----------------------------------------------------------------------\n",
            "mattina avere errare ora boschetto spogliare foglia dopo pranzo quando essere invitare signora reed desinare presto vento gelato inverno avere portare seco nubi così scure pioggia così penetrare potere pensare nessun escursione\n",
            "\n",
            "\n",
            "ogni incisione narrare storia spesso misterioso intelligenza poco sviluppare incompleto sentimento sempre interessante così interessante racconto fare bessie serata invernale quando essere buon umore quando dopo avere portare tavola stirare stanza bambino permettere sedere vicino\n",
            "\n",
            "\n",
            "______________________________________________________________________\n",
            "2 sentences of assigned to cluster  1\n",
            "----------------------------------------------------------------------\n",
            "domandai\n",
            "\n",
            "\n",
            "stare male resto bimba trattare così superiore\n",
            "\n",
            "\n",
            "______________________________________________________________________\n",
            "2 sentences of assigned to cluster  2\n",
            "----------------------------------------------------------------------\n",
            "ella avere proibire unirmi gruppo dire deplorare necessità trovavasi tenere così lontano fino momento bessie guarentirebbe studiare acquistare carattere molto socievole molto infantile maniera molto cortese qualcosa molto radioso molto aperto molto sincero potere concedere stesso privilegio bambino allegro soddisfatto\n",
            "\n",
            "\n",
            "cosa avere dire bessie nuovo conto\n",
            "\n",
            "\n",
            "______________________________________________________________________\n",
            "2 sentences of assigned to cluster  3\n",
            "----------------------------------------------------------------------\n",
            "signore miles direttore collegio assicurare essere stare benissimo casa avere mandare meno dolce meno ghiottonerie cuore madre essere ribellare severità avere preferire accoglier idea molto gentile malessere john dipendere soverchio studio dolore essere separare\n",
            "\n",
            "\n",
            "essere bisogno prendere libro dipendete dire mamma avere quattrino padre lasciare nulla dovere andare accattare invece stare qui essere figlio signore mangiare medesimo cibo mangiare essere vestire spesa mamma\n",
            "\n",
            "\n",
            "______________________________________________________________________\n",
            "2 sentences of assigned to cluster  4\n",
            "----------------------------------------------------------------------\n",
            "liszy giorgy continuare egli volgendosi sorella dire mamma cattivo bestia essere andare correre giardino pioggia\n",
            "\n",
            "\n",
            "essere mai giungere tanto dire bessie fine volgendosi verso abigail abbot\n",
            "\n",
            "\n",
            "______________________________________________________________________\n",
            "2 sentences of assigned to cluster  5\n",
            "----------------------------------------------------------------------\n",
            "giorno essere impossibile passeggiare\n",
            "\n",
            "\n",
            "essere contento\n",
            "\n",
            "\n",
            "______________________________________________________________________\n",
            "2 sentences of assigned to cluster  6\n",
            "----------------------------------------------------------------------\n",
            "sedetevi qualche posto stare buono fino quando sapere parlare ragionevolmente\n",
            "\n",
            "\n",
            "piccolo sala pranzo mettere salotto andare pian piano\n",
            "\n",
            "\n",
            "______________________________________________________________________\n",
            "2 sentences of assigned to cluster  7\n",
            "----------------------------------------------------------------------\n",
            "john avere mai trovare sè stesso avere sguardo pronto eliza avere sporgere testa uscio esclamare ella essere certamente vano finestra\n",
            "\n",
            "\n",
            "avere spesso palesare signora opinione bambina signora avere convenire avere ragione essere creatura subdolo avere mai vedere bimba età sapere finger così bene\n",
            "\n",
            "\n",
            "______________________________________________________________________\n",
            "2 sentences of assigned to cluster  8\n",
            "----------------------------------------------------------------------\n",
            "generale occupare testo nondimeno essere pagina introduzione potere lasciare passare inosservato malgrado gioventù\n",
            "\n",
            "\n",
            "potere colpire morte mentre essere peccato allora andare\n",
            "\n",
            "\n",
            "______________________________________________________________________\n",
            "2 sentences of assigned to cluster  9\n",
            "----------------------------------------------------------------------\n",
            "cosa volere\n",
            "\n",
            "\n",
            "dite cosa volere signore reed\n",
            "\n",
            "\n",
            "______________________________________________________________________\n"
          ]
        }
      ]
    },
    {
      "cell_type": "markdown",
      "metadata": {
        "id": "w-iLbBUx5axG"
      },
      "source": [
        "KMEANS USING TF IDF"
      ]
    },
    {
      "cell_type": "code",
      "metadata": {
        "colab": {
          "base_uri": "https://localhost:8080/"
        },
        "id": "Nl-zSosYoqEc",
        "outputId": "a5ce503e-e802-4970-a345-1abb55424d1c"
      },
      "source": [
        "#tfidf vector initililization\n",
        "from sklearn.feature_extraction.text import TfidfVectorizer\n",
        "tfidf_vect = TfidfVectorizer()\n",
        "tfidf = tfidf_vect.fit_transform(text.values)\n",
        "tfidf.shape"
      ],
      "execution_count": 35,
      "outputs": [
        {
          "output_type": "execute_result",
          "data": {
            "text/plain": [
              "(19802, 14291)"
            ]
          },
          "metadata": {},
          "execution_count": 35
        }
      ]
    },
    {
      "cell_type": "code",
      "metadata": {
        "colab": {
          "base_uri": "https://localhost:8080/"
        },
        "id": "dW2aBDBm5hFo",
        "outputId": "c64f8dc3-2438-4095-aacc-50e43feff54c"
      },
      "source": [
        "from sklearn.cluster import KMeans\n",
        "model_tf = KMeans(n_clusters = 10, n_jobs = -1,random_state=99)\n",
        "model_tf.fit(tfidf)"
      ],
      "execution_count": 36,
      "outputs": [
        {
          "output_type": "execute_result",
          "data": {
            "text/plain": [
              "KMeans(algorithm='auto', copy_x=True, init='k-means++', max_iter=300,\n",
              "       n_clusters=10, n_init=10, n_jobs=-1, precompute_distances='auto',\n",
              "       random_state=99, tol=0.0001, verbose=0)"
            ]
          },
          "metadata": {},
          "execution_count": 36
        }
      ]
    },
    {
      "cell_type": "code",
      "metadata": {
        "id": "SacDcqueop9d"
      },
      "source": [
        "labels_tf = model_tf.labels_\n",
        "cluster_center_tf=model_tf.cluster_centers_"
      ],
      "execution_count": 37,
      "outputs": []
    },
    {
      "cell_type": "code",
      "metadata": {
        "colab": {
          "base_uri": "https://localhost:8080/"
        },
        "id": "UCE8A91X5jUc",
        "outputId": "7b9688da-69eb-4b4b-a64b-df35ee15e118"
      },
      "source": [
        "cluster_center_tf"
      ],
      "execution_count": 38,
      "outputs": [
        {
          "output_type": "execute_result",
          "data": {
            "text/plain": [
              "array([[0.00000000e+00, 0.00000000e+00, 0.00000000e+00, ...,\n",
              "        0.00000000e+00, 0.00000000e+00, 0.00000000e+00],\n",
              "       [0.00000000e+00, 6.73066404e-05, 0.00000000e+00, ...,\n",
              "        3.93614170e-05, 4.83058592e-05, 6.22509314e-05],\n",
              "       [0.00000000e+00, 0.00000000e+00, 0.00000000e+00, ...,\n",
              "        0.00000000e+00, 0.00000000e+00, 0.00000000e+00],\n",
              "       ...,\n",
              "       [0.00000000e+00, 0.00000000e+00, 0.00000000e+00, ...,\n",
              "        0.00000000e+00, 0.00000000e+00, 0.00000000e+00],\n",
              "       [0.00000000e+00, 0.00000000e+00, 0.00000000e+00, ...,\n",
              "        0.00000000e+00, 0.00000000e+00, 0.00000000e+00],\n",
              "       [0.00000000e+00, 0.00000000e+00, 0.00000000e+00, ...,\n",
              "        0.00000000e+00, 0.00000000e+00, 0.00000000e+00]])"
            ]
          },
          "metadata": {},
          "execution_count": 38
        }
      ]
    },
    {
      "cell_type": "code",
      "metadata": {
        "id": "uSNB20mZ5mpI"
      },
      "source": [
        "# to understand what kind of words generated as columns by BOW\n",
        "terms1 = tfidf_vect.get_feature_names()"
      ],
      "execution_count": 39,
      "outputs": []
    },
    {
      "cell_type": "code",
      "metadata": {
        "colab": {
          "base_uri": "https://localhost:8080/"
        },
        "id": "QlyO4Hb35osC",
        "outputId": "2ba3fcf0-dd7e-4715-c817-8e82b33a88ae"
      },
      "source": [
        "terms1[1:10]"
      ],
      "execution_count": 40,
      "outputs": [
        {
          "output_type": "execute_result",
          "data": {
            "text/plain": [
              "['abbagliante',\n",
              " 'abbagliare',\n",
              " 'abbagliate',\n",
              " 'abbaglio',\n",
              " 'abbaiare',\n",
              " 'abbaino',\n",
              " 'abballinate',\n",
              " 'abbandonala',\n",
              " 'abbandonandomi']"
            ]
          },
          "metadata": {},
          "execution_count": 40
        }
      ]
    },
    {
      "cell_type": "code",
      "metadata": {
        "id": "DGS-NsBAop5p"
      },
      "source": [
        "from sklearn import metrics\n",
        "silhouette_score_tf = metrics.silhouette_score(tfidf, labels_tf, metric='euclidean')"
      ],
      "execution_count": 41,
      "outputs": []
    },
    {
      "cell_type": "code",
      "metadata": {
        "colab": {
          "base_uri": "https://localhost:8080/"
        },
        "id": "fWCWyG1nop2R",
        "outputId": "08cd8c5b-d31c-497a-dd6a-6c4e860ad9e7"
      },
      "source": [
        "silhouette_score_tf"
      ],
      "execution_count": 42,
      "outputs": [
        {
          "output_type": "execute_result",
          "data": {
            "text/plain": [
              "0.011567070909185889"
            ]
          },
          "metadata": {},
          "execution_count": 42
        }
      ]
    },
    {
      "cell_type": "code",
      "metadata": {
        "colab": {
          "base_uri": "https://localhost:8080/",
          "height": 201
        },
        "id": "jqvSw9klopvO",
        "outputId": "8d5c8a54-71de-4912-c706-d8ec9a8df4eb"
      },
      "source": [
        "# Giving Labels/assigning a cluster to each sentence\n",
        "df1 = data\n",
        "df1['Tfidf Clus Label'] = model_tf.labels_\n",
        "df1.head(5)"
      ],
      "execution_count": 43,
      "outputs": [
        {
          "output_type": "execute_result",
          "data": {
            "text/html": [
              "<div>\n",
              "<style scoped>\n",
              "    .dataframe tbody tr th:only-of-type {\n",
              "        vertical-align: middle;\n",
              "    }\n",
              "\n",
              "    .dataframe tbody tr th {\n",
              "        vertical-align: top;\n",
              "    }\n",
              "\n",
              "    .dataframe thead th {\n",
              "        text-align: right;\n",
              "    }\n",
              "</style>\n",
              "<table border=\"1\" class=\"dataframe\">\n",
              "  <thead>\n",
              "    <tr style=\"text-align: right;\">\n",
              "      <th></th>\n",
              "      <th>text</th>\n",
              "      <th>Lemmi</th>\n",
              "      <th>Bow Clus Label</th>\n",
              "      <th>Tfidf Clus Label</th>\n",
              "    </tr>\n",
              "  </thead>\n",
              "  <tbody>\n",
              "    <tr>\n",
              "      <th>0</th>\n",
              "      <td>in quello giorno essere impossibile passeggiare .</td>\n",
              "      <td>giorno essere impossibile passeggiare</td>\n",
              "      <td>5</td>\n",
              "      <td>5</td>\n",
              "    </tr>\n",
              "    <tr>\n",
              "      <th>1</th>\n",
              "      <td>il mattina avere errare per uno ora nel bosche...</td>\n",
              "      <td>mattina avere errare ora boschetto spogliare f...</td>\n",
              "      <td>0</td>\n",
              "      <td>9</td>\n",
              "    </tr>\n",
              "    <tr>\n",
              "      <th>2</th>\n",
              "      <td>ne essere contento .</td>\n",
              "      <td>essere contento</td>\n",
              "      <td>5</td>\n",
              "      <td>5</td>\n",
              "    </tr>\n",
              "    <tr>\n",
              "      <th>3</th>\n",
              "      <td>non mi essere mai piacere il lunghe passeggiat...</td>\n",
              "      <td>essere mai piacere lunghe passeggiate sopra fr...</td>\n",
              "      <td>5</td>\n",
              "      <td>5</td>\n",
              "    </tr>\n",
              "    <tr>\n",
              "      <th>4</th>\n",
              "      <td>eliza , John e georgiana essere aggruppare in ...</td>\n",
              "      <td>eliza john georgiana essere aggruppare salotto...</td>\n",
              "      <td>5</td>\n",
              "      <td>0</td>\n",
              "    </tr>\n",
              "  </tbody>\n",
              "</table>\n",
              "</div>"
            ],
            "text/plain": [
              "                                                text  ... Tfidf Clus Label\n",
              "0  in quello giorno essere impossibile passeggiare .  ...                5\n",
              "1  il mattina avere errare per uno ora nel bosche...  ...                9\n",
              "2                               ne essere contento .  ...                5\n",
              "3  non mi essere mai piacere il lunghe passeggiat...  ...                5\n",
              "4  eliza , John e georgiana essere aggruppare in ...  ...                0\n",
              "\n",
              "[5 rows x 4 columns]"
            ]
          },
          "metadata": {},
          "execution_count": 43
        }
      ]
    },
    {
      "cell_type": "code",
      "metadata": {
        "colab": {
          "base_uri": "https://localhost:8080/"
        },
        "id": "epcsLzs05wKe",
        "outputId": "945dde8b-22b1-4e4f-aa73-54dda9dd2231"
      },
      "source": [
        "# How many sentences belong to each cluster\n",
        "\n",
        "df1.groupby(['Tfidf Clus Label'])['Lemmi'].count()"
      ],
      "execution_count": 44,
      "outputs": [
        {
          "output_type": "execute_result",
          "data": {
            "text/plain": [
              "Tfidf Clus Label\n",
              "0     450\n",
              "1    8693\n",
              "2     164\n",
              "3     996\n",
              "4     239\n",
              "5    4183\n",
              "6    1357\n",
              "7    2743\n",
              "8     262\n",
              "9     715\n",
              "Name: Lemmi, dtype: int64"
            ]
          },
          "metadata": {},
          "execution_count": 44
        }
      ]
    },
    {
      "cell_type": "code",
      "metadata": {
        "colab": {
          "base_uri": "https://localhost:8080/"
        },
        "id": "_AiRsa9356y3",
        "outputId": "476ed576-c116-480d-a683-6dde5aa78461"
      },
      "source": [
        "#Find the top 10 features of cluster centriod\n",
        "print(\"Top terms per cluster:\")\n",
        "order_centroids = model_tf.cluster_centers_.argsort()[:, ::-1]\n",
        "for i in range(10):\n",
        "    print(\"Cluster %d:\" % i, end='')\n",
        "    for ind in order_centroids[i, :10]:\n",
        "        print(' %s' % terms1[ind], end='')\n",
        "        print()"
      ],
      "execution_count": 45,
      "outputs": [
        {
          "output_type": "stream",
          "name": "stdout",
          "text": [
            "Top terms per cluster:\n",
            "Cluster 0: fra\n",
            " lungo\n",
            " essere\n",
            " avere\n",
            " molto\n",
            " poco\n",
            " me\n",
            " giorno\n",
            " fare\n",
            " due\n",
            "Cluster 1: jane\n",
            " dire\n",
            " molto\n",
            " me\n",
            " essere\n",
            " andare\n",
            " volere\n",
            " oh\n",
            " potere\n",
            " vedere\n",
            "Cluster 2: domandare\n",
            " essere\n",
            " cosa\n",
            " voce\n",
            " volere\n",
            " avere\n",
            " bessie\n",
            " rochester\n",
            " signore\n",
            " stare\n",
            "Cluster 3: signore\n",
            " rochester\n",
            " mr\n",
            " essere\n",
            " avere\n",
            " dire\n",
            " andare\n",
            " me\n",
            " molto\n",
            " potere\n",
            "Cluster 4: no\n",
            " signore\n",
            " oh\n",
            " essere\n",
            " certo\n",
            " avere\n",
            " sapere\n",
            " dire\n",
            " jane\n",
            " mai\n",
            "Cluster 5: essere\n",
            " stare\n",
            " molto\n",
            " dire\n",
            " potere\n",
            " me\n",
            " quando\n",
            " cosa\n",
            " sapere\n",
            " vero\n",
            "Cluster 6: fare\n",
            " cosa\n",
            " avere\n",
            " essere\n",
            " potere\n",
            " volere\n",
            " dovere\n",
            " dire\n",
            " sapere\n",
            " me\n",
            "Cluster 7: avere\n",
            " dire\n",
            " essere\n",
            " molto\n",
            " potere\n",
            " mai\n",
            " me\n",
            " sentire\n",
            " volere\n",
            " cosa\n",
            "Cluster 8: sì\n",
            " signore\n",
            " essere\n",
            " dire\n",
            " avere\n",
            " jane\n",
            " rispondere\n",
            " volere\n",
            " vero\n",
            " me\n",
            "Cluster 9: così\n",
            " essere\n",
            " avere\n",
            " potere\n",
            " fare\n",
            " dire\n",
            " molto\n",
            " stare\n",
            " proprio\n",
            " me\n"
          ]
        }
      ]
    },
    {
      "cell_type": "code",
      "metadata": {
        "colab": {
          "base_uri": "https://localhost:8080/",
          "height": 295
        },
        "id": "ehZPdJvf5-JC",
        "outputId": "8cac724d-8a95-4d83-fe48-7ddd7a13f17c"
      },
      "source": [
        "# visually how sentences are distributed across 10 clusters \n",
        "\n",
        "plt.bar([x for x in range(10)], df1.groupby(['Tfidf Clus Label'])['Lemmi'].count(), alpha = 0.4)\n",
        "plt.title('KMeans cluster points')\n",
        "plt.xlabel(\"Cluster number\")\n",
        "plt.ylabel(\"Number of points\")\n",
        "plt.show()"
      ],
      "execution_count": 46,
      "outputs": [
        {
          "output_type": "display_data",
          "data": {
            "image/png": "[encoded data removed]",
            "text/plain": [
              "<Figure size 432x288 with 1 Axes>"
            ]
          },
          "metadata": {
            "needs_background": "light"
          }
        }
      ]
    },
    {
      "cell_type": "code",
      "metadata": {
        "colab": {
          "base_uri": "https://localhost:8080/"
        },
        "id": "h7GT_UpOz82D",
        "outputId": "8f6e47d6-b4ce-4f69-ec94-a375bb873536"
      },
      "source": [
        "#consider sample of 3 random sentences for cluster 0\n",
        "\n",
        "print(data.iloc[data.groupby(['Tfidf Clus Label']).groups[0][3]]['Lemmi'])\n",
        "print(\"_\" * 70)\n",
        "print(data.iloc[data.groupby(['Tfidf Clus Label']).groups[0][15]]['Lemmi'])\n",
        "print(\"_\" * 70)\n",
        "print(data.iloc[data.groupby(['Tfidf Clus Label']).groups[0][25]]['Lemmi'])"
      ],
      "execution_count": 47,
      "outputs": [
        {
          "output_type": "stream",
          "name": "stdout",
          "text": [
            "ora v insegnare frugare biblioteca libro essere appartenere casa appartenere fra poco anno\n",
            "______________________________________________________________________\n",
            "zia parlare mai mandare pensione sentire istintivamente ella avere tollerare lungo sotto tetto sguardo ogni tanto fissare me rivelare avversione insormontabile\n",
            "______________________________________________________________________\n",
            "sera bessie narrare molto bello fra novella cantare molto dolce canzone\n"
          ]
        }
      ]
    },
    {
      "cell_type": "code",
      "metadata": {
        "colab": {
          "base_uri": "https://localhost:8080/"
        },
        "id": "_WsGSsodz8bu",
        "outputId": "ecee99a6-3e1a-49b0-b255-c70a603c65a0"
      },
      "source": [
        "#consider sample of 3 random sentences for cluster 1\n",
        "\n",
        "print(data.iloc[data.groupby(['Tfidf Clus Label']).groups[1][3]]['Lemmi'])\n",
        "print(\"_\" * 70)\n",
        "print(data.iloc[data.groupby(['Tfidf Clus Label']).groups[1][15]]['Lemmi'])\n",
        "print(\"_\" * 70)\n",
        "print(data.iloc[data.groupby(['Tfidf Clus Label']).groups[1][25]]['Lemmi'])"
      ],
      "execution_count": 48,
      "outputs": [
        {
          "output_type": "stream",
          "name": "stdout",
          "text": [
            "collocare allora vano finestra sedendomi piede turco tirare tenda damasco rosso trovare rinchiusa doppio ritiro\n",
            "______________________________________________________________________\n",
            "temere soltanto interruzione tardare\n",
            "______________________________________________________________________\n",
            "john volere molto bene né madre né sorella\n"
          ]
        }
      ]
    },
    {
      "cell_type": "code",
      "metadata": {
        "colab": {
          "base_uri": "https://localhost:8080/"
        },
        "id": "yz7BRaYszlz1",
        "outputId": "0a62ff70-4be0-4cd9-9047-8a7915601671"
      },
      "source": [
        "#consider sample of 3 random sentences for cluster 2\n",
        "\n",
        "print(data.iloc[data.groupby(['Tfidf Clus Label']).groups[2][3]]['Lemmi'])\n",
        "print(\"_\" * 70)\n",
        "print(data.iloc[data.groupby(['Tfidf Clus Label']).groups[2][15]]['Lemmi'])\n",
        "print(\"_\" * 70)\n",
        "print(data.iloc[data.groupby(['Tfidf Clus Label']).groups[2][25]]['Lemmi'])"
      ],
      "execution_count": 49,
      "outputs": [
        {
          "output_type": "stream",
          "name": "stdout",
          "text": [
            "avere bisogno dormire signorina domandare bessie certo dolcezza voce\n",
            "______________________________________________________________________\n",
            "essere davvero jane domandare voce dolce\n",
            "______________________________________________________________________\n",
            "essere straniero domandare meravigliata\n"
          ]
        }
      ]
    },
    {
      "cell_type": "code",
      "metadata": {
        "colab": {
          "base_uri": "https://localhost:8080/"
        },
        "id": "X_OyyS3Tz7gR",
        "outputId": "19db548a-56fd-42e7-9969-3ad4dcb26163"
      },
      "source": [
        "# Reading a sentence which belong to each group.\n",
        "for i in range(10):\n",
        "    print(\"2 sentences of assigned to cluster \", i)\n",
        "    print(\"-\" * 70) \n",
        "    print(data.iloc[data.groupby(['Tfidf Clus Label']).groups[i][0]]['Lemmi'])\n",
        "    print('\\n')\n",
        "    print(data.iloc[data.groupby(['Tfidf Clus Label']).groups[i][1]]['Lemmi'])\n",
        "    print('\\n')\n",
        "    print(\"_\" * 70)"
      ],
      "execution_count": 83,
      "outputs": [
        {
          "output_type": "stream",
          "name": "stdout",
          "text": [
            "2 sentences of assigned to cluster  0\n",
            "----------------------------------------------------------------------\n",
            "eliza john georgiana essere aggruppare salotto attorno mamma sdraiare sofà accanto fuoco circondare bambino momento questionare fra né piangere parere perfettamente felice\n",
            "\n",
            "\n",
            "tanto tanto sfogliare libro gettare occhiata difuori studiare aspetto serata inverno lontananza scorgere pallido striscia nebbia nuvola molto vicino albero bagnato pianta sradicare temporale infine pioggia incessante lungo lamentevoli ventata respingere sibilare\n",
            "\n",
            "\n",
            "______________________________________________________________________\n",
            "2 sentences of assigned to cluster  1\n",
            "----------------------------------------------------------------------\n",
            "domandai\n",
            "\n",
            "\n",
            "sedetevi qualche posto stare buono fino quando sapere parlare ragionevolmente\n",
            "\n",
            "\n",
            "______________________________________________________________________\n",
            "2 sentences of assigned to cluster  2\n",
            "----------------------------------------------------------------------\n",
            "domandare\n",
            "\n",
            "\n",
            "signorina eyre sentire male domandare bessie\n",
            "\n",
            "\n",
            "______________________________________________________________________\n",
            "2 sentences of assigned to cluster  3\n",
            "----------------------------------------------------------------------\n",
            "dite cosa volere signore reed\n",
            "\n",
            "\n",
            "vidi signore lloyd sorridere aggrottare sopraccigliare\n",
            "\n",
            "\n",
            "______________________________________________________________________\n",
            "2 sentences of assigned to cluster  4\n",
            "----------------------------------------------------------------------\n",
            "no essere meno serva guadagnare pane\n",
            "\n",
            "\n",
            "no essere troppo grande piangere sciocchezza simile\n",
            "\n",
            "\n",
            "______________________________________________________________________\n",
            "2 sentences of assigned to cluster  5\n",
            "----------------------------------------------------------------------\n",
            "giorno essere impossibile passeggiare\n",
            "\n",
            "\n",
            "essere contento\n",
            "\n",
            "\n",
            "______________________________________________________________________\n",
            "2 sentences of assigned to cluster  6\n",
            "----------------------------------------------------------------------\n",
            "cosa volere\n",
            "\n",
            "\n",
            "collocare poltrona fare cenno accostarmi stare ritto dinanzi\n",
            "\n",
            "\n",
            "______________________________________________________________________\n",
            "2 sentences of assigned to cluster  7\n",
            "----------------------------------------------------------------------\n",
            "ella avere proibire unirmi gruppo dire deplorare necessità trovavasi tenere così lontano fino momento bessie guarentirebbe studiare acquistare carattere molto socievole molto infantile maniera molto cortese qualcosa molto radioso molto aperto molto sincero potere concedere stesso privilegio bambino allegro soddisfatto\n",
            "\n",
            "\n",
            "cosa avere dire bessie nuovo conto\n",
            "\n",
            "\n",
            "______________________________________________________________________\n",
            "2 sentences of assigned to cluster  8\n",
            "----------------------------------------------------------------------\n",
            "sì sì volere mandartici molto presto potere dire sottovoce prendere lavoro uscire precipitosamente stanza\n",
            "\n",
            "\n",
            "ebbene sì essere buono avere paura me\n",
            "\n",
            "\n",
            "______________________________________________________________________\n",
            "2 sentences of assigned to cluster  9\n",
            "----------------------------------------------------------------------\n",
            "mattina avere errare ora boschetto spogliare foglia dopo pranzo quando essere invitare signora reed desinare presto vento gelato inverno avere portare seco nubi così scure pioggia così penetrare potere pensare nessun escursione\n",
            "\n",
            "\n",
            "stare male resto bimba trattare così superiore\n",
            "\n",
            "\n",
            "______________________________________________________________________\n"
          ]
        }
      ]
    },
    {
      "cell_type": "markdown",
      "metadata": {
        "id": "-GLVuUiJ6s7k"
      },
      "source": [
        "Average Word to Vector"
      ]
    },
    {
      "cell_type": "code",
      "metadata": {
        "id": "LewmQHt6WhG1"
      },
      "source": [
        "import numpy as np\n",
        "import tensorflow as tf\n",
        "from tensorflow import keras"
      ],
      "execution_count": 50,
      "outputs": []
    },
    {
      "cell_type": "code",
      "metadata": {
        "id": "_PSGYwUt0TmV"
      },
      "source": [
        "# Train your own Word2Vec model using your own text corpus\n",
        "i=0\n",
        "list_of_sent=[]\n",
        "for sent in data['Lemmi'].values:\n",
        "    list_of_sent.append(sent.split())"
      ],
      "execution_count": 51,
      "outputs": []
    },
    {
      "cell_type": "code",
      "metadata": {
        "id": "FKUAnEvO980A"
      },
      "source": [
        "import gensim\n",
        "# Training the wor2vec model\n",
        "w2v_model=gensim.models.Word2Vec(list_of_sent,size=100, workers=4)"
      ],
      "execution_count": 52,
      "outputs": []
    },
    {
      "cell_type": "code",
      "metadata": {
        "colab": {
          "base_uri": "https://localhost:8080/"
        },
        "id": "zzOHAfFu99xW",
        "outputId": "79feecc4-4023-41dc-908b-d6af4ff07f7d"
      },
      "source": [
        "import numpy as np\n",
        "sent_vectors = []; # the avg-w2v for each sentence is stored in this train\n",
        "for sent in list_of_sent: # for each sentence\n",
        "    sent_vec = np.zeros(100) # as word vectors are of zero length\n",
        "    cnt_words =0; # num of words with a valid vector in the sentence\n",
        "    for word in sent: # for each word in a sentence\n",
        "        try:\n",
        "            vec = w2v_model.wv[word]\n",
        "            sent_vec += vec\n",
        "            cnt_words += 1\n",
        "        except:\n",
        "            pass\n",
        "    sent_vec /= cnt_words\n",
        "    sent_vectors.append(sent_vec)\n",
        "sent_vectors = np.array(sent_vectors)\n",
        "sent_vectors = np.nan_to_num(sent_vectors)\n",
        "sent_vectors.shape"
      ],
      "execution_count": 53,
      "outputs": [
        {
          "output_type": "stream",
          "name": "stderr",
          "text": [
            "/usr/local/lib/python3.7/dist-packages/ipykernel_launcher.py:13: RuntimeWarning: invalid value encountered in true_divide\n",
            "  del sys.path[0]\n"
          ]
        },
        {
          "output_type": "execute_result",
          "data": {
            "text/plain": [
              "(19802, 100)"
            ]
          },
          "metadata": {},
          "execution_count": 53
        }
      ]
    },
    {
      "cell_type": "code",
      "metadata": {
        "colab": {
          "base_uri": "https://localhost:8080/"
        },
        "id": "Zzrfp54860dZ",
        "outputId": "6913f7f8-d2b8-4a54-ef8f-ef89ad7bd694"
      },
      "source": [
        "print(data['Lemmi'].values[0])\n",
        "print(\"*****************************************************************\")\n",
        "print(list_of_sent[0])"
      ],
      "execution_count": 54,
      "outputs": [
        {
          "output_type": "stream",
          "name": "stdout",
          "text": [
            "giorno essere impossibile passeggiare\n",
            "*****************************************************************\n",
            "['giorno', 'essere', 'impossibile', 'passeggiare']\n"
          ]
        }
      ]
    },
    {
      "cell_type": "code",
      "metadata": {
        "id": "dfITcFjf63oM"
      },
      "source": [
        "# Number of clusters to check.\n",
        "num_clus = [x for x in range(0,10)]"
      ],
      "execution_count": 55,
      "outputs": []
    },
    {
      "cell_type": "code",
      "metadata": {
        "colab": {
          "base_uri": "https://localhost:8080/"
        },
        "id": "WAzrovVG1TF2",
        "outputId": "30872cee-1ffa-4d74-a349-8ac536367236"
      },
      "source": [
        "# Number of clusters to check.\n",
        "num_clus = [x for x in range(0,10)]\n",
        "num_clus"
      ],
      "execution_count": 56,
      "outputs": [
        {
          "output_type": "execute_result",
          "data": {
            "text/plain": [
              "[0, 1, 2, 3, 4, 5, 6, 7, 8, 9]"
            ]
          },
          "metadata": {},
          "execution_count": 56
        }
      ]
    },
    {
      "cell_type": "code",
      "metadata": {
        "colab": {
          "base_uri": "https://localhost:8080/"
        },
        "id": "icGqGPW07GmH",
        "outputId": "6b4036b3-57dc-42b4-f8e1-339d233667a0"
      },
      "source": [
        "# Training\n",
        "from sklearn.cluster import KMeans\n",
        "model2 = KMeans(n_clusters = 10)\n",
        "model2.fit(sent_vectors)"
      ],
      "execution_count": 57,
      "outputs": [
        {
          "output_type": "execute_result",
          "data": {
            "text/plain": [
              "KMeans(algorithm='auto', copy_x=True, init='k-means++', max_iter=300,\n",
              "       n_clusters=10, n_init=10, n_jobs=None, precompute_distances='auto',\n",
              "       random_state=None, tol=0.0001, verbose=0)"
            ]
          },
          "metadata": {},
          "execution_count": 57
        }
      ]
    },
    {
      "cell_type": "code",
      "metadata": {
        "id": "aOqikYbO-YCm"
      },
      "source": [
        "word_cluster_pred=model2.predict(sent_vectors)\n",
        "word_cluster_pred_2=model2.labels_\n",
        "word_cluster_center=model2.cluster_centers_"
      ],
      "execution_count": 58,
      "outputs": []
    },
    {
      "cell_type": "code",
      "metadata": {
        "colab": {
          "base_uri": "https://localhost:8080/"
        },
        "id": "qY-oOYsX-cFw",
        "outputId": "0ff79e2e-84d7-4358-c0fb-7cf2312c44c3"
      },
      "source": [
        "word_cluster_center[1:2]"
      ],
      "execution_count": 59,
      "outputs": [
        {
          "output_type": "execute_result",
          "data": {
            "text/plain": [
              "array([[-0.00363275,  0.00573729, -0.02439584,  0.00324989,  0.01594254,\n",
              "         0.00095756, -0.02099605, -0.03039842,  0.01046912,  0.00696119,\n",
              "        -0.00162193, -0.00615584,  0.01345213,  0.01107807, -0.02382813,\n",
              "        -0.0209636 , -0.0055989 , -0.01029988,  0.0291139 ,  0.01176819,\n",
              "         0.0082776 ,  0.02035862,  0.01152119, -0.00030604, -0.0063521 ,\n",
              "        -0.006295  , -0.00781066,  0.00689862, -0.01263891,  0.0084408 ,\n",
              "         0.0054374 , -0.03551161, -0.0257234 , -0.00280069,  0.0204841 ,\n",
              "         0.01555588, -0.0012719 ,  0.00717788,  0.00644394,  0.00578681,\n",
              "        -0.00371921,  0.0011344 ,  0.0250981 ,  0.01303604,  0.0012129 ,\n",
              "        -0.01925243, -0.01420973,  0.00668972,  0.03580097, -0.02133844,\n",
              "         0.0066214 ,  0.00809444,  0.02405606,  0.01905152,  0.0017089 ,\n",
              "         0.00434452, -0.02015295,  0.00168334,  0.00119066, -0.01016928,\n",
              "         0.00167299,  0.01338785, -0.00023008, -0.00268823, -0.00210151,\n",
              "         0.00790739,  0.00473755,  0.00072344, -0.02002624,  0.00437591,\n",
              "         0.01559076,  0.00048317, -0.00852896,  0.00114641, -0.00786421,\n",
              "        -0.01695702,  0.014259  , -0.00184019,  0.02304101,  0.01616854,\n",
              "        -0.01033622,  0.00780646,  0.00427494,  0.00347815,  0.000946  ,\n",
              "         0.01234001, -0.00384212,  0.0060073 , -0.01224305,  0.00404488,\n",
              "        -0.01041686, -0.02012486,  0.00804148,  0.01820459, -0.01142352,\n",
              "        -0.0057827 ,  0.00809053,  0.02092766, -0.00590443, -0.00501088]])"
            ]
          },
          "metadata": {},
          "execution_count": 59
        }
      ]
    },
    {
      "cell_type": "code",
      "metadata": {
        "colab": {
          "base_uri": "https://localhost:8080/",
          "height": 109
        },
        "id": "wBwJVOPE-fFN",
        "outputId": "34095708-fb10-4446-904e-bc558f30f536"
      },
      "source": [
        "# Giving Labels/assigning a cluster to each point/text \n",
        "dfa = df1\n",
        "dfa['AVG-W2V Clus Label'] = model2.labels_\n",
        "dfa.head(2)"
      ],
      "execution_count": 60,
      "outputs": [
        {
          "output_type": "execute_result",
          "data": {
            "text/html": [
              "<div>\n",
              "<style scoped>\n",
              "    .dataframe tbody tr th:only-of-type {\n",
              "        vertical-align: middle;\n",
              "    }\n",
              "\n",
              "    .dataframe tbody tr th {\n",
              "        vertical-align: top;\n",
              "    }\n",
              "\n",
              "    .dataframe thead th {\n",
              "        text-align: right;\n",
              "    }\n",
              "</style>\n",
              "<table border=\"1\" class=\"dataframe\">\n",
              "  <thead>\n",
              "    <tr style=\"text-align: right;\">\n",
              "      <th></th>\n",
              "      <th>text</th>\n",
              "      <th>Lemmi</th>\n",
              "      <th>Bow Clus Label</th>\n",
              "      <th>Tfidf Clus Label</th>\n",
              "      <th>AVG-W2V Clus Label</th>\n",
              "    </tr>\n",
              "  </thead>\n",
              "  <tbody>\n",
              "    <tr>\n",
              "      <th>0</th>\n",
              "      <td>in quello giorno essere impossibile passeggiare .</td>\n",
              "      <td>giorno essere impossibile passeggiare</td>\n",
              "      <td>5</td>\n",
              "      <td>5</td>\n",
              "      <td>0</td>\n",
              "    </tr>\n",
              "    <tr>\n",
              "      <th>1</th>\n",
              "      <td>il mattina avere errare per uno ora nel bosche...</td>\n",
              "      <td>mattina avere errare ora boschetto spogliare f...</td>\n",
              "      <td>0</td>\n",
              "      <td>9</td>\n",
              "      <td>9</td>\n",
              "    </tr>\n",
              "  </tbody>\n",
              "</table>\n",
              "</div>"
            ],
            "text/plain": [
              "                                                text  ... AVG-W2V Clus Label\n",
              "0  in quello giorno essere impossibile passeggiare .  ...                  0\n",
              "1  il mattina avere errare per uno ora nel bosche...  ...                  9\n",
              "\n",
              "[2 rows x 5 columns]"
            ]
          },
          "metadata": {},
          "execution_count": 60
        }
      ]
    },
    {
      "cell_type": "code",
      "metadata": {
        "colab": {
          "base_uri": "https://localhost:8080/"
        },
        "id": "DWSYpjqE-iha",
        "outputId": "61193c08-7949-4512-e3e8-cf6fbf53f4e6"
      },
      "source": [
        "# How many points belong to each cluster ->\n",
        "dfa.groupby(['AVG-W2V Clus Label'])['Lemmi'].count()"
      ],
      "execution_count": 61,
      "outputs": [
        {
          "output_type": "execute_result",
          "data": {
            "text/plain": [
              "AVG-W2V Clus Label\n",
              "0    5191\n",
              "1     412\n",
              "2     696\n",
              "3    2393\n",
              "4    2044\n",
              "5    1357\n",
              "6     155\n",
              "7    2265\n",
              "8     486\n",
              "9    4803\n",
              "Name: Lemmi, dtype: int64"
            ]
          },
          "metadata": {},
          "execution_count": 61
        }
      ]
    },
    {
      "cell_type": "code",
      "metadata": {
        "colab": {
          "base_uri": "https://localhost:8080/"
        },
        "id": "vh40VJmf-e2V",
        "outputId": "bed505da-51fd-483f-a2ee-f5284786026f"
      },
      "source": [
        "# Reading a sentence which belong to each group.\n",
        "for i in range(10):\n",
        "    print(\"A sentence of assigned to cluster \", i)\n",
        "    print(\"-\" * 70)\n",
        "    print(dfa.iloc[dfa.groupby(['AVG-W2V Clus Label']).groups[i][0]]['Lemmi'])\n",
        "    print('\\n')\n",
        "    print(dfa.iloc[dfa.groupby(['AVG-W2V Clus Label']).groups[i][1]]['Lemmi'])\n",
        "    print('\\n')\n",
        "    print(\"_\" * 70)"
      ],
      "execution_count": 62,
      "outputs": [
        {
          "output_type": "stream",
          "name": "stdout",
          "text": [
            "A sentence of assigned to cluster  0\n",
            "----------------------------------------------------------------------\n",
            "giorno essere impossibile passeggiare\n",
            "\n",
            "\n",
            "essere contento\n",
            "\n",
            "\n",
            "______________________________________________________________________\n",
            "A sentence of assigned to cluster  1\n",
            "----------------------------------------------------------------------\n",
            "leggevo\n",
            "\n",
            "\n",
            "\n",
            "\n",
            "\n",
            "______________________________________________________________________\n",
            "A sentence of assigned to cluster  2\n",
            "----------------------------------------------------------------------\n",
            "signora scontroso gridare john reed\n",
            "\n",
            "\n",
            "cosa volere\n",
            "\n",
            "\n",
            "______________________________________________________________________\n",
            "A sentence of assigned to cluster  3\n",
            "----------------------------------------------------------------------\n",
            "domandai\n",
            "\n",
            "\n",
            "larghe piega cortina scarlatta nascondere ciò essere destra sinistra invetriata proteggere separare triste giornata novembre\n",
            "\n",
            "\n",
            "______________________________________________________________________\n",
            "A sentence of assigned to cluster  4\n",
            "----------------------------------------------------------------------\n",
            "cosa avere dire bessie nuovo conto\n",
            "\n",
            "\n",
            "sedetevi qualche posto stare buono fino quando sapere parlare ragionevolmente\n",
            "\n",
            "\n",
            "______________________________________________________________________\n",
            "A sentence of assigned to cluster  5\n",
            "----------------------------------------------------------------------\n",
            "jane piacere essere interrogare\n",
            "\n",
            "\n",
            "separare sentire dire dio orrore\n",
            "\n",
            "\n",
            "______________________________________________________________________\n",
            "A sentence of assigned to cluster  6\n",
            "----------------------------------------------------------------------\n",
            "addio signore\n",
            "\n",
            "\n",
            "sì signore\n",
            "\n",
            "\n",
            "______________________________________________________________________\n",
            "A sentence of assigned to cluster  7\n",
            "----------------------------------------------------------------------\n",
            "tornavo allora libro essere storia uccello inghilterra scrivere berwich\n",
            "\n",
            "\n",
            "così avere borwick ginocchio essere felice felice modo\n",
            "\n",
            "\n",
            "______________________________________________________________________\n",
            "A sentence of assigned to cluster  8\n",
            "----------------------------------------------------------------------\n",
            "domandai timidezza rispettoso\n",
            "\n",
            "\n",
            "essere assuefatta ubbidire john accostare seggiola\n",
            "\n",
            "\n",
            "______________________________________________________________________\n",
            "A sentence of assigned to cluster  9\n",
            "----------------------------------------------------------------------\n",
            "mattina avere errare ora boschetto spogliare foglia dopo pranzo quando essere invitare signora reed desinare presto vento gelato inverno avere portare seco nubi così scure pioggia così penetrare potere pensare nessun escursione\n",
            "\n",
            "\n",
            "ella avere proibire unirmi gruppo dire deplorare necessità trovavasi tenere così lontano fino momento bessie guarentirebbe studiare acquistare carattere molto socievole molto infantile maniera molto cortese qualcosa molto radioso molto aperto molto sincero potere concedere stesso privilegio bambino allegro soddisfatto\n",
            "\n",
            "\n",
            "______________________________________________________________________\n"
          ]
        }
      ]
    },
    {
      "cell_type": "markdown",
      "metadata": {
        "id": "eaaAjiwT-vxY"
      },
      "source": [
        "Clustering DBSCAN"
      ]
    },
    {
      "cell_type": "code",
      "metadata": {
        "id": "-lMoxrlh53yr"
      },
      "source": [
        "from sklearn.cluster import DBSCAN\n",
        "# Computing 200th Nearest neighbour distance\n",
        "minPts = 2 * 100\n",
        "# Lower bound function copied from -> https://gist.github.com/m00nlight/0f9306b4d4e61ba0195f\n",
        "def lower_bound(nums, target): # This function return the number in the array just greater than or equal to itself.\n",
        "    l, r = 0, len(nums) - 1\n",
        "    while l <= r: # Binary searching.\n",
        "        mid = int(l + (r - l) / 2)\n",
        "        if nums[mid] >= target:\n",
        "            r = mid - 1\n",
        "        else:\n",
        "            l = mid + 1\n",
        "    return l\n",
        "\n",
        "def compute200thnearestneighbour(x, data): # Returns the distance of 200th nearest neighbour.\n",
        "    dists = []\n",
        "    for val in data:\n",
        "        dist = np.sum((x - val) **2 ) # computing distances.\n",
        "        if(len(dists) == 200 and dists[199] > dist): # If distance is larger than current largest distance found.\n",
        "            l = int(lower_bound(dists, dist)) # Using the lower bound function to get the right position.\n",
        "            if l < 200 and l >= 0 and dists[l] > dist:\n",
        "                dists[l] = dist\n",
        "        else:\n",
        "            dists.append(dist)\n",
        "            dists.sort()\n",
        "    \n",
        "    return dists[199] # Dist 199 contains the distance of 200th nearest neighbour."
      ],
      "execution_count": 63,
      "outputs": []
    },
    {
      "cell_type": "code",
      "metadata": {
        "id": "7PKi872E9bLS"
      },
      "source": [
        "# Computing the 200th nearest neighbour distance of some point the dataset:\n",
        "twohundrethneigh = []\n",
        "for val in sent_vectors[:1500]:\n",
        "    twohundrethneigh.append( compute200thnearestneighbour(val, sent_vectors[:1500]) )\n",
        "twohundrethneigh.sort()"
      ],
      "execution_count": 64,
      "outputs": []
    },
    {
      "cell_type": "code",
      "metadata": {
        "colab": {
          "base_uri": "https://localhost:8080/",
          "height": 295
        },
        "id": "oSO0llhv-1Wb",
        "outputId": "c50e7838-8135-46d9-ce05-c6da307d6ef5"
      },
      "source": [
        "# Plotting for the Elbow Method :\n",
        "plt.figure(figsize=(14,4))\n",
        "plt.title(\"Elbow Method for Finding the right Eps hyperparameter\")\n",
        "plt.plot([x for x in range(len(twohundrethneigh))], twohundrethneigh)\n",
        "plt.xlabel(\"Number of points\")\n",
        "plt.ylabel(\"Distance of 200th Nearest Neighbour\")\n",
        "plt.show()"
      ],
      "execution_count": 65,
      "outputs": [
        {
          "output_type": "display_data",
          "data": {
            "image/png": "[encoded data removed]",
            "text/plain": [
              "<Figure size 1008x288 with 1 Axes>"
            ]
          },
          "metadata": {
            "needs_background": "light"
          }
        }
      ]
    },
    {
      "cell_type": "code",
      "metadata": {
        "colab": {
          "base_uri": "https://localhost:8080/"
        },
        "id": "k-Sn7QhU9a7l",
        "outputId": "1235215a-8302-4d21-b210-e5a3113c1eef"
      },
      "source": [
        "# Training DBSCAN :\n",
        "model = DBSCAN(eps = 1, min_samples = minPts, n_jobs=-1)\n",
        "model.fit(sent_vectors)"
      ],
      "execution_count": 74,
      "outputs": [
        {
          "output_type": "execute_result",
          "data": {
            "text/plain": [
              "DBSCAN(algorithm='auto', eps=1, leaf_size=30, metric='euclidean',\n",
              "       metric_params=None, min_samples=200, n_jobs=-1, p=None)"
            ]
          },
          "metadata": {},
          "execution_count": 74
        }
      ]
    },
    {
      "cell_type": "code",
      "metadata": {
        "colab": {
          "base_uri": "https://localhost:8080/",
          "height": 109
        },
        "id": "VQ4WJhN1_ft2",
        "outputId": "8ca94c9a-cd3c-44cb-d082-e0620888569e"
      },
      "source": [
        "dfdb = dfa\n",
        "dfdb['AVG-W2V Clus Label'] = model.labels_\n",
        "dfdb.head(2)"
      ],
      "execution_count": 75,
      "outputs": [
        {
          "output_type": "execute_result",
          "data": {
            "text/html": [
              "<div>\n",
              "<style scoped>\n",
              "    .dataframe tbody tr th:only-of-type {\n",
              "        vertical-align: middle;\n",
              "    }\n",
              "\n",
              "    .dataframe tbody tr th {\n",
              "        vertical-align: top;\n",
              "    }\n",
              "\n",
              "    .dataframe thead th {\n",
              "        text-align: right;\n",
              "    }\n",
              "</style>\n",
              "<table border=\"1\" class=\"dataframe\">\n",
              "  <thead>\n",
              "    <tr style=\"text-align: right;\">\n",
              "      <th></th>\n",
              "      <th>text</th>\n",
              "      <th>Lemmi</th>\n",
              "      <th>Bow Clus Label</th>\n",
              "      <th>Tfidf Clus Label</th>\n",
              "      <th>AVG-W2V Clus Label</th>\n",
              "    </tr>\n",
              "  </thead>\n",
              "  <tbody>\n",
              "    <tr>\n",
              "      <th>0</th>\n",
              "      <td>in quello giorno essere impossibile passeggiare .</td>\n",
              "      <td>giorno essere impossibile passeggiare</td>\n",
              "      <td>5</td>\n",
              "      <td>5</td>\n",
              "      <td>0</td>\n",
              "    </tr>\n",
              "    <tr>\n",
              "      <th>1</th>\n",
              "      <td>il mattina avere errare per uno ora nel bosche...</td>\n",
              "      <td>mattina avere errare ora boschetto spogliare f...</td>\n",
              "      <td>0</td>\n",
              "      <td>9</td>\n",
              "      <td>0</td>\n",
              "    </tr>\n",
              "  </tbody>\n",
              "</table>\n",
              "</div>"
            ],
            "text/plain": [
              "                                                text  ... AVG-W2V Clus Label\n",
              "0  in quello giorno essere impossibile passeggiare .  ...                  0\n",
              "1  il mattina avere errare per uno ora nel bosche...  ...                  0\n",
              "\n",
              "[2 rows x 5 columns]"
            ]
          },
          "metadata": {},
          "execution_count": 75
        }
      ]
    },
    {
      "cell_type": "code",
      "metadata": {
        "colab": {
          "base_uri": "https://localhost:8080/",
          "height": 140
        },
        "id": "8yqt3b9l_inq",
        "outputId": "737b72f4-7c8f-4125-a2b1-7fd4a5223fab"
      },
      "source": [
        "dfdb.groupby(['AVG-W2V Clus Label'][0]).count()"
      ],
      "execution_count": 76,
      "outputs": [
        {
          "output_type": "execute_result",
          "data": {
            "text/html": [
              "<div>\n",
              "<style scoped>\n",
              "    .dataframe tbody tr th:only-of-type {\n",
              "        vertical-align: middle;\n",
              "    }\n",
              "\n",
              "    .dataframe tbody tr th {\n",
              "        vertical-align: top;\n",
              "    }\n",
              "\n",
              "    .dataframe thead th {\n",
              "        text-align: right;\n",
              "    }\n",
              "</style>\n",
              "<table border=\"1\" class=\"dataframe\">\n",
              "  <thead>\n",
              "    <tr style=\"text-align: right;\">\n",
              "      <th></th>\n",
              "      <th>text</th>\n",
              "      <th>Lemmi</th>\n",
              "      <th>Bow Clus Label</th>\n",
              "      <th>Tfidf Clus Label</th>\n",
              "    </tr>\n",
              "    <tr>\n",
              "      <th>AVG-W2V Clus Label</th>\n",
              "      <th></th>\n",
              "      <th></th>\n",
              "      <th></th>\n",
              "      <th></th>\n",
              "    </tr>\n",
              "  </thead>\n",
              "  <tbody>\n",
              "    <tr>\n",
              "      <th>-1</th>\n",
              "      <td>20</td>\n",
              "      <td>20</td>\n",
              "      <td>20</td>\n",
              "      <td>20</td>\n",
              "    </tr>\n",
              "    <tr>\n",
              "      <th>0</th>\n",
              "      <td>19782</td>\n",
              "      <td>19782</td>\n",
              "      <td>19782</td>\n",
              "      <td>19782</td>\n",
              "    </tr>\n",
              "  </tbody>\n",
              "</table>\n",
              "</div>"
            ],
            "text/plain": [
              "                     text  Lemmi  Bow Clus Label  Tfidf Clus Label\n",
              "AVG-W2V Clus Label                                                \n",
              "-1                     20     20              20                20\n",
              " 0                  19782  19782           19782             19782"
            ]
          },
          "metadata": {},
          "execution_count": 76
        }
      ]
    },
    {
      "cell_type": "code",
      "metadata": {
        "colab": {
          "base_uri": "https://localhost:8080/",
          "height": 289
        },
        "id": "H0zjdqTO9anw",
        "outputId": "2c3ee185-95e6-4b31-c9d6-0d59e5b593ae"
      },
      "source": [
        "import scipy\n",
        "from scipy.cluster import hierarchy\n",
        "dendro=hierarchy.dendrogram(hierarchy.linkage(sent_vectors,method='ward'))\n",
        "plt.axhline(y=35)# cut at 30 to get 10 clusters"
      ],
      "execution_count": 77,
      "outputs": [
        {
          "output_type": "execute_result",
          "data": {
            "text/plain": [
              "<matplotlib.lines.Line2D at 0x7f27c00c23d0>"
            ]
          },
          "metadata": {},
          "execution_count": 77
        },
        {
          "output_type": "display_data",
          "data": {
            "image/png": "[encoded data removed]",
            "text/plain": [
              "<Figure size 432x288 with 1 Axes>"
            ]
          },
          "metadata": {
            "needs_background": "light"
          }
        }
      ]
    },
    {
      "cell_type": "code",
      "metadata": {
        "id": "a-Sj7F5z_yBt"
      },
      "source": [
        "from sklearn.cluster import AgglomerativeClustering\n",
        "\n",
        "cluster = AgglomerativeClustering(n_clusters=10, affinity='euclidean', linkage='ward')   \n",
        "Agg=cluster.fit_predict(sent_vectors)"
      ],
      "execution_count": 78,
      "outputs": []
    },
    {
      "cell_type": "code",
      "metadata": {
        "colab": {
          "base_uri": "https://localhost:8080/",
          "height": 109
        },
        "id": "gVNCuqLMopq-",
        "outputId": "75ac6ba9-abc7-433b-cfa0-af625695560e"
      },
      "source": [
        "# Giving Labels/assigning a cluster to each point/text \n",
        "aggdfa = dfdb\n",
        "aggdfa['AVG-W2V Clus Label'] = cluster.labels_\n",
        "aggdfa.head(2)"
      ],
      "execution_count": 79,
      "outputs": [
        {
          "output_type": "execute_result",
          "data": {
            "text/html": [
              "<div>\n",
              "<style scoped>\n",
              "    .dataframe tbody tr th:only-of-type {\n",
              "        vertical-align: middle;\n",
              "    }\n",
              "\n",
              "    .dataframe tbody tr th {\n",
              "        vertical-align: top;\n",
              "    }\n",
              "\n",
              "    .dataframe thead th {\n",
              "        text-align: right;\n",
              "    }\n",
              "</style>\n",
              "<table border=\"1\" class=\"dataframe\">\n",
              "  <thead>\n",
              "    <tr style=\"text-align: right;\">\n",
              "      <th></th>\n",
              "      <th>text</th>\n",
              "      <th>Lemmi</th>\n",
              "      <th>Bow Clus Label</th>\n",
              "      <th>Tfidf Clus Label</th>\n",
              "      <th>AVG-W2V Clus Label</th>\n",
              "    </tr>\n",
              "  </thead>\n",
              "  <tbody>\n",
              "    <tr>\n",
              "      <th>0</th>\n",
              "      <td>in quello giorno essere impossibile passeggiare .</td>\n",
              "      <td>giorno essere impossibile passeggiare</td>\n",
              "      <td>5</td>\n",
              "      <td>5</td>\n",
              "      <td>0</td>\n",
              "    </tr>\n",
              "    <tr>\n",
              "      <th>1</th>\n",
              "      <td>il mattina avere errare per uno ora nel bosche...</td>\n",
              "      <td>mattina avere errare ora boschetto spogliare f...</td>\n",
              "      <td>0</td>\n",
              "      <td>9</td>\n",
              "      <td>2</td>\n",
              "    </tr>\n",
              "  </tbody>\n",
              "</table>\n",
              "</div>"
            ],
            "text/plain": [
              "                                                text  ... AVG-W2V Clus Label\n",
              "0  in quello giorno essere impossibile passeggiare .  ...                  0\n",
              "1  il mattina avere errare per uno ora nel bosche...  ...                  2\n",
              "\n",
              "[2 rows x 5 columns]"
            ]
          },
          "metadata": {},
          "execution_count": 79
        }
      ]
    },
    {
      "cell_type": "code",
      "metadata": {
        "colab": {
          "base_uri": "https://localhost:8080/"
        },
        "id": "eXPMvoK7opli",
        "outputId": "7e41d865-e1dd-46f7-f1d2-4913a67e2aa6"
      },
      "source": [
        "# How many points belong to each cluster\n",
        "aggdfa.groupby(['AVG-W2V Clus Label'])['Lemmi'].count()"
      ],
      "execution_count": 80,
      "outputs": [
        {
          "output_type": "execute_result",
          "data": {
            "text/plain": [
              "AVG-W2V Clus Label\n",
              "0    5675\n",
              "1    2776\n",
              "2    3782\n",
              "3    2742\n",
              "4    1131\n",
              "5     468\n",
              "6     159\n",
              "7    2312\n",
              "8     375\n",
              "9     382\n",
              "Name: Lemmi, dtype: int64"
            ]
          },
          "metadata": {},
          "execution_count": 80
        }
      ]
    },
    {
      "cell_type": "code",
      "metadata": {
        "id": "Npib7K5P-upQ"
      },
      "source": [
        ""
      ],
      "execution_count": null,
      "outputs": []
    },
    {
      "cell_type": "code",
      "metadata": {
        "colab": {
          "base_uri": "https://localhost:8080/"
        },
        "id": "iX-FQOzo_837",
        "outputId": "6b24bada-f64e-40f9-c13c-d30bf037bdc7"
      },
      "source": [
        "# Reading a sentence which belong to each group.\n",
        "for i in range(10):\n",
        "    print(\"2 sentences of assigned to cluster \", i)\n",
        "    print(\"-\" * 70) \n",
        "    print(aggdfa.iloc[aggdfa.groupby(['AVG-W2V Clus Label']).groups[i][0]]['Lemmi'])\n",
        "    print('\\n')\n",
        "    print(aggdfa.iloc[aggdfa.groupby(['AVG-W2V Clus Label']).groups[i][1]]['Lemmi'])\n",
        "    print('\\n')\n",
        "    print(\"_\" * 70)"
      ],
      "execution_count": 81,
      "outputs": [
        {
          "output_type": "stream",
          "name": "stdout",
          "text": [
            "2 sentences of assigned to cluster  0\n",
            "----------------------------------------------------------------------\n",
            "giorno essere impossibile passeggiare\n",
            "\n",
            "\n",
            "essere contento\n",
            "\n",
            "\n",
            "______________________________________________________________________\n",
            "2 sentences of assigned to cluster  1\n",
            "----------------------------------------------------------------------\n",
            "cosa avere dire bessie nuovo conto\n",
            "\n",
            "\n",
            "sedetevi qualche posto stare buono fino quando sapere parlare ragionevolmente\n",
            "\n",
            "\n",
            "______________________________________________________________________\n",
            "2 sentences of assigned to cluster  2\n",
            "----------------------------------------------------------------------\n",
            "mattina avere errare ora boschetto spogliare foglia dopo pranzo quando essere invitare signora reed desinare presto vento gelato inverno avere portare seco nubi così scure pioggia così penetrare potere pensare nessun escursione\n",
            "\n",
            "\n",
            "ella avere proibire unirmi gruppo dire deplorare necessità trovavasi tenere così lontano fino momento bessie guarentirebbe studiare acquistare carattere molto socievole molto infantile maniera molto cortese qualcosa molto radioso molto aperto molto sincero potere concedere stesso privilegio bambino allegro soddisfatto\n",
            "\n",
            "\n",
            "______________________________________________________________________\n",
            "2 sentences of assigned to cluster  3\n",
            "----------------------------------------------------------------------\n",
            "eliza john georgiana essere aggruppare salotto attorno mamma sdraiare sofà accanto fuoco circondare bambino momento questionare fra né piangere parere perfettamente felice\n",
            "\n",
            "\n",
            "piccolo sala pranzo mettere salotto andare pian piano\n",
            "\n",
            "\n",
            "______________________________________________________________________\n",
            "2 sentences of assigned to cluster  4\n",
            "----------------------------------------------------------------------\n",
            "signora scontroso gridare john reed\n",
            "\n",
            "\n",
            "dite cosa volere signore reed\n",
            "\n",
            "\n",
            "______________________________________________________________________\n",
            "2 sentences of assigned to cluster  5\n",
            "----------------------------------------------------------------------\n",
            "leggevo\n",
            "\n",
            "\n",
            "\n",
            "\n",
            "\n",
            "______________________________________________________________________\n",
            "2 sentences of assigned to cluster  6\n",
            "----------------------------------------------------------------------\n",
            "sì signore\n",
            "\n",
            "\n",
            "appartenere signore rochester\n",
            "\n",
            "\n",
            "______________________________________________________________________\n",
            "2 sentences of assigned to cluster  7\n",
            "----------------------------------------------------------------------\n",
            "domandai\n",
            "\n",
            "\n",
            "larghe piega cortina scarlatta nascondere ciò essere destra sinistra invetriata proteggere separare triste giornata novembre\n",
            "\n",
            "\n",
            "______________________________________________________________________\n",
            "2 sentences of assigned to cluster  8\n",
            "----------------------------------------------------------------------\n",
            "domandai timidezza rispettoso\n",
            "\n",
            "\n",
            "perfido crudele ragazzo\n",
            "\n",
            "\n",
            "______________________________________________________________________\n",
            "2 sentences of assigned to cluster  9\n",
            "----------------------------------------------------------------------\n",
            "cosa volere\n",
            "\n",
            "\n",
            "sì\n",
            "\n",
            "\n",
            "______________________________________________________________________\n"
          ]
        }
      ]
    },
    {
      "cell_type": "code",
      "metadata": {
        "id": "zhN8CYeaAD7h"
      },
      "source": [
        ""
      ],
      "execution_count": 73,
      "outputs": []
    }
  ]
}