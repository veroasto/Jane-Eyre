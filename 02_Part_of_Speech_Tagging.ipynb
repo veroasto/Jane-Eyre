{
  "nbformat": 4,
  "nbformat_minor": 0,
  "metadata": {
    "colab": {
      "name": "02. Part_of_Speech_Tagging.ipynb",
      "provenance": []
    },
    "kernelspec": {
      "name": "python3",
      "display_name": "Python 3"
    },
    "language_info": {
      "name": "python"
    },
    "widgets": {
      "application/vnd.jupyter.widget-state+json": {
        "eeb60882202d4a8bbd67b2791d465665": {
          "model_module": "@jupyter-widgets/controls",
          "model_name": "HBoxModel",
          "model_module_version": "1.5.0",
          "state": {
            "_view_name": "HBoxView",
            "_dom_classes": [],
            "_model_name": "HBoxModel",
            "_view_module": "@jupyter-widgets/controls",
            "_model_module_version": "1.5.0",
            "_view_count": null,
            "_view_module_version": "1.5.0",
            "box_style": "",
            "layout": "IPY_MODEL_6904bc60a2b9407cb6e74ffe4c0112a8",
            "_model_module": "@jupyter-widgets/controls",
            "children": [
              "IPY_MODEL_17431cda54764627bf4adae30457c2cb",
              "IPY_MODEL_d1ca90641cc14ce2ac9e320d66e9dd32",
              "IPY_MODEL_de0b0c42511943ff98fd2751bd256a30"
            ]
          }
        },
        "6904bc60a2b9407cb6e74ffe4c0112a8": {
          "model_module": "@jupyter-widgets/base",
          "model_name": "LayoutModel",
          "model_module_version": "1.2.0",
          "state": {
            "_view_name": "LayoutView",
            "grid_template_rows": null,
            "right": null,
            "justify_content": null,
            "_view_module": "@jupyter-widgets/base",
            "overflow": null,
            "_model_module_version": "1.2.0",
            "_view_count": null,
            "flex_flow": null,
            "width": null,
            "min_width": null,
            "border": null,
            "align_items": null,
            "bottom": null,
            "_model_module": "@jupyter-widgets/base",
            "top": null,
            "grid_column": null,
            "overflow_y": null,
            "overflow_x": null,
            "grid_auto_flow": null,
            "grid_area": null,
            "grid_template_columns": null,
            "flex": null,
            "_model_name": "LayoutModel",
            "justify_items": null,
            "grid_row": null,
            "max_height": null,
            "align_content": null,
            "visibility": null,
            "align_self": null,
            "height": null,
            "min_height": null,
            "padding": null,
            "grid_auto_rows": null,
            "grid_gap": null,
            "max_width": null,
            "order": null,
            "_view_module_version": "1.2.0",
            "grid_template_areas": null,
            "object_position": null,
            "object_fit": null,
            "grid_auto_columns": null,
            "margin": null,
            "display": null,
            "left": null
          }
        },
        "17431cda54764627bf4adae30457c2cb": {
          "model_module": "@jupyter-widgets/controls",
          "model_name": "HTMLModel",
          "model_module_version": "1.5.0",
          "state": {
            "_view_name": "HTMLView",
            "style": "IPY_MODEL_7866063abcb647d9b5a67753a084205f",
            "_dom_classes": [],
            "description": "",
            "_model_name": "HTMLModel",
            "placeholder": "​",
            "_view_module": "@jupyter-widgets/controls",
            "_model_module_version": "1.5.0",
            "value": "",
            "_view_count": null,
            "_view_module_version": "1.5.0",
            "description_tooltip": null,
            "_model_module": "@jupyter-widgets/controls",
            "layout": "IPY_MODEL_0eac66d08138427b8c761320fa360052"
          }
        },
        "d1ca90641cc14ce2ac9e320d66e9dd32": {
          "model_module": "@jupyter-widgets/controls",
          "model_name": "FloatProgressModel",
          "model_module_version": "1.5.0",
          "state": {
            "_view_name": "ProgressView",
            "style": "IPY_MODEL_2377ff1bae53459088b336084b3a24db",
            "_dom_classes": [],
            "description": "",
            "_model_name": "FloatProgressModel",
            "bar_style": "success",
            "max": 1,
            "_view_module": "@jupyter-widgets/controls",
            "_model_module_version": "1.5.0",
            "value": 1,
            "_view_count": null,
            "_view_module_version": "1.5.0",
            "orientation": "horizontal",
            "min": 0,
            "description_tooltip": null,
            "_model_module": "@jupyter-widgets/controls",
            "layout": "IPY_MODEL_982f10273645447cb923b7741368ab9a"
          }
        },
        "de0b0c42511943ff98fd2751bd256a30": {
          "model_module": "@jupyter-widgets/controls",
          "model_name": "HTMLModel",
          "model_module_version": "1.5.0",
          "state": {
            "_view_name": "HTMLView",
            "style": "IPY_MODEL_145bf994dc8c4a63a878782ee2f0443a",
            "_dom_classes": [],
            "description": "",
            "_model_name": "HTMLModel",
            "placeholder": "​",
            "_view_module": "@jupyter-widgets/controls",
            "_model_module_version": "1.5.0",
            "value": " 2/? [00:44&lt;00:00, 18.43s/it]",
            "_view_count": null,
            "_view_module_version": "1.5.0",
            "description_tooltip": null,
            "_model_module": "@jupyter-widgets/controls",
            "layout": "IPY_MODEL_bc431794a59b469285b04568b29919f1"
          }
        },
        "7866063abcb647d9b5a67753a084205f": {
          "model_module": "@jupyter-widgets/controls",
          "model_name": "DescriptionStyleModel",
          "model_module_version": "1.5.0",
          "state": {
            "_view_name": "StyleView",
            "_model_name": "DescriptionStyleModel",
            "description_width": "",
            "_view_module": "@jupyter-widgets/base",
            "_model_module_version": "1.5.0",
            "_view_count": null,
            "_view_module_version": "1.2.0",
            "_model_module": "@jupyter-widgets/controls"
          }
        },
        "0eac66d08138427b8c761320fa360052": {
          "model_module": "@jupyter-widgets/base",
          "model_name": "LayoutModel",
          "model_module_version": "1.2.0",
          "state": {
            "_view_name": "LayoutView",
            "grid_template_rows": null,
            "right": null,
            "justify_content": null,
            "_view_module": "@jupyter-widgets/base",
            "overflow": null,
            "_model_module_version": "1.2.0",
            "_view_count": null,
            "flex_flow": null,
            "width": null,
            "min_width": null,
            "border": null,
            "align_items": null,
            "bottom": null,
            "_model_module": "@jupyter-widgets/base",
            "top": null,
            "grid_column": null,
            "overflow_y": null,
            "overflow_x": null,
            "grid_auto_flow": null,
            "grid_area": null,
            "grid_template_columns": null,
            "flex": null,
            "_model_name": "LayoutModel",
            "justify_items": null,
            "grid_row": null,
            "max_height": null,
            "align_content": null,
            "visibility": null,
            "align_self": null,
            "height": null,
            "min_height": null,
            "padding": null,
            "grid_auto_rows": null,
            "grid_gap": null,
            "max_width": null,
            "order": null,
            "_view_module_version": "1.2.0",
            "grid_template_areas": null,
            "object_position": null,
            "object_fit": null,
            "grid_auto_columns": null,
            "margin": null,
            "display": null,
            "left": null
          }
        },
        "2377ff1bae53459088b336084b3a24db": {
          "model_module": "@jupyter-widgets/controls",
          "model_name": "ProgressStyleModel",
          "model_module_version": "1.5.0",
          "state": {
            "_view_name": "StyleView",
            "_model_name": "ProgressStyleModel",
            "description_width": "",
            "_view_module": "@jupyter-widgets/base",
            "_model_module_version": "1.5.0",
            "_view_count": null,
            "_view_module_version": "1.2.0",
            "bar_color": null,
            "_model_module": "@jupyter-widgets/controls"
          }
        },
        "982f10273645447cb923b7741368ab9a": {
          "model_module": "@jupyter-widgets/base",
          "model_name": "LayoutModel",
          "model_module_version": "1.2.0",
          "state": {
            "_view_name": "LayoutView",
            "grid_template_rows": null,
            "right": null,
            "justify_content": null,
            "_view_module": "@jupyter-widgets/base",
            "overflow": null,
            "_model_module_version": "1.2.0",
            "_view_count": null,
            "flex_flow": null,
            "width": "20px",
            "min_width": null,
            "border": null,
            "align_items": null,
            "bottom": null,
            "_model_module": "@jupyter-widgets/base",
            "top": null,
            "grid_column": null,
            "overflow_y": null,
            "overflow_x": null,
            "grid_auto_flow": null,
            "grid_area": null,
            "grid_template_columns": null,
            "flex": null,
            "_model_name": "LayoutModel",
            "justify_items": null,
            "grid_row": null,
            "max_height": null,
            "align_content": null,
            "visibility": null,
            "align_self": null,
            "height": null,
            "min_height": null,
            "padding": null,
            "grid_auto_rows": null,
            "grid_gap": null,
            "max_width": null,
            "order": null,
            "_view_module_version": "1.2.0",
            "grid_template_areas": null,
            "object_position": null,
            "object_fit": null,
            "grid_auto_columns": null,
            "margin": null,
            "display": null,
            "left": null
          }
        },
        "145bf994dc8c4a63a878782ee2f0443a": {
          "model_module": "@jupyter-widgets/controls",
          "model_name": "DescriptionStyleModel",
          "model_module_version": "1.5.0",
          "state": {
            "_view_name": "StyleView",
            "_model_name": "DescriptionStyleModel",
            "description_width": "",
            "_view_module": "@jupyter-widgets/base",
            "_model_module_version": "1.5.0",
            "_view_count": null,
            "_view_module_version": "1.2.0",
            "_model_module": "@jupyter-widgets/controls"
          }
        },
        "bc431794a59b469285b04568b29919f1": {
          "model_module": "@jupyter-widgets/base",
          "model_name": "LayoutModel",
          "model_module_version": "1.2.0",
          "state": {
            "_view_name": "LayoutView",
            "grid_template_rows": null,
            "right": null,
            "justify_content": null,
            "_view_module": "@jupyter-widgets/base",
            "overflow": null,
            "_model_module_version": "1.2.0",
            "_view_count": null,
            "flex_flow": null,
            "width": null,
            "min_width": null,
            "border": null,
            "align_items": null,
            "bottom": null,
            "_model_module": "@jupyter-widgets/base",
            "top": null,
            "grid_column": null,
            "overflow_y": null,
            "overflow_x": null,
            "grid_auto_flow": null,
            "grid_area": null,
            "grid_template_columns": null,
            "flex": null,
            "_model_name": "LayoutModel",
            "justify_items": null,
            "grid_row": null,
            "max_height": null,
            "align_content": null,
            "visibility": null,
            "align_self": null,
            "height": null,
            "min_height": null,
            "padding": null,
            "grid_auto_rows": null,
            "grid_gap": null,
            "max_width": null,
            "order": null,
            "_view_module_version": "1.2.0",
            "grid_template_areas": null,
            "object_position": null,
            "object_fit": null,
            "grid_auto_columns": null,
            "margin": null,
            "display": null,
            "left": null
          }
        },
        "c398434b1226406482aa411f9964af0b": {
          "model_module": "@jupyter-widgets/controls",
          "model_name": "HBoxModel",
          "model_module_version": "1.5.0",
          "state": {
            "_view_name": "HBoxView",
            "_dom_classes": [],
            "_model_name": "HBoxModel",
            "_view_module": "@jupyter-widgets/controls",
            "_model_module_version": "1.5.0",
            "_view_count": null,
            "_view_module_version": "1.5.0",
            "box_style": "",
            "layout": "IPY_MODEL_5810b867276748febe90f9114e520218",
            "_model_module": "@jupyter-widgets/controls",
            "children": [
              "IPY_MODEL_55c32348ae7b4decb92864e5fbf6eef9",
              "IPY_MODEL_fdf79f47d4fb4d0b8379d7ca17bac0cc",
              "IPY_MODEL_7cb8c61eb08441fa9be2dbcd90531b2c"
            ]
          }
        },
        "5810b867276748febe90f9114e520218": {
          "model_module": "@jupyter-widgets/base",
          "model_name": "LayoutModel",
          "model_module_version": "1.2.0",
          "state": {
            "_view_name": "LayoutView",
            "grid_template_rows": null,
            "right": null,
            "justify_content": null,
            "_view_module": "@jupyter-widgets/base",
            "overflow": null,
            "_model_module_version": "1.2.0",
            "_view_count": null,
            "flex_flow": null,
            "width": null,
            "min_width": null,
            "border": null,
            "align_items": null,
            "bottom": null,
            "_model_module": "@jupyter-widgets/base",
            "top": null,
            "grid_column": null,
            "overflow_y": null,
            "overflow_x": null,
            "grid_auto_flow": null,
            "grid_area": null,
            "grid_template_columns": null,
            "flex": null,
            "_model_name": "LayoutModel",
            "justify_items": null,
            "grid_row": null,
            "max_height": null,
            "align_content": null,
            "visibility": null,
            "align_self": null,
            "height": null,
            "min_height": null,
            "padding": null,
            "grid_auto_rows": null,
            "grid_gap": null,
            "max_width": null,
            "order": null,
            "_view_module_version": "1.2.0",
            "grid_template_areas": null,
            "object_position": null,
            "object_fit": null,
            "grid_auto_columns": null,
            "margin": null,
            "display": null,
            "left": null
          }
        },
        "55c32348ae7b4decb92864e5fbf6eef9": {
          "model_module": "@jupyter-widgets/controls",
          "model_name": "HTMLModel",
          "model_module_version": "1.5.0",
          "state": {
            "_view_name": "HTMLView",
            "style": "IPY_MODEL_c046296186074fe2b23e898a8a60e2a9",
            "_dom_classes": [],
            "description": "",
            "_model_name": "HTMLModel",
            "placeholder": "​",
            "_view_module": "@jupyter-widgets/controls",
            "_model_module_version": "1.5.0",
            "value": "100%",
            "_view_count": null,
            "_view_module_version": "1.5.0",
            "description_tooltip": null,
            "_model_module": "@jupyter-widgets/controls",
            "layout": "IPY_MODEL_3aa2c7ff5af24657abf02e28f950d461"
          }
        },
        "fdf79f47d4fb4d0b8379d7ca17bac0cc": {
          "model_module": "@jupyter-widgets/controls",
          "model_name": "FloatProgressModel",
          "model_module_version": "1.5.0",
          "state": {
            "_view_name": "ProgressView",
            "style": "IPY_MODEL_8a47865074e34cd4b2f1e365500242ee",
            "_dom_classes": [],
            "description": "",
            "_model_name": "FloatProgressModel",
            "bar_style": "success",
            "max": 2,
            "_view_module": "@jupyter-widgets/controls",
            "_model_module_version": "1.5.0",
            "value": 2,
            "_view_count": null,
            "_view_module_version": "1.5.0",
            "orientation": "horizontal",
            "min": 0,
            "description_tooltip": null,
            "_model_module": "@jupyter-widgets/controls",
            "layout": "IPY_MODEL_d3347e278f8d4c59b3c2cf8d1e9a7c8e"
          }
        },
        "7cb8c61eb08441fa9be2dbcd90531b2c": {
          "model_module": "@jupyter-widgets/controls",
          "model_name": "HTMLModel",
          "model_module_version": "1.5.0",
          "state": {
            "_view_name": "HTMLView",
            "style": "IPY_MODEL_9ae576b9b9464c878396074bdfa44d4b",
            "_dom_classes": [],
            "description": "",
            "_model_name": "HTMLModel",
            "placeholder": "​",
            "_view_module": "@jupyter-widgets/controls",
            "_model_module_version": "1.5.0",
            "value": " 2/2 [00:00&lt;00:00, 14.07it/s]",
            "_view_count": null,
            "_view_module_version": "1.5.0",
            "description_tooltip": null,
            "_model_module": "@jupyter-widgets/controls",
            "layout": "IPY_MODEL_b18ab75b2315474e99527923f69d5d12"
          }
        },
        "c046296186074fe2b23e898a8a60e2a9": {
          "model_module": "@jupyter-widgets/controls",
          "model_name": "DescriptionStyleModel",
          "model_module_version": "1.5.0",
          "state": {
            "_view_name": "StyleView",
            "_model_name": "DescriptionStyleModel",
            "description_width": "",
            "_view_module": "@jupyter-widgets/base",
            "_model_module_version": "1.5.0",
            "_view_count": null,
            "_view_module_version": "1.2.0",
            "_model_module": "@jupyter-widgets/controls"
          }
        },
        "3aa2c7ff5af24657abf02e28f950d461": {
          "model_module": "@jupyter-widgets/base",
          "model_name": "LayoutModel",
          "model_module_version": "1.2.0",
          "state": {
            "_view_name": "LayoutView",
            "grid_template_rows": null,
            "right": null,
            "justify_content": null,
            "_view_module": "@jupyter-widgets/base",
            "overflow": null,
            "_model_module_version": "1.2.0",
            "_view_count": null,
            "flex_flow": null,
            "width": null,
            "min_width": null,
            "border": null,
            "align_items": null,
            "bottom": null,
            "_model_module": "@jupyter-widgets/base",
            "top": null,
            "grid_column": null,
            "overflow_y": null,
            "overflow_x": null,
            "grid_auto_flow": null,
            "grid_area": null,
            "grid_template_columns": null,
            "flex": null,
            "_model_name": "LayoutModel",
            "justify_items": null,
            "grid_row": null,
            "max_height": null,
            "align_content": null,
            "visibility": null,
            "align_self": null,
            "height": null,
            "min_height": null,
            "padding": null,
            "grid_auto_rows": null,
            "grid_gap": null,
            "max_width": null,
            "order": null,
            "_view_module_version": "1.2.0",
            "grid_template_areas": null,
            "object_position": null,
            "object_fit": null,
            "grid_auto_columns": null,
            "margin": null,
            "display": null,
            "left": null
          }
        },
        "8a47865074e34cd4b2f1e365500242ee": {
          "model_module": "@jupyter-widgets/controls",
          "model_name": "ProgressStyleModel",
          "model_module_version": "1.5.0",
          "state": {
            "_view_name": "StyleView",
            "_model_name": "ProgressStyleModel",
            "description_width": "",
            "_view_module": "@jupyter-widgets/base",
            "_model_module_version": "1.5.0",
            "_view_count": null,
            "_view_module_version": "1.2.0",
            "bar_color": null,
            "_model_module": "@jupyter-widgets/controls"
          }
        },
        "d3347e278f8d4c59b3c2cf8d1e9a7c8e": {
          "model_module": "@jupyter-widgets/base",
          "model_name": "LayoutModel",
          "model_module_version": "1.2.0",
          "state": {
            "_view_name": "LayoutView",
            "grid_template_rows": null,
            "right": null,
            "justify_content": null,
            "_view_module": "@jupyter-widgets/base",
            "overflow": null,
            "_model_module_version": "1.2.0",
            "_view_count": null,
            "flex_flow": null,
            "width": null,
            "min_width": null,
            "border": null,
            "align_items": null,
            "bottom": null,
            "_model_module": "@jupyter-widgets/base",
            "top": null,
            "grid_column": null,
            "overflow_y": null,
            "overflow_x": null,
            "grid_auto_flow": null,
            "grid_area": null,
            "grid_template_columns": null,
            "flex": null,
            "_model_name": "LayoutModel",
            "justify_items": null,
            "grid_row": null,
            "max_height": null,
            "align_content": null,
            "visibility": null,
            "align_self": null,
            "height": null,
            "min_height": null,
            "padding": null,
            "grid_auto_rows": null,
            "grid_gap": null,
            "max_width": null,
            "order": null,
            "_view_module_version": "1.2.0",
            "grid_template_areas": null,
            "object_position": null,
            "object_fit": null,
            "grid_auto_columns": null,
            "margin": null,
            "display": null,
            "left": null
          }
        },
        "9ae576b9b9464c878396074bdfa44d4b": {
          "model_module": "@jupyter-widgets/controls",
          "model_name": "DescriptionStyleModel",
          "model_module_version": "1.5.0",
          "state": {
            "_view_name": "StyleView",
            "_model_name": "DescriptionStyleModel",
            "description_width": "",
            "_view_module": "@jupyter-widgets/base",
            "_model_module_version": "1.5.0",
            "_view_count": null,
            "_view_module_version": "1.2.0",
            "_model_module": "@jupyter-widgets/controls"
          }
        },
        "b18ab75b2315474e99527923f69d5d12": {
          "model_module": "@jupyter-widgets/base",
          "model_name": "LayoutModel",
          "model_module_version": "1.2.0",
          "state": {
            "_view_name": "LayoutView",
            "grid_template_rows": null,
            "right": null,
            "justify_content": null,
            "_view_module": "@jupyter-widgets/base",
            "overflow": null,
            "_model_module_version": "1.2.0",
            "_view_count": null,
            "flex_flow": null,
            "width": null,
            "min_width": null,
            "border": null,
            "align_items": null,
            "bottom": null,
            "_model_module": "@jupyter-widgets/base",
            "top": null,
            "grid_column": null,
            "overflow_y": null,
            "overflow_x": null,
            "grid_auto_flow": null,
            "grid_area": null,
            "grid_template_columns": null,
            "flex": null,
            "_model_name": "LayoutModel",
            "justify_items": null,
            "grid_row": null,
            "max_height": null,
            "align_content": null,
            "visibility": null,
            "align_self": null,
            "height": null,
            "min_height": null,
            "padding": null,
            "grid_auto_rows": null,
            "grid_gap": null,
            "max_width": null,
            "order": null,
            "_view_module_version": "1.2.0",
            "grid_template_areas": null,
            "object_position": null,
            "object_fit": null,
            "grid_auto_columns": null,
            "margin": null,
            "display": null,
            "left": null
          }
        },
        "2b427b79988044cca3cb91423de1229c": {
          "model_module": "@jupyter-widgets/controls",
          "model_name": "HBoxModel",
          "model_module_version": "1.5.0",
          "state": {
            "_view_name": "HBoxView",
            "_dom_classes": [],
            "_model_name": "HBoxModel",
            "_view_module": "@jupyter-widgets/controls",
            "_model_module_version": "1.5.0",
            "_view_count": null,
            "_view_module_version": "1.5.0",
            "box_style": "",
            "layout": "IPY_MODEL_50c7e07b042649998d4eea0de9c0c753",
            "_model_module": "@jupyter-widgets/controls",
            "children": [
              "IPY_MODEL_e193c20d80a3490785c3e095c3531850",
              "IPY_MODEL_dc38faa4ebb54537a684146170305627",
              "IPY_MODEL_919f6c68233e4af9accb4214943383b8"
            ]
          }
        },
        "50c7e07b042649998d4eea0de9c0c753": {
          "model_module": "@jupyter-widgets/base",
          "model_name": "LayoutModel",
          "model_module_version": "1.2.0",
          "state": {
            "_view_name": "LayoutView",
            "grid_template_rows": null,
            "right": null,
            "justify_content": null,
            "_view_module": "@jupyter-widgets/base",
            "overflow": null,
            "_model_module_version": "1.2.0",
            "_view_count": null,
            "flex_flow": null,
            "width": null,
            "min_width": null,
            "border": null,
            "align_items": null,
            "bottom": null,
            "_model_module": "@jupyter-widgets/base",
            "top": null,
            "grid_column": null,
            "overflow_y": null,
            "overflow_x": null,
            "grid_auto_flow": null,
            "grid_area": null,
            "grid_template_columns": null,
            "flex": null,
            "_model_name": "LayoutModel",
            "justify_items": null,
            "grid_row": null,
            "max_height": null,
            "align_content": null,
            "visibility": null,
            "align_self": null,
            "height": null,
            "min_height": null,
            "padding": null,
            "grid_auto_rows": null,
            "grid_gap": null,
            "max_width": null,
            "order": null,
            "_view_module_version": "1.2.0",
            "grid_template_areas": null,
            "object_position": null,
            "object_fit": null,
            "grid_auto_columns": null,
            "margin": null,
            "display": null,
            "left": null
          }
        },
        "e193c20d80a3490785c3e095c3531850": {
          "model_module": "@jupyter-widgets/controls",
          "model_name": "HTMLModel",
          "model_module_version": "1.5.0",
          "state": {
            "_view_name": "HTMLView",
            "style": "IPY_MODEL_789ea13aec9443939550a18aea7f4233",
            "_dom_classes": [],
            "description": "",
            "_model_name": "HTMLModel",
            "placeholder": "​",
            "_view_module": "@jupyter-widgets/controls",
            "_model_module_version": "1.5.0",
            "value": "100%",
            "_view_count": null,
            "_view_module_version": "1.5.0",
            "description_tooltip": null,
            "_model_module": "@jupyter-widgets/controls",
            "layout": "IPY_MODEL_0ad8c2ce6e88416cb09b26d5357aee8c"
          }
        },
        "dc38faa4ebb54537a684146170305627": {
          "model_module": "@jupyter-widgets/controls",
          "model_name": "FloatProgressModel",
          "model_module_version": "1.5.0",
          "state": {
            "_view_name": "ProgressView",
            "style": "IPY_MODEL_4c009418734f400e856c689ce2d0370b",
            "_dom_classes": [],
            "description": "",
            "_model_name": "FloatProgressModel",
            "bar_style": "success",
            "max": 2,
            "_view_module": "@jupyter-widgets/controls",
            "_model_module_version": "1.5.0",
            "value": 2,
            "_view_count": null,
            "_view_module_version": "1.5.0",
            "orientation": "horizontal",
            "min": 0,
            "description_tooltip": null,
            "_model_module": "@jupyter-widgets/controls",
            "layout": "IPY_MODEL_cec22badd69743bab1c4a51ca12f623a"
          }
        },
        "919f6c68233e4af9accb4214943383b8": {
          "model_module": "@jupyter-widgets/controls",
          "model_name": "HTMLModel",
          "model_module_version": "1.5.0",
          "state": {
            "_view_name": "HTMLView",
            "style": "IPY_MODEL_e9067f2e69334982a7b0e99ab347ee44",
            "_dom_classes": [],
            "description": "",
            "_model_name": "HTMLModel",
            "placeholder": "​",
            "_view_module": "@jupyter-widgets/controls",
            "_model_module_version": "1.5.0",
            "value": " 2/2 [00:00&lt;00:00, 15.24it/s]",
            "_view_count": null,
            "_view_module_version": "1.5.0",
            "description_tooltip": null,
            "_model_module": "@jupyter-widgets/controls",
            "layout": "IPY_MODEL_cf5dca52d3784ed2911cfff194918900"
          }
        },
        "789ea13aec9443939550a18aea7f4233": {
          "model_module": "@jupyter-widgets/controls",
          "model_name": "DescriptionStyleModel",
          "model_module_version": "1.5.0",
          "state": {
            "_view_name": "StyleView",
            "_model_name": "DescriptionStyleModel",
            "description_width": "",
            "_view_module": "@jupyter-widgets/base",
            "_model_module_version": "1.5.0",
            "_view_count": null,
            "_view_module_version": "1.2.0",
            "_model_module": "@jupyter-widgets/controls"
          }
        },
        "0ad8c2ce6e88416cb09b26d5357aee8c": {
          "model_module": "@jupyter-widgets/base",
          "model_name": "LayoutModel",
          "model_module_version": "1.2.0",
          "state": {
            "_view_name": "LayoutView",
            "grid_template_rows": null,
            "right": null,
            "justify_content": null,
            "_view_module": "@jupyter-widgets/base",
            "overflow": null,
            "_model_module_version": "1.2.0",
            "_view_count": null,
            "flex_flow": null,
            "width": null,
            "min_width": null,
            "border": null,
            "align_items": null,
            "bottom": null,
            "_model_module": "@jupyter-widgets/base",
            "top": null,
            "grid_column": null,
            "overflow_y": null,
            "overflow_x": null,
            "grid_auto_flow": null,
            "grid_area": null,
            "grid_template_columns": null,
            "flex": null,
            "_model_name": "LayoutModel",
            "justify_items": null,
            "grid_row": null,
            "max_height": null,
            "align_content": null,
            "visibility": null,
            "align_self": null,
            "height": null,
            "min_height": null,
            "padding": null,
            "grid_auto_rows": null,
            "grid_gap": null,
            "max_width": null,
            "order": null,
            "_view_module_version": "1.2.0",
            "grid_template_areas": null,
            "object_position": null,
            "object_fit": null,
            "grid_auto_columns": null,
            "margin": null,
            "display": null,
            "left": null
          }
        },
        "4c009418734f400e856c689ce2d0370b": {
          "model_module": "@jupyter-widgets/controls",
          "model_name": "ProgressStyleModel",
          "model_module_version": "1.5.0",
          "state": {
            "_view_name": "StyleView",
            "_model_name": "ProgressStyleModel",
            "description_width": "",
            "_view_module": "@jupyter-widgets/base",
            "_model_module_version": "1.5.0",
            "_view_count": null,
            "_view_module_version": "1.2.0",
            "bar_color": null,
            "_model_module": "@jupyter-widgets/controls"
          }
        },
        "cec22badd69743bab1c4a51ca12f623a": {
          "model_module": "@jupyter-widgets/base",
          "model_name": "LayoutModel",
          "model_module_version": "1.2.0",
          "state": {
            "_view_name": "LayoutView",
            "grid_template_rows": null,
            "right": null,
            "justify_content": null,
            "_view_module": "@jupyter-widgets/base",
            "overflow": null,
            "_model_module_version": "1.2.0",
            "_view_count": null,
            "flex_flow": null,
            "width": null,
            "min_width": null,
            "border": null,
            "align_items": null,
            "bottom": null,
            "_model_module": "@jupyter-widgets/base",
            "top": null,
            "grid_column": null,
            "overflow_y": null,
            "overflow_x": null,
            "grid_auto_flow": null,
            "grid_area": null,
            "grid_template_columns": null,
            "flex": null,
            "_model_name": "LayoutModel",
            "justify_items": null,
            "grid_row": null,
            "max_height": null,
            "align_content": null,
            "visibility": null,
            "align_self": null,
            "height": null,
            "min_height": null,
            "padding": null,
            "grid_auto_rows": null,
            "grid_gap": null,
            "max_width": null,
            "order": null,
            "_view_module_version": "1.2.0",
            "grid_template_areas": null,
            "object_position": null,
            "object_fit": null,
            "grid_auto_columns": null,
            "margin": null,
            "display": null,
            "left": null
          }
        },
        "e9067f2e69334982a7b0e99ab347ee44": {
          "model_module": "@jupyter-widgets/controls",
          "model_name": "DescriptionStyleModel",
          "model_module_version": "1.5.0",
          "state": {
            "_view_name": "StyleView",
            "_model_name": "DescriptionStyleModel",
            "description_width": "",
            "_view_module": "@jupyter-widgets/base",
            "_model_module_version": "1.5.0",
            "_view_count": null,
            "_view_module_version": "1.2.0",
            "_model_module": "@jupyter-widgets/controls"
          }
        },
        "cf5dca52d3784ed2911cfff194918900": {
          "model_module": "@jupyter-widgets/base",
          "model_name": "LayoutModel",
          "model_module_version": "1.2.0",
          "state": {
            "_view_name": "LayoutView",
            "grid_template_rows": null,
            "right": null,
            "justify_content": null,
            "_view_module": "@jupyter-widgets/base",
            "overflow": null,
            "_model_module_version": "1.2.0",
            "_view_count": null,
            "flex_flow": null,
            "width": null,
            "min_width": null,
            "border": null,
            "align_items": null,
            "bottom": null,
            "_model_module": "@jupyter-widgets/base",
            "top": null,
            "grid_column": null,
            "overflow_y": null,
            "overflow_x": null,
            "grid_auto_flow": null,
            "grid_area": null,
            "grid_template_columns": null,
            "flex": null,
            "_model_name": "LayoutModel",
            "justify_items": null,
            "grid_row": null,
            "max_height": null,
            "align_content": null,
            "visibility": null,
            "align_self": null,
            "height": null,
            "min_height": null,
            "padding": null,
            "grid_auto_rows": null,
            "grid_gap": null,
            "max_width": null,
            "order": null,
            "_view_module_version": "1.2.0",
            "grid_template_areas": null,
            "object_position": null,
            "object_fit": null,
            "grid_auto_columns": null,
            "margin": null,
            "display": null,
            "left": null
          }
        },
        "0a48500994de468a9475a4d341aaefe1": {
          "model_module": "@jupyter-widgets/controls",
          "model_name": "HBoxModel",
          "model_module_version": "1.5.0",
          "state": {
            "_view_name": "HBoxView",
            "_dom_classes": [],
            "_model_name": "HBoxModel",
            "_view_module": "@jupyter-widgets/controls",
            "_model_module_version": "1.5.0",
            "_view_count": null,
            "_view_module_version": "1.5.0",
            "box_style": "",
            "layout": "IPY_MODEL_870e1ca6937a4a799efceea21a09d38c",
            "_model_module": "@jupyter-widgets/controls",
            "children": [
              "IPY_MODEL_408d88e880b947ce8e44b552c150aa17",
              "IPY_MODEL_6b09ebd0ccee4e7c88f052bbed15b645",
              "IPY_MODEL_3da871f3dfe04d3f8b19e4d7349f557b"
            ]
          }
        },
        "870e1ca6937a4a799efceea21a09d38c": {
          "model_module": "@jupyter-widgets/base",
          "model_name": "LayoutModel",
          "model_module_version": "1.2.0",
          "state": {
            "_view_name": "LayoutView",
            "grid_template_rows": null,
            "right": null,
            "justify_content": null,
            "_view_module": "@jupyter-widgets/base",
            "overflow": null,
            "_model_module_version": "1.2.0",
            "_view_count": null,
            "flex_flow": null,
            "width": null,
            "min_width": null,
            "border": null,
            "align_items": null,
            "bottom": null,
            "_model_module": "@jupyter-widgets/base",
            "top": null,
            "grid_column": null,
            "overflow_y": null,
            "overflow_x": null,
            "grid_auto_flow": null,
            "grid_area": null,
            "grid_template_columns": null,
            "flex": null,
            "_model_name": "LayoutModel",
            "justify_items": null,
            "grid_row": null,
            "max_height": null,
            "align_content": null,
            "visibility": null,
            "align_self": null,
            "height": null,
            "min_height": null,
            "padding": null,
            "grid_auto_rows": null,
            "grid_gap": null,
            "max_width": null,
            "order": null,
            "_view_module_version": "1.2.0",
            "grid_template_areas": null,
            "object_position": null,
            "object_fit": null,
            "grid_auto_columns": null,
            "margin": null,
            "display": null,
            "left": null
          }
        },
        "408d88e880b947ce8e44b552c150aa17": {
          "model_module": "@jupyter-widgets/controls",
          "model_name": "HTMLModel",
          "model_module_version": "1.5.0",
          "state": {
            "_view_name": "HTMLView",
            "style": "IPY_MODEL_cc015aee09fd4de4a036b4811e0b8547",
            "_dom_classes": [],
            "description": "",
            "_model_name": "HTMLModel",
            "placeholder": "​",
            "_view_module": "@jupyter-widgets/controls",
            "_model_module_version": "1.5.0",
            "value": "100%",
            "_view_count": null,
            "_view_module_version": "1.5.0",
            "description_tooltip": null,
            "_model_module": "@jupyter-widgets/controls",
            "layout": "IPY_MODEL_890cd9fa49944cd78b7903e967c0d4a0"
          }
        },
        "6b09ebd0ccee4e7c88f052bbed15b645": {
          "model_module": "@jupyter-widgets/controls",
          "model_name": "FloatProgressModel",
          "model_module_version": "1.5.0",
          "state": {
            "_view_name": "ProgressView",
            "style": "IPY_MODEL_ebe3341abb8247dbb228a5945634e990",
            "_dom_classes": [],
            "description": "",
            "_model_name": "FloatProgressModel",
            "bar_style": "success",
            "max": 2,
            "_view_module": "@jupyter-widgets/controls",
            "_model_module_version": "1.5.0",
            "value": 2,
            "_view_count": null,
            "_view_module_version": "1.5.0",
            "orientation": "horizontal",
            "min": 0,
            "description_tooltip": null,
            "_model_module": "@jupyter-widgets/controls",
            "layout": "IPY_MODEL_17185198027d405f9af8a24cb38f64ef"
          }
        },
        "3da871f3dfe04d3f8b19e4d7349f557b": {
          "model_module": "@jupyter-widgets/controls",
          "model_name": "HTMLModel",
          "model_module_version": "1.5.0",
          "state": {
            "_view_name": "HTMLView",
            "style": "IPY_MODEL_6ce64a3dacaa4792bc68ef8b1e1b6d53",
            "_dom_classes": [],
            "description": "",
            "_model_name": "HTMLModel",
            "placeholder": "​",
            "_view_module": "@jupyter-widgets/controls",
            "_model_module_version": "1.5.0",
            "value": " 2/2 [00:00&lt;00:00, 17.94it/s]",
            "_view_count": null,
            "_view_module_version": "1.5.0",
            "description_tooltip": null,
            "_model_module": "@jupyter-widgets/controls",
            "layout": "IPY_MODEL_74cbefce8da548778220aed0ece4d5ef"
          }
        },
        "cc015aee09fd4de4a036b4811e0b8547": {
          "model_module": "@jupyter-widgets/controls",
          "model_name": "DescriptionStyleModel",
          "model_module_version": "1.5.0",
          "state": {
            "_view_name": "StyleView",
            "_model_name": "DescriptionStyleModel",
            "description_width": "",
            "_view_module": "@jupyter-widgets/base",
            "_model_module_version": "1.5.0",
            "_view_count": null,
            "_view_module_version": "1.2.0",
            "_model_module": "@jupyter-widgets/controls"
          }
        },
        "890cd9fa49944cd78b7903e967c0d4a0": {
          "model_module": "@jupyter-widgets/base",
          "model_name": "LayoutModel",
          "model_module_version": "1.2.0",
          "state": {
            "_view_name": "LayoutView",
            "grid_template_rows": null,
            "right": null,
            "justify_content": null,
            "_view_module": "@jupyter-widgets/base",
            "overflow": null,
            "_model_module_version": "1.2.0",
            "_view_count": null,
            "flex_flow": null,
            "width": null,
            "min_width": null,
            "border": null,
            "align_items": null,
            "bottom": null,
            "_model_module": "@jupyter-widgets/base",
            "top": null,
            "grid_column": null,
            "overflow_y": null,
            "overflow_x": null,
            "grid_auto_flow": null,
            "grid_area": null,
            "grid_template_columns": null,
            "flex": null,
            "_model_name": "LayoutModel",
            "justify_items": null,
            "grid_row": null,
            "max_height": null,
            "align_content": null,
            "visibility": null,
            "align_self": null,
            "height": null,
            "min_height": null,
            "padding": null,
            "grid_auto_rows": null,
            "grid_gap": null,
            "max_width": null,
            "order": null,
            "_view_module_version": "1.2.0",
            "grid_template_areas": null,
            "object_position": null,
            "object_fit": null,
            "grid_auto_columns": null,
            "margin": null,
            "display": null,
            "left": null
          }
        },
        "ebe3341abb8247dbb228a5945634e990": {
          "model_module": "@jupyter-widgets/controls",
          "model_name": "ProgressStyleModel",
          "model_module_version": "1.5.0",
          "state": {
            "_view_name": "StyleView",
            "_model_name": "ProgressStyleModel",
            "description_width": "",
            "_view_module": "@jupyter-widgets/base",
            "_model_module_version": "1.5.0",
            "_view_count": null,
            "_view_module_version": "1.2.0",
            "bar_color": null,
            "_model_module": "@jupyter-widgets/controls"
          }
        },
        "17185198027d405f9af8a24cb38f64ef": {
          "model_module": "@jupyter-widgets/base",
          "model_name": "LayoutModel",
          "model_module_version": "1.2.0",
          "state": {
            "_view_name": "LayoutView",
            "grid_template_rows": null,
            "right": null,
            "justify_content": null,
            "_view_module": "@jupyter-widgets/base",
            "overflow": null,
            "_model_module_version": "1.2.0",
            "_view_count": null,
            "flex_flow": null,
            "width": null,
            "min_width": null,
            "border": null,
            "align_items": null,
            "bottom": null,
            "_model_module": "@jupyter-widgets/base",
            "top": null,
            "grid_column": null,
            "overflow_y": null,
            "overflow_x": null,
            "grid_auto_flow": null,
            "grid_area": null,
            "grid_template_columns": null,
            "flex": null,
            "_model_name": "LayoutModel",
            "justify_items": null,
            "grid_row": null,
            "max_height": null,
            "align_content": null,
            "visibility": null,
            "align_self": null,
            "height": null,
            "min_height": null,
            "padding": null,
            "grid_auto_rows": null,
            "grid_gap": null,
            "max_width": null,
            "order": null,
            "_view_module_version": "1.2.0",
            "grid_template_areas": null,
            "object_position": null,
            "object_fit": null,
            "grid_auto_columns": null,
            "margin": null,
            "display": null,
            "left": null
          }
        },
        "6ce64a3dacaa4792bc68ef8b1e1b6d53": {
          "model_module": "@jupyter-widgets/controls",
          "model_name": "DescriptionStyleModel",
          "model_module_version": "1.5.0",
          "state": {
            "_view_name": "StyleView",
            "_model_name": "DescriptionStyleModel",
            "description_width": "",
            "_view_module": "@jupyter-widgets/base",
            "_model_module_version": "1.5.0",
            "_view_count": null,
            "_view_module_version": "1.2.0",
            "_model_module": "@jupyter-widgets/controls"
          }
        },
        "74cbefce8da548778220aed0ece4d5ef": {
          "model_module": "@jupyter-widgets/base",
          "model_name": "LayoutModel",
          "model_module_version": "1.2.0",
          "state": {
            "_view_name": "LayoutView",
            "grid_template_rows": null,
            "right": null,
            "justify_content": null,
            "_view_module": "@jupyter-widgets/base",
            "overflow": null,
            "_model_module_version": "1.2.0",
            "_view_count": null,
            "flex_flow": null,
            "width": null,
            "min_width": null,
            "border": null,
            "align_items": null,
            "bottom": null,
            "_model_module": "@jupyter-widgets/base",
            "top": null,
            "grid_column": null,
            "overflow_y": null,
            "overflow_x": null,
            "grid_auto_flow": null,
            "grid_area": null,
            "grid_template_columns": null,
            "flex": null,
            "_model_name": "LayoutModel",
            "justify_items": null,
            "grid_row": null,
            "max_height": null,
            "align_content": null,
            "visibility": null,
            "align_self": null,
            "height": null,
            "min_height": null,
            "padding": null,
            "grid_auto_rows": null,
            "grid_gap": null,
            "max_width": null,
            "order": null,
            "_view_module_version": "1.2.0",
            "grid_template_areas": null,
            "object_position": null,
            "object_fit": null,
            "grid_auto_columns": null,
            "margin": null,
            "display": null,
            "left": null
          }
        },
        "64edec4b460e43b59222f06d18195aa0": {
          "model_module": "@jupyter-widgets/controls",
          "model_name": "HBoxModel",
          "model_module_version": "1.5.0",
          "state": {
            "_view_name": "HBoxView",
            "_dom_classes": [],
            "_model_name": "HBoxModel",
            "_view_module": "@jupyter-widgets/controls",
            "_model_module_version": "1.5.0",
            "_view_count": null,
            "_view_module_version": "1.5.0",
            "box_style": "",
            "layout": "IPY_MODEL_c62a83acd1624b8f8f74f48ad6cdc018",
            "_model_module": "@jupyter-widgets/controls",
            "children": [
              "IPY_MODEL_970fcad0c7194a278494d093859096ca",
              "IPY_MODEL_42c1665f1413447fb2956d20977a1e15",
              "IPY_MODEL_d3b1b5ad911d4234838f1d53bff01783"
            ]
          }
        },
        "c62a83acd1624b8f8f74f48ad6cdc018": {
          "model_module": "@jupyter-widgets/base",
          "model_name": "LayoutModel",
          "model_module_version": "1.2.0",
          "state": {
            "_view_name": "LayoutView",
            "grid_template_rows": null,
            "right": null,
            "justify_content": null,
            "_view_module": "@jupyter-widgets/base",
            "overflow": null,
            "_model_module_version": "1.2.0",
            "_view_count": null,
            "flex_flow": null,
            "width": null,
            "min_width": null,
            "border": null,
            "align_items": null,
            "bottom": null,
            "_model_module": "@jupyter-widgets/base",
            "top": null,
            "grid_column": null,
            "overflow_y": null,
            "overflow_x": null,
            "grid_auto_flow": null,
            "grid_area": null,
            "grid_template_columns": null,
            "flex": null,
            "_model_name": "LayoutModel",
            "justify_items": null,
            "grid_row": null,
            "max_height": null,
            "align_content": null,
            "visibility": null,
            "align_self": null,
            "height": null,
            "min_height": null,
            "padding": null,
            "grid_auto_rows": null,
            "grid_gap": null,
            "max_width": null,
            "order": null,
            "_view_module_version": "1.2.0",
            "grid_template_areas": null,
            "object_position": null,
            "object_fit": null,
            "grid_auto_columns": null,
            "margin": null,
            "display": null,
            "left": null
          }
        },
        "970fcad0c7194a278494d093859096ca": {
          "model_module": "@jupyter-widgets/controls",
          "model_name": "HTMLModel",
          "model_module_version": "1.5.0",
          "state": {
            "_view_name": "HTMLView",
            "style": "IPY_MODEL_dad2475c64e74a909553a0f31761c655",
            "_dom_classes": [],
            "description": "",
            "_model_name": "HTMLModel",
            "placeholder": "​",
            "_view_module": "@jupyter-widgets/controls",
            "_model_module_version": "1.5.0",
            "value": "100%",
            "_view_count": null,
            "_view_module_version": "1.5.0",
            "description_tooltip": null,
            "_model_module": "@jupyter-widgets/controls",
            "layout": "IPY_MODEL_fcef1ef9d6c2426192d953dea741c60e"
          }
        },
        "42c1665f1413447fb2956d20977a1e15": {
          "model_module": "@jupyter-widgets/controls",
          "model_name": "FloatProgressModel",
          "model_module_version": "1.5.0",
          "state": {
            "_view_name": "ProgressView",
            "style": "IPY_MODEL_d5dc5dbbde8944c0b6539d5726e72623",
            "_dom_classes": [],
            "description": "",
            "_model_name": "FloatProgressModel",
            "bar_style": "success",
            "max": 2,
            "_view_module": "@jupyter-widgets/controls",
            "_model_module_version": "1.5.0",
            "value": 2,
            "_view_count": null,
            "_view_module_version": "1.5.0",
            "orientation": "horizontal",
            "min": 0,
            "description_tooltip": null,
            "_model_module": "@jupyter-widgets/controls",
            "layout": "IPY_MODEL_0bd7d0c364c3476785abd28f0886c926"
          }
        },
        "d3b1b5ad911d4234838f1d53bff01783": {
          "model_module": "@jupyter-widgets/controls",
          "model_name": "HTMLModel",
          "model_module_version": "1.5.0",
          "state": {
            "_view_name": "HTMLView",
            "style": "IPY_MODEL_1898c193e48b4f30955b1e2b49a4b8bf",
            "_dom_classes": [],
            "description": "",
            "_model_name": "HTMLModel",
            "placeholder": "​",
            "_view_module": "@jupyter-widgets/controls",
            "_model_module_version": "1.5.0",
            "value": " 2/2 [00:00&lt;00:00, 14.91it/s]",
            "_view_count": null,
            "_view_module_version": "1.5.0",
            "description_tooltip": null,
            "_model_module": "@jupyter-widgets/controls",
            "layout": "IPY_MODEL_5677f49300b344cda91dd18a9cda255a"
          }
        },
        "dad2475c64e74a909553a0f31761c655": {
          "model_module": "@jupyter-widgets/controls",
          "model_name": "DescriptionStyleModel",
          "model_module_version": "1.5.0",
          "state": {
            "_view_name": "StyleView",
            "_model_name": "DescriptionStyleModel",
            "description_width": "",
            "_view_module": "@jupyter-widgets/base",
            "_model_module_version": "1.5.0",
            "_view_count": null,
            "_view_module_version": "1.2.0",
            "_model_module": "@jupyter-widgets/controls"
          }
        },
        "fcef1ef9d6c2426192d953dea741c60e": {
          "model_module": "@jupyter-widgets/base",
          "model_name": "LayoutModel",
          "model_module_version": "1.2.0",
          "state": {
            "_view_name": "LayoutView",
            "grid_template_rows": null,
            "right": null,
            "justify_content": null,
            "_view_module": "@jupyter-widgets/base",
            "overflow": null,
            "_model_module_version": "1.2.0",
            "_view_count": null,
            "flex_flow": null,
            "width": null,
            "min_width": null,
            "border": null,
            "align_items": null,
            "bottom": null,
            "_model_module": "@jupyter-widgets/base",
            "top": null,
            "grid_column": null,
            "overflow_y": null,
            "overflow_x": null,
            "grid_auto_flow": null,
            "grid_area": null,
            "grid_template_columns": null,
            "flex": null,
            "_model_name": "LayoutModel",
            "justify_items": null,
            "grid_row": null,
            "max_height": null,
            "align_content": null,
            "visibility": null,
            "align_self": null,
            "height": null,
            "min_height": null,
            "padding": null,
            "grid_auto_rows": null,
            "grid_gap": null,
            "max_width": null,
            "order": null,
            "_view_module_version": "1.2.0",
            "grid_template_areas": null,
            "object_position": null,
            "object_fit": null,
            "grid_auto_columns": null,
            "margin": null,
            "display": null,
            "left": null
          }
        },
        "d5dc5dbbde8944c0b6539d5726e72623": {
          "model_module": "@jupyter-widgets/controls",
          "model_name": "ProgressStyleModel",
          "model_module_version": "1.5.0",
          "state": {
            "_view_name": "StyleView",
            "_model_name": "ProgressStyleModel",
            "description_width": "",
            "_view_module": "@jupyter-widgets/base",
            "_model_module_version": "1.5.0",
            "_view_count": null,
            "_view_module_version": "1.2.0",
            "bar_color": null,
            "_model_module": "@jupyter-widgets/controls"
          }
        },
        "0bd7d0c364c3476785abd28f0886c926": {
          "model_module": "@jupyter-widgets/base",
          "model_name": "LayoutModel",
          "model_module_version": "1.2.0",
          "state": {
            "_view_name": "LayoutView",
            "grid_template_rows": null,
            "right": null,
            "justify_content": null,
            "_view_module": "@jupyter-widgets/base",
            "overflow": null,
            "_model_module_version": "1.2.0",
            "_view_count": null,
            "flex_flow": null,
            "width": null,
            "min_width": null,
            "border": null,
            "align_items": null,
            "bottom": null,
            "_model_module": "@jupyter-widgets/base",
            "top": null,
            "grid_column": null,
            "overflow_y": null,
            "overflow_x": null,
            "grid_auto_flow": null,
            "grid_area": null,
            "grid_template_columns": null,
            "flex": null,
            "_model_name": "LayoutModel",
            "justify_items": null,
            "grid_row": null,
            "max_height": null,
            "align_content": null,
            "visibility": null,
            "align_self": null,
            "height": null,
            "min_height": null,
            "padding": null,
            "grid_auto_rows": null,
            "grid_gap": null,
            "max_width": null,
            "order": null,
            "_view_module_version": "1.2.0",
            "grid_template_areas": null,
            "object_position": null,
            "object_fit": null,
            "grid_auto_columns": null,
            "margin": null,
            "display": null,
            "left": null
          }
        },
        "1898c193e48b4f30955b1e2b49a4b8bf": {
          "model_module": "@jupyter-widgets/controls",
          "model_name": "DescriptionStyleModel",
          "model_module_version": "1.5.0",
          "state": {
            "_view_name": "StyleView",
            "_model_name": "DescriptionStyleModel",
            "description_width": "",
            "_view_module": "@jupyter-widgets/base",
            "_model_module_version": "1.5.0",
            "_view_count": null,
            "_view_module_version": "1.2.0",
            "_model_module": "@jupyter-widgets/controls"
          }
        },
        "5677f49300b344cda91dd18a9cda255a": {
          "model_module": "@jupyter-widgets/base",
          "model_name": "LayoutModel",
          "model_module_version": "1.2.0",
          "state": {
            "_view_name": "LayoutView",
            "grid_template_rows": null,
            "right": null,
            "justify_content": null,
            "_view_module": "@jupyter-widgets/base",
            "overflow": null,
            "_model_module_version": "1.2.0",
            "_view_count": null,
            "flex_flow": null,
            "width": null,
            "min_width": null,
            "border": null,
            "align_items": null,
            "bottom": null,
            "_model_module": "@jupyter-widgets/base",
            "top": null,
            "grid_column": null,
            "overflow_y": null,
            "overflow_x": null,
            "grid_auto_flow": null,
            "grid_area": null,
            "grid_template_columns": null,
            "flex": null,
            "_model_name": "LayoutModel",
            "justify_items": null,
            "grid_row": null,
            "max_height": null,
            "align_content": null,
            "visibility": null,
            "align_self": null,
            "height": null,
            "min_height": null,
            "padding": null,
            "grid_auto_rows": null,
            "grid_gap": null,
            "max_width": null,
            "order": null,
            "_view_module_version": "1.2.0",
            "grid_template_areas": null,
            "object_position": null,
            "object_fit": null,
            "grid_auto_columns": null,
            "margin": null,
            "display": null,
            "left": null
          }
        },
        "c388827d1b4d448d8860f3ff1d33ca53": {
          "model_module": "@jupyter-widgets/controls",
          "model_name": "HBoxModel",
          "model_module_version": "1.5.0",
          "state": {
            "_view_name": "HBoxView",
            "_dom_classes": [],
            "_model_name": "HBoxModel",
            "_view_module": "@jupyter-widgets/controls",
            "_model_module_version": "1.5.0",
            "_view_count": null,
            "_view_module_version": "1.5.0",
            "box_style": "",
            "layout": "IPY_MODEL_9364d958b6af4a26a1a10326311602c5",
            "_model_module": "@jupyter-widgets/controls",
            "children": [
              "IPY_MODEL_fae3680414774cb5bcfd28d6c6d0ee4d",
              "IPY_MODEL_fa0584661d37404282218694b20ca2d8",
              "IPY_MODEL_cccb765cabe54920ab2221d410b0ff98"
            ]
          }
        },
        "9364d958b6af4a26a1a10326311602c5": {
          "model_module": "@jupyter-widgets/base",
          "model_name": "LayoutModel",
          "model_module_version": "1.2.0",
          "state": {
            "_view_name": "LayoutView",
            "grid_template_rows": null,
            "right": null,
            "justify_content": null,
            "_view_module": "@jupyter-widgets/base",
            "overflow": null,
            "_model_module_version": "1.2.0",
            "_view_count": null,
            "flex_flow": null,
            "width": null,
            "min_width": null,
            "border": null,
            "align_items": null,
            "bottom": null,
            "_model_module": "@jupyter-widgets/base",
            "top": null,
            "grid_column": null,
            "overflow_y": null,
            "overflow_x": null,
            "grid_auto_flow": null,
            "grid_area": null,
            "grid_template_columns": null,
            "flex": null,
            "_model_name": "LayoutModel",
            "justify_items": null,
            "grid_row": null,
            "max_height": null,
            "align_content": null,
            "visibility": null,
            "align_self": null,
            "height": null,
            "min_height": null,
            "padding": null,
            "grid_auto_rows": null,
            "grid_gap": null,
            "max_width": null,
            "order": null,
            "_view_module_version": "1.2.0",
            "grid_template_areas": null,
            "object_position": null,
            "object_fit": null,
            "grid_auto_columns": null,
            "margin": null,
            "display": null,
            "left": null
          }
        },
        "fae3680414774cb5bcfd28d6c6d0ee4d": {
          "model_module": "@jupyter-widgets/controls",
          "model_name": "HTMLModel",
          "model_module_version": "1.5.0",
          "state": {
            "_view_name": "HTMLView",
            "style": "IPY_MODEL_80fa7452006d497da5b451c43f7b9152",
            "_dom_classes": [],
            "description": "",
            "_model_name": "HTMLModel",
            "placeholder": "​",
            "_view_module": "@jupyter-widgets/controls",
            "_model_module_version": "1.5.0",
            "value": "100%",
            "_view_count": null,
            "_view_module_version": "1.5.0",
            "description_tooltip": null,
            "_model_module": "@jupyter-widgets/controls",
            "layout": "IPY_MODEL_c8009d3c79ad489e9092c2dd675584fc"
          }
        },
        "fa0584661d37404282218694b20ca2d8": {
          "model_module": "@jupyter-widgets/controls",
          "model_name": "FloatProgressModel",
          "model_module_version": "1.5.0",
          "state": {
            "_view_name": "ProgressView",
            "style": "IPY_MODEL_4d5b7252601b42e48cee60e1e9817eec",
            "_dom_classes": [],
            "description": "",
            "_model_name": "FloatProgressModel",
            "bar_style": "success",
            "max": 2,
            "_view_module": "@jupyter-widgets/controls",
            "_model_module_version": "1.5.0",
            "value": 2,
            "_view_count": null,
            "_view_module_version": "1.5.0",
            "orientation": "horizontal",
            "min": 0,
            "description_tooltip": null,
            "_model_module": "@jupyter-widgets/controls",
            "layout": "IPY_MODEL_204a4d31fcab47b4bd0797dd6b1dfe43"
          }
        },
        "cccb765cabe54920ab2221d410b0ff98": {
          "model_module": "@jupyter-widgets/controls",
          "model_name": "HTMLModel",
          "model_module_version": "1.5.0",
          "state": {
            "_view_name": "HTMLView",
            "style": "IPY_MODEL_45f7b11bad9d47d2abeb759ea6aad853",
            "_dom_classes": [],
            "description": "",
            "_model_name": "HTMLModel",
            "placeholder": "​",
            "_view_module": "@jupyter-widgets/controls",
            "_model_module_version": "1.5.0",
            "value": " 2/2 [00:00&lt;00:00, 32.29it/s]",
            "_view_count": null,
            "_view_module_version": "1.5.0",
            "description_tooltip": null,
            "_model_module": "@jupyter-widgets/controls",
            "layout": "IPY_MODEL_0f9c14cb9b194c0daa360860b1e89954"
          }
        },
        "80fa7452006d497da5b451c43f7b9152": {
          "model_module": "@jupyter-widgets/controls",
          "model_name": "DescriptionStyleModel",
          "model_module_version": "1.5.0",
          "state": {
            "_view_name": "StyleView",
            "_model_name": "DescriptionStyleModel",
            "description_width": "",
            "_view_module": "@jupyter-widgets/base",
            "_model_module_version": "1.5.0",
            "_view_count": null,
            "_view_module_version": "1.2.0",
            "_model_module": "@jupyter-widgets/controls"
          }
        },
        "c8009d3c79ad489e9092c2dd675584fc": {
          "model_module": "@jupyter-widgets/base",
          "model_name": "LayoutModel",
          "model_module_version": "1.2.0",
          "state": {
            "_view_name": "LayoutView",
            "grid_template_rows": null,
            "right": null,
            "justify_content": null,
            "_view_module": "@jupyter-widgets/base",
            "overflow": null,
            "_model_module_version": "1.2.0",
            "_view_count": null,
            "flex_flow": null,
            "width": null,
            "min_width": null,
            "border": null,
            "align_items": null,
            "bottom": null,
            "_model_module": "@jupyter-widgets/base",
            "top": null,
            "grid_column": null,
            "overflow_y": null,
            "overflow_x": null,
            "grid_auto_flow": null,
            "grid_area": null,
            "grid_template_columns": null,
            "flex": null,
            "_model_name": "LayoutModel",
            "justify_items": null,
            "grid_row": null,
            "max_height": null,
            "align_content": null,
            "visibility": null,
            "align_self": null,
            "height": null,
            "min_height": null,
            "padding": null,
            "grid_auto_rows": null,
            "grid_gap": null,
            "max_width": null,
            "order": null,
            "_view_module_version": "1.2.0",
            "grid_template_areas": null,
            "object_position": null,
            "object_fit": null,
            "grid_auto_columns": null,
            "margin": null,
            "display": null,
            "left": null
          }
        },
        "4d5b7252601b42e48cee60e1e9817eec": {
          "model_module": "@jupyter-widgets/controls",
          "model_name": "ProgressStyleModel",
          "model_module_version": "1.5.0",
          "state": {
            "_view_name": "StyleView",
            "_model_name": "ProgressStyleModel",
            "description_width": "",
            "_view_module": "@jupyter-widgets/base",
            "_model_module_version": "1.5.0",
            "_view_count": null,
            "_view_module_version": "1.2.0",
            "bar_color": null,
            "_model_module": "@jupyter-widgets/controls"
          }
        },
        "204a4d31fcab47b4bd0797dd6b1dfe43": {
          "model_module": "@jupyter-widgets/base",
          "model_name": "LayoutModel",
          "model_module_version": "1.2.0",
          "state": {
            "_view_name": "LayoutView",
            "grid_template_rows": null,
            "right": null,
            "justify_content": null,
            "_view_module": "@jupyter-widgets/base",
            "overflow": null,
            "_model_module_version": "1.2.0",
            "_view_count": null,
            "flex_flow": null,
            "width": null,
            "min_width": null,
            "border": null,
            "align_items": null,
            "bottom": null,
            "_model_module": "@jupyter-widgets/base",
            "top": null,
            "grid_column": null,
            "overflow_y": null,
            "overflow_x": null,
            "grid_auto_flow": null,
            "grid_area": null,
            "grid_template_columns": null,
            "flex": null,
            "_model_name": "LayoutModel",
            "justify_items": null,
            "grid_row": null,
            "max_height": null,
            "align_content": null,
            "visibility": null,
            "align_self": null,
            "height": null,
            "min_height": null,
            "padding": null,
            "grid_auto_rows": null,
            "grid_gap": null,
            "max_width": null,
            "order": null,
            "_view_module_version": "1.2.0",
            "grid_template_areas": null,
            "object_position": null,
            "object_fit": null,
            "grid_auto_columns": null,
            "margin": null,
            "display": null,
            "left": null
          }
        },
        "45f7b11bad9d47d2abeb759ea6aad853": {
          "model_module": "@jupyter-widgets/controls",
          "model_name": "DescriptionStyleModel",
          "model_module_version": "1.5.0",
          "state": {
            "_view_name": "StyleView",
            "_model_name": "DescriptionStyleModel",
            "description_width": "",
            "_view_module": "@jupyter-widgets/base",
            "_model_module_version": "1.5.0",
            "_view_count": null,
            "_view_module_version": "1.2.0",
            "_model_module": "@jupyter-widgets/controls"
          }
        },
        "0f9c14cb9b194c0daa360860b1e89954": {
          "model_module": "@jupyter-widgets/base",
          "model_name": "LayoutModel",
          "model_module_version": "1.2.0",
          "state": {
            "_view_name": "LayoutView",
            "grid_template_rows": null,
            "right": null,
            "justify_content": null,
            "_view_module": "@jupyter-widgets/base",
            "overflow": null,
            "_model_module_version": "1.2.0",
            "_view_count": null,
            "flex_flow": null,
            "width": null,
            "min_width": null,
            "border": null,
            "align_items": null,
            "bottom": null,
            "_model_module": "@jupyter-widgets/base",
            "top": null,
            "grid_column": null,
            "overflow_y": null,
            "overflow_x": null,
            "grid_auto_flow": null,
            "grid_area": null,
            "grid_template_columns": null,
            "flex": null,
            "_model_name": "LayoutModel",
            "justify_items": null,
            "grid_row": null,
            "max_height": null,
            "align_content": null,
            "visibility": null,
            "align_self": null,
            "height": null,
            "min_height": null,
            "padding": null,
            "grid_auto_rows": null,
            "grid_gap": null,
            "max_width": null,
            "order": null,
            "_view_module_version": "1.2.0",
            "grid_template_areas": null,
            "object_position": null,
            "object_fit": null,
            "grid_auto_columns": null,
            "margin": null,
            "display": null,
            "left": null
          }
        }
      }
    }
  },
  "cells": [
    {
      "cell_type": "code",
      "metadata": {
        "colab": {
          "base_uri": "https://localhost:8080/"
        },
        "id": "pU4vVkijSx98",
        "outputId": "d83bc70c-9841-4228-aecd-3071323c3219"
      },
      "source": [
        "!pip install spacy --user\n",
        "!pip3 install -U spacy\n",
        "!python3 -m spacy download it_core_news_sm\n",
        "!pip3 install spacy\n",
        "!python -m spacy download it_core_news_sm"
      ],
      "execution_count": 38,
      "outputs": [
        {
          "output_type": "stream",
          "name": "stdout",
          "text": [
            "Requirement already satisfied: spacy in /usr/local/lib/python3.7/dist-packages (3.2.0)\n",
            "Requirement already satisfied: catalogue<2.1.0,>=2.0.6 in /usr/local/lib/python3.7/dist-packages (from spacy) (2.0.6)\n",
            "Requirement already satisfied: preshed<3.1.0,>=3.0.2 in /usr/local/lib/python3.7/dist-packages (from spacy) (3.0.5)\n",
            "Requirement already satisfied: langcodes<4.0.0,>=3.2.0 in /usr/local/lib/python3.7/dist-packages (from spacy) (3.2.1)\n",
            "Requirement already satisfied: cymem<2.1.0,>=2.0.2 in /usr/local/lib/python3.7/dist-packages (from spacy) (2.0.5)\n",
            "Requirement already satisfied: tqdm<5.0.0,>=4.38.0 in /usr/local/lib/python3.7/dist-packages (from spacy) (4.62.3)\n",
            "Requirement already satisfied: blis<0.8.0,>=0.4.0 in /usr/local/lib/python3.7/dist-packages (from spacy) (0.4.1)\n",
            "Requirement already satisfied: typing-extensions<4.0.0.0,>=3.7.4 in /usr/local/lib/python3.7/dist-packages (from spacy) (3.7.4.3)\n",
            "Requirement already satisfied: murmurhash<1.1.0,>=0.28.0 in /usr/local/lib/python3.7/dist-packages (from spacy) (1.0.5)\n",
            "Requirement already satisfied: spacy-legacy<3.1.0,>=3.0.8 in /usr/local/lib/python3.7/dist-packages (from spacy) (3.0.8)\n",
            "Requirement already satisfied: jinja2 in /usr/local/lib/python3.7/dist-packages (from spacy) (2.11.3)\n",
            "Requirement already satisfied: setuptools in /usr/local/lib/python3.7/dist-packages (from spacy) (57.4.0)\n",
            "Requirement already satisfied: srsly<3.0.0,>=2.4.1 in /usr/local/lib/python3.7/dist-packages (from spacy) (2.4.2)\n",
            "Requirement already satisfied: numpy>=1.15.0 in /usr/local/lib/python3.7/dist-packages (from spacy) (1.19.5)\n",
            "Requirement already satisfied: packaging>=20.0 in /usr/local/lib/python3.7/dist-packages (from spacy) (21.0)\n",
            "Requirement already satisfied: pydantic!=1.8,!=1.8.1,<1.9.0,>=1.7.4 in /usr/local/lib/python3.7/dist-packages (from spacy) (1.8.2)\n",
            "Requirement already satisfied: spacy-loggers<2.0.0,>=1.0.0 in /usr/local/lib/python3.7/dist-packages (from spacy) (1.0.1)\n",
            "Requirement already satisfied: thinc<8.1.0,>=8.0.12 in /usr/local/lib/python3.7/dist-packages (from spacy) (8.0.13)\n",
            "Requirement already satisfied: typer<0.5.0,>=0.3.0 in /usr/local/lib/python3.7/dist-packages (from spacy) (0.4.0)\n",
            "Requirement already satisfied: requests<3.0.0,>=2.13.0 in /usr/local/lib/python3.7/dist-packages (from spacy) (2.23.0)\n",
            "Requirement already satisfied: pathy>=0.3.5 in /usr/local/lib/python3.7/dist-packages (from spacy) (0.6.1)\n",
            "Requirement already satisfied: wasabi<1.1.0,>=0.8.1 in /usr/local/lib/python3.7/dist-packages (from spacy) (0.8.2)\n",
            "Requirement already satisfied: zipp>=0.5 in /usr/local/lib/python3.7/dist-packages (from catalogue<2.1.0,>=2.0.6->spacy) (3.6.0)\n",
            "Requirement already satisfied: pyparsing>=2.0.2 in /usr/local/lib/python3.7/dist-packages (from packaging>=20.0->spacy) (2.4.7)\n",
            "Requirement already satisfied: smart-open<6.0.0,>=5.0.0 in /usr/local/lib/python3.7/dist-packages (from pathy>=0.3.5->spacy) (5.2.1)\n",
            "Requirement already satisfied: certifi>=2017.4.17 in /usr/local/lib/python3.7/dist-packages (from requests<3.0.0,>=2.13.0->spacy) (2021.5.30)\n",
            "Requirement already satisfied: chardet<4,>=3.0.2 in /usr/local/lib/python3.7/dist-packages (from requests<3.0.0,>=2.13.0->spacy) (3.0.4)\n",
            "Requirement already satisfied: idna<3,>=2.5 in /usr/local/lib/python3.7/dist-packages (from requests<3.0.0,>=2.13.0->spacy) (2.10)\n",
            "Requirement already satisfied: urllib3!=1.25.0,!=1.25.1,<1.26,>=1.21.1 in /usr/local/lib/python3.7/dist-packages (from requests<3.0.0,>=2.13.0->spacy) (1.24.3)\n",
            "Requirement already satisfied: click<9.0.0,>=7.1.1 in /usr/local/lib/python3.7/dist-packages (from typer<0.5.0,>=0.3.0->spacy) (7.1.2)\n",
            "Requirement already satisfied: MarkupSafe>=0.23 in /usr/local/lib/python3.7/dist-packages (from jinja2->spacy) (2.0.1)\n",
            "Requirement already satisfied: spacy in /usr/local/lib/python3.7/dist-packages (3.2.0)\n",
            "Requirement already satisfied: pathy>=0.3.5 in /usr/local/lib/python3.7/dist-packages (from spacy) (0.6.1)\n",
            "Requirement already satisfied: packaging>=20.0 in /usr/local/lib/python3.7/dist-packages (from spacy) (21.0)\n",
            "Requirement already satisfied: blis<0.8.0,>=0.4.0 in /usr/local/lib/python3.7/dist-packages (from spacy) (0.4.1)\n",
            "Requirement already satisfied: jinja2 in /usr/local/lib/python3.7/dist-packages (from spacy) (2.11.3)\n",
            "Requirement already satisfied: catalogue<2.1.0,>=2.0.6 in /usr/local/lib/python3.7/dist-packages (from spacy) (2.0.6)\n",
            "Requirement already satisfied: spacy-loggers<2.0.0,>=1.0.0 in /usr/local/lib/python3.7/dist-packages (from spacy) (1.0.1)\n",
            "Requirement already satisfied: pydantic!=1.8,!=1.8.1,<1.9.0,>=1.7.4 in /usr/local/lib/python3.7/dist-packages (from spacy) (1.8.2)\n",
            "Requirement already satisfied: murmurhash<1.1.0,>=0.28.0 in /usr/local/lib/python3.7/dist-packages (from spacy) (1.0.5)\n",
            "Requirement already satisfied: typer<0.5.0,>=0.3.0 in /usr/local/lib/python3.7/dist-packages (from spacy) (0.4.0)\n",
            "Requirement already satisfied: srsly<3.0.0,>=2.4.1 in /usr/local/lib/python3.7/dist-packages (from spacy) (2.4.2)\n",
            "Requirement already satisfied: requests<3.0.0,>=2.13.0 in /usr/local/lib/python3.7/dist-packages (from spacy) (2.23.0)\n",
            "Requirement already satisfied: preshed<3.1.0,>=3.0.2 in /usr/local/lib/python3.7/dist-packages (from spacy) (3.0.5)\n",
            "Requirement already satisfied: tqdm<5.0.0,>=4.38.0 in /usr/local/lib/python3.7/dist-packages (from spacy) (4.62.3)\n",
            "Requirement already satisfied: thinc<8.1.0,>=8.0.12 in /usr/local/lib/python3.7/dist-packages (from spacy) (8.0.13)\n",
            "Requirement already satisfied: cymem<2.1.0,>=2.0.2 in /usr/local/lib/python3.7/dist-packages (from spacy) (2.0.5)\n",
            "Requirement already satisfied: wasabi<1.1.0,>=0.8.1 in /usr/local/lib/python3.7/dist-packages (from spacy) (0.8.2)\n",
            "Requirement already satisfied: langcodes<4.0.0,>=3.2.0 in /usr/local/lib/python3.7/dist-packages (from spacy) (3.2.1)\n",
            "Requirement already satisfied: setuptools in /usr/local/lib/python3.7/dist-packages (from spacy) (57.4.0)\n",
            "Requirement already satisfied: typing-extensions<4.0.0.0,>=3.7.4 in /usr/local/lib/python3.7/dist-packages (from spacy) (3.7.4.3)\n",
            "Requirement already satisfied: numpy>=1.15.0 in /usr/local/lib/python3.7/dist-packages (from spacy) (1.19.5)\n",
            "Requirement already satisfied: spacy-legacy<3.1.0,>=3.0.8 in /usr/local/lib/python3.7/dist-packages (from spacy) (3.0.8)\n",
            "Requirement already satisfied: zipp>=0.5 in /usr/local/lib/python3.7/dist-packages (from catalogue<2.1.0,>=2.0.6->spacy) (3.6.0)\n",
            "Requirement already satisfied: pyparsing>=2.0.2 in /usr/local/lib/python3.7/dist-packages (from packaging>=20.0->spacy) (2.4.7)\n",
            "Requirement already satisfied: smart-open<6.0.0,>=5.0.0 in /usr/local/lib/python3.7/dist-packages (from pathy>=0.3.5->spacy) (5.2.1)\n",
            "Requirement already satisfied: idna<3,>=2.5 in /usr/local/lib/python3.7/dist-packages (from requests<3.0.0,>=2.13.0->spacy) (2.10)\n",
            "Requirement already satisfied: chardet<4,>=3.0.2 in /usr/local/lib/python3.7/dist-packages (from requests<3.0.0,>=2.13.0->spacy) (3.0.4)\n",
            "Requirement already satisfied: certifi>=2017.4.17 in /usr/local/lib/python3.7/dist-packages (from requests<3.0.0,>=2.13.0->spacy) (2021.5.30)\n",
            "Requirement already satisfied: urllib3!=1.25.0,!=1.25.1,<1.26,>=1.21.1 in /usr/local/lib/python3.7/dist-packages (from requests<3.0.0,>=2.13.0->spacy) (1.24.3)\n",
            "Requirement already satisfied: click<9.0.0,>=7.1.1 in /usr/local/lib/python3.7/dist-packages (from typer<0.5.0,>=0.3.0->spacy) (7.1.2)\n",
            "Requirement already satisfied: MarkupSafe>=0.23 in /usr/local/lib/python3.7/dist-packages (from jinja2->spacy) (2.0.1)\n",
            "Collecting it-core-news-sm==3.2.0\n",
            "  Using cached https://github.com/explosion/spacy-models/releases/download/it_core_news_sm-3.2.0/it_core_news_sm-3.2.0-py3-none-any.whl (21.4 MB)\n",
            "Requirement already satisfied: spacy<3.3.0,>=3.2.0 in /usr/local/lib/python3.7/dist-packages (from it-core-news-sm==3.2.0) (3.2.0)\n",
            "Requirement already satisfied: cymem<2.1.0,>=2.0.2 in /usr/local/lib/python3.7/dist-packages (from spacy<3.3.0,>=3.2.0->it-core-news-sm==3.2.0) (2.0.5)\n",
            "Requirement already satisfied: pydantic!=1.8,!=1.8.1,<1.9.0,>=1.7.4 in /usr/local/lib/python3.7/dist-packages (from spacy<3.3.0,>=3.2.0->it-core-news-sm==3.2.0) (1.8.2)\n",
            "Requirement already satisfied: preshed<3.1.0,>=3.0.2 in /usr/local/lib/python3.7/dist-packages (from spacy<3.3.0,>=3.2.0->it-core-news-sm==3.2.0) (3.0.5)\n",
            "Requirement already satisfied: wasabi<1.1.0,>=0.8.1 in /usr/local/lib/python3.7/dist-packages (from spacy<3.3.0,>=3.2.0->it-core-news-sm==3.2.0) (0.8.2)\n",
            "Requirement already satisfied: murmurhash<1.1.0,>=0.28.0 in /usr/local/lib/python3.7/dist-packages (from spacy<3.3.0,>=3.2.0->it-core-news-sm==3.2.0) (1.0.5)\n",
            "Requirement already satisfied: catalogue<2.1.0,>=2.0.6 in /usr/local/lib/python3.7/dist-packages (from spacy<3.3.0,>=3.2.0->it-core-news-sm==3.2.0) (2.0.6)\n",
            "Requirement already satisfied: blis<0.8.0,>=0.4.0 in /usr/local/lib/python3.7/dist-packages (from spacy<3.3.0,>=3.2.0->it-core-news-sm==3.2.0) (0.4.1)\n",
            "Requirement already satisfied: jinja2 in /usr/local/lib/python3.7/dist-packages (from spacy<3.3.0,>=3.2.0->it-core-news-sm==3.2.0) (2.11.3)\n",
            "Requirement already satisfied: langcodes<4.0.0,>=3.2.0 in /usr/local/lib/python3.7/dist-packages (from spacy<3.3.0,>=3.2.0->it-core-news-sm==3.2.0) (3.2.1)\n",
            "Requirement already satisfied: typer<0.5.0,>=0.3.0 in /usr/local/lib/python3.7/dist-packages (from spacy<3.3.0,>=3.2.0->it-core-news-sm==3.2.0) (0.4.0)\n",
            "Requirement already satisfied: pathy>=0.3.5 in /usr/local/lib/python3.7/dist-packages (from spacy<3.3.0,>=3.2.0->it-core-news-sm==3.2.0) (0.6.1)\n",
            "Requirement already satisfied: packaging>=20.0 in /usr/local/lib/python3.7/dist-packages (from spacy<3.3.0,>=3.2.0->it-core-news-sm==3.2.0) (21.0)\n",
            "Requirement already satisfied: typing-extensions<4.0.0.0,>=3.7.4 in /usr/local/lib/python3.7/dist-packages (from spacy<3.3.0,>=3.2.0->it-core-news-sm==3.2.0) (3.7.4.3)\n",
            "Requirement already satisfied: spacy-loggers<2.0.0,>=1.0.0 in /usr/local/lib/python3.7/dist-packages (from spacy<3.3.0,>=3.2.0->it-core-news-sm==3.2.0) (1.0.1)\n",
            "Requirement already satisfied: requests<3.0.0,>=2.13.0 in /usr/local/lib/python3.7/dist-packages (from spacy<3.3.0,>=3.2.0->it-core-news-sm==3.2.0) (2.23.0)\n",
            "Requirement already satisfied: thinc<8.1.0,>=8.0.12 in /usr/local/lib/python3.7/dist-packages (from spacy<3.3.0,>=3.2.0->it-core-news-sm==3.2.0) (8.0.13)\n",
            "Requirement already satisfied: tqdm<5.0.0,>=4.38.0 in /usr/local/lib/python3.7/dist-packages (from spacy<3.3.0,>=3.2.0->it-core-news-sm==3.2.0) (4.62.3)\n",
            "Requirement already satisfied: srsly<3.0.0,>=2.4.1 in /usr/local/lib/python3.7/dist-packages (from spacy<3.3.0,>=3.2.0->it-core-news-sm==3.2.0) (2.4.2)\n",
            "Requirement already satisfied: spacy-legacy<3.1.0,>=3.0.8 in /usr/local/lib/python3.7/dist-packages (from spacy<3.3.0,>=3.2.0->it-core-news-sm==3.2.0) (3.0.8)\n",
            "Requirement already satisfied: numpy>=1.15.0 in /usr/local/lib/python3.7/dist-packages (from spacy<3.3.0,>=3.2.0->it-core-news-sm==3.2.0) (1.19.5)\n",
            "Requirement already satisfied: setuptools in /usr/local/lib/python3.7/dist-packages (from spacy<3.3.0,>=3.2.0->it-core-news-sm==3.2.0) (57.4.0)\n",
            "Requirement already satisfied: zipp>=0.5 in /usr/local/lib/python3.7/dist-packages (from catalogue<2.1.0,>=2.0.6->spacy<3.3.0,>=3.2.0->it-core-news-sm==3.2.0) (3.6.0)\n",
            "Requirement already satisfied: pyparsing>=2.0.2 in /usr/local/lib/python3.7/dist-packages (from packaging>=20.0->spacy<3.3.0,>=3.2.0->it-core-news-sm==3.2.0) (2.4.7)\n",
            "Requirement already satisfied: smart-open<6.0.0,>=5.0.0 in /usr/local/lib/python3.7/dist-packages (from pathy>=0.3.5->spacy<3.3.0,>=3.2.0->it-core-news-sm==3.2.0) (5.2.1)\n",
            "Requirement already satisfied: chardet<4,>=3.0.2 in /usr/local/lib/python3.7/dist-packages (from requests<3.0.0,>=2.13.0->spacy<3.3.0,>=3.2.0->it-core-news-sm==3.2.0) (3.0.4)\n",
            "Requirement already satisfied: idna<3,>=2.5 in /usr/local/lib/python3.7/dist-packages (from requests<3.0.0,>=2.13.0->spacy<3.3.0,>=3.2.0->it-core-news-sm==3.2.0) (2.10)\n",
            "Requirement already satisfied: urllib3!=1.25.0,!=1.25.1,<1.26,>=1.21.1 in /usr/local/lib/python3.7/dist-packages (from requests<3.0.0,>=2.13.0->spacy<3.3.0,>=3.2.0->it-core-news-sm==3.2.0) (1.24.3)\n",
            "Requirement already satisfied: certifi>=2017.4.17 in /usr/local/lib/python3.7/dist-packages (from requests<3.0.0,>=2.13.0->spacy<3.3.0,>=3.2.0->it-core-news-sm==3.2.0) (2021.5.30)\n",
            "Requirement already satisfied: click<9.0.0,>=7.1.1 in /usr/local/lib/python3.7/dist-packages (from typer<0.5.0,>=0.3.0->spacy<3.3.0,>=3.2.0->it-core-news-sm==3.2.0) (7.1.2)\n",
            "Requirement already satisfied: MarkupSafe>=0.23 in /usr/local/lib/python3.7/dist-packages (from jinja2->spacy<3.3.0,>=3.2.0->it-core-news-sm==3.2.0) (2.0.1)\n",
            "\u001b[38;5;2m✔ Download and installation successful\u001b[0m\n",
            "You can now load the package via spacy.load('it_core_news_sm')\n",
            "Requirement already satisfied: spacy in /usr/local/lib/python3.7/dist-packages (3.2.0)\n",
            "Requirement already satisfied: requests<3.0.0,>=2.13.0 in /usr/local/lib/python3.7/dist-packages (from spacy) (2.23.0)\n",
            "Requirement already satisfied: typer<0.5.0,>=0.3.0 in /usr/local/lib/python3.7/dist-packages (from spacy) (0.4.0)\n",
            "Requirement already satisfied: setuptools in /usr/local/lib/python3.7/dist-packages (from spacy) (57.4.0)\n",
            "Requirement already satisfied: typing-extensions<4.0.0.0,>=3.7.4 in /usr/local/lib/python3.7/dist-packages (from spacy) (3.7.4.3)\n",
            "Requirement already satisfied: murmurhash<1.1.0,>=0.28.0 in /usr/local/lib/python3.7/dist-packages (from spacy) (1.0.5)\n",
            "Requirement already satisfied: srsly<3.0.0,>=2.4.1 in /usr/local/lib/python3.7/dist-packages (from spacy) (2.4.2)\n",
            "Requirement already satisfied: numpy>=1.15.0 in /usr/local/lib/python3.7/dist-packages (from spacy) (1.19.5)\n",
            "Requirement already satisfied: jinja2 in /usr/local/lib/python3.7/dist-packages (from spacy) (2.11.3)\n",
            "Requirement already satisfied: packaging>=20.0 in /usr/local/lib/python3.7/dist-packages (from spacy) (21.0)\n",
            "Requirement already satisfied: tqdm<5.0.0,>=4.38.0 in /usr/local/lib/python3.7/dist-packages (from spacy) (4.62.3)\n",
            "Requirement already satisfied: cymem<2.1.0,>=2.0.2 in /usr/local/lib/python3.7/dist-packages (from spacy) (2.0.5)\n",
            "Requirement already satisfied: wasabi<1.1.0,>=0.8.1 in /usr/local/lib/python3.7/dist-packages (from spacy) (0.8.2)\n",
            "Requirement already satisfied: pathy>=0.3.5 in /usr/local/lib/python3.7/dist-packages (from spacy) (0.6.1)\n",
            "Requirement already satisfied: langcodes<4.0.0,>=3.2.0 in /usr/local/lib/python3.7/dist-packages (from spacy) (3.2.1)\n",
            "Requirement already satisfied: spacy-loggers<2.0.0,>=1.0.0 in /usr/local/lib/python3.7/dist-packages (from spacy) (1.0.1)\n",
            "Requirement already satisfied: catalogue<2.1.0,>=2.0.6 in /usr/local/lib/python3.7/dist-packages (from spacy) (2.0.6)\n",
            "Requirement already satisfied: thinc<8.1.0,>=8.0.12 in /usr/local/lib/python3.7/dist-packages (from spacy) (8.0.13)\n",
            "Requirement already satisfied: spacy-legacy<3.1.0,>=3.0.8 in /usr/local/lib/python3.7/dist-packages (from spacy) (3.0.8)\n",
            "Requirement already satisfied: blis<0.8.0,>=0.4.0 in /usr/local/lib/python3.7/dist-packages (from spacy) (0.4.1)\n",
            "Requirement already satisfied: pydantic!=1.8,!=1.8.1,<1.9.0,>=1.7.4 in /usr/local/lib/python3.7/dist-packages (from spacy) (1.8.2)\n",
            "Requirement already satisfied: preshed<3.1.0,>=3.0.2 in /usr/local/lib/python3.7/dist-packages (from spacy) (3.0.5)\n",
            "Requirement already satisfied: zipp>=0.5 in /usr/local/lib/python3.7/dist-packages (from catalogue<2.1.0,>=2.0.6->spacy) (3.6.0)\n",
            "Requirement already satisfied: pyparsing>=2.0.2 in /usr/local/lib/python3.7/dist-packages (from packaging>=20.0->spacy) (2.4.7)\n",
            "Requirement already satisfied: smart-open<6.0.0,>=5.0.0 in /usr/local/lib/python3.7/dist-packages (from pathy>=0.3.5->spacy) (5.2.1)\n",
            "Requirement already satisfied: certifi>=2017.4.17 in /usr/local/lib/python3.7/dist-packages (from requests<3.0.0,>=2.13.0->spacy) (2021.5.30)\n",
            "Requirement already satisfied: chardet<4,>=3.0.2 in /usr/local/lib/python3.7/dist-packages (from requests<3.0.0,>=2.13.0->spacy) (3.0.4)\n",
            "Requirement already satisfied: urllib3!=1.25.0,!=1.25.1,<1.26,>=1.21.1 in /usr/local/lib/python3.7/dist-packages (from requests<3.0.0,>=2.13.0->spacy) (1.24.3)\n",
            "Requirement already satisfied: idna<3,>=2.5 in /usr/local/lib/python3.7/dist-packages (from requests<3.0.0,>=2.13.0->spacy) (2.10)\n",
            "Requirement already satisfied: click<9.0.0,>=7.1.1 in /usr/local/lib/python3.7/dist-packages (from typer<0.5.0,>=0.3.0->spacy) (7.1.2)\n",
            "Requirement already satisfied: MarkupSafe>=0.23 in /usr/local/lib/python3.7/dist-packages (from jinja2->spacy) (2.0.1)\n",
            "Collecting it-core-news-sm==3.2.0\n",
            "  Downloading https://github.com/explosion/spacy-models/releases/download/it_core_news_sm-3.2.0/it_core_news_sm-3.2.0-py3-none-any.whl (21.4 MB)\n",
            "\u001b[K     |████████████████████████████████| 21.4 MB 1.5 MB/s \n",
            "\u001b[?25hRequirement already satisfied: spacy<3.3.0,>=3.2.0 in /usr/local/lib/python3.7/dist-packages (from it-core-news-sm==3.2.0) (3.2.0)\n",
            "Requirement already satisfied: thinc<8.1.0,>=8.0.12 in /usr/local/lib/python3.7/dist-packages (from spacy<3.3.0,>=3.2.0->it-core-news-sm==3.2.0) (8.0.13)\n",
            "Requirement already satisfied: packaging>=20.0 in /usr/local/lib/python3.7/dist-packages (from spacy<3.3.0,>=3.2.0->it-core-news-sm==3.2.0) (21.0)\n",
            "Requirement already satisfied: wasabi<1.1.0,>=0.8.1 in /usr/local/lib/python3.7/dist-packages (from spacy<3.3.0,>=3.2.0->it-core-news-sm==3.2.0) (0.8.2)\n",
            "Requirement already satisfied: spacy-loggers<2.0.0,>=1.0.0 in /usr/local/lib/python3.7/dist-packages (from spacy<3.3.0,>=3.2.0->it-core-news-sm==3.2.0) (1.0.1)\n",
            "Requirement already satisfied: preshed<3.1.0,>=3.0.2 in /usr/local/lib/python3.7/dist-packages (from spacy<3.3.0,>=3.2.0->it-core-news-sm==3.2.0) (3.0.5)\n",
            "Requirement already satisfied: cymem<2.1.0,>=2.0.2 in /usr/local/lib/python3.7/dist-packages (from spacy<3.3.0,>=3.2.0->it-core-news-sm==3.2.0) (2.0.5)\n",
            "Requirement already satisfied: blis<0.8.0,>=0.4.0 in /usr/local/lib/python3.7/dist-packages (from spacy<3.3.0,>=3.2.0->it-core-news-sm==3.2.0) (0.4.1)\n",
            "Requirement already satisfied: pathy>=0.3.5 in /usr/local/lib/python3.7/dist-packages (from spacy<3.3.0,>=3.2.0->it-core-news-sm==3.2.0) (0.6.1)\n",
            "Requirement already satisfied: murmurhash<1.1.0,>=0.28.0 in /usr/local/lib/python3.7/dist-packages (from spacy<3.3.0,>=3.2.0->it-core-news-sm==3.2.0) (1.0.5)\n",
            "Requirement already satisfied: requests<3.0.0,>=2.13.0 in /usr/local/lib/python3.7/dist-packages (from spacy<3.3.0,>=3.2.0->it-core-news-sm==3.2.0) (2.23.0)\n",
            "Requirement already satisfied: typing-extensions<4.0.0.0,>=3.7.4 in /usr/local/lib/python3.7/dist-packages (from spacy<3.3.0,>=3.2.0->it-core-news-sm==3.2.0) (3.7.4.3)\n",
            "Requirement already satisfied: typer<0.5.0,>=0.3.0 in /usr/local/lib/python3.7/dist-packages (from spacy<3.3.0,>=3.2.0->it-core-news-sm==3.2.0) (0.4.0)\n",
            "Requirement already satisfied: langcodes<4.0.0,>=3.2.0 in /usr/local/lib/python3.7/dist-packages (from spacy<3.3.0,>=3.2.0->it-core-news-sm==3.2.0) (3.2.1)\n",
            "Requirement already satisfied: numpy>=1.15.0 in /usr/local/lib/python3.7/dist-packages (from spacy<3.3.0,>=3.2.0->it-core-news-sm==3.2.0) (1.19.5)\n",
            "Requirement already satisfied: srsly<3.0.0,>=2.4.1 in /usr/local/lib/python3.7/dist-packages (from spacy<3.3.0,>=3.2.0->it-core-news-sm==3.2.0) (2.4.2)\n",
            "Requirement already satisfied: setuptools in /usr/local/lib/python3.7/dist-packages (from spacy<3.3.0,>=3.2.0->it-core-news-sm==3.2.0) (57.4.0)\n",
            "Requirement already satisfied: catalogue<2.1.0,>=2.0.6 in /usr/local/lib/python3.7/dist-packages (from spacy<3.3.0,>=3.2.0->it-core-news-sm==3.2.0) (2.0.6)\n",
            "Requirement already satisfied: tqdm<5.0.0,>=4.38.0 in /usr/local/lib/python3.7/dist-packages (from spacy<3.3.0,>=3.2.0->it-core-news-sm==3.2.0) (4.62.3)\n",
            "Requirement already satisfied: pydantic!=1.8,!=1.8.1,<1.9.0,>=1.7.4 in /usr/local/lib/python3.7/dist-packages (from spacy<3.3.0,>=3.2.0->it-core-news-sm==3.2.0) (1.8.2)\n",
            "Requirement already satisfied: jinja2 in /usr/local/lib/python3.7/dist-packages (from spacy<3.3.0,>=3.2.0->it-core-news-sm==3.2.0) (2.11.3)\n",
            "Requirement already satisfied: spacy-legacy<3.1.0,>=3.0.8 in /usr/local/lib/python3.7/dist-packages (from spacy<3.3.0,>=3.2.0->it-core-news-sm==3.2.0) (3.0.8)\n",
            "Requirement already satisfied: zipp>=0.5 in /usr/local/lib/python3.7/dist-packages (from catalogue<2.1.0,>=2.0.6->spacy<3.3.0,>=3.2.0->it-core-news-sm==3.2.0) (3.6.0)\n",
            "Requirement already satisfied: pyparsing>=2.0.2 in /usr/local/lib/python3.7/dist-packages (from packaging>=20.0->spacy<3.3.0,>=3.2.0->it-core-news-sm==3.2.0) (2.4.7)\n",
            "Requirement already satisfied: smart-open<6.0.0,>=5.0.0 in /usr/local/lib/python3.7/dist-packages (from pathy>=0.3.5->spacy<3.3.0,>=3.2.0->it-core-news-sm==3.2.0) (5.2.1)\n",
            "Requirement already satisfied: urllib3!=1.25.0,!=1.25.1,<1.26,>=1.21.1 in /usr/local/lib/python3.7/dist-packages (from requests<3.0.0,>=2.13.0->spacy<3.3.0,>=3.2.0->it-core-news-sm==3.2.0) (1.24.3)\n",
            "Requirement already satisfied: chardet<4,>=3.0.2 in /usr/local/lib/python3.7/dist-packages (from requests<3.0.0,>=2.13.0->spacy<3.3.0,>=3.2.0->it-core-news-sm==3.2.0) (3.0.4)\n",
            "Requirement already satisfied: certifi>=2017.4.17 in /usr/local/lib/python3.7/dist-packages (from requests<3.0.0,>=2.13.0->spacy<3.3.0,>=3.2.0->it-core-news-sm==3.2.0) (2021.5.30)\n",
            "Requirement already satisfied: idna<3,>=2.5 in /usr/local/lib/python3.7/dist-packages (from requests<3.0.0,>=2.13.0->spacy<3.3.0,>=3.2.0->it-core-news-sm==3.2.0) (2.10)\n",
            "Requirement already satisfied: click<9.0.0,>=7.1.1 in /usr/local/lib/python3.7/dist-packages (from typer<0.5.0,>=0.3.0->spacy<3.3.0,>=3.2.0->it-core-news-sm==3.2.0) (7.1.2)\n",
            "Requirement already satisfied: MarkupSafe>=0.23 in /usr/local/lib/python3.7/dist-packages (from jinja2->spacy<3.3.0,>=3.2.0->it-core-news-sm==3.2.0) (2.0.1)\n",
            "\u001b[38;5;2m✔ Download and installation successful\u001b[0m\n",
            "You can now load the package via spacy.load('it_core_news_sm')\n"
          ]
        }
      ]
    },
    {
      "cell_type": "code",
      "metadata": {
        "id": "Qng1Bb1OSkBV"
      },
      "source": [
        "import nltk\n",
        "from nltk.tokenize import sent_tokenize, word_tokenize\n",
        "import gensim\n",
        "from gensim.models import Word2Vec\n",
        "import pandas as pd"
      ],
      "execution_count": 39,
      "outputs": []
    },
    {
      "cell_type": "code",
      "metadata": {
        "colab": {
          "base_uri": "https://localhost:8080/",
          "height": 109
        },
        "id": "7w2YyS9uSkxx",
        "outputId": "f9e8a9f3-ed20-4c0c-dbd4-9b6aaf1fed3f"
      },
      "source": [
        "df= pd.read_csv('Books.csv')\n",
        "df"
      ],
      "execution_count": 40,
      "outputs": [
        {
          "output_type": "execute_result",
          "data": {
            "text/html": [
              "<div>\n",
              "<style scoped>\n",
              "    .dataframe tbody tr th:only-of-type {\n",
              "        vertical-align: middle;\n",
              "    }\n",
              "\n",
              "    .dataframe tbody tr th {\n",
              "        vertical-align: top;\n",
              "    }\n",
              "\n",
              "    .dataframe thead th {\n",
              "        text-align: right;\n",
              "    }\n",
              "</style>\n",
              "<table border=\"1\" class=\"dataframe\">\n",
              "  <thead>\n",
              "    <tr style=\"text-align: right;\">\n",
              "      <th></th>\n",
              "      <th>Unnamed: 0</th>\n",
              "      <th>_id</th>\n",
              "      <th>author</th>\n",
              "      <th>contents</th>\n",
              "      <th>publishing house</th>\n",
              "      <th>year</th>\n",
              "    </tr>\n",
              "  </thead>\n",
              "  <tbody>\n",
              "    <tr>\n",
              "      <th>0</th>\n",
              "      <td>0</td>\n",
              "      <td>Jane Eyre_Feltrinelli_pulito.txt</td>\n",
              "      <td>Charlotte Brontë</td>\n",
              "      <td>Quel giorno era impossibile uscire a passeggio...</td>\n",
              "      <td>Feltrinelli Editore</td>\n",
              "      <td>2014</td>\n",
              "    </tr>\n",
              "    <tr>\n",
              "      <th>1</th>\n",
              "      <td>1</td>\n",
              "      <td>Jane Eyre_Treves_pulito.txt</td>\n",
              "      <td>Charlotte Brontë</td>\n",
              "      <td>In quel giorno era impossibile passeggiare. La...</td>\n",
              "      <td>Fratelli Treves Editori</td>\n",
              "      <td>1904</td>\n",
              "    </tr>\n",
              "  </tbody>\n",
              "</table>\n",
              "</div>"
            ],
            "text/plain": [
              "   Unnamed: 0                               _id  ...         publishing house  year\n",
              "0           0  Jane Eyre_Feltrinelli_pulito.txt  ...      Feltrinelli Editore  2014\n",
              "1           1       Jane Eyre_Treves_pulito.txt  ...  Fratelli Treves Editori  1904\n",
              "\n",
              "[2 rows x 6 columns]"
            ]
          },
          "metadata": {},
          "execution_count": 40
        }
      ]
    },
    {
      "cell_type": "code",
      "metadata": {
        "colab": {
          "base_uri": "https://localhost:8080/"
        },
        "id": "YQQr2_0BSnqn",
        "outputId": "2ec93c01-5b67-47de-d454-fe29c74e5e83"
      },
      "source": [
        "import nltk\n",
        "nltk.download('punkt')"
      ],
      "execution_count": 41,
      "outputs": [
        {
          "output_type": "stream",
          "name": "stdout",
          "text": [
            "[nltk_data] Downloading package punkt to /root/nltk_data...\n",
            "[nltk_data]   Package punkt is already up-to-date!\n"
          ]
        },
        {
          "output_type": "execute_result",
          "data": {
            "text/plain": [
              "True"
            ]
          },
          "metadata": {},
          "execution_count": 41
        }
      ]
    },
    {
      "cell_type": "code",
      "metadata": {
        "id": "jnSEYGT22IU5"
      },
      "source": [
        "from spacy.lang.it.stop_words import STOP_WORDS\n",
        "\n",
        "def clean(x):\n",
        "  stop = STOP_WORDS\n",
        "  words  = [w for w in word_tokenize(x.lower()) if w.isalpha() and w not in stop]\n",
        "  return \" \".join(words)\n",
        "\n",
        "df['contents'] = df['contents'].apply(clean)"
      ],
      "execution_count": 42,
      "outputs": []
    },
    {
      "cell_type": "code",
      "metadata": {
        "id": "lB_odwAvSvOu"
      },
      "source": [
        "import spacy\n",
        "from spacy.lang.it.examples import sentences \n",
        "from tqdm.notebook import tqdm\n",
        "tqdm.pandas()\n",
        "nlp = spacy.load('it_core_news_sm')\n",
        "nlp.max_length = 1064150 \n",
        "pipe = nlp.pipe(df['contents'], n_process=2, batch_size=2000)"
      ],
      "execution_count": 43,
      "outputs": []
    },
    {
      "cell_type": "code",
      "metadata": {
        "colab": {
          "base_uri": "https://localhost:8080/",
          "height": 49,
          "referenced_widgets": [
            "eeb60882202d4a8bbd67b2791d465665",
            "6904bc60a2b9407cb6e74ffe4c0112a8",
            "17431cda54764627bf4adae30457c2cb",
            "d1ca90641cc14ce2ac9e320d66e9dd32",
            "de0b0c42511943ff98fd2751bd256a30",
            "7866063abcb647d9b5a67753a084205f",
            "0eac66d08138427b8c761320fa360052",
            "2377ff1bae53459088b336084b3a24db",
            "982f10273645447cb923b7741368ab9a",
            "145bf994dc8c4a63a878782ee2f0443a",
            "bc431794a59b469285b04568b29919f1"
          ]
        },
        "id": "ahuPnSJWUGuB",
        "outputId": "17b72961-0a9a-4f02-ae8f-ca7e9ce73728"
      },
      "source": [
        "docs = [x for x in tqdm(pipe)]"
      ],
      "execution_count": 44,
      "outputs": [
        {
          "output_type": "display_data",
          "data": {
            "application/vnd.jupyter.widget-view+json": {
              "model_id": "eeb60882202d4a8bbd67b2791d465665",
              "version_minor": 0,
              "version_major": 2
            },
            "text/plain": [
              "0it [00:00, ?it/s]"
            ]
          },
          "metadata": {}
        }
      ]
    },
    {
      "cell_type": "code",
      "metadata": {
        "id": "Zj3056USYMpd"
      },
      "source": [
        "data = df"
      ],
      "execution_count": 45,
      "outputs": []
    },
    {
      "cell_type": "code",
      "metadata": {
        "id": "gtOkvuqXSnl4"
      },
      "source": [
        "data['spacy_doc'] = docs"
      ],
      "execution_count": 46,
      "outputs": []
    },
    {
      "cell_type": "code",
      "metadata": {
        "colab": {
          "base_uri": "https://localhost:8080/",
          "height": 49,
          "referenced_widgets": [
            "c398434b1226406482aa411f9964af0b",
            "5810b867276748febe90f9114e520218",
            "55c32348ae7b4decb92864e5fbf6eef9",
            "fdf79f47d4fb4d0b8379d7ca17bac0cc",
            "7cb8c61eb08441fa9be2dbcd90531b2c",
            "c046296186074fe2b23e898a8a60e2a9",
            "3aa2c7ff5af24657abf02e28f950d461",
            "8a47865074e34cd4b2f1e365500242ee",
            "d3347e278f8d4c59b3c2cf8d1e9a7c8e",
            "9ae576b9b9464c878396074bdfa44d4b",
            "b18ab75b2315474e99527923f69d5d12"
          ]
        },
        "id": "Vh-xBTMEYRRr",
        "outputId": "53589881-78ff-4b4d-cba4-1860f6452cf7"
      },
      "source": [
        "data['POS_spacy'] = data['spacy_doc'].progress_apply(lambda x: [(y.text, y.pos_) for y in x])"
      ],
      "execution_count": 47,
      "outputs": [
        {
          "output_type": "display_data",
          "data": {
            "application/vnd.jupyter.widget-view+json": {
              "model_id": "c398434b1226406482aa411f9964af0b",
              "version_minor": 0,
              "version_major": 2
            },
            "text/plain": [
              "  0%|          | 0/2 [00:00<?, ?it/s]"
            ]
          },
          "metadata": {}
        }
      ]
    },
    {
      "cell_type": "code",
      "metadata": {
        "colab": {
          "base_uri": "https://localhost:8080/",
          "height": 49,
          "referenced_widgets": [
            "2b427b79988044cca3cb91423de1229c",
            "50c7e07b042649998d4eea0de9c0c753",
            "e193c20d80a3490785c3e095c3531850",
            "dc38faa4ebb54537a684146170305627",
            "919f6c68233e4af9accb4214943383b8",
            "789ea13aec9443939550a18aea7f4233",
            "0ad8c2ce6e88416cb09b26d5357aee8c",
            "4c009418734f400e856c689ce2d0370b",
            "cec22badd69743bab1c4a51ca12f623a",
            "e9067f2e69334982a7b0e99ab347ee44",
            "cf5dca52d3784ed2911cfff194918900"
          ]
        },
        "id": "kiNrta23YSwK",
        "outputId": "2e4d0b31-db48-4373-ba35-dd07175d5834"
      },
      "source": [
        "data['lemmatized'] = data['spacy_doc'].progress_apply(lambda x: \" \".join([y.lemma_ for y in x if len(x)>1]))"
      ],
      "execution_count": 48,
      "outputs": [
        {
          "output_type": "display_data",
          "data": {
            "application/vnd.jupyter.widget-view+json": {
              "model_id": "2b427b79988044cca3cb91423de1229c",
              "version_minor": 0,
              "version_major": 2
            },
            "text/plain": [
              "  0%|          | 0/2 [00:00<?, ?it/s]"
            ]
          },
          "metadata": {}
        }
      ]
    },
    {
      "cell_type": "code",
      "metadata": {
        "colab": {
          "base_uri": "https://localhost:8080/",
          "height": 49,
          "referenced_widgets": [
            "0a48500994de468a9475a4d341aaefe1",
            "870e1ca6937a4a799efceea21a09d38c",
            "408d88e880b947ce8e44b552c150aa17",
            "6b09ebd0ccee4e7c88f052bbed15b645",
            "3da871f3dfe04d3f8b19e4d7349f557b",
            "cc015aee09fd4de4a036b4811e0b8547",
            "890cd9fa49944cd78b7903e967c0d4a0",
            "ebe3341abb8247dbb228a5945634e990",
            "17185198027d405f9af8a24cb38f64ef",
            "6ce64a3dacaa4792bc68ef8b1e1b6d53",
            "74cbefce8da548778220aed0ece4d5ef"
          ]
        },
        "id": "V9xzeXn_YUON",
        "outputId": "bceed303-4244-4f0f-c320-1ddcc36496fb"
      },
      "source": [
        "data['tokens'] = data['spacy_doc'].progress_apply(lambda x: [y.text for y in x])"
      ],
      "execution_count": 49,
      "outputs": [
        {
          "output_type": "display_data",
          "data": {
            "application/vnd.jupyter.widget-view+json": {
              "model_id": "0a48500994de468a9475a4d341aaefe1",
              "version_minor": 0,
              "version_major": 2
            },
            "text/plain": [
              "  0%|          | 0/2 [00:00<?, ?it/s]"
            ]
          },
          "metadata": {}
        }
      ]
    },
    {
      "cell_type": "code",
      "metadata": {
        "colab": {
          "base_uri": "https://localhost:8080/",
          "height": 49,
          "referenced_widgets": [
            "64edec4b460e43b59222f06d18195aa0",
            "c62a83acd1624b8f8f74f48ad6cdc018",
            "970fcad0c7194a278494d093859096ca",
            "42c1665f1413447fb2956d20977a1e15",
            "d3b1b5ad911d4234838f1d53bff01783",
            "dad2475c64e74a909553a0f31761c655",
            "fcef1ef9d6c2426192d953dea741c60e",
            "d5dc5dbbde8944c0b6539d5726e72623",
            "0bd7d0c364c3476785abd28f0886c926",
            "1898c193e48b4f30955b1e2b49a4b8bf",
            "5677f49300b344cda91dd18a9cda255a"
          ]
        },
        "id": "xMJEXLCzYVvN",
        "outputId": "704d301f-3ce4-47d3-e27b-f05034c5c01b"
      },
      "source": [
        "data['language'] = data['spacy_doc'].progress_apply(lambda x: set([y.lang_ for y in x]))"
      ],
      "execution_count": 50,
      "outputs": [
        {
          "output_type": "display_data",
          "data": {
            "application/vnd.jupyter.widget-view+json": {
              "model_id": "64edec4b460e43b59222f06d18195aa0",
              "version_minor": 0,
              "version_major": 2
            },
            "text/plain": [
              "  0%|          | 0/2 [00:00<?, ?it/s]"
            ]
          },
          "metadata": {}
        }
      ]
    },
    {
      "cell_type": "code",
      "metadata": {
        "colab": {
          "base_uri": "https://localhost:8080/"
        },
        "id": "QkV8VNGxSnf2",
        "outputId": "03fb43b2-996a-457d-91ce-3ae37fd6517d"
      },
      "source": [
        "length = {}\n",
        "for line in data['language']:\n",
        "    if len(line) in length:\n",
        "        length[len(line)] += 1\n",
        "    else:\n",
        "        length[len(line)] = 1\n",
        "length"
      ],
      "execution_count": 51,
      "outputs": [
        {
          "output_type": "execute_result",
          "data": {
            "text/plain": [
              "{1: 2}"
            ]
          },
          "metadata": {},
          "execution_count": 51
        }
      ]
    },
    {
      "cell_type": "code",
      "metadata": {
        "colab": {
          "base_uri": "https://localhost:8080/",
          "height": 49,
          "referenced_widgets": [
            "c388827d1b4d448d8860f3ff1d33ca53",
            "9364d958b6af4a26a1a10326311602c5",
            "fae3680414774cb5bcfd28d6c6d0ee4d",
            "fa0584661d37404282218694b20ca2d8",
            "cccb765cabe54920ab2221d410b0ff98",
            "80fa7452006d497da5b451c43f7b9152",
            "c8009d3c79ad489e9092c2dd675584fc",
            "4d5b7252601b42e48cee60e1e9817eec",
            "204a4d31fcab47b4bd0797dd6b1dfe43",
            "45f7b11bad9d47d2abeb759ea6aad853",
            "0f9c14cb9b194c0daa360860b1e89954"
          ]
        },
        "id": "KKHCR2_gYYB5",
        "outputId": "77c06ba9-7f00-4cc2-919e-70847b9cb9f5"
      },
      "source": [
        "data['language'] = data['language'].progress_apply(lambda x: list(x)[0])"
      ],
      "execution_count": 52,
      "outputs": [
        {
          "output_type": "display_data",
          "data": {
            "application/vnd.jupyter.widget-view+json": {
              "model_id": "c388827d1b4d448d8860f3ff1d33ca53",
              "version_minor": 0,
              "version_major": 2
            },
            "text/plain": [
              "  0%|          | 0/2 [00:00<?, ?it/s]"
            ]
          },
          "metadata": {}
        }
      ]
    },
    {
      "cell_type": "code",
      "metadata": {
        "colab": {
          "base_uri": "https://localhost:8080/"
        },
        "id": "v2iS5gd0YX-Y",
        "outputId": "b9518a18-8d2f-4cbc-c0b5-47cf036c21b0"
      },
      "source": [
        "data['language'].unique()"
      ],
      "execution_count": 53,
      "outputs": [
        {
          "output_type": "execute_result",
          "data": {
            "text/plain": [
              "array(['it'], dtype=object)"
            ]
          },
          "metadata": {},
          "execution_count": 53
        }
      ]
    },
    {
      "cell_type": "code",
      "metadata": {
        "id": "hQkRkbkJYf5G"
      },
      "source": [
        "def filter_text_pos(x):\n",
        "    final_pos_text = []\n",
        "    for elem in x:\n",
        "        for pos in pos_list:\n",
        "            if elem[1] == pos:\n",
        "                final_pos_text.append(elem[0])\n",
        "    \n",
        "    return \" \".join(final_pos_text)"
      ],
      "execution_count": 54,
      "outputs": []
    },
    {
      "cell_type": "code",
      "metadata": {
        "id": "AbHvXxDJYiTc"
      },
      "source": [
        "pos_list = [\"NOUN\"]\n",
        "data[\"NOUN\"] = data.apply(lambda x: filter_text_pos(x[\"POS_spacy\"]), axis=1)\n",
        "data['NOUN_count'] = data['NOUN'].apply(lambda x: len(x.split()))\n",
        "\n",
        "pos_list = [\"PROPN\"]\n",
        "data[\"PROPN\"] = data.apply(lambda x: filter_text_pos(x[\"POS_spacy\"]), axis=1)\n",
        "data['PROPN_count'] = data['PROPN'].apply(lambda x: len(x.split()))\n",
        "\n",
        "pos_list = [\"VERB\"]\n",
        "data[\"VERB\"] = data.apply(lambda x: filter_text_pos(x[\"POS_spacy\"]), axis=1)\n",
        "data['VERB_count'] = data['VERB'].apply(lambda x: len(x.split()))\n",
        "\n",
        "pos_list = [\"ADJ\"]\n",
        "data[\"ADJ\"] = data.apply(lambda x: filter_text_pos(x[\"POS_spacy\"]), axis=1)\n",
        "data['ADJ_count'] = data['ADJ'].apply(lambda x: len(x.split()))\n",
        "\n",
        "pos_list = [\"PRON\"]\n",
        "data[\"PRON\"] = data.apply(lambda x: filter_text_pos(x[\"POS_spacy\"]), axis=1)\n",
        "data['PRON_count'] = data['PRON'].apply(lambda x: len(x.split()))\n",
        "\n",
        "pos_list = [\"ADV\"]\n",
        "data[\"ADV\"] = data.apply(lambda x: filter_text_pos(x[\"POS_spacy\"]), axis=1)\n",
        "data['ADV_count'] = data['ADV'].apply(lambda x: len(x.split()))\n",
        "\n",
        "pos_list = [\"SCONJ\"]\n",
        "data[\"SCONJ\"] = data.apply(lambda x: filter_text_pos(x[\"POS_spacy\"]), axis=1)\n",
        "data['SCONJ_count'] = data['SCONJ'].apply(lambda x: len(x.split()))"
      ],
      "execution_count": 55,
      "outputs": []
    },
    {
      "cell_type": "code",
      "metadata": {
        "colab": {
          "base_uri": "https://localhost:8080/"
        },
        "id": "JCql5CU3YX6u",
        "outputId": "03c59aaf-2e7d-43d3-ecb0-b9b81f22d6a7"
      },
      "source": [
        "!pip install dataframe_image\n",
        "import matplotlib.pyplot as plt\n",
        "import pandas as pd\n",
        "import numpy as np\n",
        "import pickle\n",
        "from wordcloud import WordCloud\n",
        "from sklearn.feature_extraction.text import CountVectorizer\n",
        "import nltk.sentiment.vader as vd\n",
        "from nltk.tokenize import word_tokenize\n",
        "from PIL import Image\n",
        "from os import path, getcwd\n",
        "import dataframe_image as dfi"
      ],
      "execution_count": 56,
      "outputs": [
        {
          "output_type": "stream",
          "name": "stdout",
          "text": [
            "Requirement already satisfied: dataframe_image in /usr/local/lib/python3.7/dist-packages (0.1.1)\n",
            "Requirement already satisfied: aiohttp in /usr/local/lib/python3.7/dist-packages (from dataframe_image) (3.8.0)\n",
            "Requirement already satisfied: beautifulsoup4 in /usr/local/lib/python3.7/dist-packages (from dataframe_image) (4.6.3)\n",
            "Requirement already satisfied: requests in /usr/local/lib/python3.7/dist-packages (from dataframe_image) (2.23.0)\n",
            "Requirement already satisfied: pandas>=0.24 in /usr/local/lib/python3.7/dist-packages (from dataframe_image) (1.1.5)\n",
            "Requirement already satisfied: matplotlib>=3.1 in /usr/local/lib/python3.7/dist-packages (from dataframe_image) (3.2.2)\n",
            "Requirement already satisfied: nbconvert>=5 in /usr/local/lib/python3.7/dist-packages (from dataframe_image) (5.6.1)\n",
            "Requirement already satisfied: kiwisolver>=1.0.1 in /usr/local/lib/python3.7/dist-packages (from matplotlib>=3.1->dataframe_image) (1.3.2)\n",
            "Requirement already satisfied: python-dateutil>=2.1 in /usr/local/lib/python3.7/dist-packages (from matplotlib>=3.1->dataframe_image) (2.8.2)\n",
            "Requirement already satisfied: cycler>=0.10 in /usr/local/lib/python3.7/dist-packages (from matplotlib>=3.1->dataframe_image) (0.10.0)\n",
            "Requirement already satisfied: numpy>=1.11 in /usr/local/lib/python3.7/dist-packages (from matplotlib>=3.1->dataframe_image) (1.19.5)\n",
            "Requirement already satisfied: pyparsing!=2.0.4,!=2.1.2,!=2.1.6,>=2.0.1 in /usr/local/lib/python3.7/dist-packages (from matplotlib>=3.1->dataframe_image) (2.4.7)\n",
            "Requirement already satisfied: six in /usr/local/lib/python3.7/dist-packages (from cycler>=0.10->matplotlib>=3.1->dataframe_image) (1.15.0)\n",
            "Requirement already satisfied: bleach in /usr/local/lib/python3.7/dist-packages (from nbconvert>=5->dataframe_image) (4.1.0)\n",
            "Requirement already satisfied: pygments in /usr/local/lib/python3.7/dist-packages (from nbconvert>=5->dataframe_image) (2.6.1)\n",
            "Requirement already satisfied: pandocfilters>=1.4.1 in /usr/local/lib/python3.7/dist-packages (from nbconvert>=5->dataframe_image) (1.5.0)\n",
            "Requirement already satisfied: nbformat>=4.4 in /usr/local/lib/python3.7/dist-packages (from nbconvert>=5->dataframe_image) (5.1.3)\n",
            "Requirement already satisfied: testpath in /usr/local/lib/python3.7/dist-packages (from nbconvert>=5->dataframe_image) (0.5.0)\n",
            "Requirement already satisfied: jinja2>=2.4 in /usr/local/lib/python3.7/dist-packages (from nbconvert>=5->dataframe_image) (2.11.3)\n",
            "Requirement already satisfied: entrypoints>=0.2.2 in /usr/local/lib/python3.7/dist-packages (from nbconvert>=5->dataframe_image) (0.3)\n",
            "Requirement already satisfied: jupyter-core in /usr/local/lib/python3.7/dist-packages (from nbconvert>=5->dataframe_image) (4.8.1)\n",
            "Requirement already satisfied: traitlets>=4.2 in /usr/local/lib/python3.7/dist-packages (from nbconvert>=5->dataframe_image) (5.1.0)\n",
            "Requirement already satisfied: defusedxml in /usr/local/lib/python3.7/dist-packages (from nbconvert>=5->dataframe_image) (0.7.1)\n",
            "Requirement already satisfied: mistune<2,>=0.8.1 in /usr/local/lib/python3.7/dist-packages (from nbconvert>=5->dataframe_image) (0.8.4)\n",
            "Requirement already satisfied: MarkupSafe>=0.23 in /usr/local/lib/python3.7/dist-packages (from jinja2>=2.4->nbconvert>=5->dataframe_image) (2.0.1)\n",
            "Requirement already satisfied: jsonschema!=2.5.0,>=2.4 in /usr/local/lib/python3.7/dist-packages (from nbformat>=4.4->nbconvert>=5->dataframe_image) (2.6.0)\n",
            "Requirement already satisfied: ipython-genutils in /usr/local/lib/python3.7/dist-packages (from nbformat>=4.4->nbconvert>=5->dataframe_image) (0.2.0)\n",
            "Requirement already satisfied: pytz>=2017.2 in /usr/local/lib/python3.7/dist-packages (from pandas>=0.24->dataframe_image) (2018.9)\n",
            "Requirement already satisfied: attrs>=17.3.0 in /usr/local/lib/python3.7/dist-packages (from aiohttp->dataframe_image) (21.2.0)\n",
            "Requirement already satisfied: frozenlist>=1.1.1 in /usr/local/lib/python3.7/dist-packages (from aiohttp->dataframe_image) (1.2.0)\n",
            "Requirement already satisfied: typing-extensions>=3.7.4 in /usr/local/lib/python3.7/dist-packages (from aiohttp->dataframe_image) (3.7.4.3)\n",
            "Requirement already satisfied: asynctest==0.13.0 in /usr/local/lib/python3.7/dist-packages (from aiohttp->dataframe_image) (0.13.0)\n",
            "Requirement already satisfied: aiosignal>=1.1.2 in /usr/local/lib/python3.7/dist-packages (from aiohttp->dataframe_image) (1.2.0)\n",
            "Requirement already satisfied: yarl<2.0,>=1.0 in /usr/local/lib/python3.7/dist-packages (from aiohttp->dataframe_image) (1.7.2)\n",
            "Requirement already satisfied: charset-normalizer<3.0,>=2.0 in /usr/local/lib/python3.7/dist-packages (from aiohttp->dataframe_image) (2.0.7)\n",
            "Requirement already satisfied: async-timeout<5.0,>=4.0.0a3 in /usr/local/lib/python3.7/dist-packages (from aiohttp->dataframe_image) (4.0.0)\n",
            "Requirement already satisfied: multidict<7.0,>=4.5 in /usr/local/lib/python3.7/dist-packages (from aiohttp->dataframe_image) (5.2.0)\n",
            "Requirement already satisfied: idna>=2.0 in /usr/local/lib/python3.7/dist-packages (from yarl<2.0,>=1.0->aiohttp->dataframe_image) (2.10)\n",
            "Requirement already satisfied: packaging in /usr/local/lib/python3.7/dist-packages (from bleach->nbconvert>=5->dataframe_image) (21.0)\n",
            "Requirement already satisfied: webencodings in /usr/local/lib/python3.7/dist-packages (from bleach->nbconvert>=5->dataframe_image) (0.5.1)\n",
            "Requirement already satisfied: chardet<4,>=3.0.2 in /usr/local/lib/python3.7/dist-packages (from requests->dataframe_image) (3.0.4)\n",
            "Requirement already satisfied: urllib3!=1.25.0,!=1.25.1,<1.26,>=1.21.1 in /usr/local/lib/python3.7/dist-packages (from requests->dataframe_image) (1.24.3)\n",
            "Requirement already satisfied: certifi>=2017.4.17 in /usr/local/lib/python3.7/dist-packages (from requests->dataframe_image) (2021.5.30)\n"
          ]
        }
      ]
    },
    {
      "cell_type": "code",
      "metadata": {
        "id": "e_JKaeLOYXy0"
      },
      "source": [
        "def get_top_n_words(corpus, n=None):\n",
        "    vec = CountVectorizer().fit(corpus)\n",
        "    bag_of_words = vec.transform(corpus)\n",
        "    sum_words = bag_of_words.sum(axis=0) \n",
        "    words_freq = [(word, sum_words[0, idx]) for word, idx in vec.vocabulary_.items()]\n",
        "    words_freq = sorted(words_freq, key = lambda x: x[1], reverse=True)\n",
        "    return words_freq[:n]\n",
        "\n",
        "\n",
        "common_words = get_top_n_words(data['contents'], 50)\n",
        "cmw = {word: freq for word, freq in common_words}"
      ],
      "execution_count": 57,
      "outputs": []
    },
    {
      "cell_type": "code",
      "metadata": {
        "colab": {
          "base_uri": "https://localhost:8080/",
          "height": 395
        },
        "id": "86RhnkQHY1nA",
        "outputId": "7774ddd4-e62a-4f1b-bbb1-9040217889fa"
      },
      "source": [
        "mcw = pd.DataFrame.from_dict(cmw, orient='index').reset_index()\n",
        "mcw.columns = [\"words\", \"freq\"]\n",
        "\n",
        "mcw = mcw[:20]\n",
        "mcw.plot(x=\"words\", y=\"freq\", kind=\"bar\", figsize=(10,5), width=0.5)\n",
        "plt.savefig(\"images_d\\Top20_words.png\")\n",
        "plt.rc('xtick', labelsize=15) \n",
        "plt.show()"
      ],
      "execution_count": 58,
      "outputs": [
        {
          "output_type": "display_data",
          "data": {
            "image/png": "[encoded data removed]",
            "text/plain": [
              "<Figure size 720x360 with 1 Axes>"
            ]
          },
          "metadata": {
            "needs_background": "light"
          }
        }
      ]
    },
    {
      "cell_type": "code",
      "metadata": {
        "id": "s29azIqNY8qF"
      },
      "source": [
        "all_pos = data['POS_spacy'].sum()\n",
        "all_adjs = [x[0] for x in all_pos if x[1] == \"ADJ\"]\n",
        "all_nouns = [x[0] for x in all_pos if x[1] == \"NOUN\"]\n",
        "all_propn = [x[0] for x in all_pos if x[1] == \"PROPN\"]\n",
        "all_verbs = [x[0] for x in all_pos if x[1] == \"VERB\"]"
      ],
      "execution_count": 59,
      "outputs": []
    },
    {
      "cell_type": "code",
      "metadata": {
        "id": "cwROaj-mZARs"
      },
      "source": [
        "Feltrinelli = data.loc[data[\"_id\"] == 'Jane Eyre_Feltrinelli_pulito.txt']\n",
        "POS_Feltrinelli = Feltrinelli['POS_spacy'].sum()\n",
        "all_adjs_f = [x[0] for x in POS_Feltrinelli if x[1] == \"ADJ\"]\n",
        "all_nouns_f = [x[0] for x in POS_Feltrinelli if x[1] == \"NOUN\"]\n",
        "all_propn_f = [x[0] for x in POS_Feltrinelli if x[1] == \"PROPN\"]\n",
        "all_verbs_f = [x[0] for x in POS_Feltrinelli if x[1] == \"VERB\"]"
      ],
      "execution_count": 60,
      "outputs": []
    },
    {
      "cell_type": "code",
      "metadata": {
        "id": "PdH56uLyZB7x"
      },
      "source": [
        "Treves = data.loc[data[\"_id\"] == 'Jane Eyre_Treves_pulito.txt']\n",
        "POS_Treves = Treves['POS_spacy'].sum()\n",
        "all_adjs_t = [x[0] for x in POS_Treves if x[1] == \"ADJ\"]\n",
        "all_nouns_t = [x[0] for x in POS_Treves if x[1] == \"NOUN\"]\n",
        "all_propn_t = [x[0] for x in POS_Treves if x[1] == \"PROPN\"]\n",
        "all_verbs_t = [x[0] for x in POS_Treves if x[1] == \"VERB\"]"
      ],
      "execution_count": 61,
      "outputs": []
    },
    {
      "cell_type": "markdown",
      "metadata": {
        "id": "WDO9DyWnZDjC"
      },
      "source": [
        "TOP POS"
      ]
    },
    {
      "cell_type": "code",
      "metadata": {
        "id": "ml9Cr0JOZE3y"
      },
      "source": [
        "pos_counter_f = {}\n",
        "for x in POS_Feltrinelli:\n",
        "    if x[1] in pos_counter_f:\n",
        "        pos_counter_f[x[1]] += 1\n",
        "    else:\n",
        "        pos_counter_f[x[1]] = 1\n",
        "        \n",
        "top_pos_f = {k: v for k, v in sorted(pos_counter_f.items(), key=lambda item: item[1], reverse=True)}"
      ],
      "execution_count": 62,
      "outputs": []
    },
    {
      "cell_type": "code",
      "metadata": {
        "id": "kXFYdcGTZKMB"
      },
      "source": [
        "freq_pos_f = pd.DataFrame.from_dict(top_pos_f, orient=\"index\", columns=[\"Freq\"]).reset_index()\n",
        "freq_pos_f[\"R_Freq\"] = freq_pos_f.apply(lambda x: np.round(x.Freq / freq_pos_f.Freq.sum(), 2), axis=1)"
      ],
      "execution_count": 63,
      "outputs": []
    },
    {
      "cell_type": "code",
      "metadata": {
        "id": "EqbxQitdZLu9"
      },
      "source": [
        "pos_counter_t = {}\n",
        "for x in POS_Treves:\n",
        "    if x[1] in pos_counter_t:\n",
        "        pos_counter_t[x[1]] += 1\n",
        "    else:\n",
        "        pos_counter_t[x[1]] = 1\n",
        "        \n",
        "top_pos_t = {k: v for k, v in sorted(pos_counter_t.items(), key=lambda item: item[1], reverse=True)}"
      ],
      "execution_count": 64,
      "outputs": []
    },
    {
      "cell_type": "code",
      "metadata": {
        "id": "Bjf-tssTZON0"
      },
      "source": [
        "freq_pos_t = pd.DataFrame.from_dict(top_pos_t, orient=\"index\", columns=[\"Freq\"]).reset_index()\n",
        "freq_pos_t[\"R_Freq\"] = freq_pos_t.apply(lambda x: np.round(x.Freq / freq_pos_t.Freq.sum(), 2), axis=1)"
      ],
      "execution_count": 65,
      "outputs": []
    },
    {
      "cell_type": "code",
      "metadata": {
        "colab": {
          "base_uri": "https://localhost:8080/",
          "height": 504
        },
        "id": "HS3JoIyiZPoS",
        "outputId": "fd0aacac-2fc1-466c-84fd-0ee59b0771b7"
      },
      "source": [
        "compared_pos = {\"Feltrinelli\": list(top_pos_f.keys())[:len(top_pos_t)], \"Freq_Feltrinelli\": list(top_pos_f.values())[:len(top_pos_t)], \"Treves\": top_pos_t.keys(), \"Freq_Treves\": top_pos_t.values()}\n",
        "compared_pos = pd.DataFrame(compared_pos)\n",
        "compared_pos[\"R_Freq_Feltrinelli\"] = compared_pos.apply(lambda x: np.round(x.Freq_Feltrinelli / compared_pos.Freq_Feltrinelli.sum(), 3), axis=1)\n",
        "compared_pos[\"R_Freq_Treves\"] = compared_pos.apply(lambda x: np.round(x.Freq_Treves / compared_pos.Freq_Treves.sum(), 3), axis=1)\n",
        "compared_pos = compared_pos.reindex(columns=['Feltrinelli', 'R_Freq_Feltrinelli', 'Treves', 'R_Freq_Treves'])\n",
        "compared_pos"
      ],
      "execution_count": 66,
      "outputs": [
        {
          "output_type": "execute_result",
          "data": {
            "text/html": [
              "<div>\n",
              "<style scoped>\n",
              "    .dataframe tbody tr th:only-of-type {\n",
              "        vertical-align: middle;\n",
              "    }\n",
              "\n",
              "    .dataframe tbody tr th {\n",
              "        vertical-align: top;\n",
              "    }\n",
              "\n",
              "    .dataframe thead th {\n",
              "        text-align: right;\n",
              "    }\n",
              "</style>\n",
              "<table border=\"1\" class=\"dataframe\">\n",
              "  <thead>\n",
              "    <tr style=\"text-align: right;\">\n",
              "      <th></th>\n",
              "      <th>Feltrinelli</th>\n",
              "      <th>R_Freq_Feltrinelli</th>\n",
              "      <th>Treves</th>\n",
              "      <th>R_Freq_Treves</th>\n",
              "    </tr>\n",
              "  </thead>\n",
              "  <tbody>\n",
              "    <tr>\n",
              "      <th>0</th>\n",
              "      <td>NOUN</td>\n",
              "      <td>0.280</td>\n",
              "      <td>NOUN</td>\n",
              "      <td>0.281</td>\n",
              "    </tr>\n",
              "    <tr>\n",
              "      <th>1</th>\n",
              "      <td>VERB</td>\n",
              "      <td>0.249</td>\n",
              "      <td>VERB</td>\n",
              "      <td>0.260</td>\n",
              "    </tr>\n",
              "    <tr>\n",
              "      <th>2</th>\n",
              "      <td>ADJ</td>\n",
              "      <td>0.219</td>\n",
              "      <td>ADJ</td>\n",
              "      <td>0.212</td>\n",
              "    </tr>\n",
              "    <tr>\n",
              "      <th>3</th>\n",
              "      <td>CCONJ</td>\n",
              "      <td>0.094</td>\n",
              "      <td>CCONJ</td>\n",
              "      <td>0.086</td>\n",
              "    </tr>\n",
              "    <tr>\n",
              "      <th>4</th>\n",
              "      <td>AUX</td>\n",
              "      <td>0.043</td>\n",
              "      <td>AUX</td>\n",
              "      <td>0.049</td>\n",
              "    </tr>\n",
              "    <tr>\n",
              "      <th>5</th>\n",
              "      <td>ADV</td>\n",
              "      <td>0.036</td>\n",
              "      <td>PROPN</td>\n",
              "      <td>0.036</td>\n",
              "    </tr>\n",
              "    <tr>\n",
              "      <th>6</th>\n",
              "      <td>PROPN</td>\n",
              "      <td>0.032</td>\n",
              "      <td>ADV</td>\n",
              "      <td>0.035</td>\n",
              "    </tr>\n",
              "    <tr>\n",
              "      <th>7</th>\n",
              "      <td>DET</td>\n",
              "      <td>0.026</td>\n",
              "      <td>DET</td>\n",
              "      <td>0.022</td>\n",
              "    </tr>\n",
              "    <tr>\n",
              "      <th>8</th>\n",
              "      <td>ADP</td>\n",
              "      <td>0.007</td>\n",
              "      <td>PRON</td>\n",
              "      <td>0.006</td>\n",
              "    </tr>\n",
              "    <tr>\n",
              "      <th>9</th>\n",
              "      <td>PRON</td>\n",
              "      <td>0.005</td>\n",
              "      <td>ADP</td>\n",
              "      <td>0.004</td>\n",
              "    </tr>\n",
              "    <tr>\n",
              "      <th>10</th>\n",
              "      <td>X</td>\n",
              "      <td>0.003</td>\n",
              "      <td>SCONJ</td>\n",
              "      <td>0.003</td>\n",
              "    </tr>\n",
              "    <tr>\n",
              "      <th>11</th>\n",
              "      <td>NUM</td>\n",
              "      <td>0.003</td>\n",
              "      <td>NUM</td>\n",
              "      <td>0.003</td>\n",
              "    </tr>\n",
              "    <tr>\n",
              "      <th>12</th>\n",
              "      <td>SCONJ</td>\n",
              "      <td>0.002</td>\n",
              "      <td>X</td>\n",
              "      <td>0.002</td>\n",
              "    </tr>\n",
              "    <tr>\n",
              "      <th>13</th>\n",
              "      <td>INTJ</td>\n",
              "      <td>0.000</td>\n",
              "      <td>INTJ</td>\n",
              "      <td>0.001</td>\n",
              "    </tr>\n",
              "    <tr>\n",
              "      <th>14</th>\n",
              "      <td>SYM</td>\n",
              "      <td>0.000</td>\n",
              "      <td>SYM</td>\n",
              "      <td>0.000</td>\n",
              "    </tr>\n",
              "  </tbody>\n",
              "</table>\n",
              "</div>"
            ],
            "text/plain": [
              "   Feltrinelli  R_Freq_Feltrinelli Treves  R_Freq_Treves\n",
              "0         NOUN               0.280   NOUN          0.281\n",
              "1         VERB               0.249   VERB          0.260\n",
              "2          ADJ               0.219    ADJ          0.212\n",
              "3        CCONJ               0.094  CCONJ          0.086\n",
              "4          AUX               0.043    AUX          0.049\n",
              "5          ADV               0.036  PROPN          0.036\n",
              "6        PROPN               0.032    ADV          0.035\n",
              "7          DET               0.026    DET          0.022\n",
              "8          ADP               0.007   PRON          0.006\n",
              "9         PRON               0.005    ADP          0.004\n",
              "10           X               0.003  SCONJ          0.003\n",
              "11         NUM               0.003    NUM          0.003\n",
              "12       SCONJ               0.002      X          0.002\n",
              "13        INTJ               0.000   INTJ          0.001\n",
              "14         SYM               0.000    SYM          0.000"
            ]
          },
          "metadata": {},
          "execution_count": 66
        }
      ]
    },
    {
      "cell_type": "markdown",
      "metadata": {
        "id": "7AWnu1ryZRka"
      },
      "source": [
        "TOP ADJECTIVES"
      ]
    },
    {
      "cell_type": "code",
      "metadata": {
        "id": "LCGt9S05ZQG5"
      },
      "source": [
        "adj_counter_f = {}\n",
        "for word in all_adjs_f:\n",
        "    if word in adj_counter_f:\n",
        "        adj_counter_f[word] += 1\n",
        "    else:\n",
        "        adj_counter_f[word] = 1\n",
        "\n",
        "top_20_adj_f = {k: v for k, v in sorted(adj_counter_f.items(), key=lambda item: item[1], reverse=True)[:20]}"
      ],
      "execution_count": 67,
      "outputs": []
    },
    {
      "cell_type": "code",
      "metadata": {
        "id": "dlfVUxHrZTkf"
      },
      "source": [
        "adj_counter_t = {}\n",
        "for word in all_adjs_t:\n",
        "    if word in adj_counter_t:\n",
        "        adj_counter_t[word] += 1\n",
        "    else:\n",
        "        adj_counter_t[word] = 1\n",
        "            \n",
        "top_20_adj_t = {k: v for k, v in sorted(adj_counter_t.items(), key=lambda item: item[1], reverse=True)[:20]}"
      ],
      "execution_count": 68,
      "outputs": []
    },
    {
      "cell_type": "code",
      "metadata": {
        "colab": {
          "base_uri": "https://localhost:8080/",
          "height": 303
        },
        "id": "LOzaUGwaZVZi",
        "outputId": "ff9c9897-066f-4524-9db5-0e99005477da"
      },
      "source": [
        "path_cloud = \"aa.png\"\n",
        "cloud = np.array(Image.open(path_cloud))\n",
        "wc_Treves = WordCloud(background_color=\"white\", mask=cloud).generate_from_frequencies(top_20_adj_t)\n",
        "plt.figure(figsize=(8,5))\n",
        "plt.imshow(wc_Treves, interpolation=\"bilinear\")\n",
        "plt.axis(\"off\")\n",
        "wc_Treves.to_file(\"images_d\\wc_Treves.png\")\n",
        "plt.show()"
      ],
      "execution_count": 69,
      "outputs": [
        {
          "output_type": "display_data",
          "data": {
            "image/png": "[encoded data removed]",
            "text/plain": [
              "<Figure size 576x360 with 1 Axes>"
            ]
          },
          "metadata": {
            "needs_background": "light"
          }
        }
      ]
    },
    {
      "cell_type": "code",
      "metadata": {
        "colab": {
          "base_uri": "https://localhost:8080/",
          "height": 657
        },
        "id": "JefZBnjPZcpA",
        "outputId": "97616514-4fa7-4c2a-e112-8f17907b66a6"
      },
      "source": [
        "top_adj = {\"Feltrinelli\": top_20_adj_f.keys(), \"Freq_Feltrinelli\": top_20_adj_f.values(), \"Treves\": top_20_adj_t.keys(), \"Freq_Treves\": top_20_adj_t.values()}\n",
        "top_adj = pd.DataFrame(top_adj)\n",
        "top_adj[\"R_Freq_Feltrinelli\"] = top_adj.apply(lambda x: np.round(x.Freq_Feltrinelli / top_adj.Freq_Treves.sum(), 3), axis=1)\n",
        "top_adj[\"R_Freq_Treves\"] = top_adj.apply(lambda x: np.round(x.Freq_Feltrinelli / top_adj.Freq_Treves.sum(), 3), axis=1)\n",
        "top_adj = top_adj.reindex(columns=['Feltrinelli', 'R_Freq_Feltrinelli', 'Treves', 'R_Freq_Treves'])\n",
        "top_adj"
      ],
      "execution_count": 70,
      "outputs": [
        {
          "output_type": "execute_result",
          "data": {
            "text/html": [
              "<div>\n",
              "<style scoped>\n",
              "    .dataframe tbody tr th:only-of-type {\n",
              "        vertical-align: middle;\n",
              "    }\n",
              "\n",
              "    .dataframe tbody tr th {\n",
              "        vertical-align: top;\n",
              "    }\n",
              "\n",
              "    .dataframe thead th {\n",
              "        text-align: right;\n",
              "    }\n",
              "</style>\n",
              "<table border=\"1\" class=\"dataframe\">\n",
              "  <thead>\n",
              "    <tr style=\"text-align: right;\">\n",
              "      <th></th>\n",
              "      <th>Feltrinelli</th>\n",
              "      <th>R_Freq_Feltrinelli</th>\n",
              "      <th>Treves</th>\n",
              "      <th>R_Freq_Treves</th>\n",
              "    </tr>\n",
              "  </thead>\n",
              "  <tbody>\n",
              "    <tr>\n",
              "      <th>0</th>\n",
              "      <td>jane</td>\n",
              "      <td>0.162</td>\n",
              "      <td>jane</td>\n",
              "      <td>0.162</td>\n",
              "    </tr>\n",
              "    <tr>\n",
              "      <th>1</th>\n",
              "      <td>miss</td>\n",
              "      <td>0.095</td>\n",
              "      <td>sola</td>\n",
              "      <td>0.095</td>\n",
              "    </tr>\n",
              "    <tr>\n",
              "      <th>2</th>\n",
              "      <td>vero</td>\n",
              "      <td>0.074</td>\n",
              "      <td>vero</td>\n",
              "      <td>0.074</td>\n",
              "    </tr>\n",
              "    <tr>\n",
              "      <th>3</th>\n",
              "      <td>sola</td>\n",
              "      <td>0.063</td>\n",
              "      <td>buona</td>\n",
              "      <td>0.063</td>\n",
              "    </tr>\n",
              "    <tr>\n",
              "      <th>4</th>\n",
              "      <td>dissi</td>\n",
              "      <td>0.052</td>\n",
              "      <td>felice</td>\n",
              "      <td>0.052</td>\n",
              "    </tr>\n",
              "    <tr>\n",
              "      <th>5</th>\n",
              "      <td>sicuro</td>\n",
              "      <td>0.052</td>\n",
              "      <td>bella</td>\n",
              "      <td>0.052</td>\n",
              "    </tr>\n",
              "    <tr>\n",
              "      <th>6</th>\n",
              "      <td>felice</td>\n",
              "      <td>0.048</td>\n",
              "      <td>dolce</td>\n",
              "      <td>0.048</td>\n",
              "    </tr>\n",
              "    <tr>\n",
              "      <th>7</th>\n",
              "      <td>diana</td>\n",
              "      <td>0.048</td>\n",
              "      <td>forte</td>\n",
              "      <td>0.048</td>\n",
              "    </tr>\n",
              "    <tr>\n",
              "      <th>8</th>\n",
              "      <td>bambina</td>\n",
              "      <td>0.046</td>\n",
              "      <td>dissi</td>\n",
              "      <td>0.046</td>\n",
              "    </tr>\n",
              "    <tr>\n",
              "      <th>9</th>\n",
              "      <td>adèle</td>\n",
              "      <td>0.046</td>\n",
              "      <td>reed</td>\n",
              "      <td>0.046</td>\n",
              "    </tr>\n",
              "    <tr>\n",
              "      <th>10</th>\n",
              "      <td>piccola</td>\n",
              "      <td>0.043</td>\n",
              "      <td>bianca</td>\n",
              "      <td>0.043</td>\n",
              "    </tr>\n",
              "    <tr>\n",
              "      <th>11</th>\n",
              "      <td>sentivo</td>\n",
              "      <td>0.042</td>\n",
              "      <td>diana</td>\n",
              "      <td>0.042</td>\n",
              "    </tr>\n",
              "    <tr>\n",
              "      <th>12</th>\n",
              "      <td>bella</td>\n",
              "      <td>0.041</td>\n",
              "      <td>mason</td>\n",
              "      <td>0.041</td>\n",
              "    </tr>\n",
              "    <tr>\n",
              "      <th>13</th>\n",
              "      <td>forte</td>\n",
              "      <td>0.038</td>\n",
              "      <td>piccola</td>\n",
              "      <td>0.038</td>\n",
              "    </tr>\n",
              "    <tr>\n",
              "      <th>14</th>\n",
              "      <td>nuova</td>\n",
              "      <td>0.037</td>\n",
              "      <td>thornfield</td>\n",
              "      <td>0.037</td>\n",
              "    </tr>\n",
              "    <tr>\n",
              "      <th>15</th>\n",
              "      <td>riuscivo</td>\n",
              "      <td>0.037</td>\n",
              "      <td>sentivo</td>\n",
              "      <td>0.037</td>\n",
              "    </tr>\n",
              "    <tr>\n",
              "      <th>16</th>\n",
              "      <td>buona</td>\n",
              "      <td>0.037</td>\n",
              "      <td>freddo</td>\n",
              "      <td>0.037</td>\n",
              "    </tr>\n",
              "    <tr>\n",
              "      <th>17</th>\n",
              "      <td>sicura</td>\n",
              "      <td>0.036</td>\n",
              "      <td>calma</td>\n",
              "      <td>0.036</td>\n",
              "    </tr>\n",
              "    <tr>\n",
              "      <th>18</th>\n",
              "      <td>freddo</td>\n",
              "      <td>0.034</td>\n",
              "      <td>eyre</td>\n",
              "      <td>0.034</td>\n",
              "    </tr>\n",
              "    <tr>\n",
              "      <th>19</th>\n",
              "      <td>bessie</td>\n",
              "      <td>0.033</td>\n",
              "      <td>bessie</td>\n",
              "      <td>0.033</td>\n",
              "    </tr>\n",
              "  </tbody>\n",
              "</table>\n",
              "</div>"
            ],
            "text/plain": [
              "   Feltrinelli  R_Freq_Feltrinelli      Treves  R_Freq_Treves\n",
              "0         jane               0.162        jane          0.162\n",
              "1         miss               0.095        sola          0.095\n",
              "2         vero               0.074        vero          0.074\n",
              "3         sola               0.063       buona          0.063\n",
              "4        dissi               0.052      felice          0.052\n",
              "5       sicuro               0.052       bella          0.052\n",
              "6       felice               0.048       dolce          0.048\n",
              "7        diana               0.048       forte          0.048\n",
              "8      bambina               0.046       dissi          0.046\n",
              "9        adèle               0.046        reed          0.046\n",
              "10     piccola               0.043      bianca          0.043\n",
              "11     sentivo               0.042       diana          0.042\n",
              "12       bella               0.041       mason          0.041\n",
              "13       forte               0.038     piccola          0.038\n",
              "14       nuova               0.037  thornfield          0.037\n",
              "15    riuscivo               0.037     sentivo          0.037\n",
              "16       buona               0.037      freddo          0.037\n",
              "17      sicura               0.036       calma          0.036\n",
              "18      freddo               0.034        eyre          0.034\n",
              "19      bessie               0.033      bessie          0.033"
            ]
          },
          "metadata": {},
          "execution_count": 70
        }
      ]
    },
    {
      "cell_type": "code",
      "metadata": {
        "id": "Pfw5EfCvZeXy"
      },
      "source": [
        "common_adj = list(set(top_adj[\"Feltrinelli\"].values).intersection(set(top_adj[\"Treves\"].values)))\n",
        "freq_common_f_adj = [adj_counter_f[x] for x in common_adj]\n",
        "freq_common_t_adj = [adj_counter_t[x] for x in common_adj]\n",
        "common_adj_df = pd.DataFrame({\"Adj\" : common_adj, \"Freq_Feltrinelli\": freq_common_f_adj, \"Freq_Treves\": freq_common_t_adj } )\n",
        "common_adj_df = common_adj_df.sort_values(by = ['Freq_Feltrinelli'], ascending = False, ignore_index=True)"
      ],
      "execution_count": 71,
      "outputs": []
    },
    {
      "cell_type": "code",
      "metadata": {
        "colab": {
          "base_uri": "https://localhost:8080/",
          "height": 503
        },
        "id": "9qzMgleRZe8q",
        "outputId": "f289e3a3-48c9-4a60-eb28-9b8d1fd79d7c"
      },
      "source": [
        "common_adj_df.set_index(\"Adj\").plot(secondary_y=['Freq_Treves'], kind='bar', color=['lightblue', 'royalblue'], figsize=(12,7), width=0.6)\n",
        "plt.title('Difference in frequency for Adjectives between books', fontsize = 13)\n",
        "plt.rc('xtick', labelsize=10)\n",
        "plt.savefig(\"images_d\\Adj_tot_books.png\")\n",
        "plt.show()"
      ],
      "execution_count": 72,
      "outputs": [
        {
          "output_type": "display_data",
          "data": {
            "image/png": "[encoded data removed]",
            "text/plain": [
              "<Figure size 864x504 with 2 Axes>"
            ]
          },
          "metadata": {
            "needs_background": "light"
          }
        }
      ]
    },
    {
      "cell_type": "code",
      "metadata": {
        "colab": {
          "base_uri": "https://localhost:8080/",
          "height": 352
        },
        "id": "4W-Fy5CrZghd",
        "outputId": "14d33bdf-3f35-44a5-c8c2-3df54268548f"
      },
      "source": [
        "fig, ax = plt.subplots(figsize=(5,5))\n",
        "labels = (Feltrinelli.ADJ_count.mean(), Treves.ADJ_count.mean())\n",
        "ax.bar(\"Feltrinelli\", Feltrinelli.ADJ_count.mean(), color=['lightblue'], label='Feltrinelli')\n",
        "ax.bar(\"Treves\", Treves.ADJ_count.mean(), color=[ 'royalblue'], label='Treves')\n",
        "rects = ax.patches\n",
        "for rect, label in zip(rects, labels):\n",
        "    height = rect.get_height()\n",
        "    ax.text(rect.get_x() + rect.get_width() / 2, height , label,\n",
        "            ha='center', va='bottom')\n",
        "plt.rc('xtick', labelsize=10)\n",
        "plt.title('Number of Adjectives', fontsize = 13)\n",
        "print('Difference in number of Adjectives between books is ', Feltrinelli.ADJ_count.mean() - Treves.ADJ_count.mean() )"
      ],
      "execution_count": 73,
      "outputs": [
        {
          "output_type": "stream",
          "name": "stdout",
          "text": [
            "Difference in number of Adjectives between books is  3423.0\n"
          ]
        },
        {
          "output_type": "display_data",
          "data": {
            "image/png": "[encoded data removed]",
            "text/plain": [
              "<Figure size 360x360 with 1 Axes>"
            ]
          },
          "metadata": {
            "needs_background": "light"
          }
        }
      ]
    },
    {
      "cell_type": "markdown",
      "metadata": {
        "id": "KhkfTzneZlBQ"
      },
      "source": [
        "TOP VERBS"
      ]
    },
    {
      "cell_type": "code",
      "metadata": {
        "id": "64LdLF3bZjZf"
      },
      "source": [
        "verb_counter_f = {}\n",
        "for word in all_verbs_f:\n",
        "    if word in verb_counter_f:\n",
        "        verb_counter_f[word] += 1\n",
        "    else:\n",
        "        verb_counter_f[word] = 1\n",
        "\n",
        "top_20_verb_f = {k: v for k, v in sorted(verb_counter_f.items(), key=lambda item: item[1], reverse=True)[:20]}"
      ],
      "execution_count": 74,
      "outputs": []
    },
    {
      "cell_type": "code",
      "metadata": {
        "id": "UdXprBZPZmqR"
      },
      "source": [
        "verb_counter_t = {}\n",
        "for word in all_verbs_t:\n",
        "    if word in verb_counter_t:\n",
        "        verb_counter_t[word] += 1\n",
        "    else:\n",
        "        verb_counter_t[word] = 1\n",
        "            \n",
        "top_20_verb_t = {k: v for k, v in sorted(verb_counter_t.items(), key=lambda item: item[1], reverse=True)[:20]}"
      ],
      "execution_count": 75,
      "outputs": []
    },
    {
      "cell_type": "code",
      "metadata": {
        "colab": {
          "base_uri": "https://localhost:8080/",
          "height": 303
        },
        "id": "1OGf2ahKZoOL",
        "outputId": "948c4476-e9c8-4a85-8faa-de681015ef33"
      },
      "source": [
        "WC_Treves = WordCloud(background_color=\"white\", mask=cloud).generate_from_frequencies(top_20_verb_t)\n",
        "plt.figure(figsize=(8,5))\n",
        "plt.imshow(WC_Treves, interpolation=\"bilinear\")\n",
        "plt.axis(\"off\")\n",
        "WC_Treves.to_file(\"images_d\\WC_Treves.png\")\n",
        "plt.show()"
      ],
      "execution_count": 76,
      "outputs": [
        {
          "output_type": "display_data",
          "data": {
            "image/png": "[encoded data removed]",
            "text/plain": [
              "<Figure size 576x360 with 1 Axes>"
            ]
          },
          "metadata": {
            "needs_background": "light"
          }
        }
      ]
    },
    {
      "cell_type": "code",
      "metadata": {
        "colab": {
          "base_uri": "https://localhost:8080/",
          "height": 657
        },
        "id": "Hg66nFADZjPt",
        "outputId": "ee3770e1-d5ee-4644-8f70-250321e332e1"
      },
      "source": [
        "top_verb = {\"Feltrinelli\": top_20_verb_f.keys(), \"Freq_Feltrinelli\": top_20_verb_f.values(), \"Treves\": top_20_verb_t.keys(), \"Freq_Treves\": top_20_verb_t.values()}\n",
        "top_verb = pd.DataFrame(top_verb)\n",
        "top_verb[\"R_Freq_Feltrinelli\"] = top_verb.apply(lambda x: np.round(x.Freq_Feltrinelli / top_verb.Freq_Feltrinelli.sum(), 3), axis=1)\n",
        "top_verb[\"R_Freq_Treves\"] = top_verb.apply(lambda x: np.round(x.Freq_Treves / top_verb.Freq_Treves.sum(), 3), axis=1)\n",
        "top_verb = top_verb.reindex(columns=['Feltrinelli', 'R_Freq_Feltrinelli', 'Treves', 'R_Freq_Treves'])\n",
        "top_verb"
      ],
      "execution_count": 77,
      "outputs": [
        {
          "output_type": "execute_result",
          "data": {
            "text/html": [
              "<div>\n",
              "<style scoped>\n",
              "    .dataframe tbody tr th:only-of-type {\n",
              "        vertical-align: middle;\n",
              "    }\n",
              "\n",
              "    .dataframe tbody tr th {\n",
              "        vertical-align: top;\n",
              "    }\n",
              "\n",
              "    .dataframe thead th {\n",
              "        text-align: right;\n",
              "    }\n",
              "</style>\n",
              "<table border=\"1\" class=\"dataframe\">\n",
              "  <thead>\n",
              "    <tr style=\"text-align: right;\">\n",
              "      <th></th>\n",
              "      <th>Feltrinelli</th>\n",
              "      <th>R_Freq_Feltrinelli</th>\n",
              "      <th>Treves</th>\n",
              "      <th>R_Freq_Treves</th>\n",
              "    </tr>\n",
              "  </thead>\n",
              "  <tbody>\n",
              "    <tr>\n",
              "      <th>0</th>\n",
              "      <td>disse</td>\n",
              "      <td>0.161</td>\n",
              "      <td>disse</td>\n",
              "      <td>0.155</td>\n",
              "    </tr>\n",
              "    <tr>\n",
              "      <th>1</th>\n",
              "      <td>sembrava</td>\n",
              "      <td>0.072</td>\n",
              "      <td>pareva</td>\n",
              "      <td>0.068</td>\n",
              "    </tr>\n",
              "    <tr>\n",
              "      <th>2</th>\n",
              "      <td>parlare</td>\n",
              "      <td>0.067</td>\n",
              "      <td>rispose</td>\n",
              "      <td>0.066</td>\n",
              "    </tr>\n",
              "    <tr>\n",
              "      <th>3</th>\n",
              "      <td>vedere</td>\n",
              "      <td>0.065</td>\n",
              "      <td>parlare</td>\n",
              "      <td>0.058</td>\n",
              "    </tr>\n",
              "    <tr>\n",
              "      <th>4</th>\n",
              "      <td>andare</td>\n",
              "      <td>0.061</td>\n",
              "      <td>credo</td>\n",
              "      <td>0.057</td>\n",
              "    </tr>\n",
              "    <tr>\n",
              "      <th>5</th>\n",
              "      <td>so</td>\n",
              "      <td>0.056</td>\n",
              "      <td>vedere</td>\n",
              "      <td>0.050</td>\n",
              "    </tr>\n",
              "    <tr>\n",
              "      <th>6</th>\n",
              "      <td>porta</td>\n",
              "      <td>0.051</td>\n",
              "      <td>so</td>\n",
              "      <td>0.050</td>\n",
              "    </tr>\n",
              "    <tr>\n",
              "      <th>7</th>\n",
              "      <td>credo</td>\n",
              "      <td>0.045</td>\n",
              "      <td>andare</td>\n",
              "      <td>0.047</td>\n",
              "    </tr>\n",
              "    <tr>\n",
              "      <th>8</th>\n",
              "      <td>sentii</td>\n",
              "      <td>0.041</td>\n",
              "      <td>domandò</td>\n",
              "      <td>0.046</td>\n",
              "    </tr>\n",
              "    <tr>\n",
              "      <th>9</th>\n",
              "      <td>sentito</td>\n",
              "      <td>0.041</td>\n",
              "      <td>far</td>\n",
              "      <td>0.044</td>\n",
              "    </tr>\n",
              "    <tr>\n",
              "      <th>10</th>\n",
              "      <td>ingram</td>\n",
              "      <td>0.041</td>\n",
              "      <td>esclamò</td>\n",
              "      <td>0.042</td>\n",
              "    </tr>\n",
              "    <tr>\n",
              "      <th>11</th>\n",
              "      <td>letto</td>\n",
              "      <td>0.039</td>\n",
              "      <td>letto</td>\n",
              "      <td>0.039</td>\n",
              "    </tr>\n",
              "    <tr>\n",
              "      <th>12</th>\n",
              "      <td>vista</td>\n",
              "      <td>0.037</td>\n",
              "      <td>pare</td>\n",
              "      <td>0.039</td>\n",
              "    </tr>\n",
              "    <tr>\n",
              "      <th>13</th>\n",
              "      <td>seduta</td>\n",
              "      <td>0.037</td>\n",
              "      <td>sentii</td>\n",
              "      <td>0.038</td>\n",
              "    </tr>\n",
              "    <tr>\n",
              "      <th>14</th>\n",
              "      <td>trovare</td>\n",
              "      <td>0.033</td>\n",
              "      <td>parve</td>\n",
              "      <td>0.037</td>\n",
              "    </tr>\n",
              "    <tr>\n",
              "      <th>15</th>\n",
              "      <td>continuò</td>\n",
              "      <td>0.033</td>\n",
              "      <td>porta</td>\n",
              "      <td>0.036</td>\n",
              "    </tr>\n",
              "    <tr>\n",
              "      <th>16</th>\n",
              "      <td>rispose</td>\n",
              "      <td>0.031</td>\n",
              "      <td>continuò</td>\n",
              "      <td>0.035</td>\n",
              "    </tr>\n",
              "    <tr>\n",
              "      <th>17</th>\n",
              "      <td>stare</td>\n",
              "      <td>0.029</td>\n",
              "      <td>risposi</td>\n",
              "      <td>0.032</td>\n",
              "    </tr>\n",
              "    <tr>\n",
              "      <th>18</th>\n",
              "      <td>sapere</td>\n",
              "      <td>0.029</td>\n",
              "      <td>sapevo</td>\n",
              "      <td>0.031</td>\n",
              "    </tr>\n",
              "    <tr>\n",
              "      <th>19</th>\n",
              "      <td>sapevo</td>\n",
              "      <td>0.029</td>\n",
              "      <td>prendere</td>\n",
              "      <td>0.031</td>\n",
              "    </tr>\n",
              "  </tbody>\n",
              "</table>\n",
              "</div>"
            ],
            "text/plain": [
              "   Feltrinelli  R_Freq_Feltrinelli    Treves  R_Freq_Treves\n",
              "0        disse               0.161     disse          0.155\n",
              "1     sembrava               0.072    pareva          0.068\n",
              "2      parlare               0.067   rispose          0.066\n",
              "3       vedere               0.065   parlare          0.058\n",
              "4       andare               0.061     credo          0.057\n",
              "5           so               0.056    vedere          0.050\n",
              "6        porta               0.051        so          0.050\n",
              "7        credo               0.045    andare          0.047\n",
              "8       sentii               0.041   domandò          0.046\n",
              "9      sentito               0.041       far          0.044\n",
              "10      ingram               0.041   esclamò          0.042\n",
              "11       letto               0.039     letto          0.039\n",
              "12       vista               0.037      pare          0.039\n",
              "13      seduta               0.037    sentii          0.038\n",
              "14     trovare               0.033     parve          0.037\n",
              "15    continuò               0.033     porta          0.036\n",
              "16     rispose               0.031  continuò          0.035\n",
              "17       stare               0.029   risposi          0.032\n",
              "18      sapere               0.029    sapevo          0.031\n",
              "19      sapevo               0.029  prendere          0.031"
            ]
          },
          "metadata": {},
          "execution_count": 77
        }
      ]
    },
    {
      "cell_type": "code",
      "metadata": {
        "id": "ipwo4tPvZxBv"
      },
      "source": [
        "common_verb = list(set(top_verb[\"Treves\"].values).intersection(set(top_verb[\"Feltrinelli\"].values)))\n",
        "freq_common_f_verb = [verb_counter_f[x] for x in common_verb]\n",
        "freq_common_t_verb = [verb_counter_t[x] for x in common_verb]\n",
        "common_verb_df = pd.DataFrame({\"Verb\" : common_verb, \"Freq_Feltrinelli\": freq_common_f_verb, \"Freq_Treves\": freq_common_t_verb } )\n",
        "common_verb_df = common_verb_df.sort_values(by = ['Freq_Treves'], ascending = False, ignore_index=True)"
      ],
      "execution_count": 78,
      "outputs": []
    },
    {
      "cell_type": "code",
      "metadata": {
        "colab": {
          "base_uri": "https://localhost:8080/",
          "height": 491
        },
        "id": "waT5NEybZy9s",
        "outputId": "9b13900c-cab9-4aaa-d163-ef9347e13468"
      },
      "source": [
        "common_verb_df.set_index(\"Verb\").plot(secondary_y=['Freq_Feltrinelli'], kind='bar', color=['lightblue', 'royalblue'], figsize=(12,7), width=0.6)\n",
        "plt.title('Difference in frequency for Verbs between books', fontsize = 13)\n",
        "plt.rc('xtick', labelsize=10)\n",
        "plt.savefig(\"images_d\\Verb_tot.png\")\n",
        "plt.show()"
      ],
      "execution_count": 79,
      "outputs": [
        {
          "output_type": "display_data",
          "data": {
            "image/png": "[encoded data removed]",
            "text/plain": [
              "<Figure size 864x504 with 2 Axes>"
            ]
          },
          "metadata": {
            "needs_background": "light"
          }
        }
      ]
    },
    {
      "cell_type": "code",
      "metadata": {
        "colab": {
          "base_uri": "https://localhost:8080/",
          "height": 352
        },
        "id": "exOjo_vNZ0yb",
        "outputId": "b55c59e3-1406-4249-9ac4-e267054cf331"
      },
      "source": [
        "fig, ax = plt.subplots(figsize=(5,5))\n",
        "labels = (Feltrinelli.VERB_count.mean(), Treves.VERB_count.mean())\n",
        "ax.bar(\"Feltrinelli\", Feltrinelli.VERB_count.mean(), color=['lightblue'], label='Feltrinelli')\n",
        "ax.bar(\"Treves\", Treves.VERB_count.mean(), color=[ 'royalblue'], label='Treves')\n",
        "rects = ax.patches\n",
        "for rect, label in zip(rects, labels):\n",
        "    height = rect.get_height()\n",
        "    ax.text(rect.get_x() + rect.get_width() / 2, height , label,\n",
        "            ha='center', va='bottom')\n",
        "plt.title('Number of Verbs', fontsize = 13)\n",
        "print('Difference in number of Verbs between books is ', Treves.VERB_count.mean() - Feltrinelli.VERB_count.mean() )"
      ],
      "execution_count": 80,
      "outputs": [
        {
          "output_type": "stream",
          "name": "stdout",
          "text": [
            "Difference in number of Verbs between books is  -2594.0\n"
          ]
        },
        {
          "output_type": "display_data",
          "data": {
            "image/png": "[encoded data removed]",
            "text/plain": [
              "<Figure size 360x360 with 1 Axes>"
            ]
          },
          "metadata": {
            "needs_background": "light"
          }
        }
      ]
    },
    {
      "cell_type": "markdown",
      "metadata": {
        "id": "0uRUTLwFZ4GG"
      },
      "source": [
        "TOP NOUNS"
      ]
    },
    {
      "cell_type": "code",
      "metadata": {
        "id": "A7OxnfHPZ2mW"
      },
      "source": [
        "noun_counter_f = {}\n",
        "for word in all_nouns_f:\n",
        "    if word in noun_counter_f:\n",
        "        noun_counter_f[word] += 1\n",
        "    else:\n",
        "        noun_counter_f[word] = 1\n",
        "            \n",
        "top_20_noun_f = {k: v for k, v in sorted(noun_counter_f.items(), key=lambda item: item[1], reverse=True)[:20]}"
      ],
      "execution_count": 81,
      "outputs": []
    },
    {
      "cell_type": "code",
      "metadata": {
        "id": "CvOPvSnWZ5ag"
      },
      "source": [
        "noun_counter_t = {}\n",
        "for word in all_nouns_t:\n",
        "    if word in noun_counter_t:\n",
        "        noun_counter_t[word] += 1\n",
        "    else:\n",
        "        noun_counter_t[word] = 1\n",
        "            \n",
        "top_20_noun_t = {k: v for k, v in sorted(noun_counter_t.items(), key=lambda item: item[1], reverse=True)[:20]}"
      ],
      "execution_count": 82,
      "outputs": []
    },
    {
      "cell_type": "code",
      "metadata": {
        "colab": {
          "base_uri": "https://localhost:8080/",
          "height": 657
        },
        "id": "H5EAdyM3Z9U1",
        "outputId": "f995f5f7-b49e-425b-e77f-c7d0f581e018"
      },
      "source": [
        "top_noun = {\"Feltrinelli\": top_20_noun_f.keys(), \"Freq_Feltrinelli\": top_20_noun_f.values(), \"Treves\": top_20_noun_t.keys(), \"Freq_Treves\": top_20_noun_t.values()}\n",
        "top_noun = pd.DataFrame(top_noun)\n",
        "top_noun[\"R_Freq_Feltrinelli\"] = top_noun.apply(lambda x: np.round(x.Freq_Feltrinelli / top_noun.Freq_Feltrinelli.sum(), 3), axis=1)\n",
        "top_noun[\"R_Freq_Treves\"] = top_noun.apply(lambda x: np.round(x.Freq_Treves / top_noun.Freq_Treves.sum(), 3), axis=1)\n",
        "top_noun = top_noun.reindex(columns=['Feltrinelli', 'R_Freq_Feltrinelli', 'Treves', 'R_Freq_Treves'])\n",
        "top_noun"
      ],
      "execution_count": 83,
      "outputs": [
        {
          "output_type": "execute_result",
          "data": {
            "text/html": [
              "<div>\n",
              "<style scoped>\n",
              "    .dataframe tbody tr th:only-of-type {\n",
              "        vertical-align: middle;\n",
              "    }\n",
              "\n",
              "    .dataframe tbody tr th {\n",
              "        vertical-align: top;\n",
              "    }\n",
              "\n",
              "    .dataframe thead th {\n",
              "        text-align: right;\n",
              "    }\n",
              "</style>\n",
              "<table border=\"1\" class=\"dataframe\">\n",
              "  <thead>\n",
              "    <tr style=\"text-align: right;\">\n",
              "      <th></th>\n",
              "      <th>Feltrinelli</th>\n",
              "      <th>R_Freq_Feltrinelli</th>\n",
              "      <th>Treves</th>\n",
              "      <th>R_Freq_Treves</th>\n",
              "    </tr>\n",
              "  </thead>\n",
              "  <tbody>\n",
              "    <tr>\n",
              "      <th>0</th>\n",
              "      <td>signore</td>\n",
              "      <td>0.126</td>\n",
              "      <td>signor</td>\n",
              "      <td>0.125</td>\n",
              "    </tr>\n",
              "    <tr>\n",
              "      <th>1</th>\n",
              "      <td>occhi</td>\n",
              "      <td>0.094</td>\n",
              "      <td>signore</td>\n",
              "      <td>0.108</td>\n",
              "    </tr>\n",
              "    <tr>\n",
              "      <th>2</th>\n",
              "      <td>stanza</td>\n",
              "      <td>0.066</td>\n",
              "      <td>signora</td>\n",
              "      <td>0.106</td>\n",
              "    </tr>\n",
              "    <tr>\n",
              "      <th>3</th>\n",
              "      <td>cuore</td>\n",
              "      <td>0.064</td>\n",
              "      <td>occhi</td>\n",
              "      <td>0.071</td>\n",
              "    </tr>\n",
              "    <tr>\n",
              "      <th>4</th>\n",
              "      <td>voce</td>\n",
              "      <td>0.060</td>\n",
              "      <td>signorina</td>\n",
              "      <td>0.063</td>\n",
              "    </tr>\n",
              "    <tr>\n",
              "      <th>5</th>\n",
              "      <td>mano</td>\n",
              "      <td>0.059</td>\n",
              "      <td>cuore</td>\n",
              "      <td>0.055</td>\n",
              "    </tr>\n",
              "    <tr>\n",
              "      <th>6</th>\n",
              "      <td>parole</td>\n",
              "      <td>0.047</td>\n",
              "      <td>voce</td>\n",
              "      <td>0.053</td>\n",
              "    </tr>\n",
              "    <tr>\n",
              "      <th>7</th>\n",
              "      <td>fuoco</td>\n",
              "      <td>0.044</td>\n",
              "      <td>mano</td>\n",
              "      <td>0.048</td>\n",
              "    </tr>\n",
              "    <tr>\n",
              "      <th>8</th>\n",
              "      <td>notte</td>\n",
              "      <td>0.044</td>\n",
              "      <td>donna</td>\n",
              "      <td>0.039</td>\n",
              "    </tr>\n",
              "    <tr>\n",
              "      <th>9</th>\n",
              "      <td>fairfax</td>\n",
              "      <td>0.044</td>\n",
              "      <td>notte</td>\n",
              "      <td>0.037</td>\n",
              "    </tr>\n",
              "    <tr>\n",
              "      <th>10</th>\n",
              "      <td>punto</td>\n",
              "      <td>0.042</td>\n",
              "      <td>fuoco</td>\n",
              "      <td>0.037</td>\n",
              "    </tr>\n",
              "    <tr>\n",
              "      <th>11</th>\n",
              "      <td>donna</td>\n",
              "      <td>0.038</td>\n",
              "      <td>fairfax</td>\n",
              "      <td>0.033</td>\n",
              "    </tr>\n",
              "    <tr>\n",
              "      <th>12</th>\n",
              "      <td>cose</td>\n",
              "      <td>0.037</td>\n",
              "      <td>parole</td>\n",
              "      <td>0.032</td>\n",
              "    </tr>\n",
              "    <tr>\n",
              "      <th>13</th>\n",
              "      <td>signora</td>\n",
              "      <td>0.037</td>\n",
              "      <td>testa</td>\n",
              "      <td>0.030</td>\n",
              "    </tr>\n",
              "    <tr>\n",
              "      <th>14</th>\n",
              "      <td>testa</td>\n",
              "      <td>0.036</td>\n",
              "      <td>sera</td>\n",
              "      <td>0.028</td>\n",
              "    </tr>\n",
              "    <tr>\n",
              "      <th>15</th>\n",
              "      <td>sera</td>\n",
              "      <td>0.035</td>\n",
              "      <td>stanza</td>\n",
              "      <td>0.028</td>\n",
              "    </tr>\n",
              "    <tr>\n",
              "      <th>16</th>\n",
              "      <td>luce</td>\n",
              "      <td>0.035</td>\n",
              "      <td>bessie</td>\n",
              "      <td>0.027</td>\n",
              "    </tr>\n",
              "    <tr>\n",
              "      <th>17</th>\n",
              "      <td>risposta</td>\n",
              "      <td>0.033</td>\n",
              "      <td>padrone</td>\n",
              "      <td>0.027</td>\n",
              "    </tr>\n",
              "    <tr>\n",
              "      <th>18</th>\n",
              "      <td>moglie</td>\n",
              "      <td>0.030</td>\n",
              "      <td>moglie</td>\n",
              "      <td>0.027</td>\n",
              "    </tr>\n",
              "    <tr>\n",
              "      <th>19</th>\n",
              "      <td>bisogno</td>\n",
              "      <td>0.030</td>\n",
              "      <td>bisogno</td>\n",
              "      <td>0.025</td>\n",
              "    </tr>\n",
              "  </tbody>\n",
              "</table>\n",
              "</div>"
            ],
            "text/plain": [
              "   Feltrinelli  R_Freq_Feltrinelli     Treves  R_Freq_Treves\n",
              "0      signore               0.126     signor          0.125\n",
              "1        occhi               0.094    signore          0.108\n",
              "2       stanza               0.066    signora          0.106\n",
              "3        cuore               0.064      occhi          0.071\n",
              "4         voce               0.060  signorina          0.063\n",
              "5         mano               0.059      cuore          0.055\n",
              "6       parole               0.047       voce          0.053\n",
              "7        fuoco               0.044       mano          0.048\n",
              "8        notte               0.044      donna          0.039\n",
              "9      fairfax               0.044      notte          0.037\n",
              "10       punto               0.042      fuoco          0.037\n",
              "11       donna               0.038    fairfax          0.033\n",
              "12        cose               0.037     parole          0.032\n",
              "13     signora               0.037      testa          0.030\n",
              "14       testa               0.036       sera          0.028\n",
              "15        sera               0.035     stanza          0.028\n",
              "16        luce               0.035     bessie          0.027\n",
              "17    risposta               0.033    padrone          0.027\n",
              "18      moglie               0.030     moglie          0.027\n",
              "19     bisogno               0.030    bisogno          0.025"
            ]
          },
          "metadata": {},
          "execution_count": 83
        }
      ]
    },
    {
      "cell_type": "code",
      "metadata": {
        "colab": {
          "base_uri": "https://localhost:8080/",
          "height": 303
        },
        "id": "GS37sLh_Z-pP",
        "outputId": "d3ddab61-d9e0-42a5-bd78-7cf77b7d4b44"
      },
      "source": [
        "WC_Treves = WordCloud(background_color=\"white\", mask=cloud).generate_from_frequencies(top_20_noun_t)\n",
        "plt.figure(figsize=(8,5))\n",
        "plt.imshow(WC_Treves, interpolation=\"bilinear\")\n",
        "plt.axis(\"off\")\n",
        "WC_Treves.to_file(\"images_d\\WC_Treves.png\")\n",
        "plt.show()"
      ],
      "execution_count": 84,
      "outputs": [
        {
          "output_type": "display_data",
          "data": {
            "image/png": "[encoded data removed]",
            "text/plain": [
              "<Figure size 576x360 with 1 Axes>"
            ]
          },
          "metadata": {
            "needs_background": "light"
          }
        }
      ]
    },
    {
      "cell_type": "code",
      "metadata": {
        "id": "RGSPFkUraAAo"
      },
      "source": [
        "common_nouns = list(set(top_noun[\"Treves\"].values).intersection(set(top_noun[\"Feltrinelli\"].values)))\n",
        "freq_common_noun_f = [noun_counter_f[x] for x in common_nouns]\n",
        "freq_common_noun_t = [noun_counter_t[x] for x in common_nouns]"
      ],
      "execution_count": 85,
      "outputs": []
    },
    {
      "cell_type": "code",
      "metadata": {
        "colab": {
          "base_uri": "https://localhost:8080/",
          "height": 488
        },
        "id": "cpaXGh0NaBo6",
        "outputId": "7918efc1-a942-4f96-c004-7e45f9c2413d"
      },
      "source": [
        "common_noun_df = pd.DataFrame({\"Nouns\" : common_nouns, \"Freq_Feltrinelli\": freq_common_noun_f, \"Freq_Treves\": freq_common_noun_t })\n",
        "common_noun_df = common_noun_df.sort_values(by = ['Freq_Treves'], ascending = False, ignore_index=True)\n",
        "common_noun_df.set_index(\"Nouns\").plot(secondary_y=['Freq_Treves'], kind='bar', color=['lightblue', 'royalblue'], figsize=(12,7), width=0.6)\n",
        "plt.title('Difference in frequency for Nouns between books', fontsize = 13)\n",
        "plt.rc('xtick', labelsize=10)"
      ],
      "execution_count": 86,
      "outputs": [
        {
          "output_type": "display_data",
          "data": {
            "image/png": "[encoded data removed]",
            "text/plain": [
              "<Figure size 864x504 with 2 Axes>"
            ]
          },
          "metadata": {
            "needs_background": "light"
          }
        }
      ]
    },
    {
      "cell_type": "code",
      "metadata": {
        "colab": {
          "base_uri": "https://localhost:8080/",
          "height": 352
        },
        "id": "u4IPLjsRaCFH",
        "outputId": "9e1fd837-1b50-4b19-a066-d6930885d5ce"
      },
      "source": [
        "fig, ax = plt.subplots(figsize=(5,5))\n",
        "labels = (Feltrinelli.NOUN_count.mean(), Treves.NOUN_count.mean())\n",
        "ax.bar(\"Feltrinelli\", Feltrinelli.NOUN_count.mean(), color=['lightblue'], label='Feltrinelli')\n",
        "ax.bar(\"Treves\", Treves.NOUN_count.mean(), color=[ 'royalblue'], label='Treves')\n",
        "rects = ax.patches\n",
        "for rect, label in zip(rects, labels):\n",
        "    height = rect.get_height()\n",
        "    ax.text(rect.get_x() + rect.get_width() / 2, height , label,\n",
        "            ha='center', va='bottom')\n",
        "plt.title('Number of Nouns per book', fontsize = 13)\n",
        "print('Difference in number of nouns between books is ', Treves.NOUN_count.mean() - Feltrinelli.NOUN_count.mean() )"
      ],
      "execution_count": 87,
      "outputs": [
        {
          "output_type": "stream",
          "name": "stdout",
          "text": [
            "Difference in number of nouns between books is  -3794.0\n"
          ]
        },
        {
          "output_type": "display_data",
          "data": {
            "image/png": "[encoded data removed]",
            "text/plain": [
              "<Figure size 360x360 with 1 Axes>"
            ]
          },
          "metadata": {
            "needs_background": "light"
          }
        }
      ]
    },
    {
      "cell_type": "markdown",
      "metadata": {
        "id": "mqph5K2NaFzB"
      },
      "source": [
        "TOP PROPER NOUNS"
      ]
    },
    {
      "cell_type": "code",
      "metadata": {
        "id": "e5VWPzXoaEQp"
      },
      "source": [
        "propn_counter_f = {}\n",
        "for word in all_propn_f:\n",
        "    if word in propn_counter_f:\n",
        "        propn_counter_f[word] += 1\n",
        "    else:\n",
        "        propn_counter_f[word] = 1\n",
        "\n",
        "top_20_propn_f = {k: v for k, v in sorted(propn_counter_f.items(), key=lambda item: item[1], reverse=True)[:20]}"
      ],
      "execution_count": 88,
      "outputs": []
    },
    {
      "cell_type": "code",
      "metadata": {
        "id": "ER1UPxwyaEHB"
      },
      "source": [
        "propn_counter_t = {}\n",
        "for word in all_propn_t:\n",
        "    if word in propn_counter_t:\n",
        "        propn_counter_t[word] += 1\n",
        "    else:\n",
        "        propn_counter_t[word] = 1\n",
        "            \n",
        "top_20_propn_t = {k: v for k, v in sorted(propn_counter_t.items(), key=lambda item: item[1], reverse=True)[:20]}"
      ],
      "execution_count": 89,
      "outputs": []
    },
    {
      "cell_type": "code",
      "metadata": {
        "colab": {
          "base_uri": "https://localhost:8080/",
          "height": 657
        },
        "id": "n6kTABiCaKcZ",
        "outputId": "fe86ce07-3781-46a3-cfe4-a7d06bef22aa"
      },
      "source": [
        "top_propn = {\"Feltrinelli\": top_20_propn_f.keys(), \"Freq_Feltrinelli\": top_20_propn_f.values(), \"Treves\": top_20_propn_t.keys(), \"Freq_Treves\": top_20_propn_t.values()}\n",
        "top_propn = pd.DataFrame(top_propn)\n",
        "top_propn[\"R_Freq_Feltrinelli\"] = top_propn.apply(lambda x: np.round(x.Freq_Feltrinelli / top_propn.Freq_Feltrinelli.sum(), 3), axis=1)\n",
        "top_propn[\"R_Freq_Treves\"] = top_propn.apply(lambda x: np.round(x.Freq_Treves / top_propn.Freq_Treves.sum(), 3), axis=1)\n",
        "top_propn = top_propn.reindex(columns=['Feltrinelli', 'R_Freq_Feltrinelli', 'Treves', 'R_Freq_Treves'])\n",
        "top_propn"
      ],
      "execution_count": 90,
      "outputs": [
        {
          "output_type": "execute_result",
          "data": {
            "text/html": [
              "<div>\n",
              "<style scoped>\n",
              "    .dataframe tbody tr th:only-of-type {\n",
              "        vertical-align: middle;\n",
              "    }\n",
              "\n",
              "    .dataframe tbody tr th {\n",
              "        vertical-align: top;\n",
              "    }\n",
              "\n",
              "    .dataframe thead th {\n",
              "        text-align: right;\n",
              "    }\n",
              "</style>\n",
              "<table border=\"1\" class=\"dataframe\">\n",
              "  <thead>\n",
              "    <tr style=\"text-align: right;\">\n",
              "      <th></th>\n",
              "      <th>Feltrinelli</th>\n",
              "      <th>R_Freq_Feltrinelli</th>\n",
              "      <th>Treves</th>\n",
              "      <th>R_Freq_Treves</th>\n",
              "    </tr>\n",
              "  </thead>\n",
              "  <tbody>\n",
              "    <tr>\n",
              "      <th>0</th>\n",
              "      <td>rochester</td>\n",
              "      <td>0.292</td>\n",
              "      <td>rochester</td>\n",
              "      <td>0.327</td>\n",
              "    </tr>\n",
              "    <tr>\n",
              "      <th>1</th>\n",
              "      <td>john</td>\n",
              "      <td>0.168</td>\n",
              "      <td>signor</td>\n",
              "      <td>0.136</td>\n",
              "    </tr>\n",
              "    <tr>\n",
              "      <th>2</th>\n",
              "      <td>mary</td>\n",
              "      <td>0.078</td>\n",
              "      <td>adele</td>\n",
              "      <td>0.064</td>\n",
              "    </tr>\n",
              "    <tr>\n",
              "      <th>3</th>\n",
              "      <td>reed</td>\n",
              "      <td>0.068</td>\n",
              "      <td>camera</td>\n",
              "      <td>0.058</td>\n",
              "    </tr>\n",
              "    <tr>\n",
              "      <th>4</th>\n",
              "      <td>dio</td>\n",
              "      <td>0.052</td>\n",
              "      <td>john</td>\n",
              "      <td>0.052</td>\n",
              "    </tr>\n",
              "    <tr>\n",
              "      <th>5</th>\n",
              "      <td>jane</td>\n",
              "      <td>0.042</td>\n",
              "      <td>maria</td>\n",
              "      <td>0.052</td>\n",
              "    </tr>\n",
              "    <tr>\n",
              "      <th>6</th>\n",
              "      <td>mrs</td>\n",
              "      <td>0.034</td>\n",
              "      <td>jane</td>\n",
              "      <td>0.036</td>\n",
              "    </tr>\n",
              "    <tr>\n",
              "      <th>7</th>\n",
              "      <td>helen</td>\n",
              "      <td>0.034</td>\n",
              "      <td>reed</td>\n",
              "      <td>0.033</td>\n",
              "    </tr>\n",
              "    <tr>\n",
              "      <th>8</th>\n",
              "      <td>hall</td>\n",
              "      <td>0.027</td>\n",
              "      <td>dio</td>\n",
              "      <td>0.030</td>\n",
              "    </tr>\n",
              "    <tr>\n",
              "      <th>9</th>\n",
              "      <td>camera</td>\n",
              "      <td>0.024</td>\n",
              "      <td>iddio</td>\n",
              "      <td>0.029</td>\n",
              "    </tr>\n",
              "    <tr>\n",
              "      <th>10</th>\n",
              "      <td>eshton</td>\n",
              "      <td>0.023</td>\n",
              "      <td>villa</td>\n",
              "      <td>0.027</td>\n",
              "    </tr>\n",
              "    <tr>\n",
              "      <th>11</th>\n",
              "      <td>lowood</td>\n",
              "      <td>0.022</td>\n",
              "      <td>lowood</td>\n",
              "      <td>0.025</td>\n",
              "    </tr>\n",
              "    <tr>\n",
              "      <th>12</th>\n",
              "      <td>adèle</td>\n",
              "      <td>0.021</td>\n",
              "      <td>eshton</td>\n",
              "      <td>0.022</td>\n",
              "    </tr>\n",
              "    <tr>\n",
              "      <th>13</th>\n",
              "      <td>morton</td>\n",
              "      <td>0.019</td>\n",
              "      <td>anna</td>\n",
              "      <td>0.020</td>\n",
              "    </tr>\n",
              "    <tr>\n",
              "      <th>14</th>\n",
              "      <td>mr</td>\n",
              "      <td>0.018</td>\n",
              "      <td>leah</td>\n",
              "      <td>0.019</td>\n",
              "    </tr>\n",
              "    <tr>\n",
              "      <th>15</th>\n",
              "      <td>thornfield</td>\n",
              "      <td>0.017</td>\n",
              "      <td>londra</td>\n",
              "      <td>0.016</td>\n",
              "    </tr>\n",
              "    <tr>\n",
              "      <th>16</th>\n",
              "      <td>cercai</td>\n",
              "      <td>0.015</td>\n",
              "      <td>morton</td>\n",
              "      <td>0.015</td>\n",
              "    </tr>\n",
              "    <tr>\n",
              "      <th>17</th>\n",
              "      <td>temple</td>\n",
              "      <td>0.015</td>\n",
              "      <td>rumore</td>\n",
              "      <td>0.014</td>\n",
              "    </tr>\n",
              "    <tr>\n",
              "      <th>18</th>\n",
              "      <td>burns</td>\n",
              "      <td>0.015</td>\n",
              "      <td>cercai</td>\n",
              "      <td>0.014</td>\n",
              "    </tr>\n",
              "    <tr>\n",
              "      <th>19</th>\n",
              "      <td>londra</td>\n",
              "      <td>0.015</td>\n",
              "      <td>signorina</td>\n",
              "      <td>0.012</td>\n",
              "    </tr>\n",
              "  </tbody>\n",
              "</table>\n",
              "</div>"
            ],
            "text/plain": [
              "   Feltrinelli  R_Freq_Feltrinelli     Treves  R_Freq_Treves\n",
              "0    rochester               0.292  rochester          0.327\n",
              "1         john               0.168     signor          0.136\n",
              "2         mary               0.078      adele          0.064\n",
              "3         reed               0.068     camera          0.058\n",
              "4          dio               0.052       john          0.052\n",
              "5         jane               0.042      maria          0.052\n",
              "6          mrs               0.034       jane          0.036\n",
              "7        helen               0.034       reed          0.033\n",
              "8         hall               0.027        dio          0.030\n",
              "9       camera               0.024      iddio          0.029\n",
              "10      eshton               0.023      villa          0.027\n",
              "11      lowood               0.022     lowood          0.025\n",
              "12       adèle               0.021     eshton          0.022\n",
              "13      morton               0.019       anna          0.020\n",
              "14          mr               0.018       leah          0.019\n",
              "15  thornfield               0.017     londra          0.016\n",
              "16      cercai               0.015     morton          0.015\n",
              "17      temple               0.015     rumore          0.014\n",
              "18       burns               0.015     cercai          0.014\n",
              "19      londra               0.015  signorina          0.012"
            ]
          },
          "metadata": {},
          "execution_count": 90
        }
      ]
    },
    {
      "cell_type": "code",
      "metadata": {
        "colab": {
          "base_uri": "https://localhost:8080/",
          "height": 303
        },
        "id": "AOcPNyNwaMCi",
        "outputId": "6443e8df-2481-4169-9d35-cb6b2611a899"
      },
      "source": [
        "WC_Treves = WordCloud(background_color=\"white\", mask=cloud).generate_from_frequencies(top_20_propn_t)\n",
        "plt.figure(figsize=(8,5))\n",
        "plt.imshow(WC_Treves, interpolation=\"bilinear\")\n",
        "plt.axis(\"off\")\n",
        "WC_Treves.to_file(\"images_d\\WC_Treves.png\")\n",
        "plt.show()"
      ],
      "execution_count": 91,
      "outputs": [
        {
          "output_type": "display_data",
          "data": {
            "image/png": "[encoded data removed]",
            "text/plain": [
              "<Figure size 576x360 with 1 Axes>"
            ]
          },
          "metadata": {
            "needs_background": "light"
          }
        }
      ]
    },
    {
      "cell_type": "code",
      "metadata": {
        "colab": {
          "base_uri": "https://localhost:8080/",
          "height": 657
        },
        "id": "AUGiYGFYaNjx",
        "outputId": "18565894-abcd-4fc9-d29c-1c68552fc877"
      },
      "source": [
        "top_propn = {\"Feltrinelli\": top_20_propn_f.keys(), \"Freq_Feltrinelli\": top_20_propn_f.values(), \"Treves\": top_20_propn_t.keys(), \"Freq_Treves\": top_20_propn_t.values()}\n",
        "top_propn = pd.DataFrame(top_propn)\n",
        "top_propn[\"R_Freq_Feltrinelli\"] = top_propn.apply(lambda x: np.round(x.Freq_Feltrinelli / top_propn.Freq_Feltrinelli.sum(), 3), axis=1)\n",
        "top_propn[\"R_Freq_Treves\"] = top_propn.apply(lambda x: np.round(x.Freq_Treves / top_propn.Freq_Treves.sum(), 3), axis=1)\n",
        "top_propn = top_propn.reindex(columns=['Feltrinelli', 'R_Freq_Feltrinelli', 'Treves', 'R_Freq_Treves'])\n",
        "top_propn"
      ],
      "execution_count": 92,
      "outputs": [
        {
          "output_type": "execute_result",
          "data": {
            "text/html": [
              "<div>\n",
              "<style scoped>\n",
              "    .dataframe tbody tr th:only-of-type {\n",
              "        vertical-align: middle;\n",
              "    }\n",
              "\n",
              "    .dataframe tbody tr th {\n",
              "        vertical-align: top;\n",
              "    }\n",
              "\n",
              "    .dataframe thead th {\n",
              "        text-align: right;\n",
              "    }\n",
              "</style>\n",
              "<table border=\"1\" class=\"dataframe\">\n",
              "  <thead>\n",
              "    <tr style=\"text-align: right;\">\n",
              "      <th></th>\n",
              "      <th>Feltrinelli</th>\n",
              "      <th>R_Freq_Feltrinelli</th>\n",
              "      <th>Treves</th>\n",
              "      <th>R_Freq_Treves</th>\n",
              "    </tr>\n",
              "  </thead>\n",
              "  <tbody>\n",
              "    <tr>\n",
              "      <th>0</th>\n",
              "      <td>rochester</td>\n",
              "      <td>0.292</td>\n",
              "      <td>rochester</td>\n",
              "      <td>0.327</td>\n",
              "    </tr>\n",
              "    <tr>\n",
              "      <th>1</th>\n",
              "      <td>john</td>\n",
              "      <td>0.168</td>\n",
              "      <td>signor</td>\n",
              "      <td>0.136</td>\n",
              "    </tr>\n",
              "    <tr>\n",
              "      <th>2</th>\n",
              "      <td>mary</td>\n",
              "      <td>0.078</td>\n",
              "      <td>adele</td>\n",
              "      <td>0.064</td>\n",
              "    </tr>\n",
              "    <tr>\n",
              "      <th>3</th>\n",
              "      <td>reed</td>\n",
              "      <td>0.068</td>\n",
              "      <td>camera</td>\n",
              "      <td>0.058</td>\n",
              "    </tr>\n",
              "    <tr>\n",
              "      <th>4</th>\n",
              "      <td>dio</td>\n",
              "      <td>0.052</td>\n",
              "      <td>john</td>\n",
              "      <td>0.052</td>\n",
              "    </tr>\n",
              "    <tr>\n",
              "      <th>5</th>\n",
              "      <td>jane</td>\n",
              "      <td>0.042</td>\n",
              "      <td>maria</td>\n",
              "      <td>0.052</td>\n",
              "    </tr>\n",
              "    <tr>\n",
              "      <th>6</th>\n",
              "      <td>mrs</td>\n",
              "      <td>0.034</td>\n",
              "      <td>jane</td>\n",
              "      <td>0.036</td>\n",
              "    </tr>\n",
              "    <tr>\n",
              "      <th>7</th>\n",
              "      <td>helen</td>\n",
              "      <td>0.034</td>\n",
              "      <td>reed</td>\n",
              "      <td>0.033</td>\n",
              "    </tr>\n",
              "    <tr>\n",
              "      <th>8</th>\n",
              "      <td>hall</td>\n",
              "      <td>0.027</td>\n",
              "      <td>dio</td>\n",
              "      <td>0.030</td>\n",
              "    </tr>\n",
              "    <tr>\n",
              "      <th>9</th>\n",
              "      <td>camera</td>\n",
              "      <td>0.024</td>\n",
              "      <td>iddio</td>\n",
              "      <td>0.029</td>\n",
              "    </tr>\n",
              "    <tr>\n",
              "      <th>10</th>\n",
              "      <td>eshton</td>\n",
              "      <td>0.023</td>\n",
              "      <td>villa</td>\n",
              "      <td>0.027</td>\n",
              "    </tr>\n",
              "    <tr>\n",
              "      <th>11</th>\n",
              "      <td>lowood</td>\n",
              "      <td>0.022</td>\n",
              "      <td>lowood</td>\n",
              "      <td>0.025</td>\n",
              "    </tr>\n",
              "    <tr>\n",
              "      <th>12</th>\n",
              "      <td>adèle</td>\n",
              "      <td>0.021</td>\n",
              "      <td>eshton</td>\n",
              "      <td>0.022</td>\n",
              "    </tr>\n",
              "    <tr>\n",
              "      <th>13</th>\n",
              "      <td>morton</td>\n",
              "      <td>0.019</td>\n",
              "      <td>anna</td>\n",
              "      <td>0.020</td>\n",
              "    </tr>\n",
              "    <tr>\n",
              "      <th>14</th>\n",
              "      <td>mr</td>\n",
              "      <td>0.018</td>\n",
              "      <td>leah</td>\n",
              "      <td>0.019</td>\n",
              "    </tr>\n",
              "    <tr>\n",
              "      <th>15</th>\n",
              "      <td>thornfield</td>\n",
              "      <td>0.017</td>\n",
              "      <td>londra</td>\n",
              "      <td>0.016</td>\n",
              "    </tr>\n",
              "    <tr>\n",
              "      <th>16</th>\n",
              "      <td>cercai</td>\n",
              "      <td>0.015</td>\n",
              "      <td>morton</td>\n",
              "      <td>0.015</td>\n",
              "    </tr>\n",
              "    <tr>\n",
              "      <th>17</th>\n",
              "      <td>temple</td>\n",
              "      <td>0.015</td>\n",
              "      <td>rumore</td>\n",
              "      <td>0.014</td>\n",
              "    </tr>\n",
              "    <tr>\n",
              "      <th>18</th>\n",
              "      <td>burns</td>\n",
              "      <td>0.015</td>\n",
              "      <td>cercai</td>\n",
              "      <td>0.014</td>\n",
              "    </tr>\n",
              "    <tr>\n",
              "      <th>19</th>\n",
              "      <td>londra</td>\n",
              "      <td>0.015</td>\n",
              "      <td>signorina</td>\n",
              "      <td>0.012</td>\n",
              "    </tr>\n",
              "  </tbody>\n",
              "</table>\n",
              "</div>"
            ],
            "text/plain": [
              "   Feltrinelli  R_Freq_Feltrinelli     Treves  R_Freq_Treves\n",
              "0    rochester               0.292  rochester          0.327\n",
              "1         john               0.168     signor          0.136\n",
              "2         mary               0.078      adele          0.064\n",
              "3         reed               0.068     camera          0.058\n",
              "4          dio               0.052       john          0.052\n",
              "5         jane               0.042      maria          0.052\n",
              "6          mrs               0.034       jane          0.036\n",
              "7        helen               0.034       reed          0.033\n",
              "8         hall               0.027        dio          0.030\n",
              "9       camera               0.024      iddio          0.029\n",
              "10      eshton               0.023      villa          0.027\n",
              "11      lowood               0.022     lowood          0.025\n",
              "12       adèle               0.021     eshton          0.022\n",
              "13      morton               0.019       anna          0.020\n",
              "14          mr               0.018       leah          0.019\n",
              "15  thornfield               0.017     londra          0.016\n",
              "16      cercai               0.015     morton          0.015\n",
              "17      temple               0.015     rumore          0.014\n",
              "18       burns               0.015     cercai          0.014\n",
              "19      londra               0.015  signorina          0.012"
            ]
          },
          "metadata": {},
          "execution_count": 92
        }
      ]
    },
    {
      "cell_type": "code",
      "metadata": {
        "id": "o3TH0upUaPJS"
      },
      "source": [
        "common_propn = list(set(top_propn[\"Treves\"].values).intersection(set(top_propn[\"Feltrinelli\"].values)))\n",
        "freq_common_propn_f = [propn_counter_f[x] for x in common_propn]\n",
        "freq_common_propn_t = [propn_counter_t[x] for x in common_propn]\n",
        "common_propn_df = pd.DataFrame({\"Proper Nouns\" : common_propn, \"Freq_Feltrinelli\": freq_common_propn_f, \"Freq_Treves\": freq_common_propn_t })\n",
        "common_propn_df = common_propn_df.sort_values(by = ['Freq_Treves'], ascending = False, ignore_index=True)"
      ],
      "execution_count": 93,
      "outputs": []
    },
    {
      "cell_type": "code",
      "metadata": {
        "colab": {
          "base_uri": "https://localhost:8080/",
          "height": 496
        },
        "id": "HVSJSXZpaQl0",
        "outputId": "90fbe928-270f-410b-f846-15d7796425a9"
      },
      "source": [
        "common_propn_df.set_index(\"Proper Nouns\").plot(secondary_y=['Freq_Treves'], kind='bar', color=['lightblue', 'royalblue'], figsize=(12,7), width=0.6)\n",
        "plt.title('Difference in frequency for Proper Nouns between books', fontsize = 13)\n",
        "plt.rc('xtick', labelsize=10)\n",
        "plt.savefig(\"images_d\\Propn_tot_Treves.png\")\n",
        "plt.show()"
      ],
      "execution_count": 94,
      "outputs": [
        {
          "output_type": "display_data",
          "data": {
            "image/png": "[encoded data removed]",
            "text/plain": [
              "<Figure size 864x504 with 2 Axes>"
            ]
          },
          "metadata": {
            "needs_background": "light"
          }
        }
      ]
    },
    {
      "cell_type": "code",
      "metadata": {
        "colab": {
          "base_uri": "https://localhost:8080/",
          "height": 352
        },
        "id": "rGdeHPaNaSBD",
        "outputId": "4c120551-208a-4e08-f995-4f43b9860769"
      },
      "source": [
        "fig, ax = plt.subplots(figsize=(5,5))\n",
        "labels = (Feltrinelli.PROPN_count.mean(), Treves.PROPN_count.mean())\n",
        "ax.bar(\"Feltrinelli\", Feltrinelli.PROPN_count.mean(), color=['lightblue'], label='Feltrinelli')\n",
        "ax.bar(\"Treves\", Treves.PROPN_count.mean(), color=[ 'royalblue'], label='Treves')\n",
        "rects = ax.patches\n",
        "for rect, label in zip(rects, labels):\n",
        "    height = rect.get_height()\n",
        "    ax.text(rect.get_x() + rect.get_width() / 2, height , label,\n",
        "            ha='center', va='bottom')\n",
        "plt.title('Number of Proper Nouns per books', fontsize = 13)\n",
        "print('Difference in number of Proper Nouns between books is ', Treves.PROPN_count.mean() - Feltrinelli.PROPN_count.mean() )"
      ],
      "execution_count": 95,
      "outputs": [
        {
          "output_type": "stream",
          "name": "stdout",
          "text": [
            "Difference in number of Proper Nouns between books is  -170.0\n"
          ]
        },
        {
          "output_type": "display_data",
          "data": {
            "image/png": "[encoded data removed]",
            "text/plain": [
              "<Figure size 360x360 with 1 Axes>"
            ]
          },
          "metadata": {
            "needs_background": "light"
          }
        }
      ]
    },
    {
      "cell_type": "code",
      "metadata": {
        "colab": {
          "base_uri": "https://localhost:8080/",
          "height": 170
        },
        "id": "uZnQFhH_Ze0J",
        "outputId": "64778c75-4c7a-4ab9-b796-c80b89e7008e"
      },
      "source": [
        "x1 = pd.Series([Feltrinelli.ADJ_count.mean(),Feltrinelli.NOUN_count.mean(), Feltrinelli.PROPN_count.mean(), Feltrinelli.VERB_count.mean()], index =['Adjectives', 'Nouns', 'Proper Nouns', 'Verbs'])\n",
        "x2 = pd.Series([Treves.ADJ_count.mean(), Treves.NOUN_count.mean(), Treves.PROPN_count.mean(), Treves.VERB_count.mean()], index =['Adjectives', 'Nouns', 'Proper Nouns', 'Verbs'])            \n",
        "x3 = pd.Series([Treves.ADJ_count.mean()-Feltrinelli.ADJ_count.mean(), Treves.NOUN_count.mean()-Feltrinelli.NOUN_count.mean(), Treves.PROPN_count.mean()-Feltrinelli.PROPN_count.mean(), Treves.VERB_count.mean()-Feltrinelli.VERB_count.mean()], index =['Adjectives', 'Nouns', 'Proper Nouns', 'Verbs'])            \n",
        "X = {'Feltrinelli' : x1, 'Treves': x2 , 'Difference' : x3}\n",
        "diff_pos = pd.DataFrame(X)\n",
        "diff_pos"
      ],
      "execution_count": 96,
      "outputs": [
        {
          "output_type": "execute_result",
          "data": {
            "text/html": [
              "<div>\n",
              "<style scoped>\n",
              "    .dataframe tbody tr th:only-of-type {\n",
              "        vertical-align: middle;\n",
              "    }\n",
              "\n",
              "    .dataframe tbody tr th {\n",
              "        vertical-align: top;\n",
              "    }\n",
              "\n",
              "    .dataframe thead th {\n",
              "        text-align: right;\n",
              "    }\n",
              "</style>\n",
              "<table border=\"1\" class=\"dataframe\">\n",
              "  <thead>\n",
              "    <tr style=\"text-align: right;\">\n",
              "      <th></th>\n",
              "      <th>Feltrinelli</th>\n",
              "      <th>Treves</th>\n",
              "      <th>Difference</th>\n",
              "    </tr>\n",
              "  </thead>\n",
              "  <tbody>\n",
              "    <tr>\n",
              "      <th>Adjectives</th>\n",
              "      <td>17889.0</td>\n",
              "      <td>14466.0</td>\n",
              "      <td>-3423.0</td>\n",
              "    </tr>\n",
              "    <tr>\n",
              "      <th>Nouns</th>\n",
              "      <td>22943.0</td>\n",
              "      <td>19149.0</td>\n",
              "      <td>-3794.0</td>\n",
              "    </tr>\n",
              "    <tr>\n",
              "      <th>Proper Nouns</th>\n",
              "      <td>2644.0</td>\n",
              "      <td>2474.0</td>\n",
              "      <td>-170.0</td>\n",
              "    </tr>\n",
              "    <tr>\n",
              "      <th>Verbs</th>\n",
              "      <td>20351.0</td>\n",
              "      <td>17757.0</td>\n",
              "      <td>-2594.0</td>\n",
              "    </tr>\n",
              "  </tbody>\n",
              "</table>\n",
              "</div>"
            ],
            "text/plain": [
              "              Feltrinelli   Treves  Difference\n",
              "Adjectives        17889.0  14466.0     -3423.0\n",
              "Nouns             22943.0  19149.0     -3794.0\n",
              "Proper Nouns       2644.0   2474.0      -170.0\n",
              "Verbs             20351.0  17757.0     -2594.0"
            ]
          },
          "metadata": {},
          "execution_count": 96
        }
      ]
    },
    {
      "cell_type": "code",
      "metadata": {
        "id": "3N9X65wrZTD8"
      },
      "source": [
        ""
      ],
      "execution_count": 96,
      "outputs": []
    }
  ]
}