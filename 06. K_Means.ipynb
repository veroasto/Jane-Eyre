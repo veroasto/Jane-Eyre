{
  "nbformat": 4,
  "nbformat_minor": 0,
  "metadata": {
    "colab": {
      "name": "K- Means.ipynb",
      "provenance": [],
      "collapsed_sections": []
    },
    "kernelspec": {
      "display_name": "Python 3",
      "name": "python3"
    },
    "language_info": {
      "name": "python"
    }
  },
  "cells": [
    {
      "cell_type": "code",
      "metadata": {
        "colab": {
          "base_uri": "https://localhost:8080/"
        },
        "id": "CqDfudpg9BIF",
        "outputId": "f012f0db-85a7-481d-a803-2975c7177fef"
      },
      "source": [
        "import gensim\n",
        "from gensim.models import Word2Vec\n",
        "from gensim.models import Doc2Vec\n",
        "import numpy as np\n",
        "import tensorflow as tf\n",
        "from tensorflow import keras\n",
        "\n",
        "import gensim\n",
        "from gensim.models import Word2Vec\n",
        "from gensim.models import Doc2Vec\n",
        "import numpy as np\n",
        "import tensorflow as tf\n",
        "from tensorflow import keras\n",
        "import nltk\n",
        "from nltk.tokenize import sent_tokenize, word_tokenize\n",
        "nltk.download('punkt')\n",
        "import string\n",
        "\n",
        "# Clustering\n",
        "from sklearn.feature_extraction.text import TfidfVectorizer\n",
        "from sklearn.cluster import KMeans\n",
        "from sklearn.cluster import AgglomerativeClustering"
      ],
      "execution_count": null,
      "outputs": [
        {
          "output_type": "stream",
          "name": "stdout",
          "text": [
            "[nltk_data] Downloading package punkt to /root/nltk_data...\n",
            "[nltk_data]   Unzipping tokenizers/punkt.zip.\n"
          ]
        }
      ]
    },
    {
      "cell_type": "code",
      "metadata": {
        "colab": {
          "base_uri": "https://localhost:8080/",
          "height": 411
        },
        "id": "WiyK2a-I9Jqm",
        "outputId": "f2c68a8f-9c6c-4e9c-8873-6031d5b34acc"
      },
      "source": [
        "import pandas as pd\n",
        "df= pd.read_csv('Lemmi.csv')\n",
        "df"
      ],
      "execution_count": null,
      "outputs": [
        {
          "output_type": "execute_result",
          "data": {
            "text/html": [
              "<div>\n",
              "<style scoped>\n",
              "    .dataframe tbody tr th:only-of-type {\n",
              "        vertical-align: middle;\n",
              "    }\n",
              "\n",
              "    .dataframe tbody tr th {\n",
              "        vertical-align: top;\n",
              "    }\n",
              "\n",
              "    .dataframe thead th {\n",
              "        text-align: right;\n",
              "    }\n",
              "</style>\n",
              "<table border=\"1\" class=\"dataframe\">\n",
              "  <thead>\n",
              "    <tr style=\"text-align: right;\">\n",
              "      <th></th>\n",
              "      <th>Unnamed: 0</th>\n",
              "      <th>text</th>\n",
              "      <th>documents_cleaned</th>\n",
              "    </tr>\n",
              "  </thead>\n",
              "  <tbody>\n",
              "    <tr>\n",
              "      <th>0</th>\n",
              "      <td>0</td>\n",
              "      <td>in quello giorno essere impossibile passeggiare .</td>\n",
              "      <td>['in', 'quello', 'giorno', 'essere', 'impossib...</td>\n",
              "    </tr>\n",
              "    <tr>\n",
              "      <th>1</th>\n",
              "      <td>1</td>\n",
              "      <td>il mattina avere errare per uno ora nel bosche...</td>\n",
              "      <td>['il', 'mattina', 'avere', 'errare', 'per', 'u...</td>\n",
              "    </tr>\n",
              "    <tr>\n",
              "      <th>2</th>\n",
              "      <td>2</td>\n",
              "      <td>ne essere contentare .</td>\n",
              "      <td>['ne', 'essere', 'contentare', '.']</td>\n",
              "    </tr>\n",
              "    <tr>\n",
              "      <th>3</th>\n",
              "      <td>3</td>\n",
              "      <td>non mi essere mai piacere il lungo passeggiate...</td>\n",
              "      <td>['non', 'mi', 'essere', 'mai', 'piacere', 'il'...</td>\n",
              "    </tr>\n",
              "    <tr>\n",
              "      <th>4</th>\n",
              "      <td>4</td>\n",
              "      <td>eliza , John e georgiana essere aggruppare in ...</td>\n",
              "      <td>['eliza', ',', 'John', 'e', 'georgiana', 'esse...</td>\n",
              "    </tr>\n",
              "    <tr>\n",
              "      <th>...</th>\n",
              "      <td>...</td>\n",
              "      <td>...</td>\n",
              "      <td>...</td>\n",
              "    </tr>\n",
              "    <tr>\n",
              "      <th>19797</th>\n",
              "      <td>19797</td>\n",
              "      <td>il paura della morte non offuscare il ultimo o...</td>\n",
              "      <td>['il', 'paura', 'della', 'morte', 'non', 'offu...</td>\n",
              "    </tr>\n",
              "    <tr>\n",
              "      <th>19798</th>\n",
              "      <td>19798</td>\n",
              "      <td>il suo stesso parola ne essere pegno : \\n\\n \" ...</td>\n",
              "      <td>['il', 'suo', 'stesso', 'parola', 'ne', 'esser...</td>\n",
              "    </tr>\n",
              "    <tr>\n",
              "      <th>19799</th>\n",
              "      <td>19799</td>\n",
              "      <td>ogni giorno mi annunciare con sempre grande ch...</td>\n",
              "      <td>['ogni', 'giorno', 'mi', 'annunciare', 'con', ...</td>\n",
              "    </tr>\n",
              "    <tr>\n",
              "      <th>19800</th>\n",
              "      <td>19800</td>\n",
              "      <td>, e di ora in ora io rispondere con fervore cr...</td>\n",
              "      <td>[',', 'e', 'di', 'ora', 'in', 'ora', 'io', 'ri...</td>\n",
              "    </tr>\n",
              "    <tr>\n",
              "      <th>19801</th>\n",
              "      <td>19801</td>\n",
              "      <td>\" .</td>\n",
              "      <td>['``', '.']</td>\n",
              "    </tr>\n",
              "  </tbody>\n",
              "</table>\n",
              "<p>19802 rows × 3 columns</p>\n",
              "</div>"
            ],
            "text/plain": [
              "       Unnamed: 0  ...                                  documents_cleaned\n",
              "0               0  ...  ['in', 'quello', 'giorno', 'essere', 'impossib...\n",
              "1               1  ...  ['il', 'mattina', 'avere', 'errare', 'per', 'u...\n",
              "2               2  ...                ['ne', 'essere', 'contentare', '.']\n",
              "3               3  ...  ['non', 'mi', 'essere', 'mai', 'piacere', 'il'...\n",
              "4               4  ...  ['eliza', ',', 'John', 'e', 'georgiana', 'esse...\n",
              "...           ...  ...                                                ...\n",
              "19797       19797  ...  ['il', 'paura', 'della', 'morte', 'non', 'offu...\n",
              "19798       19798  ...  ['il', 'suo', 'stesso', 'parola', 'ne', 'esser...\n",
              "19799       19799  ...  ['ogni', 'giorno', 'mi', 'annunciare', 'con', ...\n",
              "19800       19800  ...  [',', 'e', 'di', 'ora', 'in', 'ora', 'io', 'ri...\n",
              "19801       19801  ...                                        ['``', '.']\n",
              "\n",
              "[19802 rows x 3 columns]"
            ]
          },
          "metadata": {},
          "execution_count": 2
        }
      ]
    },
    {
      "cell_type": "code",
      "metadata": {
        "id": "WPIIALKnThlq"
      },
      "source": [
        "from spacy.lang.it.stop_words import STOP_WORDS\n",
        "def clean(x):\n",
        "  stop = STOP_WORDS\n",
        "  words  = [w for w in word_tokenize(x.lower()) if w.isalpha() and w not in stop and w not in string.punctuation]\n",
        "  return \" \".join(words)"
      ],
      "execution_count": null,
      "outputs": []
    },
    {
      "cell_type": "code",
      "metadata": {
        "id": "CbtuoIcbRUwt"
      },
      "source": [
        "df['clean'] = df['text'].apply(clean)"
      ],
      "execution_count": null,
      "outputs": []
    },
    {
      "cell_type": "code",
      "metadata": {
        "id": "Ep7DcSsF9O6z"
      },
      "source": [
        "df.dropna(subset=['clean'], inplace=True)"
      ],
      "execution_count": null,
      "outputs": []
    },
    {
      "cell_type": "code",
      "metadata": {
        "id": "Rh5I05RKfG0R"
      },
      "source": [
        "text = df['clean']"
      ],
      "execution_count": null,
      "outputs": []
    },
    {
      "cell_type": "code",
      "metadata": {
        "colab": {
          "base_uri": "https://localhost:8080/"
        },
        "id": "_i_qhcN4TgxS",
        "outputId": "5e37dcde-51ad-4e38-d56c-6be5dec59288"
      },
      "source": [
        "text"
      ],
      "execution_count": null,
      "outputs": [
        {
          "output_type": "execute_result",
          "data": {
            "text/plain": [
              "0                                  impossibile passeggiare\n",
              "1        mattina errare boschetto spogliare foglia pran...\n",
              "2                                               contentare\n",
              "3        piacere passeggiate freddo penoso tornar notte...\n",
              "4        eliza john e georgiana aggruppare salotto atto...\n",
              "                               ...                        \n",
              "19797    paura morte offuscare st john mente nube cuore...\n",
              "19798                       parola pegno signore avvertire\n",
              "19799                annunciare chiarezza sì venire presto\n",
              "19800    e rispondere fervore crescente amen venire sig...\n",
              "19801                                                     \n",
              "Name: clean, Length: 19802, dtype: object"
            ]
          },
          "metadata": {},
          "execution_count": 37
        }
      ]
    },
    {
      "cell_type": "markdown",
      "metadata": {
        "id": "w-iLbBUx5axG"
      },
      "source": [
        "#KMEANS USING TF IDF"
      ]
    },
    {
      "cell_type": "code",
      "metadata": {
        "colab": {
          "base_uri": "https://localhost:8080/"
        },
        "id": "Nl-zSosYoqEc",
        "outputId": "dc9cb227-ae34-4c30-af53-dbc09766c97f"
      },
      "source": [
        "#tfidf vector initililization\n",
        "from sklearn.feature_extraction.text import TfidfVectorizer\n",
        "tfidf_vect = TfidfVectorizer()\n",
        "tfidf = tfidf_vect.fit_transform(text.values)\n",
        "tfidf.shape"
      ],
      "execution_count": null,
      "outputs": [
        {
          "output_type": "execute_result",
          "data": {
            "text/plain": [
              "(19802, 14128)"
            ]
          },
          "metadata": {},
          "execution_count": 60
        }
      ]
    },
    {
      "cell_type": "code",
      "metadata": {
        "id": "yetIDuv2YrtB"
      },
      "source": [
        "distortions = []\n",
        "K = range(1,10)\n",
        "for k in K:\n",
        "    kmeanModel = KMeans(n_clusters=k)\n",
        "    kmeanModel.fit(tfidf)\n",
        "    distortions.append(kmeanModel.inertia_)"
      ],
      "execution_count": null,
      "outputs": []
    },
    {
      "cell_type": "code",
      "metadata": {
        "colab": {
          "base_uri": "https://localhost:8080/",
          "height": 512
        },
        "id": "tI0PVj3IYvs4",
        "outputId": "47484506-2b39-4eee-f4ce-5bf5b5136a60"
      },
      "source": [
        "plt.figure(figsize=(16,8))\n",
        "plt.plot(K, distortions, 'bx-')\n",
        "plt.xlabel('k')\n",
        "plt.ylabel('Distortion')\n",
        "plt.title('The Elbow Method showing the optimal k')\n",
        "plt.show()"
      ],
      "execution_count": null,
      "outputs": [
        {
          "output_type": "display_data",
          "data": {
            "image/png": "[encoded data removed]",
            "text/plain": [
              "<Figure size 1152x576 with 1 Axes>"
            ]
          },
          "metadata": {
            "needs_background": "light"
          }
        }
      ]
    },
    {
      "cell_type": "code",
      "metadata": {
        "colab": {
          "base_uri": "https://localhost:8080/"
        },
        "id": "dW2aBDBm5hFo",
        "outputId": "2cf49993-34eb-4856-d2b6-201be4ea69dc"
      },
      "source": [
        "from sklearn.cluster import KMeans\n",
        "model_tf = KMeans(n_clusters = 5, n_jobs = -1,random_state=99)\n",
        "model_tf.fit(tfidf)"
      ],
      "execution_count": null,
      "outputs": [
        {
          "output_type": "execute_result",
          "data": {
            "text/plain": [
              "KMeans(algorithm='auto', copy_x=True, init='k-means++', max_iter=300,\n",
              "       n_clusters=5, n_init=10, n_jobs=-1, precompute_distances='auto',\n",
              "       random_state=99, tol=0.0001, verbose=0)"
            ]
          },
          "metadata": {},
          "execution_count": 83
        }
      ]
    },
    {
      "cell_type": "code",
      "metadata": {
        "id": "SacDcqueop9d"
      },
      "source": [
        "labels_tf = model_tf.labels_\n",
        "cluster_center_tf=model_tf.cluster_centers_"
      ],
      "execution_count": null,
      "outputs": []
    },
    {
      "cell_type": "code",
      "metadata": {
        "colab": {
          "base_uri": "https://localhost:8080/"
        },
        "id": "UCE8A91X5jUc",
        "outputId": "19c580fe-2a8c-4d55-9324-00778f5269dd"
      },
      "source": [
        "cluster_center_tf"
      ],
      "execution_count": null,
      "outputs": [
        {
          "output_type": "execute_result",
          "data": {
            "text/plain": [
              "array([[4.20917411e-05, 3.76648981e-05, 3.87572222e-05, ...,\n",
              "        2.31651524e-05, 2.63048957e-05, 3.64105207e-05],\n",
              "       [0.00000000e+00, 0.00000000e+00, 0.00000000e+00, ...,\n",
              "        0.00000000e+00, 0.00000000e+00, 0.00000000e+00],\n",
              "       [5.87903175e-04, 0.00000000e+00, 0.00000000e+00, ...,\n",
              "        0.00000000e+00, 0.00000000e+00, 0.00000000e+00],\n",
              "       [0.00000000e+00, 0.00000000e+00, 0.00000000e+00, ...,\n",
              "        0.00000000e+00, 0.00000000e+00, 0.00000000e+00],\n",
              "       [0.00000000e+00, 0.00000000e+00, 0.00000000e+00, ...,\n",
              "        0.00000000e+00, 0.00000000e+00, 0.00000000e+00]])"
            ]
          },
          "metadata": {},
          "execution_count": 85
        }
      ]
    },
    {
      "cell_type": "code",
      "metadata": {
        "id": "uSNB20mZ5mpI"
      },
      "source": [
        "# to understand what kind of words generated as columns by BOW\n",
        "terms1 = tfidf_vect.get_feature_names()"
      ],
      "execution_count": null,
      "outputs": []
    },
    {
      "cell_type": "code",
      "metadata": {
        "id": "DGS-NsBAop5p"
      },
      "source": [
        "from sklearn import metrics\n",
        "silhouette_score_tf = metrics.silhouette_score(tfidf, labels_tf, metric='euclidean')"
      ],
      "execution_count": null,
      "outputs": []
    },
    {
      "cell_type": "code",
      "metadata": {
        "colab": {
          "base_uri": "https://localhost:8080/"
        },
        "id": "fWCWyG1nop2R",
        "outputId": "e13d17dd-d9f3-4c76-c695-e14f0443daa5"
      },
      "source": [
        "silhouette_score_tf"
      ],
      "execution_count": null,
      "outputs": [
        {
          "output_type": "execute_result",
          "data": {
            "text/plain": [
              "0.012371453259770624"
            ]
          },
          "metadata": {},
          "execution_count": 88
        }
      ]
    },
    {
      "cell_type": "code",
      "metadata": {
        "colab": {
          "base_uri": "https://localhost:8080/"
        },
        "id": "bxYEAEfs-JIP",
        "outputId": "829fbbf2-0307-4882-8768-a344b100dc93"
      },
      "source": [
        "for i in range(5):\n",
        " print(i)\n",
        " for ind in order_centroids[i, :10]:\n",
        "   print(terms1[ind])"
      ],
      "execution_count": null,
      "outputs": [
        {
          "output_type": "stream",
          "name": "stdout",
          "text": [
            "0\n",
            "stare\n",
            "potere\n",
            "sedere\n",
            "dovere\n",
            "parlare\n",
            "bessie\n",
            "signore\n",
            "sentire\n",
            "signora\n",
            "reed\n",
            "1\n",
            "davvero\n",
            "jane\n",
            "volere\n",
            "strano\n",
            "stare\n",
            "sposare\n",
            "signore\n",
            "bello\n",
            "spiegare\n",
            "signorina\n",
            "2\n",
            "vedere\n",
            "potere\n",
            "occhio\n",
            "stare\n",
            "venire\n",
            "sentire\n",
            "sapere\n",
            "guardare\n",
            "volere\n",
            "signore\n",
            "3\n",
            "signore\n",
            "rochester\n",
            "sì\n",
            "credere\n",
            "potere\n",
            "parlare\n",
            "rivers\n",
            "domandare\n",
            "pensare\n",
            "sapere\n",
            "4\n",
            "potere\n",
            "dovere\n",
            "sapere\n",
            "pensare\n",
            "né\n",
            "lasciare\n",
            "parlare\n",
            "amare\n",
            "dare\n",
            "vivere\n"
          ]
        }
      ]
    },
    {
      "cell_type": "code",
      "metadata": {
        "colab": {
          "base_uri": "https://localhost:8080/",
          "height": 283
        },
        "id": "jqvSw9klopvO",
        "outputId": "176737db-1aef-43ab-f7d2-e01a347590d6"
      },
      "source": [
        "# Giving Labels/assigning a cluster to each sentence\n",
        "df1 = data\n",
        "df1['Tfidf Clus Label'] = model_tf.labels_\n",
        "df1.head(5)"
      ],
      "execution_count": null,
      "outputs": [
        {
          "output_type": "execute_result",
          "data": {
            "text/html": [
              "<div>\n",
              "<style scoped>\n",
              "    .dataframe tbody tr th:only-of-type {\n",
              "        vertical-align: middle;\n",
              "    }\n",
              "\n",
              "    .dataframe tbody tr th {\n",
              "        vertical-align: top;\n",
              "    }\n",
              "\n",
              "    .dataframe thead th {\n",
              "        text-align: right;\n",
              "    }\n",
              "</style>\n",
              "<table border=\"1\" class=\"dataframe\">\n",
              "  <thead>\n",
              "    <tr style=\"text-align: right;\">\n",
              "      <th></th>\n",
              "      <th>Unnamed: 0</th>\n",
              "      <th>text</th>\n",
              "      <th>documents_cleaned</th>\n",
              "      <th>clean</th>\n",
              "      <th>Bow Clus Label</th>\n",
              "      <th>Tfidf Clus Label</th>\n",
              "    </tr>\n",
              "  </thead>\n",
              "  <tbody>\n",
              "    <tr>\n",
              "      <th>0</th>\n",
              "      <td>0</td>\n",
              "      <td>in quello giorno essere impossibile passeggiare .</td>\n",
              "      <td>['in', 'quello', 'giorno', 'essere', 'impossib...</td>\n",
              "      <td>impossibile passeggiare</td>\n",
              "      <td>2</td>\n",
              "      <td>0</td>\n",
              "    </tr>\n",
              "    <tr>\n",
              "      <th>1</th>\n",
              "      <td>1</td>\n",
              "      <td>il mattina avere errare per uno ora nel bosche...</td>\n",
              "      <td>['il', 'mattina', 'avere', 'errare', 'per', 'u...</td>\n",
              "      <td>mattina errare boschetto spogliare foglia pran...</td>\n",
              "      <td>1</td>\n",
              "      <td>0</td>\n",
              "    </tr>\n",
              "    <tr>\n",
              "      <th>2</th>\n",
              "      <td>2</td>\n",
              "      <td>ne essere contentare .</td>\n",
              "      <td>['ne', 'essere', 'contentare', '.']</td>\n",
              "      <td>contentare</td>\n",
              "      <td>2</td>\n",
              "      <td>0</td>\n",
              "    </tr>\n",
              "    <tr>\n",
              "      <th>3</th>\n",
              "      <td>3</td>\n",
              "      <td>non mi essere mai piacere il lungo passeggiate...</td>\n",
              "      <td>['non', 'mi', 'essere', 'mai', 'piacere', 'il'...</td>\n",
              "      <td>piacere passeggiate freddo penoso tornar notte...</td>\n",
              "      <td>2</td>\n",
              "      <td>0</td>\n",
              "    </tr>\n",
              "    <tr>\n",
              "      <th>4</th>\n",
              "      <td>4</td>\n",
              "      <td>eliza , John e georgiana essere aggruppare in ...</td>\n",
              "      <td>['eliza', ',', 'John', 'e', 'georgiana', 'esse...</td>\n",
              "      <td>eliza john e georgiana aggruppare salotto atto...</td>\n",
              "      <td>2</td>\n",
              "      <td>0</td>\n",
              "    </tr>\n",
              "  </tbody>\n",
              "</table>\n",
              "</div>"
            ],
            "text/plain": [
              "   Unnamed: 0  ... Tfidf Clus Label\n",
              "0           0  ...                0\n",
              "1           1  ...                0\n",
              "2           2  ...                0\n",
              "3           3  ...                0\n",
              "4           4  ...                0\n",
              "\n",
              "[5 rows x 6 columns]"
            ]
          },
          "metadata": {},
          "execution_count": 91
        }
      ]
    },
    {
      "cell_type": "code",
      "metadata": {
        "colab": {
          "base_uri": "https://localhost:8080/"
        },
        "id": "epcsLzs05wKe",
        "outputId": "b3c3c4a9-0110-4dc8-fdac-91d794f94091"
      },
      "source": [
        "# How many sentences belong to each cluster\n",
        "\n",
        "df1.groupby(['Tfidf Clus Label'])['text'].count()"
      ],
      "execution_count": null,
      "outputs": [
        {
          "output_type": "execute_result",
          "data": {
            "text/plain": [
              "Tfidf Clus Label\n",
              "0    15966\n",
              "1     1792\n",
              "2      796\n",
              "3      781\n",
              "4      467\n",
              "Name: text, dtype: int64"
            ]
          },
          "metadata": {},
          "execution_count": 92
        }
      ]
    },
    {
      "cell_type": "code",
      "metadata": {
        "colab": {
          "base_uri": "https://localhost:8080/"
        },
        "id": "_AiRsa9356y3",
        "outputId": "93005a56-2ac0-4c02-af7c-725930533d87"
      },
      "source": [
        "#Find the top 10 features of cluster centriod\n",
        "print(\"Top terms per cluster:\")\n",
        "order_centroids = model_tf.cluster_centers_.argsort()[:, ::-1]\n",
        "for i in range(5):\n",
        "    print(\"Cluster %d:\" % i, end='')\n",
        "    for ind in order_centroids[i, :10]:\n",
        "        print(' %s' % terms1[ind], end='')\n",
        "        print()"
      ],
      "execution_count": null,
      "outputs": [
        {
          "output_type": "stream",
          "name": "stdout",
          "text": [
            "Top terms per cluster:\n",
            "Cluster 0: stare\n",
            " dovere\n",
            " andare\n",
            " sapere\n",
            " sì\n",
            " sentire\n",
            " parlare\n",
            " mr\n",
            " venire\n",
            " oh\n",
            "Cluster 1: potere\n",
            " volere\n",
            " sapere\n",
            " andare\n",
            " stare\n",
            " parlare\n",
            " né\n",
            " dovere\n",
            " amare\n",
            " pensare\n",
            "Cluster 2: signore\n",
            " rochester\n",
            " sì\n",
            " volere\n",
            " andare\n",
            " potere\n",
            " stare\n",
            " credere\n",
            " parlare\n",
            " rivers\n",
            "Cluster 3: vedere\n",
            " potere\n",
            " occhio\n",
            " stare\n",
            " venire\n",
            " sentire\n",
            " sapere\n",
            " volere\n",
            " andare\n",
            " guardare\n",
            "Cluster 4: jane\n",
            " eyre\n",
            " volere\n",
            " sì\n",
            " venire\n",
            " signore\n",
            " signorina\n",
            " andare\n",
            " stare\n",
            " sentire\n"
          ]
        }
      ]
    },
    {
      "cell_type": "code",
      "metadata": {
        "colab": {
          "base_uri": "https://localhost:8080/"
        },
        "id": "h7GT_UpOz82D",
        "outputId": "8c483f88-0d71-4ac6-8384-8902955866ff"
      },
      "source": [
        "# consider sample of 6 random sentences for cluster 0\n",
        "# self discovery\n",
        "# Jane intraprende un viaggio di scoperta personale e scopre chi è, sia in termini di identità che di personalità, e come può trovare la propria felicità\n",
        "\n",
        "print(data.iloc[data.groupby(['Tfidf Clus Label']).groups[0][244]]['text'])\n",
        "print(\"_\" * 70)\n",
        "print(data.iloc[data.groupby(['Tfidf Clus Label']).groups[0][780]]['text'])\n",
        "print(\"_\" * 70)\n",
        "print(data.iloc[data.groupby(['Tfidf Clus Label']).groups[0][1150]]['text'])\n",
        "print(\"_\" * 70)\n",
        "print(data.iloc[data.groupby(['Tfidf Clus Label']).groups[0][1250]]['text'])\n",
        "print(\"_\" * 70)\n",
        "print(data.iloc[data.groupby(['Tfidf Clus Label']).groups[0][1410]]['text'])"
      ],
      "execution_count": null,
      "outputs": [
        {
          "output_type": "stream",
          "name": "stdout",
          "text": [
            "qualche volta , occupare dal lavoro , ripetere il ritornello a voce basso , e questo parola : \" c' essere uno volta , tanto tanto tempo fa \" mi fare il impressione di uno inno funebre .\n",
            "______________________________________________________________________\n",
            " dovere desiderare di andarvene di qui \" \n",
            "\n",
            "  no ; perché lo desiderare \" essere stare mandare a lowood per istruire ; che ci guadagnare andandomene senza avere compiere il istruzione \" \n",
            "\n",
            "  ma il signorina scatcherd essere così crudele con voi !\n",
            "______________________________________________________________________\n",
            "il mio pensiero essere molto armonioso , il sensazione meglio regolato ; essere fedele al dovere e all' ordine ; mi sentire calmo e mi credere felice .\n",
            "______________________________________________________________________\n",
            "Miss elisa essere molto grande di voi tutto il testa e miss georgiana essere due volta voi per forza .\n",
            "______________________________________________________________________\n",
            " venire a salutare il vostro nuovo istitutrice , che v' insegnare tanto bello cosa .\n"
          ]
        }
      ]
    },
    {
      "cell_type": "code",
      "metadata": {
        "colab": {
          "base_uri": "https://localhost:8080/"
        },
        "id": "_WsGSsodz8bu",
        "outputId": "0803891e-aab7-4c6f-cc78-3429f076a892"
      },
      "source": [
        "#consider sample of 6 random sentences for cluster 1\n",
        "# class struggle\n",
        "# all'inizio del romanzo Jane è odiata da tutti e viene guardata con disprezzo a causa della sua classe sociale, fino a quando non riesce anche lei ad ottenere una stabilità\n",
        "# economica e un ruolo sociale superiore a quello passato\n",
        "\n",
        "print(data.iloc[data.groupby(['Tfidf Clus Label']).groups[1][100]]['text'])\n",
        "print(\"_\" * 70)\n",
        "print(data.iloc[data.groupby(['Tfidf Clus Label']).groups[1][120]]['text'])\n",
        "print(\"_\" * 70)\n",
        "print(data.iloc[data.groupby(['Tfidf Clus Label']).groups[1][25]]['text'])\n",
        "print(\"_\" * 70)\n",
        "print(data.iloc[data.groupby(['Tfidf Clus Label']).groups[1][85]]['text'])\n",
        "print(\"_\" * 70)\n",
        "print(data.iloc[data.groupby(['Tfidf Clus Label']).groups[1][40]]['text'])"
      ],
      "execution_count": null,
      "outputs": [
        {
          "output_type": "stream",
          "name": "stdout",
          "text": [
            "non potere essere solo ed odiata .\n",
            "______________________________________________________________________\n",
            "desideravo che il sonno il imponesse silenzio e mi parere che avere trovare uno soluzione al problema , se soltanto avere potere riflettere uno poco a ciò che mi preoccupare quando essere appoggiare alla finestra .\n",
            "______________________________________________________________________\n",
            " nemmeno se essere buono per voi \" \n",
            "\n",
            " scrollai il testa ; non potere capire come avere potere essere buono quello gente se essere povero ; e poi imparare a parlare come il povero , acquistare il loro maniera , non avere educazione , crescere come quelle misero donna , che vedere allattare il bimbo e lavare il bucato sulla porta della casupola del villaggio ; no , non essere abbastanza eroico per acquistare il libertà col suo corteo di miseria .\n",
            "______________________________________________________________________\n",
            " a proposito , signora , volere che il calza di lana essere in migliore stato .\n",
            "______________________________________________________________________\n",
            " benissimo , signore , allora potere essere certo che questo bambina essere accettare a lowood , che vi essere educare come richiedere il suo posizione e in vista del suo dovere futuro .\n"
          ]
        }
      ]
    },
    {
      "cell_type": "code",
      "metadata": {
        "colab": {
          "base_uri": "https://localhost:8080/"
        },
        "id": "yz7BRaYszlz1",
        "outputId": "76ba278c-5098-4306-8ef6-e12ff17fdf52"
      },
      "source": [
        "#consider sample of 6 random sentences for cluster 2\n",
        "# l'amore e il matrimonio, l'amore passionale di Jane e del signor Rochester\n",
        "# nella seconda parte del romanzo lui appare simbolicamente punito con la perdita di una mano e della vista, ma Jane non cambia idea sul suo amore\n",
        "\n",
        "print(data.iloc[data.groupby(['Tfidf Clus Label']).groups[2][115]]['text'])\n",
        "print(\"_\" * 70)\n",
        "print(data.iloc[data.groupby(['Tfidf Clus Label']).groups[2][45]]['text'])\n",
        "print(\"_\" * 70)\n",
        "print(data.iloc[data.groupby(['Tfidf Clus Label']).groups[2][30]]['text'])\n",
        "print(\"_\" * 70)\n",
        "print(data.iloc[data.groupby(['Tfidf Clus Label']).groups[2][100]]['text'])\n",
        "print(\"_\" * 70)\n",
        "print(data.iloc[data.groupby(['Tfidf Clus Label']).groups[2][125]]['text'])"
      ],
      "execution_count": null,
      "outputs": [
        {
          "output_type": "stream",
          "name": "stdout",
          "text": [
            "in quello riunione il molto ricercato essere il uomo , e il signore rochester essere così piacevole in conversazione , che tutto lo volere bene .\n",
            "______________________________________________________________________\n",
            "mi dire che il signore Carter , il medico , essere col signore rochester ; poi ordinare il tè ed io salire in camera per spogliare .\n",
            "______________________________________________________________________\n",
            "essere vero che dal lato di suo madre essere parere lontano del signore rochester , o almeno mio marito essere parente .\n",
            "______________________________________________________________________\n",
            "essere sempre brutto al mio occhio , il signore rochester \" il gratitudine e certe dolci e aggradevoli associazione di idea fare sì che non mi piacere nulla molto del suo volto .\n",
            "______________________________________________________________________\n",
            "pensare a prendere per modello il signore rochester \" no , nessun disperazione , nessun sentimento : volere buon senso e risolutezza . \n",
            "\n",
            " \"\n"
          ]
        }
      ]
    },
    {
      "cell_type": "code",
      "metadata": {
        "colab": {
          "base_uri": "https://localhost:8080/"
        },
        "id": "grCZilaPdEPs",
        "outputId": "fa937fc4-75b8-438f-e0c2-0f3ed9f772e2"
      },
      "source": [
        "#consider sample of 6 random sentences for cluster 3\n",
        "# elemento gotico del romanzo, questo si presenta tramite ambientazioni lugubri o tetri (\"incubo spaventoso\", \"luce rossastro\"), oppure con figure vere e proprie\n",
        "# ad esempio fantasmi o spiriti\n",
        "\n",
        "print(data.iloc[data.groupby(['Tfidf Clus Label']).groups[3][10]]['text'])\n",
        "print(\"_\" * 70)\n",
        "print(data.iloc[data.groupby(['Tfidf Clus Label']).groups[3][55]]['text'])\n",
        "print(\"_\" * 70)\n",
        "print(data.iloc[data.groupby(['Tfidf Clus Label']).groups[3][70]]['text'])\n",
        "print(\"_\" * 70)\n",
        "print(data.iloc[data.groupby(['Tfidf Clus Label']).groups[3][90]]['text'])\n",
        "print(\"_\" * 70)\n",
        "print(data.iloc[data.groupby(['Tfidf Clus Label']).groups[3][220]]['text'])"
      ],
      "execution_count": null,
      "outputs": [
        {
          "output_type": "stream",
          "name": "stdout",
          "text": [
            "appena tornare in me pervenire ad uscire da uno incubo spaventoso e di vedere dinanzi al occhio uno luce rossastro a striscia nero e fitto .\n",
            "______________________________________________________________________\n",
            "allora il mio mente fare il primo sforzo per capire ciò che avere imparare sul cielo e sull' inferno , e per il primo volta si spaventare , e guardare avanti e indietro , si vedere circondare da uno abisso senza fondo ; essa non capiva e non sentire altro che uno cosa : il presente .\n",
            "______________________________________________________________________\n",
            "si vedere brillare il lume dietro il tenda di uno finestra bifora ; tutto il resto essere nel buio .\n",
            "______________________________________________________________________\n",
            "quando vedere avvicinare il cavallo , al mio spirito , che essere sempre pieno del racconto fantastico dell' infanzia , tornare uno fola di bessie , nella quale figurare un spirito del nord dell' Inghilterra , chiamare gytrash .\n",
            "______________________________________________________________________\n",
            "essere troppo tardi per lei per fare il sforzo di cambiare il suo consueto modo di vedere ; mi avere sempre odiare in vita , dovere odiare morire .\n"
          ]
        }
      ]
    },
    {
      "cell_type": "code",
      "metadata": {
        "colab": {
          "base_uri": "https://localhost:8080/"
        },
        "id": "-dGr8Hr8gA_n",
        "outputId": "648a811a-d84a-463d-f898-ea298cf1e02f"
      },
      "source": [
        "#consider sample of 6 random sentences for cluster 4\n",
        "# tema della religione, in un primo momento Jane ripudia la religione e la chiesa, poichè è troppo attaccata al denaro e sfrutta la bontà dei religiosi a suo vantaggio.\n",
        "# Successivamente conosce un prete buono e realmente legato a Dio, in questa seconda fase della vita di Jane, lei ritrova la fiducia nella chiesa e in Dio.\n",
        "\n",
        "print(data.iloc[data.groupby(['Tfidf Clus Label']).groups[4][88]]['text'])\n",
        "print(\"_\" * 70)\n",
        "print(data.iloc[data.groupby(['Tfidf Clus Label']).groups[4][58]]['text'])\n",
        "print(\"_\" * 70)\n",
        "print(data.iloc[data.groupby(['Tfidf Clus Label']).groups[4][95]]['text'])\n",
        "print(\"_\" * 70)\n",
        "print(data.iloc[data.groupby(['Tfidf Clus Label']).groups[4][325]]['text'])\n",
        "print(\"_\" * 70)\n",
        "print(data.iloc[data.groupby(['Tfidf Clus Label']).groups[4][142]]['text'])"
      ],
      "execution_count": null,
      "outputs": [
        {
          "output_type": "stream",
          "name": "stdout",
          "text": [
            " chiedetemi qualcosa ora , Jane ; il molto piccolo cosa , perché desiderare essere pregare .\n",
            "______________________________________________________________________\n",
            "quanto denaro possedere in tutto , Jane \"  mi domandare sorridere .\n",
            "______________________________________________________________________\n",
            "non essere vero , Jane , che vi essere allontanare dal gregge per cercare il vostro pastore \" \n",
            "\n",
            "  avere bisogno di voi , ma non esultare ancora .\n",
            "______________________________________________________________________\n",
            "ti essere allontanare dall' ovile per cercare il tuo pastore , non essere vero , Jane ? \"\n",
            "______________________________________________________________________\n",
            "che cosa fare , Jane \" dove trovare uno compagna \" dove cercare il speranza \" \n",
            "\n",
            "  fate quel che volere ; avere fiducia in dio e in voi stesso .\n"
          ]
        }
      ]
    },
    {
      "cell_type": "markdown",
      "metadata": {
        "id": "-GLVuUiJ6s7k"
      },
      "source": [
        "#K-Means with Word2Vec"
      ]
    },
    {
      "cell_type": "code",
      "metadata": {
        "id": "LewmQHt6WhG1"
      },
      "source": [
        "import numpy as np\n",
        "import tensorflow as tf\n",
        "from tensorflow import keras"
      ],
      "execution_count": null,
      "outputs": []
    },
    {
      "cell_type": "code",
      "metadata": {
        "id": "_PSGYwUt0TmV"
      },
      "source": [
        "# Train your own Word2Vec model\n",
        "i=0\n",
        "list_of_sent=[]\n",
        "for sent in data['clean'].values:\n",
        "    list_of_sent.append(sent.split())"
      ],
      "execution_count": null,
      "outputs": []
    },
    {
      "cell_type": "code",
      "metadata": {
        "id": "FKUAnEvO980A"
      },
      "source": [
        "import gensim\n",
        "# Training the wor2vec model\n",
        "w2v_model = Word2Vec.load('word2vec_model_lemmi')"
      ],
      "execution_count": null,
      "outputs": []
    },
    {
      "cell_type": "code",
      "metadata": {
        "colab": {
          "base_uri": "https://localhost:8080/"
        },
        "id": "zzOHAfFu99xW",
        "outputId": "5da25f81-f63b-4f23-9c86-7ba2d94dd4dd"
      },
      "source": [
        "import numpy as np\n",
        "sent_vectors = []; # the avg-w2v for each sentence is stored in this train\n",
        "for sent in list_of_sent: # for each sentence\n",
        "    sent_vec = np.zeros(100) # as word vectors are of zero length\n",
        "    cnt_words =0; # num of words with a valid vector in the sentence\n",
        "    for word in sent: # for each word in a sentence\n",
        "        try:\n",
        "            vec = w2v_model.wv[word]\n",
        "            sent_vec += vec\n",
        "            cnt_words += 1\n",
        "        except:\n",
        "            pass\n",
        "    sent_vec /= cnt_words\n",
        "    sent_vectors.append(sent_vec)\n",
        "sent_vectors = np.array(sent_vectors)\n",
        "sent_vectors = np.nan_to_num(sent_vectors)\n",
        "sent_vectors.shape"
      ],
      "execution_count": null,
      "outputs": [
        {
          "output_type": "stream",
          "name": "stderr",
          "text": [
            "/usr/local/lib/python3.7/dist-packages/ipykernel_launcher.py:13: RuntimeWarning: invalid value encountered in true_divide\n",
            "  del sys.path[0]\n"
          ]
        },
        {
          "output_type": "execute_result",
          "data": {
            "text/plain": [
              "(19802, 100)"
            ]
          },
          "metadata": {},
          "execution_count": 188
        }
      ]
    },
    {
      "cell_type": "code",
      "metadata": {
        "id": "eiSWA48GjO8d"
      },
      "source": [
        "distortions = []\n",
        "K = range(1,10)\n",
        "for k in K:\n",
        "    kmeanModel = KMeans(n_clusters=k)\n",
        "    kmeanModel.fit(sent_vectors)\n",
        "    distortions.append(kmeanModel.inertia_)"
      ],
      "execution_count": null,
      "outputs": []
    },
    {
      "cell_type": "code",
      "metadata": {
        "colab": {
          "base_uri": "https://localhost:8080/",
          "height": 512
        },
        "id": "iP1F9_LTjPf6",
        "outputId": "add95b1f-f2c8-4326-d465-be0ae65c4351"
      },
      "source": [
        "plt.figure(figsize=(16,8))\n",
        "plt.plot(K, distortions, 'bx-')\n",
        "plt.xlabel('k')\n",
        "plt.ylabel('Distortion')\n",
        "plt.title('The Elbow Method showing the optimal k')\n",
        "plt.show()"
      ],
      "execution_count": null,
      "outputs": [
        {
          "output_type": "display_data",
          "data": {
            "image/png": "[encoded data removed]",
            "text/plain": [
              "<Figure size 1152x576 with 1 Axes>"
            ]
          },
          "metadata": {
            "needs_background": "light"
          }
        }
      ]
    },
    {
      "cell_type": "code",
      "metadata": {
        "colab": {
          "base_uri": "https://localhost:8080/"
        },
        "id": "icGqGPW07GmH",
        "outputId": "31daa9dc-81d3-4262-a31d-fb68f02a7eb9"
      },
      "source": [
        "# Training\n",
        "from sklearn.cluster import KMeans\n",
        "model2 = KMeans(n_clusters = 3)\n",
        "model2.fit(sent_vectors)"
      ],
      "execution_count": null,
      "outputs": [
        {
          "output_type": "execute_result",
          "data": {
            "text/plain": [
              "KMeans(algorithm='auto', copy_x=True, init='k-means++', max_iter=300,\n",
              "       n_clusters=3, n_init=10, n_jobs=None, precompute_distances='auto',\n",
              "       random_state=None, tol=0.0001, verbose=0)"
            ]
          },
          "metadata": {},
          "execution_count": 331
        }
      ]
    },
    {
      "cell_type": "code",
      "metadata": {
        "id": "aOqikYbO-YCm"
      },
      "source": [
        "word_cluster_pred=model2.predict(sent_vectors)\n",
        "word_cluster_pred_2=model2.labels_\n",
        "word_cluster_center=model2.cluster_centers_"
      ],
      "execution_count": null,
      "outputs": []
    },
    {
      "cell_type": "code",
      "metadata": {
        "colab": {
          "base_uri": "https://localhost:8080/",
          "height": 158
        },
        "id": "wBwJVOPE-fFN",
        "outputId": "560f35d9-3323-4ea3-acef-17555421bd17"
      },
      "source": [
        "# Giving Labels/assigning a cluster to each point/text \n",
        "dfa = df1\n",
        "dfa['Word2Vec Label'] = model2.labels_\n",
        "dfa.head(2)"
      ],
      "execution_count": null,
      "outputs": [
        {
          "output_type": "execute_result",
          "data": {
            "text/html": [
              "<div>\n",
              "<style scoped>\n",
              "    .dataframe tbody tr th:only-of-type {\n",
              "        vertical-align: middle;\n",
              "    }\n",
              "\n",
              "    .dataframe tbody tr th {\n",
              "        vertical-align: top;\n",
              "    }\n",
              "\n",
              "    .dataframe thead th {\n",
              "        text-align: right;\n",
              "    }\n",
              "</style>\n",
              "<table border=\"1\" class=\"dataframe\">\n",
              "  <thead>\n",
              "    <tr style=\"text-align: right;\">\n",
              "      <th></th>\n",
              "      <th>Unnamed: 0</th>\n",
              "      <th>text</th>\n",
              "      <th>documents_cleaned</th>\n",
              "      <th>clean</th>\n",
              "      <th>Bow Clus Label</th>\n",
              "      <th>Tfidf Clus Label</th>\n",
              "      <th>Word2Vec Label</th>\n",
              "    </tr>\n",
              "  </thead>\n",
              "  <tbody>\n",
              "    <tr>\n",
              "      <th>0</th>\n",
              "      <td>0</td>\n",
              "      <td>in quello giorno essere impossibile passeggiare .</td>\n",
              "      <td>['in', 'quello', 'giorno', 'essere', 'impossib...</td>\n",
              "      <td>impossibile passeggiare</td>\n",
              "      <td>2</td>\n",
              "      <td>0</td>\n",
              "      <td>2</td>\n",
              "    </tr>\n",
              "    <tr>\n",
              "      <th>1</th>\n",
              "      <td>1</td>\n",
              "      <td>il mattina avere errare per uno ora nel bosche...</td>\n",
              "      <td>['il', 'mattina', 'avere', 'errare', 'per', 'u...</td>\n",
              "      <td>mattina errare boschetto spogliare foglia pran...</td>\n",
              "      <td>1</td>\n",
              "      <td>0</td>\n",
              "      <td>2</td>\n",
              "    </tr>\n",
              "  </tbody>\n",
              "</table>\n",
              "</div>"
            ],
            "text/plain": [
              "   Unnamed: 0  ... Word2Vec Label\n",
              "0           0  ...              2\n",
              "1           1  ...              2\n",
              "\n",
              "[2 rows x 7 columns]"
            ]
          },
          "metadata": {},
          "execution_count": 333
        }
      ]
    },
    {
      "cell_type": "code",
      "metadata": {
        "colab": {
          "base_uri": "https://localhost:8080/"
        },
        "id": "DWSYpjqE-iha",
        "outputId": "4480b23b-1a71-41c8-fc80-dcb666b88312"
      },
      "source": [
        "# How many points belong to each cluster\n",
        "dfa.groupby(['Word2Vec Label'])['text'].count()"
      ],
      "execution_count": null,
      "outputs": [
        {
          "output_type": "execute_result",
          "data": {
            "text/plain": [
              "Word2Vec Label\n",
              "0     7002\n",
              "1      502\n",
              "2    12298\n",
              "Name: text, dtype: int64"
            ]
          },
          "metadata": {},
          "execution_count": 334
        }
      ]
    },
    {
      "cell_type": "code",
      "metadata": {
        "colab": {
          "base_uri": "https://localhost:8080/"
        },
        "id": "vh40VJmf-e2V",
        "outputId": "88091728-0a30-4ac5-ad6d-fe6c22f82419"
      },
      "source": [
        "# considers sample of 6 random sentences for cluster 0\n",
        "# tema della religione\n",
        "\n",
        "print(data.iloc[data.groupby(['Word2Vec Label']).groups[0][2203]]['text'])\n",
        "print(\"_\" * 70)\n",
        "print(data.iloc[data.groupby(['Word2Vec Label']).groups[0][2829]]['text'])\n",
        "print(\"_\" * 70)\n",
        "print(data.iloc[data.groupby(['Word2Vec Label']).groups[0][3000]]['text'])\n",
        "print(\"_\" * 70)\n",
        "print(data.iloc[data.groupby(['Word2Vec Label']).groups[0][5500]]['text'])\n",
        "print(\"_\" * 70)\n",
        "print(data.iloc[data.groupby(['Word2Vec Label']).groups[0][6240]]['text'])\n",
        "print(\"_\" * 70)\n",
        "print(data.iloc[data.groupby(['Word2Vec Label']).groups[0][4624]]['text'])"
      ],
      "execution_count": null,
      "outputs": [
        {
          "output_type": "stream",
          "name": "stdout",
          "text": [
            " essere malato , o avere fame \" \n",
            "\n",
            "  avere fame , credere .\n",
            "______________________________________________________________________\n",
            "iddio vi benedire , signore !\n",
            "______________________________________________________________________\n",
            "spera che io essere felice e che il signore non volere contarmi fra quelli che vivere senza dio nel mondo , curandosi della solo cosa terrestre .\n",
            "______________________________________________________________________\n",
            "vostro zio essere felice di sapere ... sempre se essere ancora vivo quando mr mason tornare a madera . \"\n",
            "______________________________________________________________________\n",
            "\" semplicemente dire che vostro zio , mr eyre di madera , essere morire , che vi avere lasciare tutto il suo bene e che adesso voi essere ricco .\n",
            "______________________________________________________________________\n",
            "per il amore di dio , venire qui ! \"\n"
          ]
        }
      ]
    },
    {
      "cell_type": "code",
      "metadata": {
        "colab": {
          "base_uri": "https://localhost:8080/"
        },
        "id": "2_cvdUUZk9G5",
        "outputId": "e64b1406-afd3-4dcd-b398-1ba213ae51c2"
      },
      "source": [
        "#considers sample of 6 random sentences for cluster 0\n",
        "\n",
        "print(data.iloc[data.groupby(['Word2Vec Label']).groups[0][32]]['text'])\n",
        "print(\"_\" * 70)\n",
        "print(data.iloc[data.groupby(['Word2Vec Label']).groups[0][110]]['text'])\n",
        "print(\"_\" * 70)\n",
        "print(data.iloc[data.groupby(['Word2Vec Label']).groups[0][210]]['text'])\n",
        "print(\"_\" * 70)\n",
        "print(data.iloc[data.groupby(['Word2Vec Label']).groups[0][2500]]['text'])\n",
        "print(\"_\" * 70)\n",
        "print(data.iloc[data.groupby(['Word2Vec Label']).groups[0][2100]]['text'])\n",
        "print(\"_\" * 70)\n",
        "print(data.iloc[data.groupby(['Word2Vec Label']).groups[0][1830]]['text'])\n",
        "print(\"_\" * 70)\n",
        "print(data.iloc[data.groupby(['Word2Vec Label']).groups[0][8222]]['text'])"
      ],
      "execution_count": null,
      "outputs": [
        {
          "output_type": "stream",
          "name": "stdout",
          "text": [
            "egli stare tre minuto a mostrare il lingua , allungare quanto molto potere , sapere che stare per picchiarmi e spiare sulla suo brutta fare il momento in cui il collera avrebbegli fare allungare il mano .\n",
            "______________________________________________________________________\n",
            "dopo poco mi accorrere che qualcuno si avvicinare a me , mi sollevare collocandomi in uno posizione molto comodo ; nessuno mi avere mai trattare fino a quello momento con tanto sollecitudine affettuoso .\n",
            "______________________________________________________________________\n",
            "che cosa fare \" essere rosso come uno colpevole .\n",
            "______________________________________________________________________\n",
            "il uccello incominciare a cantare a coppia e a branco ; il uccello essere felice nel loro affetto , essere il emblema dell' amore .\n",
            "______________________________________________________________________\n",
            "non essere soltanto agitare per il preparativo , né per il grande cambiamento che stare per operare nella mio esistenza , che entrare il giorno dopo in uno nuovo fase .\n",
            "______________________________________________________________________\n",
            "tre volta il giorno studiare uno libricino di preghiera cattolico .\n",
            "______________________________________________________________________\n",
            "salii in camera mio e mi chiudere dentro ; poi cadere in ginocchio e pregai a modo mio , diverso da quello di st John ma , nella suo forma , altrettanto efficace .\n"
          ]
        }
      ]
    },
    {
      "cell_type": "code",
      "metadata": {
        "colab": {
          "base_uri": "https://localhost:8080/"
        },
        "id": "H5oaCwKovtv9",
        "outputId": "d00c4bfa-fa15-4e31-9aae-f05afd0c158d"
      },
      "source": [
        "#considers sample of 6 random sentences for cluster 1\n",
        "# ruolo della famiglia\n",
        "\n",
        "print(data.iloc[data.groupby(['Word2Vec Label']).groups[1][178]]['text'])\n",
        "print(\"_\" * 70)\n",
        "print(data.iloc[data.groupby(['Word2Vec Label']).groups[1][120]]['text'])\n",
        "print(\"_\" * 70)\n",
        "print(data.iloc[data.groupby(['Word2Vec Label']).groups[1][122]]['text'])\n",
        "print(\"_\" * 70)\n",
        "print(data.iloc[data.groupby(['Word2Vec Label']).groups[1][400]]['text'])\n",
        "print(\"_\" * 70)\n",
        "print(data.iloc[data.groupby(['Word2Vec Label']).groups[1][671]]['text'])\n",
        "print(\"_\" * 70)\n",
        "print(data.iloc[data.groupby(['Word2Vec Label']).groups[1][1830]]['text'])\n",
        "print(\"_\" * 70)\n",
        "print(data.iloc[data.groupby(['Word2Vec Label']).groups[1][7000]]['text'])"
      ],
      "execution_count": null,
      "outputs": [
        {
          "output_type": "stream",
          "name": "stdout",
          "text": [
            " benissimo , signore , allora potere essere certo che questo bambina essere accettare a lowood , che vi essere educare come richiedere il suo posizione e in vista del suo dovere futuro .\n",
            "______________________________________________________________________\n",
            "allora seppi per il primo volta , dal discorso che abbot fare a bessie , che mio padre essere uno povero pastore , che mio madre lo avere sposare contro il volere del suoi , che considerare quello matrimonio inferiore alla suo condizione .\n",
            "______________________________________________________________________\n",
            "dopo uno anno di matrimonio mio padre essere attaccare dal tifo .\n",
            "______________________________________________________________________\n",
            "dopo questo sublime conclusione il pastore si abbottonare il soprabito e dire qualcosa sottovoce alla famiglia .\n",
            "______________________________________________________________________\n",
            " essere uno donna che tenere per cucire e per aiutare leah ,  continuare il vedova .\n",
            "______________________________________________________________________\n",
            " signore rochester , lasciare che vi guardare in faccia ; voltare verso il luna .\n",
            "______________________________________________________________________\n",
            "volentieri , \" risposare , e provare uno brivido di piacere da artista all' idea di potere ritrarre uno modello così perfetto e radioso .\n"
          ]
        }
      ]
    },
    {
      "cell_type": "code",
      "metadata": {
        "colab": {
          "base_uri": "https://localhost:8080/"
        },
        "id": "F2qPcR-Ywge8",
        "outputId": "a27b40fb-6752-4308-84e8-5fec1e787ff1"
      },
      "source": [
        "# considers sample of 6 random sentences for cluster 2\n",
        "# \n",
        "\n",
        "print(data.iloc[data.groupby(['Word2Vec Label']).groups[2][150]]['text'])\n",
        "print(\"_\" * 70)\n",
        "print(data.iloc[data.groupby(['Word2Vec Label']).groups[2][1253]]['text'])\n",
        "print(\"_\" * 70)\n",
        "print(data.iloc[data.groupby(['Word2Vec Label']).groups[2][370]]['text'])\n",
        "print(\"_\" * 70)\n",
        "print(data.iloc[data.groupby(['Word2Vec Label']).groups[2][400]]['text'])\n",
        "print(\"_\" * 70)\n",
        "print(data.iloc[data.groupby(['Word2Vec Label']).groups[2][970]]['text'])\n",
        "print(\"_\" * 70)\n",
        "print(data.iloc[data.groupby(['Word2Vec Label']).groups[2][1830]]['text'])\n",
        "print(\"_\" * 70)\n",
        "print(data.iloc[data.groupby(['Word2Vec Label']).groups[2][2010]]['text'])"
      ],
      "execution_count": null,
      "outputs": [
        {
          "output_type": "stream",
          "name": "stdout",
          "text": [
            " come potere compiangermi dopo quello che avere dire il signore bockelhurst \" \n",
            "\n",
            "  egli non essere dio , non essere uno uomo che riscuotere fiducia .\n",
            "______________________________________________________________________\n",
            "questo tuo tendenza alla sciatteria essere incorreggibile !\n",
            "______________________________________________________________________\n",
            " credere ,  dire lady lynn ,  che essere pupilla del signore rochester , quella francesina di cui ci avere parlare .\n",
            "______________________________________________________________________\n",
            "nonostante che essere truccare , riconoscere in lui il signore rochester .\n",
            "______________________________________________________________________\n",
            "quello parola mi avvertire che il signore Edoardo , il mio signore rochester , essere vivo .\n",
            "______________________________________________________________________\n",
            "\" addio , Miss eyre , per il momento .\n",
            "______________________________________________________________________\n",
            "\" voi , signore , essere il cosa molto simile a uno fantasma che io conoscere .\n"
          ]
        }
      ]
    },
    {
      "cell_type": "code",
      "metadata": {
        "id": "9u6GrQBxiiuF"
      },
      "source": [
        ""
      ],
      "execution_count": null,
      "outputs": []
    },
    {
      "cell_type": "code",
      "metadata": {
        "id": "lvL9TTYliiXQ"
      },
      "source": [
        ""
      ],
      "execution_count": null,
      "outputs": []
    }
  ]
}