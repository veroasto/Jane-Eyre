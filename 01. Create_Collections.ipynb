{
 "cells": [
  {
   "cell_type": "code",
   "execution_count": 1,
   "metadata": {},
   "outputs": [
    {
     "name": "stdout",
     "output_type": "stream",
     "text": [
      "3.12.0\n",
      "True\n"
     ]
    }
   ],
   "source": [
    "import pymongo\n",
    "print(pymongo.version)\n",
    "print(pymongo.has_c())"
   ]
  },
  {
   "cell_type": "code",
   "execution_count": 2,
   "metadata": {},
   "outputs": [
    {
     "name": "stdout",
     "output_type": "stream",
     "text": [
      "Requirement already satisfied: pymongo in ./opt/anaconda3/lib/python3.8/site-packages (3.12.0)\n",
      "Requirement already satisfied: pymongo[srv] in ./opt/anaconda3/lib/python3.8/site-packages (3.12.0)\n",
      "Requirement already satisfied: dnspython<2.0.0,>=1.16.0; extra == \"srv\" in ./opt/anaconda3/lib/python3.8/site-packages (from pymongo[srv]) (1.16.0)\n",
      "Requirement already satisfied: pymongo[tls] in ./opt/anaconda3/lib/python3.8/site-packages (3.12.0)\n"
     ]
    }
   ],
   "source": [
    "!pip install pymongo\n",
    "!pip3 install pymongo[srv]\n",
    "!pip3 install pymongo[tls]"
   ]
  },
  {
   "cell_type": "code",
   "execution_count": 8,
   "metadata": {},
   "outputs": [],
   "source": [
    "import pymongo\n",
    "from pymongo import MongoClient\n",
    "\n",
    "cluster =MongoClient('localhost', 27017)\n",
    "db = cluster[\"Libro\"]\n",
    "collection = db[\"Feltrinelli\"]\n",
    "collection2 = db[\"Treves\"]"
   ]
  },
  {
   "cell_type": "code",
   "execution_count": 9,
   "metadata": {},
   "outputs": [
    {
     "data": {
      "text/plain": [
       "Collection(Database(MongoClient(host=['localhost:27017'], document_class=dict, tz_aware=False, connect=True), 'Libro'), 'Feltrinelli')"
      ]
     },
     "execution_count": 9,
     "metadata": {},
     "output_type": "execute_result"
    }
   ],
   "source": [
    "collection"
   ]
  },
  {
   "cell_type": "code",
   "execution_count": 10,
   "metadata": {},
   "outputs": [],
   "source": [
    "f = open('Jane Eyre_Feltrinelli_pulito.txt', 'rt', encoding=\"ISO-8859-1\")  # open a file\n",
    "text = f.read()    # read the entire contents"
   ]
  },
  {
   "cell_type": "code",
   "execution_count": 11,
   "metadata": {},
   "outputs": [],
   "source": [
    "f_2 = open('Jane Eyre_Treves_pulito.txt', 'rt', encoding=\"ISO-8859-1\")  # open a file\n",
    "text_2 = f_2.read()    # read the entire contents"
   ]
  },
  {
   "cell_type": "code",
   "execution_count": 12,
   "metadata": {},
   "outputs": [
    {
     "data": {
      "text/plain": [
       "<pymongo.results.InsertOneResult at 0x7fe2802cdfc0>"
      ]
     },
     "execution_count": 12,
     "metadata": {},
     "output_type": "execute_result"
    }
   ],
   "source": [
    "# build a document to be inserted\n",
    "text_file_doc = { '_id': 'Jane Eyre_Feltrinelli_pulito.txt', \"author\": 'Charlotte Brontë', \"contents\" : text, \"publishing house\": 'Feltrinelli Editore', \"year\": 2014}\n",
    "#\"_id\": 'Jane Eyre_Feltrinelli_pulito.txt'\n",
    "collection.insert_one(text_file_doc)"
   ]
  },
  {
   "cell_type": "code",
   "execution_count": 13,
   "metadata": {},
   "outputs": [
    {
     "data": {
      "text/plain": [
       "<pymongo.results.InsertOneResult at 0x7fe2802d3680>"
      ]
     },
     "execution_count": 13,
     "metadata": {},
     "output_type": "execute_result"
    }
   ],
   "source": [
    "# build a second document to be inserted\n",
    "text_file_doc_2 = {\"_id\":'Jane Eyre_Treves_pulito.txt', \"author\": 'Charlotte Brontë', \"contents\" : text_2, \"publishing house\": 'Fratelli Treves Editori', \"year\": 1904}\n",
    "#\"_id\": 'Jane Eyre_Treves_pulito.txt'\n",
    "collection2.insert_one(text_file_doc_2)"
   ]
  },
  {
   "cell_type": "code",
   "execution_count": 14,
   "metadata": {},
   "outputs": [],
   "source": [
    "Feltrinelli = list(collection.find({ '_id': 'Jane Eyre_Feltrinelli_pulito.txt', \"contents\" : text }, {\"_id\":0, \"contents\": 1}))"
   ]
  },
  {
   "cell_type": "code",
   "execution_count": 15,
   "metadata": {},
   "outputs": [],
   "source": [
    "Treves = list(collection2.find({'_id': 'Jane Eyre_Treves_pulito.txt',\"contents\" : text_2 }, {\"_id\":0, \"contents\": 1}))"
   ]
  },
  {
   "cell_type": "code",
   "execution_count": 16,
   "metadata": {},
   "outputs": [],
   "source": [
    "import pandas as pd\n",
    "df = pd.DataFrame(list(collection.find()))\n",
    "df1 = pd.DataFrame(list(collection2.find()))"
   ]
  },
  {
   "cell_type": "code",
   "execution_count": 17,
   "metadata": {},
   "outputs": [
    {
     "data": {
      "text/html": [
       "<div>\n",
       "<style scoped>\n",
       "    .dataframe tbody tr th:only-of-type {\n",
       "        vertical-align: middle;\n",
       "    }\n",
       "\n",
       "    .dataframe tbody tr th {\n",
       "        vertical-align: top;\n",
       "    }\n",
       "\n",
       "    .dataframe thead th {\n",
       "        text-align: right;\n",
       "    }\n",
       "</style>\n",
       "<table border=\"1\" class=\"dataframe\">\n",
       "  <thead>\n",
       "    <tr style=\"text-align: right;\">\n",
       "      <th></th>\n",
       "      <th>_id</th>\n",
       "      <th>author</th>\n",
       "      <th>contents</th>\n",
       "      <th>publishing house</th>\n",
       "      <th>year</th>\n",
       "    </tr>\n",
       "  </thead>\n",
       "  <tbody>\n",
       "    <tr>\n",
       "      <th>0</th>\n",
       "      <td>Jane Eyre_Feltrinelli_pulito.txt</td>\n",
       "      <td>Charlotte Brontë</td>\n",
       "      <td>Quel giorno era impossibile uscire a passeggio...</td>\n",
       "      <td>Feltrinelli Editore</td>\n",
       "      <td>2014</td>\n",
       "    </tr>\n",
       "    <tr>\n",
       "      <th>1</th>\n",
       "      <td>Jane Eyre_Treves_pulito.txt</td>\n",
       "      <td>Charlotte Brontë</td>\n",
       "      <td>In quel giorno era impossibile passeggiare. La...</td>\n",
       "      <td>Fratelli Treves Editori</td>\n",
       "      <td>1904</td>\n",
       "    </tr>\n",
       "  </tbody>\n",
       "</table>\n",
       "</div>"
      ],
      "text/plain": [
       "                                _id            author  \\\n",
       "0  Jane Eyre_Feltrinelli_pulito.txt  Charlotte Brontë   \n",
       "1       Jane Eyre_Treves_pulito.txt  Charlotte Brontë   \n",
       "\n",
       "                                            contents         publishing house  \\\n",
       "0  Quel giorno era impossibile uscire a passeggio...      Feltrinelli Editore   \n",
       "1  In quel giorno era impossibile passeggiare. La...  Fratelli Treves Editori   \n",
       "\n",
       "   year  \n",
       "0  2014  \n",
       "1  1904  "
      ]
     },
     "execution_count": 17,
     "metadata": {},
     "output_type": "execute_result"
    }
   ],
   "source": [
    "df_row_merged = pd.concat([df, df1], ignore_index=True)\n",
    "df_row_merged"
   ]
  },
  {
   "cell_type": "code",
   "execution_count": 18,
   "metadata": {},
   "outputs": [],
   "source": [
    "df_row_merged.to_csv('Books.csv')"
   ]
  },
  {
   "cell_type": "code",
   "execution_count": null,
   "metadata": {},
   "outputs": [],
   "source": []
  }
 ],
 "metadata": {
  "kernelspec": {
   "display_name": "Python 3",
   "language": "python",
   "name": "python3"
  },
  "language_info": {
   "codemirror_mode": {
    "name": "ipython",
    "version": 3
   },
   "file_extension": ".py",
   "mimetype": "text/x-python",
   "name": "python",
   "nbconvert_exporter": "python",
   "pygments_lexer": "ipython3",
   "version": "3.8.3"
  },
  "latex_envs": {
   "LaTeX_envs_menu_present": true,
   "autoclose": false,
   "autocomplete": true,
   "bibliofile": "biblio.bib",
   "cite_by": "apalike",
   "current_citInitial": 1,
   "eqLabelWithNumbers": true,
   "eqNumInitial": 1,
   "hotkeys": {
    "equation": "Ctrl-E",
    "itemize": "Ctrl-I"
   },
   "labels_anchors": false,
   "latex_user_defs": false,
   "report_style_numbering": false,
   "user_envs_cfg": false
  },
  "varInspector": {
   "cols": {
    "lenName": 16,
    "lenType": 16,
    "lenVar": 40
   },
   "kernels_config": {
    "python": {
     "delete_cmd_postfix": "",
     "delete_cmd_prefix": "del ",
     "library": "var_list.py",
     "varRefreshCmd": "print(var_dic_list())"
    },
    "r": {
     "delete_cmd_postfix": ") ",
     "delete_cmd_prefix": "rm(",
     "library": "var_list.r",
     "varRefreshCmd": "cat(var_dic_list()) "
    }
   },
   "types_to_exclude": [
    "module",
    "function",
    "builtin_function_or_method",
    "instance",
    "_Feature"
   ],
   "window_display": false
  }
 },
 "nbformat": 4,
 "nbformat_minor": 4
}
