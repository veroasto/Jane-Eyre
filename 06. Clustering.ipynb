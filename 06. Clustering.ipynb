{
  "nbformat": 4,
  "nbformat_minor": 0,
  "metadata": {
    "colab": {
      "name": "06. Clustering.ipynb",
      "provenance": [],
      "collapsed_sections": []
    },
    "kernelspec": {
      "display_name": "Python 3",
      "name": "python3"
    },
    "language_info": {
      "name": "python"
    },
    "widgets": {
      "application/vnd.jupyter.widget-state+json": {
        "9f1aec1ec80945ad9cb92867cb02a124": {
          "model_module": "@jupyter-widgets/controls",
          "model_name": "HBoxModel",
          "model_module_version": "1.5.0",
          "state": {
            "_view_name": "HBoxView",
            "_dom_classes": [],
            "_model_name": "HBoxModel",
            "_view_module": "@jupyter-widgets/controls",
            "_model_module_version": "1.5.0",
            "_view_count": null,
            "_view_module_version": "1.5.0",
            "box_style": "",
            "layout": "IPY_MODEL_6e89faf4405342afbc4d13eb88407b2f",
            "_model_module": "@jupyter-widgets/controls",
            "children": [
              "IPY_MODEL_450ac5fe28c14f4aacb00d18d1c00a92",
              "IPY_MODEL_3c2849bdca8f4d07a74d2ca4181076d4",
              "IPY_MODEL_d5251479213a4ab4aa9482d70c50325b"
            ]
          }
        },
        "6e89faf4405342afbc4d13eb88407b2f": {
          "model_module": "@jupyter-widgets/base",
          "model_name": "LayoutModel",
          "model_module_version": "1.2.0",
          "state": {
            "_view_name": "LayoutView",
            "grid_template_rows": null,
            "right": null,
            "justify_content": null,
            "_view_module": "@jupyter-widgets/base",
            "overflow": null,
            "_model_module_version": "1.2.0",
            "_view_count": null,
            "flex_flow": null,
            "width": null,
            "min_width": null,
            "border": null,
            "align_items": null,
            "bottom": null,
            "_model_module": "@jupyter-widgets/base",
            "top": null,
            "grid_column": null,
            "overflow_y": null,
            "overflow_x": null,
            "grid_auto_flow": null,
            "grid_area": null,
            "grid_template_columns": null,
            "flex": null,
            "_model_name": "LayoutModel",
            "justify_items": null,
            "grid_row": null,
            "max_height": null,
            "align_content": null,
            "visibility": null,
            "align_self": null,
            "height": null,
            "min_height": null,
            "padding": null,
            "grid_auto_rows": null,
            "grid_gap": null,
            "max_width": null,
            "order": null,
            "_view_module_version": "1.2.0",
            "grid_template_areas": null,
            "object_position": null,
            "object_fit": null,
            "grid_auto_columns": null,
            "margin": null,
            "display": null,
            "left": null
          }
        },
        "450ac5fe28c14f4aacb00d18d1c00a92": {
          "model_module": "@jupyter-widgets/controls",
          "model_name": "HTMLModel",
          "model_module_version": "1.5.0",
          "state": {
            "_view_name": "HTMLView",
            "style": "IPY_MODEL_eccef8d0eb8f460d8fc99402536e0660",
            "_dom_classes": [],
            "description": "",
            "_model_name": "HTMLModel",
            "placeholder": "​",
            "_view_module": "@jupyter-widgets/controls",
            "_model_module_version": "1.5.0",
            "value": "",
            "_view_count": null,
            "_view_module_version": "1.5.0",
            "description_tooltip": null,
            "_model_module": "@jupyter-widgets/controls",
            "layout": "IPY_MODEL_92b9beaaba384f9b8253567ac4b5f030"
          }
        },
        "3c2849bdca8f4d07a74d2ca4181076d4": {
          "model_module": "@jupyter-widgets/controls",
          "model_name": "FloatProgressModel",
          "model_module_version": "1.5.0",
          "state": {
            "_view_name": "ProgressView",
            "style": "IPY_MODEL_b4df7c9064094ffab184b04d396949b0",
            "_dom_classes": [],
            "description": "",
            "_model_name": "FloatProgressModel",
            "bar_style": "success",
            "max": 1,
            "_view_module": "@jupyter-widgets/controls",
            "_model_module_version": "1.5.0",
            "value": 1,
            "_view_count": null,
            "_view_module_version": "1.5.0",
            "orientation": "horizontal",
            "min": 0,
            "description_tooltip": null,
            "_model_module": "@jupyter-widgets/controls",
            "layout": "IPY_MODEL_dbdab698a5624f2c9b0bb4d3ba26577e"
          }
        },
        "d5251479213a4ab4aa9482d70c50325b": {
          "model_module": "@jupyter-widgets/controls",
          "model_name": "HTMLModel",
          "model_module_version": "1.5.0",
          "state": {
            "_view_name": "HTMLView",
            "style": "IPY_MODEL_704708f9b6a543fb9904fc94a259e46a",
            "_dom_classes": [],
            "description": "",
            "_model_name": "HTMLModel",
            "placeholder": "​",
            "_view_module": "@jupyter-widgets/controls",
            "_model_module_version": "1.5.0",
            "value": " 2/? [04:41&lt;00:00, 116.22s/it]",
            "_view_count": null,
            "_view_module_version": "1.5.0",
            "description_tooltip": null,
            "_model_module": "@jupyter-widgets/controls",
            "layout": "IPY_MODEL_50baa6daf8a747999f1020e5259c44a2"
          }
        },
        "eccef8d0eb8f460d8fc99402536e0660": {
          "model_module": "@jupyter-widgets/controls",
          "model_name": "DescriptionStyleModel",
          "model_module_version": "1.5.0",
          "state": {
            "_view_name": "StyleView",
            "_model_name": "DescriptionStyleModel",
            "description_width": "",
            "_view_module": "@jupyter-widgets/base",
            "_model_module_version": "1.5.0",
            "_view_count": null,
            "_view_module_version": "1.2.0",
            "_model_module": "@jupyter-widgets/controls"
          }
        },
        "92b9beaaba384f9b8253567ac4b5f030": {
          "model_module": "@jupyter-widgets/base",
          "model_name": "LayoutModel",
          "model_module_version": "1.2.0",
          "state": {
            "_view_name": "LayoutView",
            "grid_template_rows": null,
            "right": null,
            "justify_content": null,
            "_view_module": "@jupyter-widgets/base",
            "overflow": null,
            "_model_module_version": "1.2.0",
            "_view_count": null,
            "flex_flow": null,
            "width": null,
            "min_width": null,
            "border": null,
            "align_items": null,
            "bottom": null,
            "_model_module": "@jupyter-widgets/base",
            "top": null,
            "grid_column": null,
            "overflow_y": null,
            "overflow_x": null,
            "grid_auto_flow": null,
            "grid_area": null,
            "grid_template_columns": null,
            "flex": null,
            "_model_name": "LayoutModel",
            "justify_items": null,
            "grid_row": null,
            "max_height": null,
            "align_content": null,
            "visibility": null,
            "align_self": null,
            "height": null,
            "min_height": null,
            "padding": null,
            "grid_auto_rows": null,
            "grid_gap": null,
            "max_width": null,
            "order": null,
            "_view_module_version": "1.2.0",
            "grid_template_areas": null,
            "object_position": null,
            "object_fit": null,
            "grid_auto_columns": null,
            "margin": null,
            "display": null,
            "left": null
          }
        },
        "b4df7c9064094ffab184b04d396949b0": {
          "model_module": "@jupyter-widgets/controls",
          "model_name": "ProgressStyleModel",
          "model_module_version": "1.5.0",
          "state": {
            "_view_name": "StyleView",
            "_model_name": "ProgressStyleModel",
            "description_width": "",
            "_view_module": "@jupyter-widgets/base",
            "_model_module_version": "1.5.0",
            "_view_count": null,
            "_view_module_version": "1.2.0",
            "bar_color": null,
            "_model_module": "@jupyter-widgets/controls"
          }
        },
        "dbdab698a5624f2c9b0bb4d3ba26577e": {
          "model_module": "@jupyter-widgets/base",
          "model_name": "LayoutModel",
          "model_module_version": "1.2.0",
          "state": {
            "_view_name": "LayoutView",
            "grid_template_rows": null,
            "right": null,
            "justify_content": null,
            "_view_module": "@jupyter-widgets/base",
            "overflow": null,
            "_model_module_version": "1.2.0",
            "_view_count": null,
            "flex_flow": null,
            "width": "20px",
            "min_width": null,
            "border": null,
            "align_items": null,
            "bottom": null,
            "_model_module": "@jupyter-widgets/base",
            "top": null,
            "grid_column": null,
            "overflow_y": null,
            "overflow_x": null,
            "grid_auto_flow": null,
            "grid_area": null,
            "grid_template_columns": null,
            "flex": null,
            "_model_name": "LayoutModel",
            "justify_items": null,
            "grid_row": null,
            "max_height": null,
            "align_content": null,
            "visibility": null,
            "align_self": null,
            "height": null,
            "min_height": null,
            "padding": null,
            "grid_auto_rows": null,
            "grid_gap": null,
            "max_width": null,
            "order": null,
            "_view_module_version": "1.2.0",
            "grid_template_areas": null,
            "object_position": null,
            "object_fit": null,
            "grid_auto_columns": null,
            "margin": null,
            "display": null,
            "left": null
          }
        },
        "704708f9b6a543fb9904fc94a259e46a": {
          "model_module": "@jupyter-widgets/controls",
          "model_name": "DescriptionStyleModel",
          "model_module_version": "1.5.0",
          "state": {
            "_view_name": "StyleView",
            "_model_name": "DescriptionStyleModel",
            "description_width": "",
            "_view_module": "@jupyter-widgets/base",
            "_model_module_version": "1.5.0",
            "_view_count": null,
            "_view_module_version": "1.2.0",
            "_model_module": "@jupyter-widgets/controls"
          }
        },
        "50baa6daf8a747999f1020e5259c44a2": {
          "model_module": "@jupyter-widgets/base",
          "model_name": "LayoutModel",
          "model_module_version": "1.2.0",
          "state": {
            "_view_name": "LayoutView",
            "grid_template_rows": null,
            "right": null,
            "justify_content": null,
            "_view_module": "@jupyter-widgets/base",
            "overflow": null,
            "_model_module_version": "1.2.0",
            "_view_count": null,
            "flex_flow": null,
            "width": null,
            "min_width": null,
            "border": null,
            "align_items": null,
            "bottom": null,
            "_model_module": "@jupyter-widgets/base",
            "top": null,
            "grid_column": null,
            "overflow_y": null,
            "overflow_x": null,
            "grid_auto_flow": null,
            "grid_area": null,
            "grid_template_columns": null,
            "flex": null,
            "_model_name": "LayoutModel",
            "justify_items": null,
            "grid_row": null,
            "max_height": null,
            "align_content": null,
            "visibility": null,
            "align_self": null,
            "height": null,
            "min_height": null,
            "padding": null,
            "grid_auto_rows": null,
            "grid_gap": null,
            "max_width": null,
            "order": null,
            "_view_module_version": "1.2.0",
            "grid_template_areas": null,
            "object_position": null,
            "object_fit": null,
            "grid_auto_columns": null,
            "margin": null,
            "display": null,
            "left": null
          }
        },
        "2cf8a7c6990349d182e2f998b03a865a": {
          "model_module": "@jupyter-widgets/controls",
          "model_name": "HBoxModel",
          "model_module_version": "1.5.0",
          "state": {
            "_view_name": "HBoxView",
            "_dom_classes": [],
            "_model_name": "HBoxModel",
            "_view_module": "@jupyter-widgets/controls",
            "_model_module_version": "1.5.0",
            "_view_count": null,
            "_view_module_version": "1.5.0",
            "box_style": "",
            "layout": "IPY_MODEL_e79b914dc65e4caab22d6fc669b6271b",
            "_model_module": "@jupyter-widgets/controls",
            "children": [
              "IPY_MODEL_a6d0cfcd989a4ba6b3db9b25a331b1a8",
              "IPY_MODEL_12d461f2dee04830a574e647b7c72fe3",
              "IPY_MODEL_53947f3263c641578ff9954023bd1f6c"
            ]
          }
        },
        "e79b914dc65e4caab22d6fc669b6271b": {
          "model_module": "@jupyter-widgets/base",
          "model_name": "LayoutModel",
          "model_module_version": "1.2.0",
          "state": {
            "_view_name": "LayoutView",
            "grid_template_rows": null,
            "right": null,
            "justify_content": null,
            "_view_module": "@jupyter-widgets/base",
            "overflow": null,
            "_model_module_version": "1.2.0",
            "_view_count": null,
            "flex_flow": null,
            "width": null,
            "min_width": null,
            "border": null,
            "align_items": null,
            "bottom": null,
            "_model_module": "@jupyter-widgets/base",
            "top": null,
            "grid_column": null,
            "overflow_y": null,
            "overflow_x": null,
            "grid_auto_flow": null,
            "grid_area": null,
            "grid_template_columns": null,
            "flex": null,
            "_model_name": "LayoutModel",
            "justify_items": null,
            "grid_row": null,
            "max_height": null,
            "align_content": null,
            "visibility": null,
            "align_self": null,
            "height": null,
            "min_height": null,
            "padding": null,
            "grid_auto_rows": null,
            "grid_gap": null,
            "max_width": null,
            "order": null,
            "_view_module_version": "1.2.0",
            "grid_template_areas": null,
            "object_position": null,
            "object_fit": null,
            "grid_auto_columns": null,
            "margin": null,
            "display": null,
            "left": null
          }
        },
        "a6d0cfcd989a4ba6b3db9b25a331b1a8": {
          "model_module": "@jupyter-widgets/controls",
          "model_name": "HTMLModel",
          "model_module_version": "1.5.0",
          "state": {
            "_view_name": "HTMLView",
            "style": "IPY_MODEL_070a47f7acbf4b4db9b6af74fc426d67",
            "_dom_classes": [],
            "description": "",
            "_model_name": "HTMLModel",
            "placeholder": "​",
            "_view_module": "@jupyter-widgets/controls",
            "_model_module_version": "1.5.0",
            "value": "100%",
            "_view_count": null,
            "_view_module_version": "1.5.0",
            "description_tooltip": null,
            "_model_module": "@jupyter-widgets/controls",
            "layout": "IPY_MODEL_8a291ee10ee34a4388e66fd707e72d49"
          }
        },
        "12d461f2dee04830a574e647b7c72fe3": {
          "model_module": "@jupyter-widgets/controls",
          "model_name": "FloatProgressModel",
          "model_module_version": "1.5.0",
          "state": {
            "_view_name": "ProgressView",
            "style": "IPY_MODEL_0f5cee2c7ffa49d8b351d23e638ab416",
            "_dom_classes": [],
            "description": "",
            "_model_name": "FloatProgressModel",
            "bar_style": "success",
            "max": 2,
            "_view_module": "@jupyter-widgets/controls",
            "_model_module_version": "1.5.0",
            "value": 2,
            "_view_count": null,
            "_view_module_version": "1.5.0",
            "orientation": "horizontal",
            "min": 0,
            "description_tooltip": null,
            "_model_module": "@jupyter-widgets/controls",
            "layout": "IPY_MODEL_cb3c996dbe9d4ca68df79c108e03f56a"
          }
        },
        "53947f3263c641578ff9954023bd1f6c": {
          "model_module": "@jupyter-widgets/controls",
          "model_name": "HTMLModel",
          "model_module_version": "1.5.0",
          "state": {
            "_view_name": "HTMLView",
            "style": "IPY_MODEL_321a24c983d54a50b046051776f1eb0f",
            "_dom_classes": [],
            "description": "",
            "_model_name": "HTMLModel",
            "placeholder": "​",
            "_view_module": "@jupyter-widgets/controls",
            "_model_module_version": "1.5.0",
            "value": " 2/2 [00:00&lt;00:00,  8.24it/s]",
            "_view_count": null,
            "_view_module_version": "1.5.0",
            "description_tooltip": null,
            "_model_module": "@jupyter-widgets/controls",
            "layout": "IPY_MODEL_b711cc9f1d8c4a45ba2a5d2538c7f8e0"
          }
        },
        "070a47f7acbf4b4db9b6af74fc426d67": {
          "model_module": "@jupyter-widgets/controls",
          "model_name": "DescriptionStyleModel",
          "model_module_version": "1.5.0",
          "state": {
            "_view_name": "StyleView",
            "_model_name": "DescriptionStyleModel",
            "description_width": "",
            "_view_module": "@jupyter-widgets/base",
            "_model_module_version": "1.5.0",
            "_view_count": null,
            "_view_module_version": "1.2.0",
            "_model_module": "@jupyter-widgets/controls"
          }
        },
        "8a291ee10ee34a4388e66fd707e72d49": {
          "model_module": "@jupyter-widgets/base",
          "model_name": "LayoutModel",
          "model_module_version": "1.2.0",
          "state": {
            "_view_name": "LayoutView",
            "grid_template_rows": null,
            "right": null,
            "justify_content": null,
            "_view_module": "@jupyter-widgets/base",
            "overflow": null,
            "_model_module_version": "1.2.0",
            "_view_count": null,
            "flex_flow": null,
            "width": null,
            "min_width": null,
            "border": null,
            "align_items": null,
            "bottom": null,
            "_model_module": "@jupyter-widgets/base",
            "top": null,
            "grid_column": null,
            "overflow_y": null,
            "overflow_x": null,
            "grid_auto_flow": null,
            "grid_area": null,
            "grid_template_columns": null,
            "flex": null,
            "_model_name": "LayoutModel",
            "justify_items": null,
            "grid_row": null,
            "max_height": null,
            "align_content": null,
            "visibility": null,
            "align_self": null,
            "height": null,
            "min_height": null,
            "padding": null,
            "grid_auto_rows": null,
            "grid_gap": null,
            "max_width": null,
            "order": null,
            "_view_module_version": "1.2.0",
            "grid_template_areas": null,
            "object_position": null,
            "object_fit": null,
            "grid_auto_columns": null,
            "margin": null,
            "display": null,
            "left": null
          }
        },
        "0f5cee2c7ffa49d8b351d23e638ab416": {
          "model_module": "@jupyter-widgets/controls",
          "model_name": "ProgressStyleModel",
          "model_module_version": "1.5.0",
          "state": {
            "_view_name": "StyleView",
            "_model_name": "ProgressStyleModel",
            "description_width": "",
            "_view_module": "@jupyter-widgets/base",
            "_model_module_version": "1.5.0",
            "_view_count": null,
            "_view_module_version": "1.2.0",
            "bar_color": null,
            "_model_module": "@jupyter-widgets/controls"
          }
        },
        "cb3c996dbe9d4ca68df79c108e03f56a": {
          "model_module": "@jupyter-widgets/base",
          "model_name": "LayoutModel",
          "model_module_version": "1.2.0",
          "state": {
            "_view_name": "LayoutView",
            "grid_template_rows": null,
            "right": null,
            "justify_content": null,
            "_view_module": "@jupyter-widgets/base",
            "overflow": null,
            "_model_module_version": "1.2.0",
            "_view_count": null,
            "flex_flow": null,
            "width": null,
            "min_width": null,
            "border": null,
            "align_items": null,
            "bottom": null,
            "_model_module": "@jupyter-widgets/base",
            "top": null,
            "grid_column": null,
            "overflow_y": null,
            "overflow_x": null,
            "grid_auto_flow": null,
            "grid_area": null,
            "grid_template_columns": null,
            "flex": null,
            "_model_name": "LayoutModel",
            "justify_items": null,
            "grid_row": null,
            "max_height": null,
            "align_content": null,
            "visibility": null,
            "align_self": null,
            "height": null,
            "min_height": null,
            "padding": null,
            "grid_auto_rows": null,
            "grid_gap": null,
            "max_width": null,
            "order": null,
            "_view_module_version": "1.2.0",
            "grid_template_areas": null,
            "object_position": null,
            "object_fit": null,
            "grid_auto_columns": null,
            "margin": null,
            "display": null,
            "left": null
          }
        },
        "321a24c983d54a50b046051776f1eb0f": {
          "model_module": "@jupyter-widgets/controls",
          "model_name": "DescriptionStyleModel",
          "model_module_version": "1.5.0",
          "state": {
            "_view_name": "StyleView",
            "_model_name": "DescriptionStyleModel",
            "description_width": "",
            "_view_module": "@jupyter-widgets/base",
            "_model_module_version": "1.5.0",
            "_view_count": null,
            "_view_module_version": "1.2.0",
            "_model_module": "@jupyter-widgets/controls"
          }
        },
        "b711cc9f1d8c4a45ba2a5d2538c7f8e0": {
          "model_module": "@jupyter-widgets/base",
          "model_name": "LayoutModel",
          "model_module_version": "1.2.0",
          "state": {
            "_view_name": "LayoutView",
            "grid_template_rows": null,
            "right": null,
            "justify_content": null,
            "_view_module": "@jupyter-widgets/base",
            "overflow": null,
            "_model_module_version": "1.2.0",
            "_view_count": null,
            "flex_flow": null,
            "width": null,
            "min_width": null,
            "border": null,
            "align_items": null,
            "bottom": null,
            "_model_module": "@jupyter-widgets/base",
            "top": null,
            "grid_column": null,
            "overflow_y": null,
            "overflow_x": null,
            "grid_auto_flow": null,
            "grid_area": null,
            "grid_template_columns": null,
            "flex": null,
            "_model_name": "LayoutModel",
            "justify_items": null,
            "grid_row": null,
            "max_height": null,
            "align_content": null,
            "visibility": null,
            "align_self": null,
            "height": null,
            "min_height": null,
            "padding": null,
            "grid_auto_rows": null,
            "grid_gap": null,
            "max_width": null,
            "order": null,
            "_view_module_version": "1.2.0",
            "grid_template_areas": null,
            "object_position": null,
            "object_fit": null,
            "grid_auto_columns": null,
            "margin": null,
            "display": null,
            "left": null
          }
        },
        "36901686bd734819ba2b855f7ad1c34c": {
          "model_module": "@jupyter-widgets/controls",
          "model_name": "HBoxModel",
          "model_module_version": "1.5.0",
          "state": {
            "_view_name": "HBoxView",
            "_dom_classes": [],
            "_model_name": "HBoxModel",
            "_view_module": "@jupyter-widgets/controls",
            "_model_module_version": "1.5.0",
            "_view_count": null,
            "_view_module_version": "1.5.0",
            "box_style": "",
            "layout": "IPY_MODEL_7c8f88a734cf4d0d840c541de8c5f692",
            "_model_module": "@jupyter-widgets/controls",
            "children": [
              "IPY_MODEL_601197e85d0f4362947b293312361dd7",
              "IPY_MODEL_2df77814537849abafa80540db44aecc",
              "IPY_MODEL_2e893e60f23046aab528d433258de62b"
            ]
          }
        },
        "7c8f88a734cf4d0d840c541de8c5f692": {
          "model_module": "@jupyter-widgets/base",
          "model_name": "LayoutModel",
          "model_module_version": "1.2.0",
          "state": {
            "_view_name": "LayoutView",
            "grid_template_rows": null,
            "right": null,
            "justify_content": null,
            "_view_module": "@jupyter-widgets/base",
            "overflow": null,
            "_model_module_version": "1.2.0",
            "_view_count": null,
            "flex_flow": null,
            "width": null,
            "min_width": null,
            "border": null,
            "align_items": null,
            "bottom": null,
            "_model_module": "@jupyter-widgets/base",
            "top": null,
            "grid_column": null,
            "overflow_y": null,
            "overflow_x": null,
            "grid_auto_flow": null,
            "grid_area": null,
            "grid_template_columns": null,
            "flex": null,
            "_model_name": "LayoutModel",
            "justify_items": null,
            "grid_row": null,
            "max_height": null,
            "align_content": null,
            "visibility": null,
            "align_self": null,
            "height": null,
            "min_height": null,
            "padding": null,
            "grid_auto_rows": null,
            "grid_gap": null,
            "max_width": null,
            "order": null,
            "_view_module_version": "1.2.0",
            "grid_template_areas": null,
            "object_position": null,
            "object_fit": null,
            "grid_auto_columns": null,
            "margin": null,
            "display": null,
            "left": null
          }
        },
        "601197e85d0f4362947b293312361dd7": {
          "model_module": "@jupyter-widgets/controls",
          "model_name": "HTMLModel",
          "model_module_version": "1.5.0",
          "state": {
            "_view_name": "HTMLView",
            "style": "IPY_MODEL_fb96aa2f82d34dd5a0fd363293b38c08",
            "_dom_classes": [],
            "description": "",
            "_model_name": "HTMLModel",
            "placeholder": "​",
            "_view_module": "@jupyter-widgets/controls",
            "_model_module_version": "1.5.0",
            "value": "100%",
            "_view_count": null,
            "_view_module_version": "1.5.0",
            "description_tooltip": null,
            "_model_module": "@jupyter-widgets/controls",
            "layout": "IPY_MODEL_a49a8f59f9c74ace9fec9f4c5db2d4a6"
          }
        },
        "2df77814537849abafa80540db44aecc": {
          "model_module": "@jupyter-widgets/controls",
          "model_name": "FloatProgressModel",
          "model_module_version": "1.5.0",
          "state": {
            "_view_name": "ProgressView",
            "style": "IPY_MODEL_899143c5fc6f4abb925a45c0f6991941",
            "_dom_classes": [],
            "description": "",
            "_model_name": "FloatProgressModel",
            "bar_style": "success",
            "max": 2,
            "_view_module": "@jupyter-widgets/controls",
            "_model_module_version": "1.5.0",
            "value": 2,
            "_view_count": null,
            "_view_module_version": "1.5.0",
            "orientation": "horizontal",
            "min": 0,
            "description_tooltip": null,
            "_model_module": "@jupyter-widgets/controls",
            "layout": "IPY_MODEL_5d7041d28e964a93bf4980748d8a1d06"
          }
        },
        "2e893e60f23046aab528d433258de62b": {
          "model_module": "@jupyter-widgets/controls",
          "model_name": "HTMLModel",
          "model_module_version": "1.5.0",
          "state": {
            "_view_name": "HTMLView",
            "style": "IPY_MODEL_cc53ea5a27e341fdb540c86f0091cc5b",
            "_dom_classes": [],
            "description": "",
            "_model_name": "HTMLModel",
            "placeholder": "​",
            "_view_module": "@jupyter-widgets/controls",
            "_model_module_version": "1.5.0",
            "value": " 2/2 [00:00&lt;00:00, 10.42it/s]",
            "_view_count": null,
            "_view_module_version": "1.5.0",
            "description_tooltip": null,
            "_model_module": "@jupyter-widgets/controls",
            "layout": "IPY_MODEL_7d71f461104d40fdb945007b7f164c35"
          }
        },
        "fb96aa2f82d34dd5a0fd363293b38c08": {
          "model_module": "@jupyter-widgets/controls",
          "model_name": "DescriptionStyleModel",
          "model_module_version": "1.5.0",
          "state": {
            "_view_name": "StyleView",
            "_model_name": "DescriptionStyleModel",
            "description_width": "",
            "_view_module": "@jupyter-widgets/base",
            "_model_module_version": "1.5.0",
            "_view_count": null,
            "_view_module_version": "1.2.0",
            "_model_module": "@jupyter-widgets/controls"
          }
        },
        "a49a8f59f9c74ace9fec9f4c5db2d4a6": {
          "model_module": "@jupyter-widgets/base",
          "model_name": "LayoutModel",
          "model_module_version": "1.2.0",
          "state": {
            "_view_name": "LayoutView",
            "grid_template_rows": null,
            "right": null,
            "justify_content": null,
            "_view_module": "@jupyter-widgets/base",
            "overflow": null,
            "_model_module_version": "1.2.0",
            "_view_count": null,
            "flex_flow": null,
            "width": null,
            "min_width": null,
            "border": null,
            "align_items": null,
            "bottom": null,
            "_model_module": "@jupyter-widgets/base",
            "top": null,
            "grid_column": null,
            "overflow_y": null,
            "overflow_x": null,
            "grid_auto_flow": null,
            "grid_area": null,
            "grid_template_columns": null,
            "flex": null,
            "_model_name": "LayoutModel",
            "justify_items": null,
            "grid_row": null,
            "max_height": null,
            "align_content": null,
            "visibility": null,
            "align_self": null,
            "height": null,
            "min_height": null,
            "padding": null,
            "grid_auto_rows": null,
            "grid_gap": null,
            "max_width": null,
            "order": null,
            "_view_module_version": "1.2.0",
            "grid_template_areas": null,
            "object_position": null,
            "object_fit": null,
            "grid_auto_columns": null,
            "margin": null,
            "display": null,
            "left": null
          }
        },
        "899143c5fc6f4abb925a45c0f6991941": {
          "model_module": "@jupyter-widgets/controls",
          "model_name": "ProgressStyleModel",
          "model_module_version": "1.5.0",
          "state": {
            "_view_name": "StyleView",
            "_model_name": "ProgressStyleModel",
            "description_width": "",
            "_view_module": "@jupyter-widgets/base",
            "_model_module_version": "1.5.0",
            "_view_count": null,
            "_view_module_version": "1.2.0",
            "bar_color": null,
            "_model_module": "@jupyter-widgets/controls"
          }
        },
        "5d7041d28e964a93bf4980748d8a1d06": {
          "model_module": "@jupyter-widgets/base",
          "model_name": "LayoutModel",
          "model_module_version": "1.2.0",
          "state": {
            "_view_name": "LayoutView",
            "grid_template_rows": null,
            "right": null,
            "justify_content": null,
            "_view_module": "@jupyter-widgets/base",
            "overflow": null,
            "_model_module_version": "1.2.0",
            "_view_count": null,
            "flex_flow": null,
            "width": null,
            "min_width": null,
            "border": null,
            "align_items": null,
            "bottom": null,
            "_model_module": "@jupyter-widgets/base",
            "top": null,
            "grid_column": null,
            "overflow_y": null,
            "overflow_x": null,
            "grid_auto_flow": null,
            "grid_area": null,
            "grid_template_columns": null,
            "flex": null,
            "_model_name": "LayoutModel",
            "justify_items": null,
            "grid_row": null,
            "max_height": null,
            "align_content": null,
            "visibility": null,
            "align_self": null,
            "height": null,
            "min_height": null,
            "padding": null,
            "grid_auto_rows": null,
            "grid_gap": null,
            "max_width": null,
            "order": null,
            "_view_module_version": "1.2.0",
            "grid_template_areas": null,
            "object_position": null,
            "object_fit": null,
            "grid_auto_columns": null,
            "margin": null,
            "display": null,
            "left": null
          }
        },
        "cc53ea5a27e341fdb540c86f0091cc5b": {
          "model_module": "@jupyter-widgets/controls",
          "model_name": "DescriptionStyleModel",
          "model_module_version": "1.5.0",
          "state": {
            "_view_name": "StyleView",
            "_model_name": "DescriptionStyleModel",
            "description_width": "",
            "_view_module": "@jupyter-widgets/base",
            "_model_module_version": "1.5.0",
            "_view_count": null,
            "_view_module_version": "1.2.0",
            "_model_module": "@jupyter-widgets/controls"
          }
        },
        "7d71f461104d40fdb945007b7f164c35": {
          "model_module": "@jupyter-widgets/base",
          "model_name": "LayoutModel",
          "model_module_version": "1.2.0",
          "state": {
            "_view_name": "LayoutView",
            "grid_template_rows": null,
            "right": null,
            "justify_content": null,
            "_view_module": "@jupyter-widgets/base",
            "overflow": null,
            "_model_module_version": "1.2.0",
            "_view_count": null,
            "flex_flow": null,
            "width": null,
            "min_width": null,
            "border": null,
            "align_items": null,
            "bottom": null,
            "_model_module": "@jupyter-widgets/base",
            "top": null,
            "grid_column": null,
            "overflow_y": null,
            "overflow_x": null,
            "grid_auto_flow": null,
            "grid_area": null,
            "grid_template_columns": null,
            "flex": null,
            "_model_name": "LayoutModel",
            "justify_items": null,
            "grid_row": null,
            "max_height": null,
            "align_content": null,
            "visibility": null,
            "align_self": null,
            "height": null,
            "min_height": null,
            "padding": null,
            "grid_auto_rows": null,
            "grid_gap": null,
            "max_width": null,
            "order": null,
            "_view_module_version": "1.2.0",
            "grid_template_areas": null,
            "object_position": null,
            "object_fit": null,
            "grid_auto_columns": null,
            "margin": null,
            "display": null,
            "left": null
          }
        }
      }
    }
  },
  "cells": [
    {
      "cell_type": "code",
      "metadata": {
        "colab": {
          "base_uri": "https://localhost:8080/"
        },
        "id": "pU4vVkijSx98",
        "outputId": "fce31aee-7ebd-4506-e55b-3874adad8edb"
      },
      "source": [
        "!pip install spacy --user\n",
        "!python3 -m spacy download it_core_news_sm\n",
        "!pip3 install -U spacy\n",
        "!pip3 install spacy\n",
        "!python -m spacy download it_core_news_sm"
      ],
      "execution_count": 1,
      "outputs": [
        {
          "output_type": "stream",
          "name": "stdout",
          "text": [
            "Requirement already satisfied: spacy in /usr/local/lib/python3.7/dist-packages (3.1.4)\n",
            "Requirement already satisfied: requests<3.0.0,>=2.13.0 in /usr/local/lib/python3.7/dist-packages (from spacy) (2.23.0)\n",
            "Requirement already satisfied: spacy-legacy<3.1.0,>=3.0.8 in /usr/local/lib/python3.7/dist-packages (from spacy) (3.0.8)\n",
            "Requirement already satisfied: typing-extensions<4.0.0.0,>=3.7.4 in /usr/local/lib/python3.7/dist-packages (from spacy) (3.7.4.3)\n",
            "Requirement already satisfied: setuptools in /usr/local/lib/python3.7/dist-packages (from spacy) (57.4.0)\n",
            "Requirement already satisfied: tqdm<5.0.0,>=4.38.0 in /usr/local/lib/python3.7/dist-packages (from spacy) (4.62.3)\n",
            "Requirement already satisfied: typer<0.5.0,>=0.3.0 in /usr/local/lib/python3.7/dist-packages (from spacy) (0.4.0)\n",
            "Requirement already satisfied: blis<0.8.0,>=0.4.0 in /usr/local/lib/python3.7/dist-packages (from spacy) (0.4.1)\n",
            "Requirement already satisfied: pathy>=0.3.5 in /usr/local/lib/python3.7/dist-packages (from spacy) (0.6.1)\n",
            "Requirement already satisfied: packaging>=20.0 in /usr/local/lib/python3.7/dist-packages (from spacy) (21.0)\n",
            "Requirement already satisfied: wasabi<1.1.0,>=0.8.1 in /usr/local/lib/python3.7/dist-packages (from spacy) (0.8.2)\n",
            "Requirement already satisfied: pydantic!=1.8,!=1.8.1,<1.9.0,>=1.7.4 in /usr/local/lib/python3.7/dist-packages (from spacy) (1.8.2)\n",
            "Requirement already satisfied: srsly<3.0.0,>=2.4.1 in /usr/local/lib/python3.7/dist-packages (from spacy) (2.4.2)\n",
            "Requirement already satisfied: catalogue<2.1.0,>=2.0.6 in /usr/local/lib/python3.7/dist-packages (from spacy) (2.0.6)\n",
            "Requirement already satisfied: jinja2 in /usr/local/lib/python3.7/dist-packages (from spacy) (2.11.3)\n",
            "Requirement already satisfied: thinc<8.1.0,>=8.0.12 in /usr/local/lib/python3.7/dist-packages (from spacy) (8.0.12)\n",
            "Requirement already satisfied: numpy>=1.15.0 in /usr/local/lib/python3.7/dist-packages (from spacy) (1.19.5)\n",
            "Requirement already satisfied: murmurhash<1.1.0,>=0.28.0 in /usr/local/lib/python3.7/dist-packages (from spacy) (1.0.5)\n",
            "Requirement already satisfied: cymem<2.1.0,>=2.0.2 in /usr/local/lib/python3.7/dist-packages (from spacy) (2.0.5)\n",
            "Requirement already satisfied: preshed<3.1.0,>=3.0.2 in /usr/local/lib/python3.7/dist-packages (from spacy) (3.0.5)\n",
            "Requirement already satisfied: zipp>=0.5 in /usr/local/lib/python3.7/dist-packages (from catalogue<2.1.0,>=2.0.6->spacy) (3.6.0)\n",
            "Requirement already satisfied: pyparsing>=2.0.2 in /usr/local/lib/python3.7/dist-packages (from packaging>=20.0->spacy) (2.4.7)\n",
            "Requirement already satisfied: smart-open<6.0.0,>=5.0.0 in /usr/local/lib/python3.7/dist-packages (from pathy>=0.3.5->spacy) (5.2.1)\n",
            "Requirement already satisfied: certifi>=2017.4.17 in /usr/local/lib/python3.7/dist-packages (from requests<3.0.0,>=2.13.0->spacy) (2021.5.30)\n",
            "Requirement already satisfied: idna<3,>=2.5 in /usr/local/lib/python3.7/dist-packages (from requests<3.0.0,>=2.13.0->spacy) (2.10)\n",
            "Requirement already satisfied: chardet<4,>=3.0.2 in /usr/local/lib/python3.7/dist-packages (from requests<3.0.0,>=2.13.0->spacy) (3.0.4)\n",
            "Requirement already satisfied: urllib3!=1.25.0,!=1.25.1,<1.26,>=1.21.1 in /usr/local/lib/python3.7/dist-packages (from requests<3.0.0,>=2.13.0->spacy) (1.24.3)\n",
            "Requirement already satisfied: click<9.0.0,>=7.1.1 in /usr/local/lib/python3.7/dist-packages (from typer<0.5.0,>=0.3.0->spacy) (7.1.2)\n",
            "Requirement already satisfied: MarkupSafe>=0.23 in /usr/local/lib/python3.7/dist-packages (from jinja2->spacy) (2.0.1)\n",
            "Collecting it-core-news-sm==3.1.0\n",
            "  Downloading https://github.com/explosion/spacy-models/releases/download/it_core_news_sm-3.1.0/it_core_news_sm-3.1.0-py3-none-any.whl (21.1 MB)\n",
            "\u001b[K     |████████████████████████████████| 21.1 MB 60.1 MB/s \n",
            "\u001b[?25hRequirement already satisfied: spacy<3.2.0,>=3.1.0 in /usr/local/lib/python3.7/dist-packages (from it-core-news-sm==3.1.0) (3.1.4)\n",
            "Requirement already satisfied: blis<0.8.0,>=0.4.0 in /usr/local/lib/python3.7/dist-packages (from spacy<3.2.0,>=3.1.0->it-core-news-sm==3.1.0) (0.4.1)\n",
            "Requirement already satisfied: wasabi<1.1.0,>=0.8.1 in /usr/local/lib/python3.7/dist-packages (from spacy<3.2.0,>=3.1.0->it-core-news-sm==3.1.0) (0.8.2)\n",
            "Requirement already satisfied: preshed<3.1.0,>=3.0.2 in /usr/local/lib/python3.7/dist-packages (from spacy<3.2.0,>=3.1.0->it-core-news-sm==3.1.0) (3.0.5)\n",
            "Requirement already satisfied: catalogue<2.1.0,>=2.0.6 in /usr/local/lib/python3.7/dist-packages (from spacy<3.2.0,>=3.1.0->it-core-news-sm==3.1.0) (2.0.6)\n",
            "Requirement already satisfied: cymem<2.1.0,>=2.0.2 in /usr/local/lib/python3.7/dist-packages (from spacy<3.2.0,>=3.1.0->it-core-news-sm==3.1.0) (2.0.5)\n",
            "Requirement already satisfied: setuptools in /usr/local/lib/python3.7/dist-packages (from spacy<3.2.0,>=3.1.0->it-core-news-sm==3.1.0) (57.4.0)\n",
            "Requirement already satisfied: thinc<8.1.0,>=8.0.12 in /usr/local/lib/python3.7/dist-packages (from spacy<3.2.0,>=3.1.0->it-core-news-sm==3.1.0) (8.0.12)\n",
            "Requirement already satisfied: jinja2 in /usr/local/lib/python3.7/dist-packages (from spacy<3.2.0,>=3.1.0->it-core-news-sm==3.1.0) (2.11.3)\n",
            "Requirement already satisfied: packaging>=20.0 in /usr/local/lib/python3.7/dist-packages (from spacy<3.2.0,>=3.1.0->it-core-news-sm==3.1.0) (21.0)\n",
            "Requirement already satisfied: murmurhash<1.1.0,>=0.28.0 in /usr/local/lib/python3.7/dist-packages (from spacy<3.2.0,>=3.1.0->it-core-news-sm==3.1.0) (1.0.5)\n",
            "Requirement already satisfied: pathy>=0.3.5 in /usr/local/lib/python3.7/dist-packages (from spacy<3.2.0,>=3.1.0->it-core-news-sm==3.1.0) (0.6.1)\n",
            "Requirement already satisfied: pydantic!=1.8,!=1.8.1,<1.9.0,>=1.7.4 in /usr/local/lib/python3.7/dist-packages (from spacy<3.2.0,>=3.1.0->it-core-news-sm==3.1.0) (1.8.2)\n",
            "Requirement already satisfied: spacy-legacy<3.1.0,>=3.0.8 in /usr/local/lib/python3.7/dist-packages (from spacy<3.2.0,>=3.1.0->it-core-news-sm==3.1.0) (3.0.8)\n",
            "Requirement already satisfied: numpy>=1.15.0 in /usr/local/lib/python3.7/dist-packages (from spacy<3.2.0,>=3.1.0->it-core-news-sm==3.1.0) (1.19.5)\n",
            "Requirement already satisfied: srsly<3.0.0,>=2.4.1 in /usr/local/lib/python3.7/dist-packages (from spacy<3.2.0,>=3.1.0->it-core-news-sm==3.1.0) (2.4.2)\n",
            "Requirement already satisfied: requests<3.0.0,>=2.13.0 in /usr/local/lib/python3.7/dist-packages (from spacy<3.2.0,>=3.1.0->it-core-news-sm==3.1.0) (2.23.0)\n",
            "Requirement already satisfied: tqdm<5.0.0,>=4.38.0 in /usr/local/lib/python3.7/dist-packages (from spacy<3.2.0,>=3.1.0->it-core-news-sm==3.1.0) (4.62.3)\n",
            "Requirement already satisfied: typer<0.5.0,>=0.3.0 in /usr/local/lib/python3.7/dist-packages (from spacy<3.2.0,>=3.1.0->it-core-news-sm==3.1.0) (0.4.0)\n",
            "Requirement already satisfied: typing-extensions<4.0.0.0,>=3.7.4 in /usr/local/lib/python3.7/dist-packages (from spacy<3.2.0,>=3.1.0->it-core-news-sm==3.1.0) (3.7.4.3)\n",
            "Requirement already satisfied: zipp>=0.5 in /usr/local/lib/python3.7/dist-packages (from catalogue<2.1.0,>=2.0.6->spacy<3.2.0,>=3.1.0->it-core-news-sm==3.1.0) (3.6.0)\n",
            "Requirement already satisfied: pyparsing>=2.0.2 in /usr/local/lib/python3.7/dist-packages (from packaging>=20.0->spacy<3.2.0,>=3.1.0->it-core-news-sm==3.1.0) (2.4.7)\n",
            "Requirement already satisfied: smart-open<6.0.0,>=5.0.0 in /usr/local/lib/python3.7/dist-packages (from pathy>=0.3.5->spacy<3.2.0,>=3.1.0->it-core-news-sm==3.1.0) (5.2.1)\n",
            "Requirement already satisfied: certifi>=2017.4.17 in /usr/local/lib/python3.7/dist-packages (from requests<3.0.0,>=2.13.0->spacy<3.2.0,>=3.1.0->it-core-news-sm==3.1.0) (2021.5.30)\n",
            "Requirement already satisfied: urllib3!=1.25.0,!=1.25.1,<1.26,>=1.21.1 in /usr/local/lib/python3.7/dist-packages (from requests<3.0.0,>=2.13.0->spacy<3.2.0,>=3.1.0->it-core-news-sm==3.1.0) (1.24.3)\n",
            "Requirement already satisfied: idna<3,>=2.5 in /usr/local/lib/python3.7/dist-packages (from requests<3.0.0,>=2.13.0->spacy<3.2.0,>=3.1.0->it-core-news-sm==3.1.0) (2.10)\n",
            "Requirement already satisfied: chardet<4,>=3.0.2 in /usr/local/lib/python3.7/dist-packages (from requests<3.0.0,>=2.13.0->spacy<3.2.0,>=3.1.0->it-core-news-sm==3.1.0) (3.0.4)\n",
            "Requirement already satisfied: click<9.0.0,>=7.1.1 in /usr/local/lib/python3.7/dist-packages (from typer<0.5.0,>=0.3.0->spacy<3.2.0,>=3.1.0->it-core-news-sm==3.1.0) (7.1.2)\n",
            "Requirement already satisfied: MarkupSafe>=0.23 in /usr/local/lib/python3.7/dist-packages (from jinja2->spacy<3.2.0,>=3.1.0->it-core-news-sm==3.1.0) (2.0.1)\n",
            "\u001b[38;5;2m✔ Download and installation successful\u001b[0m\n",
            "You can now load the package via spacy.load('it_core_news_sm')\n",
            "Requirement already satisfied: spacy in /usr/local/lib/python3.7/dist-packages (3.1.4)\n",
            "Requirement already satisfied: thinc<8.1.0,>=8.0.12 in /usr/local/lib/python3.7/dist-packages (from spacy) (8.0.12)\n",
            "Requirement already satisfied: pathy>=0.3.5 in /usr/local/lib/python3.7/dist-packages (from spacy) (0.6.1)\n",
            "Requirement already satisfied: requests<3.0.0,>=2.13.0 in /usr/local/lib/python3.7/dist-packages (from spacy) (2.23.0)\n",
            "Requirement already satisfied: pydantic!=1.8,!=1.8.1,<1.9.0,>=1.7.4 in /usr/local/lib/python3.7/dist-packages (from spacy) (1.8.2)\n",
            "Requirement already satisfied: numpy>=1.15.0 in /usr/local/lib/python3.7/dist-packages (from spacy) (1.19.5)\n",
            "Requirement already satisfied: packaging>=20.0 in /usr/local/lib/python3.7/dist-packages (from spacy) (21.0)\n",
            "Requirement already satisfied: murmurhash<1.1.0,>=0.28.0 in /usr/local/lib/python3.7/dist-packages (from spacy) (1.0.5)\n",
            "Requirement already satisfied: preshed<3.1.0,>=3.0.2 in /usr/local/lib/python3.7/dist-packages (from spacy) (3.0.5)\n",
            "Requirement already satisfied: typer<0.5.0,>=0.3.0 in /usr/local/lib/python3.7/dist-packages (from spacy) (0.4.0)\n",
            "Requirement already satisfied: cymem<2.1.0,>=2.0.2 in /usr/local/lib/python3.7/dist-packages (from spacy) (2.0.5)\n",
            "Requirement already satisfied: srsly<3.0.0,>=2.4.1 in /usr/local/lib/python3.7/dist-packages (from spacy) (2.4.2)\n",
            "Requirement already satisfied: spacy-legacy<3.1.0,>=3.0.8 in /usr/local/lib/python3.7/dist-packages (from spacy) (3.0.8)\n",
            "Requirement already satisfied: tqdm<5.0.0,>=4.38.0 in /usr/local/lib/python3.7/dist-packages (from spacy) (4.62.3)\n",
            "Requirement already satisfied: wasabi<1.1.0,>=0.8.1 in /usr/local/lib/python3.7/dist-packages (from spacy) (0.8.2)\n",
            "Requirement already satisfied: blis<0.8.0,>=0.4.0 in /usr/local/lib/python3.7/dist-packages (from spacy) (0.4.1)\n",
            "Requirement already satisfied: catalogue<2.1.0,>=2.0.6 in /usr/local/lib/python3.7/dist-packages (from spacy) (2.0.6)\n",
            "Requirement already satisfied: jinja2 in /usr/local/lib/python3.7/dist-packages (from spacy) (2.11.3)\n",
            "Requirement already satisfied: typing-extensions<4.0.0.0,>=3.7.4 in /usr/local/lib/python3.7/dist-packages (from spacy) (3.7.4.3)\n",
            "Requirement already satisfied: setuptools in /usr/local/lib/python3.7/dist-packages (from spacy) (57.4.0)\n",
            "Requirement already satisfied: zipp>=0.5 in /usr/local/lib/python3.7/dist-packages (from catalogue<2.1.0,>=2.0.6->spacy) (3.6.0)\n",
            "Requirement already satisfied: pyparsing>=2.0.2 in /usr/local/lib/python3.7/dist-packages (from packaging>=20.0->spacy) (2.4.7)\n",
            "Requirement already satisfied: smart-open<6.0.0,>=5.0.0 in /usr/local/lib/python3.7/dist-packages (from pathy>=0.3.5->spacy) (5.2.1)\n",
            "Requirement already satisfied: chardet<4,>=3.0.2 in /usr/local/lib/python3.7/dist-packages (from requests<3.0.0,>=2.13.0->spacy) (3.0.4)\n",
            "Requirement already satisfied: idna<3,>=2.5 in /usr/local/lib/python3.7/dist-packages (from requests<3.0.0,>=2.13.0->spacy) (2.10)\n",
            "Requirement already satisfied: certifi>=2017.4.17 in /usr/local/lib/python3.7/dist-packages (from requests<3.0.0,>=2.13.0->spacy) (2021.5.30)\n",
            "Requirement already satisfied: urllib3!=1.25.0,!=1.25.1,<1.26,>=1.21.1 in /usr/local/lib/python3.7/dist-packages (from requests<3.0.0,>=2.13.0->spacy) (1.24.3)\n",
            "Requirement already satisfied: click<9.0.0,>=7.1.1 in /usr/local/lib/python3.7/dist-packages (from typer<0.5.0,>=0.3.0->spacy) (7.1.2)\n",
            "Requirement already satisfied: MarkupSafe>=0.23 in /usr/local/lib/python3.7/dist-packages (from jinja2->spacy) (2.0.1)\n",
            "Requirement already satisfied: spacy in /usr/local/lib/python3.7/dist-packages (3.1.4)\n",
            "Requirement already satisfied: murmurhash<1.1.0,>=0.28.0 in /usr/local/lib/python3.7/dist-packages (from spacy) (1.0.5)\n",
            "Requirement already satisfied: preshed<3.1.0,>=3.0.2 in /usr/local/lib/python3.7/dist-packages (from spacy) (3.0.5)\n",
            "Requirement already satisfied: pydantic!=1.8,!=1.8.1,<1.9.0,>=1.7.4 in /usr/local/lib/python3.7/dist-packages (from spacy) (1.8.2)\n",
            "Requirement already satisfied: srsly<3.0.0,>=2.4.1 in /usr/local/lib/python3.7/dist-packages (from spacy) (2.4.2)\n",
            "Requirement already satisfied: numpy>=1.15.0 in /usr/local/lib/python3.7/dist-packages (from spacy) (1.19.5)\n",
            "Requirement already satisfied: tqdm<5.0.0,>=4.38.0 in /usr/local/lib/python3.7/dist-packages (from spacy) (4.62.3)\n",
            "Requirement already satisfied: thinc<8.1.0,>=8.0.12 in /usr/local/lib/python3.7/dist-packages (from spacy) (8.0.12)\n",
            "Requirement already satisfied: typer<0.5.0,>=0.3.0 in /usr/local/lib/python3.7/dist-packages (from spacy) (0.4.0)\n",
            "Requirement already satisfied: spacy-legacy<3.1.0,>=3.0.8 in /usr/local/lib/python3.7/dist-packages (from spacy) (3.0.8)\n",
            "Requirement already satisfied: typing-extensions<4.0.0.0,>=3.7.4 in /usr/local/lib/python3.7/dist-packages (from spacy) (3.7.4.3)\n",
            "Requirement already satisfied: requests<3.0.0,>=2.13.0 in /usr/local/lib/python3.7/dist-packages (from spacy) (2.23.0)\n",
            "Requirement already satisfied: catalogue<2.1.0,>=2.0.6 in /usr/local/lib/python3.7/dist-packages (from spacy) (2.0.6)\n",
            "Requirement already satisfied: packaging>=20.0 in /usr/local/lib/python3.7/dist-packages (from spacy) (21.0)\n",
            "Requirement already satisfied: jinja2 in /usr/local/lib/python3.7/dist-packages (from spacy) (2.11.3)\n",
            "Requirement already satisfied: pathy>=0.3.5 in /usr/local/lib/python3.7/dist-packages (from spacy) (0.6.1)\n",
            "Requirement already satisfied: cymem<2.1.0,>=2.0.2 in /usr/local/lib/python3.7/dist-packages (from spacy) (2.0.5)\n",
            "Requirement already satisfied: wasabi<1.1.0,>=0.8.1 in /usr/local/lib/python3.7/dist-packages (from spacy) (0.8.2)\n",
            "Requirement already satisfied: setuptools in /usr/local/lib/python3.7/dist-packages (from spacy) (57.4.0)\n",
            "Requirement already satisfied: blis<0.8.0,>=0.4.0 in /usr/local/lib/python3.7/dist-packages (from spacy) (0.4.1)\n",
            "Requirement already satisfied: zipp>=0.5 in /usr/local/lib/python3.7/dist-packages (from catalogue<2.1.0,>=2.0.6->spacy) (3.6.0)\n",
            "Requirement already satisfied: pyparsing>=2.0.2 in /usr/local/lib/python3.7/dist-packages (from packaging>=20.0->spacy) (2.4.7)\n",
            "Requirement already satisfied: smart-open<6.0.0,>=5.0.0 in /usr/local/lib/python3.7/dist-packages (from pathy>=0.3.5->spacy) (5.2.1)\n",
            "Requirement already satisfied: urllib3!=1.25.0,!=1.25.1,<1.26,>=1.21.1 in /usr/local/lib/python3.7/dist-packages (from requests<3.0.0,>=2.13.0->spacy) (1.24.3)\n",
            "Requirement already satisfied: chardet<4,>=3.0.2 in /usr/local/lib/python3.7/dist-packages (from requests<3.0.0,>=2.13.0->spacy) (3.0.4)\n",
            "Requirement already satisfied: certifi>=2017.4.17 in /usr/local/lib/python3.7/dist-packages (from requests<3.0.0,>=2.13.0->spacy) (2021.5.30)\n",
            "Requirement already satisfied: idna<3,>=2.5 in /usr/local/lib/python3.7/dist-packages (from requests<3.0.0,>=2.13.0->spacy) (2.10)\n",
            "Requirement already satisfied: click<9.0.0,>=7.1.1 in /usr/local/lib/python3.7/dist-packages (from typer<0.5.0,>=0.3.0->spacy) (7.1.2)\n",
            "Requirement already satisfied: MarkupSafe>=0.23 in /usr/local/lib/python3.7/dist-packages (from jinja2->spacy) (2.0.1)\n",
            "Collecting it-core-news-sm==3.1.0\n",
            "  Downloading https://github.com/explosion/spacy-models/releases/download/it_core_news_sm-3.1.0/it_core_news_sm-3.1.0-py3-none-any.whl (21.1 MB)\n",
            "\u001b[K     |████████████████████████████████| 21.1 MB 1.3 MB/s \n",
            "\u001b[?25hRequirement already satisfied: spacy<3.2.0,>=3.1.0 in /usr/local/lib/python3.7/dist-packages (from it-core-news-sm==3.1.0) (3.1.4)\n",
            "Requirement already satisfied: requests<3.0.0,>=2.13.0 in /usr/local/lib/python3.7/dist-packages (from spacy<3.2.0,>=3.1.0->it-core-news-sm==3.1.0) (2.23.0)\n",
            "Requirement already satisfied: pathy>=0.3.5 in /usr/local/lib/python3.7/dist-packages (from spacy<3.2.0,>=3.1.0->it-core-news-sm==3.1.0) (0.6.1)\n",
            "Requirement already satisfied: typer<0.5.0,>=0.3.0 in /usr/local/lib/python3.7/dist-packages (from spacy<3.2.0,>=3.1.0->it-core-news-sm==3.1.0) (0.4.0)\n",
            "Requirement already satisfied: wasabi<1.1.0,>=0.8.1 in /usr/local/lib/python3.7/dist-packages (from spacy<3.2.0,>=3.1.0->it-core-news-sm==3.1.0) (0.8.2)\n",
            "Requirement already satisfied: packaging>=20.0 in /usr/local/lib/python3.7/dist-packages (from spacy<3.2.0,>=3.1.0->it-core-news-sm==3.1.0) (21.0)\n",
            "Requirement already satisfied: preshed<3.1.0,>=3.0.2 in /usr/local/lib/python3.7/dist-packages (from spacy<3.2.0,>=3.1.0->it-core-news-sm==3.1.0) (3.0.5)\n",
            "Requirement already satisfied: thinc<8.1.0,>=8.0.12 in /usr/local/lib/python3.7/dist-packages (from spacy<3.2.0,>=3.1.0->it-core-news-sm==3.1.0) (8.0.12)\n",
            "Requirement already satisfied: jinja2 in /usr/local/lib/python3.7/dist-packages (from spacy<3.2.0,>=3.1.0->it-core-news-sm==3.1.0) (2.11.3)\n",
            "Requirement already satisfied: blis<0.8.0,>=0.4.0 in /usr/local/lib/python3.7/dist-packages (from spacy<3.2.0,>=3.1.0->it-core-news-sm==3.1.0) (0.4.1)\n",
            "Requirement already satisfied: spacy-legacy<3.1.0,>=3.0.8 in /usr/local/lib/python3.7/dist-packages (from spacy<3.2.0,>=3.1.0->it-core-news-sm==3.1.0) (3.0.8)\n",
            "Requirement already satisfied: numpy>=1.15.0 in /usr/local/lib/python3.7/dist-packages (from spacy<3.2.0,>=3.1.0->it-core-news-sm==3.1.0) (1.19.5)\n",
            "Requirement already satisfied: srsly<3.0.0,>=2.4.1 in /usr/local/lib/python3.7/dist-packages (from spacy<3.2.0,>=3.1.0->it-core-news-sm==3.1.0) (2.4.2)\n",
            "Requirement already satisfied: catalogue<2.1.0,>=2.0.6 in /usr/local/lib/python3.7/dist-packages (from spacy<3.2.0,>=3.1.0->it-core-news-sm==3.1.0) (2.0.6)\n",
            "Requirement already satisfied: pydantic!=1.8,!=1.8.1,<1.9.0,>=1.7.4 in /usr/local/lib/python3.7/dist-packages (from spacy<3.2.0,>=3.1.0->it-core-news-sm==3.1.0) (1.8.2)\n",
            "Requirement already satisfied: murmurhash<1.1.0,>=0.28.0 in /usr/local/lib/python3.7/dist-packages (from spacy<3.2.0,>=3.1.0->it-core-news-sm==3.1.0) (1.0.5)\n",
            "Requirement already satisfied: setuptools in /usr/local/lib/python3.7/dist-packages (from spacy<3.2.0,>=3.1.0->it-core-news-sm==3.1.0) (57.4.0)\n",
            "Requirement already satisfied: cymem<2.1.0,>=2.0.2 in /usr/local/lib/python3.7/dist-packages (from spacy<3.2.0,>=3.1.0->it-core-news-sm==3.1.0) (2.0.5)\n",
            "Requirement already satisfied: typing-extensions<4.0.0.0,>=3.7.4 in /usr/local/lib/python3.7/dist-packages (from spacy<3.2.0,>=3.1.0->it-core-news-sm==3.1.0) (3.7.4.3)\n",
            "Requirement already satisfied: tqdm<5.0.0,>=4.38.0 in /usr/local/lib/python3.7/dist-packages (from spacy<3.2.0,>=3.1.0->it-core-news-sm==3.1.0) (4.62.3)\n",
            "Requirement already satisfied: zipp>=0.5 in /usr/local/lib/python3.7/dist-packages (from catalogue<2.1.0,>=2.0.6->spacy<3.2.0,>=3.1.0->it-core-news-sm==3.1.0) (3.6.0)\n",
            "Requirement already satisfied: pyparsing>=2.0.2 in /usr/local/lib/python3.7/dist-packages (from packaging>=20.0->spacy<3.2.0,>=3.1.0->it-core-news-sm==3.1.0) (2.4.7)\n",
            "Requirement already satisfied: smart-open<6.0.0,>=5.0.0 in /usr/local/lib/python3.7/dist-packages (from pathy>=0.3.5->spacy<3.2.0,>=3.1.0->it-core-news-sm==3.1.0) (5.2.1)\n",
            "Requirement already satisfied: idna<3,>=2.5 in /usr/local/lib/python3.7/dist-packages (from requests<3.0.0,>=2.13.0->spacy<3.2.0,>=3.1.0->it-core-news-sm==3.1.0) (2.10)\n",
            "Requirement already satisfied: urllib3!=1.25.0,!=1.25.1,<1.26,>=1.21.1 in /usr/local/lib/python3.7/dist-packages (from requests<3.0.0,>=2.13.0->spacy<3.2.0,>=3.1.0->it-core-news-sm==3.1.0) (1.24.3)\n",
            "Requirement already satisfied: certifi>=2017.4.17 in /usr/local/lib/python3.7/dist-packages (from requests<3.0.0,>=2.13.0->spacy<3.2.0,>=3.1.0->it-core-news-sm==3.1.0) (2021.5.30)\n",
            "Requirement already satisfied: chardet<4,>=3.0.2 in /usr/local/lib/python3.7/dist-packages (from requests<3.0.0,>=2.13.0->spacy<3.2.0,>=3.1.0->it-core-news-sm==3.1.0) (3.0.4)\n",
            "Requirement already satisfied: click<9.0.0,>=7.1.1 in /usr/local/lib/python3.7/dist-packages (from typer<0.5.0,>=0.3.0->spacy<3.2.0,>=3.1.0->it-core-news-sm==3.1.0) (7.1.2)\n",
            "Requirement already satisfied: MarkupSafe>=0.23 in /usr/local/lib/python3.7/dist-packages (from jinja2->spacy<3.2.0,>=3.1.0->it-core-news-sm==3.1.0) (2.0.1)\n",
            "\u001b[38;5;2m✔ Download and installation successful\u001b[0m\n",
            "You can now load the package via spacy.load('it_core_news_sm')\n"
          ]
        }
      ]
    },
    {
      "cell_type": "code",
      "metadata": {
        "id": "Qng1Bb1OSkBV"
      },
      "source": [
        "import nltk\n",
        "from nltk.tokenize import sent_tokenize, word_tokenize\n",
        "import gensim\n",
        "from gensim.models import Word2Vec\n",
        "import pandas as pd"
      ],
      "execution_count": 2,
      "outputs": []
    },
    {
      "cell_type": "code",
      "metadata": {
        "colab": {
          "base_uri": "https://localhost:8080/",
          "height": 109
        },
        "id": "7w2YyS9uSkxx",
        "outputId": "45fcf81f-c25c-43d8-cea3-867372f78bf5"
      },
      "source": [
        "df= pd.read_csv('Books.csv')\n",
        "df"
      ],
      "execution_count": 3,
      "outputs": [
        {
          "output_type": "execute_result",
          "data": {
            "text/html": [
              "<div>\n",
              "<style scoped>\n",
              "    .dataframe tbody tr th:only-of-type {\n",
              "        vertical-align: middle;\n",
              "    }\n",
              "\n",
              "    .dataframe tbody tr th {\n",
              "        vertical-align: top;\n",
              "    }\n",
              "\n",
              "    .dataframe thead th {\n",
              "        text-align: right;\n",
              "    }\n",
              "</style>\n",
              "<table border=\"1\" class=\"dataframe\">\n",
              "  <thead>\n",
              "    <tr style=\"text-align: right;\">\n",
              "      <th></th>\n",
              "      <th>Unnamed: 0</th>\n",
              "      <th>_id</th>\n",
              "      <th>author</th>\n",
              "      <th>contents</th>\n",
              "      <th>publishing house</th>\n",
              "      <th>year</th>\n",
              "    </tr>\n",
              "  </thead>\n",
              "  <tbody>\n",
              "    <tr>\n",
              "      <th>0</th>\n",
              "      <td>0</td>\n",
              "      <td>Jane Eyre_Feltrinelli_pulito.txt</td>\n",
              "      <td>Charlotte Brontë</td>\n",
              "      <td>Quel giorno era impossibile uscire a passeggio...</td>\n",
              "      <td>Feltrinelli Editore</td>\n",
              "      <td>2014</td>\n",
              "    </tr>\n",
              "    <tr>\n",
              "      <th>1</th>\n",
              "      <td>1</td>\n",
              "      <td>Jane Eyre_Treves_pulito.txt</td>\n",
              "      <td>Charlotte Brontë</td>\n",
              "      <td>In quel giorno era impossibile passeggiare. La...</td>\n",
              "      <td>Fratelli Treves Editori</td>\n",
              "      <td>1904</td>\n",
              "    </tr>\n",
              "  </tbody>\n",
              "</table>\n",
              "</div>"
            ],
            "text/plain": [
              "   Unnamed: 0                               _id  ...         publishing house  year\n",
              "0           0  Jane Eyre_Feltrinelli_pulito.txt  ...      Feltrinelli Editore  2014\n",
              "1           1       Jane Eyre_Treves_pulito.txt  ...  Fratelli Treves Editori  1904\n",
              "\n",
              "[2 rows x 6 columns]"
            ]
          },
          "metadata": {},
          "execution_count": 3
        }
      ]
    },
    {
      "cell_type": "code",
      "metadata": {
        "colab": {
          "base_uri": "https://localhost:8080/"
        },
        "id": "dyuGP7CazTTu",
        "outputId": "1b9280a7-e097-4f64-c754-3b38e684a575"
      },
      "source": [
        "import nltk\n",
        "nltk.download('punkt')"
      ],
      "execution_count": 4,
      "outputs": [
        {
          "output_type": "stream",
          "name": "stdout",
          "text": [
            "[nltk_data] Downloading package punkt to /root/nltk_data...\n",
            "[nltk_data]   Package punkt is already up-to-date!\n"
          ]
        },
        {
          "output_type": "execute_result",
          "data": {
            "text/plain": [
              "True"
            ]
          },
          "metadata": {},
          "execution_count": 4
        }
      ]
    },
    {
      "cell_type": "code",
      "metadata": {
        "colab": {
          "base_uri": "https://localhost:8080/",
          "height": 109
        },
        "id": "7Mgdhb5pQmMH",
        "outputId": "2aaf79a1-2994-414b-e30e-ee8d7f7050af"
      },
      "source": [
        "df['Frasi']= df.apply(lambda row: nltk.sent_tokenize(row['contents']), axis=1)\n",
        "df"
      ],
      "execution_count": 5,
      "outputs": [
        {
          "output_type": "execute_result",
          "data": {
            "text/html": [
              "<div>\n",
              "<style scoped>\n",
              "    .dataframe tbody tr th:only-of-type {\n",
              "        vertical-align: middle;\n",
              "    }\n",
              "\n",
              "    .dataframe tbody tr th {\n",
              "        vertical-align: top;\n",
              "    }\n",
              "\n",
              "    .dataframe thead th {\n",
              "        text-align: right;\n",
              "    }\n",
              "</style>\n",
              "<table border=\"1\" class=\"dataframe\">\n",
              "  <thead>\n",
              "    <tr style=\"text-align: right;\">\n",
              "      <th></th>\n",
              "      <th>Unnamed: 0</th>\n",
              "      <th>_id</th>\n",
              "      <th>author</th>\n",
              "      <th>contents</th>\n",
              "      <th>publishing house</th>\n",
              "      <th>year</th>\n",
              "      <th>Frasi</th>\n",
              "    </tr>\n",
              "  </thead>\n",
              "  <tbody>\n",
              "    <tr>\n",
              "      <th>0</th>\n",
              "      <td>0</td>\n",
              "      <td>Jane Eyre_Feltrinelli_pulito.txt</td>\n",
              "      <td>Charlotte Brontë</td>\n",
              "      <td>Quel giorno era impossibile uscire a passeggio...</td>\n",
              "      <td>Feltrinelli Editore</td>\n",
              "      <td>2014</td>\n",
              "      <td>[Quel giorno era impossibile uscire a passeggi...</td>\n",
              "    </tr>\n",
              "    <tr>\n",
              "      <th>1</th>\n",
              "      <td>1</td>\n",
              "      <td>Jane Eyre_Treves_pulito.txt</td>\n",
              "      <td>Charlotte Brontë</td>\n",
              "      <td>In quel giorno era impossibile passeggiare. La...</td>\n",
              "      <td>Fratelli Treves Editori</td>\n",
              "      <td>1904</td>\n",
              "      <td>[In quel giorno era impossibile passeggiare., ...</td>\n",
              "    </tr>\n",
              "  </tbody>\n",
              "</table>\n",
              "</div>"
            ],
            "text/plain": [
              "   Unnamed: 0  ...                                              Frasi\n",
              "0           0  ...  [Quel giorno era impossibile uscire a passeggi...\n",
              "1           1  ...  [In quel giorno era impossibile passeggiare., ...\n",
              "\n",
              "[2 rows x 7 columns]"
            ]
          },
          "metadata": {},
          "execution_count": 5
        }
      ]
    },
    {
      "cell_type": "code",
      "metadata": {
        "id": "lB_odwAvSvOu"
      },
      "source": [
        "import spacy\n",
        "from spacy.lang.it.examples import sentences \n",
        "from tqdm.notebook import tqdm\n",
        "tqdm.pandas()\n",
        "nlp = spacy.load('it_core_news_sm')\n",
        "nlp.max_length = 1064150 \n",
        "pipe = nlp.pipe(df['contents'], n_process=2, batch_size=2000)"
      ],
      "execution_count": 6,
      "outputs": []
    },
    {
      "cell_type": "code",
      "metadata": {
        "colab": {
          "base_uri": "https://localhost:8080/",
          "height": 49,
          "referenced_widgets": [
            "9f1aec1ec80945ad9cb92867cb02a124",
            "6e89faf4405342afbc4d13eb88407b2f",
            "450ac5fe28c14f4aacb00d18d1c00a92",
            "3c2849bdca8f4d07a74d2ca4181076d4",
            "d5251479213a4ab4aa9482d70c50325b",
            "eccef8d0eb8f460d8fc99402536e0660",
            "92b9beaaba384f9b8253567ac4b5f030",
            "b4df7c9064094ffab184b04d396949b0",
            "dbdab698a5624f2c9b0bb4d3ba26577e",
            "704708f9b6a543fb9904fc94a259e46a",
            "50baa6daf8a747999f1020e5259c44a2"
          ]
        },
        "id": "ahuPnSJWUGuB",
        "outputId": "e4a76737-29cf-4ab7-b7e9-05f72f1c88a2"
      },
      "source": [
        "docs = [x for x in tqdm(pipe)]"
      ],
      "execution_count": 7,
      "outputs": [
        {
          "output_type": "display_data",
          "data": {
            "application/vnd.jupyter.widget-view+json": {
              "model_id": "9f1aec1ec80945ad9cb92867cb02a124",
              "version_minor": 0,
              "version_major": 2
            },
            "text/plain": [
              "0it [00:00, ?it/s]"
            ]
          },
          "metadata": {}
        }
      ]
    },
    {
      "cell_type": "code",
      "metadata": {
        "id": "gtOkvuqXSnl4"
      },
      "source": [
        "df['spacy_doc'] = docs"
      ],
      "execution_count": 8,
      "outputs": []
    },
    {
      "cell_type": "code",
      "metadata": {
        "colab": {
          "base_uri": "https://localhost:8080/",
          "height": 49,
          "referenced_widgets": [
            "2cf8a7c6990349d182e2f998b03a865a",
            "e79b914dc65e4caab22d6fc669b6271b",
            "a6d0cfcd989a4ba6b3db9b25a331b1a8",
            "12d461f2dee04830a574e647b7c72fe3",
            "53947f3263c641578ff9954023bd1f6c",
            "070a47f7acbf4b4db9b6af74fc426d67",
            "8a291ee10ee34a4388e66fd707e72d49",
            "0f5cee2c7ffa49d8b351d23e638ab416",
            "cb3c996dbe9d4ca68df79c108e03f56a",
            "321a24c983d54a50b046051776f1eb0f",
            "b711cc9f1d8c4a45ba2a5d2538c7f8e0"
          ]
        },
        "id": "Vh-xBTMEYRRr",
        "outputId": "a7759971-a0b5-46e3-f6cc-601f9cb58955"
      },
      "source": [
        "df['POS_spacy'] = df['spacy_doc'].progress_apply(lambda x: [(y.text, y.pos_) for y in x])"
      ],
      "execution_count": 9,
      "outputs": [
        {
          "output_type": "display_data",
          "data": {
            "application/vnd.jupyter.widget-view+json": {
              "model_id": "2cf8a7c6990349d182e2f998b03a865a",
              "version_minor": 0,
              "version_major": 2
            },
            "text/plain": [
              "  0%|          | 0/2 [00:00<?, ?it/s]"
            ]
          },
          "metadata": {}
        }
      ]
    },
    {
      "cell_type": "code",
      "metadata": {
        "colab": {
          "base_uri": "https://localhost:8080/",
          "height": 49,
          "referenced_widgets": [
            "36901686bd734819ba2b855f7ad1c34c",
            "7c8f88a734cf4d0d840c541de8c5f692",
            "601197e85d0f4362947b293312361dd7",
            "2df77814537849abafa80540db44aecc",
            "2e893e60f23046aab528d433258de62b",
            "fb96aa2f82d34dd5a0fd363293b38c08",
            "a49a8f59f9c74ace9fec9f4c5db2d4a6",
            "899143c5fc6f4abb925a45c0f6991941",
            "5d7041d28e964a93bf4980748d8a1d06",
            "cc53ea5a27e341fdb540c86f0091cc5b",
            "7d71f461104d40fdb945007b7f164c35"
          ]
        },
        "id": "kiNrta23YSwK",
        "outputId": "7c72028a-9a2a-4ebc-ab3f-748884a618c4"
      },
      "source": [
        "df['lemmatized'] = df['spacy_doc'].progress_apply(lambda x: \" \".join([y.lemma_ for y in x if len(x)>1]))"
      ],
      "execution_count": 10,
      "outputs": [
        {
          "output_type": "display_data",
          "data": {
            "application/vnd.jupyter.widget-view+json": {
              "model_id": "36901686bd734819ba2b855f7ad1c34c",
              "version_minor": 0,
              "version_major": 2
            },
            "text/plain": [
              "  0%|          | 0/2 [00:00<?, ?it/s]"
            ]
          },
          "metadata": {}
        }
      ]
    },
    {
      "cell_type": "code",
      "metadata": {
        "colab": {
          "base_uri": "https://localhost:8080/"
        },
        "id": "2CK0JwpJEzrI",
        "outputId": "24238b00-42d5-4055-bbef-8170c8eb55a7"
      },
      "source": [
        "import nltk\n",
        "from nltk.corpus import stopwords\n",
        "import string\n",
        "nltk.download('stopwords')\n",
        "def clean(x):\n",
        "  stop = stopwords.words(\"italian\")\n",
        "  stop = stop + list(string.punctuation)\n",
        "  words  = [w for w in word_tokenize(x.lower()) if w.isalpha() and w not in stop]\n",
        "  return \" \".join(words)"
      ],
      "execution_count": 11,
      "outputs": [
        {
          "output_type": "stream",
          "name": "stdout",
          "text": [
            "[nltk_data] Downloading package stopwords to /root/nltk_data...\n",
            "[nltk_data]   Package stopwords is already up-to-date!\n"
          ]
        }
      ]
    },
    {
      "cell_type": "code",
      "metadata": {
        "colab": {
          "base_uri": "https://localhost:8080/",
          "height": 224
        },
        "id": "GVB1a3WoEBjv",
        "outputId": "de1649fe-c3f9-4180-a40e-ed7b799d7f0d"
      },
      "source": [
        "df['Frasi2']= df.apply(lambda row: nltk.sent_tokenize(row['lemmatized']), axis=1)\n",
        "df"
      ],
      "execution_count": 12,
      "outputs": [
        {
          "output_type": "execute_result",
          "data": {
            "text/html": [
              "<div>\n",
              "<style scoped>\n",
              "    .dataframe tbody tr th:only-of-type {\n",
              "        vertical-align: middle;\n",
              "    }\n",
              "\n",
              "    .dataframe tbody tr th {\n",
              "        vertical-align: top;\n",
              "    }\n",
              "\n",
              "    .dataframe thead th {\n",
              "        text-align: right;\n",
              "    }\n",
              "</style>\n",
              "<table border=\"1\" class=\"dataframe\">\n",
              "  <thead>\n",
              "    <tr style=\"text-align: right;\">\n",
              "      <th></th>\n",
              "      <th>Unnamed: 0</th>\n",
              "      <th>_id</th>\n",
              "      <th>author</th>\n",
              "      <th>contents</th>\n",
              "      <th>publishing house</th>\n",
              "      <th>year</th>\n",
              "      <th>Frasi</th>\n",
              "      <th>spacy_doc</th>\n",
              "      <th>POS_spacy</th>\n",
              "      <th>lemmatized</th>\n",
              "      <th>Frasi2</th>\n",
              "    </tr>\n",
              "  </thead>\n",
              "  <tbody>\n",
              "    <tr>\n",
              "      <th>0</th>\n",
              "      <td>0</td>\n",
              "      <td>Jane Eyre_Feltrinelli_pulito.txt</td>\n",
              "      <td>Charlotte Brontë</td>\n",
              "      <td>Quel giorno era impossibile uscire a passeggio...</td>\n",
              "      <td>Feltrinelli Editore</td>\n",
              "      <td>2014</td>\n",
              "      <td>[Quel giorno era impossibile uscire a passeggi...</td>\n",
              "      <td>(Quel, giorno, era, impossibile, uscire, a, pa...</td>\n",
              "      <td>[(Quel, DET), (giorno, NOUN), (era, AUX), (imp...</td>\n",
              "      <td>quello giorno essere impossibile uscire a pass...</td>\n",
              "      <td>[quello giorno essere impossibile uscire a pas...</td>\n",
              "    </tr>\n",
              "    <tr>\n",
              "      <th>1</th>\n",
              "      <td>1</td>\n",
              "      <td>Jane Eyre_Treves_pulito.txt</td>\n",
              "      <td>Charlotte Brontë</td>\n",
              "      <td>In quel giorno era impossibile passeggiare. La...</td>\n",
              "      <td>Fratelli Treves Editori</td>\n",
              "      <td>1904</td>\n",
              "      <td>[In quel giorno era impossibile passeggiare., ...</td>\n",
              "      <td>(In, quel, giorno, era, impossibile, passeggia...</td>\n",
              "      <td>[(In, ADP), (quel, DET), (giorno, NOUN), (era,...</td>\n",
              "      <td>in quello giorno essere impossibile passeggiar...</td>\n",
              "      <td>[in quello giorno essere impossibile passeggia...</td>\n",
              "    </tr>\n",
              "  </tbody>\n",
              "</table>\n",
              "</div>"
            ],
            "text/plain": [
              "   Unnamed: 0  ...                                             Frasi2\n",
              "0           0  ...  [quello giorno essere impossibile uscire a pas...\n",
              "1           1  ...  [in quello giorno essere impossibile passeggia...\n",
              "\n",
              "[2 rows x 11 columns]"
            ]
          },
          "metadata": {},
          "execution_count": 12
        }
      ]
    },
    {
      "cell_type": "code",
      "metadata": {
        "id": "rk3Pvg1205EM"
      },
      "source": [
        "import numpy as np\n",
        "documents = (np.array(df['Frasi2'][0]))\n",
        "documents2 = (np.array(df['Frasi2'][1]))\n",
        "\n",
        "data1 = pd.DataFrame(df['Frasi2'][0],columns={'text'})\n",
        "data2 = pd.DataFrame(df['Frasi2'][1], columns={'text'})\n",
        "data = data2.append(data1, ignore_index=True)"
      ],
      "execution_count": 13,
      "outputs": []
    },
    {
      "cell_type": "code",
      "metadata": {
        "id": "QqFRyD9Igqpt"
      },
      "source": [
        "data[\"Lemmi\"] = data[\"text\"].apply(clean)"
      ],
      "execution_count": 14,
      "outputs": []
    },
    {
      "cell_type": "code",
      "metadata": {
        "id": "Rh5I05RKfG0R"
      },
      "source": [
        "text = data[\"Lemmi\"]"
      ],
      "execution_count": 15,
      "outputs": []
    },
    {
      "cell_type": "code",
      "metadata": {
        "colab": {
          "base_uri": "https://localhost:8080/"
        },
        "id": "1M-Bgs-_4Yis",
        "outputId": "7cf419cc-769a-41e9-b961-b483fdb54e3b"
      },
      "source": [
        "text"
      ],
      "execution_count": 16,
      "outputs": [
        {
          "output_type": "execute_result",
          "data": {
            "text/plain": [
              "0                    giorno essere impossibile passeggiare\n",
              "1        mattina avere errare ora boschetto spogliare f...\n",
              "2                                          essere contento\n",
              "3        essere mai piacere lunghe passeggiate sopra fr...\n",
              "4        eliza john georgiana essere aggruppare salotto...\n",
              "                               ...                        \n",
              "19797    paura morte offuscare ultimo ora st john mente...\n",
              "19798    stesso parola essere pegno signore dire avere ...\n",
              "19799    ogni giorno annunciare sempre grande chiarezza...\n",
              "19800    ora ora rispondere fervore crescente amen veni...\n",
              "19801                                                     \n",
              "Name: Lemmi, Length: 19802, dtype: object"
            ]
          },
          "metadata": {},
          "execution_count": 16
        }
      ]
    },
    {
      "cell_type": "code",
      "metadata": {
        "colab": {
          "base_uri": "https://localhost:8080/"
        },
        "id": "sBpSVZffbbgN",
        "outputId": "f0b04fb2-98da-48b0-dd12-7617299a6c29"
      },
      "source": [
        "data.isna().sum() "
      ],
      "execution_count": 17,
      "outputs": [
        {
          "output_type": "execute_result",
          "data": {
            "text/plain": [
              "text     0\n",
              "Lemmi    0\n",
              "dtype: int64"
            ]
          },
          "metadata": {},
          "execution_count": 17
        }
      ]
    },
    {
      "cell_type": "code",
      "metadata": {
        "colab": {
          "base_uri": "https://localhost:8080/"
        },
        "id": "WNOJJC_-oqSS",
        "outputId": "ad18ec24-324b-4539-ecf9-29a0748c5ca5"
      },
      "source": [
        "# Generating bag of words features.\n",
        "from sklearn.feature_extraction.text import CountVectorizer\n",
        "count_vect = CountVectorizer()\n",
        "bow = count_vect.fit_transform(text.values)\n",
        "bow.shape"
      ],
      "execution_count": 18,
      "outputs": [
        {
          "output_type": "execute_result",
          "data": {
            "text/plain": [
              "(19802, 14291)"
            ]
          },
          "metadata": {},
          "execution_count": 18
        }
      ]
    },
    {
      "cell_type": "code",
      "metadata": {
        "colab": {
          "base_uri": "https://localhost:8080/"
        },
        "id": "JIPmP7IWoqkK",
        "outputId": "84c56c92-d330-413a-9c46-d6008704c27a"
      },
      "source": [
        "bow"
      ],
      "execution_count": 19,
      "outputs": [
        {
          "output_type": "execute_result",
          "data": {
            "text/plain": [
              "<19802x14291 sparse matrix of type '<class 'numpy.int64'>'\n",
              "\twith 183867 stored elements in Compressed Sparse Row format>"
            ]
          },
          "metadata": {},
          "execution_count": 19
        }
      ]
    },
    {
      "cell_type": "code",
      "metadata": {
        "id": "hwR9zl1Fovmk"
      },
      "source": [
        "# to understand what kind of words generated as columns by BOW\n",
        "terms = count_vect.get_feature_names()"
      ],
      "execution_count": 20,
      "outputs": []
    },
    {
      "cell_type": "code",
      "metadata": {
        "colab": {
          "base_uri": "https://localhost:8080/"
        },
        "id": "GzVhrB-7oyhF",
        "outputId": "a17b57ab-745b-4fb7-9199-88fbe4fc1a7c"
      },
      "source": [
        "#first 10 columns generated by BOW\n",
        "terms[1:10]"
      ],
      "execution_count": 21,
      "outputs": [
        {
          "output_type": "execute_result",
          "data": {
            "text/plain": [
              "['abbagliante',\n",
              " 'abbagliare',\n",
              " 'abbagliate',\n",
              " 'abbaglio',\n",
              " 'abbaiare',\n",
              " 'abbaino',\n",
              " 'abballinate',\n",
              " 'abbandonala',\n",
              " 'abbandonandomi']"
            ]
          },
          "metadata": {},
          "execution_count": 21
        }
      ]
    },
    {
      "cell_type": "code",
      "metadata": {
        "colab": {
          "base_uri": "https://localhost:8080/"
        },
        "id": "MWVZFxtSo0e6",
        "outputId": "27e56481-cf7b-4aa6-a58e-283fabaf999d"
      },
      "source": [
        "#using all processes jobs=-1 and k means++ for starting initilization advantage\n",
        "from sklearn.cluster import KMeans\n",
        "model = KMeans(n_clusters = 10,init='k-means++', n_jobs = -1,random_state=99)\n",
        "model.fit(bow)"
      ],
      "execution_count": 22,
      "outputs": [
        {
          "output_type": "execute_result",
          "data": {
            "text/plain": [
              "KMeans(algorithm='auto', copy_x=True, init='k-means++', max_iter=300,\n",
              "       n_clusters=10, n_init=10, n_jobs=-1, precompute_distances='auto',\n",
              "       random_state=99, tol=0.0001, verbose=0)"
            ]
          },
          "metadata": {},
          "execution_count": 22
        }
      ]
    },
    {
      "cell_type": "code",
      "metadata": {
        "id": "6V3UeWJco3IF"
      },
      "source": [
        "labels = model.labels_\n",
        "cluster_center=model.cluster_centers_"
      ],
      "execution_count": 23,
      "outputs": []
    },
    {
      "cell_type": "code",
      "metadata": {
        "colab": {
          "base_uri": "https://localhost:8080/"
        },
        "id": "cy5o0oTjo4Lx",
        "outputId": "f4653ba8-3069-4143-82d3-9d0c3c6b6bef"
      },
      "source": [
        "cluster_center"
      ],
      "execution_count": 24,
      "outputs": [
        {
          "output_type": "execute_result",
          "data": {
            "text/plain": [
              "array([[0.      , 0.      , 0.      , ..., 0.      , 0.      , 0.      ],\n",
              "       [0.      , 0.000129, 0.      , ..., 0.      , 0.000129, 0.000129],\n",
              "       [0.      , 0.      , 0.      , ..., 0.      , 0.      , 0.      ],\n",
              "       ...,\n",
              "       [0.      , 0.      , 0.      , ..., 0.      , 0.      , 0.      ],\n",
              "       [0.      , 0.      , 0.      , ..., 0.      , 0.      , 0.      ],\n",
              "       [0.      , 0.      , 0.      , ..., 0.      , 0.      , 0.      ]])"
            ]
          },
          "metadata": {},
          "execution_count": 24
        }
      ]
    },
    {
      "cell_type": "code",
      "metadata": {
        "id": "L_80wpDoo5_F"
      },
      "source": [
        "from sklearn import metrics\n",
        "silhouette_score = metrics.silhouette_score(bow, labels, metric='euclidean')"
      ],
      "execution_count": 25,
      "outputs": []
    },
    {
      "cell_type": "code",
      "metadata": {
        "colab": {
          "base_uri": "https://localhost:8080/"
        },
        "id": "Mw25RDQOo7-T",
        "outputId": "f6c06993-90f3-4060-bd93-e67683f1b22c"
      },
      "source": [
        "# which tells us that clusters are far away from each other \n",
        "silhouette_score"
      ],
      "execution_count": 26,
      "outputs": [
        {
          "output_type": "execute_result",
          "data": {
            "text/plain": [
              "0.011904054279262818"
            ]
          },
          "metadata": {},
          "execution_count": 26
        }
      ]
    },
    {
      "cell_type": "code",
      "metadata": {
        "colab": {
          "base_uri": "https://localhost:8080/",
          "height": 109
        },
        "id": "EbtIqP1Ko7zx",
        "outputId": "b21c7e6c-8fb4-49c9-e1a2-2ada60023dcf"
      },
      "source": [
        "# Giving Labels/assigning a cluster to each sentence \n",
        "\n",
        "data['Bow Clus Label'] = model.labels_ \n",
        "data.head(2)"
      ],
      "execution_count": 27,
      "outputs": [
        {
          "output_type": "execute_result",
          "data": {
            "text/html": [
              "<div>\n",
              "<style scoped>\n",
              "    .dataframe tbody tr th:only-of-type {\n",
              "        vertical-align: middle;\n",
              "    }\n",
              "\n",
              "    .dataframe tbody tr th {\n",
              "        vertical-align: top;\n",
              "    }\n",
              "\n",
              "    .dataframe thead th {\n",
              "        text-align: right;\n",
              "    }\n",
              "</style>\n",
              "<table border=\"1\" class=\"dataframe\">\n",
              "  <thead>\n",
              "    <tr style=\"text-align: right;\">\n",
              "      <th></th>\n",
              "      <th>text</th>\n",
              "      <th>Lemmi</th>\n",
              "      <th>Bow Clus Label</th>\n",
              "    </tr>\n",
              "  </thead>\n",
              "  <tbody>\n",
              "    <tr>\n",
              "      <th>0</th>\n",
              "      <td>in quello giorno essere impossibile passeggiare .</td>\n",
              "      <td>giorno essere impossibile passeggiare</td>\n",
              "      <td>5</td>\n",
              "    </tr>\n",
              "    <tr>\n",
              "      <th>1</th>\n",
              "      <td>il mattina avere errare per uno ora nel bosche...</td>\n",
              "      <td>mattina avere errare ora boschetto spogliare f...</td>\n",
              "      <td>0</td>\n",
              "    </tr>\n",
              "  </tbody>\n",
              "</table>\n",
              "</div>"
            ],
            "text/plain": [
              "                                                text  ... Bow Clus Label\n",
              "0  in quello giorno essere impossibile passeggiare .  ...              5\n",
              "1  il mattina avere errare per uno ora nel bosche...  ...              0\n",
              "\n",
              "[2 rows x 3 columns]"
            ]
          },
          "metadata": {},
          "execution_count": 27
        }
      ]
    },
    {
      "cell_type": "code",
      "metadata": {
        "colab": {
          "base_uri": "https://localhost:8080/"
        },
        "id": "0VvPNOE7ovfB",
        "outputId": "2b74e76b-9d28-4d41-b9ec-2122fcca6da2"
      },
      "source": [
        "# How many sentences belong to each cluster\n",
        "data.groupby(['Bow Clus Label'])['Lemmi'].count()"
      ],
      "execution_count": 28,
      "outputs": [
        {
          "output_type": "execute_result",
          "data": {
            "text/plain": [
              "Bow Clus Label\n",
              "0    1503\n",
              "1    7752\n",
              "2    2238\n",
              "3     494\n",
              "4     602\n",
              "5    4890\n",
              "6     785\n",
              "7     252\n",
              "8     618\n",
              "9     668\n",
              "Name: Lemmi, dtype: int64"
            ]
          },
          "metadata": {},
          "execution_count": 28
        }
      ]
    },
    {
      "cell_type": "code",
      "metadata": {
        "colab": {
          "base_uri": "https://localhost:8080/"
        },
        "id": "_SIE3YEn4eQu",
        "outputId": "c3dac522-8f6a-41e7-9eb5-92ae1e64ba43"
      },
      "source": [
        "#Find the top 10 features of cluster centriod\n",
        "print(\"Top terms per cluster:\")\n",
        "order_centroids = model.cluster_centers_.argsort()[:, ::-1]\n",
        "terms = count_vect.get_feature_names()\n",
        "for i in range(10):\n",
        "    print(\"Cluster %d:\" % i, end='')\n",
        "    for ind in order_centroids[i, :10]:\n",
        "        print(' %s' % terms[ind], end='')\n",
        "        print()"
      ],
      "execution_count": 29,
      "outputs": [
        {
          "output_type": "stream",
          "name": "stdout",
          "text": [
            "Top terms per cluster:\n",
            "Cluster 0: avere\n",
            " essere\n",
            " molto\n",
            " fare\n",
            " stare\n",
            " me\n",
            " quando\n",
            " così\n",
            " signore\n",
            " mai\n",
            "Cluster 1: fare\n",
            " dire\n",
            " molto\n",
            " signore\n",
            " me\n",
            " potere\n",
            " stare\n",
            " jane\n",
            " sì\n",
            " dovere\n",
            "Cluster 2: avere\n",
            " fare\n",
            " dire\n",
            " molto\n",
            " potere\n",
            " me\n",
            " signore\n",
            " mai\n",
            " rochester\n",
            " parlare\n",
            "Cluster 3: essere\n",
            " avere\n",
            " molto\n",
            " stare\n",
            " potere\n",
            " me\n",
            " dire\n",
            " fare\n",
            " così\n",
            " signore\n",
            "Cluster 4: essere\n",
            " dire\n",
            " avere\n",
            " molto\n",
            " signore\n",
            " stare\n",
            " fare\n",
            " volere\n",
            " me\n",
            " quando\n",
            "Cluster 5: essere\n",
            " molto\n",
            " stare\n",
            " fare\n",
            " me\n",
            " signore\n",
            " così\n",
            " quando\n",
            " dovere\n",
            " rochester\n",
            "Cluster 6: andare\n",
            " vedere\n",
            " sapere\n",
            " fare\n",
            " molto\n",
            " potere\n",
            " dire\n",
            " dovere\n",
            " signore\n",
            " quando\n",
            "Cluster 7: avere\n",
            " essere\n",
            " fare\n",
            " potere\n",
            " dire\n",
            " molto\n",
            " mai\n",
            " quando\n",
            " me\n",
            " vedere\n",
            "Cluster 8: essere\n",
            " potere\n",
            " avere\n",
            " fare\n",
            " molto\n",
            " così\n",
            " me\n",
            " dire\n",
            " vedere\n",
            " stare\n",
            "Cluster 9: volere\n",
            " essere\n",
            " avere\n",
            " fare\n",
            " dire\n",
            " cosa\n",
            " molto\n",
            " me\n",
            " bene\n",
            " solo\n"
          ]
        }
      ]
    },
    {
      "cell_type": "code",
      "metadata": {
        "colab": {
          "base_uri": "https://localhost:8080/",
          "height": 295
        },
        "id": "pseZemrX4gHD",
        "outputId": "f40bc639-e0de-4e0d-e931-6aa494575c6e"
      },
      "source": [
        "# visually how sentences are distributed across 10 clusters \n",
        "import matplotlib.pyplot as plt\n",
        "plt.bar([x for x in range(10)], data.groupby(['Bow Clus Label'])['Lemmi'].count(), alpha = 0.4)\n",
        "plt.title('KMeans cluster points')\n",
        "plt.xlabel(\"Cluster number\")\n",
        "plt.ylabel(\"Number of points\")\n",
        "plt.show()"
      ],
      "execution_count": 30,
      "outputs": [
        {
          "output_type": "display_data",
          "data": {
            "image/png": "[encoded data removed]",
            "text/plain": [
              "<Figure size 432x288 with 1 Axes>"
            ]
          },
          "metadata": {
            "needs_background": "light"
          }
        }
      ]
    },
    {
      "cell_type": "code",
      "metadata": {
        "colab": {
          "base_uri": "https://localhost:8080/"
        },
        "id": "h7fsIoHD4l17",
        "outputId": "db668c08-ad6c-49ff-d32e-cd40696428a0"
      },
      "source": [
        "# Reading a sentence which belong to each group.\n",
        "for i in range(10):\n",
        "    print(\"A sentence of assigned to cluster \", i)\n",
        "    print(\"-\" * 70)\n",
        "    print(data.iloc[data.groupby(['Bow Clus Label']).groups[i][0]]['Lemmi'])\n",
        "    print('\\n')\n",
        "    print(\"_\" * 70)"
      ],
      "execution_count": 31,
      "outputs": [
        {
          "output_type": "stream",
          "name": "stdout",
          "text": [
            "A sentence of assigned to cluster  0\n",
            "----------------------------------------------------------------------\n",
            "mattina avere errare ora boschetto spogliare foglia dopo pranzo quando essere invitare signora reed desinare presto vento gelato inverno avere portare seco nubi così scure pioggia così penetrare potere pensare nessun escursione\n",
            "\n",
            "\n",
            "______________________________________________________________________\n",
            "A sentence of assigned to cluster  1\n",
            "----------------------------------------------------------------------\n",
            "domandai\n",
            "\n",
            "\n",
            "______________________________________________________________________\n",
            "A sentence of assigned to cluster  2\n",
            "----------------------------------------------------------------------\n",
            "ella avere proibire unirmi gruppo dire deplorare necessità trovavasi tenere così lontano fino momento bessie guarentirebbe studiare acquistare carattere molto socievole molto infantile maniera molto cortese qualcosa molto radioso molto aperto molto sincero potere concedere stesso privilegio bambino allegro soddisfatto\n",
            "\n",
            "\n",
            "______________________________________________________________________\n",
            "A sentence of assigned to cluster  3\n",
            "----------------------------------------------------------------------\n",
            "signore miles direttore collegio assicurare essere stare benissimo casa avere mandare meno dolce meno ghiottonerie cuore madre essere ribellare severità avere preferire accoglier idea molto gentile malessere john dipendere soverchio studio dolore essere separare\n",
            "\n",
            "\n",
            "______________________________________________________________________\n",
            "A sentence of assigned to cluster  4\n",
            "----------------------------------------------------------------------\n",
            "liszy giorgy continuare egli volgendosi sorella dire mamma cattivo bestia essere andare correre giardino pioggia\n",
            "\n",
            "\n",
            "______________________________________________________________________\n",
            "A sentence of assigned to cluster  5\n",
            "----------------------------------------------------------------------\n",
            "giorno essere impossibile passeggiare\n",
            "\n",
            "\n",
            "______________________________________________________________________\n",
            "A sentence of assigned to cluster  6\n",
            "----------------------------------------------------------------------\n",
            "sedetevi qualche posto stare buono fino quando sapere parlare ragionevolmente\n",
            "\n",
            "\n",
            "______________________________________________________________________\n",
            "A sentence of assigned to cluster  7\n",
            "----------------------------------------------------------------------\n",
            "john avere mai trovare sè stesso avere sguardo pronto eliza avere sporgere testa uscio esclamare ella essere certamente vano finestra\n",
            "\n",
            "\n",
            "______________________________________________________________________\n",
            "A sentence of assigned to cluster  8\n",
            "----------------------------------------------------------------------\n",
            "generale occupare testo nondimeno essere pagina introduzione potere lasciare passare inosservato malgrado gioventù\n",
            "\n",
            "\n",
            "______________________________________________________________________\n",
            "A sentence of assigned to cluster  9\n",
            "----------------------------------------------------------------------\n",
            "cosa volere\n",
            "\n",
            "\n",
            "______________________________________________________________________\n"
          ]
        }
      ]
    },
    {
      "cell_type": "code",
      "metadata": {
        "colab": {
          "base_uri": "https://localhost:8080/"
        },
        "id": "q0X46_Q74X7c",
        "outputId": "4d6eaf1c-1b76-4f49-eef4-55605726a1a3"
      },
      "source": [
        "#considers sample of 3 random sentences for cluster 0\n",
        "\n",
        "print(data.iloc[data.groupby(['Bow Clus Label']).groups[0][3]]['Lemmi'])\n",
        "print(\"_\" * 70)\n",
        "print(data.iloc[data.groupby(['Bow Clus Label']).groups[0][6]]['Lemmi'])\n",
        "print(\"_\" * 70)\n",
        "print(data.iloc[data.groupby(['Bow Clus Label']).groups[0][9]]['Lemmi'])\n",
        "print(\"_\" * 70)\n",
        "print(data.iloc[data.groupby(['Bow Clus Label']).groups[0][12]]['Lemmi'])\n",
        "print(\"_\" * 70)\n",
        "print(data.iloc[data.groupby(['Bow Clus Label']).groups[0][15]]['Lemmi'])\n",
        "print(\"_\" * 70)\n",
        "print(data.iloc[data.groupby(['Bow Clus Label']).groups[0][18]]['Lemmi'])"
      ],
      "execution_count": 32,
      "outputs": [
        {
          "output_type": "stream",
          "name": "stdout",
          "text": [
            "john essere ragazzo quattordici anno avere allora dieci solamente\n",
            "______________________________________________________________________\n",
            "servire avere volere prendere difesa offendere giovine padrone signora reed argomento essere cieco sordo ella fingere accorgersi quando picchiare insultare benché egli ciò fare spesso presenza molto spesso quando essere\n",
            "______________________________________________________________________\n",
            "avere appunto leggere storia roma goldsmith essere fare concetto nerone caligola credere dovere esporre mai voce alto\n",
            "______________________________________________________________________\n",
            "essi avere molto danaro avere punto dovere cercare studiare essere umile rendere gradire\n",
            "______________________________________________________________________\n",
            "sedile bessie aspro signorina abbot avere lasciare essere ottomana basso collocare vicino caminetto marmo\n",
            "______________________________________________________________________\n",
            "consuetudine avere prendere essere umile dubitare me stesso essere reprimere smorzare collera morente\n"
          ]
        }
      ]
    },
    {
      "cell_type": "code",
      "metadata": {
        "colab": {
          "base_uri": "https://localhost:8080/"
        },
        "id": "2wrlXOVPovXO",
        "outputId": "040e54be-2bca-4c47-a0dd-0a0f3a80f09d"
      },
      "source": [
        "#consider sample of 3 random sentences for cluster 1\n",
        "\n",
        "print(data.iloc[data.groupby(['Bow Clus Label']).groups[1][3]]['Lemmi'])\n",
        "print(\"_\" * 70)\n",
        "print(data.iloc[data.groupby(['Bow Clus Label']).groups[1][15]]['Lemmi'])\n",
        "print(\"_\" * 70)\n",
        "print(data.iloc[data.groupby(['Bow Clus Label']).groups[1][25]]['Lemmi'])\n",
        "print(\"_\" * 70)\n",
        "print(data.iloc[data.groupby(['Bow Clus Label']).groups[1][20]]['Lemmi'])\n",
        "print(\"_\" * 70)\n",
        "print(data.iloc[data.groupby(['Bow Clus Label']).groups[1][35]]['Lemmi'])\n",
        "print(\"_\" * 70)\n",
        "print(data.iloc[data.groupby(['Bow Clus Label']).groups[1][40]]['Lemmi'])"
      ],
      "execution_count": 33,
      "outputs": [
        {
          "output_type": "stream",
          "name": "stdout",
          "text": [
            "tanto tanto sfogliare libro gettare occhiata difuori studiare aspetto serata inverno lontananza scorgere pallido striscia nebbia nuvola molto vicino albero bagnato pianta sradicare temporale infine pioggia incessante lungo lamentevoli ventata respingere sibilare\n",
            "______________________________________________________________________\n",
            "collocare poltrona fare cenno accostarmi stare ritto dinanzi\n",
            "______________________________________________________________________\n",
            "\n",
            "______________________________________________________________________\n",
            "cosa fare dietro tenda\n",
            "______________________________________________________________________\n",
            "allora signora reed soggiungere portatela camera rosso chiudetevela dentro\n",
            "______________________________________________________________________\n",
            "scandalosa condotta signorina eyre\n"
          ]
        }
      ]
    },
    {
      "cell_type": "code",
      "metadata": {
        "colab": {
          "base_uri": "https://localhost:8080/"
        },
        "id": "fxMq19ZloqLp",
        "outputId": "829c2e90-1efe-4221-ebc4-88e038fa07b4"
      },
      "source": [
        "#consider sample of 3 random sentences for cluster 2\n",
        "\n",
        "print(data.iloc[data.groupby(['Bow Clus Label']).groups[2][3]]['Lemmi'])\n",
        "print(\"_\" * 70)\n",
        "print(data.iloc[data.groupby(['Bow Clus Label']).groups[2][15]]['Lemmi'])\n",
        "print(\"_\" * 70)\n",
        "print(data.iloc[data.groupby(['Bow Clus Label']).groups[2][25]]['Lemmi'])\n",
        "print(\"_\" * 70)\n",
        "print(data.iloc[data.groupby(['Bow Clus Label']).groups[2][30]]['Lemmi'])\n",
        "print(\"_\" * 70)\n",
        "print(data.iloc[data.groupby(['Bow Clus Label']).groups[2][35]]['Lemmi'])\n",
        "print(\"_\" * 70)\n",
        "print(data.iloc[data.groupby(['Bow Clus Label']).groups[2][40]]['Lemmi'])\n",
        "print(\"_\" * 70)\n",
        "print(data.iloc[data.groupby(['Bow Clus Label']).groups[2][45]]['Lemmi'])\n",
        "print(\"_\" * 70)\n",
        "print(data.iloc[data.groupby(['Bow Clus Label']).groups[2][50]]['Lemmi'])\n",
        "print(\"_\" * 70)\n",
        "print(data.iloc[data.groupby(['Bow Clus Label']).groups[2][55]]['Lemmi'])"
      ],
      "execution_count": 34,
      "outputs": [
        {
          "output_type": "stream",
          "name": "stdout",
          "text": [
            "tempo avere dovere trovare collegio madre avevalo togliere mese due pretesto delicato salute\n",
            "______________________________________________________________________\n",
            "dopo poco accorrere qualcuno avvicinare me sollevare collocandomi posizione molto comodo nessuno avere mai trattare fino momento tanto sollecitudine affettuoso\n",
            "______________________________________________________________________\n",
            "avere desiderare rispondere sinceramente domanda\n",
            "______________________________________________________________________\n",
            "nonno reed irritare disubbidienza avere diseredare mamma\n",
            "______________________________________________________________________\n",
            "appena bessie avere vestire padroncine solere scendere rumoroso regione cucina dispensa portare seco lume\n",
            "______________________________________________________________________\n",
            "respiro caldo avere avere dire sbarazzare cristallo strato ghiaccio così potere vedere fuori\n",
            "______________________________________________________________________\n",
            "egli volgere lentamente testa lato dopo avermi esaminare sguardo inquisitore traverso ciglio nero folto domandare tono solenne voce basso anno avere\n",
            "______________________________________________________________________\n",
            "dire parola signore bockelhurst porre mano opuscolo ben avvolgere carta dopo avere chiedere carrozza lasciare\n",
            "______________________________________________________________________\n",
            "bessie pregare buttare giù due cucchiaiata pappa latte avere prima preparare\n"
          ]
        }
      ]
    },
    {
      "cell_type": "code",
      "metadata": {
        "colab": {
          "base_uri": "https://localhost:8080/"
        },
        "id": "uq6IByWqP8Ge",
        "outputId": "7740f200-9226-439f-b203-d66d87510d81"
      },
      "source": [
        "#consider sample of 3 random sentences for cluster 3\n",
        "\n",
        "print(data.iloc[data.groupby(['Bow Clus Label']).groups[3][3]]['Lemmi'])\n",
        "print(\"_\" * 70)\n",
        "print(data.iloc[data.groupby(['Bow Clus Label']).groups[3][15]]['Lemmi'])\n",
        "print(\"_\" * 70)\n",
        "print(data.iloc[data.groupby(['Bow Clus Label']).groups[3][25]]['Lemmi'])"
      ],
      "execution_count": 35,
      "outputs": [
        {
          "output_type": "stream",
          "name": "stdout",
          "text": [
            "dire essere bene aggiungere bessie voce essere aspro dovere cercare rendere utile fare piacevole allora forse potere rimaner qui divenire violento brutale signora mandare via essere certo\n",
            "______________________________________________________________________\n",
            "essere molto avere sotterrare bimba cinque anno essere buono anima essere volare cielo potere dire stesso essere chiamare altro mondo\n",
            "______________________________________________________________________\n",
            "principio lezione ella essere primo filo qualche errore pronunzia essere fermare quando dovere essere mandare fondo stanza signorina scatcherd continuare perseguitarla laggiù incessante osservazione\n"
          ]
        }
      ]
    },
    {
      "cell_type": "code",
      "metadata": {
        "colab": {
          "base_uri": "https://localhost:8080/"
        },
        "id": "t61d-Yw1QhnT",
        "outputId": "f2498a5f-94bb-4b2f-ab57-19bca0a262d4"
      },
      "source": [
        "#consider sample of 3 random sentences for cluster 4\n",
        "\n",
        "print(data.iloc[data.groupby(['Bow Clus Label']).groups[4][3]]['Lemmi'])\n",
        "print(\"_\" * 70)\n",
        "print(data.iloc[data.groupby(['Bow Clus Label']).groups[4][15]]['Lemmi'])\n",
        "print(\"_\" * 70)\n",
        "print(data.iloc[data.groupby(['Bow Clus Label']).groups[4][25]]['Lemmi'])"
      ],
      "execution_count": 36,
      "outputs": [
        {
          "output_type": "stream",
          "name": "stdout",
          "text": [
            "essere mettere gridare senza ragione dire abbot irritata\n",
            "______________________________________________________________________\n",
            "essere finto essere stare avere dire volere bene volere bene dichiaro odiare molto ogni altro eccettuare john reed\n",
            "______________________________________________________________________\n",
            "bimba essere molto piccino essere mandare qui solo dire posare candeliere tavola\n"
          ]
        }
      ]
    },
    {
      "cell_type": "code",
      "metadata": {
        "colab": {
          "base_uri": "https://localhost:8080/"
        },
        "id": "Z4DWfmJAQvGI",
        "outputId": "3b37facb-a207-4762-f19b-1332803e8b8a"
      },
      "source": [
        "#consider sample of 3 random sentences for cluster 5\n",
        "\n",
        "print(data.iloc[data.groupby(['Bow Clus Label']).groups[5][3]]['Lemmi'])\n",
        "print(\"_\" * 70)\n",
        "print(data.iloc[data.groupby(['Bow Clus Label']).groups[5][15]]['Lemmi'])\n",
        "print(\"_\" * 70)\n",
        "print(data.iloc[data.groupby(['Bow Clus Label']).groups[5][25]]['Lemmi'])"
      ],
      "execution_count": 37,
      "outputs": [
        {
          "output_type": "stream",
          "name": "stdout",
          "text": [
            "eliza john georgiana essere aggruppare salotto attorno mamma sdraiare sofà accanto fuoco circondare bambino momento questionare fra né piangere parere perfettamente felice\n",
            "______________________________________________________________________\n",
            "essere momento divenivo selvaggio terrore ispirare sapere ricorrere minaccia punizione\n",
            "______________________________________________________________________\n",
            "essere padrone\n"
          ]
        }
      ]
    },
    {
      "cell_type": "code",
      "metadata": {
        "colab": {
          "base_uri": "https://localhost:8080/"
        },
        "id": "vcotv3O0b_RJ",
        "outputId": "10e53bf4-2032-4a2e-890c-8093fd0b5bae"
      },
      "source": [
        "#consider sample of 3 random sentences for cluster 6\n",
        "\n",
        "print(data.iloc[data.groupby(['Bow Clus Label']).groups[6][2]]['Lemmi'])\n",
        "print(\"_\" * 70)\n",
        "print(data.iloc[data.groupby(['Bow Clus Label']).groups[6][21]]['Lemmi'])\n",
        "print(\"_\" * 70)\n",
        "print(data.iloc[data.groupby(['Bow Clus Label']).groups[6][23]]['Lemmi'])"
      ],
      "execution_count": 38,
      "outputs": [
        {
          "output_type": "stream",
          "name": "stdout",
          "text": [
            "egli stare tre minuto mostrarmi lingua allungare molto potere sapere stare picchiare spiare brutto fare momento collera avrebbegli fare allungare mano\n",
            "______________________________________________________________________\n",
            "bessie vantare bello paesaggio fiore grazioso dipinto poi sapere cantare romanza recitare tradurre libro francese\n",
            "______________________________________________________________________\n",
            "venite andare giù\n"
          ]
        }
      ]
    },
    {
      "cell_type": "code",
      "metadata": {
        "colab": {
          "base_uri": "https://localhost:8080/"
        },
        "id": "OwRr-NXvcFQZ",
        "outputId": "d0791141-6757-4564-f273-896647ec25a7"
      },
      "source": [
        "#consider sample of 3 random sentences for cluster 7\n",
        "\n",
        "print(data.iloc[data.groupby(['Bow Clus Label']).groups[7][5]]['Lemmi'])\n",
        "print(\"_\" * 70)\n",
        "print(data.iloc[data.groupby(['Bow Clus Label']).groups[7][10]]['Lemmi'])\n",
        "print(\"_\" * 70)\n",
        "print(data.iloc[data.groupby(['Bow Clus Label']).groups[7][18]]['Lemmi'])"
      ],
      "execution_count": 39,
      "outputs": [
        {
          "output_type": "stream",
          "name": "stdout",
          "text": [
            "dubitare avere mai dubitato signore reed essere vivere avere trattare bontà ora mentre guardare letto bianco parete scure occhio essere attrarre tanto tanto verso specchio mandare altro cupo riflesso tornare mente ciò avere udire dire morto turbare riposo tomba violazione ultimo volontà ritornare terra punire spergiuro vendicare oppresso\n",
            "______________________________________________________________________\n",
            "credere signore bockelhurst avere accennare lettera tre settimana fa bimba avere carattere nè tendenza avere desiderare trovare\n",
            "______________________________________________________________________\n",
            "cosa aggiungere signore bockelhurst avere sapere benefattrice pio caritatevole signora avere adottare quando rimanere orfano avere educare insieme figlia disgraziata bambina avere pagare bontà generosità ingratitudine così grande eccellente signora reed essere stare costringere separare jane figlio affinchè esempio contaminare purezza\n"
          ]
        }
      ]
    },
    {
      "cell_type": "code",
      "metadata": {
        "colab": {
          "base_uri": "https://localhost:8080/"
        },
        "id": "ED-KUUBkcJwq",
        "outputId": "5d031939-7ade-442f-b247-1c167e27dd52"
      },
      "source": [
        "#consider sample of 3 random sentences for cluster 8\n",
        "\n",
        "print(data.iloc[data.groupby(['Bow Clus Label']).groups[8][5]]['Lemmi'])\n",
        "print(\"_\" * 70)\n",
        "print(data.iloc[data.groupby(['Bow Clus Label']).groups[8][10]]['Lemmi'])\n",
        "print(\"_\" * 70)\n",
        "print(data.iloc[data.groupby(['Bow Clus Label']).groups[8][20]]['Lemmi'])"
      ],
      "execution_count": 40,
      "outputs": [
        {
          "output_type": "stream",
          "name": "stdout",
          "text": [
            "avere dovere credermi paradiso assuefare essere continuo rimprovero sforzo incompreso nervo essere così scosso calma potere molto calmare piacere potere molto eccitarli piacevolmente\n",
            "______________________________________________________________________\n",
            "cosa essere inferno potere dirmelo essere abisso fiamma\n",
            "______________________________________________________________________\n",
            "passare tempo esaminare pensare riflessione essere troppo vago troppo spesso interrompere potere essere riferire\n"
          ]
        }
      ]
    },
    {
      "cell_type": "code",
      "metadata": {
        "colab": {
          "base_uri": "https://localhost:8080/"
        },
        "id": "Y_yp6eQKcNI1",
        "outputId": "cbf1ee05-4929-4133-ae6e-6683012f04c3"
      },
      "source": [
        "#consider sample of 3 random sentences for cluster 9\n",
        "\n",
        "print(data.iloc[data.groupby(['Bow Clus Label']).groups[9][5]]['Lemmi'])\n",
        "print(\"_\" * 70)\n",
        "print(data.iloc[data.groupby(['Bow Clus Label']).groups[9][10]]['Lemmi'])\n",
        "print(\"_\" * 70)\n",
        "print(data.iloc[data.groupby(['Bow Clus Label']).groups[9][20]]['Lemmi'])"
      ],
      "execution_count": 41,
      "outputs": [
        {
          "output_type": "stream",
          "name": "stdout",
          "text": [
            "però volere bene essere equo dire neppur volere\n",
            "______________________________________________________________________\n",
            "no risposi volere appartenere povero gente\n",
            "______________________________________________________________________\n",
            "madre quando venire qui settimana passato dire volere vedere figlio posto\n"
          ]
        }
      ]
    },
    {
      "cell_type": "markdown",
      "metadata": {
        "id": "w-iLbBUx5axG"
      },
      "source": [
        "KMEANS USING TF IDF"
      ]
    },
    {
      "cell_type": "code",
      "metadata": {
        "colab": {
          "base_uri": "https://localhost:8080/"
        },
        "id": "Nl-zSosYoqEc",
        "outputId": "eaea57fc-702d-4491-eb0e-6cddf465d0d5"
      },
      "source": [
        "#tfidf vector initililization\n",
        "from sklearn.feature_extraction.text import TfidfVectorizer\n",
        "tfidf_vect = TfidfVectorizer()\n",
        "tfidf = tfidf_vect.fit_transform(text.values)\n",
        "tfidf.shape"
      ],
      "execution_count": 42,
      "outputs": [
        {
          "output_type": "execute_result",
          "data": {
            "text/plain": [
              "(19802, 14291)"
            ]
          },
          "metadata": {},
          "execution_count": 42
        }
      ]
    },
    {
      "cell_type": "code",
      "metadata": {
        "colab": {
          "base_uri": "https://localhost:8080/"
        },
        "id": "dW2aBDBm5hFo",
        "outputId": "8f4c7f6e-a390-4079-9f0b-47b2570b6847"
      },
      "source": [
        "from sklearn.cluster import KMeans\n",
        "model_tf = KMeans(n_clusters = 10, n_jobs = -1,random_state=99)\n",
        "model_tf.fit(tfidf)"
      ],
      "execution_count": 43,
      "outputs": [
        {
          "output_type": "execute_result",
          "data": {
            "text/plain": [
              "KMeans(algorithm='auto', copy_x=True, init='k-means++', max_iter=300,\n",
              "       n_clusters=10, n_init=10, n_jobs=-1, precompute_distances='auto',\n",
              "       random_state=99, tol=0.0001, verbose=0)"
            ]
          },
          "metadata": {},
          "execution_count": 43
        }
      ]
    },
    {
      "cell_type": "code",
      "metadata": {
        "id": "SacDcqueop9d"
      },
      "source": [
        "labels_tf = model_tf.labels_\n",
        "cluster_center_tf=model_tf.cluster_centers_"
      ],
      "execution_count": 44,
      "outputs": []
    },
    {
      "cell_type": "code",
      "metadata": {
        "colab": {
          "base_uri": "https://localhost:8080/"
        },
        "id": "UCE8A91X5jUc",
        "outputId": "fac90866-099a-43d2-b2fc-790fc04049ca"
      },
      "source": [
        "cluster_center_tf"
      ],
      "execution_count": 45,
      "outputs": [
        {
          "output_type": "execute_result",
          "data": {
            "text/plain": [
              "array([[0.00000000e+00, 0.00000000e+00, 0.00000000e+00, ...,\n",
              "        0.00000000e+00, 0.00000000e+00, 0.00000000e+00],\n",
              "       [0.00000000e+00, 6.73066404e-05, 0.00000000e+00, ...,\n",
              "        3.93614170e-05, 4.83058592e-05, 6.22509314e-05],\n",
              "       [0.00000000e+00, 0.00000000e+00, 0.00000000e+00, ...,\n",
              "        0.00000000e+00, 0.00000000e+00, 0.00000000e+00],\n",
              "       ...,\n",
              "       [0.00000000e+00, 0.00000000e+00, 0.00000000e+00, ...,\n",
              "        0.00000000e+00, 0.00000000e+00, 0.00000000e+00],\n",
              "       [0.00000000e+00, 0.00000000e+00, 0.00000000e+00, ...,\n",
              "        0.00000000e+00, 0.00000000e+00, 0.00000000e+00],\n",
              "       [0.00000000e+00, 0.00000000e+00, 0.00000000e+00, ...,\n",
              "        0.00000000e+00, 0.00000000e+00, 0.00000000e+00]])"
            ]
          },
          "metadata": {},
          "execution_count": 45
        }
      ]
    },
    {
      "cell_type": "code",
      "metadata": {
        "id": "uSNB20mZ5mpI"
      },
      "source": [
        "# to understand what kind of words generated as columns by BOW\n",
        "terms1 = tfidf_vect.get_feature_names()"
      ],
      "execution_count": 46,
      "outputs": []
    },
    {
      "cell_type": "code",
      "metadata": {
        "colab": {
          "base_uri": "https://localhost:8080/"
        },
        "id": "QlyO4Hb35osC",
        "outputId": "5a3fe63e-99a4-49d2-99f6-1a308753e8c3"
      },
      "source": [
        "terms1[1:10]"
      ],
      "execution_count": 47,
      "outputs": [
        {
          "output_type": "execute_result",
          "data": {
            "text/plain": [
              "['abbagliante',\n",
              " 'abbagliare',\n",
              " 'abbagliate',\n",
              " 'abbaglio',\n",
              " 'abbaiare',\n",
              " 'abbaino',\n",
              " 'abballinate',\n",
              " 'abbandonala',\n",
              " 'abbandonandomi']"
            ]
          },
          "metadata": {},
          "execution_count": 47
        }
      ]
    },
    {
      "cell_type": "code",
      "metadata": {
        "id": "DGS-NsBAop5p"
      },
      "source": [
        "from sklearn import metrics\n",
        "silhouette_score_tf = metrics.silhouette_score(tfidf, labels_tf, metric='euclidean')"
      ],
      "execution_count": 48,
      "outputs": []
    },
    {
      "cell_type": "code",
      "metadata": {
        "colab": {
          "base_uri": "https://localhost:8080/"
        },
        "id": "fWCWyG1nop2R",
        "outputId": "aa26e52c-97dd-49b5-8a86-1a46c00a0599"
      },
      "source": [
        "silhouette_score_tf"
      ],
      "execution_count": 49,
      "outputs": [
        {
          "output_type": "execute_result",
          "data": {
            "text/plain": [
              "0.011567070909185889"
            ]
          },
          "metadata": {},
          "execution_count": 49
        }
      ]
    },
    {
      "cell_type": "code",
      "metadata": {
        "colab": {
          "base_uri": "https://localhost:8080/",
          "height": 201
        },
        "id": "jqvSw9klopvO",
        "outputId": "e1ea9b91-6a7d-4714-bb8e-ecceda1d34d8"
      },
      "source": [
        "# Giving Labels/assigning a cluster to each sentence\n",
        "df1 = data\n",
        "df1['Tfidf Clus Label'] = model_tf.labels_\n",
        "df1.head(5)"
      ],
      "execution_count": 50,
      "outputs": [
        {
          "output_type": "execute_result",
          "data": {
            "text/html": [
              "<div>\n",
              "<style scoped>\n",
              "    .dataframe tbody tr th:only-of-type {\n",
              "        vertical-align: middle;\n",
              "    }\n",
              "\n",
              "    .dataframe tbody tr th {\n",
              "        vertical-align: top;\n",
              "    }\n",
              "\n",
              "    .dataframe thead th {\n",
              "        text-align: right;\n",
              "    }\n",
              "</style>\n",
              "<table border=\"1\" class=\"dataframe\">\n",
              "  <thead>\n",
              "    <tr style=\"text-align: right;\">\n",
              "      <th></th>\n",
              "      <th>text</th>\n",
              "      <th>Lemmi</th>\n",
              "      <th>Bow Clus Label</th>\n",
              "      <th>Tfidf Clus Label</th>\n",
              "    </tr>\n",
              "  </thead>\n",
              "  <tbody>\n",
              "    <tr>\n",
              "      <th>0</th>\n",
              "      <td>in quello giorno essere impossibile passeggiare .</td>\n",
              "      <td>giorno essere impossibile passeggiare</td>\n",
              "      <td>5</td>\n",
              "      <td>5</td>\n",
              "    </tr>\n",
              "    <tr>\n",
              "      <th>1</th>\n",
              "      <td>il mattina avere errare per uno ora nel bosche...</td>\n",
              "      <td>mattina avere errare ora boschetto spogliare f...</td>\n",
              "      <td>0</td>\n",
              "      <td>9</td>\n",
              "    </tr>\n",
              "    <tr>\n",
              "      <th>2</th>\n",
              "      <td>ne essere contento .</td>\n",
              "      <td>essere contento</td>\n",
              "      <td>5</td>\n",
              "      <td>5</td>\n",
              "    </tr>\n",
              "    <tr>\n",
              "      <th>3</th>\n",
              "      <td>non mi essere mai piacere il lunghe passeggiat...</td>\n",
              "      <td>essere mai piacere lunghe passeggiate sopra fr...</td>\n",
              "      <td>5</td>\n",
              "      <td>5</td>\n",
              "    </tr>\n",
              "    <tr>\n",
              "      <th>4</th>\n",
              "      <td>eliza , John e georgiana essere aggruppare in ...</td>\n",
              "      <td>eliza john georgiana essere aggruppare salotto...</td>\n",
              "      <td>5</td>\n",
              "      <td>0</td>\n",
              "    </tr>\n",
              "  </tbody>\n",
              "</table>\n",
              "</div>"
            ],
            "text/plain": [
              "                                                text  ... Tfidf Clus Label\n",
              "0  in quello giorno essere impossibile passeggiare .  ...                5\n",
              "1  il mattina avere errare per uno ora nel bosche...  ...                9\n",
              "2                               ne essere contento .  ...                5\n",
              "3  non mi essere mai piacere il lunghe passeggiat...  ...                5\n",
              "4  eliza , John e georgiana essere aggruppare in ...  ...                0\n",
              "\n",
              "[5 rows x 4 columns]"
            ]
          },
          "metadata": {},
          "execution_count": 50
        }
      ]
    },
    {
      "cell_type": "code",
      "metadata": {
        "colab": {
          "base_uri": "https://localhost:8080/"
        },
        "id": "epcsLzs05wKe",
        "outputId": "b208d261-7678-42c5-9971-eb013863be37"
      },
      "source": [
        "# How many sentences belong to each cluster\n",
        "\n",
        "df1.groupby(['Tfidf Clus Label'])['Lemmi'].count()"
      ],
      "execution_count": 51,
      "outputs": [
        {
          "output_type": "execute_result",
          "data": {
            "text/plain": [
              "Tfidf Clus Label\n",
              "0     450\n",
              "1    8693\n",
              "2     164\n",
              "3     996\n",
              "4     239\n",
              "5    4183\n",
              "6    1357\n",
              "7    2743\n",
              "8     262\n",
              "9     715\n",
              "Name: Lemmi, dtype: int64"
            ]
          },
          "metadata": {},
          "execution_count": 51
        }
      ]
    },
    {
      "cell_type": "code",
      "metadata": {
        "colab": {
          "base_uri": "https://localhost:8080/"
        },
        "id": "_AiRsa9356y3",
        "outputId": "3062a113-7f46-4081-ed20-a4230a3baf4f"
      },
      "source": [
        "#Find the top 10 features of cluster centriod\n",
        "print(\"Top terms per cluster:\")\n",
        "order_centroids = model_tf.cluster_centers_.argsort()[:, ::-1]\n",
        "for i in range(10):\n",
        "    print(\"Cluster %d:\" % i, end='')\n",
        "    for ind in order_centroids[i, :10]:\n",
        "        print(' %s' % terms1[ind], end='')\n",
        "        print()"
      ],
      "execution_count": 52,
      "outputs": [
        {
          "output_type": "stream",
          "name": "stdout",
          "text": [
            "Top terms per cluster:\n",
            "Cluster 0: fra\n",
            " lungo\n",
            " essere\n",
            " avere\n",
            " molto\n",
            " poco\n",
            " me\n",
            " giorno\n",
            " fare\n",
            " due\n",
            "Cluster 1: jane\n",
            " dire\n",
            " molto\n",
            " me\n",
            " essere\n",
            " andare\n",
            " volere\n",
            " oh\n",
            " potere\n",
            " vedere\n",
            "Cluster 2: domandare\n",
            " essere\n",
            " cosa\n",
            " voce\n",
            " volere\n",
            " avere\n",
            " bessie\n",
            " rochester\n",
            " signore\n",
            " stare\n",
            "Cluster 3: signore\n",
            " rochester\n",
            " mr\n",
            " essere\n",
            " avere\n",
            " dire\n",
            " andare\n",
            " me\n",
            " molto\n",
            " potere\n",
            "Cluster 4: no\n",
            " signore\n",
            " oh\n",
            " essere\n",
            " certo\n",
            " avere\n",
            " sapere\n",
            " dire\n",
            " jane\n",
            " mai\n",
            "Cluster 5: essere\n",
            " stare\n",
            " molto\n",
            " dire\n",
            " potere\n",
            " me\n",
            " quando\n",
            " cosa\n",
            " sapere\n",
            " vero\n",
            "Cluster 6: fare\n",
            " cosa\n",
            " avere\n",
            " essere\n",
            " potere\n",
            " volere\n",
            " dovere\n",
            " dire\n",
            " sapere\n",
            " me\n",
            "Cluster 7: avere\n",
            " dire\n",
            " essere\n",
            " molto\n",
            " potere\n",
            " mai\n",
            " me\n",
            " sentire\n",
            " volere\n",
            " cosa\n",
            "Cluster 8: sì\n",
            " signore\n",
            " essere\n",
            " dire\n",
            " avere\n",
            " jane\n",
            " rispondere\n",
            " volere\n",
            " vero\n",
            " me\n",
            "Cluster 9: così\n",
            " essere\n",
            " avere\n",
            " potere\n",
            " fare\n",
            " dire\n",
            " molto\n",
            " stare\n",
            " proprio\n",
            " me\n"
          ]
        }
      ]
    },
    {
      "cell_type": "code",
      "metadata": {
        "colab": {
          "base_uri": "https://localhost:8080/",
          "height": 295
        },
        "id": "ehZPdJvf5-JC",
        "outputId": "4010511c-f8c4-4e65-c92e-889cdff5be37"
      },
      "source": [
        "# visually how sentences are distributed across 10 clusters \n",
        "\n",
        "plt.bar([x for x in range(10)], df1.groupby(['Tfidf Clus Label'])['Lemmi'].count(), alpha = 0.4)\n",
        "plt.title('KMeans cluster points')\n",
        "plt.xlabel(\"Cluster number\")\n",
        "plt.ylabel(\"Number of points\")\n",
        "plt.show()"
      ],
      "execution_count": 53,
      "outputs": [
        {
          "output_type": "display_data",
          "data": {
            "image/png": "[encoded data removed]",
            "text/plain": [
              "<Figure size 432x288 with 1 Axes>"
            ]
          },
          "metadata": {
            "needs_background": "light"
          }
        }
      ]
    },
    {
      "cell_type": "code",
      "metadata": {
        "colab": {
          "base_uri": "https://localhost:8080/"
        },
        "id": "h7GT_UpOz82D",
        "outputId": "999ee3b1-67a0-429f-a201-d90246151c92"
      },
      "source": [
        "#consider sample of 3 random sentences for cluster 0\n",
        "\n",
        "print(data.iloc[data.groupby(['Tfidf Clus Label']).groups[0][3]]['Lemmi'])\n",
        "print(\"_\" * 70)\n",
        "print(data.iloc[data.groupby(['Tfidf Clus Label']).groups[0][15]]['Lemmi'])\n",
        "print(\"_\" * 70)\n",
        "print(data.iloc[data.groupby(['Tfidf Clus Label']).groups[0][25]]['Lemmi'])"
      ],
      "execution_count": 54,
      "outputs": [
        {
          "output_type": "stream",
          "name": "stdout",
          "text": [
            "ora v insegnare frugare biblioteca libro essere appartenere casa appartenere fra poco anno\n",
            "______________________________________________________________________\n",
            "zia parlare mai mandare pensione sentire istintivamente ella avere tollerare lungo sotto tetto sguardo ogni tanto fissare me rivelare avversione insormontabile\n",
            "______________________________________________________________________\n",
            "sera bessie narrare molto bello fra novella cantare molto dolce canzone\n"
          ]
        }
      ]
    },
    {
      "cell_type": "code",
      "metadata": {
        "colab": {
          "base_uri": "https://localhost:8080/"
        },
        "id": "_WsGSsodz8bu",
        "outputId": "24aad58b-63d7-497b-ac37-98c8a927c199"
      },
      "source": [
        "#consider sample of 3 random sentences for cluster 1\n",
        "\n",
        "print(data.iloc[data.groupby(['Tfidf Clus Label']).groups[1][3]]['Lemmi'])\n",
        "print(\"_\" * 70)\n",
        "print(data.iloc[data.groupby(['Tfidf Clus Label']).groups[1][15]]['Lemmi'])\n",
        "print(\"_\" * 70)\n",
        "print(data.iloc[data.groupby(['Tfidf Clus Label']).groups[1][25]]['Lemmi'])"
      ],
      "execution_count": 55,
      "outputs": [
        {
          "output_type": "stream",
          "name": "stdout",
          "text": [
            "collocare allora vano finestra sedendomi piede turco tirare tenda damasco rosso trovare rinchiusa doppio ritiro\n",
            "______________________________________________________________________\n",
            "temere soltanto interruzione tardare\n",
            "______________________________________________________________________\n",
            "john volere molto bene né madre né sorella\n"
          ]
        }
      ]
    },
    {
      "cell_type": "code",
      "metadata": {
        "colab": {
          "base_uri": "https://localhost:8080/"
        },
        "id": "yz7BRaYszlz1",
        "outputId": "d0c91031-3bab-4417-a663-22ace3e17c4a"
      },
      "source": [
        "#consider sample of 3 random sentences for cluster 2\n",
        "\n",
        "print(data.iloc[data.groupby(['Tfidf Clus Label']).groups[2][3]]['Lemmi'])\n",
        "print(\"_\" * 70)\n",
        "print(data.iloc[data.groupby(['Tfidf Clus Label']).groups[2][15]]['Lemmi'])\n",
        "print(\"_\" * 70)\n",
        "print(data.iloc[data.groupby(['Tfidf Clus Label']).groups[2][25]]['Lemmi'])"
      ],
      "execution_count": 56,
      "outputs": [
        {
          "output_type": "stream",
          "name": "stdout",
          "text": [
            "avere bisogno dormire signorina domandare bessie certo dolcezza voce\n",
            "______________________________________________________________________\n",
            "essere davvero jane domandare voce dolce\n",
            "______________________________________________________________________\n",
            "essere straniero domandare meravigliata\n"
          ]
        }
      ]
    },
    {
      "cell_type": "code",
      "metadata": {
        "colab": {
          "base_uri": "https://localhost:8080/"
        },
        "id": "X_OyyS3Tz7gR",
        "outputId": "0ec8ef9c-4e12-44a9-ef54-213dc5feaa5e"
      },
      "source": [
        "# Reading a sentence which belong to each group.\n",
        "for i in range(10):\n",
        "    print(\"2 sentences of assigned to cluster \", i)\n",
        "    print(\"-\" * 70) \n",
        "    print(data.iloc[data.groupby(['Tfidf Clus Label']).groups[i][0]]['Lemmi'])\n",
        "    print('\\n')\n",
        "    print(data.iloc[data.groupby(['Tfidf Clus Label']).groups[i][1]]['Lemmi'])\n",
        "    print('\\n')\n",
        "    print(\"_\" * 70)"
      ],
      "execution_count": 57,
      "outputs": [
        {
          "output_type": "stream",
          "name": "stdout",
          "text": [
            "2 sentences of assigned to cluster  0\n",
            "----------------------------------------------------------------------\n",
            "eliza john georgiana essere aggruppare salotto attorno mamma sdraiare sofà accanto fuoco circondare bambino momento questionare fra né piangere parere perfettamente felice\n",
            "\n",
            "\n",
            "tanto tanto sfogliare libro gettare occhiata difuori studiare aspetto serata inverno lontananza scorgere pallido striscia nebbia nuvola molto vicino albero bagnato pianta sradicare temporale infine pioggia incessante lungo lamentevoli ventata respingere sibilare\n",
            "\n",
            "\n",
            "______________________________________________________________________\n",
            "2 sentences of assigned to cluster  1\n",
            "----------------------------------------------------------------------\n",
            "domandai\n",
            "\n",
            "\n",
            "sedetevi qualche posto stare buono fino quando sapere parlare ragionevolmente\n",
            "\n",
            "\n",
            "______________________________________________________________________\n",
            "2 sentences of assigned to cluster  2\n",
            "----------------------------------------------------------------------\n",
            "domandare\n",
            "\n",
            "\n",
            "signorina eyre sentire male domandare bessie\n",
            "\n",
            "\n",
            "______________________________________________________________________\n",
            "2 sentences of assigned to cluster  3\n",
            "----------------------------------------------------------------------\n",
            "dite cosa volere signore reed\n",
            "\n",
            "\n",
            "vidi signore lloyd sorridere aggrottare sopraccigliare\n",
            "\n",
            "\n",
            "______________________________________________________________________\n",
            "2 sentences of assigned to cluster  4\n",
            "----------------------------------------------------------------------\n",
            "no essere meno serva guadagnare pane\n",
            "\n",
            "\n",
            "no essere troppo grande piangere sciocchezza simile\n",
            "\n",
            "\n",
            "______________________________________________________________________\n",
            "2 sentences of assigned to cluster  5\n",
            "----------------------------------------------------------------------\n",
            "giorno essere impossibile passeggiare\n",
            "\n",
            "\n",
            "essere contento\n",
            "\n",
            "\n",
            "______________________________________________________________________\n",
            "2 sentences of assigned to cluster  6\n",
            "----------------------------------------------------------------------\n",
            "cosa volere\n",
            "\n",
            "\n",
            "collocare poltrona fare cenno accostarmi stare ritto dinanzi\n",
            "\n",
            "\n",
            "______________________________________________________________________\n",
            "2 sentences of assigned to cluster  7\n",
            "----------------------------------------------------------------------\n",
            "ella avere proibire unirmi gruppo dire deplorare necessità trovavasi tenere così lontano fino momento bessie guarentirebbe studiare acquistare carattere molto socievole molto infantile maniera molto cortese qualcosa molto radioso molto aperto molto sincero potere concedere stesso privilegio bambino allegro soddisfatto\n",
            "\n",
            "\n",
            "cosa avere dire bessie nuovo conto\n",
            "\n",
            "\n",
            "______________________________________________________________________\n",
            "2 sentences of assigned to cluster  8\n",
            "----------------------------------------------------------------------\n",
            "sì sì volere mandartici molto presto potere dire sottovoce prendere lavoro uscire precipitosamente stanza\n",
            "\n",
            "\n",
            "ebbene sì essere buono avere paura me\n",
            "\n",
            "\n",
            "______________________________________________________________________\n",
            "2 sentences of assigned to cluster  9\n",
            "----------------------------------------------------------------------\n",
            "mattina avere errare ora boschetto spogliare foglia dopo pranzo quando essere invitare signora reed desinare presto vento gelato inverno avere portare seco nubi così scure pioggia così penetrare potere pensare nessun escursione\n",
            "\n",
            "\n",
            "stare male resto bimba trattare così superiore\n",
            "\n",
            "\n",
            "______________________________________________________________________\n"
          ]
        }
      ]
    },
    {
      "cell_type": "markdown",
      "metadata": {
        "id": "-GLVuUiJ6s7k"
      },
      "source": [
        "Average Word to Vector"
      ]
    },
    {
      "cell_type": "code",
      "metadata": {
        "id": "LewmQHt6WhG1"
      },
      "source": [
        "import numpy as np\n",
        "import tensorflow as tf\n",
        "from tensorflow import keras"
      ],
      "execution_count": 58,
      "outputs": []
    },
    {
      "cell_type": "code",
      "metadata": {
        "id": "_PSGYwUt0TmV"
      },
      "source": [
        "# Train your own Word2Vec model\n",
        "i=0\n",
        "list_of_sent=[]\n",
        "for sent in data['Lemmi'].values:\n",
        "    list_of_sent.append(sent.split())"
      ],
      "execution_count": 59,
      "outputs": []
    },
    {
      "cell_type": "code",
      "metadata": {
        "id": "FKUAnEvO980A"
      },
      "source": [
        "import gensim\n",
        "# Training the wor2vec model\n",
        "w2v_model=gensim.models.Word2Vec(list_of_sent,size=100, workers=4)"
      ],
      "execution_count": 60,
      "outputs": []
    },
    {
      "cell_type": "code",
      "metadata": {
        "colab": {
          "base_uri": "https://localhost:8080/"
        },
        "id": "zzOHAfFu99xW",
        "outputId": "aec6cdc5-3c1b-4464-fe90-0971ae6c738e"
      },
      "source": [
        "import numpy as np\n",
        "sent_vectors = []; # the avg-w2v for each sentence is stored in this train\n",
        "for sent in list_of_sent: # for each sentence\n",
        "    sent_vec = np.zeros(100) # as word vectors are of zero length\n",
        "    cnt_words =0; # num of words with a valid vector in the sentence\n",
        "    for word in sent: # for each word in a sentence\n",
        "        try:\n",
        "            vec = w2v_model.wv[word]\n",
        "            sent_vec += vec\n",
        "            cnt_words += 1\n",
        "        except:\n",
        "            pass\n",
        "    sent_vec /= cnt_words\n",
        "    sent_vectors.append(sent_vec)\n",
        "sent_vectors = np.array(sent_vectors)\n",
        "sent_vectors = np.nan_to_num(sent_vectors)\n",
        "sent_vectors.shape"
      ],
      "execution_count": 61,
      "outputs": [
        {
          "output_type": "stream",
          "name": "stderr",
          "text": [
            "/usr/local/lib/python3.7/dist-packages/ipykernel_launcher.py:13: RuntimeWarning: invalid value encountered in true_divide\n",
            "  del sys.path[0]\n"
          ]
        },
        {
          "output_type": "execute_result",
          "data": {
            "text/plain": [
              "(19802, 100)"
            ]
          },
          "metadata": {},
          "execution_count": 61
        }
      ]
    },
    {
      "cell_type": "code",
      "metadata": {
        "colab": {
          "base_uri": "https://localhost:8080/"
        },
        "id": "Zzrfp54860dZ",
        "outputId": "c0f60bd9-59da-4730-8c24-fd7728b194ed"
      },
      "source": [
        "print(data['Lemmi'].values[0])\n",
        "print(\"*****************************************************************\")\n",
        "print(list_of_sent[0])"
      ],
      "execution_count": 62,
      "outputs": [
        {
          "output_type": "stream",
          "name": "stdout",
          "text": [
            "giorno essere impossibile passeggiare\n",
            "*****************************************************************\n",
            "['giorno', 'essere', 'impossibile', 'passeggiare']\n"
          ]
        }
      ]
    },
    {
      "cell_type": "code",
      "metadata": {
        "id": "dfITcFjf63oM"
      },
      "source": [
        "# Number of clusters to check.\n",
        "num_clus = [x for x in range(0,10)]"
      ],
      "execution_count": 63,
      "outputs": []
    },
    {
      "cell_type": "code",
      "metadata": {
        "colab": {
          "base_uri": "https://localhost:8080/"
        },
        "id": "WAzrovVG1TF2",
        "outputId": "d840c97c-beaf-48c0-fbc3-69e1a401ba58"
      },
      "source": [
        "# Number of clusters to check.\n",
        "num_clus = [x for x in range(0,10)]\n",
        "num_clus"
      ],
      "execution_count": 64,
      "outputs": [
        {
          "output_type": "execute_result",
          "data": {
            "text/plain": [
              "[0, 1, 2, 3, 4, 5, 6, 7, 8, 9]"
            ]
          },
          "metadata": {},
          "execution_count": 64
        }
      ]
    },
    {
      "cell_type": "code",
      "metadata": {
        "colab": {
          "base_uri": "https://localhost:8080/"
        },
        "id": "icGqGPW07GmH",
        "outputId": "9e1a16e3-6b69-4d19-838d-f67a5a7cf959"
      },
      "source": [
        "# Training\n",
        "from sklearn.cluster import KMeans\n",
        "model2 = KMeans(n_clusters = 10)\n",
        "model2.fit(sent_vectors)"
      ],
      "execution_count": 65,
      "outputs": [
        {
          "output_type": "execute_result",
          "data": {
            "text/plain": [
              "KMeans(algorithm='auto', copy_x=True, init='k-means++', max_iter=300,\n",
              "       n_clusters=10, n_init=10, n_jobs=None, precompute_distances='auto',\n",
              "       random_state=None, tol=0.0001, verbose=0)"
            ]
          },
          "metadata": {},
          "execution_count": 65
        }
      ]
    },
    {
      "cell_type": "code",
      "metadata": {
        "id": "aOqikYbO-YCm"
      },
      "source": [
        "word_cluster_pred=model2.predict(sent_vectors)\n",
        "word_cluster_pred_2=model2.labels_\n",
        "word_cluster_center=model2.cluster_centers_"
      ],
      "execution_count": 66,
      "outputs": []
    },
    {
      "cell_type": "code",
      "metadata": {
        "colab": {
          "base_uri": "https://localhost:8080/"
        },
        "id": "qY-oOYsX-cFw",
        "outputId": "72fd396f-eb5c-420f-9c56-690379fd6cd3"
      },
      "source": [
        "word_cluster_center[1:2]"
      ],
      "execution_count": 67,
      "outputs": [
        {
          "output_type": "execute_result",
          "data": {
            "text/plain": [
              "array([[-0.02499043,  0.00615986,  0.01423412, -0.01855015, -0.02050142,\n",
              "         0.0020105 ,  0.00372707,  0.01204326, -0.00336448, -0.02250255,\n",
              "         0.00560946, -0.0001288 , -0.00031873,  0.00273796, -0.0060132 ,\n",
              "         0.01832783, -0.02290911,  0.00148468,  0.04397122,  0.01660821,\n",
              "        -0.02723861, -0.00806927,  0.01484618, -0.01009509, -0.01697414,\n",
              "        -0.01013092, -0.00526315, -0.00396241,  0.01755219,  0.01415041,\n",
              "         0.0032258 , -0.00174081,  0.02063406, -0.01651253, -0.00357627,\n",
              "        -0.00891917,  0.00699409, -0.00177397, -0.01147437,  0.01769273,\n",
              "         0.01301807,  0.00029761, -0.01249411,  0.00345242,  0.00745388,\n",
              "         0.00063392,  0.01217474, -0.01601513,  0.00904763, -0.01024653,\n",
              "         0.00608171, -0.0138072 , -0.00582597, -0.00163969, -0.0034959 ,\n",
              "         0.00147737, -0.01222536,  0.00329088, -0.0235375 , -0.03148214,\n",
              "         0.00374026,  0.00024907,  0.02022368,  0.00647752, -0.0013437 ,\n",
              "         0.02008196,  0.01098451,  0.01852507, -0.01437366,  0.01708578,\n",
              "        -0.04097277, -0.02584469,  0.0182512 , -0.00897887,  0.00202326,\n",
              "        -0.01942761, -0.02016106, -0.01733794,  0.01223303,  0.00604063,\n",
              "         0.00729348,  0.00807642,  0.00419895,  0.01514628, -0.0207812 ,\n",
              "        -0.00371122, -0.00387852, -0.00102457, -0.00799525,  0.02680304,\n",
              "        -0.0017335 ,  0.00284903, -0.02104455,  0.00420076, -0.01251713,\n",
              "        -0.00880923, -0.02172599, -0.0001623 , -0.01540696, -0.02657385]])"
            ]
          },
          "metadata": {},
          "execution_count": 67
        }
      ]
    },
    {
      "cell_type": "code",
      "metadata": {
        "colab": {
          "base_uri": "https://localhost:8080/",
          "height": 109
        },
        "id": "wBwJVOPE-fFN",
        "outputId": "a40359ae-1e82-4a22-880c-b3df67145885"
      },
      "source": [
        "# Giving Labels/assigning a cluster to each point/text \n",
        "dfa = df1\n",
        "dfa['AVG-W2V Clus Label'] = model2.labels_\n",
        "dfa.head(2)"
      ],
      "execution_count": 68,
      "outputs": [
        {
          "output_type": "execute_result",
          "data": {
            "text/html": [
              "<div>\n",
              "<style scoped>\n",
              "    .dataframe tbody tr th:only-of-type {\n",
              "        vertical-align: middle;\n",
              "    }\n",
              "\n",
              "    .dataframe tbody tr th {\n",
              "        vertical-align: top;\n",
              "    }\n",
              "\n",
              "    .dataframe thead th {\n",
              "        text-align: right;\n",
              "    }\n",
              "</style>\n",
              "<table border=\"1\" class=\"dataframe\">\n",
              "  <thead>\n",
              "    <tr style=\"text-align: right;\">\n",
              "      <th></th>\n",
              "      <th>text</th>\n",
              "      <th>Lemmi</th>\n",
              "      <th>Bow Clus Label</th>\n",
              "      <th>Tfidf Clus Label</th>\n",
              "      <th>AVG-W2V Clus Label</th>\n",
              "    </tr>\n",
              "  </thead>\n",
              "  <tbody>\n",
              "    <tr>\n",
              "      <th>0</th>\n",
              "      <td>in quello giorno essere impossibile passeggiare .</td>\n",
              "      <td>giorno essere impossibile passeggiare</td>\n",
              "      <td>5</td>\n",
              "      <td>5</td>\n",
              "      <td>0</td>\n",
              "    </tr>\n",
              "    <tr>\n",
              "      <th>1</th>\n",
              "      <td>il mattina avere errare per uno ora nel bosche...</td>\n",
              "      <td>mattina avere errare ora boschetto spogliare f...</td>\n",
              "      <td>0</td>\n",
              "      <td>9</td>\n",
              "      <td>7</td>\n",
              "    </tr>\n",
              "  </tbody>\n",
              "</table>\n",
              "</div>"
            ],
            "text/plain": [
              "                                                text  ... AVG-W2V Clus Label\n",
              "0  in quello giorno essere impossibile passeggiare .  ...                  0\n",
              "1  il mattina avere errare per uno ora nel bosche...  ...                  7\n",
              "\n",
              "[2 rows x 5 columns]"
            ]
          },
          "metadata": {},
          "execution_count": 68
        }
      ]
    },
    {
      "cell_type": "code",
      "metadata": {
        "colab": {
          "base_uri": "https://localhost:8080/"
        },
        "id": "DWSYpjqE-iha",
        "outputId": "ae90051f-4eb9-43d9-b3a0-e914ff2884d0"
      },
      "source": [
        "# How many points belong to each cluster\n",
        "dfa.groupby(['AVG-W2V Clus Label'])['Lemmi'].count()"
      ],
      "execution_count": 69,
      "outputs": [
        {
          "output_type": "execute_result",
          "data": {
            "text/plain": [
              "AVG-W2V Clus Label\n",
              "0    4725\n",
              "1     419\n",
              "2    2560\n",
              "3     151\n",
              "4    2101\n",
              "5    2204\n",
              "6     745\n",
              "7    4644\n",
              "8    1712\n",
              "9     541\n",
              "Name: Lemmi, dtype: int64"
            ]
          },
          "metadata": {},
          "execution_count": 69
        }
      ]
    },
    {
      "cell_type": "code",
      "metadata": {
        "colab": {
          "base_uri": "https://localhost:8080/"
        },
        "id": "vh40VJmf-e2V",
        "outputId": "943b5849-7825-44dc-a919-ccafcfa4adcd"
      },
      "source": [
        "# Reading a sentence which belong to each group.\n",
        "for i in range(10):\n",
        "    print(\"A sentence of assigned to cluster \", i)\n",
        "    print(\"-\" * 70)\n",
        "    print(dfa.iloc[dfa.groupby(['AVG-W2V Clus Label']).groups[i][0]]['Lemmi'])\n",
        "    print('\\n')\n",
        "    print(dfa.iloc[dfa.groupby(['AVG-W2V Clus Label']).groups[i][1]]['Lemmi'])\n",
        "    print('\\n')\n",
        "    print(\"_\" * 70)"
      ],
      "execution_count": 70,
      "outputs": [
        {
          "output_type": "stream",
          "name": "stdout",
          "text": [
            "A sentence of assigned to cluster  0\n",
            "----------------------------------------------------------------------\n",
            "giorno essere impossibile passeggiare\n",
            "\n",
            "\n",
            "essere contento\n",
            "\n",
            "\n",
            "______________________________________________________________________\n",
            "A sentence of assigned to cluster  1\n",
            "----------------------------------------------------------------------\n",
            "leggevo\n",
            "\n",
            "\n",
            "\n",
            "\n",
            "\n",
            "______________________________________________________________________\n",
            "A sentence of assigned to cluster  2\n",
            "----------------------------------------------------------------------\n",
            "domandai\n",
            "\n",
            "\n",
            "larghe piega cortina scarlatta nascondere ciò essere destra sinistra invetriata proteggere separare triste giornata novembre\n",
            "\n",
            "\n",
            "______________________________________________________________________\n",
            "A sentence of assigned to cluster  3\n",
            "----------------------------------------------------------------------\n",
            "addio signore\n",
            "\n",
            "\n",
            "sì signore\n",
            "\n",
            "\n",
            "______________________________________________________________________\n",
            "A sentence of assigned to cluster  4\n",
            "----------------------------------------------------------------------\n",
            "cosa avere dire bessie nuovo conto\n",
            "\n",
            "\n",
            "sedetevi qualche posto stare buono fino quando sapere parlare ragionevolmente\n",
            "\n",
            "\n",
            "______________________________________________________________________\n",
            "A sentence of assigned to cluster  5\n",
            "----------------------------------------------------------------------\n",
            "tornavo allora libro essere storia uccello inghilterra scrivere berwich\n",
            "\n",
            "\n",
            "così avere borwick ginocchio essere felice felice modo\n",
            "\n",
            "\n",
            "______________________________________________________________________\n",
            "A sentence of assigned to cluster  6\n",
            "----------------------------------------------------------------------\n",
            "cosa volere\n",
            "\n",
            "\n",
            "dite cosa volere signore reed\n",
            "\n",
            "\n",
            "______________________________________________________________________\n",
            "A sentence of assigned to cluster  7\n",
            "----------------------------------------------------------------------\n",
            "mattina avere errare ora boschetto spogliare foglia dopo pranzo quando essere invitare signora reed desinare presto vento gelato inverno avere portare seco nubi così scure pioggia così penetrare potere pensare nessun escursione\n",
            "\n",
            "\n",
            "ella avere proibire unirmi gruppo dire deplorare necessità trovavasi tenere così lontano fino momento bessie guarentirebbe studiare acquistare carattere molto socievole molto infantile maniera molto cortese qualcosa molto radioso molto aperto molto sincero potere concedere stesso privilegio bambino allegro soddisfatto\n",
            "\n",
            "\n",
            "______________________________________________________________________\n",
            "A sentence of assigned to cluster  8\n",
            "----------------------------------------------------------------------\n",
            "jane piacere essere interrogare\n",
            "\n",
            "\n",
            "oh\n",
            "\n",
            "\n",
            "______________________________________________________________________\n",
            "A sentence of assigned to cluster  9\n",
            "----------------------------------------------------------------------\n",
            "sfogliai sollecitamente figura rappresentare mortale nemico inchiodare fardello schiena ladro essere me soggetto terrore creatura corno sedere scoglio spiare lontano turba circondare forca\n",
            "\n",
            "\n",
            "domandai timidezza rispettoso\n",
            "\n",
            "\n",
            "______________________________________________________________________\n"
          ]
        }
      ]
    },
    {
      "cell_type": "markdown",
      "metadata": {
        "id": "eaaAjiwT-vxY"
      },
      "source": [
        "Clustering DBSCAN"
      ]
    },
    {
      "cell_type": "code",
      "metadata": {
        "id": "-lMoxrlh53yr"
      },
      "source": [
        "from sklearn.cluster import DBSCAN\n",
        "# Computing 200th Nearest neighbour distance\n",
        "minPts = 2 * 100\n",
        "\n",
        "def lower_bound(nums, target): # This function return the number in the array just greater than or equal to itself.\n",
        "    l, r = 0, len(nums) - 1\n",
        "    while l <= r: # Binary searching.\n",
        "        mid = int(l + (r - l) / 2)\n",
        "        if nums[mid] >= target:\n",
        "            r = mid - 1\n",
        "        else:\n",
        "            l = mid + 1\n",
        "    return l\n",
        "\n",
        "def compute200thnearestneighbour(x, data): # Returns the distance of 200th nearest neighbour.\n",
        "    dists = []\n",
        "    for val in data:\n",
        "        dist = np.sum((x - val) **2 ) # computing distances.\n",
        "        if(len(dists) == 200 and dists[199] > dist): # If distance is larger than current largest distance found.\n",
        "            l = int(lower_bound(dists, dist)) # Using the lower bound function to get the right position.\n",
        "            if l < 200 and l >= 0 and dists[l] > dist:\n",
        "                dists[l] = dist\n",
        "        else:\n",
        "            dists.append(dist)\n",
        "            dists.sort()\n",
        "    \n",
        "    return dists[199] # Dist 199 contains the distance of 200th nearest neighbour."
      ],
      "execution_count": 71,
      "outputs": []
    },
    {
      "cell_type": "code",
      "metadata": {
        "id": "7PKi872E9bLS"
      },
      "source": [
        "# Computing the 200th nearest neighbour distance of some point the dataset:\n",
        "twohundrethneigh = []\n",
        "for val in sent_vectors[:1500]:\n",
        "    twohundrethneigh.append( compute200thnearestneighbour(val, sent_vectors[:1500]) )\n",
        "twohundrethneigh.sort()"
      ],
      "execution_count": 72,
      "outputs": []
    },
    {
      "cell_type": "code",
      "metadata": {
        "colab": {
          "base_uri": "https://localhost:8080/",
          "height": 295
        },
        "id": "oSO0llhv-1Wb",
        "outputId": "3e9c2047-e9fe-4729-c1e6-04a98ebcb8d9"
      },
      "source": [
        "# Plotting for the Elbow Method :\n",
        "plt.figure(figsize=(14,4))\n",
        "plt.title(\"Elbow Method for Finding the right Eps hyperparameter\")\n",
        "plt.plot([x for x in range(len(twohundrethneigh))], twohundrethneigh)\n",
        "plt.xlabel(\"Number of points\")\n",
        "plt.ylabel(\"Distance of 200th Nearest Neighbour\")\n",
        "plt.show()"
      ],
      "execution_count": 73,
      "outputs": [
        {
          "output_type": "display_data",
          "data": {
            "image/png": "[encoded data removed]",
            "text/plain": [
              "<Figure size 1008x288 with 1 Axes>"
            ]
          },
          "metadata": {
            "needs_background": "light"
          }
        }
      ]
    },
    {
      "cell_type": "code",
      "metadata": {
        "colab": {
          "base_uri": "https://localhost:8080/"
        },
        "id": "k-Sn7QhU9a7l",
        "outputId": "f4c28b38-2c5d-46ec-f3f2-cf9ed6068ddb"
      },
      "source": [
        "# Training DBSCAN :\n",
        "model = DBSCAN(eps = 1, min_samples = minPts, n_jobs=-1)\n",
        "model.fit(sent_vectors)"
      ],
      "execution_count": 74,
      "outputs": [
        {
          "output_type": "execute_result",
          "data": {
            "text/plain": [
              "DBSCAN(algorithm='auto', eps=1, leaf_size=30, metric='euclidean',\n",
              "       metric_params=None, min_samples=200, n_jobs=-1, p=None)"
            ]
          },
          "metadata": {},
          "execution_count": 74
        }
      ]
    },
    {
      "cell_type": "code",
      "metadata": {
        "colab": {
          "base_uri": "https://localhost:8080/",
          "height": 109
        },
        "id": "VQ4WJhN1_ft2",
        "outputId": "256bdb63-ec7b-41ab-cce3-01eb194face4"
      },
      "source": [
        "dfdb = dfa\n",
        "dfdb['AVG-W2V Clus Label'] = model.labels_\n",
        "dfdb.head(2)"
      ],
      "execution_count": 75,
      "outputs": [
        {
          "output_type": "execute_result",
          "data": {
            "text/html": [
              "<div>\n",
              "<style scoped>\n",
              "    .dataframe tbody tr th:only-of-type {\n",
              "        vertical-align: middle;\n",
              "    }\n",
              "\n",
              "    .dataframe tbody tr th {\n",
              "        vertical-align: top;\n",
              "    }\n",
              "\n",
              "    .dataframe thead th {\n",
              "        text-align: right;\n",
              "    }\n",
              "</style>\n",
              "<table border=\"1\" class=\"dataframe\">\n",
              "  <thead>\n",
              "    <tr style=\"text-align: right;\">\n",
              "      <th></th>\n",
              "      <th>text</th>\n",
              "      <th>Lemmi</th>\n",
              "      <th>Bow Clus Label</th>\n",
              "      <th>Tfidf Clus Label</th>\n",
              "      <th>AVG-W2V Clus Label</th>\n",
              "    </tr>\n",
              "  </thead>\n",
              "  <tbody>\n",
              "    <tr>\n",
              "      <th>0</th>\n",
              "      <td>in quello giorno essere impossibile passeggiare .</td>\n",
              "      <td>giorno essere impossibile passeggiare</td>\n",
              "      <td>5</td>\n",
              "      <td>5</td>\n",
              "      <td>0</td>\n",
              "    </tr>\n",
              "    <tr>\n",
              "      <th>1</th>\n",
              "      <td>il mattina avere errare per uno ora nel bosche...</td>\n",
              "      <td>mattina avere errare ora boschetto spogliare f...</td>\n",
              "      <td>0</td>\n",
              "      <td>9</td>\n",
              "      <td>0</td>\n",
              "    </tr>\n",
              "  </tbody>\n",
              "</table>\n",
              "</div>"
            ],
            "text/plain": [
              "                                                text  ... AVG-W2V Clus Label\n",
              "0  in quello giorno essere impossibile passeggiare .  ...                  0\n",
              "1  il mattina avere errare per uno ora nel bosche...  ...                  0\n",
              "\n",
              "[2 rows x 5 columns]"
            ]
          },
          "metadata": {},
          "execution_count": 75
        }
      ]
    },
    {
      "cell_type": "code",
      "metadata": {
        "colab": {
          "base_uri": "https://localhost:8080/",
          "height": 140
        },
        "id": "8yqt3b9l_inq",
        "outputId": "ded6c6fc-4e69-4276-f07a-266f2d72dc6e"
      },
      "source": [
        "dfdb.groupby(['AVG-W2V Clus Label'][0]).count()"
      ],
      "execution_count": 76,
      "outputs": [
        {
          "output_type": "execute_result",
          "data": {
            "text/html": [
              "<div>\n",
              "<style scoped>\n",
              "    .dataframe tbody tr th:only-of-type {\n",
              "        vertical-align: middle;\n",
              "    }\n",
              "\n",
              "    .dataframe tbody tr th {\n",
              "        vertical-align: top;\n",
              "    }\n",
              "\n",
              "    .dataframe thead th {\n",
              "        text-align: right;\n",
              "    }\n",
              "</style>\n",
              "<table border=\"1\" class=\"dataframe\">\n",
              "  <thead>\n",
              "    <tr style=\"text-align: right;\">\n",
              "      <th></th>\n",
              "      <th>text</th>\n",
              "      <th>Lemmi</th>\n",
              "      <th>Bow Clus Label</th>\n",
              "      <th>Tfidf Clus Label</th>\n",
              "    </tr>\n",
              "    <tr>\n",
              "      <th>AVG-W2V Clus Label</th>\n",
              "      <th></th>\n",
              "      <th></th>\n",
              "      <th></th>\n",
              "      <th></th>\n",
              "    </tr>\n",
              "  </thead>\n",
              "  <tbody>\n",
              "    <tr>\n",
              "      <th>-1</th>\n",
              "      <td>20</td>\n",
              "      <td>20</td>\n",
              "      <td>20</td>\n",
              "      <td>20</td>\n",
              "    </tr>\n",
              "    <tr>\n",
              "      <th>0</th>\n",
              "      <td>19782</td>\n",
              "      <td>19782</td>\n",
              "      <td>19782</td>\n",
              "      <td>19782</td>\n",
              "    </tr>\n",
              "  </tbody>\n",
              "</table>\n",
              "</div>"
            ],
            "text/plain": [
              "                     text  Lemmi  Bow Clus Label  Tfidf Clus Label\n",
              "AVG-W2V Clus Label                                                \n",
              "-1                     20     20              20                20\n",
              " 0                  19782  19782           19782             19782"
            ]
          },
          "metadata": {},
          "execution_count": 76
        }
      ]
    },
    {
      "cell_type": "code",
      "metadata": {
        "colab": {
          "base_uri": "https://localhost:8080/",
          "height": 291
        },
        "id": "H0zjdqTO9anw",
        "outputId": "15e39223-6b25-469e-8355-50a1d51ec252"
      },
      "source": [
        "import scipy\n",
        "from scipy.cluster import hierarchy\n",
        "dendro=hierarchy.dendrogram(hierarchy.linkage(sent_vectors,method='ward'))\n",
        "plt.axhline(y=35)# cut at 30 to get 10 clustersc"
      ],
      "execution_count": 77,
      "outputs": [
        {
          "data": {
            "text/plain": [
              "<matplotlib.lines.Line2D at 0x7f6a42624790>"
            ]
          },
          "execution_count": null,
          "metadata": {},
          "output_type": "execute_result"
        },
        {
          "output_type": "display_data",
          "data": {
            "image/png": "[encoded data removed]",
            "text/plain": [
              "<Figure size 432x288 with 1 Axes>"
            ]
          },
          "metadata": {
            "needs_background": "light"
          }
        }
      ]
    },
    {
      "cell_type": "code",
      "metadata": {
        "id": "a-Sj7F5z_yBt"
      },
      "source": [
        "from sklearn.cluster import AgglomerativeClustering\n",
        "\n",
        "cluster = AgglomerativeClustering(n_clusters=10, affinity='euclidean', linkage='ward')   \n",
        "Agg=cluster.fit_predict(sent_vectors)"
      ],
      "execution_count": 78,
      "outputs": []
    },
    {
      "cell_type": "code",
      "metadata": {
        "id": "gVNCuqLMopq-"
      },
      "source": [
        "# Giving Labels/assigning a cluster to each point/text \n",
        "aggdfa = dfdb\n",
        "aggdfa['AVG-W2V Clus Label'] = cluster.labels_\n",
        "aggdfa.head(2)"
      ],
      "execution_count": null,
      "outputs": []
    },
    {
      "cell_type": "code",
      "metadata": {
        "colab": {
          "base_uri": "https://localhost:8080/"
        },
        "id": "eXPMvoK7opli",
        "outputId": "9660feac-2c10-489c-f7be-b6227c7e639d"
      },
      "source": [
        "# How many points belong to each cluster\n",
        "aggdfa.groupby(['AVG-W2V Clus Label'])['Lemmi'].count()"
      ],
      "execution_count": 80,
      "outputs": [
        {
          "output_type": "execute_result",
          "data": {
            "text/plain": [
              "AVG-W2V Clus Label\n",
              "0    3062\n",
              "1     802\n",
              "2     631\n",
              "3    2735\n",
              "4    1094\n",
              "5    3973\n",
              "6     110\n",
              "7    3959\n",
              "8    3054\n",
              "9     382\n",
              "Name: Lemmi, dtype: int64"
            ]
          },
          "metadata": {},
          "execution_count": 80
        }
      ]
    },
    {
      "cell_type": "code",
      "metadata": {
        "id": "Npib7K5P-upQ"
      },
      "source": [
        ""
      ],
      "execution_count": 80,
      "outputs": []
    },
    {
      "cell_type": "code",
      "metadata": {
        "colab": {
          "base_uri": "https://localhost:8080/"
        },
        "id": "iX-FQOzo_837",
        "outputId": "11c770ac-c603-446c-97bd-a9ce95afe45d"
      },
      "source": [
        "# Reading a sentence which belong to each group.\n",
        "for i in range(10):\n",
        "    print(\"2 sentences of assigned to cluster \", i)\n",
        "    print(\"-\" * 70) \n",
        "    print(aggdfa.iloc[aggdfa.groupby(['AVG-W2V Clus Label']).groups[i][0]]['Lemmi'])\n",
        "    print('\\n')\n",
        "    print(aggdfa.iloc[aggdfa.groupby(['AVG-W2V Clus Label']).groups[i][1]]['Lemmi'])\n",
        "    print('\\n')\n",
        "    print(\"_\" * 70)"
      ],
      "execution_count": 81,
      "outputs": [
        {
          "output_type": "stream",
          "name": "stdout",
          "text": [
            "2 sentences of assigned to cluster  0\n",
            "----------------------------------------------------------------------\n",
            "sedetevi qualche posto stare buono fino quando sapere parlare ragionevolmente\n",
            "\n",
            "\n",
            "tornavo allora libro essere storia uccello inghilterra scrivere berwich\n",
            "\n",
            "\n",
            "______________________________________________________________________\n",
            "2 sentences of assigned to cluster  1\n",
            "----------------------------------------------------------------------\n",
            "sfogliai sollecitamente figura rappresentare mortale nemico inchiodare fardello schiena ladro essere me soggetto terrore creatura corno sedere scoglio spiare lontano turba circondare forca\n",
            "\n",
            "\n",
            "domandai timidezza rispettoso\n",
            "\n",
            "\n",
            "______________________________________________________________________\n",
            "2 sentences of assigned to cluster  2\n",
            "----------------------------------------------------------------------\n",
            "dite cosa volere signore reed\n",
            "\n",
            "\n",
            "vidi signore lloyd sorridere aggrottare sopraccigliare\n",
            "\n",
            "\n",
            "______________________________________________________________________\n",
            "2 sentences of assigned to cluster  3\n",
            "----------------------------------------------------------------------\n",
            "jane piacere essere interrogare\n",
            "\n",
            "\n",
            "oh\n",
            "\n",
            "\n",
            "______________________________________________________________________\n",
            "2 sentences of assigned to cluster  4\n",
            "----------------------------------------------------------------------\n",
            "cosa avere dire bessie nuovo conto\n",
            "\n",
            "\n",
            "signora scontroso gridare john reed\n",
            "\n",
            "\n",
            "______________________________________________________________________\n",
            "2 sentences of assigned to cluster  5\n",
            "----------------------------------------------------------------------\n",
            "giorno essere impossibile passeggiare\n",
            "\n",
            "\n",
            "essere contento\n",
            "\n",
            "\n",
            "______________________________________________________________________\n",
            "2 sentences of assigned to cluster  6\n",
            "----------------------------------------------------------------------\n",
            "sì signore\n",
            "\n",
            "\n",
            "appartenere signore rochester\n",
            "\n",
            "\n",
            "______________________________________________________________________\n",
            "2 sentences of assigned to cluster  7\n",
            "----------------------------------------------------------------------\n",
            "mattina avere errare ora boschetto spogliare foglia dopo pranzo quando essere invitare signora reed desinare presto vento gelato inverno avere portare seco nubi così scure pioggia così penetrare potere pensare nessun escursione\n",
            "\n",
            "\n",
            "essere mai piacere lunghe passeggiate sopra freddo essere cosa penoso me tornar notte mano piede gelato cuore amareggiare sgridata bessie bambinaia spirito abbattere coscienza inferiorità fisico fronte eliza john georgiana reed\n",
            "\n",
            "\n",
            "______________________________________________________________________\n",
            "2 sentences of assigned to cluster  8\n",
            "----------------------------------------------------------------------\n",
            "domandai\n",
            "\n",
            "\n",
            "larghe piega cortina scarlatta nascondere ciò essere destra sinistra invetriata proteggere separare triste giornata novembre\n",
            "\n",
            "\n",
            "______________________________________________________________________\n",
            "2 sentences of assigned to cluster  9\n",
            "----------------------------------------------------------------------\n",
            "leggevo\n",
            "\n",
            "\n",
            "\n",
            "\n",
            "\n",
            "______________________________________________________________________\n"
          ]
        }
      ]
    },
    {
      "cell_type": "code",
      "metadata": {
        "id": "zhN8CYeaAD7h"
      },
      "source": [
        ""
      ],
      "execution_count": 81,
      "outputs": []
    }
  ]
}