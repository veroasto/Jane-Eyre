{
  "nbformat": 4,
  "nbformat_minor": 0,
  "metadata": {
    "colab": {
      "name": "05. Word_Embedding_Lemmi.ipynb",
      "provenance": []
    },
    "kernelspec": {
      "display_name": "Python 3",
      "name": "python3"
    },
    "language_info": {
      "name": "python"
    },
    "widgets": {
      "application/vnd.jupyter.widget-state+json": {
        "c6e1c3db2eb141ec8704efbe9cc43b41": {
          "model_module": "@jupyter-widgets/controls",
          "model_name": "HBoxModel",
          "model_module_version": "1.5.0",
          "state": {
            "_view_name": "HBoxView",
            "_dom_classes": [],
            "_model_name": "HBoxModel",
            "_view_module": "@jupyter-widgets/controls",
            "_model_module_version": "1.5.0",
            "_view_count": null,
            "_view_module_version": "1.5.0",
            "box_style": "",
            "layout": "IPY_MODEL_1f9d553fc76843449e491d70952ca458",
            "_model_module": "@jupyter-widgets/controls",
            "children": [
              "IPY_MODEL_4a27de5a77b9451e99932e8062fa996a",
              "IPY_MODEL_3fabf1e4b08f4b359e76bdab0be2f3a2",
              "IPY_MODEL_887e2ad0aeec48dfa04024cd59e3cde5"
            ]
          }
        },
        "1f9d553fc76843449e491d70952ca458": {
          "model_module": "@jupyter-widgets/base",
          "model_name": "LayoutModel",
          "model_module_version": "1.2.0",
          "state": {
            "_view_name": "LayoutView",
            "grid_template_rows": null,
            "right": null,
            "justify_content": null,
            "_view_module": "@jupyter-widgets/base",
            "overflow": null,
            "_model_module_version": "1.2.0",
            "_view_count": null,
            "flex_flow": null,
            "width": null,
            "min_width": null,
            "border": null,
            "align_items": null,
            "bottom": null,
            "_model_module": "@jupyter-widgets/base",
            "top": null,
            "grid_column": null,
            "overflow_y": null,
            "overflow_x": null,
            "grid_auto_flow": null,
            "grid_area": null,
            "grid_template_columns": null,
            "flex": null,
            "_model_name": "LayoutModel",
            "justify_items": null,
            "grid_row": null,
            "max_height": null,
            "align_content": null,
            "visibility": null,
            "align_self": null,
            "height": null,
            "min_height": null,
            "padding": null,
            "grid_auto_rows": null,
            "grid_gap": null,
            "max_width": null,
            "order": null,
            "_view_module_version": "1.2.0",
            "grid_template_areas": null,
            "object_position": null,
            "object_fit": null,
            "grid_auto_columns": null,
            "margin": null,
            "display": null,
            "left": null
          }
        },
        "4a27de5a77b9451e99932e8062fa996a": {
          "model_module": "@jupyter-widgets/controls",
          "model_name": "HTMLModel",
          "model_module_version": "1.5.0",
          "state": {
            "_view_name": "HTMLView",
            "style": "IPY_MODEL_2207660fd5aa4e28a06a5e2ec5bcec25",
            "_dom_classes": [],
            "description": "",
            "_model_name": "HTMLModel",
            "placeholder": "​",
            "_view_module": "@jupyter-widgets/controls",
            "_model_module_version": "1.5.0",
            "value": "",
            "_view_count": null,
            "_view_module_version": "1.5.0",
            "description_tooltip": null,
            "_model_module": "@jupyter-widgets/controls",
            "layout": "IPY_MODEL_8fe859e1ab1a4da08459626a93ec4de9"
          }
        },
        "3fabf1e4b08f4b359e76bdab0be2f3a2": {
          "model_module": "@jupyter-widgets/controls",
          "model_name": "FloatProgressModel",
          "model_module_version": "1.5.0",
          "state": {
            "_view_name": "ProgressView",
            "style": "IPY_MODEL_b84b9b3e71894c5bad2c665d99b594bb",
            "_dom_classes": [],
            "description": "",
            "_model_name": "FloatProgressModel",
            "bar_style": "success",
            "max": 1,
            "_view_module": "@jupyter-widgets/controls",
            "_model_module_version": "1.5.0",
            "value": 1,
            "_view_count": null,
            "_view_module_version": "1.5.0",
            "orientation": "horizontal",
            "min": 0,
            "description_tooltip": null,
            "_model_module": "@jupyter-widgets/controls",
            "layout": "IPY_MODEL_791f175384de4ce09a13f5c0f6675c18"
          }
        },
        "887e2ad0aeec48dfa04024cd59e3cde5": {
          "model_module": "@jupyter-widgets/controls",
          "model_name": "HTMLModel",
          "model_module_version": "1.5.0",
          "state": {
            "_view_name": "HTMLView",
            "style": "IPY_MODEL_b3d7eb293c5d4e9695bbfb115c42b00d",
            "_dom_classes": [],
            "description": "",
            "_model_name": "HTMLModel",
            "placeholder": "​",
            "_view_module": "@jupyter-widgets/controls",
            "_model_module_version": "1.5.0",
            "value": " 2/? [03:54&lt;00:00, 96.64s/it]",
            "_view_count": null,
            "_view_module_version": "1.5.0",
            "description_tooltip": null,
            "_model_module": "@jupyter-widgets/controls",
            "layout": "IPY_MODEL_24437512caef4b74b8e21a2a6eb5f93d"
          }
        },
        "2207660fd5aa4e28a06a5e2ec5bcec25": {
          "model_module": "@jupyter-widgets/controls",
          "model_name": "DescriptionStyleModel",
          "model_module_version": "1.5.0",
          "state": {
            "_view_name": "StyleView",
            "_model_name": "DescriptionStyleModel",
            "description_width": "",
            "_view_module": "@jupyter-widgets/base",
            "_model_module_version": "1.5.0",
            "_view_count": null,
            "_view_module_version": "1.2.0",
            "_model_module": "@jupyter-widgets/controls"
          }
        },
        "8fe859e1ab1a4da08459626a93ec4de9": {
          "model_module": "@jupyter-widgets/base",
          "model_name": "LayoutModel",
          "model_module_version": "1.2.0",
          "state": {
            "_view_name": "LayoutView",
            "grid_template_rows": null,
            "right": null,
            "justify_content": null,
            "_view_module": "@jupyter-widgets/base",
            "overflow": null,
            "_model_module_version": "1.2.0",
            "_view_count": null,
            "flex_flow": null,
            "width": null,
            "min_width": null,
            "border": null,
            "align_items": null,
            "bottom": null,
            "_model_module": "@jupyter-widgets/base",
            "top": null,
            "grid_column": null,
            "overflow_y": null,
            "overflow_x": null,
            "grid_auto_flow": null,
            "grid_area": null,
            "grid_template_columns": null,
            "flex": null,
            "_model_name": "LayoutModel",
            "justify_items": null,
            "grid_row": null,
            "max_height": null,
            "align_content": null,
            "visibility": null,
            "align_self": null,
            "height": null,
            "min_height": null,
            "padding": null,
            "grid_auto_rows": null,
            "grid_gap": null,
            "max_width": null,
            "order": null,
            "_view_module_version": "1.2.0",
            "grid_template_areas": null,
            "object_position": null,
            "object_fit": null,
            "grid_auto_columns": null,
            "margin": null,
            "display": null,
            "left": null
          }
        },
        "b84b9b3e71894c5bad2c665d99b594bb": {
          "model_module": "@jupyter-widgets/controls",
          "model_name": "ProgressStyleModel",
          "model_module_version": "1.5.0",
          "state": {
            "_view_name": "StyleView",
            "_model_name": "ProgressStyleModel",
            "description_width": "",
            "_view_module": "@jupyter-widgets/base",
            "_model_module_version": "1.5.0",
            "_view_count": null,
            "_view_module_version": "1.2.0",
            "bar_color": null,
            "_model_module": "@jupyter-widgets/controls"
          }
        },
        "791f175384de4ce09a13f5c0f6675c18": {
          "model_module": "@jupyter-widgets/base",
          "model_name": "LayoutModel",
          "model_module_version": "1.2.0",
          "state": {
            "_view_name": "LayoutView",
            "grid_template_rows": null,
            "right": null,
            "justify_content": null,
            "_view_module": "@jupyter-widgets/base",
            "overflow": null,
            "_model_module_version": "1.2.0",
            "_view_count": null,
            "flex_flow": null,
            "width": "20px",
            "min_width": null,
            "border": null,
            "align_items": null,
            "bottom": null,
            "_model_module": "@jupyter-widgets/base",
            "top": null,
            "grid_column": null,
            "overflow_y": null,
            "overflow_x": null,
            "grid_auto_flow": null,
            "grid_area": null,
            "grid_template_columns": null,
            "flex": null,
            "_model_name": "LayoutModel",
            "justify_items": null,
            "grid_row": null,
            "max_height": null,
            "align_content": null,
            "visibility": null,
            "align_self": null,
            "height": null,
            "min_height": null,
            "padding": null,
            "grid_auto_rows": null,
            "grid_gap": null,
            "max_width": null,
            "order": null,
            "_view_module_version": "1.2.0",
            "grid_template_areas": null,
            "object_position": null,
            "object_fit": null,
            "grid_auto_columns": null,
            "margin": null,
            "display": null,
            "left": null
          }
        },
        "b3d7eb293c5d4e9695bbfb115c42b00d": {
          "model_module": "@jupyter-widgets/controls",
          "model_name": "DescriptionStyleModel",
          "model_module_version": "1.5.0",
          "state": {
            "_view_name": "StyleView",
            "_model_name": "DescriptionStyleModel",
            "description_width": "",
            "_view_module": "@jupyter-widgets/base",
            "_model_module_version": "1.5.0",
            "_view_count": null,
            "_view_module_version": "1.2.0",
            "_model_module": "@jupyter-widgets/controls"
          }
        },
        "24437512caef4b74b8e21a2a6eb5f93d": {
          "model_module": "@jupyter-widgets/base",
          "model_name": "LayoutModel",
          "model_module_version": "1.2.0",
          "state": {
            "_view_name": "LayoutView",
            "grid_template_rows": null,
            "right": null,
            "justify_content": null,
            "_view_module": "@jupyter-widgets/base",
            "overflow": null,
            "_model_module_version": "1.2.0",
            "_view_count": null,
            "flex_flow": null,
            "width": null,
            "min_width": null,
            "border": null,
            "align_items": null,
            "bottom": null,
            "_model_module": "@jupyter-widgets/base",
            "top": null,
            "grid_column": null,
            "overflow_y": null,
            "overflow_x": null,
            "grid_auto_flow": null,
            "grid_area": null,
            "grid_template_columns": null,
            "flex": null,
            "_model_name": "LayoutModel",
            "justify_items": null,
            "grid_row": null,
            "max_height": null,
            "align_content": null,
            "visibility": null,
            "align_self": null,
            "height": null,
            "min_height": null,
            "padding": null,
            "grid_auto_rows": null,
            "grid_gap": null,
            "max_width": null,
            "order": null,
            "_view_module_version": "1.2.0",
            "grid_template_areas": null,
            "object_position": null,
            "object_fit": null,
            "grid_auto_columns": null,
            "margin": null,
            "display": null,
            "left": null
          }
        },
        "b015eabe61264d67a8da666faf1de6c4": {
          "model_module": "@jupyter-widgets/controls",
          "model_name": "HBoxModel",
          "model_module_version": "1.5.0",
          "state": {
            "_view_name": "HBoxView",
            "_dom_classes": [],
            "_model_name": "HBoxModel",
            "_view_module": "@jupyter-widgets/controls",
            "_model_module_version": "1.5.0",
            "_view_count": null,
            "_view_module_version": "1.5.0",
            "box_style": "",
            "layout": "IPY_MODEL_62ff8e7a4fa244558c7a75b47a695261",
            "_model_module": "@jupyter-widgets/controls",
            "children": [
              "IPY_MODEL_dc76c3a54eff432f8ca2c28961bac9df",
              "IPY_MODEL_d07227655de54feb85fc25c0f07ade11",
              "IPY_MODEL_b66253f763044c0a9aa6c0a19daf2958"
            ]
          }
        },
        "62ff8e7a4fa244558c7a75b47a695261": {
          "model_module": "@jupyter-widgets/base",
          "model_name": "LayoutModel",
          "model_module_version": "1.2.0",
          "state": {
            "_view_name": "LayoutView",
            "grid_template_rows": null,
            "right": null,
            "justify_content": null,
            "_view_module": "@jupyter-widgets/base",
            "overflow": null,
            "_model_module_version": "1.2.0",
            "_view_count": null,
            "flex_flow": null,
            "width": null,
            "min_width": null,
            "border": null,
            "align_items": null,
            "bottom": null,
            "_model_module": "@jupyter-widgets/base",
            "top": null,
            "grid_column": null,
            "overflow_y": null,
            "overflow_x": null,
            "grid_auto_flow": null,
            "grid_area": null,
            "grid_template_columns": null,
            "flex": null,
            "_model_name": "LayoutModel",
            "justify_items": null,
            "grid_row": null,
            "max_height": null,
            "align_content": null,
            "visibility": null,
            "align_self": null,
            "height": null,
            "min_height": null,
            "padding": null,
            "grid_auto_rows": null,
            "grid_gap": null,
            "max_width": null,
            "order": null,
            "_view_module_version": "1.2.0",
            "grid_template_areas": null,
            "object_position": null,
            "object_fit": null,
            "grid_auto_columns": null,
            "margin": null,
            "display": null,
            "left": null
          }
        },
        "dc76c3a54eff432f8ca2c28961bac9df": {
          "model_module": "@jupyter-widgets/controls",
          "model_name": "HTMLModel",
          "model_module_version": "1.5.0",
          "state": {
            "_view_name": "HTMLView",
            "style": "IPY_MODEL_d9b5cf3808854ddd8d135b659cb836c3",
            "_dom_classes": [],
            "description": "",
            "_model_name": "HTMLModel",
            "placeholder": "​",
            "_view_module": "@jupyter-widgets/controls",
            "_model_module_version": "1.5.0",
            "value": "100%",
            "_view_count": null,
            "_view_module_version": "1.5.0",
            "description_tooltip": null,
            "_model_module": "@jupyter-widgets/controls",
            "layout": "IPY_MODEL_2f5a9e3b215a4536b0691e840b336d19"
          }
        },
        "d07227655de54feb85fc25c0f07ade11": {
          "model_module": "@jupyter-widgets/controls",
          "model_name": "FloatProgressModel",
          "model_module_version": "1.5.0",
          "state": {
            "_view_name": "ProgressView",
            "style": "IPY_MODEL_b300fbf514814cc08f58e2a3cdcfbb91",
            "_dom_classes": [],
            "description": "",
            "_model_name": "FloatProgressModel",
            "bar_style": "success",
            "max": 2,
            "_view_module": "@jupyter-widgets/controls",
            "_model_module_version": "1.5.0",
            "value": 2,
            "_view_count": null,
            "_view_module_version": "1.5.0",
            "orientation": "horizontal",
            "min": 0,
            "description_tooltip": null,
            "_model_module": "@jupyter-widgets/controls",
            "layout": "IPY_MODEL_e1e7abe584c64e23b27212f181c5e500"
          }
        },
        "b66253f763044c0a9aa6c0a19daf2958": {
          "model_module": "@jupyter-widgets/controls",
          "model_name": "HTMLModel",
          "model_module_version": "1.5.0",
          "state": {
            "_view_name": "HTMLView",
            "style": "IPY_MODEL_f5774226b36641dda1e619e2b26af7c9",
            "_dom_classes": [],
            "description": "",
            "_model_name": "HTMLModel",
            "placeholder": "​",
            "_view_module": "@jupyter-widgets/controls",
            "_model_module_version": "1.5.0",
            "value": " 2/2 [00:00&lt;00:00,  7.36it/s]",
            "_view_count": null,
            "_view_module_version": "1.5.0",
            "description_tooltip": null,
            "_model_module": "@jupyter-widgets/controls",
            "layout": "IPY_MODEL_02a29addb1c44c54bb70666dfb0ecb6e"
          }
        },
        "d9b5cf3808854ddd8d135b659cb836c3": {
          "model_module": "@jupyter-widgets/controls",
          "model_name": "DescriptionStyleModel",
          "model_module_version": "1.5.0",
          "state": {
            "_view_name": "StyleView",
            "_model_name": "DescriptionStyleModel",
            "description_width": "",
            "_view_module": "@jupyter-widgets/base",
            "_model_module_version": "1.5.0",
            "_view_count": null,
            "_view_module_version": "1.2.0",
            "_model_module": "@jupyter-widgets/controls"
          }
        },
        "2f5a9e3b215a4536b0691e840b336d19": {
          "model_module": "@jupyter-widgets/base",
          "model_name": "LayoutModel",
          "model_module_version": "1.2.0",
          "state": {
            "_view_name": "LayoutView",
            "grid_template_rows": null,
            "right": null,
            "justify_content": null,
            "_view_module": "@jupyter-widgets/base",
            "overflow": null,
            "_model_module_version": "1.2.0",
            "_view_count": null,
            "flex_flow": null,
            "width": null,
            "min_width": null,
            "border": null,
            "align_items": null,
            "bottom": null,
            "_model_module": "@jupyter-widgets/base",
            "top": null,
            "grid_column": null,
            "overflow_y": null,
            "overflow_x": null,
            "grid_auto_flow": null,
            "grid_area": null,
            "grid_template_columns": null,
            "flex": null,
            "_model_name": "LayoutModel",
            "justify_items": null,
            "grid_row": null,
            "max_height": null,
            "align_content": null,
            "visibility": null,
            "align_self": null,
            "height": null,
            "min_height": null,
            "padding": null,
            "grid_auto_rows": null,
            "grid_gap": null,
            "max_width": null,
            "order": null,
            "_view_module_version": "1.2.0",
            "grid_template_areas": null,
            "object_position": null,
            "object_fit": null,
            "grid_auto_columns": null,
            "margin": null,
            "display": null,
            "left": null
          }
        },
        "b300fbf514814cc08f58e2a3cdcfbb91": {
          "model_module": "@jupyter-widgets/controls",
          "model_name": "ProgressStyleModel",
          "model_module_version": "1.5.0",
          "state": {
            "_view_name": "StyleView",
            "_model_name": "ProgressStyleModel",
            "description_width": "",
            "_view_module": "@jupyter-widgets/base",
            "_model_module_version": "1.5.0",
            "_view_count": null,
            "_view_module_version": "1.2.0",
            "bar_color": null,
            "_model_module": "@jupyter-widgets/controls"
          }
        },
        "e1e7abe584c64e23b27212f181c5e500": {
          "model_module": "@jupyter-widgets/base",
          "model_name": "LayoutModel",
          "model_module_version": "1.2.0",
          "state": {
            "_view_name": "LayoutView",
            "grid_template_rows": null,
            "right": null,
            "justify_content": null,
            "_view_module": "@jupyter-widgets/base",
            "overflow": null,
            "_model_module_version": "1.2.0",
            "_view_count": null,
            "flex_flow": null,
            "width": null,
            "min_width": null,
            "border": null,
            "align_items": null,
            "bottom": null,
            "_model_module": "@jupyter-widgets/base",
            "top": null,
            "grid_column": null,
            "overflow_y": null,
            "overflow_x": null,
            "grid_auto_flow": null,
            "grid_area": null,
            "grid_template_columns": null,
            "flex": null,
            "_model_name": "LayoutModel",
            "justify_items": null,
            "grid_row": null,
            "max_height": null,
            "align_content": null,
            "visibility": null,
            "align_self": null,
            "height": null,
            "min_height": null,
            "padding": null,
            "grid_auto_rows": null,
            "grid_gap": null,
            "max_width": null,
            "order": null,
            "_view_module_version": "1.2.0",
            "grid_template_areas": null,
            "object_position": null,
            "object_fit": null,
            "grid_auto_columns": null,
            "margin": null,
            "display": null,
            "left": null
          }
        },
        "f5774226b36641dda1e619e2b26af7c9": {
          "model_module": "@jupyter-widgets/controls",
          "model_name": "DescriptionStyleModel",
          "model_module_version": "1.5.0",
          "state": {
            "_view_name": "StyleView",
            "_model_name": "DescriptionStyleModel",
            "description_width": "",
            "_view_module": "@jupyter-widgets/base",
            "_model_module_version": "1.5.0",
            "_view_count": null,
            "_view_module_version": "1.2.0",
            "_model_module": "@jupyter-widgets/controls"
          }
        },
        "02a29addb1c44c54bb70666dfb0ecb6e": {
          "model_module": "@jupyter-widgets/base",
          "model_name": "LayoutModel",
          "model_module_version": "1.2.0",
          "state": {
            "_view_name": "LayoutView",
            "grid_template_rows": null,
            "right": null,
            "justify_content": null,
            "_view_module": "@jupyter-widgets/base",
            "overflow": null,
            "_model_module_version": "1.2.0",
            "_view_count": null,
            "flex_flow": null,
            "width": null,
            "min_width": null,
            "border": null,
            "align_items": null,
            "bottom": null,
            "_model_module": "@jupyter-widgets/base",
            "top": null,
            "grid_column": null,
            "overflow_y": null,
            "overflow_x": null,
            "grid_auto_flow": null,
            "grid_area": null,
            "grid_template_columns": null,
            "flex": null,
            "_model_name": "LayoutModel",
            "justify_items": null,
            "grid_row": null,
            "max_height": null,
            "align_content": null,
            "visibility": null,
            "align_self": null,
            "height": null,
            "min_height": null,
            "padding": null,
            "grid_auto_rows": null,
            "grid_gap": null,
            "max_width": null,
            "order": null,
            "_view_module_version": "1.2.0",
            "grid_template_areas": null,
            "object_position": null,
            "object_fit": null,
            "grid_auto_columns": null,
            "margin": null,
            "display": null,
            "left": null
          }
        },
        "e250a48a6c694cafb423d0953ae23419": {
          "model_module": "@jupyter-widgets/controls",
          "model_name": "HBoxModel",
          "model_module_version": "1.5.0",
          "state": {
            "_view_name": "HBoxView",
            "_dom_classes": [],
            "_model_name": "HBoxModel",
            "_view_module": "@jupyter-widgets/controls",
            "_model_module_version": "1.5.0",
            "_view_count": null,
            "_view_module_version": "1.5.0",
            "box_style": "",
            "layout": "IPY_MODEL_1393bae85ed84e8383e62130ce539bba",
            "_model_module": "@jupyter-widgets/controls",
            "children": [
              "IPY_MODEL_8b7ad518719345a2bb44761986530f3f",
              "IPY_MODEL_b354ee93ae7746a3be80c37424c4dad1",
              "IPY_MODEL_8db4d6ffdeac4028bfab8116bd155626"
            ]
          }
        },
        "1393bae85ed84e8383e62130ce539bba": {
          "model_module": "@jupyter-widgets/base",
          "model_name": "LayoutModel",
          "model_module_version": "1.2.0",
          "state": {
            "_view_name": "LayoutView",
            "grid_template_rows": null,
            "right": null,
            "justify_content": null,
            "_view_module": "@jupyter-widgets/base",
            "overflow": null,
            "_model_module_version": "1.2.0",
            "_view_count": null,
            "flex_flow": null,
            "width": null,
            "min_width": null,
            "border": null,
            "align_items": null,
            "bottom": null,
            "_model_module": "@jupyter-widgets/base",
            "top": null,
            "grid_column": null,
            "overflow_y": null,
            "overflow_x": null,
            "grid_auto_flow": null,
            "grid_area": null,
            "grid_template_columns": null,
            "flex": null,
            "_model_name": "LayoutModel",
            "justify_items": null,
            "grid_row": null,
            "max_height": null,
            "align_content": null,
            "visibility": null,
            "align_self": null,
            "height": null,
            "min_height": null,
            "padding": null,
            "grid_auto_rows": null,
            "grid_gap": null,
            "max_width": null,
            "order": null,
            "_view_module_version": "1.2.0",
            "grid_template_areas": null,
            "object_position": null,
            "object_fit": null,
            "grid_auto_columns": null,
            "margin": null,
            "display": null,
            "left": null
          }
        },
        "8b7ad518719345a2bb44761986530f3f": {
          "model_module": "@jupyter-widgets/controls",
          "model_name": "HTMLModel",
          "model_module_version": "1.5.0",
          "state": {
            "_view_name": "HTMLView",
            "style": "IPY_MODEL_87d73b42fff9468c8ded48e949219507",
            "_dom_classes": [],
            "description": "",
            "_model_name": "HTMLModel",
            "placeholder": "​",
            "_view_module": "@jupyter-widgets/controls",
            "_model_module_version": "1.5.0",
            "value": "100%",
            "_view_count": null,
            "_view_module_version": "1.5.0",
            "description_tooltip": null,
            "_model_module": "@jupyter-widgets/controls",
            "layout": "IPY_MODEL_105748d0874a463881cdd7a3bc025d4b"
          }
        },
        "b354ee93ae7746a3be80c37424c4dad1": {
          "model_module": "@jupyter-widgets/controls",
          "model_name": "FloatProgressModel",
          "model_module_version": "1.5.0",
          "state": {
            "_view_name": "ProgressView",
            "style": "IPY_MODEL_8817ddf7b1134be2be3f9e895f931688",
            "_dom_classes": [],
            "description": "",
            "_model_name": "FloatProgressModel",
            "bar_style": "success",
            "max": 2,
            "_view_module": "@jupyter-widgets/controls",
            "_model_module_version": "1.5.0",
            "value": 2,
            "_view_count": null,
            "_view_module_version": "1.5.0",
            "orientation": "horizontal",
            "min": 0,
            "description_tooltip": null,
            "_model_module": "@jupyter-widgets/controls",
            "layout": "IPY_MODEL_1bf85bb73d3f4dffaf4aa043f1db6b90"
          }
        },
        "8db4d6ffdeac4028bfab8116bd155626": {
          "model_module": "@jupyter-widgets/controls",
          "model_name": "HTMLModel",
          "model_module_version": "1.5.0",
          "state": {
            "_view_name": "HTMLView",
            "style": "IPY_MODEL_27d72c37d0b2451588e04ed8b11354b6",
            "_dom_classes": [],
            "description": "",
            "_model_name": "HTMLModel",
            "placeholder": "​",
            "_view_module": "@jupyter-widgets/controls",
            "_model_module_version": "1.5.0",
            "value": " 2/2 [00:00&lt;00:00,  8.41it/s]",
            "_view_count": null,
            "_view_module_version": "1.5.0",
            "description_tooltip": null,
            "_model_module": "@jupyter-widgets/controls",
            "layout": "IPY_MODEL_9437e86b0846415682892b30c184a231"
          }
        },
        "87d73b42fff9468c8ded48e949219507": {
          "model_module": "@jupyter-widgets/controls",
          "model_name": "DescriptionStyleModel",
          "model_module_version": "1.5.0",
          "state": {
            "_view_name": "StyleView",
            "_model_name": "DescriptionStyleModel",
            "description_width": "",
            "_view_module": "@jupyter-widgets/base",
            "_model_module_version": "1.5.0",
            "_view_count": null,
            "_view_module_version": "1.2.0",
            "_model_module": "@jupyter-widgets/controls"
          }
        },
        "105748d0874a463881cdd7a3bc025d4b": {
          "model_module": "@jupyter-widgets/base",
          "model_name": "LayoutModel",
          "model_module_version": "1.2.0",
          "state": {
            "_view_name": "LayoutView",
            "grid_template_rows": null,
            "right": null,
            "justify_content": null,
            "_view_module": "@jupyter-widgets/base",
            "overflow": null,
            "_model_module_version": "1.2.0",
            "_view_count": null,
            "flex_flow": null,
            "width": null,
            "min_width": null,
            "border": null,
            "align_items": null,
            "bottom": null,
            "_model_module": "@jupyter-widgets/base",
            "top": null,
            "grid_column": null,
            "overflow_y": null,
            "overflow_x": null,
            "grid_auto_flow": null,
            "grid_area": null,
            "grid_template_columns": null,
            "flex": null,
            "_model_name": "LayoutModel",
            "justify_items": null,
            "grid_row": null,
            "max_height": null,
            "align_content": null,
            "visibility": null,
            "align_self": null,
            "height": null,
            "min_height": null,
            "padding": null,
            "grid_auto_rows": null,
            "grid_gap": null,
            "max_width": null,
            "order": null,
            "_view_module_version": "1.2.0",
            "grid_template_areas": null,
            "object_position": null,
            "object_fit": null,
            "grid_auto_columns": null,
            "margin": null,
            "display": null,
            "left": null
          }
        },
        "8817ddf7b1134be2be3f9e895f931688": {
          "model_module": "@jupyter-widgets/controls",
          "model_name": "ProgressStyleModel",
          "model_module_version": "1.5.0",
          "state": {
            "_view_name": "StyleView",
            "_model_name": "ProgressStyleModel",
            "description_width": "",
            "_view_module": "@jupyter-widgets/base",
            "_model_module_version": "1.5.0",
            "_view_count": null,
            "_view_module_version": "1.2.0",
            "bar_color": null,
            "_model_module": "@jupyter-widgets/controls"
          }
        },
        "1bf85bb73d3f4dffaf4aa043f1db6b90": {
          "model_module": "@jupyter-widgets/base",
          "model_name": "LayoutModel",
          "model_module_version": "1.2.0",
          "state": {
            "_view_name": "LayoutView",
            "grid_template_rows": null,
            "right": null,
            "justify_content": null,
            "_view_module": "@jupyter-widgets/base",
            "overflow": null,
            "_model_module_version": "1.2.0",
            "_view_count": null,
            "flex_flow": null,
            "width": null,
            "min_width": null,
            "border": null,
            "align_items": null,
            "bottom": null,
            "_model_module": "@jupyter-widgets/base",
            "top": null,
            "grid_column": null,
            "overflow_y": null,
            "overflow_x": null,
            "grid_auto_flow": null,
            "grid_area": null,
            "grid_template_columns": null,
            "flex": null,
            "_model_name": "LayoutModel",
            "justify_items": null,
            "grid_row": null,
            "max_height": null,
            "align_content": null,
            "visibility": null,
            "align_self": null,
            "height": null,
            "min_height": null,
            "padding": null,
            "grid_auto_rows": null,
            "grid_gap": null,
            "max_width": null,
            "order": null,
            "_view_module_version": "1.2.0",
            "grid_template_areas": null,
            "object_position": null,
            "object_fit": null,
            "grid_auto_columns": null,
            "margin": null,
            "display": null,
            "left": null
          }
        },
        "27d72c37d0b2451588e04ed8b11354b6": {
          "model_module": "@jupyter-widgets/controls",
          "model_name": "DescriptionStyleModel",
          "model_module_version": "1.5.0",
          "state": {
            "_view_name": "StyleView",
            "_model_name": "DescriptionStyleModel",
            "description_width": "",
            "_view_module": "@jupyter-widgets/base",
            "_model_module_version": "1.5.0",
            "_view_count": null,
            "_view_module_version": "1.2.0",
            "_model_module": "@jupyter-widgets/controls"
          }
        },
        "9437e86b0846415682892b30c184a231": {
          "model_module": "@jupyter-widgets/base",
          "model_name": "LayoutModel",
          "model_module_version": "1.2.0",
          "state": {
            "_view_name": "LayoutView",
            "grid_template_rows": null,
            "right": null,
            "justify_content": null,
            "_view_module": "@jupyter-widgets/base",
            "overflow": null,
            "_model_module_version": "1.2.0",
            "_view_count": null,
            "flex_flow": null,
            "width": null,
            "min_width": null,
            "border": null,
            "align_items": null,
            "bottom": null,
            "_model_module": "@jupyter-widgets/base",
            "top": null,
            "grid_column": null,
            "overflow_y": null,
            "overflow_x": null,
            "grid_auto_flow": null,
            "grid_area": null,
            "grid_template_columns": null,
            "flex": null,
            "_model_name": "LayoutModel",
            "justify_items": null,
            "grid_row": null,
            "max_height": null,
            "align_content": null,
            "visibility": null,
            "align_self": null,
            "height": null,
            "min_height": null,
            "padding": null,
            "grid_auto_rows": null,
            "grid_gap": null,
            "max_width": null,
            "order": null,
            "_view_module_version": "1.2.0",
            "grid_template_areas": null,
            "object_position": null,
            "object_fit": null,
            "grid_auto_columns": null,
            "margin": null,
            "display": null,
            "left": null
          }
        }
      }
    }
  },
  "cells": [
    {
      "cell_type": "code",
      "metadata": {
        "colab": {
          "base_uri": "https://localhost:8080/"
        },
        "id": "pU4vVkijSx98",
        "outputId": "51ed0b52-92a9-4171-de77-71406a7a83d4"
      },
      "source": [
        "!pip install spacy --user\n",
        "!python3 -m spacy download it_core_news_sm\n",
        "!pip3 install -U spacy\n",
        "!pip3 install spacy\n",
        "!python -m spacy download it_core_news_sm"
      ],
      "execution_count": 1,
      "outputs": [
        {
          "output_type": "stream",
          "name": "stdout",
          "text": [
            "Requirement already satisfied: spacy in /usr/local/lib/python3.7/dist-packages (3.1.3)\n",
            "Requirement already satisfied: thinc<8.1.0,>=8.0.9 in /usr/local/lib/python3.7/dist-packages (from spacy) (8.0.11)\n",
            "Requirement already satisfied: jinja2 in /usr/local/lib/python3.7/dist-packages (from spacy) (2.11.3)\n",
            "Requirement already satisfied: numpy>=1.15.0 in /usr/local/lib/python3.7/dist-packages (from spacy) (1.19.5)\n",
            "Requirement already satisfied: wasabi<1.1.0,>=0.8.1 in /usr/local/lib/python3.7/dist-packages (from spacy) (0.8.2)\n",
            "Requirement already satisfied: murmurhash<1.1.0,>=0.28.0 in /usr/local/lib/python3.7/dist-packages (from spacy) (1.0.5)\n",
            "Requirement already satisfied: typer<0.5.0,>=0.3.0 in /usr/local/lib/python3.7/dist-packages (from spacy) (0.4.0)\n",
            "Requirement already satisfied: srsly<3.0.0,>=2.4.1 in /usr/local/lib/python3.7/dist-packages (from spacy) (2.4.2)\n",
            "Requirement already satisfied: blis<0.8.0,>=0.4.0 in /usr/local/lib/python3.7/dist-packages (from spacy) (0.4.1)\n",
            "Requirement already satisfied: preshed<3.1.0,>=3.0.2 in /usr/local/lib/python3.7/dist-packages (from spacy) (3.0.5)\n",
            "Requirement already satisfied: tqdm<5.0.0,>=4.38.0 in /usr/local/lib/python3.7/dist-packages (from spacy) (4.62.3)\n",
            "Requirement already satisfied: setuptools in /usr/local/lib/python3.7/dist-packages (from spacy) (57.4.0)\n",
            "Requirement already satisfied: spacy-legacy<3.1.0,>=3.0.8 in /usr/local/lib/python3.7/dist-packages (from spacy) (3.0.8)\n",
            "Requirement already satisfied: typing-extensions<4.0.0.0,>=3.7.4 in /usr/local/lib/python3.7/dist-packages (from spacy) (3.7.4.3)\n",
            "Requirement already satisfied: catalogue<2.1.0,>=2.0.6 in /usr/local/lib/python3.7/dist-packages (from spacy) (2.0.6)\n",
            "Requirement already satisfied: cymem<2.1.0,>=2.0.2 in /usr/local/lib/python3.7/dist-packages (from spacy) (2.0.5)\n",
            "Requirement already satisfied: pathy>=0.3.5 in /usr/local/lib/python3.7/dist-packages (from spacy) (0.6.1)\n",
            "Requirement already satisfied: requests<3.0.0,>=2.13.0 in /usr/local/lib/python3.7/dist-packages (from spacy) (2.23.0)\n",
            "Requirement already satisfied: pydantic!=1.8,!=1.8.1,<1.9.0,>=1.7.4 in /usr/local/lib/python3.7/dist-packages (from spacy) (1.8.2)\n",
            "Requirement already satisfied: packaging>=20.0 in /usr/local/lib/python3.7/dist-packages (from spacy) (21.0)\n",
            "Requirement already satisfied: zipp>=0.5 in /usr/local/lib/python3.7/dist-packages (from catalogue<2.1.0,>=2.0.6->spacy) (3.6.0)\n",
            "Requirement already satisfied: pyparsing>=2.0.2 in /usr/local/lib/python3.7/dist-packages (from packaging>=20.0->spacy) (2.4.7)\n",
            "Requirement already satisfied: smart-open<6.0.0,>=5.0.0 in /usr/local/lib/python3.7/dist-packages (from pathy>=0.3.5->spacy) (5.2.1)\n",
            "Requirement already satisfied: urllib3!=1.25.0,!=1.25.1,<1.26,>=1.21.1 in /usr/local/lib/python3.7/dist-packages (from requests<3.0.0,>=2.13.0->spacy) (1.25.11)\n",
            "Requirement already satisfied: idna<3,>=2.5 in /usr/local/lib/python3.7/dist-packages (from requests<3.0.0,>=2.13.0->spacy) (2.10)\n",
            "Requirement already satisfied: certifi>=2017.4.17 in /usr/local/lib/python3.7/dist-packages (from requests<3.0.0,>=2.13.0->spacy) (2021.5.30)\n",
            "Requirement already satisfied: chardet<4,>=3.0.2 in /usr/local/lib/python3.7/dist-packages (from requests<3.0.0,>=2.13.0->spacy) (3.0.4)\n",
            "Requirement already satisfied: click<9.0.0,>=7.1.1 in /usr/local/lib/python3.7/dist-packages (from typer<0.5.0,>=0.3.0->spacy) (7.1.2)\n",
            "Requirement already satisfied: MarkupSafe>=0.23 in /usr/local/lib/python3.7/dist-packages (from jinja2->spacy) (2.0.1)\n",
            "Collecting it-core-news-sm==3.1.0\n",
            "  Downloading https://github.com/explosion/spacy-models/releases/download/it_core_news_sm-3.1.0/it_core_news_sm-3.1.0-py3-none-any.whl (21.1 MB)\n",
            "\u001b[K     |████████████████████████████████| 21.1 MB 1.4 MB/s \n",
            "\u001b[?25hRequirement already satisfied: spacy<3.2.0,>=3.1.0 in /usr/local/lib/python3.7/dist-packages (from it-core-news-sm==3.1.0) (3.1.3)\n",
            "Requirement already satisfied: preshed<3.1.0,>=3.0.2 in /usr/local/lib/python3.7/dist-packages (from spacy<3.2.0,>=3.1.0->it-core-news-sm==3.1.0) (3.0.5)\n",
            "Requirement already satisfied: requests<3.0.0,>=2.13.0 in /usr/local/lib/python3.7/dist-packages (from spacy<3.2.0,>=3.1.0->it-core-news-sm==3.1.0) (2.23.0)\n",
            "Requirement already satisfied: catalogue<2.1.0,>=2.0.6 in /usr/local/lib/python3.7/dist-packages (from spacy<3.2.0,>=3.1.0->it-core-news-sm==3.1.0) (2.0.6)\n",
            "Requirement already satisfied: tqdm<5.0.0,>=4.38.0 in /usr/local/lib/python3.7/dist-packages (from spacy<3.2.0,>=3.1.0->it-core-news-sm==3.1.0) (4.62.3)\n",
            "Requirement already satisfied: numpy>=1.15.0 in /usr/local/lib/python3.7/dist-packages (from spacy<3.2.0,>=3.1.0->it-core-news-sm==3.1.0) (1.19.5)\n",
            "Requirement already satisfied: spacy-legacy<3.1.0,>=3.0.8 in /usr/local/lib/python3.7/dist-packages (from spacy<3.2.0,>=3.1.0->it-core-news-sm==3.1.0) (3.0.8)\n",
            "Requirement already satisfied: blis<0.8.0,>=0.4.0 in /usr/local/lib/python3.7/dist-packages (from spacy<3.2.0,>=3.1.0->it-core-news-sm==3.1.0) (0.4.1)\n",
            "Requirement already satisfied: thinc<8.1.0,>=8.0.9 in /usr/local/lib/python3.7/dist-packages (from spacy<3.2.0,>=3.1.0->it-core-news-sm==3.1.0) (8.0.11)\n",
            "Requirement already satisfied: pathy>=0.3.5 in /usr/local/lib/python3.7/dist-packages (from spacy<3.2.0,>=3.1.0->it-core-news-sm==3.1.0) (0.6.1)\n",
            "Requirement already satisfied: typer<0.5.0,>=0.3.0 in /usr/local/lib/python3.7/dist-packages (from spacy<3.2.0,>=3.1.0->it-core-news-sm==3.1.0) (0.4.0)\n",
            "Requirement already satisfied: cymem<2.1.0,>=2.0.2 in /usr/local/lib/python3.7/dist-packages (from spacy<3.2.0,>=3.1.0->it-core-news-sm==3.1.0) (2.0.5)\n",
            "Requirement already satisfied: setuptools in /usr/local/lib/python3.7/dist-packages (from spacy<3.2.0,>=3.1.0->it-core-news-sm==3.1.0) (57.4.0)\n",
            "Requirement already satisfied: murmurhash<1.1.0,>=0.28.0 in /usr/local/lib/python3.7/dist-packages (from spacy<3.2.0,>=3.1.0->it-core-news-sm==3.1.0) (1.0.5)\n",
            "Requirement already satisfied: wasabi<1.1.0,>=0.8.1 in /usr/local/lib/python3.7/dist-packages (from spacy<3.2.0,>=3.1.0->it-core-news-sm==3.1.0) (0.8.2)\n",
            "Requirement already satisfied: pydantic!=1.8,!=1.8.1,<1.9.0,>=1.7.4 in /usr/local/lib/python3.7/dist-packages (from spacy<3.2.0,>=3.1.0->it-core-news-sm==3.1.0) (1.8.2)\n",
            "Requirement already satisfied: packaging>=20.0 in /usr/local/lib/python3.7/dist-packages (from spacy<3.2.0,>=3.1.0->it-core-news-sm==3.1.0) (21.0)\n",
            "Requirement already satisfied: jinja2 in /usr/local/lib/python3.7/dist-packages (from spacy<3.2.0,>=3.1.0->it-core-news-sm==3.1.0) (2.11.3)\n",
            "Requirement already satisfied: srsly<3.0.0,>=2.4.1 in /usr/local/lib/python3.7/dist-packages (from spacy<3.2.0,>=3.1.0->it-core-news-sm==3.1.0) (2.4.2)\n",
            "Requirement already satisfied: typing-extensions<4.0.0.0,>=3.7.4 in /usr/local/lib/python3.7/dist-packages (from spacy<3.2.0,>=3.1.0->it-core-news-sm==3.1.0) (3.7.4.3)\n",
            "Requirement already satisfied: zipp>=0.5 in /usr/local/lib/python3.7/dist-packages (from catalogue<2.1.0,>=2.0.6->spacy<3.2.0,>=3.1.0->it-core-news-sm==3.1.0) (3.6.0)\n",
            "Requirement already satisfied: pyparsing>=2.0.2 in /usr/local/lib/python3.7/dist-packages (from packaging>=20.0->spacy<3.2.0,>=3.1.0->it-core-news-sm==3.1.0) (2.4.7)\n",
            "Requirement already satisfied: smart-open<6.0.0,>=5.0.0 in /usr/local/lib/python3.7/dist-packages (from pathy>=0.3.5->spacy<3.2.0,>=3.1.0->it-core-news-sm==3.1.0) (5.2.1)\n",
            "Requirement already satisfied: certifi>=2017.4.17 in /usr/local/lib/python3.7/dist-packages (from requests<3.0.0,>=2.13.0->spacy<3.2.0,>=3.1.0->it-core-news-sm==3.1.0) (2021.5.30)\n",
            "Requirement already satisfied: idna<3,>=2.5 in /usr/local/lib/python3.7/dist-packages (from requests<3.0.0,>=2.13.0->spacy<3.2.0,>=3.1.0->it-core-news-sm==3.1.0) (2.10)\n",
            "Requirement already satisfied: urllib3!=1.25.0,!=1.25.1,<1.26,>=1.21.1 in /usr/local/lib/python3.7/dist-packages (from requests<3.0.0,>=2.13.0->spacy<3.2.0,>=3.1.0->it-core-news-sm==3.1.0) (1.25.11)\n",
            "Requirement already satisfied: chardet<4,>=3.0.2 in /usr/local/lib/python3.7/dist-packages (from requests<3.0.0,>=2.13.0->spacy<3.2.0,>=3.1.0->it-core-news-sm==3.1.0) (3.0.4)\n",
            "Requirement already satisfied: click<9.0.0,>=7.1.1 in /usr/local/lib/python3.7/dist-packages (from typer<0.5.0,>=0.3.0->spacy<3.2.0,>=3.1.0->it-core-news-sm==3.1.0) (7.1.2)\n",
            "Requirement already satisfied: MarkupSafe>=0.23 in /usr/local/lib/python3.7/dist-packages (from jinja2->spacy<3.2.0,>=3.1.0->it-core-news-sm==3.1.0) (2.0.1)\n",
            "\u001b[38;5;2m✔ Download and installation successful\u001b[0m\n",
            "You can now load the package via spacy.load('it_core_news_sm')\n",
            "Requirement already satisfied: spacy in /usr/local/lib/python3.7/dist-packages (3.1.3)\n",
            "Requirement already satisfied: setuptools in /usr/local/lib/python3.7/dist-packages (from spacy) (57.4.0)\n",
            "Requirement already satisfied: murmurhash<1.1.0,>=0.28.0 in /usr/local/lib/python3.7/dist-packages (from spacy) (1.0.5)\n",
            "Requirement already satisfied: typer<0.5.0,>=0.3.0 in /usr/local/lib/python3.7/dist-packages (from spacy) (0.4.0)\n",
            "Requirement already satisfied: requests<3.0.0,>=2.13.0 in /usr/local/lib/python3.7/dist-packages (from spacy) (2.23.0)\n",
            "Requirement already satisfied: catalogue<2.1.0,>=2.0.6 in /usr/local/lib/python3.7/dist-packages (from spacy) (2.0.6)\n",
            "Requirement already satisfied: typing-extensions<4.0.0.0,>=3.7.4 in /usr/local/lib/python3.7/dist-packages (from spacy) (3.7.4.3)\n",
            "Requirement already satisfied: tqdm<5.0.0,>=4.38.0 in /usr/local/lib/python3.7/dist-packages (from spacy) (4.62.3)\n",
            "Requirement already satisfied: preshed<3.1.0,>=3.0.2 in /usr/local/lib/python3.7/dist-packages (from spacy) (3.0.5)\n",
            "Requirement already satisfied: spacy-legacy<3.1.0,>=3.0.8 in /usr/local/lib/python3.7/dist-packages (from spacy) (3.0.8)\n",
            "Requirement already satisfied: numpy>=1.15.0 in /usr/local/lib/python3.7/dist-packages (from spacy) (1.19.5)\n",
            "Requirement already satisfied: cymem<2.1.0,>=2.0.2 in /usr/local/lib/python3.7/dist-packages (from spacy) (2.0.5)\n",
            "Requirement already satisfied: blis<0.8.0,>=0.4.0 in /usr/local/lib/python3.7/dist-packages (from spacy) (0.4.1)\n",
            "Requirement already satisfied: thinc<8.1.0,>=8.0.9 in /usr/local/lib/python3.7/dist-packages (from spacy) (8.0.11)\n",
            "Requirement already satisfied: packaging>=20.0 in /usr/local/lib/python3.7/dist-packages (from spacy) (21.0)\n",
            "Requirement already satisfied: pydantic!=1.8,!=1.8.1,<1.9.0,>=1.7.4 in /usr/local/lib/python3.7/dist-packages (from spacy) (1.8.2)\n",
            "Requirement already satisfied: wasabi<1.1.0,>=0.8.1 in /usr/local/lib/python3.7/dist-packages (from spacy) (0.8.2)\n",
            "Requirement already satisfied: pathy>=0.3.5 in /usr/local/lib/python3.7/dist-packages (from spacy) (0.6.1)\n",
            "Requirement already satisfied: jinja2 in /usr/local/lib/python3.7/dist-packages (from spacy) (2.11.3)\n",
            "Requirement already satisfied: srsly<3.0.0,>=2.4.1 in /usr/local/lib/python3.7/dist-packages (from spacy) (2.4.2)\n",
            "Requirement already satisfied: zipp>=0.5 in /usr/local/lib/python3.7/dist-packages (from catalogue<2.1.0,>=2.0.6->spacy) (3.6.0)\n",
            "Requirement already satisfied: pyparsing>=2.0.2 in /usr/local/lib/python3.7/dist-packages (from packaging>=20.0->spacy) (2.4.7)\n",
            "Requirement already satisfied: smart-open<6.0.0,>=5.0.0 in /usr/local/lib/python3.7/dist-packages (from pathy>=0.3.5->spacy) (5.2.1)\n",
            "Requirement already satisfied: certifi>=2017.4.17 in /usr/local/lib/python3.7/dist-packages (from requests<3.0.0,>=2.13.0->spacy) (2021.5.30)\n",
            "Requirement already satisfied: urllib3!=1.25.0,!=1.25.1,<1.26,>=1.21.1 in /usr/local/lib/python3.7/dist-packages (from requests<3.0.0,>=2.13.0->spacy) (1.25.11)\n",
            "Requirement already satisfied: idna<3,>=2.5 in /usr/local/lib/python3.7/dist-packages (from requests<3.0.0,>=2.13.0->spacy) (2.10)\n",
            "Requirement already satisfied: chardet<4,>=3.0.2 in /usr/local/lib/python3.7/dist-packages (from requests<3.0.0,>=2.13.0->spacy) (3.0.4)\n",
            "Requirement already satisfied: click<9.0.0,>=7.1.1 in /usr/local/lib/python3.7/dist-packages (from typer<0.5.0,>=0.3.0->spacy) (7.1.2)\n",
            "Requirement already satisfied: MarkupSafe>=0.23 in /usr/local/lib/python3.7/dist-packages (from jinja2->spacy) (2.0.1)\n",
            "Requirement already satisfied: spacy in /usr/local/lib/python3.7/dist-packages (3.1.3)\n",
            "Requirement already satisfied: jinja2 in /usr/local/lib/python3.7/dist-packages (from spacy) (2.11.3)\n",
            "Requirement already satisfied: srsly<3.0.0,>=2.4.1 in /usr/local/lib/python3.7/dist-packages (from spacy) (2.4.2)\n",
            "Requirement already satisfied: pydantic!=1.8,!=1.8.1,<1.9.0,>=1.7.4 in /usr/local/lib/python3.7/dist-packages (from spacy) (1.8.2)\n",
            "Requirement already satisfied: numpy>=1.15.0 in /usr/local/lib/python3.7/dist-packages (from spacy) (1.19.5)\n",
            "Requirement already satisfied: setuptools in /usr/local/lib/python3.7/dist-packages (from spacy) (57.4.0)\n",
            "Requirement already satisfied: packaging>=20.0 in /usr/local/lib/python3.7/dist-packages (from spacy) (21.0)\n",
            "Requirement already satisfied: spacy-legacy<3.1.0,>=3.0.8 in /usr/local/lib/python3.7/dist-packages (from spacy) (3.0.8)\n",
            "Requirement already satisfied: tqdm<5.0.0,>=4.38.0 in /usr/local/lib/python3.7/dist-packages (from spacy) (4.62.3)\n",
            "Requirement already satisfied: wasabi<1.1.0,>=0.8.1 in /usr/local/lib/python3.7/dist-packages (from spacy) (0.8.2)\n",
            "Requirement already satisfied: cymem<2.1.0,>=2.0.2 in /usr/local/lib/python3.7/dist-packages (from spacy) (2.0.5)\n",
            "Requirement already satisfied: typer<0.5.0,>=0.3.0 in /usr/local/lib/python3.7/dist-packages (from spacy) (0.4.0)\n",
            "Requirement already satisfied: typing-extensions<4.0.0.0,>=3.7.4 in /usr/local/lib/python3.7/dist-packages (from spacy) (3.7.4.3)\n",
            "Requirement already satisfied: blis<0.8.0,>=0.4.0 in /usr/local/lib/python3.7/dist-packages (from spacy) (0.4.1)\n",
            "Requirement already satisfied: pathy>=0.3.5 in /usr/local/lib/python3.7/dist-packages (from spacy) (0.6.1)\n",
            "Requirement already satisfied: catalogue<2.1.0,>=2.0.6 in /usr/local/lib/python3.7/dist-packages (from spacy) (2.0.6)\n",
            "Requirement already satisfied: thinc<8.1.0,>=8.0.9 in /usr/local/lib/python3.7/dist-packages (from spacy) (8.0.11)\n",
            "Requirement already satisfied: preshed<3.1.0,>=3.0.2 in /usr/local/lib/python3.7/dist-packages (from spacy) (3.0.5)\n",
            "Requirement already satisfied: murmurhash<1.1.0,>=0.28.0 in /usr/local/lib/python3.7/dist-packages (from spacy) (1.0.5)\n",
            "Requirement already satisfied: requests<3.0.0,>=2.13.0 in /usr/local/lib/python3.7/dist-packages (from spacy) (2.23.0)\n",
            "Requirement already satisfied: zipp>=0.5 in /usr/local/lib/python3.7/dist-packages (from catalogue<2.1.0,>=2.0.6->spacy) (3.6.0)\n",
            "Requirement already satisfied: pyparsing>=2.0.2 in /usr/local/lib/python3.7/dist-packages (from packaging>=20.0->spacy) (2.4.7)\n",
            "Requirement already satisfied: smart-open<6.0.0,>=5.0.0 in /usr/local/lib/python3.7/dist-packages (from pathy>=0.3.5->spacy) (5.2.1)\n",
            "Requirement already satisfied: certifi>=2017.4.17 in /usr/local/lib/python3.7/dist-packages (from requests<3.0.0,>=2.13.0->spacy) (2021.5.30)\n",
            "Requirement already satisfied: chardet<4,>=3.0.2 in /usr/local/lib/python3.7/dist-packages (from requests<3.0.0,>=2.13.0->spacy) (3.0.4)\n",
            "Requirement already satisfied: urllib3!=1.25.0,!=1.25.1,<1.26,>=1.21.1 in /usr/local/lib/python3.7/dist-packages (from requests<3.0.0,>=2.13.0->spacy) (1.25.11)\n",
            "Requirement already satisfied: idna<3,>=2.5 in /usr/local/lib/python3.7/dist-packages (from requests<3.0.0,>=2.13.0->spacy) (2.10)\n",
            "Requirement already satisfied: click<9.0.0,>=7.1.1 in /usr/local/lib/python3.7/dist-packages (from typer<0.5.0,>=0.3.0->spacy) (7.1.2)\n",
            "Requirement already satisfied: MarkupSafe>=0.23 in /usr/local/lib/python3.7/dist-packages (from jinja2->spacy) (2.0.1)\n",
            "Collecting it-core-news-sm==3.1.0\n",
            "  Using cached https://github.com/explosion/spacy-models/releases/download/it_core_news_sm-3.1.0/it_core_news_sm-3.1.0-py3-none-any.whl (21.1 MB)\n",
            "Requirement already satisfied: spacy<3.2.0,>=3.1.0 in /usr/local/lib/python3.7/dist-packages (from it-core-news-sm==3.1.0) (3.1.3)\n",
            "Requirement already satisfied: srsly<3.0.0,>=2.4.1 in /usr/local/lib/python3.7/dist-packages (from spacy<3.2.0,>=3.1.0->it-core-news-sm==3.1.0) (2.4.2)\n",
            "Requirement already satisfied: typer<0.5.0,>=0.3.0 in /usr/local/lib/python3.7/dist-packages (from spacy<3.2.0,>=3.1.0->it-core-news-sm==3.1.0) (0.4.0)\n",
            "Requirement already satisfied: tqdm<5.0.0,>=4.38.0 in /usr/local/lib/python3.7/dist-packages (from spacy<3.2.0,>=3.1.0->it-core-news-sm==3.1.0) (4.62.3)\n",
            "Requirement already satisfied: wasabi<1.1.0,>=0.8.1 in /usr/local/lib/python3.7/dist-packages (from spacy<3.2.0,>=3.1.0->it-core-news-sm==3.1.0) (0.8.2)\n",
            "Requirement already satisfied: numpy>=1.15.0 in /usr/local/lib/python3.7/dist-packages (from spacy<3.2.0,>=3.1.0->it-core-news-sm==3.1.0) (1.19.5)\n",
            "Requirement already satisfied: jinja2 in /usr/local/lib/python3.7/dist-packages (from spacy<3.2.0,>=3.1.0->it-core-news-sm==3.1.0) (2.11.3)\n",
            "Requirement already satisfied: setuptools in /usr/local/lib/python3.7/dist-packages (from spacy<3.2.0,>=3.1.0->it-core-news-sm==3.1.0) (57.4.0)\n",
            "Requirement already satisfied: typing-extensions<4.0.0.0,>=3.7.4 in /usr/local/lib/python3.7/dist-packages (from spacy<3.2.0,>=3.1.0->it-core-news-sm==3.1.0) (3.7.4.3)\n",
            "Requirement already satisfied: preshed<3.1.0,>=3.0.2 in /usr/local/lib/python3.7/dist-packages (from spacy<3.2.0,>=3.1.0->it-core-news-sm==3.1.0) (3.0.5)\n",
            "Requirement already satisfied: pydantic!=1.8,!=1.8.1,<1.9.0,>=1.7.4 in /usr/local/lib/python3.7/dist-packages (from spacy<3.2.0,>=3.1.0->it-core-news-sm==3.1.0) (1.8.2)\n",
            "Requirement already satisfied: blis<0.8.0,>=0.4.0 in /usr/local/lib/python3.7/dist-packages (from spacy<3.2.0,>=3.1.0->it-core-news-sm==3.1.0) (0.4.1)\n",
            "Requirement already satisfied: requests<3.0.0,>=2.13.0 in /usr/local/lib/python3.7/dist-packages (from spacy<3.2.0,>=3.1.0->it-core-news-sm==3.1.0) (2.23.0)\n",
            "Requirement already satisfied: packaging>=20.0 in /usr/local/lib/python3.7/dist-packages (from spacy<3.2.0,>=3.1.0->it-core-news-sm==3.1.0) (21.0)\n",
            "Requirement already satisfied: spacy-legacy<3.1.0,>=3.0.8 in /usr/local/lib/python3.7/dist-packages (from spacy<3.2.0,>=3.1.0->it-core-news-sm==3.1.0) (3.0.8)\n",
            "Requirement already satisfied: thinc<8.1.0,>=8.0.9 in /usr/local/lib/python3.7/dist-packages (from spacy<3.2.0,>=3.1.0->it-core-news-sm==3.1.0) (8.0.11)\n",
            "Requirement already satisfied: catalogue<2.1.0,>=2.0.6 in /usr/local/lib/python3.7/dist-packages (from spacy<3.2.0,>=3.1.0->it-core-news-sm==3.1.0) (2.0.6)\n",
            "Requirement already satisfied: murmurhash<1.1.0,>=0.28.0 in /usr/local/lib/python3.7/dist-packages (from spacy<3.2.0,>=3.1.0->it-core-news-sm==3.1.0) (1.0.5)\n",
            "Requirement already satisfied: cymem<2.1.0,>=2.0.2 in /usr/local/lib/python3.7/dist-packages (from spacy<3.2.0,>=3.1.0->it-core-news-sm==3.1.0) (2.0.5)\n",
            "Requirement already satisfied: pathy>=0.3.5 in /usr/local/lib/python3.7/dist-packages (from spacy<3.2.0,>=3.1.0->it-core-news-sm==3.1.0) (0.6.1)\n",
            "Requirement already satisfied: zipp>=0.5 in /usr/local/lib/python3.7/dist-packages (from catalogue<2.1.0,>=2.0.6->spacy<3.2.0,>=3.1.0->it-core-news-sm==3.1.0) (3.6.0)\n",
            "Requirement already satisfied: pyparsing>=2.0.2 in /usr/local/lib/python3.7/dist-packages (from packaging>=20.0->spacy<3.2.0,>=3.1.0->it-core-news-sm==3.1.0) (2.4.7)\n",
            "Requirement already satisfied: smart-open<6.0.0,>=5.0.0 in /usr/local/lib/python3.7/dist-packages (from pathy>=0.3.5->spacy<3.2.0,>=3.1.0->it-core-news-sm==3.1.0) (5.2.1)\n",
            "Requirement already satisfied: urllib3!=1.25.0,!=1.25.1,<1.26,>=1.21.1 in /usr/local/lib/python3.7/dist-packages (from requests<3.0.0,>=2.13.0->spacy<3.2.0,>=3.1.0->it-core-news-sm==3.1.0) (1.25.11)\n",
            "Requirement already satisfied: certifi>=2017.4.17 in /usr/local/lib/python3.7/dist-packages (from requests<3.0.0,>=2.13.0->spacy<3.2.0,>=3.1.0->it-core-news-sm==3.1.0) (2021.5.30)\n",
            "Requirement already satisfied: chardet<4,>=3.0.2 in /usr/local/lib/python3.7/dist-packages (from requests<3.0.0,>=2.13.0->spacy<3.2.0,>=3.1.0->it-core-news-sm==3.1.0) (3.0.4)\n",
            "Requirement already satisfied: idna<3,>=2.5 in /usr/local/lib/python3.7/dist-packages (from requests<3.0.0,>=2.13.0->spacy<3.2.0,>=3.1.0->it-core-news-sm==3.1.0) (2.10)\n",
            "Requirement already satisfied: click<9.0.0,>=7.1.1 in /usr/local/lib/python3.7/dist-packages (from typer<0.5.0,>=0.3.0->spacy<3.2.0,>=3.1.0->it-core-news-sm==3.1.0) (7.1.2)\n",
            "Requirement already satisfied: MarkupSafe>=0.23 in /usr/local/lib/python3.7/dist-packages (from jinja2->spacy<3.2.0,>=3.1.0->it-core-news-sm==3.1.0) (2.0.1)\n",
            "\u001b[38;5;2m✔ Download and installation successful\u001b[0m\n",
            "You can now load the package via spacy.load('it_core_news_sm')\n"
          ]
        }
      ]
    },
    {
      "cell_type": "code",
      "metadata": {
        "id": "Qng1Bb1OSkBV"
      },
      "source": [
        "import nltk\n",
        "from nltk.tokenize import sent_tokenize, word_tokenize\n",
        "import gensim\n",
        "from gensim.models import Word2Vec\n",
        "import pandas as pd"
      ],
      "execution_count": 2,
      "outputs": []
    },
    {
      "cell_type": "code",
      "metadata": {
        "colab": {
          "base_uri": "https://localhost:8080/",
          "height": 109
        },
        "id": "7w2YyS9uSkxx",
        "outputId": "2e41c861-e028-4644-8553-d0ac55108561"
      },
      "source": [
        "df= pd.read_csv('Books.csv')\n",
        "df"
      ],
      "execution_count": 3,
      "outputs": [
        {
          "output_type": "execute_result",
          "data": {
            "text/html": [
              "<div>\n",
              "<style scoped>\n",
              "    .dataframe tbody tr th:only-of-type {\n",
              "        vertical-align: middle;\n",
              "    }\n",
              "\n",
              "    .dataframe tbody tr th {\n",
              "        vertical-align: top;\n",
              "    }\n",
              "\n",
              "    .dataframe thead th {\n",
              "        text-align: right;\n",
              "    }\n",
              "</style>\n",
              "<table border=\"1\" class=\"dataframe\">\n",
              "  <thead>\n",
              "    <tr style=\"text-align: right;\">\n",
              "      <th></th>\n",
              "      <th>Unnamed: 0</th>\n",
              "      <th>_id</th>\n",
              "      <th>author</th>\n",
              "      <th>contents</th>\n",
              "      <th>publishing house</th>\n",
              "      <th>year</th>\n",
              "    </tr>\n",
              "  </thead>\n",
              "  <tbody>\n",
              "    <tr>\n",
              "      <th>0</th>\n",
              "      <td>0</td>\n",
              "      <td>Jane Eyre_Feltrinelli_pulito.txt</td>\n",
              "      <td>Charlotte Brontë</td>\n",
              "      <td>Quel giorno era impossibile uscire a passeggio...</td>\n",
              "      <td>Feltrinelli Editore</td>\n",
              "      <td>2014</td>\n",
              "    </tr>\n",
              "    <tr>\n",
              "      <th>1</th>\n",
              "      <td>1</td>\n",
              "      <td>Jane Eyre_Treves_pulito.txt</td>\n",
              "      <td>Charlotte Brontë</td>\n",
              "      <td>In quel giorno era impossibile passeggiare. La...</td>\n",
              "      <td>Fratelli Treves Editori</td>\n",
              "      <td>1904</td>\n",
              "    </tr>\n",
              "  </tbody>\n",
              "</table>\n",
              "</div>"
            ],
            "text/plain": [
              "   Unnamed: 0                               _id  ...         publishing house  year\n",
              "0           0  Jane Eyre_Feltrinelli_pulito.txt  ...      Feltrinelli Editore  2014\n",
              "1           1       Jane Eyre_Treves_pulito.txt  ...  Fratelli Treves Editori  1904\n",
              "\n",
              "[2 rows x 6 columns]"
            ]
          },
          "metadata": {},
          "execution_count": 3
        }
      ]
    },
    {
      "cell_type": "code",
      "metadata": {
        "colab": {
          "base_uri": "https://localhost:8080/"
        },
        "id": "dyuGP7CazTTu",
        "outputId": "a12ab61d-4e10-47c3-b1c2-95abc0ae1df3"
      },
      "source": [
        "import nltk\n",
        "nltk.download('punkt')"
      ],
      "execution_count": 4,
      "outputs": [
        {
          "output_type": "stream",
          "name": "stdout",
          "text": [
            "[nltk_data] Downloading package punkt to /root/nltk_data...\n",
            "[nltk_data]   Package punkt is already up-to-date!\n"
          ]
        },
        {
          "output_type": "execute_result",
          "data": {
            "text/plain": [
              "True"
            ]
          },
          "metadata": {},
          "execution_count": 4
        }
      ]
    },
    {
      "cell_type": "code",
      "metadata": {
        "colab": {
          "base_uri": "https://localhost:8080/",
          "height": 109
        },
        "id": "7Mgdhb5pQmMH",
        "outputId": "25589bf5-e2f1-4152-9aa4-061c186c6e88"
      },
      "source": [
        "df['Frasi']= df.apply(lambda row: nltk.sent_tokenize(row['contents']), axis=1)\n",
        "df"
      ],
      "execution_count": 5,
      "outputs": [
        {
          "output_type": "execute_result",
          "data": {
            "text/html": [
              "<div>\n",
              "<style scoped>\n",
              "    .dataframe tbody tr th:only-of-type {\n",
              "        vertical-align: middle;\n",
              "    }\n",
              "\n",
              "    .dataframe tbody tr th {\n",
              "        vertical-align: top;\n",
              "    }\n",
              "\n",
              "    .dataframe thead th {\n",
              "        text-align: right;\n",
              "    }\n",
              "</style>\n",
              "<table border=\"1\" class=\"dataframe\">\n",
              "  <thead>\n",
              "    <tr style=\"text-align: right;\">\n",
              "      <th></th>\n",
              "      <th>Unnamed: 0</th>\n",
              "      <th>_id</th>\n",
              "      <th>author</th>\n",
              "      <th>contents</th>\n",
              "      <th>publishing house</th>\n",
              "      <th>year</th>\n",
              "      <th>Frasi</th>\n",
              "    </tr>\n",
              "  </thead>\n",
              "  <tbody>\n",
              "    <tr>\n",
              "      <th>0</th>\n",
              "      <td>0</td>\n",
              "      <td>Jane Eyre_Feltrinelli_pulito.txt</td>\n",
              "      <td>Charlotte Brontë</td>\n",
              "      <td>Quel giorno era impossibile uscire a passeggio...</td>\n",
              "      <td>Feltrinelli Editore</td>\n",
              "      <td>2014</td>\n",
              "      <td>[Quel giorno era impossibile uscire a passeggi...</td>\n",
              "    </tr>\n",
              "    <tr>\n",
              "      <th>1</th>\n",
              "      <td>1</td>\n",
              "      <td>Jane Eyre_Treves_pulito.txt</td>\n",
              "      <td>Charlotte Brontë</td>\n",
              "      <td>In quel giorno era impossibile passeggiare. La...</td>\n",
              "      <td>Fratelli Treves Editori</td>\n",
              "      <td>1904</td>\n",
              "      <td>[In quel giorno era impossibile passeggiare., ...</td>\n",
              "    </tr>\n",
              "  </tbody>\n",
              "</table>\n",
              "</div>"
            ],
            "text/plain": [
              "   Unnamed: 0  ...                                              Frasi\n",
              "0           0  ...  [Quel giorno era impossibile uscire a passeggi...\n",
              "1           1  ...  [In quel giorno era impossibile passeggiare., ...\n",
              "\n",
              "[2 rows x 7 columns]"
            ]
          },
          "metadata": {},
          "execution_count": 5
        }
      ]
    },
    {
      "cell_type": "code",
      "metadata": {
        "colab": {
          "base_uri": "https://localhost:8080/"
        },
        "id": "YQQr2_0BSnqn",
        "outputId": "895c25d0-2603-4dd6-feef-337e3c357a67"
      },
      "source": [
        "import nltk\n",
        "nltk.download('punkt')"
      ],
      "execution_count": 6,
      "outputs": [
        {
          "output_type": "stream",
          "name": "stdout",
          "text": [
            "[nltk_data] Downloading package punkt to /root/nltk_data...\n",
            "[nltk_data]   Package punkt is already up-to-date!\n"
          ]
        },
        {
          "output_type": "execute_result",
          "data": {
            "text/plain": [
              "True"
            ]
          },
          "metadata": {},
          "execution_count": 6
        }
      ]
    },
    {
      "cell_type": "code",
      "metadata": {
        "id": "lB_odwAvSvOu"
      },
      "source": [
        "import spacy\n",
        "from spacy.lang.it.examples import sentences \n",
        "from tqdm.notebook import tqdm\n",
        "tqdm.pandas()\n",
        "nlp = spacy.load('it_core_news_sm')\n",
        "nlp.max_length = 1064150 \n",
        "pipe = nlp.pipe(df['contents'], n_process=2, batch_size=2000)"
      ],
      "execution_count": 7,
      "outputs": []
    },
    {
      "cell_type": "code",
      "metadata": {
        "colab": {
          "base_uri": "https://localhost:8080/",
          "height": 49,
          "referenced_widgets": [
            "c6e1c3db2eb141ec8704efbe9cc43b41",
            "1f9d553fc76843449e491d70952ca458",
            "4a27de5a77b9451e99932e8062fa996a",
            "3fabf1e4b08f4b359e76bdab0be2f3a2",
            "887e2ad0aeec48dfa04024cd59e3cde5",
            "2207660fd5aa4e28a06a5e2ec5bcec25",
            "8fe859e1ab1a4da08459626a93ec4de9",
            "b84b9b3e71894c5bad2c665d99b594bb",
            "791f175384de4ce09a13f5c0f6675c18",
            "b3d7eb293c5d4e9695bbfb115c42b00d",
            "24437512caef4b74b8e21a2a6eb5f93d"
          ]
        },
        "id": "ahuPnSJWUGuB",
        "outputId": "1195ff0e-db5f-4499-c5d3-d943e7c54a70"
      },
      "source": [
        "docs = [x for x in tqdm(pipe)]"
      ],
      "execution_count": 8,
      "outputs": [
        {
          "output_type": "display_data",
          "data": {
            "application/vnd.jupyter.widget-view+json": {
              "model_id": "c6e1c3db2eb141ec8704efbe9cc43b41",
              "version_minor": 0,
              "version_major": 2
            },
            "text/plain": [
              "0it [00:00, ?it/s]"
            ]
          },
          "metadata": {}
        }
      ]
    },
    {
      "cell_type": "code",
      "metadata": {
        "id": "gtOkvuqXSnl4"
      },
      "source": [
        "df['spacy_doc'] = docs"
      ],
      "execution_count": 9,
      "outputs": []
    },
    {
      "cell_type": "code",
      "metadata": {
        "colab": {
          "base_uri": "https://localhost:8080/",
          "height": 49,
          "referenced_widgets": [
            "b015eabe61264d67a8da666faf1de6c4",
            "62ff8e7a4fa244558c7a75b47a695261",
            "dc76c3a54eff432f8ca2c28961bac9df",
            "d07227655de54feb85fc25c0f07ade11",
            "b66253f763044c0a9aa6c0a19daf2958",
            "d9b5cf3808854ddd8d135b659cb836c3",
            "2f5a9e3b215a4536b0691e840b336d19",
            "b300fbf514814cc08f58e2a3cdcfbb91",
            "e1e7abe584c64e23b27212f181c5e500",
            "f5774226b36641dda1e619e2b26af7c9",
            "02a29addb1c44c54bb70666dfb0ecb6e"
          ]
        },
        "id": "Vh-xBTMEYRRr",
        "outputId": "c9e6b150-f4c3-4891-cb20-792f3430dd16"
      },
      "source": [
        "df['POS_spacy'] = df['spacy_doc'].progress_apply(lambda x: [(y.text, y.pos_) for y in x])"
      ],
      "execution_count": 10,
      "outputs": [
        {
          "output_type": "display_data",
          "data": {
            "application/vnd.jupyter.widget-view+json": {
              "model_id": "b015eabe61264d67a8da666faf1de6c4",
              "version_minor": 0,
              "version_major": 2
            },
            "text/plain": [
              "  0%|          | 0/2 [00:00<?, ?it/s]"
            ]
          },
          "metadata": {}
        }
      ]
    },
    {
      "cell_type": "code",
      "metadata": {
        "colab": {
          "base_uri": "https://localhost:8080/",
          "height": 49,
          "referenced_widgets": [
            "e250a48a6c694cafb423d0953ae23419",
            "1393bae85ed84e8383e62130ce539bba",
            "8b7ad518719345a2bb44761986530f3f",
            "b354ee93ae7746a3be80c37424c4dad1",
            "8db4d6ffdeac4028bfab8116bd155626",
            "87d73b42fff9468c8ded48e949219507",
            "105748d0874a463881cdd7a3bc025d4b",
            "8817ddf7b1134be2be3f9e895f931688",
            "1bf85bb73d3f4dffaf4aa043f1db6b90",
            "27d72c37d0b2451588e04ed8b11354b6",
            "9437e86b0846415682892b30c184a231"
          ]
        },
        "id": "kiNrta23YSwK",
        "outputId": "3a99355d-f1b7-40e8-e131-6add1d21f746"
      },
      "source": [
        "df['lemmatized'] = df['spacy_doc'].progress_apply(lambda x: \" \".join([y.lemma_ for y in x if len(x)>1]))"
      ],
      "execution_count": 11,
      "outputs": [
        {
          "output_type": "display_data",
          "data": {
            "application/vnd.jupyter.widget-view+json": {
              "model_id": "e250a48a6c694cafb423d0953ae23419",
              "version_minor": 0,
              "version_major": 2
            },
            "text/plain": [
              "  0%|          | 0/2 [00:00<?, ?it/s]"
            ]
          },
          "metadata": {}
        }
      ]
    },
    {
      "cell_type": "code",
      "metadata": {
        "id": "hQkRkbkJYf5G"
      },
      "source": [
        "def filter_text_pos(x):\n",
        "    final_pos_text = []\n",
        "    for elem in x:\n",
        "        for pos in pos_list:\n",
        "            if elem[1] == pos:\n",
        "                final_pos_text.append(elem[0])\n",
        "    \n",
        "    return \" \".join(final_pos_text)"
      ],
      "execution_count": 12,
      "outputs": []
    },
    {
      "cell_type": "code",
      "metadata": {
        "colab": {
          "base_uri": "https://localhost:8080/"
        },
        "id": "2CK0JwpJEzrI",
        "outputId": "f9e8fb56-8608-4c22-96c9-f913fc94cfb2"
      },
      "source": [
        "import nltk\n",
        "from nltk.corpus import stopwords\n",
        "import string\n",
        "nltk.download('stopwords')\n",
        "def clean(x):\n",
        "  stop = stopwords.words(\"italian\")\n",
        "  stop = stop + list(string.punctuation)\n",
        "  words  = [w for w in word_tokenize(x.lower()) if w.isalpha() and w not in stop]\n",
        "  return \" \".join(words)"
      ],
      "execution_count": 13,
      "outputs": [
        {
          "output_type": "stream",
          "name": "stdout",
          "text": [
            "[nltk_data] Downloading package stopwords to /root/nltk_data...\n",
            "[nltk_data]   Package stopwords is already up-to-date!\n"
          ]
        }
      ]
    },
    {
      "cell_type": "code",
      "metadata": {
        "id": "K_9-AaLYRBAd"
      },
      "source": [
        "def clean(x):\n",
        "  stop = stopwords.words(\"italian\")\n",
        "  stop = stop + list(string.punctuation)\n",
        "  words  = [w for w in word_tokenize(x.lower()) if w.isalpha() and w not in stop]\n",
        "  return \" \".join(words)"
      ],
      "execution_count": 14,
      "outputs": []
    },
    {
      "cell_type": "code",
      "metadata": {
        "colab": {
          "base_uri": "https://localhost:8080/",
          "height": 191
        },
        "id": "AuBt15AUTsar",
        "outputId": "801f2f69-70c4-4f2d-af2e-0587737debcd"
      },
      "source": [
        "df"
      ],
      "execution_count": 15,
      "outputs": [
        {
          "output_type": "execute_result",
          "data": {
            "text/html": [
              "<div>\n",
              "<style scoped>\n",
              "    .dataframe tbody tr th:only-of-type {\n",
              "        vertical-align: middle;\n",
              "    }\n",
              "\n",
              "    .dataframe tbody tr th {\n",
              "        vertical-align: top;\n",
              "    }\n",
              "\n",
              "    .dataframe thead th {\n",
              "        text-align: right;\n",
              "    }\n",
              "</style>\n",
              "<table border=\"1\" class=\"dataframe\">\n",
              "  <thead>\n",
              "    <tr style=\"text-align: right;\">\n",
              "      <th></th>\n",
              "      <th>Unnamed: 0</th>\n",
              "      <th>_id</th>\n",
              "      <th>author</th>\n",
              "      <th>contents</th>\n",
              "      <th>publishing house</th>\n",
              "      <th>year</th>\n",
              "      <th>Frasi</th>\n",
              "      <th>spacy_doc</th>\n",
              "      <th>POS_spacy</th>\n",
              "      <th>lemmatized</th>\n",
              "    </tr>\n",
              "  </thead>\n",
              "  <tbody>\n",
              "    <tr>\n",
              "      <th>0</th>\n",
              "      <td>0</td>\n",
              "      <td>Jane Eyre_Feltrinelli_pulito.txt</td>\n",
              "      <td>Charlotte Brontë</td>\n",
              "      <td>Quel giorno era impossibile uscire a passeggio...</td>\n",
              "      <td>Feltrinelli Editore</td>\n",
              "      <td>2014</td>\n",
              "      <td>[Quel giorno era impossibile uscire a passeggi...</td>\n",
              "      <td>(Quel, giorno, era, impossibile, uscire, a, pa...</td>\n",
              "      <td>[(Quel, DET), (giorno, NOUN), (era, AUX), (imp...</td>\n",
              "      <td>quello giorno essere impossibile uscire a pass...</td>\n",
              "    </tr>\n",
              "    <tr>\n",
              "      <th>1</th>\n",
              "      <td>1</td>\n",
              "      <td>Jane Eyre_Treves_pulito.txt</td>\n",
              "      <td>Charlotte Brontë</td>\n",
              "      <td>In quel giorno era impossibile passeggiare. La...</td>\n",
              "      <td>Fratelli Treves Editori</td>\n",
              "      <td>1904</td>\n",
              "      <td>[In quel giorno era impossibile passeggiare., ...</td>\n",
              "      <td>(In, quel, giorno, era, impossibile, passeggia...</td>\n",
              "      <td>[(In, ADP), (quel, DET), (giorno, NOUN), (era,...</td>\n",
              "      <td>in quello giorno essere impossibile passeggiar...</td>\n",
              "    </tr>\n",
              "  </tbody>\n",
              "</table>\n",
              "</div>"
            ],
            "text/plain": [
              "   Unnamed: 0  ...                                         lemmatized\n",
              "0           0  ...  quello giorno essere impossibile uscire a pass...\n",
              "1           1  ...  in quello giorno essere impossibile passeggiar...\n",
              "\n",
              "[2 rows x 10 columns]"
            ]
          },
          "metadata": {},
          "execution_count": 15
        }
      ]
    },
    {
      "cell_type": "code",
      "metadata": {
        "colab": {
          "base_uri": "https://localhost:8080/",
          "height": 224
        },
        "id": "GVB1a3WoEBjv",
        "outputId": "7e5ec87e-97f7-4cbb-b9f0-08477750a74c"
      },
      "source": [
        "df['Frasi2']= df.apply(lambda row: nltk.sent_tokenize(row['lemmatized']), axis=1)\n",
        "df"
      ],
      "execution_count": 16,
      "outputs": [
        {
          "output_type": "execute_result",
          "data": {
            "text/html": [
              "<div>\n",
              "<style scoped>\n",
              "    .dataframe tbody tr th:only-of-type {\n",
              "        vertical-align: middle;\n",
              "    }\n",
              "\n",
              "    .dataframe tbody tr th {\n",
              "        vertical-align: top;\n",
              "    }\n",
              "\n",
              "    .dataframe thead th {\n",
              "        text-align: right;\n",
              "    }\n",
              "</style>\n",
              "<table border=\"1\" class=\"dataframe\">\n",
              "  <thead>\n",
              "    <tr style=\"text-align: right;\">\n",
              "      <th></th>\n",
              "      <th>Unnamed: 0</th>\n",
              "      <th>_id</th>\n",
              "      <th>author</th>\n",
              "      <th>contents</th>\n",
              "      <th>publishing house</th>\n",
              "      <th>year</th>\n",
              "      <th>Frasi</th>\n",
              "      <th>spacy_doc</th>\n",
              "      <th>POS_spacy</th>\n",
              "      <th>lemmatized</th>\n",
              "      <th>Frasi2</th>\n",
              "    </tr>\n",
              "  </thead>\n",
              "  <tbody>\n",
              "    <tr>\n",
              "      <th>0</th>\n",
              "      <td>0</td>\n",
              "      <td>Jane Eyre_Feltrinelli_pulito.txt</td>\n",
              "      <td>Charlotte Brontë</td>\n",
              "      <td>Quel giorno era impossibile uscire a passeggio...</td>\n",
              "      <td>Feltrinelli Editore</td>\n",
              "      <td>2014</td>\n",
              "      <td>[Quel giorno era impossibile uscire a passeggi...</td>\n",
              "      <td>(Quel, giorno, era, impossibile, uscire, a, pa...</td>\n",
              "      <td>[(Quel, DET), (giorno, NOUN), (era, AUX), (imp...</td>\n",
              "      <td>quello giorno essere impossibile uscire a pass...</td>\n",
              "      <td>[quello giorno essere impossibile uscire a pas...</td>\n",
              "    </tr>\n",
              "    <tr>\n",
              "      <th>1</th>\n",
              "      <td>1</td>\n",
              "      <td>Jane Eyre_Treves_pulito.txt</td>\n",
              "      <td>Charlotte Brontë</td>\n",
              "      <td>In quel giorno era impossibile passeggiare. La...</td>\n",
              "      <td>Fratelli Treves Editori</td>\n",
              "      <td>1904</td>\n",
              "      <td>[In quel giorno era impossibile passeggiare., ...</td>\n",
              "      <td>(In, quel, giorno, era, impossibile, passeggia...</td>\n",
              "      <td>[(In, ADP), (quel, DET), (giorno, NOUN), (era,...</td>\n",
              "      <td>in quello giorno essere impossibile passeggiar...</td>\n",
              "      <td>[in quello giorno essere impossibile passeggia...</td>\n",
              "    </tr>\n",
              "  </tbody>\n",
              "</table>\n",
              "</div>"
            ],
            "text/plain": [
              "   Unnamed: 0  ...                                             Frasi2\n",
              "0           0  ...  [quello giorno essere impossibile uscire a pas...\n",
              "1           1  ...  [in quello giorno essere impossibile passeggia...\n",
              "\n",
              "[2 rows x 11 columns]"
            ]
          },
          "metadata": {},
          "execution_count": 16
        }
      ]
    },
    {
      "cell_type": "code",
      "metadata": {
        "id": "rk3Pvg1205EM"
      },
      "source": [
        "import numpy as np\n",
        "documents = list(np.array(df['Frasi2'][0]))\n",
        "documents2 = list(np.array(df['Frasi2'][1]))\n",
        "\n",
        "df = pd.DataFrame(documents,columns={'text'})\n",
        "df2 = pd.DataFrame(documents2, columns={'text'})\n",
        "df3 = df.append(df2)"
      ],
      "execution_count": 17,
      "outputs": []
    },
    {
      "cell_type": "code",
      "metadata": {
        "colab": {
          "base_uri": "https://localhost:8080/"
        },
        "id": "2kHlcveWVsni",
        "outputId": "8618e3bc-609b-42d2-b0d8-c9ecb75c9f09"
      },
      "source": [
        "documents"
      ],
      "execution_count": 18,
      "outputs": [
        {
          "output_type": "execute_result",
          "data": {
            "text/plain": [
              "['quello giorno essere impossibile uscire a passeggio .',\n",
              " \"al mattino , in realtà , avere gironzolare per uno ora tra il arbusto spoglio , ma dopo pranzo ( mrs reed , quando non c' essere ospite , pranzare presto ) il freddo vento invernale avere portare con sé nubi così scure e uno pioggia così insistente che altro escursione all' aperto essere decisamente fuori questione .\",\n",
              " 'ne essere felice .',\n",
              " 'il lunghe passeggiate non mi essere mai piacere , specie nel pomeriggio gelido .',\n",
              " 'essere terribile tornare a casa nel pungente freddo del crepuscolo , con mano e piede gelato e il cuore intristire dal rimprovero di bessie , il balia , e avvilire dalla consapevolezza della mio inferiorità fisico rispetto a eliza , John e georgiana reed .',\n",
              " \"eliza , John e georgiana , il stessi di cui sopra , essere ora riunire attorno alla loro mamma nel salottino ; lei se ne stare sdraiare sul divano accanto al fuoco e , con il suo tesorini tutt' intorno ( che per il momento non litigare né strillare ) , essere il ritratto della felicità .\",\n",
              " 'quanto a me , mi avere dispensare dall\\' onere di unirmi al gruppo , dire che \" lo rincrescere di dovermi tenere a distanza , ma finché non avere sapere da bessie e vistare con il suo occhio che fare serio sforzo per assumere uno atteggiamento molto socievole e adatto a uno bambina scarlatta e a sinistra c\\' essere il vetrata trasparente che mi proteggere , senza separarmene , da quella triste giornata di novembre .',\n",
              " 'di tanto in tanto , mentre sfogliare il pagina del libro , osservare il tratto di quello pomeriggio invernale .',\n",
              " \"in lontananza c' essere uno distesa sbiadire di nebbia e nubi ; molto vicino , in primo piano , prato bagnato e cespuglio sferzare dal temporale , con il pioggia che imperversare furioso e senza sosta , sospingere da incessante e lamentoso raffica di vento .\",\n",
              " 'ritornare al mio libro , il storia del uccello di Inghilterra di bewick .',\n",
              " \"in genere , il testo stampato mi interessare poco ; eppure c' essere alcun pagina introduttivo che , anche se essere piccolo , non potere saltare quasi non esistere .\",\n",
              " 'essere quelle che parlare del nido del uccello marino , il unico abitatore della \" roccia solitario e il promontorio \" , della costa della Norvegia costellate di isola dalla punta molto a sud , da lindeness o naze , fino a capo nord : \\n\\n \" là dove il Mar artico , in vasti gorgo , ribolle attorno alla isola brullo e malinconico dell\\' estremo tule e il flutto dell\\' Atlantico si infrangere sulla ebridi tempestoso . \"',\n",
              " 'né potere passare inosservato il spiaggia deserto e suggestivo di lapponia , Siberia , spitsbergen , nuova zemlja , Islanda e groenlandia , con \" il ampio paesaggio del circolo polare artico e quello regione sperduto in landa desolato , quello riserva di gelo e neve dove compatto disteso di ghiaccio , ammasso di secolo di inverno cristallizzati , strato su strato , fino a toccare altezze alpine , circondare il polo e raccogliere , moltiplicare , il rigore del freddo molto estremo \" .',\n",
              " 'di questo regno bianco come il morte mi essere fare uno idea tutto mio : nebuloso , come tutto il nozione comprendere soltanto a metà che fluttuare vago dentro il testa del bambino , ma stranamente efficace .',\n",
              " \"il testo di questo pagina introduttivo si riferire alla illustrazione che seguire e dare uno senso alla roccia che si ergere solitario su uno mare di onda e spruzzo , alla carcassa dell' imbarcazione arenare su uno litorale deserto , alla luna freddo e spettrale che scrutare dall' alto , attraverso banco di nube , uno relitto che stare per affondare .\",\n",
              " 'non sapere dire quale sentimento abitare il assoluto solitudine del camposanto con il suo lapide incise , il cancello e il due albero , il orizzonte basso , stretto da uno muro rotto , e il falce di luna crescente , appena sorgere a testimoniare il ora della sera .',\n",
              " 'il due nave immobile su uno mare in bonaccia mi sembrare fantasma marino .',\n",
              " 'il demonio che sistemare il sacca sulla spalla del ladro lo saltare in tutto fretta : essere uno immagine che mi terrorizzare .',\n",
              " 'facevo il stesso con quello essere nero e cornuto che se ne stare in disparte , sedere su uno roccia a osservare , da lontano , uno gruppo di persona radunare attorno a uno forca .',\n",
              " 'ogni immagine raccontare uno storia , spesso impenetrabile per il mio intelletto ancora immaturo e per il mio sentimento non del tutto formare , eppure sempre carico di uno profondo interesse .',\n",
              " \"interessante come il storia che qualche volta , nella sera di inverno , ci raccontare bessie , quand' essere di buonumore : portare il tavolo da stiro nella stanza del bambino , vicino al caminetto , ci permettere di sederci lì attorno e , mentre ripassare il gale di pizzo di mrs reed e arricciare il bordo della suo cuffia da notte , nutriva il nostro vorace curiosità con storia di amore e di avventura prendere da vecchio fiaba e da antiche ballate , o ( come scoprire qualche tempo dopo ) dalla pagina di pamela e di Enrico , conte di moreland .\",\n",
              " 'con il bewick sulla ginocchio mi sentire felice , felice a modo mio , almeno .',\n",
              " 'temere solo di essere interrompere , cosa che avvenire troppo presto .',\n",
              " 'il porta del tinello si aprire . \"',\n",
              " 'ehi , Madama musona ! \"',\n",
              " 'tuonare il voce di John reed , poi fare silenzio : il stanza sembrare vuoto . \"',\n",
              " 'dove diamine si essere cacciare ! \"',\n",
              " 'continuare . \"',\n",
              " 'lizzy !',\n",
              " 'georgy ! \"',\n",
              " '( chiamare il sorella ) \" qui Joan non c\\' essere .',\n",
              " 'andare a dire alla mamma che essere uscire sotto il pioggia , quello bestiaccia ! \"',\n",
              " '\" meno male che avere tirare il tenda , \" pensai , e desiderare con tutto me stesso che non scoprire il mio nascondiglio .',\n",
              " 'da solo , John reed , non lo avere di certo trovare .',\n",
              " 'non essere svelto né di sguardo né di ingegno , ma ecco che eliza si affacciare alla porta e dire subito : \" essere sul sedile della finestra , Jack , ci scommettere \" .',\n",
              " 'uscii immediatamente dal mio nascondiglio perché tremare all\\' idea di essere trascinare fuori dal Jack in questione . \"',\n",
              " 'cosa volere ? \"',\n",
              " 'domandai , diffidente e imbarazzato . \"',\n",
              " \"dovere dire \\x91cosa desiderate , signorino reed ? '\",\n",
              " '\" essere il risposta . \"',\n",
              " 'volere che venire qui \" , quindi si mettere a sedere e mi fare cenno di avvicinare e di fermare davanti a lui .',\n",
              " 'John reed essere uno collegiale di quattordici anno ; avere quattro anno molto di me , che ne avere dieci .',\n",
              " \"essere grande e ben piantare per il suo età , con il pelle scuro e spegnere , dall' aspetto malaticcio , il lineamento marcare nel viso largo , braccio e gamba tozze , mano e piede enorme .\",\n",
              " 'di solito a tavola si strafogava , così diventare bilioso , il occhio lo si fare vago e velare e e il uno giudizio tanto severo e propendere invece per il molto raffinare opinione che il colorito giallastro di John essere dovere al troppo studio e forse alla nostalgia di casa .',\n",
              " 'con il madre e il sorella John essere poco affettuoso , con me essere ostile .',\n",
              " 'mi tiranneggiare e mi tormentare , non due o tre volta alla settimana , non uno o due volta al giorno , ma di continuo .',\n",
              " 'tutto il mio nervo tremare di paura e ogni fibra del mio corpo si contrarre quando si avvicinare .',\n",
              " \"c' essere momento in cui essere fuori di me dal terrore che mi incutere , perché non avere nessuno che mi difendere dalla suo minaccia e vessazione ; il servitù non volere offendere il padroncino prendere il mio parto contro di lui e mrs reed , a questo proposito , essere cieco e sordo : non lo vedere mai quando mi picchiare né lo sentire mentre mi offendere , benché talvolta lo fare in suo presenza , ma molto spesso alla suo spalla .\",\n",
              " 'abituare come essere , con John , a obbedire , mi avvicinare alla poltrona dove essere sedere ; passare tre minuto circa a fare il boccaccia , tirare fuori il lingua molto che potere , attentare però a non fare staccare .',\n",
              " 'sapere che di lì a poco mi avere picchiare e , mentre aspettare con timore il colpo , meditare sulla ripugnante bruttezza del mio aguzzino .',\n",
              " \"forse me lo leggere in faccia vistare che , tutt' a uno tratto , senza parlare e senza preavviso , mi colpire con violenza .\",\n",
              " 'barcollai e , cercare di riprendere il equilibrio , indietreggiai di qualche passo dalla suo poltrona . \"',\n",
              " 'questo essere per il impudenza con cui prima avere rispondere alla mamma , \" dire , \" e per il tuo modo vigliacco di nasconderti dietro il tenda e per il sguardo che avere nel occhio due minuto fa , brutto schifoso ! \"',\n",
              " 'avvezza alla ingiuria di John reed , a rispondere non ci pensare proprio ; pensare solo a come reggere il colpo che di sicuro essere seguitare all\\' insulto . \"',\n",
              " 'cosa ci fare dietro il tenda ? \"',\n",
              " 'domandare . \"',\n",
              " 'leggevo . \"',\n",
              " '\" fare \\' vedere il libro . \"',\n",
              " 'tornare alla finestra e il riportai il libro . \"',\n",
              " 'non avere nessun diritto di prendere il nostro libro .',\n",
              " 'dipendi da noi , dire il mamma ; non avere soldo , tuo padre non ti avere lasciare niente ; dovere chiedere il elemosina e non certo vivere qui insieme a figlio di signore come noi , mangiare quello che mangiare noi e vestire a spesa della mamma .',\n",
              " 'adesso te lo insegno io a frugare nella mio libreria : il libro essere mio , tutto il casa essere mio o lo essere nel giro di qualche anno .',\n",
              " 'mettiti in piede vicino alla porta , lontano dal specchio e dalla finestra . \"',\n",
              " \"il fece , senza intuire all' inizio quali essere il suo reale intenzione ; ma quando il vedere sollevare in aria il libro , soppesare e preparare a scagliarlo , di istinto provai a scansarmi , con uno grido di paura ; non abbastanza in fretta , però .\",\n",
              " 'il tomo prendere il volo e mi colpire .',\n",
              " 'nel cadere a terra , battei il testa contro il porta e mi ferire .',\n",
              " 'il ferita sanguinare e fare parecchio male ; il terrore avere superare il misura e subentrare sentimento di altro tipo . \"',\n",
              " 'cattivo , crudele ! \"',\n",
              " 'dissi . \"',\n",
              " 'essere uno assassino , uno negriero , uno imperatore romano ! \"',\n",
              " 'avere leggere il storia di Roma di goldsmith e mi essere fare uno idea di nerone , caligola e via di seguito .',\n",
              " 'poi avere stabilire , tra me e me , del paragone che non avere mai immaginare di potere esprimere ad alto voce . \"',\n",
              " 'cosa ?',\n",
              " 'cosa ? \"',\n",
              " 'urlò . \"',\n",
              " 'che mi avere dire , quella ?',\n",
              " 'eliza , georgiana , il avere sentire ?',\n",
              " 'e io non dovere dire alla mamma ?',\n",
              " 'ma prima ... \" mi si lanciare addossare a testa basso .',\n",
              " 'sentii che mi afferrare il capello e il spalla ; si essere avventare su uno essere disperato .',\n",
              " 'vedere davvero in lui uno tiranno e uno assassino .',\n",
              " 'sentire qualche goccia di sangue colarmi dalla testa giù lungo il collo e provare uno dolore indistinto e lancinante ; per uno momento questo sensazione prevalere sulla paura e reagii alla cieca , ormai fuori di me .',\n",
              " 'non sapere dire con precisione come menai il mano , ma solo che lui mi chiamare \" schifosa !',\n",
              " 'schifosa ! \"',\n",
              " 'e urlare a squarciagola .',\n",
              " 'il soccorso , per lui , non tardare ad arrivare .',\n",
              " 'eliza e georgiana si essere precipitare da mrs reed , che essere salire al piano di sopra : piombò sulla scena , seguitare da bessie e da abbot , il cameriera .',\n",
              " 'ci dividere , e il sentii dire : \" santo cielo !',\n",
              " 'si essere scagliare sul signorino John come uno furia ! \"',\n",
              " '. \"',\n",
              " 'mai vistare un spettacolo così violento ! \"',\n",
              " 'poi mrs reed aggiungere : \" portatela nella stanza rosso e chiudetecela dentro \" .',\n",
              " 'in uno lampo , essere afferrare da quattro mano e portata di sopra .',\n",
              " 'opposi resistenza per tutto il tragitto : uno novità per me , per bessie e Miss abbot invece soltanto uno circostanza che rafforzare notevolmente il cattivo opinione che già nutrire nel mio riguardo .',\n",
              " 'il fatto essere che non essere molto in me ; o meglio , essere fuori di me , per dire alla francese .',\n",
              " 'mi rendere conto che il ribellione di uno attimo mi avere già rendere passibile di punizione inaudito e , come ogni schiavo ribelle , mi sentire determinare , nella mio disperazione , ad andare fino in fondo . \"',\n",
              " 'tenetele fermo il braccio , Miss abbot .',\n",
              " 'sembrare uno gatta furioso . \"',\n",
              " '\" che vergognare !',\n",
              " 'che vergogna ! \"',\n",
              " 'gridare il cameriera della signora . \"',\n",
              " 'che condotta riprovevole , Miss eyre , colpire uno giovanotto a modo , figlio della tuo benefattrice !',\n",
              " 'il tuo padroncino ! \"',\n",
              " '\" padrone ?',\n",
              " 'come essere a dire ?',\n",
              " 'essere forse uno serva ? \"',\n",
              " '\" no , essere meno di uno serva , vistare che non fare niente per mantenerti .',\n",
              " 'qua , mettere a sedere e rifletti sulla tuo malvagità . \"',\n",
              " 'nel frattempo mi avere portare nella stanza indicare da mrs reed e mi avere costringere a sedermi su un sgabello .',\n",
              " 'il mio primo impulso essere di saltare in piede come uno molla , ma due paio di mano mi bloccare all\\' istante . \"',\n",
              " 'se non stare fermare , ci toccare legarti , \" dire bessie . \"',\n",
              " 'Miss abbot , datemi il vostro giarrettiera ; il mio , da sole , lo spezzare in uno attimo . \"',\n",
              " 'Miss abbot si voltare per togliere dalla coscia robusto il legaccio richiesto .',\n",
              " 'questo preparativo per legare e il nuovo ignominia che comportare calmare uno po\\' il mio furia . \"',\n",
              " 'non toglietevele , \" gridai , \" non mi muovere . \"',\n",
              " 'a riprova di ciò , mi aggrappare con il mano al sedile . \"',\n",
              " 'essere meglio per te , \" dire bessie .',\n",
              " 'e quando essere certo che mi essere calmare davvero , allentare il presa ; dopo di che , lei e Miss abbot rimanere a guardarmi , a braccio incrociate , con aria accigliato e diffidente , quasi non credessero che essere rinsavire . \"',\n",
              " 'non lo avere mai fare prima , \" dire infine bessie , rivolgere alla cameriera . \"',\n",
              " 'ma lo covare dentro da sempre , \" essere il risposta . \"',\n",
              " 'avere dire spesso alla signora cosa ne pensare di questo bambina e il signora essere di accordo con me .',\n",
              " 'essere uno esserino subdolo ; non avere mai vistare uno ragazzina della suo età così falso . \"',\n",
              " 'bessie non rispondere ; ma poco dopo , rivolgere a me , dire : \" dovresti rendere conto , signorina , che avere uno obbligo di riconoscenza nel confronto di mrs reed : essere lei a mantenerti e , se ti abbandonare , ti toccare andare in orfanotrofio \" .',\n",
              " 'a questo parola non avere niente da replicare ; non mi essere nuovo .',\n",
              " 'il mio ricordo molto lontano contenere già allusione di questo genere .',\n",
              " 'tali richiamo alla mio condizione di dipendenza essere diventare , per il mio orecchio , uno vago ritornello , molto penoso e deprimente ma comprensibile solo a metà .',\n",
              " 'Miss abbot aggiungere : \" e non dovere considerarti al stesso livello della signorina reed e del padroncino reed solo perché il signora , bontà suo , vi crescere tutti insieme .',\n",
              " 'loro avere uno sacco di soldo e tu non avere niente .',\n",
              " 'ti convenire mostrarti umile e cercare di ingraziarteli \" . \"',\n",
              " 'lo dire per il tuo bene , \" aggiungere bessie , senza durezza nella voce , \" dovere cercare di renderti utile e fare apprezzare , così , forse , potere sentire a casa tuo , qui ; ma se ti mostro irascibile e maleducato , il signora ti mandare via , ne essere sicuro . \"',\n",
              " '\" e poi , \" dire Miss abbot , \" Dio ti punire .',\n",
              " 'potere fulminarti nel bel mezzo di uno capriccio e allora dove andare a finire ?',\n",
              " 'andare , bessie , lasciare solo .',\n",
              " 'non volere essere come lei per nulla al mondo .',\n",
              " \"quando essere solo , di ' il tue preghiera , Miss eyre ; perché , se non ti pentire , potere venire giù dalla cappa del camino coprire da uno stoffa cremisi ; il parete essere di uno fulvo chiaro , ravvivato da uno tocco di rosa ; il armadio , il toletta , il sedia essere di vecchio mogano scuro e lucido .\",\n",
              " \"e da questo ombra profondo all' intorno spuntare fuori , di uno bianco abbagliante , il alto pila del materasso e del cuscino , rivestire da uno candido copriletto di Marsiglia .\",\n",
              " \"non meno maestoso essere uno grande poltrona imbottire accanto alla testata del letto , anch' essa bianco , con uno poggiapiedi davanti che avere tutto il aspetto , pensai , di uno pallido trono .\",\n",
              " 'questo stanza essere freddo , perché dentro il fuoco vi si accendere di rado ; essere silenzioso , perché lontano dalla stanza del bambino e dalla cucina ; solenne , perché solitamente poco abitare .',\n",
              " \"soltanto il domestica vi venire il sabato per togliere dal specchio e dal mobile il polvere che vi si essere silenziosamente depositata durante il settimana ; e il stesso mrs reed , a raro intervallo , lo visitare per riesaminare il contenuto di uno certo cassetto segreto dell' armadio , dove essere riporre vario pergamena , il suo portagioie e uno miniatura del marito morto .\",\n",
              " 'e in questo ultimo parola essere custodire il segreto della stanza rosso , il sortilegio che lo relegare a uno forzata solitudine a dispetto della suo grandiosità .',\n",
              " 'mr reed essere morire da nove anno .',\n",
              " 'essere in questo camera che avere esalare il suo ultimo respiro , qui essere stare esporre il suo corpo , da qui il suo bara essere stare portare via dal becchino ; e , da quello giorno , uno senso di cupa sacralità lo avere difendere da intrusione troppo frequente .',\n",
              " \"il sedile su cui bessie e il acida Miss abbot mi avere lasciare inchiodare essere uno basso sgabello imbottire vicino al caminetto di marmo ; il letto si ergere davanti a me ; alla mio destra c' essere il armadio alto e cupo con riflesso smorzare e irregolare che increspare il lucentezza del pannello ; alla mio sinistra il finestra tappare dalla tenda ; nel mezzo , uno grande specchio riflettere il solennità disabitato del letto e della stanza .\",\n",
              " 'non essere del tutto sicuro che avere chiudere a chiave il porta ; e , non appena trovare il coraggio di muovere , mi alzare e andare a vedere .',\n",
              " 'ahimè , essere proprio chiudere !',\n",
              " 'nessun prigione essere mai stare molto sicuro .',\n",
              " 'per tornare dove essere , dovetti passare davanti al specchio ; il mio sguardo affascinato esplorare senza volere il profondità che lo svelare .',\n",
              " \"in quello vuoto visione sembrare tutto molto freddo e buio di quanto non essere in realtà , e quella strano figurina che mi fissare con il viso pallido , il braccio come macchia nell' oscurità e il occhio lucido di paura che si muovere laddove ogni altro cosa essere immobile , mi fare il effetto di uno vero fantasma : sembrare uno di quello minuscoli spiritelli , metà fate e metà folletti , che nel racconto serale di bessie spuntare fuori , nella brughiera , da valletta solitario ricoprire di felci e apparire davanti al occhio di viaggiatore ritardatario .\",\n",
              " 'tornare al mio sgabello .',\n",
              " 'in quello momento mi assalire uno paura superstizioso , ma non essere ancora giungere il ora della suo vittoria definitivo .',\n",
              " 'il mio sangue essere ancora caldo , il impeto del schiavo ribelle mi sostenere ancora con il suo dolere energia ; dovere arginare il flusso rapido del ricordo prima di arrendermi al tragico presente .',\n",
              " 'tutto il violento tirannia di John reed , tutto il orgoglioso indifferenza della sorella , tutto il avversione della madre , tutto il parzialità della servitù si sollevare nella mio mente sconvolto come uno feccia scuro in uno pozzo torbido .',\n",
              " 'perché dovere sempre sopportare , essere sempre maltrattare , sempre accusare e condannare per sempre ?',\n",
              " 'perché non riuscivo mai a essere benvoluta ?',\n",
              " 'perché ogni sforzo di accattivarmi uno qualche simpatia risultare sempre inutile ?',\n",
              " 'eliza , che essere testardo ed egoista , venire rispettare .',\n",
              " 'a geor giana , che essere viziare , caustico e vendicativo , pignola e arrogare nel modo , venire permettere e perdonare tutto .',\n",
              " 'il suo bellezza , il guancia roseo e il ricciolo di oro suscitare il favore di chiunque il guardasse e lo giustificare ogni suo colpa .',\n",
              " 'John non venire mai rimproverare , né tanto meno punito , sebbene torcere il collo al piccione , uccidere il piccolo del pavone , aizzare il cane contro il pecora , strappare il acino di uva e spezzare il germoglio della pianta molto pregiato della serra .',\n",
              " 'poi chiamare il madre \" vecchio mio \" , talvolta lo prendere pesantemente in giro per il suo pelle scuro , simile alla propria ; di fronte alla suo richiesta essere menefreghista e maleducato .',\n",
              " 'spesso e volentieri strappare e rovinare il suo vestito di seta .',\n",
              " 'e , nonostante tutto , continuare a essere \" il suo tesoruccio \" .',\n",
              " 'io non osare fare trovare in difetto , mi sforzare in ogni modo di compiere il mio dovere , ed essere considerare ribelle e irritante , musona e subdolo , da mattina a pomeriggio e da pomeriggio a sera .',\n",
              " 'il testa mi fare ancora male e continuare a sanguinare per il colpo e il caduta di prima .',\n",
              " 'nessuno avere rimproverare John per avere picchiare senza avere motivo ; invece io , per avere reagire e cercare di evitare altro assurdo violenza , essere stare investire dalla riprovazione generale . \"',\n",
              " 'non essere giusto !',\n",
              " 'non essere giusto ! \"',\n",
              " \"mi dire il ragione , spingere da uno impulso lancinante a uno reazione precoce anche se passeggero , e il volontà , anch' essa in fermento , mi suggeriva singolare espedienti per sottrarre a quello oppressione insopportabile , come scappare di casa o , se il cosa non essere fattibile , smettere di mangiare e di bere e lasciare morire .\",\n",
              " 'in quale costernazione si trovare il mio spirito , quello terribile pomeriggio !',\n",
              " 'come essere in tumulto il mio cervello e come si ribellare il mio cuore !',\n",
              " 'e tuttavia in quale oscurità , in quale fitto ignoranza venire combattere quello battaglia interiore !',\n",
              " 'non essere capace di rispondere a questo incessante domanda del cuore : perché soffrivo così ?',\n",
              " 'oggi , a distanza di ... non dire quanto anno , lo vedere chiaramente .',\n",
              " 'a gateshead Hall essere uno nota stonato , non assomigliare a nessuno , non avere niente in comune con mrs reed o con il suo figlio o con il suo scelti servitore .',\n",
              " 'se loro non mi amare , io di certo non lo amare di molto .',\n",
              " \"non essere tenere a considerare con affetto uno essere che non potere simpatizzare con nessuno di loro ; uno essere diverso , opposto a loro per carattere , capacità , inclinazione ; uno essere inutile , incapace di servire il loro interesse o di contribuire al loro benessere ; uno essere dannoso che covare il germe dell' indignazione per il trattamento che lo riservare , del disprezzo per il loro giudizio .\",\n",
              " 'sapere che , se essere stare uno bambina gioioso , brillante , spensierato , esigente , bello e vivace \\x96 pur rimanere il stesso dipendente e senza amico \\x96 , mrs reed mi avere sopportare con grande benevolenza ; il suo figlio avere nutrire nel mio confronto qualcosa di molto di uno simpatia fra coetaneo ; il servitù essere stare meno incline a fare di me il capro espiatorio del ragazzo di casa .',\n",
              " 'il luce del giorno cominciare ad abbandonare il stanza rosso ; essere passare il quattro e il pomeriggio nuvoloso volgere a uno tetro crepuscolo .',\n",
              " 'sentire il pioggia che continuare a picchiettare senza posa contro il finestra della scala e il vento che ululare nel boschetto dietro il atrio .',\n",
              " 'a poco a poco divenni freddo come uno pietra e allora il mio coraggio svanì .',\n",
              " 'il mio abituale atteggiamento sottomesso , fare di insicurezza e di sconsolato abbattimento , cadde come pioggia sulla brace della mio rabbia che si stare ormai raffreddare .',\n",
              " 'tutti dire che essere cattivo , e forse lo essere davvero ; non avere poco prima concepito il idea di lasciare morire di fame ?',\n",
              " 'essere di certo uno crimine ; e io essere pronto a morire ?',\n",
              " 'o forse il cripta sotto il coro della chiesa di gateshead essere uno meta invitante ?',\n",
              " 'in quello cripta , avere sentire dire , essere sepolto mr reed .',\n",
              " 'per associazione di idea , cominciai a pensare a lui e mi soffermare su questo pensiero con paura crescente .',\n",
              " 'non potere ricordarmelo , però sapere che essere mio zio diretto , il fratello di mio madre , che mi avere accogliere in casa suo quando essere rimanere orfano e che nel suo ultimo istante di vita avere fare promettere a mrs reed che mi avere crescere e allevare come uno del suo figlio .',\n",
              " \"mrs reed , probabilmente , essere convincere di avere tenere fede a questa stabilmente all' interno del suo nucleo familiare .\",\n",
              " 'mi venire in mente uno strano idea .',\n",
              " 'non avere dubbio \\x96 non lo avere mai avere \\x96 che se mr reed essere stare ancora vivo mi avere trattare bene ; e in quello momento , mentre essere sedere a guardare il letto bianco e il parete in ombra , volgere di tanto in tanto il occhio affascinato verso il sinistro riflesso del specchio , mi ricordare di avere sentire storia di morto che si rigirare nella tomba perché essere stare violare il loro ultimo volontà e che tornare sulla terra per punire il spergiuri e vendicare il oppresso .',\n",
              " 'così immaginare che il spirito di mr reed , tormentare dalla ingiustizia subire dalla figlia di suo sorella , potere abbandonare il suo dimora \\x96 il cripta della chiesa o il mondo sconoscere del defunto \\x96 e apparirmi davanti , in questo camera .',\n",
              " 'asciugare il lacrima e soffocare il singhiozzo , per paura che uno qualsiasi manifestazione di dolore violento potere risvegliare uno voce soprannaturale per confortarmi o potere fare emergere dal buio uno volto circonfuso di luce che si chinare su di me con insolito pietà .',\n",
              " 'sentire che questo idea , in teoria consolatorio , essere stare spaventoso se si essere realizzare .',\n",
              " 'cercai di soffocare con tutto il mio forza , cercai di mantenere il calma .',\n",
              " 'mi scostare il capello dal occhio , alzare il testa e tentai , facendomi coraggio , di guardarmi intorno , nella stanza buia ; e proprio in quello momento uno luce baluginare sulla parete .',\n",
              " 'essere forse , mi chiedere , uno raggio di luna che penetrare da qualche fessura del scure ?',\n",
              " 'no , il luce della luna essere fermare , e questa si muovere ; mentre il fissavo , scivolare fino al soffitto e tremolare sopra il mio testa .',\n",
              " \"ora come ora , potere facilmente ipotizzare che questo fascio di luce essere , con ogni probabilità , il riverbero di uno lanterna che qualcuno portare con sé mentre attraversare il prato ; ma in quello frangente , con il mente già predisporre all' orrore e il nervo scossi dall' agitazione , pensare che quello bagliore rapido e guizzare annunciare uno visione che venire dall' altro mondo .\",\n",
              " 'avere il cuore in tumulto e il testa che mi scoppiare ; uno suono , che mi parere uno battito di ala , mi riempire il orecchio .',\n",
              " 'mi sentire oppresso , soffocare ; ogni resistenza venire meno .',\n",
              " 'lanciare uno grido selvaggio , involontario .',\n",
              " 'mi precipitare alla porta e armeggiare con il serratura , in uno tentativo disperato .',\n",
              " 'sentire uno rincorrere di passo lungo il corridoio , uno giro di chiave , ed entrare bessie e abbot . \"',\n",
              " 'Miss eyre , ti sentire male ? \"',\n",
              " 'dire bessie . \"',\n",
              " 'che grido tremendo !',\n",
              " 'mi avere attraversare da parte a parte ! \"',\n",
              " 'esclamare abbot . \"',\n",
              " 'fatemi uscire !',\n",
              " 'lasciare andare nella stanza del bambino ! \"',\n",
              " 'lo supplicare . \"',\n",
              " 'e perché ?',\n",
              " 'ti essere fare male ?',\n",
              " 'avere vistare qualcosa ? \"',\n",
              " 'domandare di nuovo bessie . \"',\n",
              " 'sì !',\n",
              " 'avere vistare uno luce e avere pensare che stesso per apparirmi uno fantasma . \"',\n",
              " 'nel frattempo avere afferrare il mano di bessie e lei non lo ritrasse di scatto . \"',\n",
              " 'lo avere fare apposta , a gridare , \" dichiarare abbot con aria contrariato . \"',\n",
              " 'e che gridare !',\n",
              " 'se lo essere succedere qualcosa di grave , potere pure scusarla , ma volere solo fare correre qui tutte e due .',\n",
              " 'lo conoscere bene , io , il suo trucchetto pestiferi . \"',\n",
              " '\" che succedere qui ? \"',\n",
              " 'chiedere perentorio uno altro voce ; e mrs reed arrivare dal corridoio , con il cuffia tutto svolazzante e precedere da tempestoso fruscio di veste . \"',\n",
              " 'abbot , bessie , mi parere di avere ordinare di lasciare Jane eyre nella stanza rosso finché non essere venire a prendere io stesso . \"',\n",
              " '\" Miss Jane gridare così forte , signora , \" obiettare bessie . \"',\n",
              " 'e voi lasciatela gridare , \" essere il solo risposta . \"',\n",
              " 'lascia andare il mano di bessie , ragazzina .',\n",
              " 'non riuscire a cavartela con questo mezzuccio , stanne certo .',\n",
              " 'detestare il imbrogliare , specie nel bambino ; essere mio dovere dimostrarti che il trucchetto non servire a niente .',\n",
              " 'adesso restare qua dentro uno ora in molto , e ti liberare solo se te ne stare zitto e buono , senza provare a ribellarti . \"',\n",
              " '\" oh , zia !',\n",
              " 'abbiate pietà !',\n",
              " 'perdonatemi !',\n",
              " 'non ci resistere molto qua dentro .',\n",
              " 'punitemi in qualche altro modo !',\n",
              " 'ne morire se ... \" \" silenzio !',\n",
              " 'trovare questo veemenza davvero insopportabile \" , e essere sicura che per lei essere proprio così .',\n",
              " 'al suo occhio essere uno attrice nato ; mi considerare come se essere uno combinazione di passione violento , meschineria e pericoloso ambiguità .',\n",
              " 'dopo che bessie e abbot si essere ritirare , mrs reed , stufa della mio angoscia , divenire convulso , e del singhiozzo selvaggio , mi spingere bruscamente indietro e mi chiudere dentro , senza aggiungere uno parola .',\n",
              " 'il sentii allontanare .',\n",
              " 'e subito dopo che se ne essere andare , avere uno specie di malore : il svenimento chiuso il scena .',\n",
              " 'il primo cosa che ricordo essere di essere svegliare con il sensazione di avere avere uno incubo terrificante e di vedere , davanti a me , uno sinistro bagliore rosso , percorrere da fitto sbarra nero .',\n",
              " \"sentire anche della voce sordo , come smorzare dal rumore del vento o dell' acqua .\",\n",
              " 'il agitazione , il insicurezza e uno senso di orrore che dominare su tutto mi annebbiare il mente .',\n",
              " 'in breve mi rendere conto che qualcuno si stare occupare di me , mi aiutare a tirarmi su e a rimanere sedere con uno delicatezza che nessuno mai , prima di allora , avere usare nel sollevare o sorreggermi .',\n",
              " 'appoggiai il testa su uno cuscino o uno braccio , e mi tranquillizzare .',\n",
              " 'altro cinque minuto e il nube del smarrimento si dissolvere .',\n",
              " 'capire chiaramente che mi trovare nel mio letto e che il bagliore rosso essere il fuoco della stanza del bambino .',\n",
              " 'essere notte .',\n",
              " \"sul tavolo ardere uno candela ; al piede del letto c' essere bessie con uno catinella in mano e al mio capezzale essere sedere uno signore , chino su di me .\",\n",
              " \"quando comprendere che nella stanza c' essere uno estraneo , qualcuno che non appartenere a gateshead e non avere nessun legame con mrs reed , provare uno sollievo indicibile e uno confortante senso di protezione e sicurezza .\",\n",
              " \"distolsi il sguardo da bessie ( sebbene il suo presenza mi essere molto meno odioso di quella di abbot , per esempio ) e scrutare il volto dell' uomo : lo conoscevo , essere mr Lloyd , uno farmacista che mrs reed chiamare ogni tanto , quando si ammalare qualcuno della servitù .\",\n",
              " 'per lei e per il figlio si rivolgere a uno medico . \"',\n",
              " 'allora , chi essere ? \"',\n",
              " 'domandare .',\n",
              " 'pronunciare il suo nome e , al stesso tempo , il dare il mano .',\n",
              " 'lui lo prendere , sorridere e mi dire : \" tra poco stare benissimo \" .',\n",
              " 'poi mi fare stendere e si rivolgere a bessie , incaricandola di stare attento che durante il notte non mi disturbare nessuno .',\n",
              " 'dopo avere datare qualche altro istruzione e avere dichiarare che il giorno seguente essere ritornato , con mio grande dispiacere se ne andare .',\n",
              " 'mi essere sentire così proteggere e sostenere mentre essere sedere al mio capezzale !',\n",
              " 'e appena chiuso il porta dietro di sé , il stanza si scurire tutto e il mio cuore sprofondare di nuovo , sotto il peso di uno indicibile tristezza . \"',\n",
              " 'perché non dormire uno po\\' , signorina ? \"',\n",
              " 'domandare bessie , con uno certo dolcezza .',\n",
              " 'non osare quasi risponderle , per paura che il frase successivo potere essere uno rimprovero . \"',\n",
              " 'ci provare . \"',\n",
              " '\" hai sete ?',\n",
              " 'ti sentire di mangiare qualcosa ? \"',\n",
              " 'avere bisogno di qualcosa . \"',\n",
              " 'che straordinario gentilezza !',\n",
              " 'prendere coraggio e il domandai : \" bessie , che cosa avere ?',\n",
              " 'essere malato ? \"',\n",
              " '. \"',\n",
              " 'ti essere sentire male nella camera rosso , a furia di piangere , credere .',\n",
              " 'presto ti sentire meglio , senza ombra di dubbio . \"',\n",
              " 'bessie entrare nella stanza della domestica , lì accanto .',\n",
              " 'il sentii dire : \" Sarah , venire a dormire con me nella stanza del bambino ; stanotte non me lo sentire proprio di rimanere solo con quella povero bambina .',\n",
              " 'potere morire !',\n",
              " 'essere così strano che avere avere quello malore !',\n",
              " 'chissà se avere vistare qualcosa !',\n",
              " 'il signora essere stare uno po\\' troppo severo \" .',\n",
              " 'Sarah tornare con lei .',\n",
              " \"si mettere a letto e parlottare tra loro per uno mezz' ora , prima di addormentare .\",\n",
              " 'cogliere alcun frammento della loro conversazione , dal quali potere arguire anche troppo chiaramente quale essere il principale argomento di discussione . \"',\n",
              " 'lo essere passare accanto qualcosa , tutto vestire di bianco , poi essere svanire \" ... \" con appresso uno grosso cane nero \" ... \" tre colpo secco alla porta della camera \" ... \" uno luce al camposanto proprio sopra il suo tomba \" ecc.',\n",
              " 'ecc.',\n",
              " 'alla fine si addormentare ; il fuoco e il candela si spegnere .',\n",
              " 'quanto a me , trascorrere il ora di quella lungo notte in uno pauroso veglia ; il orecchio , il occhio e il mente essere parimenti tesare per il terrore , uno terrore che solo il bambino riuscire a provare .',\n",
              " \"all' incidente della stanza rosso non seguire nessun malattia grave e lungo ; essere solo uno duro colpo per il mio nervo , tanto che ne sentire ancora oggi il conseguenza .\",\n",
              " 'proprio così , mrs reed , dovere a voi certi feroci e lancinanti tormenti psichico , ma dovere perdonarvi , perché non sapere quello che stare fare : nel ridurmi il cuore a brandello , pensare solo di estirpare il mio cattivo inclinazione .',\n",
              " 'il giorno dopo , verso mezzogiorno , alzata e vestita , me ne stare sedere accanto al caminetto della stanza del bambino , avvolgere in un scialle .',\n",
              " 'fisicamente mi sentire stancare e debilitare ; ma il mio male cattivo essere uno indicibile tristezza di spirito , uno tristezza che mi fare sgorgare lacrima silenzioso a non finire .',\n",
              " 'non fare in tempo ad asciugare dalla guancia uno gocciolina salato che subito ne venire giù uno altra .',\n",
              " \"eppure , pensare , avere dovere essere felice perché in casa non c' essere nessuno del reed : essere uscire in carrozza con il loro mamma .\",\n",
              " 'anche abbot essere in uno altro stanza , a cucire , e bessie , tutto indaffarato a sistemare il giocattolo e a riordinare il cassetto , mi rivolgere di tanto in tanto qualche parola di insolito gentilezza .',\n",
              " \"questo situazione per me , abituare come essere a uno vita di continuo rimprovero e di impegno misconosciuto , avere dovere essere uno paradiso di pace ; ma di fatto il mio povero nervo essere così malridotto che non c' essere quiete che potere dare loro sollievo né gioia che potere stimolarli e allietarli .\",\n",
              " 'bessie essere scendere in cucina e tornare con uno crostatina posare su uno bel piatto di porcellana cinese , tutto colorato , su cui essere dipingere uno uccello del paradiso , annidare in uno ghirlanda di convolvoli e bocciolo di rosa , che suscitare in me , ogni volta che lo vedevo , uno entusiastico sentimento di ammirazione .',\n",
              " 'avere spesso chiedere di potere prendere in mano quello piatto , per esaminare molto da vicino , ma fino a quello momento non essere mai stare considerare degno di tale privilegio .',\n",
              " 'questo piattino prezioso adesso essere sulla mio ginocchio e mi si invitare cordialmente a mangiare il delicato pasticcino che vi essere sopra .',\n",
              " 'concessione inutile !',\n",
              " 'che arrivare troppo tardi , come tanto altro cosa spesso desiderare e rinviare in continuazione !',\n",
              " \"non riuscivo a mangiare il crostatina ; e il piuma dell' uccello , il colore del fiore mi sembrare insolitamente sbiadito .\",\n",
              " 'mettere da parte piatto e crostata .',\n",
              " 'bessie mi chiedere se volere uno libro : il parola libro agire come un stimolo fugace , così il pregai di andare a prendere dalla biblioteca il viaggio di gulliver .',\n",
              " 'quello libro lo avere leggere e rileggere con grande passione .',\n",
              " 'il considerare uno racconto di fatto reale e risvegliare in me uno interesse molto profondo di quanto non fare il fiaba .',\n",
              " 'riguardo al folletto , dopo avere cercare invano tra foglia di digitale e campanule , sotto il fungo e sotto il edera strisciante che ricoprire il vecchio muro , mi essere ormai arrendere alla triste evidenza che dovere avere lasciare il Inghilterra alla volta di qualche terra selvaggio , pieno di bosco incontaminato e rigoglioso e poco abitare ; mentre essere convincere che lilliput e brobdingnag essere parto solido della superficie terrestre .',\n",
              " \"e non avere dubbio che uno giorno o il altro , durante uno lungo viaggio , avere potere vedere con il mio occhio il campicelli , il casetta , il alberello , il omino minuscolo , il mucca , il pecora e il uccello in miniatura del primo regno ; e il campo di grano alto come foresta , il poderoso mastino , il gatto mostruoso , il uomo e il donna torreggianti dell' altro regno .\",\n",
              " 'tuttavia , quando mi ritrovare fra il mano questo volume prediletto , mentre lo sfogliavo , cercare tra il suo meraviglioso illustrazione il incanto che fino ad allora vi avere sempre trovare , mi parere tutto così inquietante e pauroso : il gigante essere folletti smunto , il pigmeo diavoletto malefico e spaventoso , gulliver uno povero vagabondo che errare per regione desolato e pericoloso .',\n",
              " 'chiudere il libro \\x96 non avere molto il coraggio di leggere \\x96 e lo posare sul tavolo , accanto alla crostata che non avere nemmeno assaggiare .',\n",
              " 'bessie avere finire di spolverare e riordinare il stanza .',\n",
              " 'si lavare il mano , aprire uno piccolo cassetto pieno di splendido scampolo di seta e raso e si mettere a preparare uno cappellino nuovo per il bambola di georgiana .',\n",
              " 'intanto cantare .',\n",
              " 'il canzone dire : \" il giorno del nostro vagabondaggio , tanto tempo fa \" .',\n",
              " '7 questo canzone lo avere già sentire tanto volta , e sempre con grande piacere ; perché bessie avere uno voce dolce , o almeno così mi sembrare .',\n",
              " 'ma in quello momento , nonostante il suo voce essere ancora dolce , quello melodia mi trasmettere uno tristezza indescrivibile .',\n",
              " 'a volta , assorbire come essere dal suo lavoro , cantare il ritornello a voce basso , strascicare il parola : quello \" tanto tempo fa \" prendere il tristo cadenza di uno inno funebre .',\n",
              " 'passare poi a uno altro ballata , questa davvero struggere . \"',\n",
              " 'dolere il piede e stanco essere il membra , selvaggio il montagna , lungo il stradella ; senza luna della notte scendere il cupa ombra sul sentiero della povero orfanella .',\n",
              " 'come mai solo mi mandare lontano , nella vasto brughiera dove pietra su pietra si affastellare ?',\n",
              " 'solo il angelo che non avere il duro cuore umano vegliare sul passo della povero orfanella .',\n",
              " 'distante e delicato il brezza entrare in azione , spazza via il nube e mostra limpido uno stella : essere il misericordia di dio che emanare protezione , speranza e conforto per il povero orfanella .',\n",
              " 'e anche se dal ponte rotto cadere in uno burrone mattinata tornare mr Lloyd . \"',\n",
              " 'come , già in piede ! \"',\n",
              " 'dire , entrare in camera . \"',\n",
              " 'allora , tata , come si sentire il piccola ? \"',\n",
              " 'bessie rispondere che stare benissimo . \"',\n",
              " 'se così essere , dovere avere uno aria molto allegro .',\n",
              " 'venite qui , signorina Jane ; vi chiamare Jane , giusto ? \"',\n",
              " '\" sissignore .',\n",
              " 'Jane eyre . \"',\n",
              " '\" ma voi avere piantare , signorina Jane eyre .',\n",
              " 'sapere dire perché ?',\n",
              " 'vi fare male qualcosa ? \"',\n",
              " '\" no , signore . \"',\n",
              " '\" ah !',\n",
              " 'forse piangere perché non essere potere uscire in carrozza con il signora , \" intervenire bessie . \"',\n",
              " 'non credere proprio !',\n",
              " 'essere troppo grande per simile capriccio . \"',\n",
              " \"anch' io lo pensare così .\",\n",
              " 'allora , ferire nel mio amore proprio dalla falso accusa , replicare al volo : \" in vita mio , non avere mai piantare per uno cosa del genere .',\n",
              " 'io odiare uscire in carrozza .',\n",
              " 'piangere perché essere infelice \" . \"',\n",
              " 'oh , via , signorina ! \"',\n",
              " 'dire bessie .',\n",
              " \"il buon farmacista sembrare uno po' perplesso .\",\n",
              " 'essere in piede davanti a lui : mi guardare fisso .',\n",
              " 'il suo occhio essere piccolo e grigio , non molto brillante , ma adesso , col senno di poi , potere considerare acuto .',\n",
              " 'avere uno viso dal tratto duro , che lasciare però trapelare uno natura buono .',\n",
              " 'mi scrutare , senza fretta , poi dire : \" che cosa essere che vi avere fare ammalare , ieri ? \"',\n",
              " '. \"',\n",
              " 'essere cadere , \" dire bessie , intervenire di nuovo a sproposito . \"',\n",
              " 'caduta !',\n",
              " 'e come ?',\n",
              " 'essere ritornare lattante ?',\n",
              " 'alla suo età non essere capace di camminare da solo ?',\n",
              " 'avere otto o nove anno . \"',\n",
              " '\" mi avere buttare a terra , \" essere il mio schietto spiegazione , strappatami da uno altro fitta di orgoglio ferito , \" ma non essere per questo che mi essere ammalare , \" aggiunsi mentre mr Lloyd prendere uno pizzico di tabacco .',\n",
              " 'stare riporre il tabacchiera nel taschino del panciotto , quando risuonare forte il campana per il pranzo della servitù .',\n",
              " 'comprese di cosa si trattare . \"',\n",
              " 'essere per voi , tata , \" dire , \" andare pure ; aspettare qui il vostro ritorno e intanto ne approfittare per fare uno certo discorsetto a Miss eyre . \"',\n",
              " 'bessie avere preferire rimanere , ma il toccò andare , perché a gateshead Hall il puntualità al pasto essere rigidamente osservare . \"',\n",
              " 'se non essere stare il caduta a fare ammalare , allora che cosa essere stare ? \"',\n",
              " 'continuare mr Lloyd quando bessie se ne essere andare . \"',\n",
              " 'dopo che si essere fare buio , mi avere rinchiudere in uno stanza dove c\\' essere uno fantasma . \"',\n",
              " 'vidi mr Lloyd sorridere e accigliarsi al tempo stesso . \"',\n",
              " 'uno fantasma !',\n",
              " 'certo , in fin del conto essere pur sempre uno bambina !',\n",
              " 'avere paura del fantasma ? \"',\n",
              " '\" del fantasma di mr reed , sì .',\n",
              " 'essere morire in quello stanza ed essere lì che lo avere lasciare esporre .',\n",
              " 'di notte non ci entrare né bessie né il altri , se potere fare a meno ; essere stare crudele chiudere là dentro da solo , senza nemmeno uno candela , così crudele che secondo me non lo dimenticare mai . \"',\n",
              " '\" sciocchezze !',\n",
              " 'ed essere questo che vi rendere tanto infelice ?',\n",
              " 'anche adesso che essere giorno avere paura ? \"',\n",
              " '\" no , ma tra uno po\\' tornare il notte .',\n",
              " 'e poi , io essere infelice , molto infelice , per altro motivo . \"',\n",
              " '\" quale altro motivo ?',\n",
              " 'potere dirmene qualcuno ? \"',\n",
              " 'come avere volere dare uno risposta esauriente a questo domanda !',\n",
              " 'e come essere difficile mettere insieme , questo risposta !',\n",
              " 'il bambino avere il loro sentimento , ma essere incapace di analizzare ; e se in parte ci riuscire , col pensiero , non sapere poi come esprimere con parola il risultato del processo .',\n",
              " 'eppure , per paura di perdere questo primo e unico occasione di alleviare il mio pena condividendola con qualcuno , riuscii , dopo uno momento di turbamento , a formulare uno risposta misero ma molto sincerare possibile . \"',\n",
              " 'prima di tutto , non avere né padre né madre , né fratello né sorella . \"',\n",
              " '\" però avere uno zia e del cugino affettuoso . \"',\n",
              " 'mi fermare di nuovo ; poi balbettai , confusamente : \" ma essere stare John reed a buttarmi a terra e mio zia a chiudere nella camera rosso \" .',\n",
              " 'mr Lloyd , per il secondo volta , tirare fuori il tabacchiera . \"',\n",
              " 'non pensare che gateshead Hall essere uno casa bello ? \"',\n",
              " 'chiedere . \"',\n",
              " 'non vi sentire fortunato a potere vivere in uno posto del genere ? \"',\n",
              " '\" non essere casa mio , signore ; e abbot dire che avere meno diritto di uno serva di stare qui . \"',\n",
              " '\" bah !',\n",
              " 'non essere tanto scioccare da volere lasciare uno posto così splendido ! \"',\n",
              " '\" se avere uno qualsiasi altro posto dove andare , essere contento di lasciare ; ma non potere andare via da gateshead Hall fino a quando non essere grande . \"',\n",
              " '\" forse potere ... chissà ?',\n",
              " 'avere altro parente oltre a mrs reed ? \"',\n",
              " '\" non mi parere , signore . \"',\n",
              " '\" nessuno da parte di vostro padre ? \"',\n",
              " '\" non lo sapere .',\n",
              " 'lo avere chiedere a zia reed uno volta , e lei mi avere dire che forse avere del parente povero , di origine modesto , che di cognome fare eyre , ma che di loro non sapere niente . \"',\n",
              " '\" se così essere , vi piacere andare a stare da loro ? \"',\n",
              " 'ci pensare su .',\n",
              " 'il povertà fare paura al adulto , ancora molto al bambino , perché non immaginare proprio che potere esistere uno povertà attivo , laborioso e rispettabile ; a quello parola collegare soltanto vestito stracciare , cibo insufficiente , focolari senza fuoco , maniera volgare e vizio deprecabile .',\n",
              " 'per me , povertà essere sinonimo di degrado . \"',\n",
              " 'no , non mi piacere stare con gente povero , \" essere il mio risposta . \"',\n",
              " 'nemmeno se essere gentile con voi ? \"',\n",
              " 'scuotere il testa .',\n",
              " 'non riuscivo a vedere come il povero potere essere gentile ; e poi imparare a parlare come loro , adottare il loro modo , essere maleducato , venire su come uno di quelle povero donna che a volta vedere allattare il proprio bambino o lavare il panno sulla porta della baracca del villaggio di gateshead .',\n",
              " 'no , non essere abbastanza eroico per conquistare il libertà al prezzo della classe sociale . \"',\n",
              " 'ma il vostro parente essere davvero così povero ?',\n",
              " 'non avere uno lavoro ? \"',\n",
              " '\" non sapere .',\n",
              " 'zia reed dire che , se questo parente esistere , essere di sicuro uno branco di mendicante .',\n",
              " 'parlare come di uno posto dove il signorina sedere dritta come fuso , indossare busto per correggere il postura e dovere essere oltremodo raffinato e preciso .',\n",
              " 'John reed odiare il suo scuola e trattare male il suo insegnante ; ma il gusto di John reed non fare testo per me , e se il notizia di bessie sulla disciplina scolastico ( raccogliere dalla signorina di uno famiglia dove essere vivere prima di venire a gateshead ) essere alquanto impressionare , il particolare sul risultato raggiungere da quelle stesso signorine essere , al mio occhio , non meno attraente .',\n",
              " \"millantare il loro quadro meraviglioso , raffiguranti paesaggio e fiore , il canzone che sapere cantare , il brano che sapere suonare , il borsetta che sapere lavorare all' uncinetto , il libro francese che sapere tradurre .\",\n",
              " \"nell' ascoltare mi venire volere di essere come loro .\",\n",
              " 'e poi il scuola essere stare uno cambiamento totale : implicare uno lungo viaggio , uno separazione netto da gateshead , il ingresso in uno vita nuovo . \"',\n",
              " 'sì , credere che mi piacere andare a scuola , \" essere il conclusione pronunciare in coda alla mio riflessione . \"',\n",
              " 'bene !',\n",
              " 'bene !',\n",
              " 'chissà cosa ci riservare il futuro ! \"',\n",
              " 'dire mr Lloyd alzandosi . \"',\n",
              " 'questo bambina dovere cambiare aria e ambiente , \" aggiungere fra sé , \" il suo nervo non essere in buono stato . \"',\n",
              " 'in quello momento tornare bessie e , nel stesso istante , si sentire il rumore della carrozza sulla ghiaia del viale . \"',\n",
              " 'essere il signora , tata ? \"',\n",
              " 'chiedere mr Lloyd . \"',\n",
              " 'gradire parlare con lei , prima di andare via . \"',\n",
              " 'bessie lo invitare ad accomodare nella sala da pranzo e lo fare strada .',\n",
              " 'durante il colloquio che poi avere con mrs reed , immagino , dare il conseguenza , che il farmacista si arrischiare a consigliare di mandare a scuola .',\n",
              " 'e senza dubbio il consiglio essere accogliere con uno certo entusiasmo perché uno sera , mentre essere sedere a cucire nella stanza del bambino , dopo che mi avere mettere a letto e mi credere addormentare , abbot dire a bessie , al riguardo : \" il signora essere , come dire , ben contento di sbarazzare di uno bambina così noioso e malaticcio , che avere sempre il aria di spiare tutto e tutti e di ordire subdolo complotto \" .',\n",
              " 'immagino che abbot mi considerare uno specie di guy fawkes in erba .',\n",
              " \"in quella stesso occasione venire a sapere per il primo volta , da alcun confidenza che Miss abbot avere fare a bessie , che mio padre essere stare uno povero pastore anglicano ; che mio madre lo avere sposare contro il volere del suoi , il quali considerare il matrimonio al di sotto della suo condizione ; che mio nonno reed si infuriare così tanto per il suo disobbedienza che il diseredò , lasciandola senza un scellino ; che uno anno dopo il matrimonio mio padre contrarre il tifo visitare il povero della grande città industriale dove si trovare il suo parrocchia e dove a quello tempo essere dilagare il epidemia ; che mio madre essere contagiare da lui e che morire entrambi , a uno mese di distanza il uno dall' altra .\",\n",
              " 'bessie , dopo avere sentire questo storia , sospirò e dire : \" povera Miss Jane , essere proprio da compatire , abbot \" . \"',\n",
              " 'sì , \" rispondere abbot , \" se essere uno bambina simpatico e grazioso si potere anche provare compassione per il suo disgrazia ; ma essere davvero impossibile preoccupare di uno rospo del genere . \"',\n",
              " '\" certo , non essere uno granché , \" convenire bessie , \" comunque uno bellezza come Miss georgiana , nella stesso situazione , essere molto molto commovente . \"',\n",
              " '\" sì , io andare pazzo per Miss georgiana ! \"',\n",
              " 'si infervorare abbot . \"',\n",
              " 'piccola caro !',\n",
              " 'con il suo boccolo lungo , il occhio azzurro e quello colorito delicato .',\n",
              " 'sembrare uno quadro !',\n",
              " 'bessie , per cena avere volere di uno tartina al formaggio . \"',\n",
              " '\" anch\\' io ... con uno cipolla arrostita .',\n",
              " 'venite , scendere . \"',\n",
              " 'e se ne andare .',\n",
              " 'dalla mio conversazione con mr llyod e dal colloquio sopra riportare tra bessie e abbot , raccolsi elemento a sufficienza per potere sperare che il cosa si essere mettere per il meglio .',\n",
              " \"il cambiamento essere nell' aria : il desideravo e lo aspettare in silenzio , ma tardare ad arrivare .\",\n",
              " 'passare il giorno e il settimana .',\n",
              " 'mi essere rimettere in salute , ma del principale oggetto del mio pensiero non si parlare molto .',\n",
              " 'mrs reed a volta mi scrutare con sguardo severo , ma non mi rivolgere parola quasi mai .',\n",
              " 'da quando essere stare male , avere tracciare , tra me e il suo figlio , uno linea di separazione molto marcato del solito , relegandomi in uno stanzino dove dormivo da solo e costringere a mangiare per conto mio e a trascorrere il mio giornata nella stanza del bambino , mentre il mio cugino essere sempre in salotto .',\n",
              " 'non accennare mai , comunque , alla possibilità di mandare a scuola .',\n",
              " \"eppure sentivo per istinto , ne avere quasi il certezza , che io e lei , sotto il stesso tetto , essere durare poco ; infatti il suo sguardo , ora molto che mai , quando si posare su di me , esprimere uno avversione così profondo che non c' essere modo di vincere .\",\n",
              " 'eliza e georgiana , obbedire evidentemente al suo ordine , mi parlare il meno possibile .',\n",
              " 'John , appena mi vedere , assumere uno atteggiamento canzonatorio e uno volta provare a picchiare , ma quando io , di istinto , mi rivoltare , spingere da quello stesso sentimento di rabbia profondo e di ribellione disperato che già uno volta , in passato , mi avere fare salire il sangue al cervello , pensare bene di lasciare perdere e di scappare via maledicendomi tra il dente e giurare che lo avere spaccare il naso .',\n",
              " 'in effetto avere mirare a quello sporgenza uno potenziale colpo con tutto il forza di cui il mio nocche essere capace ; e quando mi essere accorgere che né quello né il mio sguardo lo avere intimidire avere il tentazione forte di mettere in atto il minaccia , ma intanto lui essere già correre dalla suo mamma .',\n",
              " 'il sentii raccontare in tono piagnucoloso che quella \" schifosa di Jane eyre \" lo avere aggredire come uno gatta furioso , ma essere interrompere in modo abbastanza brusco : \" John , non parlare di lei .',\n",
              " 'ti avere dire di non avvicinare .',\n",
              " 'non essere degno della nostro attenzione .',\n",
              " 'non volere che tu e il tuo sorella stare con lei \" .',\n",
              " 'a questo punto , sporgendomi dalla balaustra , gridai all\\' improvviso , senza pensare per niente a quello che dire : \" essere loro a non essere degno della mio compagnia \" .',\n",
              " 'mrs reed essere uno donna ben piazzato ; tuttavia , nell\\' udire questo singolare e audace dichiarazione , si precipitare su per il scala , mi prendere e mi trascinare come uno turbine nella stanza del bambino e , schiacciandomi contro il sponda del mio lettino , mi intimare , con enfasi , di non muovermi di lì e di non pronunciare uno solo sillaba per tutto il resto della giornata . \"',\n",
              " 'che vi dire il zio reed , se essere vivo ? \"',\n",
              " 'il domanda mi scappare di bocca senza potere fare nulla .',\n",
              " 'dire che mi scappare senza potere fare nulla perché sembrare che il mio lingua pronunciare quello parola senza che avere datare loro il permesso di uscire .',\n",
              " 'c\\' essere qualcosa che mi fare parlare e che io non riuscivo a controllare . \"',\n",
              " 'cosa avere dire ? \"',\n",
              " 'dire mrs reed sottovoce .',\n",
              " 'il suo occhio grigio , di solito freddo e impassibile , sembrare velare di paura .',\n",
              " 'tirare via il mano dal mio braccio e mi fissare come per cercare di capire celebrare con il allegria tipico della festa .',\n",
              " 'essere scambiare il regalo e venire datare pranzi e ricevimento serale .',\n",
              " \"io , ovviamente , essere escludere da ogni divertimento ; il mio parte di diletto consistere nell' assistere al preparativo giornaliero di eliza e georgiana e nel vedere scendere in salotto con addossare abitare di mussola leggero e alla vita fascia scarlatte e con il capello arricciare ad arte , e poi nell' ascoltare il musica del pianoforte o dell' arpa suonare dabbasso , il andirivieni di maggiordomo e domestico , il tintinnare di cristallo e porcellana al momento di servire il rinfresco , il brusio intermittente della conversazione che mi arrivare quando si aprire e si chiudere il porta del salotto .\",\n",
              " 'quando mi stancare di questo occupazione mi ritirare , dalla cima della scala , nella stanza del bambino , che essere solitario e silenzioso : lì mi sentire triste , ma almeno non essere infelice .',\n",
              " \"a dire il vero , non avere il benché minimo voglia di stare in mezzo alla gente , perché quando stare in mezzo alla gente non mi calcolare mai nessuno ; e se bessie essere stare uno po' molto gentile e di compagnia , di sicuro avere considerare un spasso trascorrere il mio serata con lei , in tranquillità , invece che passare sotto il sguardo terrificante di mrs reed , in uno stanza pieno di signore e di signore .\",\n",
              " 'ma non appena finiva di vestire il suo padroncine , bessie essere solere sparire nella animato regione della cucina e della stanza della governante , portare appressare anche il candela .',\n",
              " \"allora me ne stare sedere con il bambola sulla ginocchio finché il fuoco non si affievolire e , di tanto in tanto , mi guardare attorno per accertarmi che in quello stanza pieno di ombra non ci essere nessun' altro creatura a parte me .\",\n",
              " 'e quando il brace si incupire spegnendosi , mi svestire in fretta sciogliere come potere nodo e laccio e cercavo riparo dal freddo e dal buio nel mio lettino .',\n",
              " \"portare sempre a letto con me il mio bambola : il essere umano avere bisogno di amare qualcosa , così , in mancanza di uno oggetto molto degno a cui affezionarmi , trovare uno po' di diletto nell' amare e vezzeggiare uno feticcio sbiadito , logoro come un spaventapasseri in miniatura .\",\n",
              " 'mi riempiere di stupore , oggi , ricordare con che assurdo sincerità adorare questo povero bambola , che a momento mi sembrare vivo e dotare di senso .',\n",
              " \"non riuscivo a addormentarmi finché non lo avere avvolgere nella mio camicia da notte ; e solo quando se ne stare lì , al sicuro e al calduccio , mi sentire uno po' felice pensare che lo essere anche lei .\",\n",
              " 'il ora passare lento mentre aspettare che il ospite se ne andare e mentre cercare di sentire il rumore del passo di bessie su per il scala .',\n",
              " 'a volta salivare per cercare il ditale o il forbice , o magari per portare qualcosa per cena \\x96 uno panino o uno fetta di torta di ricotta \\x96 , e in quello caso si sedere sul letto mentre mangiare ; quando avere finire , mi rimboccare il coperta e uno paio di volta mi baciare dire : \" buono notte , signorina Jane \" .',\n",
              " 'quando avere questo modo gentile , bessie essere al mio occhio il creatura molto bello , bravo e buono del mondo .',\n",
              " 'in quello momento desiderare con tutto me stesso che essere sempre così affettuoso e amabile e il smettesse di sottopormi , come suo solito , a imposizione , rimprovero e richiesta assurdo .',\n",
              " \"credere che bessie Lee essere uno ragazza dotare , per natura , di molto qualità , perché riuscire in tutto quello che fare e avere uno vero e proprio talento nel raccontare storia , o almeno così mi sembrare , a giudicare dall' effetto che sortire su di me il suo fiaba .\",\n",
              " 'essere anche grazioso , se il ricordo che avere del suo viso e della suo persona essere esigere .',\n",
              " 'me lo ricordo giovane e slanciato , con il capello nero e il occhio scuro , il lineamento molto delicato e il pelle bello e luminoso ; però di carattere essere capriccioso e impulsivo e sul principe e il giustizia avere idea inadeguato .',\n",
              " 'eppure , anche così come essere , il preferivo a tutto il altro abitante di gateshead Hall .',\n",
              " 'essere il quindici gennaio , verso il nove del mattino .',\n",
              " 'bessie essere scendere a fare colazione , il mio cugino non essere ancora stare convocare dalla loro mamma , eliza si stare infilare uno cuffia e uno cappottaccio caldo per uscire a dare da mangiare al pollo , uno del suo passatempo preferito , come lo essere anche vendere il uovo alla governante e mettere da parte il soldo che guadagnare .',\n",
              " 'avere un spiccato senso del affare e uno notevole propensione al risparmio , che si manifestare non solo nella vendita di uovo e di pollo ma anche nella sudato trattativa che condurre , su bulbo , sementi e talee , con il giardiniere , che infatti avere il ordine da mrs reed di comprare dalla padroncina tutto il prodotto del suo orto , ogni qualvolta lei volere venderglieli .',\n",
              " 'ed eliza si essere vendere pure il capello che avere in testa se lo avere fruttare uno bel gruzzoletto .',\n",
              " \"il suo soldo all' inizio lo ficcare in strano nascondigli , dopo avere avvolgere in uno cencio o in vecchio pezzo di carta per arricciare il capello .\",\n",
              " 'poi però il domestica avere scovare alcuni di questo gruzzolo , così eliza , per paura di perdere , uno giorno o il altro , il suo prezioso tesoro , acconsentire ad affidare alla madre , a uno tasso di interesse da usurai \\x96 dal cinquanta al sessanta per cento \\x96 che riscuotere ogni trimestre , prendendone noto in uno libricino con meticoloso precisione .',\n",
              " 'georgiana essere sedere su un sgabello alto , si sistemare il capello davanti al specchio e intrecciare nel suo ricciolo fiore finto e piume scolorite che avere trovare , in gran quantità , dentro uno cassetto in soffitta .',\n",
              " 'io rifare il letto , vistare che bessie mi avere datare il ordine tassativo di sistemare prima che lei tornare ( perché adesso bessie mi impiegare spesso come uno specie di sottobambinaia per riordinare il stanza , spolverare il sedia ecc. )',\n",
              " '.',\n",
              " 'dopo avere stendere per bene il trapunta e piegare il camicia da notte , raggiunsi il sedile della finestra per raccogliere alcun libro illustrato e qualche mobile della casa della bambola che essere rimanere in giro .',\n",
              " 'il ordine improvviso , da parte di georgiana , di lasciare stare il suo gioco ( il seggiolina e il specchietto , il piattino delicato e il tazzina essere di suo proprietà ) porre fine al mio lavoro .',\n",
              " \"così , non avere nient' altro da fare , mi mettere ad alitare sul cristallo di ghiaccio che solcare il finestra per creare un spazio sul vetro da cui potere guardare fuori , dove tutto essere fermo e pietrificato , sotto il azione del gelo intenso .\",\n",
              " 'da questo finestra si vedere il casetta del portiere e il strada carrozzabile .',\n",
              " 'essere appena riuscire a sciogliere alcuni di quello ghiaccioli di argento che appannare il vetrata così da potere guardare fuori , quando vedere il cancello aprire e uno carrozza fare il suo ingresso .',\n",
              " 'il guardai risalire il strada , senza fare troppo caso : a gateshead di carrozza ne arrivare tante , ma nessuna portare mai visitatore che suscitare il mio interesse .',\n",
              " 'si fermare davanti casa , il campanello della porta suonare energicamente e il nuovo arrivato essere fare entrare .',\n",
              " \"siccome il cosa non mi riguardare , il mio attenzione vagabondo essere ben presto attrarre dall' immagine molto movimentare di uno piccolo pettirosso affamato che venire a cinguettare sul ramo spoglio del ciliegio a ridosso del muro vicino alla finestra .\",\n",
              " \"sulla tavola c' essere il resto della mio colazione a base di pane e latte .\",\n",
              " 'avere sbriciolare uno pezzetto di mollica e stare sollevare a fatica il telaio della finestra per mettere il briciola sul davanzale , quando bessie entrare di corsa nella stanza del bambino . \"',\n",
              " 'Miss Jane , togliti il grembiule .',\n",
              " 'cosa stare fare ?',\n",
              " 'ti essere lavare il mano e il faccia , stamattina ? \"',\n",
              " 'prima di rispondere , dare uno altro strattone alla finestra perché volere assicurarmi che il uccellino avere il suo pane .',\n",
              " \"il telaio cedere , spargere il briciola , uno po' sul davanzale in pietra e uno po' sul ramo mi sistemare il capello con uno spazzola dura , mi togliere il grembiule e poi mi spingere in fretta e furia in cima alla scala , intimare di scendere subito perché giù , nella stanza della colazione , mi stare aspettare .\",\n",
              " 'avere volere chiedere chi mi aspettare .',\n",
              " \"avere volere domandare se giù c' essere anche mrs reed .\",\n",
              " \"ma bessie se n' essere già andare e , appena essere uscire , avere chiudere il porta della stanza del bambino alla mio spalla .\",\n",
              " 'scesi lentamente .',\n",
              " 'essere da circa tre mese che mrs reed non mi mandare a chiamare .',\n",
              " 'dopo essere stare relegare per così tanto tempo nella stanza del bambino , il tinello , il sala da pranzo e il salotto essere diventare per me regione pericoloso dove avere il terrore di entrare .',\n",
              " \"mi fermare nell' atrio deserto : davanti a me c' essere il stanza della colazione .\",\n",
              " 'non riuscivo a muovere , tangere essere intimidire e tremare .',\n",
              " 'che creatura miserabile e codardo avere fare di me , in quello giorno , il paura di punizione ingiusto !',\n",
              " 'avere paura di ritornare nella stanza del bambino ma avere paura anche di avanzare verso il salotto .',\n",
              " 'restai fermare per dieci minuto , con il angoscia di chi non sapere cosa fare .',\n",
              " 'il squillo categorico del campanello della colazione mi fare decidere : dovere entrare . \"',\n",
              " 'chi mai mi aspettare ? \"',\n",
              " 'mi chiedere , mentre con tutte e due il mano girare il maniglia rigido che , per qualche secondo , mi opporre resistenza . \"',\n",
              " 'chi ci essere nella stanza , a parte zia reed ?',\n",
              " 'uno uomo o uno donna ? \"',\n",
              " 'il maniglia girò e il porta si aprire ; entrare , fare uno inchino , sollevare il sguardo su ... uno colonna nero !',\n",
              " 'o almeno così mi parere , a primo vista , quella figura dritto , stretto , vestire a lutto che se ne stare in piede , impalare , sul tappeto .',\n",
              " \"il faccia arcigno alla sommità sembrare uno maschera intagliata , piazzare in cima al fusto a mo ' di capitello .\",\n",
              " 'mrs reed essere sedere al suo solito posto vicino al caminetto .',\n",
              " 'mi fare segno di avvicinare .',\n",
              " 'il obbedii e lei mi presentare a quello sconosciuto di pietra dire : \" questa essere il ragazzina per cui mi essere rivoltare a voi \" .',\n",
              " 'lui , perché di uno uomo si trattare , girare piare il testa verso di me e , dopo avere studiare con due occhio grigio e indagatore che scintillare sotto il folte sopraccigliare , dire con solennità e a basso voce : \" essere piccolo di statura .',\n",
              " 'quanto anno avere ? \"',\n",
              " '. \"',\n",
              " 'dieci . \"',\n",
              " '\" così tanti ? \"',\n",
              " 'rispondere con aria dubbioso e proseguire il suo analisi per qualche minuto .',\n",
              " 'subito dopo mi chiedere : \" come ti chiamare , ragazzina ? \"',\n",
              " '. \"',\n",
              " 'Jane eyre , signore . \"',\n",
              " 'nel pronunciare questo parola sollevare il sguardo : mi sembrare uno uomo alto , ma a quello tempo essere molto piccolo .',\n",
              " 'il suo fisionomia essere marcare , duro , severo , come anche il suo corporatura . \"',\n",
              " 'dimmi , Jane eyre , essere uno bravo bambina ? \"',\n",
              " 'impossibile rispondere di sì .',\n",
              " 'tutto il piccolo mondo che mi circondare non lo pensare così .',\n",
              " 'rimare in silenzio .',\n",
              " 'mrs reed rispondere per me , scuotere il testa in modo eloquente e poi aggiungere : \" meno si parlare di questo argomento , meglio essere , mr brocklehurst \" . \\n\\n \"',\n",
              " 'quello che sentire mi addolorare !',\n",
              " 'dovere parlare uno po\\' , io e il bambina \" , quindi abbandonare il posizione verticale e si piazzare nella poltrona di fronte a mrs reed . \"',\n",
              " 'venire qui , \" dire .',\n",
              " 'fare qualche passo sul tappeto ; mi fare mettere davanti a lui , dritto impalata .',\n",
              " 'che fare che avere , ora che si trovare quasi alla stesso altezza della mio !',\n",
              " 'che naso enorme !',\n",
              " 'e che bocca !',\n",
              " 'e quello dentone sporgente ? \"',\n",
              " 'non c\\' essere niente di molto triste che vedere uno bambino cattivo , \" esordire , \" figurare uno bambina cattivo !',\n",
              " 'saio dove andare a finire il cattivi quando morire ? \"',\n",
              " '\" andare all\\' inferno , \" essere il mio risposta , pronto e ortodosso . \"',\n",
              " 'e che cosa essere il inferno ?',\n",
              " 'lo sapere ? \"',\n",
              " '\" essere uno pozzo pieno di fuoco . \"',\n",
              " '\" e ti piacere cadere in quello pozzo e bruciarvi per sempre ? \"',\n",
              " '\" no , signore . \"',\n",
              " '\" che cosa dovere fare per evitare ? \"',\n",
              " 'ci pensare su , per qualche momento .',\n",
              " 'il risposta , quando arrivare , suonò discutibile : \" dovere cercare di stare bene e non morire \" . \"',\n",
              " 'e come pensare di stare bene ?',\n",
              " 'ogni giorno morire bambino molto piccolo di te .',\n",
              " 'solo uno paio di giorno fa avere seppellire uno bimbo di cinque anno .',\n",
              " 'essere uno bimbo buono e il suo anima adesso essere in paradiso .',\n",
              " 'temere che non si potere dire il stesso cosa di te , se essere chiamare nell\\' aldilà . \"',\n",
              " 'non essere in grado di fugare il suo dubbio , così mi limitare ad abbassare il sguardo sul due enorme piede piantare sul tappeto e a sospirare , augurandomi di essere ancora molto lontano da quello momento . \"',\n",
              " 'sperare che quello sospiro ti venire dal cuore e che ti pentire di avere procurare tanto dispiacere alla tuo generosissima benefattrice . \"',\n",
              " '\" benefattrice !',\n",
              " 'benefattrice ! \"',\n",
              " 'dire tra me e me . \"',\n",
              " 'tutti chiamare mrs reed il mio benefattrice ; se il cosa stare così , allora per benefattrice si intendere qualcosa di molto sgradevole . \"',\n",
              " '\" dire il preghiera mattina e sera ? \"',\n",
              " 'proseguire il mio inquisitore . \"',\n",
              " 'sì , signore . \"',\n",
              " '\" il bibbia il legge ? \"',\n",
              " '\" qualche volta . \"',\n",
              " '\" e ti piacere ?',\n",
              " 'ti appassionare ? \"',\n",
              " '\" mi piacere il apocalisse , il libro di Daniele , il genesi e samuele , poi anche uno pezzetto dell\\' esodo e alcun parto del re e della cronache , e giobbe e gionata . \"',\n",
              " '\" e il salmi ?',\n",
              " 'ti piacere , sì ? \"',\n",
              " '\" no , signore . \"',\n",
              " '\" no ?',\n",
              " 'ma essere terribile !',\n",
              " 'avere uno ragazzino , molto piccolo di te , che conoscere sei salmo a memoria .',\n",
              " 'e quando lo si chiedere cosa preferire fare , se mangiare uno panino al zenzero o imparare il verso di uno salmo , lui rispondere : \\x91oh !',\n",
              " 'il verso del salmo !',\n",
              " \"il angelo cantare il salmo ' .\",\n",
              " \"dire : \\x91io volere essere uno angioletto quaggiù sulla terra ' .\",\n",
              " 'e così ricevere due panino come ricompensa della suo devozione infantile . \"',\n",
              " '\" il salmi non essere interessante , \" osservai . \"',\n",
              " 'questo dimostrare che avere uno cuore malvagio .',\n",
              " 'dovresti pregare dio di cambiartelo e di dartene uno e di stare attento al suo peggior difetto : uno certo propensione alla falsità .',\n",
              " 'lo dire qui , in tuo presenza , Jane , che non ti passare per il testa di provare a ingannare mr brocklehurst . \"',\n",
              " 'avere tutto il ragione del mondo per temere mrs reed , tutto il ragione per detestarla ; perché essere molto forte di lei ferirmi senza pietà .',\n",
              " 'in suo presenza non potere mai stare tranquillo .',\n",
              " 'per quanto cercare di obbedirle , per quanto fare di tutto per piacere , tutto il mio tentativo venire ogni volta respingere e ripagare con giudizio di questo tipo .',\n",
              " \"stavolta il accusa , pronunciare pure davanti a uno estraneo , mi ferire nell' intimo .\",\n",
              " 'ebbi il vago sensazione che quello donna stesso già cancellare ogni speranza che nutrivo per quella nuovo vita a cui mi destinare .',\n",
              " 'sentivo , anche se non sapere dare uno nome a questo sensazione , che stare seminare avversione e malevolenza sul mio cammino futuro .',\n",
              " 'mi vedere trasformare , al occhio di mr brocklehurst , in uno bambina subdolo e corrotto , e a questo punto come fare a rimediare al danno ? \"',\n",
              " 'niente da fare , \" pensai , mentre cercare di soffocare uno singhiozzo e mi asciugare in fretta alcun lacrima , prova impotente della mio angoscia . \"',\n",
              " 'il falsità , in uno bambino , essere davvero uno brutto difetto , \" dire mr brocklehurst , \" essere parente della menzogna e tutto il bugiardo essere destinare a finire nel lago di fuoco e zolfo .',\n",
              " 'a ogni modo , mrs reed , lo fare sorvegliare .',\n",
              " 'ne parlare con Miss temple e con il insegnante . \"',\n",
              " '\" volere che essere educare conformemente alla vita che lo aspettare , \" continuare il mio benefattrice , \" che lo insegnare a rendere utile e a mostrare umile .',\n",
              " 'e il vacanza , se essere di accordo , lo trascorrere sempre a lowood . \"',\n",
              " '\" il vostro decisione essere molto sensato , signora , \" replicare mr brocklehurst . \"',\n",
              " 'il umiltà essere uno virtù cristiano , uno qualità precipua della allieva di lowood .',\n",
              " 'infatti avere datare direttiva ben preciso perché tra il ragazza lo si coltivare con grande cura e impegno .',\n",
              " \"avere esaminare quale essere il modo migliore per mortificare in loro il sentimento mondano dell' orgoglio .\",\n",
              " 'proprio il altro giorno avere avere uno gratificante conferma del mio successo .',\n",
              " 'Augusta , il mio secondogenita , essere venire con suo madre a visitare il scuola e , al ritorno , avere esclamare : \\x91oh , caro papà , che aria pacato e dimesso avere il ragazza di lowood , con il capello raccogliere dietro il orecchio , il grembiule lungo e il taschine di tela sopra il vestito .',\n",
              " 'quasi quasi sembrare figlia di poveraccio !',\n",
              " 'e poi , \\' avere aggiuntare , \\x91guardavano il mio vestito e quello della mamma come se in vita loro non avere mai vistare uno abito di seta \\' . \"',\n",
              " '\" su questo genere di cosa , essere perfettamente di accordo con voi , \" replicare mrs reed , \" se avere battere tutto il Inghilterra , non avere potere trovare uno sistema molto adatto a uno bambina come Jane eyre .',\n",
              " 'rigore , mio caro mr brocklehurst !',\n",
              " 'ci volere rigore in tutto il cosa . \"',\n",
              " '\" il rigore , signora , essere il primo fra il dovere cristiano , e nella scuola di lowood ogni disposizione essere all\\' insegna del rigore : cibo frugale , abitare sobrio , alloggio semplice , attitudine alla disciplina e al lavoro .',\n",
              " 'essere questo il ordine del giorno per il casa e il suo ospite . \"',\n",
              " '\" perfetto , signore .',\n",
              " 'potere quindi sperare che questo bambina venire ammettere come allieva a lowood e essere educare tenere conto della suo condizione e della suo prospettiva ? \"',\n",
              " '\" certo , signora .',\n",
              " 'avere uno posto in quello vivaio di pianta selezionare e essere sicuro che si mostrare grato per il inestimabile privilegio di essere stare scegliere . \"',\n",
              " '\" allora ve lo mandare il primo possibile , mr brocklehurst , perché vi assicurare che non vedere il ora di essere sollevare da uno responsabilità che stare diventare troppo pesante per me . \"',\n",
              " '\" quello che sentire mi addolorare !',\n",
              " 'dovere parlare uno po\\' , io e il bambina \" , quindi abbandonare il posizione verticale e si piazzare nella poltrona di fronte a mrs reed . \"',\n",
              " 'venire qui , \" dire .',\n",
              " 'fare qualche passo sul tappeto ; mi fare mettere davanti a lui , dritto impalata .',\n",
              " 'che fare che avere , ora che si trovare quasi alla stesso altezza della mio !',\n",
              " 'che naso enorme !',\n",
              " 'e che bocca !',\n",
              " 'e quello dentone sporgente ? \"',\n",
              " 'non c\\' essere niente di molto triste che vedere uno bambino cattivo , \" esordire , \" figurare uno bambina cattivo !',\n",
              " 'saio dove andare a finire il cattivi quando morire ? \"',\n",
              " '\" andare all\\' inferno , \" essere il mio risposta , pronto e ortodosso . \"',\n",
              " 'e che cosa essere il inferno ?',\n",
              " 'lo sapere ? \"',\n",
              " '\" essere uno pozzo pieno di fuoco . \"',\n",
              " '\" e ti piacere cadere in quello pozzo e bruciarvi per sempre ? \"',\n",
              " '\" no , signore . \"',\n",
              " '\" che cosa dovere fare per evitare ? \"',\n",
              " 'ci pensare su , per qualche momento .',\n",
              " 'il risposta , quando arrivare , suonò discutibile : \" dovere cercare di stare bene e non morire \" . \"',\n",
              " 'e come pensare di stare bene ?',\n",
              " 'ogni giorno morire bambino molto piccolo di te .',\n",
              " 'solo uno paio di giorno fa avere seppellire uno bimbo di cinque anno .',\n",
              " 'essere uno bimbo buono e il suo anima adesso essere in paradiso .',\n",
              " 'temere che non si potere dire il stesso cosa di te , se essere chiamare nell\\' aldilà . \"',\n",
              " 'non essere in grado di fugare il suo dubbio , così mi limitare ad abbassare il sguardo sul due enorme piede piantare sul tappeto e a sospirare , augurandomi di essere ancora molto lontano da quello momento . \"',\n",
              " 'sperare che quello sospiro ti venire dal cuore e che ti pentire di avere procurare tanto dispiacere alla tuo generosissima benefattrice . \"',\n",
              " '\" benefattrice !',\n",
              " 'benefattrice ! \"',\n",
              " 'dire tra me e me . \"',\n",
              " 'tutti chiamare mrs reed il mio benefattrice ; se il cosa stare così , allora per benefattrice si intendere qualcosa di molto sgradevole . \"',\n",
              " '\" dire il preghiera mattina e sera ? \"',\n",
              " 'proseguire il mio inquisitore . \"',\n",
              " 'sì , signore . \"',\n",
              " '\" il bibbia il legge ? \"',\n",
              " '\" qualche volta . \"',\n",
              " '\" e ti piacere ?',\n",
              " 'ti appassionare ? \"',\n",
              " '\" mi piacere il apocalisse , il libro di Daniele , il genesi e samuele , poi anche uno pezzetto dell\\' esodo e alcun parto del re e della cronache , e giobbe e gionata . \"',\n",
              " '\" e il salmi ?',\n",
              " 'ti piacere , sì ? \"',\n",
              " '\" no , signore . \"',\n",
              " '\" no ?',\n",
              " 'ma essere terribile !',\n",
              " 'avere uno ragazzino , molto piccolo di te , che conoscere sei salmo a memoria .',\n",
              " 'e quando lo si chiedere cosa preferire fare , se mangiare uno panino al zenzero o imparare il verso di uno salmo , lui rispondere : \\x91oh !',\n",
              " 'il verso del salmo !',\n",
              " \"il angelo cantare il salmo ' .\",\n",
              " \"dire : \\x91io volere essere uno angioletto quaggiù sulla terra ' .\",\n",
              " 'e così ricevere due panino come ricompensa della suo devozione infantile . \"',\n",
              " '\" il salmi non essere interessante , \" osservai . \"',\n",
              " 'questo dimostrare che avere uno cuore malvagio .',\n",
              " 'dovresti pregare dio di cambiartelo e di dartene uno e di stare attento al suo peggior difetto : uno certo propensione alla falsità .',\n",
              " 'lo dire qui , in tuo presenza , Jane , che non ti passare per il testa di provare a ingannare mr brocklehurst . \"',\n",
              " 'avere tutto il ragione del mondo per temere mrs reed , tutto il ragione per detestarla ; perché essere molto forte di lei ferirmi senza pietà .',\n",
              " 'in suo presenza non potere mai stare tranquillo .',\n",
              " 'per quanto cercare di obbedirle , per quanto fare di tutto per piacere , tutto il mio tentativo venire ogni volta respingere e ripagare con giudizio di questo tipo .',\n",
              " \"stavolta il accusa , pronunciare pure davanti a uno estraneo , mi ferire nell' intimo .\",\n",
              " 'ebbi il vago sensazione che quello donna stesso già cancellare ogni speranza che nutrivo per quella nuovo vita a cui mi destinare .',\n",
              " 'sentivo , anche se non sapere dare uno nome a questo sensazione , che stare seminare avversione e malevolenza sul mio cammino futuro .',\n",
              " 'mi vedere trasformare , al occhio di mr brocklehurst , in uno bambina subdolo e corrotto , e a questo punto come fare a rimediare al danno ? \"',\n",
              " 'niente da fare , \" pensai , mentre cercare di soffocare uno singhiozzo e mi asciugare in fretta alcun lacrima , prova impotente della mio angoscia . \"',\n",
              " 'il falsità , in uno bambino , essere davvero uno brutto difetto , \" dire mr brocklehurst , \" essere parente della menzogna e tutto il bugiardo essere destinare a finire nel lago di fuoco e zolfo .',\n",
              " 'a ogni modo , mrs reed , lo fare sorvegliare .',\n",
              " 'ne parlare con Miss temple e con il insegnante . \"',\n",
              " '\" volere che essere educare conformemente alla vita che lo aspettare , \" continuare il mio benefattrice , \" che lo insegnare a rendere utile e a mostrare umile .',\n",
              " 'e il vacanza , se essere di accordo , lo trascorrere sempre a lowood . \"',\n",
              " '\" il vostro decisione essere molto sensato , signora , \" replicare mr brocklehurst . \"',\n",
              " 'il umiltà essere uno virtù cristiano , uno qualità precipua della allieva di lowood .',\n",
              " 'infatti avere datare direttiva ben preciso perché tra il ragazza lo si coltivare con grande cura e impegno .',\n",
              " \"avere esaminare quale essere il modo migliore per mortificare in loro il sentimento mondano dell' orgoglio .\",\n",
              " 'proprio il altro giorno avere avere uno gratificante conferma del mio successo .',\n",
              " 'Augusta , il mio secondogenita , essere venire con suo madre a visitare il scuola e , al ritorno , avere esclamare : \\x91oh , caro papà , che aria pacato e dimesso avere il ragazza di lowood , con il capello raccogliere dietro il orecchio , il grembiule lungo e il taschine di tela sopra il vestito .',\n",
              " 'quasi quasi sembrare figlia di poveraccio !',\n",
              " 'e poi , \\' avere aggiuntare , \\x91guardavano il mio vestito e quello della mamma come se in vita loro non avere mai vistare uno abito di seta \\' . \"',\n",
              " '\" su questo genere di cosa , essere perfettamente di accordo con voi , \" replicare mrs reed , \" se avere battere tutto il Inghilterra , non avere potere trovare uno sistema molto adatto a uno bambina come Jane eyre .',\n",
              " 'rigore , mio caro mr brocklehurst !',\n",
              " 'ci volere rigore in tutto il cosa . \"',\n",
              " '\" il rigore , signora , essere il primo fra il dovere cristiano , e nella scuola di lowood ogni disposizione essere all\\' insegna del rigore : cibo frugale , abitare sobrio , alloggio semplice , attitudine alla disciplina e al lavoro .',\n",
              " 'essere questo il ordine del giorno per il casa e il suo ospite . \"',\n",
              " '\" perfetto , signore .',\n",
              " 'potere quindi sperare che questo bambina venire ammettere come allieva a lowood e essere educare tenere conto della suo condizione e della suo prospettiva ? \"',\n",
              " '\" certo , signora .',\n",
              " 'avere uno posto in quello vivaio di pianta selezionare e essere sicuro che si mostrare grato per il inestimabile privilegio di essere stare scegliere . \"',\n",
              " '\" allora ve lo mandare il primo possibile , mr brocklehurst , perché vi assicurare che non vedere il ora di essere sollevare da uno responsabilità che stare diventare troppo pesante per me . \"',\n",
              " \"fiamma si essere spento , avere potere rappresentare altrettanto bene il mio successivo stato di animo , quando uno mezz' ora di silenzio e di riflessione mi avere fare capire il follia della mio condotta e il tristezza della mio condizione di bambina odiata e carico di odio .\",\n",
              " 'essere il primo volta che assaggiare il sapore della vendetta ; essere come uno sorso di vino aromatico che , appena bere , si presentare caldo e robusto , ma poi avere uno retrogusto metallico e corrosivo e mi fare sentire come se essere stare avvelenare .',\n",
              " \"adesso essere andare volentieri da mrs reed a chiedere scusa ; ma sapere , uno po' per esperienza e uno po' per istinto , che quello essere il modo migliore per fare respingere da lei con il doppio del disprezzo , riaccendere così tutto il istinto violento della mio natura .\",\n",
              " 'avere uno gran voglia di esercitare ben altro capacità che non questo eloquenza feroce , uno gran voglia di alimentare sentimento meno ostile di quello cupo collera .',\n",
              " 'prendere uno libro , uno scelta da il mille e uno notte .',\n",
              " 'mi mettere a sedere e provare a leggere .',\n",
              " 'non riuscivo a cogliere il senso di quello che leggere ; il mio pensiero continuare a fluttuare tra me e il pagina di quello libro che mi avere sempre affascinare tanto .',\n",
              " 'aprii il porta a vetro della stanza della colazione : il cespuglio essere completamente immobile .',\n",
              " 'nel parco regnare sovrano uno freddo intenso , senza brina , senza uno raggio di sole né uno alito di vento .',\n",
              " 'mi coprire il testa e il braccio con uno lembo del vestito e uscii a passeggiare in uno angolo riparare del parco .',\n",
              " \"non provare alcun sollievo fra il albero silenzioso , il pigne che cadere , il resto gelato dell' autunno , foglia bruno già ammucchiare dal vento e ora irrigidire in uno unico blocco .\",\n",
              " 'mi appoggiare a uno cancello e guardare uno campo deserto dove non pascolare nessun gregge e il erba raso essere secca e sbiadito .',\n",
              " 'essere uno giornata davvero grigia ; uno cielo opaco e spento , \" foriero di neve \" , si stendere come uno baldacchino su tutto il cosa ; di tanto in tanto cadere qualche fiocco che si posare , senza sciogliere , sul sentiero duro di gelo e sul prato sbiancati .',\n",
              " 'e io , bambina disperato , me ne stare lì , continuare a sospirare tra me : \" che dovere fare ?',\n",
              " 'che dovere fare ? \"',\n",
              " '.',\n",
              " 'all\\' improvviso udire chiaramente uno voce chiamare : \" Miss Jane !',\n",
              " 'dove sei ?',\n",
              " 'venire a pranzo ! \"',\n",
              " '.',\n",
              " 'essere bessie , il riconobbi , ma non mi muovere di lì ; sentii il suo passo leggero lungo il sentiero . \"',\n",
              " 'pestifera di uno bambina ! \"',\n",
              " 'dire . \"',\n",
              " 'perché non venire quando ti si chiamare ? \"',\n",
              " \"il presenza di bessie , in confronto al pensiero che rimuginare dentro , essere quasi confortante ; anche se , come al solito , essere uno po' contrariato .\",\n",
              " 'a dire il vero , dopo il battaglia e il vittoria riportare contro mrs reed , non essere disposto a stare dietro al sbalzo di umore della bambinaia , però essere disposto a riscaldarmi alla giovanile leggerezza del suo cuore .',\n",
              " 'così il abbracciai e dissi : \" su , bessie !',\n",
              " 'non arrabbiatevi \" .',\n",
              " 'uno gesto così spontaneo e audace non essere da me , ma a lei piacere . \"',\n",
              " 'Miss Jane , essere proprio uno bambina strano , \" dire abbassare il sguardo su di me , \" uno esserino senza pace , solitario .',\n",
              " 'andrai a scuola , vero ? \"',\n",
              " 'annuii . \"',\n",
              " 'e non ti dispiacere lasciare il povero bessie ? \"',\n",
              " '\" che lo importare , a bessie , di me ?',\n",
              " 'non fare che sgridarmi . \"',\n",
              " '\" essere che essere uno esserino così strano , spaventare e timido .',\n",
              " 'dovresti essere uno po\\' molto coraggioso . \"',\n",
              " '\" sì , e a che pro ?',\n",
              " 'per prendere ancora molto botte ? \"',\n",
              " '\" sciocchezze !',\n",
              " 'ma che ce lo avere con te , questo essere vero .',\n",
              " 'Mia madre , quando essere venire a trovare il scorso settimana , mi avere dire che non volere proprio che uno del suo figlio essere al posto tuo .',\n",
              " 'ora però andare , avere uno bello notizia da darti . \"',\n",
              " '\" non ci credere , bessie . \"',\n",
              " 'e quindi dovere scegliere quale giocattolo volere portarti via . \"',\n",
              " '\" bessie , dovere promettermi che , fino alla mio partenza , non mi sgridare molto . \"',\n",
              " '\" lo promettere !',\n",
              " 'ma tu cercare di fare il bravo e di non avere molto paura di me .',\n",
              " 'non ti agitare se mi capitare di essere uno po\\' brusco ... essere uno cosa che mi dare sul nervo . \"',\n",
              " '\" no , non credere che avere molto paura di voi , bessie , perché ormai al vostro modo ci essere abituare e presto avere ben altro persona da temere . \"',\n",
              " '\" se il temerai , allora ti prendere in antipatia . \"',\n",
              " '\" come voi , bessie ? \"',\n",
              " '\" ma io non ti avere prendere in antipatia , signorina ; anzi , pensare di volere molto bene a te che a tutto il altri . \"',\n",
              " '\" non lo dare certo a vedere , però . \"',\n",
              " '\" che lingua tagliente !',\n",
              " 'avere uno modo di parlare tutto nuovo .',\n",
              " 'cosa essere che ti rendere così temeraria e coraggioso ? \"',\n",
              " '\" be \\' , presto non ci vedere molto , e poi ... \" stare per dire qualcosa su quello che essere succedere tra me e mrs reed , ma ci ripensare e sull\\' argomento preferii mantenere il silenzio . \"',\n",
              " 'e allora , essere contento di lasciare ? \"',\n",
              " '\" per niente , bessie ; anzi , in questo momento essere piuttosto dispiacere . \"',\n",
              " '\" in questo momento ?',\n",
              " 'piuttosto ?',\n",
              " 'con che freddezza lo dire , il mio piccolo donna di mondo !',\n",
              " 'scommettere che se adesso ti chiedere di dare uno bacio non me lo daresti .',\n",
              " 'diresti che , in questo momento , preferire di no . \"',\n",
              " '\" certo che volere dare uno bacio .',\n",
              " 'abbassatevi . \"',\n",
              " 'bessie si chinare .',\n",
              " 'ci abbracciare , poi il seguii in casa , molto rasserenata .',\n",
              " 'quello pomeriggio passare in pace e in armonia , e il sera bessie mi raccontare alcune della suo storia molto avvincenti e mi cantare il suo canzone molto dolce .',\n",
              " 'anche per me il vita avere qualche raggio di sole .',\n",
              " 'essere appena suonare il cinque , quello mattino del 19 gennaio , quando bessie entrare con uno candela in mano nella mio cameretta e mi trovare già in piede e quasi vestito .',\n",
              " \"mi essere alzare mezz' ora prima e mi essere lavare il faccia e infilare il vestito alla luce di uno mezzaluna ormai al tramonto , il cui raggio filtrare dalla stretto finestra accanto al lettino .\",\n",
              " 'quello giorno avere lasciare gateshead , a bordo della diligenza che passare davanti al cancello della portineria alla sei del mattino .',\n",
              " 'bessie essere il unico persona già in piede ; avere accendere il fuoco nella stanza del bambino e ora mi stare preparare il colazione .',\n",
              " 'essere pochi il bambino che riuscire a mangiare quando essere emozionare al pensiero di uno viaggio ; essere così anche per me .',\n",
              " 'bessie , dopo avere cercare in tutto il modo , ma invano , di fare mangiare qualche cucchiaio di pane e latte caldo che mi avere preparare , avvolse in uno pezzo di carta alcun focaccine e me lo infilare nella borsa ; poi mi aiutare a mettermi pelliccia e cuffia , si avvolgere in un scialle e uscire tutte e due dalla stanza .',\n",
              " 'quando passare davanti alla camera di mrs reed , dire : \\n\\n \" volere entrare a salutare il signora ? \"',\n",
              " '. \"',\n",
              " 'no , bessie .',\n",
              " 'essere venire ieri sera al mio lettino , mentre voi essere scendere a cena , e mi avere dire che non essere necessario che disturbare lei o il cugino , stamane .',\n",
              " 'poi mi avere dire di ricordare che essere sempre stare il mio migliore amico , e quindi di parlare di lei con riconoscenza e di essere grato . \"',\n",
              " '\" e tu cosa lo avere rispondere , signorina ? \"',\n",
              " '\" niente .',\n",
              " 'avere infilare il testa sotto il coperta e mi essere girare verso il muro per non vedere . \"',\n",
              " '\" avere fare male , Miss Jane . \"',\n",
              " '\" avere fare benissimo , bessie .',\n",
              " 'il vostro signora non essere stare mai uno amica per me , bensì uno nemica . \"',\n",
              " '\" oh , Miss Jane !',\n",
              " 'non dire così ! \"',\n",
              " '\" addio , gateshead ! \"',\n",
              " 'esclamai mentre attraversare il atrio e uscire dal portone principale .',\n",
              " 'il luna essere tramontare ed essere buio pesto .',\n",
              " 'bessie reggere uno lanterna che gettare il suo luce sul gradino bagnato e poi sulla ghiaia del viale , madido dopo il recente disgelo .',\n",
              " 'essere uno mattino di inverno umido e freddo .',\n",
              " 'mentre mi affrettare giù per il vialetto , battere il dente .',\n",
              " \"nella casa del portiere c' essere uno luce ; uno volta arrivato , trovare il moglie indaffarato ad accendere il fuoco .\",\n",
              " 'il mio baule , portare giù il sera prima , essere davanti alla porta , ben legato .',\n",
              " 'mancare poco minuto alla sei e , non appena suonare il ora , uno lontano rotolio di ruota annunciare il arrivo della diligenza .',\n",
              " 'andare alla porta e vedere il suo fanale avvicinare rapido attraverso il tenebra . \"',\n",
              " 'parte da solo ? \"',\n",
              " 'chiedere il moglie del portiere . \"',\n",
              " 'sì . \"',\n",
              " '\" essere lontano ? \"',\n",
              " '\" cinquanta miglio . \"',\n",
              " '\" che viaggio lungo !',\n",
              " 'e mrs reed non avere paura di mandare da solo in uno posto così lontano ? \"',\n",
              " 'il diligenza si avvicinare ; eccola davanti al cancello con il suo quattro cavallo e il cabina pieno di passeggero .',\n",
              " 'il postiglione e il cocchiere ci gridare di fare presto .',\n",
              " 'caricare il mio baule e mi strappare dal collo di bessie , a cui mi essere aggrappare per baciare . \"',\n",
              " 'abbiate cura di lei , mi raccomandare ! \"',\n",
              " 'gridare bessie al postiglione che mi stare aiutare a salire a bordo . \"',\n",
              " 'sì , sì ! \"',\n",
              " 'essere il risposta .',\n",
              " 'il portiera essere sbattere , uno voce proclamare \" pronti ! \"',\n",
              " 'e partimmo .',\n",
              " 'così essere separare da bessie e da gateshead e così essere catapultare verso regione sconosciuto e che allora mi sembrare lontano e misterioso .',\n",
              " 'ricordare molto poco del viaggio .',\n",
              " 'sapere solo che quello giorno mi parere straordinariamente lungo e che avere il impressione di viaggiare per centinaio di miglio .',\n",
              " 'attraversare diverse città e in uno , molto grande , il diligenza si fermare ; il cavallo venire staccare e il passeggero scendere per mangiare .',\n",
              " 'mi portare in uno locanda dove il postiglione cercare di fare mangiare qualcosa , ma io non avere appetire , così mi lasciare in uno stanza enorme con uno camino a ognuna della due estremità , uno lampadario appendere al soffitto e in alto , sporgente dalla parete , uno piccolo galleria rosso pieno di strumento musicale .',\n",
              " 'gironzolare a lungo per il stanza , tutto frastornare e preoccupare da morire che prima o poi essere arrivare qualcuno a rapire .',\n",
              " 'credere nel ladro di bambino : il storia di bessie davanti al caminetto essere pieno zeppa della loro malefatta .',\n",
              " \"finalmente tornare il postiglione , fui di nuovo stipare all' interno della diligenza , il mio protettore salire a cassetta , levare in aria il suono cavo del il paesaggio cambiare .\",\n",
              " \"grande collina grigio spuntare all' orizzonte , tutt' intorno .\",\n",
              " 'essere quasi buio quando scendere giù nella valle , scuro di bosco , e dopo che il notte avere inghiottire ogni cosa udire uno vento forte infuriare fra il albero .',\n",
              " 'cullata da questo suono finire per addormentarmi , ma non dormire a lungo perché il vettura si fermare di colpo , svegliandomi .',\n",
              " \"il porta della diligenza si aprire e lì fuori scorso uno persona , uno domestica , a giudicare dall' aspetto .\",\n",
              " 'alla luce del fanale , il vidi il volto e il vestito . \"',\n",
              " 'tra voi c\\' essere uno ragazzina che si chiamare Jane eyre ? \"',\n",
              " 'domandare .',\n",
              " 'risposare \" sì \" , mi aiutare a scendere , tirare giù il mio baule e il diligenza ripartire subito dopo .',\n",
              " 'a forza di stare sedere essere tutto rattrappire , e intontire dal rumore e dal scossone della diligenza .',\n",
              " 'mi concentrare e mi guardare attorno .',\n",
              " 'il pioggia , il vento e il oscurità impregnare di sé il aria ; riuscire il stesso a intravedere davanti a me uno muro su cui essere aperto uno porta .',\n",
              " 'entrare da questo porta , insieme alla mio nuovo guida , che se lo tirare dietro e il chiuse a chiave .',\n",
              " 'davanti al mio occhio si materializzare allora uno casa , o forse molto di uno \\x96 il edificio essere molto grande \\x96 , con tanto finestra , alcun illuminate .',\n",
              " 'percorrere uno largo viale coperto di ghiaia e cosparso di pozzanghera e giungere davanti a uno altro porta ; allora il domestica mi guidare lungo uno corridoio fino a uno stanza dove essere accendere il fuoco e mi lasciare lì da solo .',\n",
              " 'rimare vicino alla fiamma a scaldarmi il dito intirizzite , poi mi guardare attorno .',\n",
              " \"non c' essere candele , ma il luce incerto del caminetto mostrare a tratto il carta da parati , il tappeto , il tenda , il mobile lucido di mogano : essere uno salotto , non così grande e lussuoso come quello di gateshead , ma abbastanza accogliente .\",\n",
              " 'essere tutto concentrato a capire il soggetto di uno quadro appendere alla parete , quando il porta si aprire ed entrare uno persona che reggere uno lume , subito seguitare da uno altra .',\n",
              " 'il primo essere uno signora alto con il capello scuro , il occhio nero e il fronte bianco e spazioso .',\n",
              " 'parte della suo figura essere avvolgere in un scialle ; il espressione del volto essere grave , il portamento distinto . \"',\n",
              " 'il bambina essere troppo piccolo per viaggiare da solo , \" dire posare il candela sul tavolo .',\n",
              " 'mi studiare con attenzione per uno paio di minuto , poi aggiungere : \" meglio mandare a letto subito , sembrare stancare .',\n",
              " 'sei stancare ? \"',\n",
              " 'chiedere , poggiandomi uno mano sulla spalla . \"',\n",
              " 'uno poco , signora . \"',\n",
              " '\" e anche affamare , vero ?',\n",
              " 'datele qualcosa da mangiare prima di mettere a letto , Miss Miller .',\n",
              " 'essere il primo volta che ti separare dal tuo genitore per andare a scuola , piccolo mio ? \"',\n",
              " 'il spiegai che non avere genitore .',\n",
              " \"mi chiedere da quanto tempo essere morire , poi quanto anno avere , come mi chiamare , se sapere leggere , scrivere e cucire uno po' .\",\n",
              " 'infine mi sfiorare delicatamente il guancia con uno dito , mi dire che sperare essere stare uno bravo bambina e mi congedare insieme a Miss Miller .',\n",
              " 'il signora che avere lasciare potere avere ventinove anno ; il mio nuovo accompagnatrice sembrare molto giovane di qualche anno .',\n",
              " 'della primo mi colpire il voce , il sguardo e il portamento .',\n",
              " 'Miss Miller essere molto ordinario e , sebbene avere il aria stancare , avere comunque uno bel colorito .',\n",
              " 'camminare e si muovere molto in fretta , come chi avere sempre mille cosa da fare .',\n",
              " 'avere tutto il aria di essere ciò che poi in effetto essere : uno aiuto - maestra .',\n",
              " 'sotto il suo guida attraversare , di stanza in stanza , di corridoio in corridoio , uno edificio grande e irregolare finché , riemergere dal silenzio assoluto e quasi inquietante che permeare di sé il parte della casa già percorrere , non essere investire dal brusio di molto voce e ben presto ci ritrovare in uno stanza spazioso e lungo , con due grande tavolo di abete a ogni estremità .',\n",
              " \"su ogni tavolo c' essere due candela accendere e tutt' intorno , seduta sulla panca , un stuolo di ragazza di ogni età , dal nove o dieci anno al vento .\",\n",
              " 'vista alla luce fioco della candela di sego , mi sembrare innumerevole , benché in realtà non essere molto di ottanta .',\n",
              " 'avere tutto il stesso vestito di stoffa marrone , di vecchio taglio , e il stesso grembiule lungo di tela di Olanda .',\n",
              " 'essere il ora del studio ; fare il compito per il giorno dopo e il brusio che avere sentire essere il somma della loro voce che ripetere il lezione , in sordina .',\n",
              " 'Miss Miller mi fare segno di sedermi su uno panca vicino alla porta , poi raggiungere il fondo della lungo stanza e gridò : \" capoclasse , raccogliere il manuale e metteteli a posto ! \"',\n",
              " '.',\n",
              " 'quattro ragazza grande si alzare dal rispettivo banco , andare in giro per il stanza a raccogliere il libro e lo mettere via .',\n",
              " 'Miss Miller dare loro uno nuovo ordine : \" capoclasse , andare a prendere il vassoio della cena ! \"',\n",
              " '.',\n",
              " 'il ragazza grande uscire e tornare subito , portare ciascun uno vassoio con sopra porzione di non sapere che e , al centro , uno caraffa di acqua e uno boccale .',\n",
              " 'il porzione essere distribuire ; quelle che volere il acqua , bere nel boccale comune .',\n",
              " \"quando arrivare il mio turno bere anch' io , perché avere sete , ma non toccare cibo , perché il eccitazione e il stanchezza mi avere togliere il fame .\",\n",
              " 'ebbi comunque modo di notare che il cena consistere in uno tortino di avena tagliato a pezzo .',\n",
              " 'alla fine del pasto , Miss Miller leggere il preghiera , poi il classe si avviare in filo per due al piano di sopra .',\n",
              " 'ormai sopraffatta dalla stanchezza , non fece molto caso a come essere fare il dormitorio ; notare solo che essere lungo come il aula scolastico .',\n",
              " 'quello notte dovere dormire con Miss Miller .',\n",
              " 'mi aiutare a svestirmi .',\n",
              " \"uno volta coricata , dare uno occhiata alla lungo filo di letto , ciascuno del quali essere rapidamente riempire da due occupante ; tempo dieci minuto e il unico luce che c' essere essere spegnere e , nel silenzio e nella completo oscurità , caddi addormentare .\",\n",
              " 'il notte passare in fretta .',\n",
              " 'essere troppo stancare anche per sognare ; mi svegliare solo uno volta , al rumore del vento che ruggire in raffica furioso e della pioggia che cadere a torrente , e mi accorrere che Miss Miller avere prendere posto vicino a me .',\n",
              " \"quando aprire di nuovo il occhio , c' essere uno campanella assordante che suonare ; il ragazza si essere alzare e si stare vestire .\",\n",
              " 'il giorno non essere ancora spuntare e nella stanza essere accendere uno paio di candela di giunco .',\n",
              " \"mi alzare anch' io , controvoglia .\",\n",
              " \"fare uno freddo terribile , così mi vestire alla bello e meglio , tra uno brivido e il altro , e mi lavare appena trovare uno catino libero , ma mi toccare aspettare , perché c' essere solo uno catino ogni sei ragazza , sul trespolo al centro della stanza .\",\n",
              " 'il campanella suonò di nuovo .',\n",
              " \"ci mettere tutte in filo , a due a due , e in quello ordine scendere il scala ed entrare nell' aula freddo e poco illuminare .\",\n",
              " 'lì , Miss Miller ci leggere il preghiera , poi comandò : \" formate il classe ! \"',\n",
              " '.',\n",
              " 'seguì , per qualche minuto , uno gran baccano , durante il quale Miss Miller non fare che gridare \" silenzio ! \"',\n",
              " 'e \" Ordine ! \"',\n",
              " '.',\n",
              " 'quando il baccano scemare , vedere il ragazza disporre in quattro semicerchio , di fronte a quattro sedia disporre a loro volta davanti a quattro banco ; tutte avere in mano del libro e su ogni banco , davanti alla sedia vuoto , essere postare uno librone , forse il bibbia .',\n",
              " 'ci essere uno pausa di qualche secondo riempita dal brusio sommesso e confondere del gruppo di ragazza .',\n",
              " 'Miss Miller passare di classe in classe , azzittire questo suono indistinto .',\n",
              " 'squillare uno campanella in lontananza .',\n",
              " 'subito entrare nella stanza tre signore : ognuna raggiungere uno tavolo e vi si sedere .',\n",
              " 'Miss Miller occupare il quarto sedia vuoto , quella molto vicino alla porta , intorno alla quale essere riunire il bambina molto piccolo .',\n",
              " 'io essere assegnare a questo classe inferiore e collocare in per il quarto volta : il classe essere mettere in filo e marciare verso uno altro stanza per il colazione .',\n",
              " 'come essere felice alla prospettiva di mettere qualcosa sotto il dente !',\n",
              " 'essere quasi stremare dalla fame , vistare che il giorno prima non avere mangiare quasi niente .',\n",
              " \"il refettorio essere un squallido stanzone buio , col soffitto basso ; sopra due lunghe tavolate fumare il zuppiere con dentro qualcosa di caldo che però , con mio grande sgomento , emanare uno odore tutt' altro che invitante .\",\n",
              " 'ci essere uno generale manifestazione di disappunto quando il effluvio del pasto raggiungere il narice di quelle che essere destinare a trangugiarlo ; dalla capofila della processione , dalla ragazza grande della primo classe , si levare uno mormorio : \" che schifare !',\n",
              " 'anche stavolta avere bruciare il porridge ! \"',\n",
              " '. \"',\n",
              " 'silenzio ! \"',\n",
              " 'sbottare uno voce ; non essere Miss Miller , ma uno della insegnante della classe superiore , uno figurina scuro , vestire in modo elegante ma con uno non sapere che di arcigno , che si piazzare a capo di uno tavolata , mentre uno signora molto florido presiedere il altro capo .',\n",
              " \"cercai invano il signora che avere vistare il sera prima , ma non c' essere .\",\n",
              " \"Miss Miller si sistemare in fondo alla tavolata dove essere sedere io e uno vecchio signora dall' aria straniero che non conoscere , il insegnante di francese , come venire a sapere in seguito , prendere posto all' altro estremità .\",\n",
              " 'recitare uno lungo ringraziamento e cantare uno inno ; poi uno domestica portare del tè per il insegnante e il pasto avere inizio .',\n",
              " 'affamare e sfinita come essere , ingurgitare qualche cucchiaio della mio razione senza badare al gusto ; ma , calmare il primo morso della fame , mi accorrere di avere davanti uno sbobba vomitevole .',\n",
              " \"il porridge bruciato essere disgustoso quasi come il patata marcia e fare sparire all' istante anche il fame molto nero .\",\n",
              " 'il cucchiaio si muovere lentamente ; ogni ragazza assaggiare il cibo e cercare di buttare giù , ma nella stragrande maggioranza del caso ci rinunciare subito .',\n",
              " 'il colazione essere finire , ma nessuna avere davvero fare colazione .',\n",
              " 'dopo avere di nuovo ringraziato dio per ciò che non avere ricevere e dopo avere cantare uno secondo inno , lasciare il refettorio per il classe .',\n",
              " \"essere uno della ultimo a uscire e , passare accanto alla tavolata , vedere uno insegnante prendere uno zuppiera di porridge e assaggiarne uno po' .\",\n",
              " 'guardare il altre : avere tutto il stesso espressione contrariato e uno di loro , quella robusto , mormorare : \" che roba abominevole !',\n",
              " 'che vergogna ! \"',\n",
              " '.',\n",
              " 'prima che il lezione ricominciare passare uno quarto di ora , durante il quale in classe ci essere uno baccano indescrivibile .',\n",
              " 'per tutto il durata di quello intervallo , a quanto parere , si potere parlare ad alto voce e con grande libertà , e il ragazza sfruttare fino in fondo tale privilegio .',\n",
              " 'parlare tutte della colazione , che suscitare il sdegno generale .',\n",
              " 'poverette !',\n",
              " 'essere il unico consolazione che avere .',\n",
              " 'Miss Miller in quello momento essere il unico insegnante presente nella stanza .',\n",
              " \"attorno a lei c' essere uno gruppo di ragazza grande che parlare gesticolare con aria serio e risentito .\",\n",
              " 'sentire pronunciare da alcune di loro il nome di mr brocklehurst e vidi Miss Miller scuotere il testa in segno di disapprovazione .',\n",
              " 'ma non fare molto per calmare il sdegno generale : di sicuro lo condividere anche lei .',\n",
              " \"uno pendola nell' aula batté il nove .\",\n",
              " 'Miss Miller si scostare dal gruppo e , dritto al centro della stanza , gridò : \" silenzio !',\n",
              " 'tornare al vostro posto ! \"',\n",
              " '.',\n",
              " 'il disciplina essere ristabilire : in cinque minuto il ressa confuso si ricomporre e uno relativo silenzio calare su quello torre di babele .',\n",
              " 'il insegnante della classe superiore riprendere puntualmente il proprio posto , ma essere tutte fermo , come se essere in attesa .',\n",
              " 'allineare sulla panca lungo il lato della stanza , il ottanta ragazza sedere immobile e dritto come fuso .',\n",
              " \"formare uno curioso assemblea , tutte con il capello pettinato lisciare e tirato all' indietro , senza uno ricciolo in vista , il vestito marrone chiudere sul collo da uno sottile goletta , il taschine in tela di Olanda ( che ricordare il borsa del montanaro scozzese ) attaccare sul davanti del loro abito e adibite alla funzione di borsa da lavoro .\",\n",
              " 'tutto quanto poi indossare calzettone di lana e scarpa grossolano , chiuso con fibbie di ottone .',\n",
              " 'di quelle conciare in questo modo , oltre uno ventina essere ragazza grande , ormai signorine ; quello tenere il imbruttiva e conferire uno aria goffa anche alla molto grazioso tra loro .',\n",
              " \"io essere lì che continuare a fissarle , e di tanto in tanto osservare anche il insegnante \\x96 nessun che mi piacere in particolare : quella robusto essere uno po' volgare , quella mora ti mettere il brivido a guardare , il straniera essere rudere e grottesco e Miss Miller uno poveretta tutto paonazza , uno po' per il freddo , uno po' per il eccessivo affaticamento \\x96 , quando a uno tratto , mentre il mio sguardo passare di volto in volto , il intero classe balzare in piede , all' unisono , come sospingere da uno unico molla .\",\n",
              " 'che succedere ?',\n",
              " 'non avere sentire pronunciare nessun ordine e non sapere cosa pensare .',\n",
              " \"prima che mi essere riprendere , il classe essere di nuovo seduta , ma vistare che in quello momento tutto il sguardo essere rivoltare verso un stesso punto , ne seguire anch' io il traiettoria e ritrovare il persona che mi avere ricevere il sera prima .\",\n",
              " \"essere fermare in fondo alla stanza , vicino al camino ( su ogni estremità c' essere il fuoco acceso ) , ed esaminare , silenzioso e serio , il due file di ragazza .\",\n",
              " 'Miss Miller lo si avvicinare , forse per chiedere qualcosa , e avere il risposta ritornare al suo posto e dire ad alto voce : \" capoclasse della primo , andare \\' a prendere il mappamondo \" .',\n",
              " 'mentre il ordine venire eseguire , il signora a cui Miss Miller si essere rivoltare attraversare lentamente il stanza .',\n",
              " \"credere di avere uno spiccato attitudine all' adorazione , perché ricordare ancora il ammirato rispettare con cui il mio occhio seguire il suo passo .\",\n",
              " 'vistare così , alla pieno luce del giorno , appariva alto , bello e ben proporzionato .',\n",
              " 'il occhio scuro , quelle iridi percorso da uno luce buono , e il lungo ciglio ricurvo e sottile mettere in risalto il candore della fronte spazioso .',\n",
              " 'il capello , di uno marrone scuro , essere raccogliere sulla tempia in grosso boccolo , secondo il stile di quello periodo , quando non si usare né il chioma liscio né il ricciolo lungo .',\n",
              " \"il abito , anch' esso all' ultimo moda , essere di uno tessuto color porpora con guarnizione in velluto nero uno po' alla spagnola .\",\n",
              " 'alla cintura lo brillare uno orologio di oro ( allora il orologio non essere diffondere come adesso ) .',\n",
              " \"il lettore aggiungere , per completare il quadro , lineamento raffinato , uno carnagione pallido ma luminoso , uno aria e uno portamento elegante , e riuscire a fare , almeno per quanto si potere esprimere a parola , uno idea preciso dell' aspetto esteriore di Miss temple : Maria temple , come poco dopo vidi scrivere su uno libro di preghiera che lei stesso mi avere incaricare di portare in chiesa .\",\n",
              " 'il direttrice di lowood ( essere questo il suo ruolo ) prendere posto davanti a uno paio di mappamondo poggiare su uno del banco , raccogliere attorno a sé il primo classe e cominciare il suo lezione di geografia .',\n",
              " 'il insegnante convocare il classe inferiore e per uno ora ripetere il lezione di storia , grammatica ecc.',\n",
              " \", poi si passare alla calligrafia e all' aritmetica , e Miss temple impartire lezione di musica ad alcune della allieva molto grande .\",\n",
              " 'il durata di ogni lezione essere scandire dal pendolo che finalmente suonò mezzogiorno .',\n",
              " 'il direttrice si alzare . \"',\n",
              " 'volere dire qualcosa alla allieva , \" dire .',\n",
              " 'il baccano già esplodere a fine lezione si calmare al suono della suo voce .',\n",
              " 'poi proseguire : \" stamattina vi essere stare servire uno colazione immangiabile .',\n",
              " 'sarete affamato .',\n",
              " 'avere datare ordine di con laccio di calicò colorato e uno mantello di rascia grigia .',\n",
              " \"con addossare il stesso equipaggiamento , risalire il corrente , mi fare strada fino a sbucare all' aria aperto .\",\n",
              " \"il giardino essere uno ampio recinto , circondare da muro così alto da impedire ogni vista sull' esterno .\",\n",
              " 'su uno lato correre uno veranda coperto e largo viali incorniciare un spazio centrale suddiviso in tanto piccolo aiuola : queste venire assegnare come giardino da coltivare alla allieva e ciascuna aiuola avere il suo proprietaria .',\n",
              " 'senza dubbio , in pieno fioritura dovere essere grazioso , ma ora , a fine gennaio , essere tutte avvizzire dal gelo invernale e nero di marciume .',\n",
              " \"non appena mi fermare a guardarmi intorno , rabbrividire : essere troppo freddo , quello giorno , per stare all' aria aperto .\",\n",
              " 'non che piovere proprio , ma il aria essere scurire da uno pioggerellina giallastro e nebbioso .',\n",
              " 'sotto il piede essere tutto bagnato fradicio per il pioggia abbondante del giorno prima .',\n",
              " \"il ragazza molto robusto correre e si impegnare in gioco movimentati , ma parecchio , pallido e gracile , si essere radunare sotto il veranda , in cerca di uno riparo e di uno po' di calore .\",\n",
              " 'e tra queste , a cui il nebbia fitto penetrare nella osso tremolante , sentii ripetuto e cavernoso colpo di tosse .',\n",
              " 'fino a quello momento non avere parlare con nessun e nessuna sembrare accorgersi di me .',\n",
              " 'così me ne stare in disparte , da solo ; ma a quello sensazione di isolamento ci essere abituare e non mi pesare molto di tanto .',\n",
              " \"mi appoggiare a uno colonna della veranda , mi stringere addossare il mantello grigio e , nel tentativo di dimenticare il freddo che mi pungere fuori e il fame che mi mordere dentro , mi dedicare , anima e corpo , all' occupazione di osservare e pensare .\",\n",
              " 'il mio riflessione essere troppo indefinito e frammentario per meritare di essere ricordare .',\n",
              " 'sapere a malapena dove fosso .',\n",
              " 'gateshead e il mio vita passato sembrare essere svanire lontano , a distanza smisurato .',\n",
              " 'il presente essere vago e sconosciuto , e sul futuro non potere fare congettura .',\n",
              " 'dirigere il sguardo sul giardino , così simile al chiostro di uno convento , poi lo sollevare , verso il casa : uno edificio grande , che sembrare per metà grigio e vecchio e per il altro metà nuovo .',\n",
              " 'sulla parte nuovo , dove essere il aula scolastico e il dormitorio , si aprire finestra a colonnina e con il grata , che lo conferire il aspetto di uno chiesa .',\n",
              " 'uno lapide sopra il porta recare questo iscrizione : \" istituto di lowood .',\n",
              " 'questo ala essere ricostruire , a.d .... , da naomi brocklehurst , di brocklehurst Hall , in questo contea \" . \"',\n",
              " 'così risplendere il vostro luce davanti al uomo , perché vedere il vostro opera buono e rendere gloria al vostro padre che essere nel cielo ( Matteo 5,16 ) . \"',\n",
              " ...]"
            ]
          },
          "metadata": {},
          "execution_count": 18
        }
      ]
    },
    {
      "cell_type": "code",
      "metadata": {
        "id": "Mzj9-06nEKpo"
      },
      "source": [
        "df[\"Lemmi\"] = df[\"text\"].apply(clean)\n",
        "df2[\"Lemmi\"] = df2[\"text\"].apply(clean)\n",
        "df3[\"Lemmi\"] = df3[\"text\"].apply(clean)"
      ],
      "execution_count": 19,
      "outputs": []
    },
    {
      "cell_type": "code",
      "metadata": {
        "colab": {
          "base_uri": "https://localhost:8080/"
        },
        "id": "0V5yOknrS8QB",
        "outputId": "b56d269c-8de9-4057-d27f-8a03697b0f60"
      },
      "source": [
        "df3[\"Lemmi\"]"
      ],
      "execution_count": 20,
      "outputs": [
        {
          "output_type": "execute_result",
          "data": {
            "text/plain": [
              "0              giorno essere impossibile uscire passeggio\n",
              "1       mattino realtà avere gironzolare ora arbusto s...\n",
              "2                                           essere felice\n",
              "3       lunghe passeggiate essere mai piacere specie p...\n",
              "4       essere terribile tornare casa pungente freddo ...\n",
              "                              ...                        \n",
              "8224    sapere prossimo volta scrivere estraneo annunz...\n",
              "8225    piangere ultimo ora essere turbare timore mort...\n",
              "8226    profezia attestare egli scrivere maestro avere...\n",
              "8227    avanzo rapidamente ogni ora scorrere risponder...\n",
              "8228                                                 fine\n",
              "Name: Lemmi, Length: 19802, dtype: object"
            ]
          },
          "metadata": {},
          "execution_count": 20
        }
      ]
    },
    {
      "cell_type": "code",
      "metadata": {
        "id": "2p4JLXuwyrvQ"
      },
      "source": [
        "df3['documents_cleaned']= df3.apply(lambda row: nltk.word_tokenize(row['Lemmi']), axis=1)\n",
        "data = list(df3['documents_cleaned'])"
      ],
      "execution_count": 22,
      "outputs": []
    },
    {
      "cell_type": "code",
      "metadata": {
        "id": "s3MdCCpcyrqf"
      },
      "source": [
        "# Create Skip Gram model\n",
        "model2 = gensim.models.Word2Vec(data, min_count = 1, size = 50, window = 5, sg = 1)"
      ],
      "execution_count": 24,
      "outputs": []
    },
    {
      "cell_type": "code",
      "metadata": {
        "id": "UFvgfE8F1NWG"
      },
      "source": [
        "model2.init_sims(replace=True)"
      ],
      "execution_count": 25,
      "outputs": []
    },
    {
      "cell_type": "code",
      "metadata": {
        "colab": {
          "base_uri": "https://localhost:8080/"
        },
        "id": "mmmGYu8L1NO_",
        "outputId": "7238e7aa-d46a-4b74-afaa-618229c1ca85"
      },
      "source": [
        "model2.wv.most_similar(positive=[\"giorno\"])"
      ],
      "execution_count": 26,
      "outputs": [
        {
          "output_type": "execute_result",
          "data": {
            "text/plain": [
              "[('settimana', 0.949376106262207),\n",
              " ('mese', 0.9392577409744263),\n",
              " ('fa', 0.9344190955162048),\n",
              " ('minuto', 0.9223361015319824),\n",
              " ('cinque', 0.9204700589179993),\n",
              " ('quindici', 0.9187092781066895),\n",
              " ('dieci', 0.9182727336883545),\n",
              " ('trascorrere', 0.9182222485542297),\n",
              " ('sera', 0.9137798547744751),\n",
              " ('anno', 0.9117920994758606)]"
            ]
          },
          "metadata": {},
          "execution_count": 26
        }
      ]
    },
    {
      "cell_type": "code",
      "metadata": {
        "colab": {
          "base_uri": "https://localhost:8080/"
        },
        "id": "Bo-7cmEk1QrU",
        "outputId": "bb6ec268-9388-4483-8c6e-cbcbb3c12415"
      },
      "source": [
        "model2.wv.similarity('giorno','mattino')"
      ],
      "execution_count": 27,
      "outputs": [
        {
          "output_type": "execute_result",
          "data": {
            "text/plain": [
              "0.8992375"
            ]
          },
          "metadata": {},
          "execution_count": 27
        }
      ]
    },
    {
      "cell_type": "code",
      "metadata": {
        "colab": {
          "base_uri": "https://localhost:8080/"
        },
        "id": "6hx6ZrNq1NJb",
        "outputId": "fb7d8ff0-132d-484b-dbaa-12614b4359be"
      },
      "source": [
        "similar = model2.wv.most_similar('mattino')\n",
        "similar"
      ],
      "execution_count": 28,
      "outputs": [
        {
          "output_type": "execute_result",
          "data": {
            "text/plain": [
              "[('mezz', 0.9910297393798828),\n",
              " ('pomeriggio', 0.9894804358482361),\n",
              " ('paio', 0.9894293546676636),\n",
              " ('mattina', 0.9883600473403931),\n",
              " ('trascorrere', 0.9880746603012085),\n",
              " ('durante', 0.9853440523147583),\n",
              " ('riflettere', 0.9847015738487244),\n",
              " ('silenzio', 0.9834097027778625),\n",
              " ('notte', 0.9826017022132874),\n",
              " ('quarto', 0.9821746349334717)]"
            ]
          },
          "metadata": {},
          "execution_count": 28
        }
      ]
    },
    {
      "cell_type": "code",
      "metadata": {
        "colab": {
          "base_uri": "https://localhost:8080/"
        },
        "id": "iasl8cE-ywSG",
        "outputId": "49cc6be8-4adf-4a64-d867-07d0606b07aa"
      },
      "source": [
        "model2.init_sims(replace = True)\n",
        "model2.save('word2vec_model_lemmi')\n",
        "model = Word2Vec.load('word2vec_model_lemmi')\n",
        "model.wv.most_similar('pomeriggio')"
      ],
      "execution_count": 29,
      "outputs": [
        {
          "output_type": "execute_result",
          "data": {
            "text/plain": [
              "[('studio', 0.9919933676719666),\n",
              " ('mattino', 0.9894805550575256),\n",
              " ('passeggiare', 0.9884764552116394),\n",
              " ('baule', 0.9880860447883606),\n",
              " ('quarto', 0.9879050850868225),\n",
              " ('paio', 0.9877115488052368),\n",
              " ('quattro', 0.9849091172218323),\n",
              " ('rimare', 0.984549880027771),\n",
              " ('scorso', 0.9843419790267944),\n",
              " ('mezzanotte', 0.9840087890625)]"
            ]
          },
          "metadata": {},
          "execution_count": 29
        }
      ]
    },
    {
      "cell_type": "code",
      "metadata": {
        "colab": {
          "base_uri": "https://localhost:8080/"
        },
        "id": "FMUfRt1A1XTz",
        "outputId": "f1226691-a8a5-4aa1-8557-e9d52a854093"
      },
      "source": [
        "model.wv.most_similar('mattino')"
      ],
      "execution_count": 30,
      "outputs": [
        {
          "output_type": "execute_result",
          "data": {
            "text/plain": [
              "[('mezz', 0.9910297393798828),\n",
              " ('pomeriggio', 0.9894805550575256),\n",
              " ('paio', 0.9894293546676636),\n",
              " ('mattina', 0.9883600473403931),\n",
              " ('trascorrere', 0.988074779510498),\n",
              " ('durante', 0.9853440523147583),\n",
              " ('riflettere', 0.9847017526626587),\n",
              " ('silenzio', 0.9834098815917969),\n",
              " ('notte', 0.9826017022132874),\n",
              " ('quarto', 0.9821746349334717)]"
            ]
          },
          "metadata": {},
          "execution_count": 30
        }
      ]
    },
    {
      "cell_type": "code",
      "metadata": {
        "colab": {
          "base_uri": "https://localhost:8080/"
        },
        "id": "O9SuozHvXRau",
        "outputId": "c97f82a1-dca3-463f-8f9f-3a1a35a2f79b"
      },
      "source": [
        "data[0]"
      ],
      "execution_count": 32,
      "outputs": [
        {
          "output_type": "execute_result",
          "data": {
            "text/plain": [
              "['giorno', 'essere', 'impossibile', 'uscire', 'passeggio']"
            ]
          },
          "metadata": {},
          "execution_count": 32
        }
      ]
    },
    {
      "cell_type": "code",
      "metadata": {
        "colab": {
          "base_uri": "https://localhost:8080/"
        },
        "id": "iyg1U_GQ1YrS",
        "outputId": "a230ec63-4a3c-41ff-8c9e-275dc0948e95"
      },
      "source": [
        "distance = model.wv.wmdistance(data[0],data[12])\n",
        "distance"
      ],
      "execution_count": 31,
      "outputs": [
        {
          "output_type": "execute_result",
          "data": {
            "text/plain": [
              "0.5852359330931124"
            ]
          },
          "metadata": {},
          "execution_count": 31
        }
      ]
    },
    {
      "cell_type": "code",
      "metadata": {
        "id": "-SNU4ZkG1aOD",
        "colab": {
          "base_uri": "https://localhost:8080/"
        },
        "outputId": "cecce791-dbfc-4b62-cd43-db2b2523e5d9"
      },
      "source": [
        "sentence_a = 'Quel giorno era impossibile uscire a passeggio.'\n",
        "sentence_b = 'In quel giorno era impossibile passeggiare.'\n",
        "distance = model.wv.wmdistance(sentence_a,sentence_b)\n",
        "distance"
      ],
      "execution_count": 36,
      "outputs": [
        {
          "output_type": "execute_result",
          "data": {
            "text/plain": [
              "0.021861297333683125"
            ]
          },
          "metadata": {},
          "execution_count": 36
        }
      ]
    },
    {
      "cell_type": "code",
      "metadata": {
        "id": "FnCNnw891bwV",
        "colab": {
          "base_uri": "https://localhost:8080/"
        },
        "outputId": "3bfecf29-fcd9-42a5-fe7f-954698ac777b"
      },
      "source": [
        "sentence_a = 'Ne ero contenta.'\n",
        "sentence_b = 'Ne fui felice.'\n",
        "distance = model.wv.wmdistance(sentence_a,sentence_b)\n",
        "distance"
      ],
      "execution_count": 37,
      "outputs": [
        {
          "output_type": "execute_result",
          "data": {
            "text/plain": [
              "inf"
            ]
          },
          "metadata": {},
          "execution_count": 37
        }
      ]
    },
    {
      "cell_type": "code",
      "metadata": {
        "id": "KhE7pw1P1dOr",
        "colab": {
          "base_uri": "https://localhost:8080/"
        },
        "outputId": "34ed9597-433e-4a32-d6d7-ca680b0c59c6"
      },
      "source": [
        "sentence_a = 'Quanto a me, mi aveva dispensata dall onere di unirmi al gruppo, dicendo che le rincresceva di dovermi tenere a distanza, ma finchÈ non avesse saputo da Bessie e visto con i suoi occhi che facevo seri sforzi per assumere un atteggiamento più socievole e adatto a una bambina scarlatta e a sinistra c erano le vetrate trasparenti che mi proteggevano, senza separarmene, da quella triste giornata di novembre.'\n",
        "sentence_b ='Ella mi aveva proibito di unirmi al loro gruppo, dicendo che deplorava la necessità in cui trovavasi di tenermi così lontana, ma che fino al momento in cui Bessie non guarentirebbe che mi studiavo di acquistare un carattere pi˘ socievole e pi˘ infantile, maniere pi˘ cortesi e qualcosa di pi˘ radioso, di più aperto, di più sincero, non poteva concedermi gli stessi privilegi che ai bambini allegri e soddisfatti.'\n",
        "\n",
        "distance = model.wv.wmdistance(sentence_a,sentence_b)\n",
        "distance"
      ],
      "execution_count": 38,
      "outputs": [
        {
          "output_type": "execute_result",
          "data": {
            "text/plain": [
              "0.013078101703717213"
            ]
          },
          "metadata": {},
          "execution_count": 38
        }
      ]
    },
    {
      "cell_type": "code",
      "metadata": {
        "id": "MREUAcd71fRH",
        "colab": {
          "base_uri": "https://localhost:8080/"
        },
        "outputId": "fc6c172f-3fb0-4d8d-ec6c-b8fcf7f0504e"
      },
      "source": [
        "sentence_a = 'Non mi sono mai piaciute le lunghe passeggiate, sopra tutto col freddo, ed era cosa penosa per me di tornar di notte con le mani e i piedi gelati, col cuore amareggiato dalle sgridate di Bessie, la bambinaia, e con lo spirito abbattuto dalla coscienza della mia inferiorità fisica di fronte a Eliza, a John e a Georgiana Reed.'\n",
        "\n",
        "sentence_b = 'Era terribile tornare a casa nel pungente freddo del crepuscolo, con mani e piedi gelati e il cuore intristito dai rimproveri di Bessie, la balia, e avvilita dalla consapevolezza della mia inferiorità fisica rispetto a Eliza, John e Georgiana Reed. '\n",
        "\n",
        "distance = model.wv.wmdistance(sentence_a,sentence_b)\n",
        "distance"
      ],
      "execution_count": 39,
      "outputs": [
        {
          "output_type": "execute_result",
          "data": {
            "text/plain": [
              "0.04566559224448453"
            ]
          },
          "metadata": {},
          "execution_count": 39
        }
      ]
    },
    {
      "cell_type": "markdown",
      "metadata": {
        "id": "ax2jXwXd1gtV"
      },
      "source": [
        "#DOC2VEC"
      ]
    },
    {
      "cell_type": "code",
      "metadata": {
        "id": "b1ctWSyr1nRc"
      },
      "source": [
        ""
      ],
      "execution_count": null,
      "outputs": []
    },
    {
      "cell_type": "code",
      "metadata": {
        "id": "tYMBRr-r1on4"
      },
      "source": [
        "from gensim.models.doc2vec import Doc2Vec, TaggedDocument\n",
        "tagged_data = [TaggedDocument(words=word_tokenize(doc), tags=[i]) for i, doc in enumerate(df3[\"Lemmi\"])]\n",
        "model_d2v = Doc2Vec(vector_size=5, dbow_words=1, dm=0, epochs=30,  window=2, seed=1337, min_count=1, alpha=0.001, min_alpha=0.025)\n",
        "model_d2v.build_vocab(tagged_data)\n",
        "model_d2v.save('doc2vec_model')"
      ],
      "execution_count": 40,
      "outputs": []
    },
    {
      "cell_type": "code",
      "metadata": {
        "id": "buBOtnM635SZ"
      },
      "source": [
        "model_d2v = Doc2Vec(vector_size=5, window=2, min_count=1, workers=4)\n",
        "model_d2v.build_vocab(tagged_data)"
      ],
      "execution_count": 41,
      "outputs": []
    },
    {
      "cell_type": "code",
      "metadata": {
        "id": "m8-pwav-39px",
        "colab": {
          "base_uri": "https://localhost:8080/"
        },
        "outputId": "fb354959-ffd6-4716-e54f-40c0d4667577"
      },
      "source": [
        "tokens = 'In quel giorno era impossibile passeggiare.'\n",
        "new_vector = model_d2v.infer_vector(tokens)\n",
        "sims = model_d2v.docvecs.most_similar([new_vector]) \n",
        "sims"
      ],
      "execution_count": 42,
      "outputs": [
        {
          "output_type": "execute_result",
          "data": {
            "text/plain": [
              "[(15271, 0.9918297529220581),\n",
              " (7718, 0.9912025332450867),\n",
              " (7452, 0.9890585541725159),\n",
              " (11498, 0.9883577227592468),\n",
              " (11644, 0.9876433610916138),\n",
              " (2337, 0.9876022338867188),\n",
              " (12680, 0.9868730306625366),\n",
              " (5164, 0.986814558506012),\n",
              " (6148, 0.9866076707839966),\n",
              " (19639, 0.984277606010437)]"
            ]
          },
          "metadata": {},
          "execution_count": 42
        }
      ]
    },
    {
      "cell_type": "code",
      "metadata": {
        "id": "wZ_ogIkR4AUf",
        "colab": {
          "base_uri": "https://localhost:8080/"
        },
        "outputId": "bf0292bc-6d59-4727-f96f-dc0ccbb9676c"
      },
      "source": [
        "tagged_data[15271]"
      ],
      "execution_count": 47,
      "outputs": [
        {
          "output_type": "execute_result",
          "data": {
            "text/plain": [
              "TaggedDocument(words=['sì', 'lambiccare', 'cervello', 'conto', 'dimenticare'], tags=[15271])"
            ]
          },
          "metadata": {},
          "execution_count": 47
        }
      ]
    },
    {
      "cell_type": "code",
      "metadata": {
        "id": "oxJ-YDLQ4B0c",
        "colab": {
          "base_uri": "https://localhost:8080/"
        },
        "outputId": "21289344-963d-4db6-cb51-d89643f44ed8"
      },
      "source": [
        "tokens = 'Quel giorno era impossibile uscire a passeggio.'\n",
        "new_vector = model_d2v.infer_vector(tokens)\n",
        "sims = model_d2v.docvecs.most_similar([new_vector]) \n",
        "sims"
      ],
      "execution_count": 43,
      "outputs": [
        {
          "output_type": "execute_result",
          "data": {
            "text/plain": [
              "[(2027, 0.9984607696533203),\n",
              " (6115, 0.9938331842422485),\n",
              " (6562, 0.9920634031295776),\n",
              " (10793, 0.9917377233505249),\n",
              " (4461, 0.9889070391654968),\n",
              " (13473, 0.983848512172699),\n",
              " (6547, 0.9821035861968994),\n",
              " (12440, 0.9792963266372681),\n",
              " (14099, 0.9792187213897705),\n",
              " (10594, 0.9791697263717651)]"
            ]
          },
          "metadata": {},
          "execution_count": 43
        }
      ]
    },
    {
      "cell_type": "code",
      "metadata": {
        "id": "EP08Oe25B-z_",
        "colab": {
          "base_uri": "https://localhost:8080/"
        },
        "outputId": "09502e79-86cc-4967-b9cc-2f328f1bffbe"
      },
      "source": [
        "tagged_data[2027]"
      ],
      "execution_count": 48,
      "outputs": [
        {
          "output_type": "execute_result",
          "data": {
            "text/plain": [
              "TaggedDocument(words=['meglio', 'così'], tags=[2027])"
            ]
          },
          "metadata": {},
          "execution_count": 48
        }
      ]
    },
    {
      "cell_type": "code",
      "metadata": {
        "id": "9tTcVuPW39k1",
        "colab": {
          "base_uri": "https://localhost:8080/"
        },
        "outputId": "24889e6b-6dfa-4bf7-a258-5e455134cd1e"
      },
      "source": [
        "tokens = 'In quel giorno era impossibile passeggiare.'\n",
        "new_vector = model_d2v.infer_vector(tokens)\n",
        "sims = model_d2v.docvecs.most_similar([new_vector]) \n",
        "sims"
      ],
      "execution_count": 49,
      "outputs": [
        {
          "output_type": "execute_result",
          "data": {
            "text/plain": [
              "[(15271, 0.9918297529220581),\n",
              " (7718, 0.9912025332450867),\n",
              " (7452, 0.9890585541725159),\n",
              " (11498, 0.9883577227592468),\n",
              " (11644, 0.9876433610916138),\n",
              " (2337, 0.9876022338867188),\n",
              " (12680, 0.9868730306625366),\n",
              " (5164, 0.986814558506012),\n",
              " (6148, 0.9866076707839966),\n",
              " (19639, 0.984277606010437)]"
            ]
          },
          "metadata": {},
          "execution_count": 49
        }
      ]
    },
    {
      "cell_type": "code",
      "metadata": {
        "id": "9GLugcM54fMH",
        "colab": {
          "base_uri": "https://localhost:8080/"
        },
        "outputId": "15ccce47-3394-4855-d9dd-9b7eec264caf"
      },
      "source": [
        "sentence_a = 'Quel giorno era impossibile uscire a passeggio.'\n",
        "sentence_b = 'In quel giorno era impossibile passeggiare.'\n",
        "\n",
        "distance = model_d2v.wv.wmdistance(sentence_a,sentence_b)\n",
        "distance"
      ],
      "execution_count": 50,
      "outputs": [
        {
          "output_type": "execute_result",
          "data": {
            "text/plain": [
              "0.01599083720937653"
            ]
          },
          "metadata": {},
          "execution_count": 50
        }
      ]
    },
    {
      "cell_type": "code",
      "metadata": {
        "id": "YONkPpVI4hLr",
        "colab": {
          "base_uri": "https://localhost:8080/"
        },
        "outputId": "68495c4c-5378-4ac8-8d6f-9986b4181ecf"
      },
      "source": [
        "sentence_a = 'Ne ero contenta.'\n",
        "sentence_b = 'Ne fui felice.'\n",
        "\n",
        "distance = model_d2v.wv.wmdistance(sentence_a,sentence_b)\n",
        "distance"
      ],
      "execution_count": 51,
      "outputs": [
        {
          "output_type": "execute_result",
          "data": {
            "text/plain": [
              "inf"
            ]
          },
          "metadata": {},
          "execution_count": 51
        }
      ]
    },
    {
      "cell_type": "code",
      "metadata": {
        "id": "mSSBv_WE4ipG",
        "colab": {
          "base_uri": "https://localhost:8080/"
        },
        "outputId": "ff17527d-be02-4261-fe63-fadd4cfbd39a"
      },
      "source": [
        "sentence_a = 'Quanto a me, mi aveva dispensata dall onere di unirmi al gruppo, dicendo che le rincresceva di dovermi tenere a distanza, ma finchÈ non avesse saputo da Bessie e visto con i suoi occhi che facevo seri sforzi per assumere un atteggiamento più socievole e adatto a una bambina scarlatta e a sinistra c erano le vetrate trasparenti che mi proteggevano, senza separarmene, da quella triste giornata di novembre.'\n",
        "sentence_b ='Ella mi aveva proibito di unirmi al loro gruppo, dicendo che deplorava la necessità in cui trovavasi di tenermi così lontana, ma che fino al momento in cui Bessie non guarentirebbe che mi studiavo di acquistare un carattere pi˘ socievole e pi˘ infantile, maniere pi˘ cortesi e qualcosa di pi˘ radioso, di più aperto, di più sincero, non poteva concedermi gli stessi privilegi che ai bambini allegri e soddisfatti.'\n",
        "\n",
        "distance = model_d2v.wv.wmdistance(sentence_a,sentence_b)\n",
        "distance"
      ],
      "execution_count": 52,
      "outputs": [
        {
          "output_type": "execute_result",
          "data": {
            "text/plain": [
              "0.009807271120712405"
            ]
          },
          "metadata": {},
          "execution_count": 52
        }
      ]
    },
    {
      "cell_type": "code",
      "metadata": {
        "id": "WcClyYkn4kK6",
        "colab": {
          "base_uri": "https://localhost:8080/"
        },
        "outputId": "814a9bd0-d9d1-496f-ad7d-5d367f648c39"
      },
      "source": [
        "sentence_a = 'Non mi sono mai piaciute le lunghe passeggiate, sopra tutto col freddo, ed era cosa penosa per me di tornar di notte con le mani e i piedi gelati, col cuore amareggiato dalle sgridate di Bessie, la bambinaia, e con lo spirito abbattuto dalla coscienza della mia inferiorità fisica di fronte a Eliza, a John e a Georgiana Reed.'\n",
        "\n",
        "sentence_b = 'Era terribile tornare a casa nel pungente freddo del crepuscolo, con mani e piedi gelati e il cuore intristito dai rimproveri di Bessie, la balia, e avvilita dalla consapevolezza della mia inferiorità fisica rispetto a Eliza, John e Georgiana Reed. '\n",
        "\n",
        "distance = model_d2v.wv.wmdistance(sentence_a,sentence_b)\n",
        "distance"
      ],
      "execution_count": 53,
      "outputs": [
        {
          "output_type": "execute_result",
          "data": {
            "text/plain": [
              "0.014466220047621853"
            ]
          },
          "metadata": {},
          "execution_count": 53
        }
      ]
    },
    {
      "cell_type": "code",
      "metadata": {
        "id": "iWWcSPMd4lum",
        "colab": {
          "base_uri": "https://localhost:8080/"
        },
        "outputId": "2ea41f6b-00b5-4ff8-fe95-3268b96c6508"
      },
      "source": [
        "sentence_a = 'Quel giorno era impossibile uscire a passeggio.'\n",
        "sentence_b = 'In quel giorno era impossibile passeggiare.'\n",
        "new_vector_a = model_d2v.infer_vector(sentence_a)\n",
        "new_vector_b = model_d2v.infer_vector(sentence_b)\n",
        "\n",
        "cosine_similarity = np.dot(new_vector_a, new_vector_b)/(np.linalg.norm(new_vector_a)* np.linalg.norm(new_vector_b))\n",
        "cosine_similarity"
      ],
      "execution_count": 54,
      "outputs": [
        {
          "output_type": "execute_result",
          "data": {
            "text/plain": [
              "-0.04780282"
            ]
          },
          "metadata": {},
          "execution_count": 54
        }
      ]
    },
    {
      "cell_type": "markdown",
      "metadata": {
        "id": "aLXbdBiz5Oj-"
      },
      "source": [
        "SENT2VEC"
      ]
    },
    {
      "cell_type": "code",
      "metadata": {
        "id": "PNQ2c_Rl5QX5",
        "colab": {
          "base_uri": "https://localhost:8080/"
        },
        "outputId": "edc36f5c-ebd1-4da3-d2c8-7f1ecfde1db7"
      },
      "source": [
        "!pip install bert\n",
        "!pip install pytorch_pretrained_bert\n",
        "!pip install sent2vec\n",
        "!pip install sentence_transformers"
      ],
      "execution_count": 55,
      "outputs": [
        {
          "output_type": "stream",
          "name": "stdout",
          "text": [
            "Requirement already satisfied: bert in /usr/local/lib/python3.7/dist-packages (2.2.0)\n",
            "Requirement already satisfied: erlastic in /usr/local/lib/python3.7/dist-packages (from bert) (2.0.0)\n",
            "Requirement already satisfied: pytorch_pretrained_bert in /usr/local/lib/python3.7/dist-packages (0.6.2)\n",
            "Requirement already satisfied: numpy in /usr/local/lib/python3.7/dist-packages (from pytorch_pretrained_bert) (1.19.5)\n",
            "Requirement already satisfied: boto3 in /usr/local/lib/python3.7/dist-packages (from pytorch_pretrained_bert) (1.19.5)\n",
            "Requirement already satisfied: torch>=0.4.1 in /usr/local/lib/python3.7/dist-packages (from pytorch_pretrained_bert) (1.9.0+cu111)\n",
            "Requirement already satisfied: regex in /usr/local/lib/python3.7/dist-packages (from pytorch_pretrained_bert) (2019.12.20)\n",
            "Requirement already satisfied: requests in /usr/local/lib/python3.7/dist-packages (from pytorch_pretrained_bert) (2.23.0)\n",
            "Requirement already satisfied: tqdm in /usr/local/lib/python3.7/dist-packages (from pytorch_pretrained_bert) (4.62.3)\n",
            "Requirement already satisfied: typing-extensions in /usr/local/lib/python3.7/dist-packages (from torch>=0.4.1->pytorch_pretrained_bert) (3.7.4.3)\n",
            "Requirement already satisfied: botocore<1.23.0,>=1.22.5 in /usr/local/lib/python3.7/dist-packages (from boto3->pytorch_pretrained_bert) (1.22.5)\n",
            "Requirement already satisfied: s3transfer<0.6.0,>=0.5.0 in /usr/local/lib/python3.7/dist-packages (from boto3->pytorch_pretrained_bert) (0.5.0)\n",
            "Requirement already satisfied: jmespath<1.0.0,>=0.7.1 in /usr/local/lib/python3.7/dist-packages (from boto3->pytorch_pretrained_bert) (0.10.0)\n",
            "Requirement already satisfied: urllib3<1.27,>=1.25.4 in /usr/local/lib/python3.7/dist-packages (from botocore<1.23.0,>=1.22.5->boto3->pytorch_pretrained_bert) (1.25.11)\n",
            "Requirement already satisfied: python-dateutil<3.0.0,>=2.1 in /usr/local/lib/python3.7/dist-packages (from botocore<1.23.0,>=1.22.5->boto3->pytorch_pretrained_bert) (2.8.2)\n",
            "Requirement already satisfied: six>=1.5 in /usr/local/lib/python3.7/dist-packages (from python-dateutil<3.0.0,>=2.1->botocore<1.23.0,>=1.22.5->boto3->pytorch_pretrained_bert) (1.15.0)\n",
            "Requirement already satisfied: idna<3,>=2.5 in /usr/local/lib/python3.7/dist-packages (from requests->pytorch_pretrained_bert) (2.10)\n",
            "Requirement already satisfied: chardet<4,>=3.0.2 in /usr/local/lib/python3.7/dist-packages (from requests->pytorch_pretrained_bert) (3.0.4)\n",
            "Requirement already satisfied: certifi>=2017.4.17 in /usr/local/lib/python3.7/dist-packages (from requests->pytorch_pretrained_bert) (2021.5.30)\n",
            "Requirement already satisfied: sent2vec in /usr/local/lib/python3.7/dist-packages (0.2.2)\n",
            "Requirement already satisfied: spacy in /usr/local/lib/python3.7/dist-packages (from sent2vec) (3.1.3)\n",
            "Requirement already satisfied: gensim in /usr/local/lib/python3.7/dist-packages (from sent2vec) (3.6.0)\n",
            "Requirement already satisfied: numpy in /usr/local/lib/python3.7/dist-packages (from sent2vec) (1.19.5)\n",
            "Requirement already satisfied: transformers in /usr/local/lib/python3.7/dist-packages (from sent2vec) (4.11.3)\n",
            "Requirement already satisfied: torch in /usr/local/lib/python3.7/dist-packages (from sent2vec) (1.9.0+cu111)\n",
            "Requirement already satisfied: six>=1.5.0 in /usr/local/lib/python3.7/dist-packages (from gensim->sent2vec) (1.15.0)\n",
            "Requirement already satisfied: smart-open>=1.2.1 in /usr/local/lib/python3.7/dist-packages (from gensim->sent2vec) (5.2.1)\n",
            "Requirement already satisfied: scipy>=0.18.1 in /usr/local/lib/python3.7/dist-packages (from gensim->sent2vec) (1.4.1)\n",
            "Requirement already satisfied: jinja2 in /usr/local/lib/python3.7/dist-packages (from spacy->sent2vec) (2.11.3)\n",
            "Requirement already satisfied: packaging>=20.0 in /usr/local/lib/python3.7/dist-packages (from spacy->sent2vec) (21.0)\n",
            "Requirement already satisfied: srsly<3.0.0,>=2.4.1 in /usr/local/lib/python3.7/dist-packages (from spacy->sent2vec) (2.4.2)\n",
            "Requirement already satisfied: wasabi<1.1.0,>=0.8.1 in /usr/local/lib/python3.7/dist-packages (from spacy->sent2vec) (0.8.2)\n",
            "Requirement already satisfied: requests<3.0.0,>=2.13.0 in /usr/local/lib/python3.7/dist-packages (from spacy->sent2vec) (2.23.0)\n",
            "Requirement already satisfied: cymem<2.1.0,>=2.0.2 in /usr/local/lib/python3.7/dist-packages (from spacy->sent2vec) (2.0.5)\n",
            "Requirement already satisfied: tqdm<5.0.0,>=4.38.0 in /usr/local/lib/python3.7/dist-packages (from spacy->sent2vec) (4.62.3)\n",
            "Requirement already satisfied: setuptools in /usr/local/lib/python3.7/dist-packages (from spacy->sent2vec) (57.4.0)\n",
            "Requirement already satisfied: pathy>=0.3.5 in /usr/local/lib/python3.7/dist-packages (from spacy->sent2vec) (0.6.1)\n",
            "Requirement already satisfied: preshed<3.1.0,>=3.0.2 in /usr/local/lib/python3.7/dist-packages (from spacy->sent2vec) (3.0.5)\n",
            "Requirement already satisfied: blis<0.8.0,>=0.4.0 in /usr/local/lib/python3.7/dist-packages (from spacy->sent2vec) (0.4.1)\n",
            "Requirement already satisfied: typing-extensions<4.0.0.0,>=3.7.4 in /usr/local/lib/python3.7/dist-packages (from spacy->sent2vec) (3.7.4.3)\n",
            "Requirement already satisfied: thinc<8.1.0,>=8.0.9 in /usr/local/lib/python3.7/dist-packages (from spacy->sent2vec) (8.0.11)\n",
            "Requirement already satisfied: spacy-legacy<3.1.0,>=3.0.8 in /usr/local/lib/python3.7/dist-packages (from spacy->sent2vec) (3.0.8)\n",
            "Requirement already satisfied: typer<0.5.0,>=0.3.0 in /usr/local/lib/python3.7/dist-packages (from spacy->sent2vec) (0.4.0)\n",
            "Requirement already satisfied: catalogue<2.1.0,>=2.0.6 in /usr/local/lib/python3.7/dist-packages (from spacy->sent2vec) (2.0.6)\n",
            "Requirement already satisfied: murmurhash<1.1.0,>=0.28.0 in /usr/local/lib/python3.7/dist-packages (from spacy->sent2vec) (1.0.5)\n",
            "Requirement already satisfied: pydantic!=1.8,!=1.8.1,<1.9.0,>=1.7.4 in /usr/local/lib/python3.7/dist-packages (from spacy->sent2vec) (1.8.2)\n",
            "Requirement already satisfied: zipp>=0.5 in /usr/local/lib/python3.7/dist-packages (from catalogue<2.1.0,>=2.0.6->spacy->sent2vec) (3.6.0)\n",
            "Requirement already satisfied: pyparsing>=2.0.2 in /usr/local/lib/python3.7/dist-packages (from packaging>=20.0->spacy->sent2vec) (2.4.7)\n",
            "Requirement already satisfied: idna<3,>=2.5 in /usr/local/lib/python3.7/dist-packages (from requests<3.0.0,>=2.13.0->spacy->sent2vec) (2.10)\n",
            "Requirement already satisfied: urllib3!=1.25.0,!=1.25.1,<1.26,>=1.21.1 in /usr/local/lib/python3.7/dist-packages (from requests<3.0.0,>=2.13.0->spacy->sent2vec) (1.25.11)\n",
            "Requirement already satisfied: certifi>=2017.4.17 in /usr/local/lib/python3.7/dist-packages (from requests<3.0.0,>=2.13.0->spacy->sent2vec) (2021.5.30)\n",
            "Requirement already satisfied: chardet<4,>=3.0.2 in /usr/local/lib/python3.7/dist-packages (from requests<3.0.0,>=2.13.0->spacy->sent2vec) (3.0.4)\n",
            "Requirement already satisfied: click<9.0.0,>=7.1.1 in /usr/local/lib/python3.7/dist-packages (from typer<0.5.0,>=0.3.0->spacy->sent2vec) (7.1.2)\n",
            "Requirement already satisfied: MarkupSafe>=0.23 in /usr/local/lib/python3.7/dist-packages (from jinja2->spacy->sent2vec) (2.0.1)\n",
            "Requirement already satisfied: sacremoses in /usr/local/lib/python3.7/dist-packages (from transformers->sent2vec) (0.0.46)\n",
            "Requirement already satisfied: tokenizers<0.11,>=0.10.1 in /usr/local/lib/python3.7/dist-packages (from transformers->sent2vec) (0.10.3)\n",
            "Requirement already satisfied: pyyaml>=5.1 in /usr/local/lib/python3.7/dist-packages (from transformers->sent2vec) (6.0)\n",
            "Requirement already satisfied: filelock in /usr/local/lib/python3.7/dist-packages (from transformers->sent2vec) (3.3.0)\n",
            "Requirement already satisfied: huggingface-hub>=0.0.17 in /usr/local/lib/python3.7/dist-packages (from transformers->sent2vec) (0.0.19)\n",
            "Requirement already satisfied: importlib-metadata in /usr/local/lib/python3.7/dist-packages (from transformers->sent2vec) (4.8.1)\n",
            "Requirement already satisfied: regex!=2019.12.17 in /usr/local/lib/python3.7/dist-packages (from transformers->sent2vec) (2019.12.20)\n",
            "Requirement already satisfied: joblib in /usr/local/lib/python3.7/dist-packages (from sacremoses->transformers->sent2vec) (1.0.1)\n",
            "Requirement already satisfied: sentence_transformers in /usr/local/lib/python3.7/dist-packages (2.1.0)\n",
            "Requirement already satisfied: torch>=1.6.0 in /usr/local/lib/python3.7/dist-packages (from sentence_transformers) (1.9.0+cu111)\n",
            "Requirement already satisfied: sentencepiece in /usr/local/lib/python3.7/dist-packages (from sentence_transformers) (0.1.96)\n",
            "Requirement already satisfied: nltk in /usr/local/lib/python3.7/dist-packages (from sentence_transformers) (3.2.5)\n",
            "Requirement already satisfied: huggingface-hub in /usr/local/lib/python3.7/dist-packages (from sentence_transformers) (0.0.19)\n",
            "Requirement already satisfied: transformers<5.0.0,>=4.6.0 in /usr/local/lib/python3.7/dist-packages (from sentence_transformers) (4.11.3)\n",
            "Requirement already satisfied: numpy in /usr/local/lib/python3.7/dist-packages (from sentence_transformers) (1.19.5)\n",
            "Requirement already satisfied: torchvision in /usr/local/lib/python3.7/dist-packages (from sentence_transformers) (0.10.0+cu111)\n",
            "Requirement already satisfied: tqdm in /usr/local/lib/python3.7/dist-packages (from sentence_transformers) (4.62.3)\n",
            "Requirement already satisfied: scikit-learn in /usr/local/lib/python3.7/dist-packages (from sentence_transformers) (0.22.2.post1)\n",
            "Requirement already satisfied: tokenizers>=0.10.3 in /usr/local/lib/python3.7/dist-packages (from sentence_transformers) (0.10.3)\n",
            "Requirement already satisfied: scipy in /usr/local/lib/python3.7/dist-packages (from sentence_transformers) (1.4.1)\n",
            "Requirement already satisfied: typing-extensions in /usr/local/lib/python3.7/dist-packages (from torch>=1.6.0->sentence_transformers) (3.7.4.3)\n",
            "Requirement already satisfied: packaging>=20.0 in /usr/local/lib/python3.7/dist-packages (from transformers<5.0.0,>=4.6.0->sentence_transformers) (21.0)\n",
            "Requirement already satisfied: sacremoses in /usr/local/lib/python3.7/dist-packages (from transformers<5.0.0,>=4.6.0->sentence_transformers) (0.0.46)\n",
            "Requirement already satisfied: filelock in /usr/local/lib/python3.7/dist-packages (from transformers<5.0.0,>=4.6.0->sentence_transformers) (3.3.0)\n",
            "Requirement already satisfied: importlib-metadata in /usr/local/lib/python3.7/dist-packages (from transformers<5.0.0,>=4.6.0->sentence_transformers) (4.8.1)\n",
            "Requirement already satisfied: regex!=2019.12.17 in /usr/local/lib/python3.7/dist-packages (from transformers<5.0.0,>=4.6.0->sentence_transformers) (2019.12.20)\n",
            "Requirement already satisfied: requests in /usr/local/lib/python3.7/dist-packages (from transformers<5.0.0,>=4.6.0->sentence_transformers) (2.23.0)\n",
            "Requirement already satisfied: pyyaml>=5.1 in /usr/local/lib/python3.7/dist-packages (from transformers<5.0.0,>=4.6.0->sentence_transformers) (6.0)\n",
            "Requirement already satisfied: pyparsing>=2.0.2 in /usr/local/lib/python3.7/dist-packages (from packaging>=20.0->transformers<5.0.0,>=4.6.0->sentence_transformers) (2.4.7)\n",
            "Requirement already satisfied: zipp>=0.5 in /usr/local/lib/python3.7/dist-packages (from importlib-metadata->transformers<5.0.0,>=4.6.0->sentence_transformers) (3.6.0)\n",
            "Requirement already satisfied: six in /usr/local/lib/python3.7/dist-packages (from nltk->sentence_transformers) (1.15.0)\n",
            "Requirement already satisfied: urllib3!=1.25.0,!=1.25.1,<1.26,>=1.21.1 in /usr/local/lib/python3.7/dist-packages (from requests->transformers<5.0.0,>=4.6.0->sentence_transformers) (1.25.11)\n",
            "Requirement already satisfied: idna<3,>=2.5 in /usr/local/lib/python3.7/dist-packages (from requests->transformers<5.0.0,>=4.6.0->sentence_transformers) (2.10)\n",
            "Requirement already satisfied: chardet<4,>=3.0.2 in /usr/local/lib/python3.7/dist-packages (from requests->transformers<5.0.0,>=4.6.0->sentence_transformers) (3.0.4)\n",
            "Requirement already satisfied: certifi>=2017.4.17 in /usr/local/lib/python3.7/dist-packages (from requests->transformers<5.0.0,>=4.6.0->sentence_transformers) (2021.5.30)\n",
            "Requirement already satisfied: joblib in /usr/local/lib/python3.7/dist-packages (from sacremoses->transformers<5.0.0,>=4.6.0->sentence_transformers) (1.0.1)\n",
            "Requirement already satisfied: click in /usr/local/lib/python3.7/dist-packages (from sacremoses->transformers<5.0.0,>=4.6.0->sentence_transformers) (7.1.2)\n",
            "Requirement already satisfied: pillow>=5.3.0 in /usr/local/lib/python3.7/dist-packages (from torchvision->sentence_transformers) (7.1.2)\n"
          ]
        }
      ]
    },
    {
      "cell_type": "code",
      "metadata": {
        "id": "DrGWq7Xs4fDI"
      },
      "source": [
        "import tensorflow as tf\n",
        "import tensorflow as tf\n",
        "import tensorflow_hub as hub\n",
        "from tensorflow.keras import layers\n",
        "import bert\n",
        "import torch\n",
        "from torch.utils.data import TensorDataset, DataLoader, RandomSampler, SequentialSampler\n",
        "from keras.preprocessing.sequence import pad_sequences\n",
        "from sklearn.model_selection import train_test_split\n",
        "from pytorch_pretrained_bert import BertTokenizer, BertConfig\n",
        "from pytorch_pretrained_bert import BertAdam, BertForSequenceClassification\n",
        "from tqdm import tqdm, trange\n",
        "import pandas as pd\n",
        "import io\n",
        "import random\n",
        "import numpy as np\n",
        "import matplotlib.pyplot as plt\n",
        "import math"
      ],
      "execution_count": 56,
      "outputs": []
    },
    {
      "cell_type": "code",
      "metadata": {
        "id": "OLFlHkaB56IQ",
        "colab": {
          "base_uri": "https://localhost:8080/"
        },
        "outputId": "0492f212-2c9e-460f-b271-a8593b1f05c3"
      },
      "source": [
        "import torch#pytorch\n",
        "from transformers import AutoTokenizer, AutoModel#for embeddings\n",
        "from sklearn.metrics.pairwise import cosine_similarity#for similarity\n",
        "\n",
        "#download pretrained model\n",
        "tokenizer = AutoTokenizer.from_pretrained(\"dbmdz/bert-base-italian-cased\")\n",
        "model = AutoModel.from_pretrained(\"dbmdz/bert-base-italian-cased\",output_hidden_states=True)"
      ],
      "execution_count": 57,
      "outputs": [
        {
          "output_type": "stream",
          "name": "stderr",
          "text": [
            "Some weights of the model checkpoint at dbmdz/bert-base-italian-cased were not used when initializing BertModel: ['cls.predictions.transform.LayerNorm.bias', 'cls.predictions.decoder.weight', 'cls.predictions.transform.dense.bias', 'cls.seq_relationship.bias', 'cls.predictions.transform.LayerNorm.weight', 'cls.predictions.bias', 'cls.seq_relationship.weight', 'cls.predictions.transform.dense.weight']\n",
            "- This IS expected if you are initializing BertModel from the checkpoint of a model trained on another task or with another architecture (e.g. initializing a BertForSequenceClassification model from a BertForPreTraining model).\n",
            "- This IS NOT expected if you are initializing BertModel from the checkpoint of a model that you expect to be exactly identical (initializing a BertForSequenceClassification model from a BertForSequenceClassification model).\n"
          ]
        }
      ]
    },
    {
      "cell_type": "code",
      "metadata": {
        "id": "YVPPq7Vc57pg"
      },
      "source": [
        "#create embeddings\n",
        "def get_embeddings(text,token_length):\n",
        "  tokens=tokenizer(text,max_length=token_length,padding='max_length',truncation=True)\n",
        "  output=model(torch.tensor(tokens.input_ids).unsqueeze(0),\n",
        "               attention_mask=torch.tensor(tokens.attention_mask).unsqueeze(0)).hidden_states[-1]\n",
        "  return torch.mean(output,axis=1).detach().numpy()"
      ],
      "execution_count": 58,
      "outputs": []
    },
    {
      "cell_type": "code",
      "metadata": {
        "id": "EgmGgu1t59c7"
      },
      "source": [
        "#calculate similarity\n",
        "def calculate_similarity(text1,text2,token_length=20):\n",
        "    out1=get_embeddings(text1,token_length=token_length)#create embeddings of text\n",
        "    out2=get_embeddings(text2,token_length=token_length)#create embeddings of text\n",
        "    sim= cosine_similarity(out1,out2)[0][0]\n",
        "    print(sim)"
      ],
      "execution_count": 59,
      "outputs": []
    },
    {
      "cell_type": "code",
      "metadata": {
        "id": "J4VqW7Ge5_Ba",
        "colab": {
          "base_uri": "https://localhost:8080/"
        },
        "outputId": "0b29960d-6564-427b-a089-18396a90066b"
      },
      "source": [
        "calculate_similarity(df['Lemmi'][0],df2['Lemmi'][0])"
      ],
      "execution_count": 60,
      "outputs": [
        {
          "output_type": "stream",
          "name": "stdout",
          "text": [
            "0.9500569\n"
          ]
        }
      ]
    },
    {
      "cell_type": "code",
      "metadata": {
        "id": "8NeGLg0G6FJm",
        "colab": {
          "base_uri": "https://localhost:8080/"
        },
        "outputId": "da8a95ff-4671-4ac3-b506-6e6d0df0d92e"
      },
      "source": [
        "sentence_a = 'Ne ero contenta.'\n",
        "sentence_b = 'Ne fui felice.'\n",
        "\n",
        "calculate_similarity(sentence_a,sentence_b)"
      ],
      "execution_count": 61,
      "outputs": [
        {
          "output_type": "stream",
          "name": "stdout",
          "text": [
            "0.9024403\n"
          ]
        }
      ]
    },
    {
      "cell_type": "code",
      "metadata": {
        "id": "TM85esjd5uuO",
        "colab": {
          "base_uri": "https://localhost:8080/"
        },
        "outputId": "2961df96-dac5-4b42-aef2-7cffdde86105"
      },
      "source": [
        "sentence_a = 'Quanto a me, mi aveva dispensata dall onere di unirmi al gruppo, dicendo che le rincresceva di dovermi tenere a distanza, ma finchÈ non avesse saputo da Bessie e visto con i suoi occhi che facevo seri sforzi per assumere un atteggiamento più socievole e adatto a una bambina scarlatta e a sinistra c erano le vetrate trasparenti che mi proteggevano, senza separarmene, da quella triste giornata di novembre.'\n",
        "sentence_b ='Ella mi aveva proibito di unirmi al loro gruppo, dicendo che deplorava la necessità in cui trovavasi di tenermi così lontana, ma che fino al momento in cui Bessie non guarentirebbe che mi studiavo di acquistare un carattere pi˘ socievole e pi˘ infantile, maniere pi˘ cortesi e qualcosa di pi˘ radioso, di più aperto, di più sincero, non poteva concedermi gli stessi privilegi che ai bambini allegri e soddisfatti.'\n",
        "\n",
        "calculate_similarity(sentence_a,sentence_b)"
      ],
      "execution_count": 62,
      "outputs": [
        {
          "output_type": "stream",
          "name": "stdout",
          "text": [
            "0.94164723\n"
          ]
        }
      ]
    },
    {
      "cell_type": "code",
      "metadata": {
        "id": "c-3y1XTi6Dau",
        "colab": {
          "base_uri": "https://localhost:8080/"
        },
        "outputId": "2b217516-6df8-47e6-f240-10109cee067e"
      },
      "source": [
        "sentence_a = 'Non mi sono mai piaciute le lunghe passeggiate, sopra tutto col freddo, ed era cosa penosa per me di tornar di notte con le mani e i piedi gelati, col cuore amareggiato dalle sgridate di Bessie, la bambinaia, e con lo spirito abbattuto dalla coscienza della mia inferiorità fisica di fronte a Eliza, a John e a Georgiana Reed.'\n",
        "\n",
        "sentence_b = 'Era terribile tornare a casa nel pungente freddo del crepuscolo, con mani e piedi gelati e il cuore intristito dai rimproveri di Bessie, la balia, e avvilita dalla consapevolezza della mia inferiorità fisica rispetto a Eliza, John e Georgiana Reed. '\n",
        "\n",
        "calculate_similarity(sentence_a,sentence_b)"
      ],
      "execution_count": 63,
      "outputs": [
        {
          "output_type": "stream",
          "name": "stdout",
          "text": [
            "0.80446357\n"
          ]
        }
      ]
    }
  ]
}