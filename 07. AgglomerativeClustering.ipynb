{
  "nbformat": 4,
  "nbformat_minor": 0,
  "metadata": {
    "colab": {
      "name": "AgglomerativeClustering.ipynb",
      "provenance": [],
      "collapsed_sections": []
    },
    "kernelspec": {
      "display_name": "Python 3",
      "name": "python3"
    },
    "language_info": {
      "name": "python"
    }
  },
  "cells": [
    {
      "cell_type": "code",
      "metadata": {
        "colab": {
          "base_uri": "https://localhost:8080/"
        },
        "id": "CqDfudpg9BIF",
        "outputId": "27d704a9-44fa-4676-ba10-819340087602"
      },
      "source": [
        "import gensim\n",
        "from gensim.models import Word2Vec\n",
        "from gensim.models import Doc2Vec\n",
        "import numpy as np\n",
        "import tensorflow as tf\n",
        "from tensorflow import keras\n",
        "\n",
        "import gensim\n",
        "from gensim.models import Word2Vec\n",
        "from gensim.models import Doc2Vec\n",
        "import numpy as np\n",
        "import tensorflow as tf\n",
        "from tensorflow import keras\n",
        "import nltk\n",
        "from nltk.tokenize import sent_tokenize, word_tokenize\n",
        "nltk.download('punkt')\n",
        "import string\n",
        "\n",
        "# Clustering\n",
        "from sklearn.feature_extraction.text import TfidfVectorizer\n",
        "from sklearn.cluster import KMeans\n",
        "from sklearn.cluster import AgglomerativeClustering"
      ],
      "execution_count": null,
      "outputs": [
        {
          "output_type": "stream",
          "name": "stdout",
          "text": [
            "[nltk_data] Downloading package punkt to /root/nltk_data...\n",
            "[nltk_data]   Package punkt is already up-to-date!\n"
          ]
        }
      ]
    },
    {
      "cell_type": "code",
      "metadata": {
        "colab": {
          "base_uri": "https://localhost:8080/",
          "height": 411
        },
        "id": "WiyK2a-I9Jqm",
        "outputId": "11db5ab8-a4cd-4536-bb37-b467f119de67"
      },
      "source": [
        "import pandas as pd\n",
        "data= pd.read_csv('Lemmi.csv')\n",
        "data"
      ],
      "execution_count": null,
      "outputs": [
        {
          "output_type": "execute_result",
          "data": {
            "text/html": [
              "<div>\n",
              "<style scoped>\n",
              "    .dataframe tbody tr th:only-of-type {\n",
              "        vertical-align: middle;\n",
              "    }\n",
              "\n",
              "    .dataframe tbody tr th {\n",
              "        vertical-align: top;\n",
              "    }\n",
              "\n",
              "    .dataframe thead th {\n",
              "        text-align: right;\n",
              "    }\n",
              "</style>\n",
              "<table border=\"1\" class=\"dataframe\">\n",
              "  <thead>\n",
              "    <tr style=\"text-align: right;\">\n",
              "      <th></th>\n",
              "      <th>Unnamed: 0</th>\n",
              "      <th>text</th>\n",
              "      <th>documents_cleaned</th>\n",
              "    </tr>\n",
              "  </thead>\n",
              "  <tbody>\n",
              "    <tr>\n",
              "      <th>0</th>\n",
              "      <td>0</td>\n",
              "      <td>in quello giorno essere impossibile passeggiare .</td>\n",
              "      <td>['in', 'quello', 'giorno', 'essere', 'impossib...</td>\n",
              "    </tr>\n",
              "    <tr>\n",
              "      <th>1</th>\n",
              "      <td>1</td>\n",
              "      <td>il mattina avere errare per uno ora nel bosche...</td>\n",
              "      <td>['il', 'mattina', 'avere', 'errare', 'per', 'u...</td>\n",
              "    </tr>\n",
              "    <tr>\n",
              "      <th>2</th>\n",
              "      <td>2</td>\n",
              "      <td>ne essere contentare .</td>\n",
              "      <td>['ne', 'essere', 'contentare', '.']</td>\n",
              "    </tr>\n",
              "    <tr>\n",
              "      <th>3</th>\n",
              "      <td>3</td>\n",
              "      <td>non mi essere mai piacere il lungo passeggiate...</td>\n",
              "      <td>['non', 'mi', 'essere', 'mai', 'piacere', 'il'...</td>\n",
              "    </tr>\n",
              "    <tr>\n",
              "      <th>4</th>\n",
              "      <td>4</td>\n",
              "      <td>eliza , John e georgiana essere aggruppare in ...</td>\n",
              "      <td>['eliza', ',', 'John', 'e', 'georgiana', 'esse...</td>\n",
              "    </tr>\n",
              "    <tr>\n",
              "      <th>...</th>\n",
              "      <td>...</td>\n",
              "      <td>...</td>\n",
              "      <td>...</td>\n",
              "    </tr>\n",
              "    <tr>\n",
              "      <th>19797</th>\n",
              "      <td>19797</td>\n",
              "      <td>il paura della morte non offuscare il ultimo o...</td>\n",
              "      <td>['il', 'paura', 'della', 'morte', 'non', 'offu...</td>\n",
              "    </tr>\n",
              "    <tr>\n",
              "      <th>19798</th>\n",
              "      <td>19798</td>\n",
              "      <td>il suo stesso parola ne essere pegno : \\n\\n \" ...</td>\n",
              "      <td>['il', 'suo', 'stesso', 'parola', 'ne', 'esser...</td>\n",
              "    </tr>\n",
              "    <tr>\n",
              "      <th>19799</th>\n",
              "      <td>19799</td>\n",
              "      <td>ogni giorno mi annunciare con sempre grande ch...</td>\n",
              "      <td>['ogni', 'giorno', 'mi', 'annunciare', 'con', ...</td>\n",
              "    </tr>\n",
              "    <tr>\n",
              "      <th>19800</th>\n",
              "      <td>19800</td>\n",
              "      <td>, e di ora in ora io rispondere con fervore cr...</td>\n",
              "      <td>[',', 'e', 'di', 'ora', 'in', 'ora', 'io', 'ri...</td>\n",
              "    </tr>\n",
              "    <tr>\n",
              "      <th>19801</th>\n",
              "      <td>19801</td>\n",
              "      <td>\" .</td>\n",
              "      <td>['``', '.']</td>\n",
              "    </tr>\n",
              "  </tbody>\n",
              "</table>\n",
              "<p>19802 rows × 3 columns</p>\n",
              "</div>"
            ],
            "text/plain": [
              "       Unnamed: 0  ...                                  documents_cleaned\n",
              "0               0  ...  ['in', 'quello', 'giorno', 'essere', 'impossib...\n",
              "1               1  ...  ['il', 'mattina', 'avere', 'errare', 'per', 'u...\n",
              "2               2  ...                ['ne', 'essere', 'contentare', '.']\n",
              "3               3  ...  ['non', 'mi', 'essere', 'mai', 'piacere', 'il'...\n",
              "4               4  ...  ['eliza', ',', 'John', 'e', 'georgiana', 'esse...\n",
              "...           ...  ...                                                ...\n",
              "19797       19797  ...  ['il', 'paura', 'della', 'morte', 'non', 'offu...\n",
              "19798       19798  ...  ['il', 'suo', 'stesso', 'parola', 'ne', 'esser...\n",
              "19799       19799  ...  ['ogni', 'giorno', 'mi', 'annunciare', 'con', ...\n",
              "19800       19800  ...  [',', 'e', 'di', 'ora', 'in', 'ora', 'io', 'ri...\n",
              "19801       19801  ...                                        ['``', '.']\n",
              "\n",
              "[19802 rows x 3 columns]"
            ]
          },
          "metadata": {},
          "execution_count": 21
        }
      ]
    },
    {
      "cell_type": "code",
      "metadata": {
        "id": "WPIIALKnThlq"
      },
      "source": [
        "from spacy.lang.it.stop_words import STOP_WORDS\n",
        "def clean(x):\n",
        "  stop = STOP_WORDS\n",
        "  words  = [w for w in word_tokenize(x.lower()) if w.isalpha() and w not in stop and w not in string.punctuation]\n",
        "  return \" \".join(words)"
      ],
      "execution_count": null,
      "outputs": []
    },
    {
      "cell_type": "code",
      "metadata": {
        "id": "CbtuoIcbRUwt"
      },
      "source": [
        "data['clean'] = data['text'].apply(clean)"
      ],
      "execution_count": null,
      "outputs": []
    },
    {
      "cell_type": "code",
      "metadata": {
        "id": "Ep7DcSsF9O6z"
      },
      "source": [
        "data.dropna(subset=['clean'], inplace=True)"
      ],
      "execution_count": null,
      "outputs": []
    },
    {
      "cell_type": "code",
      "metadata": {
        "id": "Rh5I05RKfG0R"
      },
      "source": [
        "text = data['clean']"
      ],
      "execution_count": null,
      "outputs": []
    },
    {
      "cell_type": "code",
      "metadata": {
        "colab": {
          "base_uri": "https://localhost:8080/"
        },
        "id": "_i_qhcN4TgxS",
        "outputId": "9dfa80c9-e686-40c9-9f8f-de1b757bc9ba"
      },
      "source": [
        "text"
      ],
      "execution_count": null,
      "outputs": [
        {
          "output_type": "execute_result",
          "data": {
            "text/plain": [
              "0                                  impossibile passeggiare\n",
              "1        mattina errare boschetto spogliare foglia pran...\n",
              "2                                               contentare\n",
              "3        piacere passeggiate freddo penoso tornar notte...\n",
              "4        eliza john e georgiana aggruppare salotto atto...\n",
              "                               ...                        \n",
              "19797    paura morte offuscare st john mente nube cuore...\n",
              "19798                       parola pegno signore avvertire\n",
              "19799                annunciare chiarezza sì venire presto\n",
              "19800    e rispondere fervore crescente amen venire sig...\n",
              "19801                                                     \n",
              "Name: clean, Length: 19802, dtype: object"
            ]
          },
          "metadata": {},
          "execution_count": 26
        }
      ]
    },
    {
      "cell_type": "markdown",
      "metadata": {
        "id": "w-iLbBUx5axG"
      },
      "source": [
        "#KMEANS USING TF IDF"
      ]
    },
    {
      "cell_type": "code",
      "metadata": {
        "colab": {
          "base_uri": "https://localhost:8080/"
        },
        "id": "Nl-zSosYoqEc",
        "outputId": "47e03fe2-dfc1-4cfd-f615-17594e974aff"
      },
      "source": [
        "#tfidf vector initililization\n",
        "from sklearn.feature_extraction.text import TfidfVectorizer\n",
        "tfidf_vect = TfidfVectorizer()\n",
        "tfidf = tfidf_vect.fit_transform(text.values)\n",
        "tfidf.shape"
      ],
      "execution_count": null,
      "outputs": [
        {
          "output_type": "execute_result",
          "data": {
            "text/plain": [
              "(19802, 14128)"
            ]
          },
          "metadata": {},
          "execution_count": 27
        }
      ]
    },
    {
      "cell_type": "code",
      "metadata": {
        "id": "yetIDuv2YrtB"
      },
      "source": [
        "distortions = []\n",
        "K = range(1,10)\n",
        "for k in K:\n",
        "    kmeanModel = KMeans(n_clusters=k)\n",
        "    kmeanModel.fit(tfidf)\n",
        "    distortions.append(kmeanModel.inertia_)"
      ],
      "execution_count": null,
      "outputs": []
    },
    {
      "cell_type": "code",
      "metadata": {
        "colab": {
          "base_uri": "https://localhost:8080/",
          "height": 512
        },
        "id": "tI0PVj3IYvs4",
        "outputId": "45455515-8f1d-4261-80f3-5158ca41d9d8"
      },
      "source": [
        "from matplotlib import pyplot as plt\n",
        "plt.figure(figsize=(16,8))\n",
        "plt.plot(K, distortions, 'bx-')\n",
        "plt.xlabel('k')\n",
        "plt.ylabel('Distortion')\n",
        "plt.title('The Elbow Method showing the optimal k')\n",
        "plt.show()"
      ],
      "execution_count": null,
      "outputs": [
        {
          "output_type": "display_data",
          "data": {
            "image/png": "[encoded data removed]",
            "text/plain": [
              "<Figure size 1152x576 with 1 Axes>"
            ]
          },
          "metadata": {
            "needs_background": "light"
          }
        }
      ]
    },
    {
      "cell_type": "code",
      "metadata": {
        "colab": {
          "base_uri": "https://localhost:8080/"
        },
        "id": "dW2aBDBm5hFo",
        "outputId": "7732dd1d-1312-48a4-d3db-d02a612a27e4"
      },
      "source": [
        "from sklearn.cluster import KMeans\n",
        "model_tf = KMeans(n_clusters = 8, n_jobs = -1,random_state=99)\n",
        "model_tf.fit(tfidf)"
      ],
      "execution_count": null,
      "outputs": [
        {
          "output_type": "execute_result",
          "data": {
            "text/plain": [
              "KMeans(algorithm='auto', copy_x=True, init='k-means++', max_iter=300,\n",
              "       n_clusters=8, n_init=10, n_jobs=-1, precompute_distances='auto',\n",
              "       random_state=99, tol=0.0001, verbose=0)"
            ]
          },
          "metadata": {},
          "execution_count": 30
        }
      ]
    },
    {
      "cell_type": "code",
      "metadata": {
        "id": "SacDcqueop9d"
      },
      "source": [
        "labels_tf = model_tf.labels_\n",
        "cluster_center_tf=model_tf.cluster_centers_"
      ],
      "execution_count": null,
      "outputs": []
    },
    {
      "cell_type": "code",
      "metadata": {
        "colab": {
          "base_uri": "https://localhost:8080/"
        },
        "id": "UCE8A91X5jUc",
        "outputId": "b0642da7-995d-459c-fa96-29e3cf369586"
      },
      "source": [
        "cluster_center_tf"
      ],
      "execution_count": null,
      "outputs": [
        {
          "output_type": "execute_result",
          "data": {
            "text/plain": [
              "array([[4.13306728e-05, 3.69838722e-05, 1.99269298e-05, ...,\n",
              "        2.27462991e-05, 2.58292721e-05, 3.57521755e-05],\n",
              "       [0.00000000e+00, 0.00000000e+00, 0.00000000e+00, ...,\n",
              "        0.00000000e+00, 0.00000000e+00, 0.00000000e+00],\n",
              "       [0.00000000e+00, 0.00000000e+00, 0.00000000e+00, ...,\n",
              "        0.00000000e+00, 0.00000000e+00, 0.00000000e+00],\n",
              "       ...,\n",
              "       [0.00000000e+00, 0.00000000e+00, 0.00000000e+00, ...,\n",
              "        0.00000000e+00, 0.00000000e+00, 0.00000000e+00],\n",
              "       [0.00000000e+00, 0.00000000e+00, 0.00000000e+00, ...,\n",
              "        0.00000000e+00, 0.00000000e+00, 0.00000000e+00],\n",
              "       [0.00000000e+00, 0.00000000e+00, 0.00000000e+00, ...,\n",
              "        0.00000000e+00, 0.00000000e+00, 0.00000000e+00]])"
            ]
          },
          "metadata": {},
          "execution_count": 32
        }
      ]
    },
    {
      "cell_type": "code",
      "metadata": {
        "id": "uSNB20mZ5mpI"
      },
      "source": [
        "# to understand what kind of words generated as columns by BOW\n",
        "terms1 = tfidf_vect.get_feature_names()"
      ],
      "execution_count": null,
      "outputs": []
    },
    {
      "cell_type": "code",
      "metadata": {
        "id": "DGS-NsBAop5p"
      },
      "source": [
        "from sklearn import metrics\n",
        "silhouette_score_tf = metrics.silhouette_score(tfidf, labels_tf, metric='euclidean')"
      ],
      "execution_count": null,
      "outputs": []
    },
    {
      "cell_type": "code",
      "metadata": {
        "colab": {
          "base_uri": "https://localhost:8080/"
        },
        "id": "fWCWyG1nop2R",
        "outputId": "01dd7656-f5f1-4c5d-d702-a32218089e96"
      },
      "source": [
        "silhouette_score_tf"
      ],
      "execution_count": null,
      "outputs": [
        {
          "output_type": "execute_result",
          "data": {
            "text/plain": [
              "0.015228119303989202"
            ]
          },
          "metadata": {},
          "execution_count": 36
        }
      ]
    },
    {
      "cell_type": "code",
      "metadata": {
        "colab": {
          "base_uri": "https://localhost:8080/"
        },
        "id": "bxYEAEfs-JIP",
        "outputId": "646e0651-fa98-46a4-daf5-702a47a51140"
      },
      "source": [
        "order_centroids = model_tf.cluster_centers_.argsort()[:, ::-1]\n",
        "for i in range(8):\n",
        " print(i)\n",
        " for ind in order_centroids[i, :10]:\n",
        "   print(terms1[ind])"
      ],
      "execution_count": null,
      "outputs": [
        {
          "output_type": "stream",
          "name": "stdout",
          "text": [
            "0\n",
            "potere\n",
            "stare\n",
            "volere\n",
            "dovere\n",
            "vedere\n",
            "sentire\n",
            "parlare\n",
            "venire\n",
            "occhio\n",
            "signora\n",
            "1\n",
            "signore\n",
            "potere\n",
            "volere\n",
            "rivers\n",
            "andare\n",
            "stare\n",
            "dare\n",
            "credere\n",
            "pensare\n",
            "mason\n",
            "2\n",
            "jane\n",
            "oh\n",
            "eyre\n",
            "volere\n",
            "venire\n",
            "stare\n",
            "signorina\n",
            "sentire\n",
            "signore\n",
            "potere\n",
            "3\n",
            "rochester\n",
            "mr\n",
            "signore\n",
            "guardare\n",
            "vedere\n",
            "stare\n",
            "signora\n",
            "domandare\n",
            "volere\n",
            "andare\n"
          ]
        }
      ]
    },
    {
      "cell_type": "code",
      "metadata": {
        "colab": {
          "base_uri": "https://localhost:8080/",
          "height": 201
        },
        "id": "jqvSw9klopvO",
        "outputId": "72af4bd4-7fbb-41dd-b486-db1a14baef87"
      },
      "source": [
        "# Giving Labels/assigning a cluster to each sentence\n",
        "df1 = data\n",
        "df1['Tfidf Clus Label'] = model_tf.labels_\n",
        "df1.head(5)"
      ],
      "execution_count": null,
      "outputs": [
        {
          "output_type": "execute_result",
          "data": {
            "text/html": [
              "<div>\n",
              "<style scoped>\n",
              "    .dataframe tbody tr th:only-of-type {\n",
              "        vertical-align: middle;\n",
              "    }\n",
              "\n",
              "    .dataframe tbody tr th {\n",
              "        vertical-align: top;\n",
              "    }\n",
              "\n",
              "    .dataframe thead th {\n",
              "        text-align: right;\n",
              "    }\n",
              "</style>\n",
              "<table border=\"1\" class=\"dataframe\">\n",
              "  <thead>\n",
              "    <tr style=\"text-align: right;\">\n",
              "      <th></th>\n",
              "      <th>Unnamed: 0</th>\n",
              "      <th>text</th>\n",
              "      <th>documents_cleaned</th>\n",
              "      <th>clean</th>\n",
              "      <th>Tfidf Clus Label</th>\n",
              "    </tr>\n",
              "  </thead>\n",
              "  <tbody>\n",
              "    <tr>\n",
              "      <th>0</th>\n",
              "      <td>0</td>\n",
              "      <td>in quello giorno essere impossibile passeggiare .</td>\n",
              "      <td>['in', 'quello', 'giorno', 'essere', 'impossib...</td>\n",
              "      <td>impossibile passeggiare</td>\n",
              "      <td>0</td>\n",
              "    </tr>\n",
              "    <tr>\n",
              "      <th>1</th>\n",
              "      <td>1</td>\n",
              "      <td>il mattina avere errare per uno ora nel bosche...</td>\n",
              "      <td>['il', 'mattina', 'avere', 'errare', 'per', 'u...</td>\n",
              "      <td>mattina errare boschetto spogliare foglia pran...</td>\n",
              "      <td>0</td>\n",
              "    </tr>\n",
              "    <tr>\n",
              "      <th>2</th>\n",
              "      <td>2</td>\n",
              "      <td>ne essere contentare .</td>\n",
              "      <td>['ne', 'essere', 'contentare', '.']</td>\n",
              "      <td>contentare</td>\n",
              "      <td>0</td>\n",
              "    </tr>\n",
              "    <tr>\n",
              "      <th>3</th>\n",
              "      <td>3</td>\n",
              "      <td>non mi essere mai piacere il lungo passeggiate...</td>\n",
              "      <td>['non', 'mi', 'essere', 'mai', 'piacere', 'il'...</td>\n",
              "      <td>piacere passeggiate freddo penoso tornar notte...</td>\n",
              "      <td>0</td>\n",
              "    </tr>\n",
              "    <tr>\n",
              "      <th>4</th>\n",
              "      <td>4</td>\n",
              "      <td>eliza , John e georgiana essere aggruppare in ...</td>\n",
              "      <td>['eliza', ',', 'John', 'e', 'georgiana', 'esse...</td>\n",
              "      <td>eliza john e georgiana aggruppare salotto atto...</td>\n",
              "      <td>4</td>\n",
              "    </tr>\n",
              "  </tbody>\n",
              "</table>\n",
              "</div>"
            ],
            "text/plain": [
              "   Unnamed: 0  ... Tfidf Clus Label\n",
              "0           0  ...                0\n",
              "1           1  ...                0\n",
              "2           2  ...                0\n",
              "3           3  ...                0\n",
              "4           4  ...                4\n",
              "\n",
              "[5 rows x 5 columns]"
            ]
          },
          "metadata": {},
          "execution_count": 37
        }
      ]
    },
    {
      "cell_type": "code",
      "metadata": {
        "id": "_PSGYwUt0TmV"
      },
      "source": [
        "# Train your own Word2Vec model\n",
        "i=0\n",
        "list_of_sent=[]\n",
        "for sent in data['clean'].values:\n",
        "    list_of_sent.append(sent.split())"
      ],
      "execution_count": null,
      "outputs": []
    },
    {
      "cell_type": "code",
      "metadata": {
        "id": "FKUAnEvO980A"
      },
      "source": [
        "import gensim\n",
        "# Training the wor2vec model\n",
        "w2v_model = Word2Vec.load('word2vec_model_lemmi')"
      ],
      "execution_count": null,
      "outputs": []
    },
    {
      "cell_type": "code",
      "metadata": {
        "colab": {
          "base_uri": "https://localhost:8080/"
        },
        "id": "zzOHAfFu99xW",
        "outputId": "75fb844d-db7a-47f3-dcb7-e2f4bdcd3f6f"
      },
      "source": [
        "import numpy as np\n",
        "sent_vectors = []; # the avg-w2v for each sentence is stored in this train\n",
        "for sent in list_of_sent: # for each sentence\n",
        "    sent_vec = np.zeros(100) # as word vectors are of zero length\n",
        "    cnt_words =0; # num of words with a valid vector in the sentence\n",
        "    for word in sent: # for each word in a sentence\n",
        "        try:\n",
        "            vec = w2v_model.wv[word]\n",
        "            sent_vec += vec\n",
        "            cnt_words += 1\n",
        "        except:\n",
        "            pass\n",
        "    sent_vec /= cnt_words\n",
        "    sent_vectors.append(sent_vec)\n",
        "sent_vectors = np.array(sent_vectors)\n",
        "sent_vectors = np.nan_to_num(sent_vectors)\n",
        "sent_vectors.shape"
      ],
      "execution_count": null,
      "outputs": [
        {
          "output_type": "stream",
          "name": "stderr",
          "text": [
            "/usr/local/lib/python3.7/dist-packages/ipykernel_launcher.py:13: RuntimeWarning: invalid value encountered in true_divide\n",
            "  del sys.path[0]\n"
          ]
        },
        {
          "output_type": "execute_result",
          "data": {
            "text/plain": [
              "(19802, 100)"
            ]
          },
          "metadata": {},
          "execution_count": 49
        }
      ]
    },
    {
      "cell_type": "markdown",
      "metadata": {
        "id": "mJzPOvqw4SRg"
      },
      "source": [
        "#AGGLOMERATIVE CLUSTERING"
      ]
    },
    {
      "cell_type": "code",
      "metadata": {
        "colab": {
          "base_uri": "https://localhost:8080/",
          "height": 289
        },
        "id": "H0zjdqTO9anw",
        "outputId": "8646f0c4-674d-4174-ab53-7b7005ff627a"
      },
      "source": [
        "import scipy\n",
        "from scipy.cluster import hierarchy\n",
        "dendro=hierarchy.dendrogram(hierarchy.linkage(sent_vectors,method='ward'))"
      ],
      "execution_count": null,
      "outputs": [
        {
          "output_type": "execute_result",
          "data": {
            "text/plain": [
              "<matplotlib.lines.Line2D at 0x7f17f57c7f50>"
            ]
          },
          "metadata": {},
          "execution_count": 247
        },
        {
          "output_type": "display_data",
          "data": {
            "image/png": "[encoded data removed]",
            "text/plain": [
              "<Figure size 432x288 with 1 Axes>"
            ]
          },
          "metadata": {
            "needs_background": "light"
          }
        }
      ]
    },
    {
      "cell_type": "code",
      "metadata": {
        "id": "a-Sj7F5z_yBt"
      },
      "source": [
        "from sklearn.cluster import AgglomerativeClustering\n",
        "\n",
        "cluster = AgglomerativeClustering(n_clusters=6, affinity='euclidean', linkage='ward')   \n",
        "Agg=cluster.fit_predict(sent_vectors)"
      ],
      "execution_count": null,
      "outputs": []
    },
    {
      "cell_type": "code",
      "metadata": {
        "id": "gVNCuqLMopq-",
        "colab": {
          "base_uri": "https://localhost:8080/",
          "height": 158
        },
        "outputId": "a3726a6c-e346-4a3b-861b-8ca4b980ad78"
      },
      "source": [
        "# Giving Labels/assigning a cluster to each point/text \n",
        "aggdfa = data\n",
        "aggdfa['Agglomerative Clustering Label'] = cluster.labels_\n",
        "aggdfa.head(2)"
      ],
      "execution_count": null,
      "outputs": [
        {
          "output_type": "execute_result",
          "data": {
            "text/html": [
              "<div>\n",
              "<style scoped>\n",
              "    .dataframe tbody tr th:only-of-type {\n",
              "        vertical-align: middle;\n",
              "    }\n",
              "\n",
              "    .dataframe tbody tr th {\n",
              "        vertical-align: top;\n",
              "    }\n",
              "\n",
              "    .dataframe thead th {\n",
              "        text-align: right;\n",
              "    }\n",
              "</style>\n",
              "<table border=\"1\" class=\"dataframe\">\n",
              "  <thead>\n",
              "    <tr style=\"text-align: right;\">\n",
              "      <th></th>\n",
              "      <th>Unnamed: 0</th>\n",
              "      <th>text</th>\n",
              "      <th>documents_cleaned</th>\n",
              "      <th>clean</th>\n",
              "      <th>Tfidf Clus Label</th>\n",
              "      <th>Word2Vec Label</th>\n",
              "      <th>Doc2Vec Label</th>\n",
              "      <th>BERT Label</th>\n",
              "      <th>Agglomerative Clustering Label</th>\n",
              "    </tr>\n",
              "  </thead>\n",
              "  <tbody>\n",
              "    <tr>\n",
              "      <th>0</th>\n",
              "      <td>0</td>\n",
              "      <td>in quello giorno essere impossibile passeggiare .</td>\n",
              "      <td>['in', 'quello', 'giorno', 'essere', 'impossib...</td>\n",
              "      <td>impossibile passeggiare</td>\n",
              "      <td>0</td>\n",
              "      <td>0</td>\n",
              "      <td>2</td>\n",
              "      <td>0</td>\n",
              "      <td>4</td>\n",
              "    </tr>\n",
              "    <tr>\n",
              "      <th>1</th>\n",
              "      <td>1</td>\n",
              "      <td>il mattina avere errare per uno ora nel bosche...</td>\n",
              "      <td>['il', 'mattina', 'avere', 'errare', 'per', 'u...</td>\n",
              "      <td>mattina errare boschetto spogliare foglia pran...</td>\n",
              "      <td>0</td>\n",
              "      <td>0</td>\n",
              "      <td>2</td>\n",
              "      <td>0</td>\n",
              "      <td>0</td>\n",
              "    </tr>\n",
              "  </tbody>\n",
              "</table>\n",
              "</div>"
            ],
            "text/plain": [
              "   Unnamed: 0  ... Agglomerative Clustering Label\n",
              "0           0  ...                              4\n",
              "1           1  ...                              0\n",
              "\n",
              "[2 rows x 9 columns]"
            ]
          },
          "metadata": {},
          "execution_count": 250
        }
      ]
    },
    {
      "cell_type": "code",
      "metadata": {
        "colab": {
          "base_uri": "https://localhost:8080/"
        },
        "id": "eXPMvoK7opli",
        "outputId": "55ebc84f-ebff-4569-b2cb-49bdb3e3b505"
      },
      "source": [
        "# How many points belong to each cluster\n",
        "aggdfa.groupby(['Agglomerative Clustering Label'])['text'].count()"
      ],
      "execution_count": null,
      "outputs": [
        {
          "output_type": "execute_result",
          "data": {
            "text/plain": [
              "Agglomerative Clustering Label\n",
              "0    7919\n",
              "1    2722\n",
              "2    2492\n",
              "3     705\n",
              "4    5473\n",
              "5     491\n",
              "Name: text, dtype: int64"
            ]
          },
          "metadata": {},
          "execution_count": 253
        }
      ]
    },
    {
      "cell_type": "code",
      "metadata": {
        "id": "j8j4Nito2oaG",
        "colab": {
          "base_uri": "https://localhost:8080/"
        },
        "outputId": "2ae5d3b1-b037-4300-874d-342e2ef1218d"
      },
      "source": [
        "#considers sample of 6 random sentences for cluster 0\n",
        "# class struggle\n",
        "\n",
        "print(data.iloc[data.groupby(['Agglomerative Clustering Label']).groups[0][150]]['text'])\n",
        "print(\"_\" * 70)\n",
        "print(data.iloc[data.groupby(['Agglomerative Clustering Label']).groups[0][1253]]['text'])\n",
        "print(\"_\" * 70)\n",
        "print(data.iloc[data.groupby(['Agglomerative Clustering Label']).groups[0][370]]['text'])\n",
        "print(\"_\" * 70)\n",
        "print(data.iloc[data.groupby(['Agglomerative Clustering Label']).groups[0][400]]['text'])\n",
        "print(\"_\" * 70)\n",
        "print(data.iloc[data.groupby(['Agglomerative Clustering Label']).groups[0][2198]]['text'])\n",
        "print(\"_\" * 70)\n",
        "print(data.iloc[data.groupby(['Agglomerative Clustering Label']).groups[0][2365]]['text'])\n",
        "print(\"_\" * 70)\n",
        "print(data.iloc[data.groupby(['Agglomerative Clustering Label']).groups[0][7210]]['text'])"
      ],
      "execution_count": null,
      "outputs": [
        {
          "output_type": "stream",
          "name": "stdout",
          "text": [
            " nemmeno se essere buono per voi \" \n",
            "\n",
            " scrollai il testa ; non potere capire come avere potere essere buono quello gente se essere povero ; e poi imparare a parlare come il povero , acquistare il loro maniera , non avere educazione , crescere come quelle misero donna , che vedere allattare il bimbo e lavare il bucato sulla porta della casupola del villaggio ; no , non essere abbastanza eroico per acquistare il libertà col suo corteo di miseria .\n",
            "______________________________________________________________________\n",
            "a causa di uno vestito di velluto rosso e di uno turbante fatto con un scialle indiano , credere di essere imponente come uno imperatrice .\n",
            "______________________________________________________________________\n",
            "il direttrice di lowood si sedere davanti alla tavola su cui essere posare il sfera , e riunire intorno a sé il primo classe , incominciare il lezione di geografia ; il classe inferiore essere chiamare dalla altro maestra , e per uno ora continuare il ripetizione di grammatica e di storia .\n",
            "______________________________________________________________________\n",
            "dare lezione di storia e di geografia e fare ripetizione alla secondo classe .\n",
            "______________________________________________________________________\n",
            "prendere in affitto uno amante essere il stesso che comprare uno schiava .\n",
            "______________________________________________________________________\n",
            "vi essere taluni che avere piacere di rammentare il sofferenza passato ; io invece provo dolore rievocare quello momento angoscioso di abbattimento morale e di sofferenza fisico .\n",
            "______________________________________________________________________\n",
            "mi essere vistare sfilare dinanzi il classe , che ora contare sessanta allieve , avere chiudere a chiave il porta e , quando mr rivers arrivare , mi trovare ancora lì , con il chiave in mano , intento a scambiare il ultimo saluto , quelli speciale , con uno mezzo dozzina della mio allieva migliore : ragazza onesto , rispettabile , modesto e bene istruite come se ne potere trovare fra il contadino inglese .\n"
          ]
        }
      ]
    },
    {
      "cell_type": "code",
      "metadata": {
        "id": "COnviJ7b2n8N",
        "colab": {
          "base_uri": "https://localhost:8080/"
        },
        "outputId": "46e3a949-72e7-4db9-85fa-f18540c92dd0"
      },
      "source": [
        "#considers sample of 6 random sentences for cluster 1\n",
        "#self discovery\n",
        "\n",
        "print(data.iloc[data.groupby(['Agglomerative Clustering Label']).groups[1][150]]['text'])\n",
        "print(\"_\" * 70)\n",
        "print(data.iloc[data.groupby(['Agglomerative Clustering Label']).groups[1][1253]]['text'])\n",
        "print(\"_\" * 70)\n",
        "print(data.iloc[data.groupby(['Agglomerative Clustering Label']).groups[1][898]]['text'])\n",
        "print(\"_\" * 70)\n",
        "print(data.iloc[data.groupby(['Agglomerative Clustering Label']).groups[1][487]]['text'])\n",
        "print(\"_\" * 70)\n",
        "print(data.iloc[data.groupby(['Agglomerative Clustering Label']).groups[1][970]]['text'])\n",
        "print(\"_\" * 70)\n",
        "print(data.iloc[data.groupby(['Agglomerative Clustering Label']).groups[1][1984]]['text'])\n",
        "print(\"_\" * 70)\n",
        "print(data.iloc[data.groupby(['Agglomerative Clustering Label']).groups[1][2702]]['text'])"
      ],
      "execution_count": null,
      "outputs": [
        {
          "output_type": "stream",
          "name": "stdout",
          "text": [
            "volere domandarvi qualcosa ; avere mai sentire parlare della famiglia di vostro padre \" \n",
            "\n",
            "  mai .\n",
            "______________________________________________________________________\n",
            "ma ce ne essere tanti a questo mondo che non avere amico , che dovere arrangiare per conto proprio e cavare da solo .\n",
            "______________________________________________________________________\n",
            "non essere vero che non ci andare , Jane \" \n",
            "\n",
            "  avere rifiutare di sposare .\n",
            "______________________________________________________________________\n",
            "il natura dovere esultare , perché io essere tanto felice !\n",
            "______________________________________________________________________\n",
            "come mai Jane essere con me e mi dire di amare \" non partire all' improvviso come essere venire \" avere paura di non trovare molto domani .\n",
            "______________________________________________________________________\n",
            "\" essere preoccupata perché stare per entrare in uno mondo nuovo ?\n",
            "______________________________________________________________________\n",
            "egli non vedere come vedere il uomo ma con molto molto acume ; non giudicare come giudicare il uomo ma con molto molto saggezza .\n"
          ]
        }
      ]
    },
    {
      "cell_type": "code",
      "metadata": {
        "id": "z7BqXGxq2iXb",
        "colab": {
          "base_uri": "https://localhost:8080/"
        },
        "outputId": "245cb5cb-d838-4bf6-ac08-dfdf0303504e"
      },
      "source": [
        "#considers sample of 6 random sentences for cluster 2\n",
        "#amore e matrimonio\n",
        "\n",
        "print(data.iloc[data.groupby(['Agglomerative Clustering Label']).groups[2][227]]['text'])\n",
        "print(\"_\" * 70)\n",
        "print(data.iloc[data.groupby(['Agglomerative Clustering Label']).groups[2][2000]]['text'])\n",
        "print(\"_\" * 70)\n",
        "print(data.iloc[data.groupby(['Agglomerative Clustering Label']).groups[2][846]]['text'])\n",
        "print(\"_\" * 70)\n",
        "print(data.iloc[data.groupby(['Agglomerative Clustering Label']).groups[2][997]]['text'])\n",
        "print(\"_\" * 70)\n",
        "print(data.iloc[data.groupby(['Agglomerative Clustering Label']).groups[2][759]]['text'])\n",
        "print(\"_\" * 70)\n",
        "print(data.iloc[data.groupby(['Agglomerative Clustering Label']).groups[2][1897]]['text'])\n",
        "print(\"_\" * 70)\n",
        "print(data.iloc[data.groupby(['Agglomerative Clustering Label']).groups[2][2100]]['text'])"
      ],
      "execution_count": null,
      "outputs": [
        {
          "output_type": "stream",
          "name": "stdout",
          "text": [
            "il madre del signore rochester essere uno fairfax , cugina in secondo grado di mio marito ; ma io non avere mai cercare di trar partito da questo parentela ; essa non esistere per me e mi considerare come uno governante qualsiasi .\n",
            "______________________________________________________________________\n",
            "essere soltanto io e mr rochester .\n",
            "______________________________________________________________________\n",
            "il disperazione aggiungere : \n",
            "\n",
            " \" addio per sempre ! \"\n",
            "______________________________________________________________________\n",
            "pensare al signore rochester !\n",
            "______________________________________________________________________\n",
            " essere crudele nel mio amore ,  mi dire ,  riposatevi uno momento , appoggiatevi a me , Jane .\n",
            "______________________________________________________________________\n",
            "\" sì , mrs rochester , \" dire , \" il giovane mrs rochester ... il sposa bambina di fairfax rochester . \"\n",
            "______________________________________________________________________\n",
            "gridare il mio cuore lasciandolo .\n"
          ]
        }
      ]
    },
    {
      "cell_type": "code",
      "metadata": {
        "id": "Npib7K5P-upQ",
        "colab": {
          "base_uri": "https://localhost:8080/"
        },
        "outputId": "a2371cc0-9fec-414b-dbbb-47465b3fc494"
      },
      "source": [
        "#considers sample of 6 random sentences for cluster 3\n",
        "\n",
        "print(data.iloc[data.groupby(['Agglomerative Clustering Label']).groups[3][16]]['text'])\n",
        "print(\"_\" * 70)\n",
        "print(data.iloc[data.groupby(['Agglomerative Clustering Label']).groups[3][426]]['text'])\n",
        "print(\"_\" * 70)\n",
        "print(data.iloc[data.groupby(['Agglomerative Clustering Label']).groups[3][104]]['text'])\n",
        "print(\"_\" * 70)\n",
        "print(data.iloc[data.groupby(['Agglomerative Clustering Label']).groups[3][48]]['text'])\n",
        "print(\"_\" * 70)\n",
        "print(data.iloc[data.groupby(['Agglomerative Clustering Label']).groups[3][511]]['text'])\n",
        "print(\"_\" * 70)\n",
        "print(data.iloc[data.groupby(['Agglomerative Clustering Label']).groups[3][161]]['text'])\n",
        "print(\"_\" * 70)\n",
        "print(data.iloc[data.groupby(['Agglomerative Clustering Label']).groups[3][670]]['text'])"
      ],
      "execution_count": null,
      "outputs": [
        {
          "output_type": "stream",
          "name": "stdout",
          "text": [
            " ebbene , avere piantare , signorina Jane eyre ; mi potere dire per chi \" avere qualche dispiacere \" \n",
            "\n",
            "  no , signore .\n",
            "______________________________________________________________________\n",
            "ancora buonanotte , signore .\n",
            "______________________________________________________________________\n",
            " il avere veduta , ditemi come essere , signora fairfax .\n",
            "______________________________________________________________________\n",
            " benissimo ,  rispondere il signorina temple ,  ne fare di meno .\n",
            "______________________________________________________________________\n",
            "uno volta mi essere ripromettere che non lo avere mai molto chiamare zia .\n",
            "______________________________________________________________________\n",
            " vi ringraziare , signore ; mi duole di dare .... \n",
            "\n",
            "  oh !\n",
            "______________________________________________________________________\n",
            "c' essere da capire però , perché fare uno vitaccia .\n"
          ]
        }
      ]
    },
    {
      "cell_type": "code",
      "metadata": {
        "colab": {
          "base_uri": "https://localhost:8080/"
        },
        "id": "Ba3Mr91ogCmt",
        "outputId": "e7d28d56-9fd1-4b69-c52b-4a76e2946152"
      },
      "source": [
        "# considers sample of 6 random sentences for cluster 4\n",
        "# famiglia\n",
        "# thornfield villa della famiglia dei Rochester dove vive per un periodo \n",
        "\n",
        "print(data.iloc[data.groupby(['Agglomerative Clustering Label']).groups[4][150]]['text'])\n",
        "print(\"_\" * 70)\n",
        "print(data.iloc[data.groupby(['Agglomerative Clustering Label']).groups[4][423]]['text'])\n",
        "print(\"_\" * 70)\n",
        "print(data.iloc[data.groupby(['Agglomerative Clustering Label']).groups[4][912]]['text'])\n",
        "print(\"_\" * 70)\n",
        "print(data.iloc[data.groupby(['Agglomerative Clustering Label']).groups[4][258]]['text'])\n",
        "print(\"_\" * 70)\n",
        "print(data.iloc[data.groupby(['Agglomerative Clustering Label']).groups[4][21]]['text'])\n",
        "print(\"_\" * 70)\n",
        "print(data.iloc[data.groupby(['Agglomerative Clustering Label']).groups[4][1980]]['text'])\n",
        "print(\"_\" * 70)\n",
        "print(data.iloc[data.groupby(['Agglomerative Clustering Label']).groups[4][4598]]['text'])"
      ],
      "execution_count": null,
      "outputs": [
        {
          "output_type": "stream",
          "name": "stdout",
          "text": [
            "essere tanto infelice e ogni tanto dire a me stesso : \n",
            "\n",
            "  che cosa dovere fare \" \n",
            "\n",
            " sentii a uno tratto uno voce chiaro gridare : \n",
            "\n",
            "  signorina Jane , dove essere \" venire a colazione .\n",
            "______________________________________________________________________\n",
            "qui si stare bene sempre ; thornfield essere uno vecchio villa , uno po' trascurare ora , ma sempre rispettabile .\n",
            "______________________________________________________________________\n",
            "qui il giovane chiedere molto ampio spiegazione su questo punto , ma il ragazza non fare altro che arrossire , balbettare e sorridere ; il mamma ripetere che avere fare meglio a non andare dalla strega ; il vecchio signore ridere e il giovane fare sempre molto ressa attorno alla signorina .\n",
            "______________________________________________________________________\n",
            "io volere che questo ragazza sieno figlia della grazia .\n",
            "______________________________________________________________________\n",
            "andare a dire a mamma , ma prima .... \n",
            "\n",
            " egli si slanciare contro di me , e mi sentire afferrare per il capello e per il spalla con disperato furore .\n",
            "______________________________________________________________________\n",
            " esclamare rosmunda ,  essere tanto istruire da fare il istitutrice in uno gran famiglia .\n",
            "______________________________________________________________________\n",
            "\" questo , ve lo dire in tutto franchezza , non potere fare perché non avere né casa né parente . \"\n"
          ]
        }
      ]
    },
    {
      "cell_type": "code",
      "metadata": {
        "colab": {
          "base_uri": "https://localhost:8080/"
        },
        "id": "MLofJakKjD4n",
        "outputId": "0b312442-abb0-4b88-c517-ff9875f0db6c"
      },
      "source": [
        "# considers sample of 6 random sentences for cluster 5\n",
        "\n",
        "\n",
        "print(data.iloc[data.groupby(['Agglomerative Clustering Label']).groups[5][150]]['text'])\n",
        "print(\"_\" * 70)\n",
        "print(data.iloc[data.groupby(['Agglomerative Clustering Label']).groups[5][423]]['text'])\n",
        "print(\"_\" * 70)\n",
        "print(data.iloc[data.groupby(['Agglomerative Clustering Label']).groups[5][300]]['text'])\n",
        "print(\"_\" * 70)\n",
        "print(data.iloc[data.groupby(['Agglomerative Clustering Label']).groups[5][258]]['text'])\n",
        "print(\"_\" * 70)\n",
        "print(data.iloc[data.groupby(['Agglomerative Clustering Label']).groups[5][21]]['text'])\n",
        "print(\"_\" * 70)\n",
        "print(data.iloc[data.groupby(['Agglomerative Clustering Label']).groups[5][480]]['text'])\n",
        "print(\"_\" * 70)\n",
        "print(data.iloc[data.groupby(['Agglomerative Clustering Label']).groups[5][312]]['text'])"
      ],
      "execution_count": null,
      "outputs": [
        {
          "output_type": "stream",
          "name": "stdout",
          "text": [
            "il fece .\n",
            "______________________________________________________________________\n",
            "acconsentii .\n",
            "______________________________________________________________________\n",
            "posto !\n",
            "______________________________________________________________________\n",
            "quanto avere in tutto , Jane ? \"\n",
            "______________________________________________________________________\n",
            "per questo no .\n",
            "______________________________________________________________________\n",
            "io essere fare per lei ? \"\n",
            "______________________________________________________________________\n",
            "come ?\n"
          ]
        }
      ]
    }
  ]
}