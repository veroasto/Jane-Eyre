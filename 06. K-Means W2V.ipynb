{
  "nbformat": 4,
  "nbformat_minor": 0,
  "metadata": {
    "colab": {
      "name": "KMEClustering.ipynb",
      "provenance": [],
      "collapsed_sections": []
    },
    "kernelspec": {
      "display_name": "Python 3",
      "name": "python3"
    },
    "language_info": {
      "name": "python"
    }
  },
  "cells": [
    {
      "cell_type": "code",
      "metadata": {
        "colab": {
          "base_uri": "https://localhost:8080/"
        },
        "id": "CqDfudpg9BIF",
        "outputId": "32c54d27-d3f6-42f1-cd25-20c1791a93ff"
      },
      "source": [
        "import gensim\n",
        "from gensim.models import Word2Vec\n",
        "from gensim.models import Doc2Vec\n",
        "import numpy as np\n",
        "import tensorflow as tf\n",
        "from tensorflow import keras\n",
        "\n",
        "import gensim\n",
        "from gensim.models import Word2Vec\n",
        "from gensim.models import Doc2Vec\n",
        "import numpy as np\n",
        "import tensorflow as tf\n",
        "from tensorflow import keras\n",
        "import nltk\n",
        "from nltk.tokenize import sent_tokenize, word_tokenize\n",
        "nltk.download('punkt')\n",
        "import string\n",
        "\n",
        "# Clustering\n",
        "from matplotlib import pyplot as plt\n",
        "from sklearn.feature_extraction.text import TfidfVectorizer\n",
        "from sklearn.cluster import KMeans\n",
        "from sklearn.cluster import AgglomerativeClustering"
      ],
      "execution_count": 1,
      "outputs": [
        {
          "output_type": "stream",
          "name": "stdout",
          "text": [
            "[nltk_data] Downloading package punkt to /root/nltk_data...\n",
            "[nltk_data]   Package punkt is already up-to-date!\n"
          ]
        }
      ]
    },
    {
      "cell_type": "code",
      "metadata": {
        "colab": {
          "base_uri": "https://localhost:8080/",
          "height": 411
        },
        "id": "WiyK2a-I9Jqm",
        "outputId": "e34354d3-8370-4ce2-8fe7-ae19edff7a60"
      },
      "source": [
        "import pandas as pd\n",
        "data= pd.read_csv('Lemmi-2.csv')\n",
        "data"
      ],
      "execution_count": 2,
      "outputs": [
        {
          "output_type": "execute_result",
          "data": {
            "text/html": [
              "<div>\n",
              "<style scoped>\n",
              "    .dataframe tbody tr th:only-of-type {\n",
              "        vertical-align: middle;\n",
              "    }\n",
              "\n",
              "    .dataframe tbody tr th {\n",
              "        vertical-align: top;\n",
              "    }\n",
              "\n",
              "    .dataframe thead th {\n",
              "        text-align: right;\n",
              "    }\n",
              "</style>\n",
              "<table border=\"1\" class=\"dataframe\">\n",
              "  <thead>\n",
              "    <tr style=\"text-align: right;\">\n",
              "      <th></th>\n",
              "      <th>Unnamed: 0</th>\n",
              "      <th>text</th>\n",
              "      <th>Edition</th>\n",
              "    </tr>\n",
              "  </thead>\n",
              "  <tbody>\n",
              "    <tr>\n",
              "      <th>0</th>\n",
              "      <td>0</td>\n",
              "      <td>in quello giorno essere impossibile passeggiare .</td>\n",
              "      <td>1</td>\n",
              "    </tr>\n",
              "    <tr>\n",
              "      <th>1</th>\n",
              "      <td>1</td>\n",
              "      <td>il mattina avere errare per uno ora nel bosche...</td>\n",
              "      <td>1</td>\n",
              "    </tr>\n",
              "    <tr>\n",
              "      <th>2</th>\n",
              "      <td>2</td>\n",
              "      <td>ne essere contentare .</td>\n",
              "      <td>1</td>\n",
              "    </tr>\n",
              "    <tr>\n",
              "      <th>3</th>\n",
              "      <td>3</td>\n",
              "      <td>non mi essere mai piacere il lungo passeggiate...</td>\n",
              "      <td>1</td>\n",
              "    </tr>\n",
              "    <tr>\n",
              "      <th>4</th>\n",
              "      <td>4</td>\n",
              "      <td>eliza , John e georgiana essere aggruppare in ...</td>\n",
              "      <td>1</td>\n",
              "    </tr>\n",
              "    <tr>\n",
              "      <th>...</th>\n",
              "      <td>...</td>\n",
              "      <td>...</td>\n",
              "      <td>...</td>\n",
              "    </tr>\n",
              "    <tr>\n",
              "      <th>19797</th>\n",
              "      <td>19797</td>\n",
              "      <td>il paura della morte non offuscare il ultimo o...</td>\n",
              "      <td>2</td>\n",
              "    </tr>\n",
              "    <tr>\n",
              "      <th>19798</th>\n",
              "      <td>19798</td>\n",
              "      <td>il suo stesso parola ne essere pegno : \\n\\n \" ...</td>\n",
              "      <td>2</td>\n",
              "    </tr>\n",
              "    <tr>\n",
              "      <th>19799</th>\n",
              "      <td>19799</td>\n",
              "      <td>ogni giorno mi annunciare con sempre grande ch...</td>\n",
              "      <td>2</td>\n",
              "    </tr>\n",
              "    <tr>\n",
              "      <th>19800</th>\n",
              "      <td>19800</td>\n",
              "      <td>, e di ora in ora io rispondere con fervore cr...</td>\n",
              "      <td>2</td>\n",
              "    </tr>\n",
              "    <tr>\n",
              "      <th>19801</th>\n",
              "      <td>19801</td>\n",
              "      <td>\" .</td>\n",
              "      <td>2</td>\n",
              "    </tr>\n",
              "  </tbody>\n",
              "</table>\n",
              "<p>19802 rows × 3 columns</p>\n",
              "</div>"
            ],
            "text/plain": [
              "       Unnamed: 0                                               text  Edition\n",
              "0               0  in quello giorno essere impossibile passeggiare .        1\n",
              "1               1  il mattina avere errare per uno ora nel bosche...        1\n",
              "2               2                             ne essere contentare .        1\n",
              "3               3  non mi essere mai piacere il lungo passeggiate...        1\n",
              "4               4  eliza , John e georgiana essere aggruppare in ...        1\n",
              "...           ...                                                ...      ...\n",
              "19797       19797  il paura della morte non offuscare il ultimo o...        2\n",
              "19798       19798  il suo stesso parola ne essere pegno : \\n\\n \" ...        2\n",
              "19799       19799  ogni giorno mi annunciare con sempre grande ch...        2\n",
              "19800       19800  , e di ora in ora io rispondere con fervore cr...        2\n",
              "19801       19801                                                \" .        2\n",
              "\n",
              "[19802 rows x 3 columns]"
            ]
          },
          "metadata": {},
          "execution_count": 2
        }
      ]
    },
    {
      "cell_type": "code",
      "metadata": {
        "id": "WPIIALKnThlq"
      },
      "source": [
        "from spacy.lang.it.stop_words import STOP_WORDS\n",
        "def clean(x):\n",
        "  stop = STOP_WORDS\n",
        "  words  = [w for w in word_tokenize(x.lower()) if w.isalpha() and w not in stop and w not in string.punctuation]\n",
        "  return \" \".join(words)"
      ],
      "execution_count": 3,
      "outputs": []
    },
    {
      "cell_type": "code",
      "metadata": {
        "id": "Iz_KUCtf-eWJ"
      },
      "source": [
        "data['clean_text'] = data['text'].apply(clean)"
      ],
      "execution_count": 4,
      "outputs": []
    },
    {
      "cell_type": "code",
      "metadata": {
        "id": "j-vnMCdH-eBm"
      },
      "source": [
        "def length(x):\n",
        "  words  = [w for w in word_tokenize(x.lower()) if len(x.split())> 8]\n",
        "  return \" \".join(words)"
      ],
      "execution_count": 5,
      "outputs": []
    },
    {
      "cell_type": "code",
      "metadata": {
        "id": "CbtuoIcbRUwt"
      },
      "source": [
        "data['clean'] = data['clean_text'].apply(clean)"
      ],
      "execution_count": 6,
      "outputs": []
    },
    {
      "cell_type": "code",
      "metadata": {
        "id": "Ep7DcSsF9O6z"
      },
      "source": [
        "data.dropna(subset=['clean'], inplace=True)"
      ],
      "execution_count": 7,
      "outputs": []
    },
    {
      "cell_type": "code",
      "metadata": {
        "id": "Rh5I05RKfG0R"
      },
      "source": [
        "text = data['clean']"
      ],
      "execution_count": 8,
      "outputs": []
    },
    {
      "cell_type": "code",
      "metadata": {
        "colab": {
          "base_uri": "https://localhost:8080/"
        },
        "id": "_i_qhcN4TgxS",
        "outputId": "2b082292-5a40-48d6-c793-44cd7d18a54c"
      },
      "source": [
        "text"
      ],
      "execution_count": 9,
      "outputs": [
        {
          "output_type": "execute_result",
          "data": {
            "text/plain": [
              "0                                  impossibile passeggiare\n",
              "1        mattina errare boschetto spogliare foglia pran...\n",
              "2                                               contentare\n",
              "3        piacere passeggiate freddo penoso tornar notte...\n",
              "4        eliza john e georgiana aggruppare salotto atto...\n",
              "                               ...                        \n",
              "19797    paura morte offuscare st john mente nube cuore...\n",
              "19798                       parola pegno signore avvertire\n",
              "19799                annunciare chiarezza sì venire presto\n",
              "19800    e rispondere fervore crescente amen venire sig...\n",
              "19801                                                     \n",
              "Name: clean, Length: 19802, dtype: object"
            ]
          },
          "metadata": {},
          "execution_count": 9
        }
      ]
    },
    {
      "cell_type": "code",
      "metadata": {
        "id": "_PSGYwUt0TmV"
      },
      "source": [
        "# Train your own Word2Vec model\n",
        "i=0\n",
        "list_of_sent=[]\n",
        "for sent in data['clean'].values:\n",
        "    list_of_sent.append(sent.split())"
      ],
      "execution_count": 10,
      "outputs": []
    },
    {
      "cell_type": "code",
      "metadata": {
        "id": "FKUAnEvO980A"
      },
      "source": [
        "import gensim\n",
        "# Training the wor2vec model\n",
        "w2v_model = Word2Vec.load('word2vec_model_lemmi')"
      ],
      "execution_count": 11,
      "outputs": []
    },
    {
      "cell_type": "code",
      "metadata": {
        "colab": {
          "base_uri": "https://localhost:8080/"
        },
        "id": "zzOHAfFu99xW",
        "outputId": "1f6a7f08-aea6-4bb1-f2f7-5d48536cd4a1"
      },
      "source": [
        "import numpy as np\n",
        "sent_vectors = []; # the avg-w2v for each sentence is stored in this train\n",
        "for sent in list_of_sent: # for each sentence\n",
        "    sent_vec = np.zeros(100) # as word vectors are of zero length\n",
        "    cnt_words =0; # num of words with a valid vector in the sentence\n",
        "    for word in sent: # for each word in a sentence\n",
        "        try:\n",
        "            vec = w2v_model.wv[word]\n",
        "            sent_vec += vec\n",
        "            cnt_words += 1\n",
        "        except:\n",
        "            pass\n",
        "    sent_vec /= cnt_words\n",
        "    sent_vectors.append(sent_vec)\n",
        "sent_vectors = np.array(sent_vectors)\n",
        "sent_vectors = np.nan_to_num(sent_vectors)\n",
        "sent_vectors.shape"
      ],
      "execution_count": 12,
      "outputs": [
        {
          "output_type": "stream",
          "name": "stderr",
          "text": [
            "/usr/local/lib/python3.7/dist-packages/ipykernel_launcher.py:13: RuntimeWarning: invalid value encountered in true_divide\n",
            "  del sys.path[0]\n"
          ]
        },
        {
          "output_type": "execute_result",
          "data": {
            "text/plain": [
              "(19802, 100)"
            ]
          },
          "metadata": {},
          "execution_count": 12
        }
      ]
    },
    {
      "cell_type": "markdown",
      "metadata": {
        "id": "mJzPOvqw4SRg"
      },
      "source": [
        "#CLUSTERING"
      ]
    },
    {
      "cell_type": "code",
      "metadata": {
        "id": "H0zjdqTO9anw"
      },
      "source": [
        "distortions = []\n",
        "K = range(1,10)\n",
        "for k in K:\n",
        "    kmeanModel = KMeans(n_clusters=k)\n",
        "    kmeanModel.fit(sent_vectors)\n",
        "    distortions.append(kmeanModel.inertia_)"
      ],
      "execution_count": 13,
      "outputs": []
    },
    {
      "cell_type": "code",
      "metadata": {
        "id": "Ff5Z8ArzA-hA",
        "colab": {
          "base_uri": "https://localhost:8080/",
          "height": 512
        },
        "outputId": "b4d7ed80-167b-4732-f4b3-520414a43593"
      },
      "source": [
        "plt.figure(figsize=(16,8))\n",
        "plt.plot(K, distortions, 'bx-')\n",
        "plt.xlabel('k')\n",
        "plt.ylabel('Distortion')\n",
        "plt.title('The Elbow Method showing the optimal k')\n",
        "plt.show()"
      ],
      "execution_count": 14,
      "outputs": [
        {
          "output_type": "display_data",
          "data": {
            "image/png": "[encoded data removed]",
            "text/plain": [
              "<Figure size 1152x576 with 1 Axes>"
            ]
          },
          "metadata": {
            "needs_background": "light"
          }
        }
      ]
    },
    {
      "cell_type": "code",
      "metadata": {
        "id": "JGeSCy6DBi8p",
        "colab": {
          "base_uri": "https://localhost:8080/"
        },
        "outputId": "38076c2f-51be-45a5-91cd-04ad6fd89245"
      },
      "source": [
        "# Training\n",
        "from sklearn.cluster import KMeans\n",
        "model2 = KMeans(n_clusters = 5)\n",
        "model2.fit(sent_vectors)"
      ],
      "execution_count": 15,
      "outputs": [
        {
          "output_type": "execute_result",
          "data": {
            "text/plain": [
              "KMeans(algorithm='auto', copy_x=True, init='k-means++', max_iter=300,\n",
              "       n_clusters=5, n_init=10, n_jobs=None, precompute_distances='auto',\n",
              "       random_state=None, tol=0.0001, verbose=0)"
            ]
          },
          "metadata": {},
          "execution_count": 15
        }
      ]
    },
    {
      "cell_type": "code",
      "metadata": {
        "id": "a-Sj7F5z_yBt"
      },
      "source": [
        "word_cluster_pred=model2.predict(sent_vectors)\n",
        "word_cluster_pred_2=model2.labels_\n",
        "word_cluster_center=model2.cluster_centers_"
      ],
      "execution_count": 16,
      "outputs": []
    },
    {
      "cell_type": "code",
      "metadata": {
        "id": "gVNCuqLMopq-",
        "colab": {
          "base_uri": "https://localhost:8080/",
          "height": 109
        },
        "outputId": "87be4f7a-572b-4863-dbc1-e41b30fe5088"
      },
      "source": [
        "# Giving Labels/assigning a cluster to each point/text \n",
        "aggdfa = data\n",
        "aggdfa['Word2Vec Label'] = model2.labels_\n",
        "aggdfa.head(2)"
      ],
      "execution_count": 17,
      "outputs": [
        {
          "output_type": "execute_result",
          "data": {
            "text/html": [
              "<div>\n",
              "<style scoped>\n",
              "    .dataframe tbody tr th:only-of-type {\n",
              "        vertical-align: middle;\n",
              "    }\n",
              "\n",
              "    .dataframe tbody tr th {\n",
              "        vertical-align: top;\n",
              "    }\n",
              "\n",
              "    .dataframe thead th {\n",
              "        text-align: right;\n",
              "    }\n",
              "</style>\n",
              "<table border=\"1\" class=\"dataframe\">\n",
              "  <thead>\n",
              "    <tr style=\"text-align: right;\">\n",
              "      <th></th>\n",
              "      <th>Unnamed: 0</th>\n",
              "      <th>text</th>\n",
              "      <th>Edition</th>\n",
              "      <th>clean_text</th>\n",
              "      <th>clean</th>\n",
              "      <th>Word2Vec Label</th>\n",
              "    </tr>\n",
              "  </thead>\n",
              "  <tbody>\n",
              "    <tr>\n",
              "      <th>0</th>\n",
              "      <td>0</td>\n",
              "      <td>in quello giorno essere impossibile passeggiare .</td>\n",
              "      <td>1</td>\n",
              "      <td>impossibile passeggiare</td>\n",
              "      <td>impossibile passeggiare</td>\n",
              "      <td>2</td>\n",
              "    </tr>\n",
              "    <tr>\n",
              "      <th>1</th>\n",
              "      <td>1</td>\n",
              "      <td>il mattina avere errare per uno ora nel bosche...</td>\n",
              "      <td>1</td>\n",
              "      <td>mattina errare boschetto spogliare foglia pran...</td>\n",
              "      <td>mattina errare boschetto spogliare foglia pran...</td>\n",
              "      <td>1</td>\n",
              "    </tr>\n",
              "  </tbody>\n",
              "</table>\n",
              "</div>"
            ],
            "text/plain": [
              "   Unnamed: 0  ... Word2Vec Label\n",
              "0           0  ...              2\n",
              "1           1  ...              1\n",
              "\n",
              "[2 rows x 6 columns]"
            ]
          },
          "metadata": {},
          "execution_count": 17
        }
      ]
    },
    {
      "cell_type": "code",
      "metadata": {
        "id": "eXPMvoK7opli",
        "colab": {
          "base_uri": "https://localhost:8080/"
        },
        "outputId": "2b6c37a7-e238-4fa4-f7aa-8dd121bb76c5"
      },
      "source": [
        "# How many points belong to each cluster\n",
        "aggdfa.groupby(['Word2Vec Label'])['text'].count()"
      ],
      "execution_count": 18,
      "outputs": [
        {
          "output_type": "execute_result",
          "data": {
            "text/plain": [
              "Word2Vec Label\n",
              "0    3173\n",
              "1    6285\n",
              "2    8063\n",
              "3     495\n",
              "4    1786\n",
              "Name: text, dtype: int64"
            ]
          },
          "metadata": {},
          "execution_count": 18
        }
      ]
    },
    {
      "cell_type": "code",
      "metadata": {
        "id": "j8j4Nito2oaG",
        "colab": {
          "base_uri": "https://localhost:8080/"
        },
        "outputId": "bca5297e-fc26-4e8a-e057-2514dfcdd220"
      },
      "source": [
        "# considers sample of 5 random sentences for cluster 0\n",
        "# amore e matrimonio\n",
        "\n",
        "print(data.iloc[data.groupby(['Word2Vec Label']).groups[0][439]]['text'])\n",
        "print(\"_\" * 70)\n",
        "print(data.iloc[data.groupby(['Word2Vec Label']).groups[0][1203]]['text'])\n",
        "print(\"_\" * 70)\n",
        "print(data.iloc[data.groupby(['Word2Vec Label']).groups[0][2100]]['text'])\n",
        "print(\"_\" * 70)\n",
        "print(data.iloc[data.groupby(['Word2Vec Label']).groups[0][2358]]['text'])\n",
        "print(\"_\" * 70)\n",
        "print(data.iloc[data.groupby(['Word2Vec Label']).groups[0][2128]]['text'])"
      ],
      "execution_count": 91,
      "outputs": [
        {
          "output_type": "stream",
          "name": "stdout",
          "text": [
            "guardandolo attentamente avere uno non sapere che di spiacevole , o meglio mancavagli ciò che essere fare per piacere .\n",
            "______________________________________________________________________\n",
            "avevo fare il mio proposta partire dall' idea che egli volere sposarmi .\n",
            "______________________________________________________________________\n",
            "volere sapere se mi trovare bene a thornfield Hall e che tipo di persona essere il padrona di casa ; quando il dissi che c' essere solo uno padrone , mi chiedere se essere uno bell' uomo e se mi piacere .\n",
            "______________________________________________________________________\n",
            "poco fa avere alludere a qualcosa che essere accadere durante il mio assenza ... nulla di grave , probabilmente , ma che in qualche modo ti avere turbare .\n",
            "______________________________________________________________________\n",
            "ma cosa potere importare a lei , o a chiunque altro , all' infuori di me ?\n"
          ]
        }
      ]
    },
    {
      "cell_type": "code",
      "metadata": {
        "id": "COnviJ7b2n8N",
        "colab": {
          "base_uri": "https://localhost:8080/"
        },
        "outputId": "93caf81c-d990-47db-ccf4-718a8e686189"
      },
      "source": [
        "# considers sample of 5 random sentences for cluster 1\n",
        "# class struggle\n",
        "\n",
        "print(data.iloc[data.groupby(['Word2Vec Label']).groups[1][188]]['text'])\n",
        "print(\"_\" * 70)\n",
        "print(data.iloc[data.groupby(['Word2Vec Label']).groups[1][3]]['text'])\n",
        "print(\"_\" * 70)\n",
        "print(data.iloc[data.groupby(['Word2Vec Label']).groups[1][5892]]['text'])\n",
        "print(\"_\" * 70)\n",
        "print(data.iloc[data.groupby(['Word2Vec Label']).groups[1][420]]['text'])\n",
        "print(\"_\" * 70)\n",
        "print(data.iloc[data.groupby(['Word2Vec Label']).groups[1][2702]]['text'])"
      ],
      "execution_count": 211,
      "outputs": [
        {
          "output_type": "stream",
          "name": "stdout",
          "text": [
            "esse essere vestire quasi come il figlia del povero e guardare il abito di mamma e il miei , come se non avere mai vedere il seta . \"\n",
            "______________________________________________________________________\n",
            "ella mi avere proibire di unire al loro gruppo , dire che deplorare il necessità in cui trovavasi di tenere così lontano , ma che fino al momento in cui bessie non guarentirebbe che mi studiare di acquistare uno carattere molto socievole e molto infantile , maniera molto cortese e qualcosa di molto radioso , di molto aperto , di molto sincero , non potere concedere il stesso privilegio che al bambino allegro e soddisfatto .\n",
            "______________________________________________________________________\n",
            "avere sempre avere il mio io , ancora   intatto , a cui rivolgere e il mio sentimento spontaneo e indomito con cui comunicare nel momento di solitudine .\n",
            "______________________________________________________________________\n",
            "dimenticai allora per uno momento il mio stato per abbandonare a uno vago inquietudine .\n",
            "______________________________________________________________________\n",
            "e quando il brace si incupire spegnendosi , mi svestire in fretta sciogliere come potere nodo e laccio e cercavo riparo dal freddo e dal buio nel mio lettino .\n"
          ]
        }
      ]
    },
    {
      "cell_type": "code",
      "metadata": {
        "id": "z7BqXGxq2iXb",
        "colab": {
          "base_uri": "https://localhost:8080/"
        },
        "outputId": "4d9f6e0b-5e46-40a3-d301-d7c5589b523c"
      },
      "source": [
        "# considers sample of 5 random sentences for cluster 2\n",
        "# religione\n",
        "\n",
        "print(data.iloc[data.groupby(['Word2Vec Label']).groups[2][7651]]['text'])\n",
        "print(\"_\" * 70)\n",
        "print(data.iloc[data.groupby(['Word2Vec Label']).groups[2][5658]]['text'])\n",
        "print(\"_\" * 70)\n",
        "print(data.iloc[data.groupby(['Word2Vec Label']).groups[2][8005]]['text'])\n",
        "print(\"_\" * 70)\n",
        "print(data.iloc[data.groupby(['Word2Vec Label']).groups[2][1322]]['text'])\n",
        "print(\"_\" * 70)\n",
        "print(data.iloc[data.groupby(['Word2Vec Label']).groups[2][2750]]['text'])\n",
        "print(\"_\" * 70)"
      ],
      "execution_count": 137,
      "outputs": [
        {
          "output_type": "stream",
          "name": "stdout",
          "text": [
            "il vittorioso ereditare tutto il cosa ; e io essere il suo dio ed egli essere mio figlio .\n",
            "______________________________________________________________________\n",
            "avere lasciare questo donna con il cuore pieno di odio e amarezza e , adesso , tornare da lei senza altro emozione che uno sorta di pietà per il suo grande sofferenza e uno forte desiderio di dimenticare e perdonare tutto il torto subiti , di potere riconciliare con lei e stringere amichevolmente il mano .\n",
            "______________________________________________________________________\n",
            "avere iniziare a provare rimorso e pentimento , a desiderare di riconciliarmi col mio creatore .\n",
            "______________________________________________________________________\n",
            "parere uno bello ebrea del tempo del patriarca .\n",
            "______________________________________________________________________\n",
            "il intimità che si essere presto stabilire fra il signorina rivers e me , non si essere comunicare a saint-john , forse perché stare poco in casa , dedicare egli uno gran parte di tempo nel visitare il povero e il malato della suo parrocchia .\n",
            "______________________________________________________________________\n"
          ]
        }
      ]
    },
    {
      "cell_type": "code",
      "metadata": {
        "id": "Npib7K5P-upQ",
        "colab": {
          "base_uri": "https://localhost:8080/"
        },
        "outputId": "b411a1ab-f9e1-4df9-8540-90324d22fecb"
      },
      "source": [
        "#considers sample of 5 random sentences for cluster 3\n",
        "\n",
        "print(data.iloc[data.groupby(['Word2Vec Label']).groups[3][4]]['text'])\n",
        "print(\"_\" * 70)\n",
        "print(data.iloc[data.groupby(['Word2Vec Label']).groups[3][426]]['text'])\n",
        "print(\"_\" * 70)\n",
        "print(data.iloc[data.groupby(['Word2Vec Label']).groups[3][124]]['text'])\n",
        "print(\"_\" * 70)\n",
        "print(data.iloc[data.groupby(['Word2Vec Label']).groups[3][44]]['text'])\n",
        "print(\"_\" * 70)\n",
        "print(data.iloc[data.groupby(['Word2Vec Label']).groups[3][12]]['text'])\n",
        "print(\"_\" * 70)\n",
        "print(data.iloc[data.groupby(['Word2Vec Label']).groups[3][111]]['text'])"
      ],
      "execution_count": 186,
      "outputs": [
        {
          "output_type": "stream",
          "name": "stdout",
          "text": [
            "tale essere infatti in quello momento .\n",
            "______________________________________________________________________\n",
            "lo avere fare questo favore ?\n",
            "______________________________________________________________________\n",
            "parte da solo ? \"\n",
            "______________________________________________________________________\n",
            " non fare nulla .\n",
            "______________________________________________________________________\n",
            "non avere paura , spero .\n",
            "______________________________________________________________________\n",
            "\" qualche volta . \"\n"
          ]
        }
      ]
    },
    {
      "cell_type": "code",
      "metadata": {
        "colab": {
          "base_uri": "https://localhost:8080/"
        },
        "id": "7KuYeSZR_zi0",
        "outputId": "77a87c72-8a29-4d52-95ba-c8ea276424c3"
      },
      "source": [
        "# considers sample of 5 random sentences for cluster 4\n",
        "# self discovery\n",
        "\n",
        "print(data.iloc[data.groupby(['Word2Vec Label']).groups[4][1388]]['text'])\n",
        "print(\"_\" * 70)\n",
        "print(data.iloc[data.groupby(['Word2Vec Label']).groups[4][520]]['text'])\n",
        "print(\"_\" * 70)\n",
        "print(data.iloc[data.groupby(['Word2Vec Label']).groups[4][15]]['text'])\n",
        "print(\"_\" * 70)\n",
        "print(data.iloc[data.groupby(['Word2Vec Label']).groups[4][1439]]['text'])\n",
        "print(\"_\" * 70)\n",
        "print(data.iloc[data.groupby(['Word2Vec Label']).groups[4][1726]]['text'])"
      ],
      "execution_count": 172,
      "outputs": [
        {
          "output_type": "stream",
          "name": "stdout",
          "text": [
            "mr rochester avere uno moglie tuttora vivente \" .\n",
            "______________________________________________________________________\n",
            " signor rochester \" \n",
            "\n",
            "  andatevene , ve lo permettere , ma ricordare che mi lasciare nel dolore .\n",
            "______________________________________________________________________\n",
            "che scandaloso condotta , signorina eyre !\n",
            "______________________________________________________________________\n",
            "soltanto uno promessa : ' essere vostro , mr rochester ' . \"\n",
            "______________________________________________________________________\n",
            "\" vi avere dire che essere indipendente , signore , oltre che ricco .\n"
          ]
        }
      ]
    },
    {
      "cell_type": "code",
      "metadata": {
        "id": "wrSUdHnZniSt"
      },
      "source": [
        "Cluster0 = (data.iloc[data.groupby(['Word2Vec Label']).groups[0]])\n",
        "Cluster1 = (data.iloc[data.groupby(['Word2Vec Label']).groups[1]])\n",
        "Cluster2 = (data.iloc[data.groupby(['Word2Vec Label']).groups[2]])\n",
        "Cluster3 = (data.iloc[data.groupby(['Word2Vec Label']).groups[3]])\n",
        "Cluster4 = (data.iloc[data.groupby(['Word2Vec Label']).groups[4]])\n",
        "#Cluster5 = (data.iloc[data.groupby(['Word2Vec Label']).groups[5]])"
      ],
      "execution_count": 24,
      "outputs": []
    },
    {
      "cell_type": "code",
      "metadata": {
        "id": "G9-sRpL8oCku"
      },
      "source": [
        "s = 1\n",
        "Treves_0 = Cluster0[Cluster0['Edition'] == s]\n",
        "Treves_1 = Cluster1[Cluster1['Edition'] == s]\n",
        "Treves_2 = Cluster2[Cluster2['Edition'] == s]\n",
        "Treves_3 = Cluster3[Cluster3['Edition'] == s]\n",
        "Treves_4 = Cluster4[Cluster4['Edition'] == s]\n",
        "#Treves_5 = Cluster5[Cluster5['Edition'] == s]"
      ],
      "execution_count": 25,
      "outputs": []
    },
    {
      "cell_type": "code",
      "metadata": {
        "id": "aZO-JbTJoVp_"
      },
      "source": [
        "s = 2\n",
        "Feltrinelli_0 = Cluster0[Cluster0['Edition'] == s]\n",
        "Feltrinelli_1 = Cluster1[Cluster1['Edition'] == s]\n",
        "Feltrinelli_2 = Cluster2[Cluster2['Edition'] == s]\n",
        "Feltrinelli_3 = Cluster3[Cluster3['Edition'] == s]\n",
        "Feltrinelli_4 = Cluster4[Cluster4['Edition'] == s]\n",
        "#Feltrinelli_5 = Cluster5[Cluster5['Edition'] == s]"
      ],
      "execution_count": 26,
      "outputs": []
    },
    {
      "cell_type": "code",
      "metadata": {
        "id": "neM-F2MxM26X"
      },
      "source": [
        "common_0 = list(set(Treves_0.clean.values).intersection(set(Feltrinelli_0.clean.values)))\n",
        "common_1 = list(set(Treves_1.clean.values).intersection(set(Feltrinelli_1.clean.values)))\n",
        "common_2 = list(set(Treves_2.clean.values).intersection(set(Feltrinelli_2.clean.values)))\n",
        "common_3 = list(set(Treves_3.clean.values).intersection(set(Feltrinelli_3.clean.values)))\n",
        "common_4 = list(set(Treves_4.clean.values).intersection(set(Feltrinelli_4.clean.values)))\n",
        "#common_5 = list(set(Treves_5.clean.values).intersection(set(Feltrinelli_5.clean.values)))"
      ],
      "execution_count": 27,
      "outputs": []
    },
    {
      "cell_type": "code",
      "metadata": {
        "id": "t87FZ_ZCNVAq"
      },
      "source": [
        "uncommon_0 = list(set(Treves_0.clean.values).symmetric_difference(set(Feltrinelli_0.clean.values)))\n",
        "uncommon_1 = list(set(Treves_1.clean.values).symmetric_difference(set(Feltrinelli_1.clean.values)))\n",
        "uncommon_2 = list(set(Treves_2.clean.values).symmetric_difference(set(Feltrinelli_2.clean.values)))\n",
        "uncommon_3 = list(set(Treves_3.clean.values).symmetric_difference(set(Feltrinelli_3.clean.values)))\n",
        "uncommon_4 = list(set(Treves_4.clean.values).symmetric_difference(set(Feltrinelli_4.clean.values)))\n",
        "#uncommon_5 = list(set(Treves_5.clean.values).symmetric_difference(set(Feltrinelli_5.clean.values)))"
      ],
      "execution_count": 28,
      "outputs": []
    },
    {
      "cell_type": "code",
      "metadata": {
        "id": "nu8we8SJN7Dl"
      },
      "source": [
        "tfidf = TfidfVectorizer()\n",
        "#X = Feltrinelli_0.clean\n",
        "X_tfidf = tfidf.fit_transform(Treves_0.clean).toarray()"
      ],
      "execution_count": 29,
      "outputs": []
    },
    {
      "cell_type": "markdown",
      "metadata": {
        "id": "acFOZpagRCz7"
      },
      "source": [
        "CLUSTER 0 - amore e matrimonio"
      ]
    },
    {
      "cell_type": "code",
      "metadata": {
        "id": "BXn-oYg4NjZx",
        "colab": {
          "base_uri": "https://localhost:8080/"
        },
        "outputId": "97514d0a-c7ad-4620-e17c-5e32f3bcc1f3"
      },
      "source": [
        "tfidf = TfidfVectorizer()\n",
        "#X = Feltrinelli_0.clean\n",
        "X_tfidf = tfidf.fit_transform(Treves_0.clean).toarray()\n",
        "feature_array = np.array(tfidf.get_feature_names())\n",
        "tfidf_sorting = np.argsort(X_tfidf).flatten()[::-1]\n",
        "n = 10\n",
        "top_n = feature_array[tfidf_sorting][:n]\n",
        "top_n"
      ],
      "execution_count": 30,
      "outputs": [
        {
          "output_type": "execute_result",
          "data": {
            "text/plain": [
              "array(['felice', 'esistenza', 'edoardo', 'contento', 'amare', 'zio',\n",
              "       'esercitare', 'errore', 'esagerato', 'esaltare'], dtype='<U17')"
            ]
          },
          "metadata": {},
          "execution_count": 30
        }
      ]
    },
    {
      "cell_type": "code",
      "metadata": {
        "id": "4958LpcnOPpn",
        "colab": {
          "base_uri": "https://localhost:8080/"
        },
        "outputId": "f0266539-f811-49f8-ba36-92414564a682"
      },
      "source": [
        "tfidf = TfidfVectorizer()\n",
        "#X = Feltrinelli_0.clean\n",
        "X_tfidf = tfidf.fit_transform(Feltrinelli_0.clean).toarray()\n",
        "feature_array = np.array(tfidf.get_feature_names())\n",
        "tfidf_sorting = np.argsort(X_tfidf).flatten()[::-1]\n",
        "n = 10\n",
        "top_n = feature_array[tfidf_sorting][:n]\n",
        "top_n"
      ],
      "execution_count": 31,
      "outputs": [
        {
          "output_type": "execute_result",
          "data": {
            "text/plain": [
              "array(['chiarezza', 'annunciare', 'presto', 'sì', 'venire', 'errore',\n",
              "       'ercole', 'eternità', 'evidente', 'evidenza'], dtype='<U16')"
            ]
          },
          "metadata": {},
          "execution_count": 31
        }
      ]
    },
    {
      "cell_type": "markdown",
      "metadata": {
        "id": "A_E8TrjoREU3"
      },
      "source": [
        "CLUSTER 1 - class struggle - il ruolo del fuoco e della fiamma corrisponde all'incendio in cui il signor Rochester perderà la mano. Dopo questo evento, lui abbandona l'arroganza legata al suo aspetto fisico e decide di sposare Jane. La profezia e l'annuncio corrispondono alla fortuna che eredita Jane dallo zio morto."
      ]
    },
    {
      "cell_type": "code",
      "metadata": {
        "id": "PjFVap-MOPkG",
        "colab": {
          "base_uri": "https://localhost:8080/"
        },
        "outputId": "694a6126-d7b8-4df8-e76e-707514b72ee0"
      },
      "source": [
        "tfidf = TfidfVectorizer()\n",
        "#X = Feltrinelli_0.clean\n",
        "X_tfidf = tfidf.fit_transform(Treves_1.clean).toarray()\n",
        "feature_array = np.array(tfidf.get_feature_names())\n",
        "tfidf_sorting = np.argsort(X_tfidf).flatten()[::-1]\n",
        "n = 10\n",
        "top_n = feature_array[tfidf_sorting][:n]\n",
        "top_n"
      ],
      "execution_count": 32,
      "outputs": [
        {
          "output_type": "execute_result",
          "data": {
            "text/plain": [
              "array(['liberazione', 'profezia', 'chiaramente', 'attestare', 'avvertire',\n",
              "       'maestro', 'annunziare', 'scrivere', 'étre', 'famiglia'],\n",
              "      dtype='<U17')"
            ]
          },
          "metadata": {},
          "execution_count": 32
        }
      ]
    },
    {
      "cell_type": "code",
      "metadata": {
        "id": "IoqlnKsSRQat",
        "colab": {
          "base_uri": "https://localhost:8080/"
        },
        "outputId": "86bb1509-266b-49ee-b453-ac2dee132f86"
      },
      "source": [
        "tfidf = TfidfVectorizer()\n",
        "#X = Feltrinelli_0.clean\n",
        "X_tfidf = tfidf.fit_transform(Feltrinelli_1.clean).toarray()\n",
        "feature_array = np.array(tfidf.get_feature_names())\n",
        "tfidf_sorting = np.argsort(X_tfidf).flatten()[::-1]\n",
        "n = 10\n",
        "top_n = feature_array[tfidf_sorting][:n]\n",
        "top_n"
      ],
      "execution_count": 33,
      "outputs": [
        {
          "output_type": "execute_result",
          "data": {
            "text/plain": [
              "array(['piangere', 'être', 'fieno', 'fiaccare', 'fiacco', 'fiamma',\n",
              "       'fiammeggiante', 'fiancheggiare', 'fianco', 'fiato'], dtype='<U17')"
            ]
          },
          "metadata": {},
          "execution_count": 33
        }
      ]
    },
    {
      "cell_type": "markdown",
      "metadata": {
        "id": "q5zzseb0RTPk"
      },
      "source": [
        "Cluster 2 - religione"
      ]
    },
    {
      "cell_type": "code",
      "metadata": {
        "id": "1UAf1kEmRQKQ",
        "colab": {
          "base_uri": "https://localhost:8080/"
        },
        "outputId": "4dedac19-31fe-4e88-925a-3985463515f6"
      },
      "source": [
        "tfidf = TfidfVectorizer()\n",
        "#X = Feltrinelli_0.clean\n",
        "X_tfidf = tfidf.fit_transform(Treves_2.clean).toarray()\n",
        "feature_array = np.array(tfidf.get_feature_names())\n",
        "tfidf_sorting = np.argsort(X_tfidf).flatten()[::-1]\n",
        "n = 10\n",
        "top_n = feature_array[tfidf_sorting][:n]\n",
        "top_n"
      ],
      "execution_count": 34,
      "outputs": [
        {
          "output_type": "execute_result",
          "data": {
            "text/plain": [
              "array(['avanzo', 'amen', 'scorrere', 'gesù', 'ardore', 'rapidamente',\n",
              "       'rispondere', 'venire', 'signore', 'esclamare'], dtype='<U18')"
            ]
          },
          "metadata": {},
          "execution_count": 34
        }
      ]
    },
    {
      "cell_type": "code",
      "metadata": {
        "id": "C36trghERWKM",
        "colab": {
          "base_uri": "https://localhost:8080/"
        },
        "outputId": "0e376ad0-683d-44d1-8575-2c46297fee2e"
      },
      "source": [
        "tfidf = TfidfVectorizer()\n",
        "#X = Feltrinelli_0.clean\n",
        "X_tfidf = tfidf.fit_transform(Feltrinelli_2.clean).toarray()\n",
        "feature_array = np.array(tfidf.get_feature_names())\n",
        "tfidf_sorting = np.argsort(X_tfidf).flatten()[::-1]\n",
        "n = 10\n",
        "top_n = feature_array[tfidf_sorting][:n]\n",
        "top_n"
      ],
      "execution_count": 35,
      "outputs": [
        {
          "output_type": "execute_result",
          "data": {
            "text/plain": [
              "array(['amen', 'crescente', 'gesù', 'fervore', 'rispondere', 'signore',\n",
              "       'venire', 'evocare', 'evento', 'evidente'], dtype='<U18')"
            ]
          },
          "metadata": {},
          "execution_count": 35
        }
      ]
    },
    {
      "cell_type": "markdown",
      "metadata": {
        "id": "_k6AgU_WRYyz"
      },
      "source": [
        "Cluster 3"
      ]
    },
    {
      "cell_type": "code",
      "metadata": {
        "id": "TaBErWu8RP7y",
        "colab": {
          "base_uri": "https://localhost:8080/"
        },
        "outputId": "1508c513-3f19-4c9f-f783-73c5a6221484"
      },
      "source": [
        "tfidf = TfidfVectorizer()\n",
        "#X = Feltrinelli_0.clean\n",
        "X_tfidf = tfidf.fit_transform(Treves_3.clean).toarray()\n",
        "feature_array = np.array(tfidf.get_feature_names())\n",
        "tfidf_sorting = np.argsort(X_tfidf).flatten()[::-1]\n",
        "n = 10\n",
        "top_n = feature_array[tfidf_sorting][:n]\n",
        "top_n"
      ],
      "execution_count": 36,
      "outputs": [
        {
          "output_type": "execute_result",
          "data": {
            "text/plain": [
              "array(['ventiquattro', 'spero', 'reggetelo', 'raccontatemelo', 'paura',\n",
              "       'olà', 'matteo', 'jane', 'impacciare', 'divisa'], dtype='<U14')"
            ]
          },
          "metadata": {},
          "execution_count": 36
        }
      ]
    },
    {
      "cell_type": "code",
      "metadata": {
        "id": "v7SqCzQZRbc3",
        "colab": {
          "base_uri": "https://localhost:8080/"
        },
        "outputId": "cacae794-f14d-462d-dee8-5e5cb1443a51"
      },
      "source": [
        "tfidf = TfidfVectorizer()\n",
        "#X = Feltrinelli_0.clean\n",
        "X_tfidf = tfidf.fit_transform(Feltrinelli_3.clean).toarray()\n",
        "feature_array = np.array(tfidf.get_feature_names())\n",
        "tfidf_sorting = np.argsort(X_tfidf).flatten()[::-1]\n",
        "n = 10\n",
        "top_n = feature_array[tfidf_sorting][:n]\n",
        "top_n"
      ],
      "execution_count": 37,
      "outputs": [
        {
          "output_type": "execute_result",
          "data": {
            "text/plain": [
              "array(['uscirono', 'incalzai', 'acconsentii', 'arrabbiatevi', 'asserì',\n",
              "       'diana', 'dick', 'felice', 'grugnì', 'irlanda'], dtype='<U12')"
            ]
          },
          "metadata": {},
          "execution_count": 37
        }
      ]
    },
    {
      "cell_type": "markdown",
      "metadata": {
        "id": "Jj2UCvgQRd5Z"
      },
      "source": [
        "Cluster 4 - self discovery"
      ]
    },
    {
      "cell_type": "code",
      "metadata": {
        "id": "IIwe39vlRf2j",
        "colab": {
          "base_uri": "https://localhost:8080/"
        },
        "outputId": "2493b5eb-cab5-4dc3-e4ec-e006d28f341e"
      },
      "source": [
        "tfidf = TfidfVectorizer()\n",
        "#X = Feltrinelli_0.clean\n",
        "X_tfidf = tfidf.fit_transform(Treves_4.clean).toarray()\n",
        "feature_array = np.array(tfidf.get_feature_names())\n",
        "tfidf_sorting = np.argsort(X_tfidf).flatten()[::-1]\n",
        "n = 10\n",
        "top_n = feature_array[tfidf_sorting][:n]\n",
        "top_n"
      ],
      "execution_count": 38,
      "outputs": [
        {
          "output_type": "execute_result",
          "data": {
            "text/plain": [
              "array(['augurio', 'signorina', 'zitta', 'divenuta', 'domare', 'domani',\n",
              "       'domandare', 'domandai', 'domanda', 'dolore'], dtype='<U16')"
            ]
          },
          "metadata": {},
          "execution_count": 38
        }
      ]
    },
    {
      "cell_type": "code",
      "metadata": {
        "id": "8SnfpzYdRgx4",
        "colab": {
          "base_uri": "https://localhost:8080/"
        },
        "outputId": "fe18334d-569e-44f5-d524-3a2c990075f3"
      },
      "source": [
        "tfidf = TfidfVectorizer()\n",
        "#X = Feltrinelli_0.clean\n",
        "X_tfidf = tfidf.fit_transform(Feltrinelli_4.clean).toarray()\n",
        "feature_array = np.array(tfidf.get_feature_names())\n",
        "tfidf_sorting = np.argsort(X_tfidf).flatten()[::-1]\n",
        "n = 10\n",
        "top_n = feature_array[tfidf_sorting][:n]\n",
        "top_n"
      ],
      "execution_count": 39,
      "outputs": [
        {
          "output_type": "execute_result",
          "data": {
            "text/plain": [
              "array(['avvertire', 'pegno', 'parola', 'signore', 'zona', 'edward',\n",
              "       'esageri', 'ereditiera', 'entrare', 'emozionare'], dtype='<U17')"
            ]
          },
          "metadata": {},
          "execution_count": 39
        }
      ]
    },
    {
      "cell_type": "code",
      "metadata": {
        "id": "LP6FD9xSOPR5"
      },
      "source": [
        ""
      ],
      "execution_count": null,
      "outputs": []
    }
  ]
}